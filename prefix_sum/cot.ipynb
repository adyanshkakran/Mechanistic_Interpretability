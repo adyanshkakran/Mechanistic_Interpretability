{
 "cells": [
  {
   "cell_type": "code",
   "execution_count": 1,
   "metadata": {},
   "outputs": [],
   "source": [
    "import torch\n",
    "import pytorch_lightning as L\n",
    "from pytorch_lightning.callbacks import ModelCheckpoint, EarlyStopping"
   ]
  },
  {
   "cell_type": "code",
   "execution_count": 2,
   "metadata": {},
   "outputs": [],
   "source": [
    "import sys\n",
    "try:\n",
    "    del sys.modules['data_loading']\n",
    "    del sys.modules['transformer_predictor']\n",
    "except:\n",
    "    pass\n",
    "\n",
    "from data_loading import load_data, get_loaders, BracketDataset\n",
    "from transformer_predictor import TransformerPredictor"
   ]
  },
  {
   "cell_type": "code",
   "execution_count": 3,
   "metadata": {},
   "outputs": [
    {
     "data": {
      "application/vnd.jupyter.widget-view+json": {
       "model_id": "5f0de3d322cb47d1962680b195f9c4d1",
       "version_major": 2,
       "version_minor": 0
      },
      "text/plain": [
       "Generating sequences:   0%|          | 0/100000 [00:00<?, ?it/s]"
      ]
     },
     "metadata": {},
     "output_type": "display_data"
    },
    {
     "data": {
      "application/vnd.jupyter.widget-view+json": {
       "model_id": "6f374f8182154444b38a1bc7201d2706",
       "version_major": 2,
       "version_minor": 0
      },
      "text/plain": [
       "Padding sequences:   0%|          | 0/100000 [00:00<?, ?it/s]"
      ]
     },
     "metadata": {},
     "output_type": "display_data"
    }
   ],
   "source": [
    "dataset = load_data('../Data/train-CoT-Big.csv')"
   ]
  },
  {
   "cell_type": "code",
   "execution_count": 4,
   "metadata": {},
   "outputs": [
    {
     "data": {
      "text/plain": [
       "'()()(()):0&)()(()):1&()(()):0&)(()):1&(()):0&()):1&)):2&):1&:0&Y'"
      ]
     },
     "execution_count": 4,
     "metadata": {},
     "output_type": "execute_result"
    }
   ],
   "source": [
    "dataset.generate_output('()()(())')"
   ]
  },
  {
   "cell_type": "code",
   "execution_count": 5,
   "metadata": {},
   "outputs": [
    {
     "data": {
      "text/plain": [
       "'())()():0&))()():1&)()():0&()():#&N'"
      ]
     },
     "execution_count": 5,
     "metadata": {},
     "output_type": "execute_result"
    }
   ],
   "source": [
    "dataset.generate_output('())()()')"
   ]
  },
  {
   "cell_type": "code",
   "execution_count": 6,
   "metadata": {},
   "outputs": [
    {
     "data": {
      "text/plain": [
       "(torch.Size([2330]), torch.Size([2330]))"
      ]
     },
     "execution_count": 6,
     "metadata": {},
     "output_type": "execute_result"
    }
   ],
   "source": [
    "dataset[0][0].shape, dataset[0][1].shape"
   ]
  },
  {
   "cell_type": "code",
   "execution_count": 19,
   "metadata": {},
   "outputs": [],
   "source": [
    "BATCH_SIZE = 8\n",
    "train_loader, val_loader, test_loader, train_data, val_data, test_data = get_loaders(dataset, batch_size=BATCH_SIZE, return_data=True)"
   ]
  },
  {
   "cell_type": "code",
   "execution_count": 20,
   "metadata": {},
   "outputs": [
    {
     "name": "stdout",
     "output_type": "stream",
     "text": [
      "70000 10000 20000 100000\n"
     ]
    }
   ],
   "source": [
    "print(len(train_data), len(val_data), len(test_data), len(dataset))"
   ]
  },
  {
   "cell_type": "code",
   "execution_count": 21,
   "metadata": {},
   "outputs": [],
   "source": [
    "def get_name_from_config(config):\n",
    "    \"\"\"\n",
    "    Convert a config dict to the string under which the corresponding\n",
    "    models and datasets will be saved.\n",
    "    \"\"\"\n",
    "    return f'd_model={config[\"model_dim\"]}-nhead={config[\"num_heads\"]}-nlayers={config[\"num_layers\"]}'"
   ]
  },
  {
   "cell_type": "code",
   "execution_count": 22,
   "metadata": {},
   "outputs": [],
   "source": [
    "config = {\n",
    "    'model_dim': 128,\n",
    "    'num_heads': 8,\n",
    "    'num_layers': 3,\n",
    "    'lr': 1e-3,\n",
    "    'dropout': 0.2,\n",
    "}"
   ]
  },
  {
   "cell_type": "code",
   "execution_count": 23,
   "metadata": {},
   "outputs": [
    {
     "name": "stderr",
     "output_type": "stream",
     "text": [
      "GPU available: True (cuda), used: True\n",
      "TPU available: False, using: 0 TPU cores\n",
      "IPU available: False, using: 0 IPUs\n",
      "HPU available: False, using: 0 HPUs\n"
     ]
    }
   ],
   "source": [
    "model = TransformerPredictor(\n",
    "    input_dim=18,\n",
    "    model_dim=config['model_dim'],\n",
    "    num_heads=config['num_heads'],\n",
    "    num_layers=config['num_layers'],\n",
    "    lr=config['lr'],\n",
    "    dropout=config['dropout'],\n",
    ")\n",
    "name = get_name_from_config(config)\n",
    "early_stopping =  EarlyStopping(monitor='val_loss', patience=3)\n",
    "model_checkpoint = ModelCheckpoint(monitor='val_loss', save_top_k=5, dirpath='models/', filename=name)\n",
    "trainer = L.Trainer(max_epochs=1, devices=1, callbacks=[early_stopping, model_checkpoint])"
   ]
  },
  {
   "cell_type": "code",
   "execution_count": 24,
   "metadata": {},
   "outputs": [
    {
     "name": "stderr",
     "output_type": "stream",
     "text": [
      "LOCAL_RANK: 0 - CUDA_VISIBLE_DEVICES: [0]\n",
      "\n",
      "  | Name      | Type             | Params\n",
      "-----------------------------------------------\n",
      "0 | model     | TransformerLM    | 303 K \n",
      "1 | criterion | CrossEntropyLoss | 0     \n",
      "-----------------------------------------------\n",
      "303 K     Trainable params\n",
      "0         Non-trainable params\n",
      "303 K     Total params\n",
      "1.214     Total estimated model params size (MB)\n"
     ]
    },
    {
     "data": {
      "application/vnd.jupyter.widget-view+json": {
       "model_id": "4cda949fce2445f8a55976f57382ddde",
       "version_major": 2,
       "version_minor": 0
      },
      "text/plain": [
       "Sanity Checking: |          | 0/? [00:00<?, ?it/s]"
      ]
     },
     "metadata": {},
     "output_type": "display_data"
    },
    {
     "data": {
      "application/vnd.jupyter.widget-view+json": {
       "model_id": "a7699f117f8b4e369c3effef347c38cb",
       "version_major": 2,
       "version_minor": 0
      },
      "text/plain": [
       "Training: |          | 0/? [00:00<?, ?it/s]"
      ]
     },
     "metadata": {},
     "output_type": "display_data"
    },
    {
     "data": {
      "application/vnd.jupyter.widget-view+json": {
       "model_id": "01917e16e3b8469b98496a827c1df645",
       "version_major": 2,
       "version_minor": 0
      },
      "text/plain": [
       "Validation: |          | 0/? [00:00<?, ?it/s]"
      ]
     },
     "metadata": {},
     "output_type": "display_data"
    },
    {
     "name": "stderr",
     "output_type": "stream",
     "text": [
      "`Trainer.fit` stopped: `max_epochs=1` reached.\n"
     ]
    }
   ],
   "source": [
    "trainer.fit(model, train_loader, val_loader)"
   ]
  },
  {
   "cell_type": "code",
   "execution_count": 25,
   "metadata": {},
   "outputs": [
    {
     "name": "stderr",
     "output_type": "stream",
     "text": [
      "LOCAL_RANK: 0 - CUDA_VISIBLE_DEVICES: [0]\n"
     ]
    },
    {
     "data": {
      "application/vnd.jupyter.widget-view+json": {
       "model_id": "31a3d75d2e0342688b3d9906be65662c",
       "version_major": 2,
       "version_minor": 0
      },
      "text/plain": [
       "Testing: |          | 0/? [00:00<?, ?it/s]"
      ]
     },
     "metadata": {},
     "output_type": "display_data"
    },
    {
     "name": "stderr",
     "output_type": "stream",
     "text": [
      "/home2/adyansh/dinner_pool/rsai/lib/python3.10/site-packages/pytorch_lightning/trainer/call.py:54: Detected KeyboardInterrupt, attempting graceful shutdown...\n"
     ]
    }
   ],
   "source": [
    "trainer.test(model, test_loader)"
   ]
  },
  {
   "cell_type": "code",
   "execution_count": null,
   "metadata": {},
   "outputs": [],
   "source": [
    "model = TransformerPredictor.load_from_checkpoint('models/retrain-d_model=128-nhead=8-nlayers=3.ckpt')"
   ]
  },
  {
   "cell_type": "code",
   "execution_count": null,
   "metadata": {},
   "outputs": [
    {
     "name": "stdout",
     "output_type": "stream",
     "text": [
      "()&((((()))()))(((()(((()()))))))(((())(()(((()((()()))(((())(((&(((((()))()))(((()(((()()))))))(((())(()(((()((()()))(((())(((&((((())()))(((()(((()()))))))(((())(()(((()((()()))(((())(((&(((()()))(((()(((()()))))))(((())(()(((()((()()))(((())(((&(((()))(((()(((()()))))))(((())(()(((()((()()))(((())(((&((())(((()(((()()))))))(((())(()(((()((()()))(((())(((&(()(((()(((()()))))))(((())(()(((()((()()))(((())(((&((((()(((()()))))))(((())(()(((()((()()))(((())(((&(((((((()()))))))(((())(()(((()((()()))(((())(((&(((((((()))))))(((())(()(((()((()()))(((())(((&((((((())))))(((())(()(((()((()()))(((())(((&(((((()))))(((())(()(((()((()()))(((())(((&((((())))(((())(()(((()((()()))(((())(((&(((()))(((())(()(((()((()()))(((())(((&((())(((())(()(((()((()()))(((())(((&(()(((())(()(((()((()()))(((())(((&((((())(()(((()((()()))(((())(((&(((()(()(((()((()()))(((())(((&((((()(((()((()()))(((())(((&(((((((()((()()))(((())(((&(((((((((()()))(((())(((&(((((((((()))(((())(((&((((((((())(((())(((&(((((((()(((())(((&((((((((((())(((&(((((((((()(((&((((((((((((&N"
     ]
    }
   ],
   "source": [
    "seq = '()&'\n",
    "ctoi = {c: i for i, c in enumerate('()&YNP')}\n",
    "itoc = {i: c for c, i in ctoi.items()}\n",
    "\n",
    "src = torch.Tensor([ctoi[c] for c in seq]).long().unsqueeze(0).to(model.device)\n",
    "\n",
    "out, eos = model.model.complete_sequence(src)\n",
    "out = out.cpu().detach().numpy().tolist()\n",
    "\n",
    "for i in out[0]:\n",
    "    print(itoc[i], end='')"
   ]
  },
  {
   "cell_type": "code",
   "execution_count": null,
   "metadata": {},
   "outputs": [],
   "source": []
  }
 ],
 "metadata": {
  "kernelspec": {
   "display_name": "Python 3",
   "language": "python",
   "name": "python3"
  },
  "language_info": {
   "codemirror_mode": {
    "name": "ipython",
    "version": 3
   },
   "file_extension": ".py",
   "mimetype": "text/x-python",
   "name": "python",
   "nbconvert_exporter": "python",
   "pygments_lexer": "ipython3",
   "version": "3.10.13"
  }
 },
 "nbformat": 4,
 "nbformat_minor": 2
}
