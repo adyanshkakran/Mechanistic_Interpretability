{
 "cells": [
  {
   "cell_type": "code",
   "execution_count": 50,
   "metadata": {},
   "outputs": [],
   "source": [
    "import random\n",
    "from tqdm.notebook import tqdm\n",
    "import multiprocessing\n",
    "import pandas as pd"
   ]
  },
  {
   "cell_type": "code",
   "execution_count": 69,
   "metadata": {},
   "outputs": [],
   "source": [
    "def generate_balanced_brackets(n, min_depth, max_depth):\n",
    "    sequence = ''\n",
    "    stack = []\n",
    "    \n",
    "    # for i in range(min_depth):\n",
    "    #     sequence += '('\n",
    "    #     stack.append('(')\n",
    "    start = random.randint(0, n - 2*min_depth)\n",
    "    # print(start)\n",
    "    \n",
    "    for i in range(n):\n",
    "        if i > start and i < start + min_depth and max_depth > len(stack):\n",
    "            sequence += '('\n",
    "            stack.append('(')\n",
    "            continue\n",
    "        open_or_close = random.choice([0, 1]) and stack\n",
    "        left = n - i\n",
    "        # print(left, n, i, min_depth)\n",
    "        if left < len(stack) or (not open_or_close and len(stack) == left) or len(stack) == max_depth:\n",
    "            open_or_close = 1\n",
    "        if open_or_close:\n",
    "            sequence += ')'\n",
    "            stack.pop()\n",
    "        else:\n",
    "            sequence += '('\n",
    "            stack.append('(')\n",
    "    \n",
    "    return sequence\n",
    "\n",
    "def is_balanced(s):\n",
    "    stack = []\n",
    "    max_depth = 0\n",
    "    count = 0\n",
    "    \n",
    "    for bracket in s:\n",
    "        if bracket == ')':\n",
    "            if stack:\n",
    "                stack.pop()\n",
    "            else:\n",
    "                stack.append(bracket)\n",
    "                break\n",
    "        else:\n",
    "            stack.append(bracket)\n",
    "            max_depth = max(max_depth, len(stack))\n",
    "    \n",
    "    for bracket in s:\n",
    "        if bracket == '(':\n",
    "            count += 1\n",
    "        else:\n",
    "            count -= 1\n",
    "                \n",
    "    if stack:\n",
    "        return -1 * max_depth, count\n",
    "    return max_depth, count\n",
    "\n",
    "def generate_bracket_sequence(n, depth):\n",
    "    brackets = ['(', ')']\n",
    "    start = random.randint(0, n - depth)\n",
    "    max_depth = 0\n",
    "    stack = []\n",
    "    \n",
    "    sequence = '('\n",
    "    for i in range(n-1):\n",
    "        if i > start and i < start + depth:\n",
    "            sequence += '('\n",
    "            stack.append('(')\n",
    "            continue\n",
    "        if len(stack) < depth:\n",
    "            sequence += random.choice(brackets)\n",
    "            stack.append(sequence[-1])\n",
    "        else:\n",
    "            sequence += ')'\n",
    "            stack.pop()\n",
    "        if sequence[-1] == '(':\n",
    "            stack.append('(')\n",
    "        max_depth = max(max_depth, len(stack))\n",
    "    if is_balanced(sequence)[1] == 0:\n",
    "        return sequence\n",
    "    else:\n",
    "        return sequence + random.choice(brackets)\n",
    "    # seq = generate_balanced_brackets(n, depth, depth)\n",
    "    # bal = is_balanced(seq)\n",
    "    # while bal[0] != -1*depth:\n",
    "    #     seq2 = seq\n",
    "    #     index = random.randint(0, n-1)\n",
    "    #     if seq[index] == '(':\n",
    "    #         seq2 = seq[:index] + ')' + seq[index+1:]\n",
    "    #     else:\n",
    "    #         seq2 = seq[:index] + '(' + seq[index+1:]\n",
    "    #     bal = is_balanced(seq2)\n",
    "    # return seq2\n"
   ]
  },
  {
   "cell_type": "code",
   "execution_count": 88,
   "metadata": {},
   "outputs": [
    {
     "name": "stdout",
     "output_type": "stream",
     "text": [
      "(-2, -53) (()()())))())))())))))))))))))())))())())))))()))(((()))))))())))())())())())))))())))())())()))))))(\n"
     ]
    }
   ],
   "source": [
    "# for _ in range(100):\n",
    "s = generate_bracket_sequence(100, 5)\n",
    "    # if is_balanced(s)[0] != -5:\n",
    "print(is_balanced(s), s)"
   ]
  },
  {
   "cell_type": "code",
   "execution_count": 89,
   "metadata": {},
   "outputs": [
    {
     "name": "stdout",
     "output_type": "stream",
     "text": [
      "(1, 0) ()()()()()()()()()()()()()()()()()()()()()()()()()()()()()()()()()()()()()()()()()()()()()()()()()()\n"
     ]
    }
   ],
   "source": [
    "s = generate_balanced_brackets(100, 1, 1)\n",
    "print(is_balanced(s), s)"
   ]
  },
  {
   "cell_type": "code",
   "execution_count": 90,
   "metadata": {},
   "outputs": [
    {
     "name": "stdout",
     "output_type": "stream",
     "text": [
      "Generating sequences in the following stack depths: [2, 3, 4, 5, 6, 7, 8, 9, 10, 20, 30, 40, 50, 60, 70, 80, 90, 100]\n"
     ]
    },
    {
     "data": {
      "application/vnd.jupyter.widget-view+json": {
       "model_id": "993491f3ae61472bb732874e377d2bae",
       "version_major": 2,
       "version_minor": 0
      },
      "text/plain": [
       "  0%|          | 0/18 [00:00<?, ?it/s]"
      ]
     },
     "metadata": {},
     "output_type": "display_data"
    }
   ],
   "source": [
    "\n",
    "balanced_df = pd.DataFrame(columns=['sequence', 'stack_depth', 'count'])\n",
    "\n",
    "seqs = [0 for i in range(400)]\n",
    "\n",
    "generated_seqs = set()\n",
    "\n",
    "gen = [i for i in range(2, 10)] + [i for i in range(10, 101, 10)]\n",
    "print(f'Generating sequences in the following stack depths: {gen}')\n",
    "\n",
    "for j in tqdm(gen):\n",
    "    while True:\n",
    "        length = 512\n",
    "        \n",
    "        sequence = generate_balanced_brackets(length, j, j)\n",
    "        balanced, count = is_balanced(sequence)\n",
    "        \n",
    "        if seqs[balanced] == 1000 or sequence in generated_seqs or balanced not in gen:\n",
    "            continue\n",
    "            \n",
    "        seqs[balanced] += 1\n",
    "        \n",
    "        balanced_df.loc[len(balanced_df)] = [sequence, balanced, count]\n",
    "        generated_seqs.add(sequence)\n",
    "        \n",
    "        if seqs[j] >= 1000:\n",
    "            break\n",
    "    # print(seqs)"
   ]
  },
  {
   "cell_type": "code",
   "execution_count": 91,
   "metadata": {},
   "outputs": [
    {
     "name": "stdout",
     "output_type": "stream",
     "text": [
      "18000\n"
     ]
    },
    {
     "data": {
      "text/html": [
       "<div>\n",
       "<style scoped>\n",
       "    .dataframe tbody tr th:only-of-type {\n",
       "        vertical-align: middle;\n",
       "    }\n",
       "\n",
       "    .dataframe tbody tr th {\n",
       "        vertical-align: top;\n",
       "    }\n",
       "\n",
       "    .dataframe thead th {\n",
       "        text-align: right;\n",
       "    }\n",
       "</style>\n",
       "<table border=\"1\" class=\"dataframe\">\n",
       "  <thead>\n",
       "    <tr style=\"text-align: right;\">\n",
       "      <th></th>\n",
       "      <th>sequence</th>\n",
       "      <th>stack_depth</th>\n",
       "      <th>count</th>\n",
       "    </tr>\n",
       "  </thead>\n",
       "  <tbody>\n",
       "    <tr>\n",
       "      <th>0</th>\n",
       "      <td>()(()())()(()()())(())()()()(())()(())(())(())...</td>\n",
       "      <td>2</td>\n",
       "      <td>0</td>\n",
       "    </tr>\n",
       "    <tr>\n",
       "      <th>1</th>\n",
       "      <td>()()()(())(()()())(())(())()(())(()()())(())()...</td>\n",
       "      <td>2</td>\n",
       "      <td>0</td>\n",
       "    </tr>\n",
       "    <tr>\n",
       "      <th>2</th>\n",
       "      <td>()(())(())(()()())()(()())(()())(())(()())()()...</td>\n",
       "      <td>2</td>\n",
       "      <td>0</td>\n",
       "    </tr>\n",
       "    <tr>\n",
       "      <th>3</th>\n",
       "      <td>(())()()(())(())()()()()()(()())(()())()()()()...</td>\n",
       "      <td>2</td>\n",
       "      <td>0</td>\n",
       "    </tr>\n",
       "    <tr>\n",
       "      <th>4</th>\n",
       "      <td>()(()())(()()()()())(())(())()()()()(())(()())...</td>\n",
       "      <td>2</td>\n",
       "      <td>0</td>\n",
       "    </tr>\n",
       "  </tbody>\n",
       "</table>\n",
       "</div>"
      ],
      "text/plain": [
       "                                            sequence  stack_depth  count\n",
       "0  ()(()())()(()()())(())()()()(())()(())(())(())...            2      0\n",
       "1  ()()()(())(()()())(())(())()(())(()()())(())()...            2      0\n",
       "2  ()(())(())(()()())()(()())(()())(())(()())()()...            2      0\n",
       "3  (())()()(())(())()()()()()(()())(()())()()()()...            2      0\n",
       "4  ()(()())(()()()()())(())(())()()()()(())(()())...            2      0"
      ]
     },
     "execution_count": 91,
     "metadata": {},
     "output_type": "execute_result"
    }
   ],
   "source": [
    "print(len(balanced_df))\n",
    "balanced_df.head()"
   ]
  },
  {
   "cell_type": "code",
   "execution_count": 93,
   "metadata": {},
   "outputs": [
    {
     "data": {
      "application/vnd.jupyter.widget-view+json": {
       "model_id": "781228debd104e46b2faa33900dc71e3",
       "version_major": 2,
       "version_minor": 0
      },
      "text/plain": [
       "  0%|          | 0/18 [00:00<?, ?it/s]"
      ]
     },
     "metadata": {},
     "output_type": "display_data"
    },
    {
     "name": "stdout",
     "output_type": "stream",
     "text": [
      "18000\n"
     ]
    }
   ],
   "source": [
    "\n",
    "unbalanced_data = []\n",
    "for index, i in tqdm(enumerate(gen), total=len(gen)):\n",
    "    while len(unbalanced_data) < 1000*(index+1):\n",
    "        sequence = generate_bracket_sequence(512, i)\n",
    "        balanced, count = is_balanced(sequence)\n",
    "        # if balanced != -1*i:\n",
    "            # print(i, end=' ')\n",
    "            # continue\n",
    "        unbalanced_data.append(sequence)\n",
    "        \n",
    "    # print(len(unbalanced_data))\n",
    "\n",
    "print(len(unbalanced_data))\n",
    "unbalanced_stack_depth = [ is_balanced(sequence) for sequence in unbalanced_data ]\n",
    "\n",
    "unbalanced_count = [x[1] for x in unbalanced_stack_depth]\n",
    "unbalanced_stack_depth = [x[0] for x in unbalanced_stack_depth]"
   ]
  },
  {
   "cell_type": "code",
   "execution_count": 94,
   "metadata": {},
   "outputs": [],
   "source": [
    "\n",
    "unbalanced_df = pd.DataFrame({'sequence': unbalanced_data, 'stack_depth': unbalanced_stack_depth, 'count': unbalanced_count}, columns=['sequence', 'stack_depth', 'count'])"
   ]
  },
  {
   "cell_type": "code",
   "execution_count": 95,
   "metadata": {},
   "outputs": [],
   "source": [
    "bracket_data = pd.concat([balanced_df, unbalanced_df], ignore_index=True)\n",
    "\n",
    "bracket_data = bracket_data.sample(frac=1).reset_index(drop=True)"
   ]
  },
  {
   "cell_type": "code",
   "execution_count": 96,
   "metadata": {},
   "outputs": [
    {
     "data": {
      "text/html": [
       "<div>\n",
       "<style scoped>\n",
       "    .dataframe tbody tr th:only-of-type {\n",
       "        vertical-align: middle;\n",
       "    }\n",
       "\n",
       "    .dataframe tbody tr th {\n",
       "        vertical-align: top;\n",
       "    }\n",
       "\n",
       "    .dataframe thead th {\n",
       "        text-align: right;\n",
       "    }\n",
       "</style>\n",
       "<table border=\"1\" class=\"dataframe\">\n",
       "  <thead>\n",
       "    <tr style=\"text-align: right;\">\n",
       "      <th></th>\n",
       "      <th>sequence</th>\n",
       "      <th>stack_depth</th>\n",
       "      <th>count</th>\n",
       "    </tr>\n",
       "  </thead>\n",
       "  <tbody>\n",
       "    <tr>\n",
       "      <th>0</th>\n",
       "      <td>((()()))(((()()(()()))(())())())))()))())))))(...</td>\n",
       "      <td>-5</td>\n",
       "      <td>-221</td>\n",
       "    </tr>\n",
       "    <tr>\n",
       "      <th>1</th>\n",
       "      <td>(()(((()()(())(((())())))))())((()(((()))())((...</td>\n",
       "      <td>9</td>\n",
       "      <td>0</td>\n",
       "    </tr>\n",
       "    <tr>\n",
       "      <th>2</th>\n",
       "      <td>(())(())()()()()()(((()))(()(()))(()()(()()()(...</td>\n",
       "      <td>4</td>\n",
       "      <td>0</td>\n",
       "    </tr>\n",
       "    <tr>\n",
       "      <th>3</th>\n",
       "      <td>()())()()()())))((((())))())(((()()()(()((((()...</td>\n",
       "      <td>-1</td>\n",
       "      <td>-175</td>\n",
       "    </tr>\n",
       "    <tr>\n",
       "      <th>4</th>\n",
       "      <td>())()((((()))()))())())))))())))())))))())))()...</td>\n",
       "      <td>-1</td>\n",
       "      <td>-273</td>\n",
       "    </tr>\n",
       "    <tr>\n",
       "      <th>...</th>\n",
       "      <td>...</td>\n",
       "      <td>...</td>\n",
       "      <td>...</td>\n",
       "    </tr>\n",
       "    <tr>\n",
       "      <th>35995</th>\n",
       "      <td>(()())())))())())))())))())))())())))())())())...</td>\n",
       "      <td>-2</td>\n",
       "      <td>-299</td>\n",
       "    </tr>\n",
       "    <tr>\n",
       "      <th>35996</th>\n",
       "      <td>()()()()(())(()()())()()(())()()()()()()(()())...</td>\n",
       "      <td>2</td>\n",
       "      <td>0</td>\n",
       "    </tr>\n",
       "    <tr>\n",
       "      <th>35997</th>\n",
       "      <td>()()((()())()(())()(())(())())()(()(()()()())(...</td>\n",
       "      <td>3</td>\n",
       "      <td>0</td>\n",
       "    </tr>\n",
       "    <tr>\n",
       "      <th>35998</th>\n",
       "      <td>((())))))())())))())))())))())())))())))()))))...</td>\n",
       "      <td>-3</td>\n",
       "      <td>-303</td>\n",
       "    </tr>\n",
       "    <tr>\n",
       "      <th>35999</th>\n",
       "      <td>()()(()((()((())()(()()))))()(((()(()())()()()...</td>\n",
       "      <td>80</td>\n",
       "      <td>0</td>\n",
       "    </tr>\n",
       "  </tbody>\n",
       "</table>\n",
       "<p>36000 rows × 3 columns</p>\n",
       "</div>"
      ],
      "text/plain": [
       "                                                sequence  stack_depth  count\n",
       "0      ((()()))(((()()(()()))(())())())))()))())))))(...           -5   -221\n",
       "1      (()(((()()(())(((())())))))())((()(((()))())((...            9      0\n",
       "2      (())(())()()()()()(((()))(()(()))(()()(()()()(...            4      0\n",
       "3      ()())()()()())))((((())))())(((()()()(()((((()...           -1   -175\n",
       "4      ())()((((()))()))())())))))())))())))))())))()...           -1   -273\n",
       "...                                                  ...          ...    ...\n",
       "35995  (()())())))())())))())))())))())())))())())())...           -2   -299\n",
       "35996  ()()()()(())(()()())()()(())()()()()()()(()())...            2      0\n",
       "35997  ()()((()())()(())()(())(())())()(()(()()()())(...            3      0\n",
       "35998  ((())))))())())))())))())))())())))())))()))))...           -3   -303\n",
       "35999  ()()(()((()((())()(()()))))()(((()(()())()()()...           80      0\n",
       "\n",
       "[36000 rows x 3 columns]"
      ]
     },
     "execution_count": 96,
     "metadata": {},
     "output_type": "execute_result"
    }
   ],
   "source": [
    "bracket_data"
   ]
  },
  {
   "cell_type": "code",
   "execution_count": 97,
   "metadata": {},
   "outputs": [
    {
     "data": {
      "text/plain": [
       "-122"
      ]
     },
     "execution_count": 97,
     "metadata": {},
     "output_type": "execute_result"
    }
   ],
   "source": [
    "# find minimum stack depth\n",
    "min_stack_depth = bracket_data['stack_depth'].min()\n",
    "\n",
    "min_stack_depth"
   ]
  },
  {
   "cell_type": "code",
   "execution_count": 98,
   "metadata": {},
   "outputs": [
    {
     "data": {
      "text/plain": [
       "100"
      ]
     },
     "execution_count": 98,
     "metadata": {},
     "output_type": "execute_result"
    }
   ],
   "source": [
    "max_stack_depth = bracket_data['stack_depth'].max()\n",
    "\n",
    "max_stack_depth"
   ]
  },
  {
   "cell_type": "code",
   "execution_count": 99,
   "metadata": {},
   "outputs": [],
   "source": [
    "bracket_data.to_csv('balanced_brackets.csv', index=False)"
   ]
  },
  {
   "cell_type": "code",
   "execution_count": 20,
   "metadata": {},
   "outputs": [],
   "source": [
    "def generate_no_count(n):\n",
    "    sequence = ['(' for i in range(n//2)] + [')' for i in range(n//2)]\n",
    "    sequence = ''.join(sequence)\n",
    "    # print(sequence, is_balanced(sequence))\n",
    "    while is_balanced(sequence)[0] > 0:\n",
    "        # randomly shuffle the sequence\n",
    "        sequence = ''.join(random.sample(sequence, len(sequence)))\n",
    "    return sequence"
   ]
  },
  {
   "cell_type": "code",
   "execution_count": 48,
   "metadata": {},
   "outputs": [
    {
     "data": {
      "text/plain": [
       "((-1, 0), '())())()((')"
      ]
     },
     "execution_count": 48,
     "metadata": {},
     "output_type": "execute_result"
    }
   ],
   "source": [
    "s = generate_no_count(10)\n",
    "is_balanced(s), s"
   ]
  },
  {
   "cell_type": "code",
   "execution_count": 104,
   "metadata": {},
   "outputs": [
    {
     "data": {
      "application/vnd.jupyter.widget-view+json": {
       "model_id": "c15db54737ba4961b6644b9d6496f6b5",
       "version_major": 2,
       "version_minor": 0
      },
      "text/plain": [
       "  0%|          | 0/4000 [00:00<?, ?it/s]"
      ]
     },
     "metadata": {},
     "output_type": "display_data"
    }
   ],
   "source": [
    "no_count_data = []\n",
    "for i in tqdm(range(4000)):\n",
    "    sequence = generate_no_count(512)\n",
    "    no_count_data.append(sequence)\n",
    "    \n",
    "no_count_stack_depth = [ is_balanced(sequence) for sequence in no_count_data ]\n",
    "\n",
    "no_count_count = [x[1] for x in no_count_stack_depth]\n",
    "no_count_stack_depth = [x[0] for x in no_count_stack_depth]\n",
    "\n",
    "no_count_df = pd.DataFrame({'sequence': no_count_data, 'stack_depth': no_count_stack_depth, 'count': no_count_count}, columns=['sequence', 'stack_depth', 'count'])"
   ]
  },
  {
   "cell_type": "code",
   "execution_count": 105,
   "metadata": {},
   "outputs": [
    {
     "data": {
      "text/html": [
       "<div>\n",
       "<style scoped>\n",
       "    .dataframe tbody tr th:only-of-type {\n",
       "        vertical-align: middle;\n",
       "    }\n",
       "\n",
       "    .dataframe tbody tr th {\n",
       "        vertical-align: top;\n",
       "    }\n",
       "\n",
       "    .dataframe thead th {\n",
       "        text-align: right;\n",
       "    }\n",
       "</style>\n",
       "<table border=\"1\" class=\"dataframe\">\n",
       "  <thead>\n",
       "    <tr style=\"text-align: right;\">\n",
       "      <th></th>\n",
       "      <th>sequence</th>\n",
       "      <th>stack_depth</th>\n",
       "      <th>count</th>\n",
       "    </tr>\n",
       "  </thead>\n",
       "  <tbody>\n",
       "    <tr>\n",
       "      <th>0</th>\n",
       "      <td>))()((((()((((())())((())()((()()())(())))()((...</td>\n",
       "      <td>0</td>\n",
       "      <td>0</td>\n",
       "    </tr>\n",
       "    <tr>\n",
       "      <th>1</th>\n",
       "      <td>))(()))(()))(())(((()()((()))(())(()(())(()(((...</td>\n",
       "      <td>0</td>\n",
       "      <td>0</td>\n",
       "    </tr>\n",
       "    <tr>\n",
       "      <th>2</th>\n",
       "      <td>)(((()(((()())())((()()(((()()()))())(()(())((...</td>\n",
       "      <td>0</td>\n",
       "      <td>0</td>\n",
       "    </tr>\n",
       "    <tr>\n",
       "      <th>3</th>\n",
       "      <td>()))((()())(())))))))(((()(()))())))()(())((()...</td>\n",
       "      <td>-1</td>\n",
       "      <td>0</td>\n",
       "    </tr>\n",
       "    <tr>\n",
       "      <th>4</th>\n",
       "      <td>)((()))))()))))((())(()())(())((())()))()))(()...</td>\n",
       "      <td>0</td>\n",
       "      <td>0</td>\n",
       "    </tr>\n",
       "  </tbody>\n",
       "</table>\n",
       "</div>"
      ],
      "text/plain": [
       "                                            sequence  stack_depth  count\n",
       "0  ))()((((()((((())())((())()((()()())(())))()((...            0      0\n",
       "1  ))(()))(()))(())(((()()((()))(())(()(())(()(((...            0      0\n",
       "2  )(((()(((()())())((()()(((()()()))())(()(())((...            0      0\n",
       "3  ()))((()())(())))))))(((()(()))())))()(())((()...           -1      0\n",
       "4  )((()))))()))))((())(()())(())((())()))()))(()...            0      0"
      ]
     },
     "execution_count": 105,
     "metadata": {},
     "output_type": "execute_result"
    }
   ],
   "source": [
    "no_count_df.head()"
   ]
  },
  {
   "cell_type": "code",
   "execution_count": 102,
   "metadata": {},
   "outputs": [],
   "source": [
    "no_count_df.to_csv('no_count.csv', index=False)"
   ]
  },
  {
   "cell_type": "code",
   "execution_count": 106,
   "metadata": {},
   "outputs": [],
   "source": [
    "# append bracket data and no count data\n",
    "combined_df = pd.concat([bracket_data, no_count_df], ignore_index=True)\n",
    "\n",
    "combined_df = combined_df.sample(frac=1).reset_index(drop=True)\n",
    "\n",
    "combined_df.to_csv('balanced_with_no_count.csv', index=False)"
   ]
  }
 ],
 "metadata": {
  "kernelspec": {
   "display_name": "Python 3",
   "language": "python",
   "name": "python3"
  },
  "language_info": {
   "codemirror_mode": {
    "name": "ipython",
    "version": 3
   },
   "file_extension": ".py",
   "mimetype": "text/x-python",
   "name": "python",
   "nbconvert_exporter": "python",
   "pygments_lexer": "ipython3",
   "version": "3.10.13"
  }
 },
 "nbformat": 4,
 "nbformat_minor": 2
}
