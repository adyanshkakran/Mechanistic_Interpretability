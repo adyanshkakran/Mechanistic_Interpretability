{
 "cells": [
  {
   "cell_type": "code",
   "execution_count": 2,
   "metadata": {},
   "outputs": [],
   "source": [
    "import random"
   ]
  },
  {
   "cell_type": "code",
   "execution_count": 32,
   "metadata": {},
   "outputs": [],
   "source": [
    "def generate_balanced_brackets(n, max_depth):\n",
    "    brackets = ['(', ')']\n",
    "    map = {'(': ')'}\n",
    "    sequence = ''\n",
    "    stack = []\n",
    "    \n",
    "    for i in range(n):\n",
    "        open_or_close = random.choice([0, 1]) and stack\n",
    "        if n-i < len(stack) or (not open_or_close and len(stack) == n-i) or len(stack) == max_depth:\n",
    "            open_or_close = 1\n",
    "        if open_or_close:\n",
    "            sequence += map[stack.pop()]\n",
    "        else:\n",
    "            bracket = '('\n",
    "            sequence += bracket\n",
    "            if bracket in map:\n",
    "                stack.append(bracket)\n",
    "    \n",
    "    return sequence\n",
    "\n",
    "def is_balanced(s):\n",
    "    stack = []\n",
    "    brackets = {')': '('}\n",
    "    max_depth = 0\n",
    "    count = 0\n",
    "    \n",
    "    for bracket in s:\n",
    "        if bracket in brackets:\n",
    "            if stack:\n",
    "                stack.pop()\n",
    "            else :\n",
    "                break\n",
    "        else:\n",
    "            stack.append(bracket)\n",
    "            max_depth = max(max_depth, len(stack))\n",
    "            \n",
    "    for bracket in s:\n",
    "        if bracket == '(':\n",
    "            count += 1\n",
    "        else:\n",
    "            count -= 1\n",
    "    \n",
    "    return (-1*max_depth) if stack else max_depth, count\n",
    "\n",
    "def generate_bracket_sequence(n):\n",
    "    brackets = ['(', ')']\n",
    "    sequence = ''\n",
    "    \n",
    "    for _ in range(n):\n",
    "        sequence += random.choice(brackets)\n",
    "    # print('Sequence:', sequence)\n",
    "    \n",
    "    if is_balanced(sequence)[0] > 0:\n",
    "        sequence = generate_bracket_sequence(n)\n",
    "    \n",
    "    return sequence"
   ]
  },
  {
   "cell_type": "code",
   "execution_count": 29,
   "metadata": {},
   "outputs": [
    {
     "data": {
      "text/plain": [
       "'()()()()(()())()(()())(())(())()(())(())(())()(())()(())()(()()()())()()(())()(()())()()()(())()(()()())()(()())(())()(()())(()())(())()()(()()())()(()()()())(()()())(()()())(()()()())()(())(())()()()()()()(()())()(())()(()()())()(())(())()(())()(()())()()()()(())(())()(())()()()()()()()(()()()())()(()()()()())(()())()()()(()()())()(()())()()()(()())(()()())()()()()()()(()()()()()()())()()(()()()())(())()()()()(())()(()()()())(()()()()())()()(()())(()())(())(())(()())(()())(()())()()(()())()(())()()()()()()(())()(())(()())(()())()()(())()()()()()()()(()())(()())()(()()())(())(()()())(())(())()()()(()()()()()())()(())()()(()()()()()())()(()())()(())(()())(()())(()())()()(())(())(()())(())()()()(()()())()(())(()())(()())()()(()())(())()(()())(())()()()()()(())(()())(())(())()(()()())(()()())()(())(()()()())()(()())(())()(()())(()())(()())(())(()()())()(()()()()())(()()()()()()())(())(()())()()(()())()()(())()()(())(()())()()(())(()()())(()()())(()())(()())()(()()())()(())()()(())()()(())'"
      ]
     },
     "execution_count": 29,
     "metadata": {},
     "output_type": "execute_result"
    }
   ],
   "source": [
    "generate_balanced_brackets(1000, 2)"
   ]
  },
  {
   "cell_type": "code",
   "execution_count": 20,
   "metadata": {},
   "outputs": [],
   "source": [
    "import pandas as pd\n",
    "\n",
    "\n",
    "balanced_df = pd.DataFrame(columns=['sequence', 'stack_depth', 'count'])\n",
    "\n",
    "\n",
    "for i in range(1,1000):\n",
    "    for j in range(1,min(i+1, 20)):\n",
    "        sequence = generate_balanced_brackets(i*2, j)\n",
    "        balanced, count = is_balanced(sequence)\n",
    "        \n",
    "        # bracket_data = bracket_data.append({'sequence': sequence, 'balanced': balanced != -1, 'stack_depth': balanced}, ignore_index=True)\n",
    "        # append row to df\n",
    "        balanced_df.loc[len(balanced_df)] = [sequence, balanced, count]"
   ]
  },
  {
   "cell_type": "code",
   "execution_count": 38,
   "metadata": {},
   "outputs": [
    {
     "name": "stdout",
     "output_type": "stream",
     "text": [
      "(((()\n"
     ]
    },
    {
     "data": {
      "text/plain": [
       "(-4, 3)"
      ]
     },
     "execution_count": 38,
     "metadata": {},
     "output_type": "execute_result"
    }
   ],
   "source": [
    "seq = generate_bracket_sequence(5)\n",
    "print(seq)\n",
    "is_balanced(seq)"
   ]
  },
  {
   "cell_type": "code",
   "execution_count": 40,
   "metadata": {},
   "outputs": [],
   "source": [
    "unbalanced_data = [ generate_bracket_sequence(random.randint(1, 200)) for _ in range(balanced_df.shape[0]) ]\n",
    "unbalanced_stack_depth = [ is_balanced(sequence) for sequence in unbalanced_data ]\n",
    "\n",
    "unbalanced_count = [x[1] for x in unbalanced_stack_depth]\n",
    "unbalanced_stack_depth = [x[0] for x in unbalanced_stack_depth]"
   ]
  },
  {
   "cell_type": "code",
   "execution_count": 41,
   "metadata": {},
   "outputs": [],
   "source": [
    "\n",
    "unbalanced_df = pd.DataFrame({'sequence': unbalanced_data, 'stack_depth': unbalanced_stack_depth, 'count': unbalanced_count}, columns=['sequence', 'stack_depth', 'count'])"
   ]
  },
  {
   "cell_type": "code",
   "execution_count": 42,
   "metadata": {},
   "outputs": [],
   "source": [
    "bracket_data = pd.concat([balanced_df, unbalanced_df], ignore_index=True)\n",
    "\n",
    "bracket_data = bracket_data.sample(frac=1).reset_index(drop=True)"
   ]
  },
  {
   "cell_type": "code",
   "execution_count": 43,
   "metadata": {},
   "outputs": [
    {
     "data": {
      "text/html": [
       "<div>\n",
       "<style scoped>\n",
       "    .dataframe tbody tr th:only-of-type {\n",
       "        vertical-align: middle;\n",
       "    }\n",
       "\n",
       "    .dataframe tbody tr th {\n",
       "        vertical-align: top;\n",
       "    }\n",
       "\n",
       "    .dataframe thead th {\n",
       "        text-align: right;\n",
       "    }\n",
       "</style>\n",
       "<table border=\"1\" class=\"dataframe\">\n",
       "  <thead>\n",
       "    <tr style=\"text-align: right;\">\n",
       "      <th></th>\n",
       "      <th>sequence</th>\n",
       "      <th>stack_depth</th>\n",
       "      <th>count</th>\n",
       "    </tr>\n",
       "  </thead>\n",
       "  <tbody>\n",
       "    <tr>\n",
       "      <th>0</th>\n",
       "      <td>)))()())))))()))))()(()())()()()(((()(())(((()...</td>\n",
       "      <td>0</td>\n",
       "      <td>-10</td>\n",
       "    </tr>\n",
       "    <tr>\n",
       "      <th>1</th>\n",
       "      <td>((()(()))(()())())()()()((((())())(()()(())()(...</td>\n",
       "      <td>6</td>\n",
       "      <td>0</td>\n",
       "    </tr>\n",
       "    <tr>\n",
       "      <th>2</th>\n",
       "      <td>()(())(())()(((()()))((()))(())()()((()()()))(...</td>\n",
       "      <td>5</td>\n",
       "      <td>0</td>\n",
       "    </tr>\n",
       "    <tr>\n",
       "      <th>3</th>\n",
       "      <td>))((((()()((((()()))((())(()()))))(()()(()))))...</td>\n",
       "      <td>0</td>\n",
       "      <td>9</td>\n",
       "    </tr>\n",
       "    <tr>\n",
       "      <th>4</th>\n",
       "      <td>(((())))()()(())(())()((((()))()((((()()(((())...</td>\n",
       "      <td>16</td>\n",
       "      <td>0</td>\n",
       "    </tr>\n",
       "    <tr>\n",
       "      <th>...</th>\n",
       "      <td>...</td>\n",
       "      <td>...</td>\n",
       "      <td>...</td>\n",
       "    </tr>\n",
       "    <tr>\n",
       "      <th>37615</th>\n",
       "      <td>)())))()()))))())())()(((()()()((()((()((((()(...</td>\n",
       "      <td>0</td>\n",
       "      <td>1</td>\n",
       "    </tr>\n",
       "    <tr>\n",
       "      <th>37616</th>\n",
       "      <td>)()()()())(()(()()(()()(((())))((()(())())())(...</td>\n",
       "      <td>0</td>\n",
       "      <td>-11</td>\n",
       "    </tr>\n",
       "    <tr>\n",
       "      <th>37617</th>\n",
       "      <td>()()(())()()()()(((()()((((()()())()))))))(()(...</td>\n",
       "      <td>8</td>\n",
       "      <td>0</td>\n",
       "    </tr>\n",
       "    <tr>\n",
       "      <th>37618</th>\n",
       "      <td>(((((())((()()((()))(((()))())))()())()()()(()...</td>\n",
       "      <td>10</td>\n",
       "      <td>0</td>\n",
       "    </tr>\n",
       "    <tr>\n",
       "      <th>37619</th>\n",
       "      <td>)())))()()))())(())())(()())((()))(()))))(((()...</td>\n",
       "      <td>0</td>\n",
       "      <td>-3</td>\n",
       "    </tr>\n",
       "  </tbody>\n",
       "</table>\n",
       "<p>37620 rows × 3 columns</p>\n",
       "</div>"
      ],
      "text/plain": [
       "                                                sequence  stack_depth  count\n",
       "0      )))()())))))()))))()(()())()()()(((()(())(((()...            0    -10\n",
       "1      ((()(()))(()())())()()()((((())())(()()(())()(...            6      0\n",
       "2      ()(())(())()(((()()))((()))(())()()((()()()))(...            5      0\n",
       "3      ))((((()()((((()()))((())(()()))))(()()(()))))...            0      9\n",
       "4      (((())))()()(())(())()((((()))()((((()()(((())...           16      0\n",
       "...                                                  ...          ...    ...\n",
       "37615  )())))()()))))())())()(((()()()((()((()((((()(...            0      1\n",
       "37616  )()()()())(()(()()(()()(((())))((()(())())())(...            0    -11\n",
       "37617  ()()(())()()()()(((()()((((()()())()))))))(()(...            8      0\n",
       "37618  (((((())((()()((()))(((()))())))()())()()()(()...           10      0\n",
       "37619  )())))()()))())(())())(()())((()))(()))))(((()...            0     -3\n",
       "\n",
       "[37620 rows x 3 columns]"
      ]
     },
     "execution_count": 43,
     "metadata": {},
     "output_type": "execute_result"
    }
   ],
   "source": [
    "bracket_data"
   ]
  },
  {
   "cell_type": "code",
   "execution_count": 44,
   "metadata": {},
   "outputs": [
    {
     "data": {
      "text/plain": [
       "-48"
      ]
     },
     "execution_count": 44,
     "metadata": {},
     "output_type": "execute_result"
    }
   ],
   "source": [
    "# find minimum stack depth\n",
    "min_stack_depth = bracket_data['stack_depth'].min()\n",
    "\n",
    "min_stack_depth"
   ]
  },
  {
   "cell_type": "code",
   "execution_count": 45,
   "metadata": {},
   "outputs": [
    {
     "data": {
      "text/plain": [
       "19"
      ]
     },
     "execution_count": 45,
     "metadata": {},
     "output_type": "execute_result"
    }
   ],
   "source": [
    "max_stack_depth = bracket_data['stack_depth'].max()\n",
    "\n",
    "max_stack_depth"
   ]
  },
  {
   "cell_type": "code",
   "execution_count": 46,
   "metadata": {},
   "outputs": [],
   "source": [
    "bracket_data.to_csv('balanced_brackets.csv', index=False)"
   ]
  },
  {
   "cell_type": "code",
   "execution_count": null,
   "metadata": {},
   "outputs": [],
   "source": []
  },
  {
   "cell_type": "code",
   "execution_count": null,
   "metadata": {},
   "outputs": [],
   "source": []
  }
 ],
 "metadata": {
  "kernelspec": {
   "display_name": ".venv",
   "language": "python",
   "name": "python3"
  },
  "language_info": {
   "codemirror_mode": {
    "name": "ipython",
    "version": 3
   },
   "file_extension": ".py",
   "mimetype": "text/x-python",
   "name": "python",
   "nbconvert_exporter": "python",
   "pygments_lexer": "ipython3",
   "version": "3.10.13"
  }
 },
 "nbformat": 4,
 "nbformat_minor": 2
}
