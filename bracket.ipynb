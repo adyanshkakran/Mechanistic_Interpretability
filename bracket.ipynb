{
 "cells": [
  {
   "cell_type": "code",
   "execution_count": 2,
   "metadata": {},
   "outputs": [],
   "source": [
    "import random"
   ]
  },
  {
   "cell_type": "code",
   "execution_count": 136,
   "metadata": {},
   "outputs": [],
   "source": [
    "\n",
    "def generate_balanced_brackets(n, max_depth):\n",
    "    brackets = ['(', ')']\n",
    "    map = {'(': ')'}\n",
    "    sequence = ''\n",
    "    stack = []\n",
    "    \n",
    "    for i in range(n):\n",
    "        open_or_close = random.choice([0, 1]) and stack\n",
    "        if n-i < len(stack) or (not open_or_close and len(stack) == n-i) or len(stack) == max_depth:\n",
    "            open_or_close = 1\n",
    "        if open_or_close:\n",
    "            sequence += map[stack.pop()]\n",
    "        else:\n",
    "            bracket = '('\n",
    "            sequence += bracket\n",
    "            if bracket in map:\n",
    "                stack.append(bracket)\n",
    "    \n",
    "    return sequence\n",
    "\n",
    "def is_balanced(s):\n",
    "    stack = []\n",
    "    brackets = {')': '('}\n",
    "    max_depth = 0\n",
    "    \n",
    "    for bracket in s:\n",
    "        if bracket in brackets:\n",
    "            if not stack or stack.pop() != brackets[bracket]:\n",
    "                return False\n",
    "        else:\n",
    "            stack.append(bracket)\n",
    "            max_depth = max(max_depth, len(stack))\n",
    "    \n",
    "    return -1 if stack else max_depth\n",
    "\n",
    "def generate_bracket_sequence(n):\n",
    "    brackets = ['(', ')']\n",
    "    sequence = ''\n",
    "    \n",
    "    for _ in range(n):\n",
    "        sequence += random.choice(brackets)\n",
    "    # print('Sequence:', sequence)\n",
    "    \n",
    "    if is_balanced(sequence) != -1:\n",
    "        sequence = generate_bracket_sequence(n)\n",
    "    \n",
    "    return sequence"
   ]
  },
  {
   "cell_type": "code",
   "execution_count": 177,
   "metadata": {},
   "outputs": [
    {
     "name": "stdout",
     "output_type": "stream",
     "text": [
      "                                            Sequence  Balanced\n",
      "0  (]}(]){{[[[)}([]{)[))[){(()}{(})}[{)))[]}){]()...         0\n",
      "1  )()([]](({){][)[[)]{]](}(}{({[(]]}[][((((]]]{]...         0\n",
      "2  {(){{}()}}[([[{}]]{})][][[]][(()){[({}{{{()[]{...         1\n",
      "3  )}]{})[)))}([){)[{({][{(({{{[]}})}{](}(]](){{{...         0\n",
      "4  [()]){{{}[{[[((]}[]))]][}](({[][{{[[[[{[}))]}]...         0\n"
     ]
    }
   ],
   "source": [
    "import pandas as pd\n",
    "\n",
    "# Generate 2000 balanced sequences\n",
    "balanced_sequences = [generate_balanced_brackets(64) for _ in range(2000)]\n",
    "\n",
    "# Generate 10000 unbalanced sequences\n",
    "unbalanced_sequences = [generate_bracket_sequence(64) for _ in range(10000)]\n",
    "\n",
    "# Create the dataframe\n",
    "df = pd.DataFrame({'Sequence': balanced_sequences + unbalanced_sequences, 'Balanced': [1] * 2000 + [0] * 10000}, columns=['Sequence', 'Balanced'])\n",
    "\n",
    "# shuffle the dataframe\n",
    "df = df.sample(frac=1).reset_index(drop=True)\n",
    "\n",
    "# Print the dataframe\n",
    "print(df.head())"
   ]
  },
  {
   "cell_type": "code",
   "execution_count": 178,
   "metadata": {},
   "outputs": [],
   "source": [
    "df.to_csv('balanced_brackets.csv', index=False)"
   ]
  },
  {
   "cell_type": "code",
   "execution_count": 105,
   "metadata": {},
   "outputs": [
    {
     "data": {
      "text/plain": [
       "'()()()(())()((()))()(()()()())(()())()()()((()()()((())(((())))(()((())((()(()()))()))((((((()()())()((((()()())))()(((())()()()())(((())()())(((())(((()()(())))))()()))(()(()))((()))())()((())((()())((()(()(((()()((())))()((((()())()(()))))))))(()))(((()((()()((((())()()()(()()((((()((((())()))((((())((((()()((()((()))(((((()()((())((()(((())((((((())(()()()((())))())()))()())())())(((())()))))(((((()))(())((((())))(()()(()))()()()())()(((()())((()(())())())((())()(()))))(())()()((())()))(()(())(((()(()())())(()))()(())(((((()()((()(()((((()())()())))((()())))((((((())()(()()(()))(()()()()))()(())))))()(((()(()((()(()()()())))))))((())())))))())(())))())))))))()))()))))())(())()))(()()))()((()()))((()))()())(())))))(()))))(()(((()()))))))((((()(()(((()(())(()()((()()))(((()()())(((())(()))())()))((()))()))())))())))(()((())))()()))(((((()))(()())((())))(((()(()()())(()(((((()()(())))))))()())())())))()))(((((())()(()((((())(()(()(()()(((())((((()()())()))))))))))))))))))))))))))))))))'"
      ]
     },
     "execution_count": 105,
     "metadata": {},
     "output_type": "execute_result"
    }
   ],
   "source": [
    "generate_balanced_brackets(1000, 100)"
   ]
  },
  {
   "cell_type": "code",
   "execution_count": 143,
   "metadata": {},
   "outputs": [],
   "source": [
    "import pandas as pd\n",
    "\n",
    "\n",
    "balanced_df = pd.DataFrame(columns=['sequence', 'stack_depth'])\n",
    "\n",
    "\n",
    "for i in range(1,200):\n",
    "    for j in range(1,i+1):\n",
    "        sequence = generate_balanced_brackets(i*2, j)\n",
    "        balanced = is_balanced(sequence)\n",
    "        \n",
    "        # bracket_data = bracket_data.append({'sequence': sequence, 'balanced': balanced != -1, 'stack_depth': balanced}, ignore_index=True)\n",
    "        # append row to df\n",
    "        balanced_df.loc[len(balanced_df)] = [sequence, balanced]"
   ]
  },
  {
   "cell_type": "code",
   "execution_count": 144,
   "metadata": {},
   "outputs": [],
   "source": [
    "unbalanced_data = [ generate_bracket_sequence(random.randint(1, 200)) for _ in range(balanced_df.shape[0]) ]\n",
    "\n",
    "unbalanced_df = pd.DataFrame({'sequence': unbalanced_data, 'stack_depth': -1}, columns=['sequence', 'stack_depth'])"
   ]
  },
  {
   "cell_type": "code",
   "execution_count": 145,
   "metadata": {},
   "outputs": [],
   "source": [
    "bracket_data = pd.concat([balanced_df, unbalanced_df], ignore_index=True)\n",
    "\n",
    "bracket_data = bracket_data.sample(frac=1).reset_index(drop=True)"
   ]
  },
  {
   "cell_type": "code",
   "execution_count": 146,
   "metadata": {},
   "outputs": [],
   "source": [
    "bracket_data.to_csv('balanced_brackets.csv', index=False)"
   ]
  },
  {
   "cell_type": "code",
   "execution_count": null,
   "metadata": {},
   "outputs": [],
   "source": []
  }
 ],
 "metadata": {
  "kernelspec": {
   "display_name": ".venv",
   "language": "python",
   "name": "python3"
  },
  "language_info": {
   "codemirror_mode": {
    "name": "ipython",
    "version": 3
   },
   "file_extension": ".py",
   "mimetype": "text/x-python",
   "name": "python",
   "nbconvert_exporter": "python",
   "pygments_lexer": "ipython3",
   "version": "3.10.12"
  }
 },
 "nbformat": 4,
 "nbformat_minor": 2
}
