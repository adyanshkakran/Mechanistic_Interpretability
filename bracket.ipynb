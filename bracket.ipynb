{
 "cells": [
  {
   "cell_type": "code",
   "execution_count": 11,
   "metadata": {},
   "outputs": [],
   "source": [
    "import random"
   ]
  },
  {
   "cell_type": "code",
   "execution_count": 128,
   "metadata": {},
   "outputs": [],
   "source": [
    "def generate_balanced_brackets(n):\n",
    "    brackets = ['(', ')', '[', ']', '{', '}']\n",
    "    map = {'(': ')', '[': ']', '{': '}'}\n",
    "    sequence = ''\n",
    "    stack = []\n",
    "    \n",
    "    for i in range(n):\n",
    "        open_or_close = random.choice([0, 1]) and stack\n",
    "        if n-i < len(stack) or (not open_or_close and len(stack) == n-i):\n",
    "            open_or_close = 1\n",
    "        if open_or_close:\n",
    "            sequence += map[stack.pop()]\n",
    "        else:\n",
    "            bracket = random.choice(['(', '[', '{'])\n",
    "            sequence += bracket\n",
    "            if bracket in map:\n",
    "                stack.append(bracket)\n",
    "    \n",
    "    return sequence\n",
    "\n",
    "def is_balanced(s):\n",
    "    stack = []\n",
    "    brackets = {')': '(', '}': '{', ']': '['}\n",
    "    \n",
    "    for bracket in s:\n",
    "        if bracket in brackets:\n",
    "            if not stack or stack.pop() != brackets[bracket]:\n",
    "                return False\n",
    "        else:\n",
    "            stack.append(bracket)\n",
    "    \n",
    "    return not stack\n",
    "\n",
    "def generate_bracket_sequence(n):\n",
    "    brackets = ['(', ')', '[', ']', '{', '}']\n",
    "    sequence = ''\n",
    "    \n",
    "    for _ in range(n):\n",
    "        sequence += random.choice(brackets)\n",
    "    \n",
    "    if is_balanced(sequence):\n",
    "        sequence = generate_bracket_sequence(n)\n",
    "    \n",
    "    return sequence"
   ]
  },
  {
   "cell_type": "code",
   "execution_count": 177,
   "metadata": {},
   "outputs": [
    {
     "name": "stdout",
     "output_type": "stream",
     "text": [
      "                                            Sequence  Balanced\n",
      "0  (]}(]){{[[[)}([]{)[))[){(()}{(})}[{)))[]}){]()...         0\n",
      "1  )()([]](({){][)[[)]{]](}(}{({[(]]}[][((((]]]{]...         0\n",
      "2  {(){{}()}}[([[{}]]{})][][[]][(()){[({}{{{()[]{...         1\n",
      "3  )}]{})[)))}([){)[{({][{(({{{[]}})}{](}(]](){{{...         0\n",
      "4  [()]){{{}[{[[((]}[]))]][}](({[][{{[[[[{[}))]}]...         0\n"
     ]
    }
   ],
   "source": [
    "import pandas as pd\n",
    "\n",
    "# Generate 2000 balanced sequences\n",
    "balanced_sequences = [generate_balanced_brackets(64) for _ in range(2000)]\n",
    "\n",
    "# Generate 10000 unbalanced sequences\n",
    "unbalanced_sequences = [generate_bracket_sequence(64) for _ in range(10000)]\n",
    "\n",
    "# Create the dataframe\n",
    "df = pd.DataFrame({'Sequence': balanced_sequences + unbalanced_sequences, 'Balanced': [1] * 2000 + [0] * 10000}, columns=['Sequence', 'Balanced'])\n",
    "\n",
    "# shuffle the dataframe\n",
    "df = df.sample(frac=1).reset_index(drop=True)\n",
    "\n",
    "# Print the dataframe\n",
    "print(df.head())"
   ]
  },
  {
   "cell_type": "code",
   "execution_count": 178,
   "metadata": {},
   "outputs": [],
   "source": [
    "df.to_csv('balanced_brackets.csv', index=False)"
   ]
  },
  {
   "cell_type": "code",
   "execution_count": null,
   "metadata": {},
   "outputs": [],
   "source": []
  }
 ],
 "metadata": {
  "kernelspec": {
   "display_name": ".venv",
   "language": "python",
   "name": "python3"
  },
  "language_info": {
   "codemirror_mode": {
    "name": "ipython",
    "version": 3
   },
   "file_extension": ".py",
   "mimetype": "text/x-python",
   "name": "python",
   "nbconvert_exporter": "python",
   "pygments_lexer": "ipython3",
   "version": "3.10.13"
  }
 },
 "nbformat": 4,
 "nbformat_minor": 2
}
