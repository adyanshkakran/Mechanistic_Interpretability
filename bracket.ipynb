{
 "cells": [
  {
   "cell_type": "code",
   "execution_count": 1,
   "metadata": {},
   "outputs": [],
   "source": [
    "import random\n",
    "from tqdm.notebook import tqdm\n",
    "import multiprocessing\n",
    "import pandas as pd"
   ]
  },
  {
   "cell_type": "code",
   "execution_count": 2,
   "metadata": {},
   "outputs": [],
   "source": [
    "def generate_balanced_brackets(n):\n",
    "    sequence = ''\n",
    "    stack = []\n",
    "    \n",
    "    for i in range(n):\n",
    "        open_or_close = random.choice([0, 1]) and stack\n",
    "        left = n - i\n",
    "        if left < len(stack) or (not open_or_close and len(stack) == left):\n",
    "            open_or_close = 1\n",
    "        if open_or_close:\n",
    "            sequence += ')'\n",
    "            stack.pop()\n",
    "        else:\n",
    "            sequence += '('\n",
    "            stack.append('(')\n",
    "    \n",
    "    return sequence\n",
    "\n",
    "def is_balanced(s):\n",
    "    stack = []\n",
    "    max_depth = 0\n",
    "    count = 0\n",
    "    \n",
    "    for bracket in s:\n",
    "        if bracket == ')':\n",
    "            if stack:\n",
    "                stack.pop()\n",
    "            else:\n",
    "                stack.append(bracket)\n",
    "                break\n",
    "        else:\n",
    "            stack.append(bracket)\n",
    "            max_depth = max(max_depth, len(stack))\n",
    "    \n",
    "    for bracket in s:\n",
    "        if bracket == '(':\n",
    "            count += 1\n",
    "        else:\n",
    "            count -= 1\n",
    "                \n",
    "    if stack:\n",
    "        return -1 * max_depth, count\n",
    "    return max_depth, count\n",
    "\n",
    "def generate_bracket_sequence(n):\n",
    "    brackets = ['(', ')']\n",
    "    sequence = ''\n",
    "    \n",
    "    for i in range(n):\n",
    "        sequence += random.choice(brackets)\n",
    "    \n",
    "    if is_balanced(sequence)[0] <= 0:\n",
    "        return sequence\n",
    "    else:\n",
    "        return generate_bracket_sequence(n)\n",
    "    \n",
    "def generate_bracket_sequence_2(n, min_count):\n",
    "    brackets = ['(', ')']\n",
    "    \n",
    "    sequence = ''\n",
    "    for _ in range(n):\n",
    "        sequence += random.choice(brackets)\n",
    "    bal = is_balanced(sequence)\n",
    "    if bal[0] < 0:\n",
    "        if abs(bal[1]) >= min_count:\n",
    "            return generate_bracket_sequence_2(n, min_count)\n",
    "        return sequence\n",
    "    else:\n",
    "        return generate_bracket_sequence_2(n, min_count)"
   ]
  },
  {
   "cell_type": "code",
   "execution_count": 3,
   "metadata": {},
   "outputs": [],
   "source": [
    "def generate_unbalanced_brackets(n):\n",
    "    seq = generate_bracket_sequence(n)\n",
    "    bal = is_balanced(seq)\n",
    "    seq2 = seq\n",
    "    while bal[0] > 0:\n",
    "        print('yes')\n",
    "        seq2 = seq\n",
    "        index = random.randint(0, n-1)\n",
    "        if seq[index] == '(':\n",
    "            seq2 = seq[:index] + ')' + seq[index+1:]\n",
    "        else:\n",
    "            seq2 = seq[:index] + '(' + seq[index+1:]\n",
    "        bal = is_balanced(seq2)\n",
    "    return seq2"
   ]
  },
  {
   "cell_type": "code",
   "execution_count": 4,
   "metadata": {},
   "outputs": [],
   "source": [
    "def generate_unbalanced_with_count(n, count):\n",
    "    brackets = ['(', ')']\n",
    "    gen_set = set()\n",
    "    flag = 0\n",
    "    open_no = 0\n",
    "    close_no = 0\n",
    "    for i in range(200):\n",
    "        if random.random() > 0.5:\n",
    "            flag = 1\n",
    "        if flag == 1:\n",
    "            open_no = n/2 + (count)/2\n",
    "            close_no = n/2 - (count)/2\n",
    "        else:\n",
    "            open_no = n/2 - (count)/2\n",
    "            close_no = n/2 + (count)/2\n",
    "        \n",
    "        sequence = '(' * int(open_no) + ')' * int(close_no)\n",
    "        # randomly permute\n",
    "        \n",
    "        sequence = ''.join(random.sample(sequence, len(sequence)))\n",
    "        while is_balanced(sequence)[0] > 0:\n",
    "            sequence = ''.join(random.sample(sequence, len(sequence)))\n",
    "        if sequence not in gen_set:\n",
    "            gen_set.add(sequence)\n",
    "    \n",
    "    return list(gen_set)"
   ]
  },
  {
   "cell_type": "code",
   "execution_count": 5,
   "metadata": {},
   "outputs": [
    {
     "data": {
      "text/html": [
       "<div>\n",
       "<style scoped>\n",
       "    .dataframe tbody tr th:only-of-type {\n",
       "        vertical-align: middle;\n",
       "    }\n",
       "\n",
       "    .dataframe tbody tr th {\n",
       "        vertical-align: top;\n",
       "    }\n",
       "\n",
       "    .dataframe thead th {\n",
       "        text-align: right;\n",
       "    }\n",
       "</style>\n",
       "<table border=\"1\" class=\"dataframe\">\n",
       "  <thead>\n",
       "    <tr style=\"text-align: right;\">\n",
       "      <th></th>\n",
       "      <th>string</th>\n",
       "      <th>count</th>\n",
       "    </tr>\n",
       "  </thead>\n",
       "  <tbody>\n",
       "    <tr>\n",
       "      <th>0</th>\n",
       "      <td>()()(())()((((()(((())()())()())(()))())((()()...</td>\n",
       "      <td>0</td>\n",
       "    </tr>\n",
       "    <tr>\n",
       "      <th>1</th>\n",
       "      <td>((((()(()))(()()()(())))()()(()((()()()))())))...</td>\n",
       "      <td>0</td>\n",
       "    </tr>\n",
       "    <tr>\n",
       "      <th>2</th>\n",
       "      <td>)()())())())))()((())())()(((((()())((((((((()...</td>\n",
       "      <td>0</td>\n",
       "    </tr>\n",
       "    <tr>\n",
       "      <th>3</th>\n",
       "      <td>(()()))()())())))((())(()))(())()()())(())))((...</td>\n",
       "      <td>0</td>\n",
       "    </tr>\n",
       "    <tr>\n",
       "      <th>4</th>\n",
       "      <td>)(()))((((())()))())((())()))()(((())))()())((...</td>\n",
       "      <td>0</td>\n",
       "    </tr>\n",
       "  </tbody>\n",
       "</table>\n",
       "</div>"
      ],
      "text/plain": [
       "                                              string  count\n",
       "0  ()()(())()((((()(((())()())()())(()))())((()()...      0\n",
       "1  ((((()(()))(()()()(())))()()(()((()()()))())))...      0\n",
       "2  )()())())())))()((())())()(((((()())((((((((()...      0\n",
       "3  (()()))()())())))((())(()))(())()()())(())))((...      0\n",
       "4  )(()))((((())()))())((())()))()(((())))()())((...      0"
      ]
     },
     "execution_count": 5,
     "metadata": {},
     "output_type": "execute_result"
    }
   ],
   "source": [
    "generated_strings = pd.DataFrame(columns=['string', 'count'])\n",
    "\n",
    "for i in range(0, 101, 2):\n",
    "    generated_string = generate_unbalanced_with_count(512, i)\n",
    "    for s in generated_string:\n",
    "        generated_strings.loc[len(generated_strings)] = [s, is_balanced(s)[1]]\n",
    "    \n",
    "generated_strings.head()"
   ]
  },
  {
   "cell_type": "code",
   "execution_count": 6,
   "metadata": {},
   "outputs": [],
   "source": [
    "generated_strings.to_csv('new_test_data.csv', index=False)"
   ]
  },
  {
   "cell_type": "code",
   "execution_count": 5,
   "metadata": {},
   "outputs": [
    {
     "data": {
      "text/plain": [
       "'(())))))()'"
      ]
     },
     "execution_count": 5,
     "metadata": {},
     "output_type": "execute_result"
    }
   ],
   "source": [
    "generate_unbalanced_brackets(10)"
   ]
  },
  {
   "cell_type": "code",
   "execution_count": 6,
   "metadata": {},
   "outputs": [
    {
     "name": "stdout",
     "output_type": "stream",
     "text": [
      "(10, 0) ((()(()())((())(())(((())))(())(()))))((()()()(())))()(()(((((()))(((((()))(()))(())((()(()))))))))) 100\n"
     ]
    }
   ],
   "source": [
    "s = generate_balanced_brackets(100)\n",
    "print(is_balanced(s), s, len(s))"
   ]
  },
  {
   "cell_type": "code",
   "execution_count": null,
   "metadata": {},
   "outputs": [],
   "source": [
    "# Generating according to stack depth\n",
    "balanced_df = pd.DataFrame(columns=['sequence', 'stack_depth', 'count'])\n",
    "\n",
    "seqs = [0 for i in range(400)]\n",
    "\n",
    "generated_seqs = set()\n",
    "\n",
    "gen = [i for i in range(2, 10)] + [i for i in range(10, 101, 10)]\n",
    "print(f'Generating sequences in the following stack depths: {gen}')\n",
    "\n",
    "for j in tqdm(gen):\n",
    "    while True:\n",
    "        length = 512\n",
    "        \n",
    "        sequence = generate_balanced_brackets(length, j, j)\n",
    "        balanced, count = is_balanced(sequence)\n",
    "        \n",
    "        if seqs[balanced] == 1000 or sequence in generated_seqs or balanced not in gen:\n",
    "            continue\n",
    "            \n",
    "        seqs[balanced] += 1\n",
    "        \n",
    "        balanced_df.loc[len(balanced_df)] = [sequence, balanced, count]\n",
    "        generated_seqs.add(sequence)\n",
    "        \n",
    "        if seqs[j] >= 1000:\n",
    "            break\n",
    "    # print(seqs)"
   ]
  },
  {
   "cell_type": "code",
   "execution_count": null,
   "metadata": {},
   "outputs": [],
   "source": [
    "# Generating according to count\n",
    "balanced_df = pd.DataFrame(columns=['sequence', 'stack_depth', 'count'])\n",
    "\n",
    "seqs = [0 for i in range(400)]\n",
    "\n",
    "generated_seqs = set()\n",
    "\n",
    "# gen = [i for i in range(2, 10)] + [i for i in range(10, 101, 10)]\n",
    "gen = [1]\n",
    "print(f'Generating sequences in the following stack depths: {gen}')\n",
    "\n",
    "for j in tqdm(gen):\n",
    "    while True:\n",
    "        length = 512\n",
    "        \n",
    "        depth = random.randint(2, 50)\n",
    "        print(seqs[j], end='\\r')\n",
    "        sequence = generate_balanced_brackets(length, depth, depth)\n",
    "        balanced, count = is_balanced(sequence)\n",
    "        \n",
    "        if seqs[j] == 2000 or sequence in generated_seqs:\n",
    "            continue\n",
    "            \n",
    "        seqs[j] += 1\n",
    "        \n",
    "        balanced_df.loc[len(balanced_df)] = [sequence, balanced, count]\n",
    "        generated_seqs.add(sequence)\n",
    "        \n",
    "        if seqs[j] >= 2000:\n",
    "            break\n",
    "    # print(seqs)"
   ]
  },
  {
   "cell_type": "code",
   "execution_count": 7,
   "metadata": {},
   "outputs": [
    {
     "data": {
      "application/vnd.jupyter.widget-view+json": {
       "model_id": "18d655a398f74d098b3a1c0e1fc04248",
       "version_major": 2,
       "version_minor": 0
      },
      "text/plain": [
       "  0%|          | 0/4000 [00:00<?, ?it/s]"
      ]
     },
     "metadata": {},
     "output_type": "display_data"
    }
   ],
   "source": [
    "# Just generating random sequences\n",
    "balanced_df = pd.DataFrame(columns=['sequence', 'stack_depth', 'count'])\n",
    "\n",
    "generated_seqs = set()\n",
    "\n",
    "for j in tqdm(range(4000)):\n",
    "    length = 64\n",
    "    sequence = generate_balanced_brackets(length)\n",
    "    balanced, count = is_balanced(sequence)\n",
    "    \n",
    "    if sequence in generated_seqs:\n",
    "        continue\n",
    "        \n",
    "    balanced_df.loc[len(balanced_df)] = [sequence, balanced, count]\n",
    "    generated_seqs.add(sequence)"
   ]
  },
  {
   "cell_type": "code",
   "execution_count": 8,
   "metadata": {},
   "outputs": [
    {
     "name": "stdout",
     "output_type": "stream",
     "text": [
      "4000\n"
     ]
    },
    {
     "data": {
      "text/html": [
       "<div>\n",
       "<style scoped>\n",
       "    .dataframe tbody tr th:only-of-type {\n",
       "        vertical-align: middle;\n",
       "    }\n",
       "\n",
       "    .dataframe tbody tr th {\n",
       "        vertical-align: top;\n",
       "    }\n",
       "\n",
       "    .dataframe thead th {\n",
       "        text-align: right;\n",
       "    }\n",
       "</style>\n",
       "<table border=\"1\" class=\"dataframe\">\n",
       "  <thead>\n",
       "    <tr style=\"text-align: right;\">\n",
       "      <th></th>\n",
       "      <th>sequence</th>\n",
       "      <th>stack_depth</th>\n",
       "      <th>count</th>\n",
       "    </tr>\n",
       "  </thead>\n",
       "  <tbody>\n",
       "    <tr>\n",
       "      <th>0</th>\n",
       "      <td>()()()(()(())(()(()()(())()))())()(())()()((()...</td>\n",
       "      <td>5</td>\n",
       "      <td>0</td>\n",
       "    </tr>\n",
       "    <tr>\n",
       "      <th>1</th>\n",
       "      <td>()(()(((()()())))((()()()(((((()((((((())(((((...</td>\n",
       "      <td>18</td>\n",
       "      <td>0</td>\n",
       "    </tr>\n",
       "    <tr>\n",
       "      <th>2</th>\n",
       "      <td>()()()()((()()()((()))()(())())(()())(())((()(...</td>\n",
       "      <td>5</td>\n",
       "      <td>0</td>\n",
       "    </tr>\n",
       "    <tr>\n",
       "      <th>3</th>\n",
       "      <td>()((((()((()((())()())())))((((((())())()()))(...</td>\n",
       "      <td>10</td>\n",
       "      <td>0</td>\n",
       "    </tr>\n",
       "    <tr>\n",
       "      <th>4</th>\n",
       "      <td>(())()((())()((()(((())((()))()))()()))(((()))...</td>\n",
       "      <td>8</td>\n",
       "      <td>0</td>\n",
       "    </tr>\n",
       "  </tbody>\n",
       "</table>\n",
       "</div>"
      ],
      "text/plain": [
       "                                            sequence  stack_depth  count\n",
       "0  ()()()(()(())(()(()()(())()))())()(())()()((()...            5      0\n",
       "1  ()(()(((()()())))((()()()(((((()((((((())(((((...           18      0\n",
       "2  ()()()()((()()()((()))()(())())(()())(())((()(...            5      0\n",
       "3  ()((((()((()((())()())())))((((((())())()()))(...           10      0\n",
       "4  (())()((())()((()(((())((()))()))()()))(((()))...            8      0"
      ]
     },
     "execution_count": 8,
     "metadata": {},
     "output_type": "execute_result"
    }
   ],
   "source": [
    "print(len(balanced_df))\n",
    "balanced_df.head()"
   ]
  },
  {
   "cell_type": "code",
   "execution_count": 120,
   "metadata": {},
   "outputs": [
    {
     "data": {
      "application/vnd.jupyter.widget-view+json": {
       "model_id": "1745ab7997c34d3f866d33e368ecedf3",
       "version_major": 2,
       "version_minor": 0
      },
      "text/plain": [
       "  0%|          | 0/1 [00:00<?, ?it/s]"
      ]
     },
     "metadata": {},
     "output_type": "display_data"
    },
    {
     "name": "stdout",
     "output_type": "stream",
     "text": [
      "1000\n"
     ]
    }
   ],
   "source": [
    "\n",
    "unbalanced_data = []\n",
    "for index, i in tqdm(enumerate(gen), total=len(gen)):\n",
    "    while len(unbalanced_data) < 1000*(index+1):\n",
    "        sequence = generate_bracket_sequence(512, i)\n",
    "        balanced, count = is_balanced(sequence)\n",
    "        # if balanced != -1*i:\n",
    "            # print(i, end=' ')\n",
    "            # continue\n",
    "        unbalanced_data.append(sequence)\n",
    "        \n",
    "    # print(len(unbalanced_data))\n",
    "\n",
    "print(len(unbalanced_data))\n",
    "unbalanced_stack_depth = [ is_balanced(sequence) for sequence in unbalanced_data ]\n",
    "\n",
    "unbalanced_count = [x[1] for x in unbalanced_stack_depth]\n",
    "unbalanced_stack_depth = [x[0] for x in unbalanced_stack_depth]"
   ]
  },
  {
   "cell_type": "code",
   "execution_count": 168,
   "metadata": {},
   "outputs": [
    {
     "data": {
      "application/vnd.jupyter.widget-view+json": {
       "model_id": "daf8062867ff4252934a9d0cc6524c68",
       "version_major": 2,
       "version_minor": 0
      },
      "text/plain": [
       "  0%|          | 0/1 [00:00<?, ?it/s]"
      ]
     },
     "metadata": {},
     "output_type": "display_data"
    },
    {
     "name": "stdout",
     "output_type": "stream",
     "text": [
      "2000\n"
     ]
    }
   ],
   "source": [
    "# FOR COUNT DATA\n",
    "unbalanced_data = []\n",
    "for index, i in tqdm(enumerate(gen), total=len(gen)):\n",
    "    while len(unbalanced_data) < 2000*(index+1):\n",
    "        print(len(unbalanced_data), end='\\r')\n",
    "        sequence = generate_bracket_sequence_2(512, 5)\n",
    "        balanced, count = is_balanced(sequence)\n",
    "        # if balanced != -1*i:\n",
    "            # print(i, end=' ')\n",
    "            # continue\n",
    "        unbalanced_data.append(sequence)\n",
    "        \n",
    "    # print(len(unbalanced_data))\n",
    "\n",
    "print(len(unbalanced_data))\n",
    "unbalanced_stack_depth = [ is_balanced(sequence) for sequence in unbalanced_data ]\n",
    "\n",
    "unbalanced_count = [x[1] for x in unbalanced_stack_depth]\n",
    "unbalanced_stack_depth = [x[0] for x in unbalanced_stack_depth]"
   ]
  },
  {
   "cell_type": "code",
   "execution_count": 9,
   "metadata": {},
   "outputs": [
    {
     "data": {
      "application/vnd.jupyter.widget-view+json": {
       "model_id": "4a1da7abc8bf4f428139fab8e47ac064",
       "version_major": 2,
       "version_minor": 0
      },
      "text/plain": [
       "  0%|          | 0/4000 [00:00<?, ?it/s]"
      ]
     },
     "metadata": {},
     "output_type": "display_data"
    }
   ],
   "source": [
    "# Random data for CoT\n",
    "unbalanced_df = pd.DataFrame(columns=['sequence', 'stack_depth', 'count'])\n",
    "\n",
    "generated_seqs = set()\n",
    "\n",
    "for i in tqdm(range(4000)):\n",
    "    sequence = generate_unbalanced_brackets(64)\n",
    "    balanced, count = is_balanced(sequence)\n",
    "    \n",
    "    if sequence in generated_seqs:\n",
    "        continue\n",
    "    \n",
    "    unbalanced_df.loc[len(unbalanced_df)] = [sequence, balanced, count]\n",
    "    generated_seqs.add(sequence)"
   ]
  },
  {
   "cell_type": "code",
   "execution_count": 170,
   "metadata": {},
   "outputs": [],
   "source": [
    "\n",
    "# unbalanced_df = pd.DataFrame({'sequence': unbalanced_data, 'stack_depth': unbalanced_stack_depth, 'count': unbalanced_count}, columns=['sequence', 'stack_depth', 'count'])"
   ]
  },
  {
   "cell_type": "code",
   "execution_count": 10,
   "metadata": {},
   "outputs": [
    {
     "data": {
      "text/html": [
       "<div>\n",
       "<style scoped>\n",
       "    .dataframe tbody tr th:only-of-type {\n",
       "        vertical-align: middle;\n",
       "    }\n",
       "\n",
       "    .dataframe tbody tr th {\n",
       "        vertical-align: top;\n",
       "    }\n",
       "\n",
       "    .dataframe thead th {\n",
       "        text-align: right;\n",
       "    }\n",
       "</style>\n",
       "<table border=\"1\" class=\"dataframe\">\n",
       "  <thead>\n",
       "    <tr style=\"text-align: right;\">\n",
       "      <th></th>\n",
       "      <th>sequence</th>\n",
       "      <th>stack_depth</th>\n",
       "      <th>count</th>\n",
       "    </tr>\n",
       "  </thead>\n",
       "  <tbody>\n",
       "    <tr>\n",
       "      <th>0</th>\n",
       "      <td>(()((()())((((()()()(())))(()()((())(((())()))...</td>\n",
       "      <td>-10</td>\n",
       "      <td>4</td>\n",
       "    </tr>\n",
       "    <tr>\n",
       "      <th>1</th>\n",
       "      <td>((()))(()(()))))))((())(())))))()(()(()(((((()...</td>\n",
       "      <td>-3</td>\n",
       "      <td>-6</td>\n",
       "    </tr>\n",
       "    <tr>\n",
       "      <th>2</th>\n",
       "      <td>)(((()))()(((()))(())))))(()((()())()))))(())(...</td>\n",
       "      <td>0</td>\n",
       "      <td>-2</td>\n",
       "    </tr>\n",
       "    <tr>\n",
       "      <th>3</th>\n",
       "      <td>())()))(()())))())))((()(()(((((())(()())))(()...</td>\n",
       "      <td>-1</td>\n",
       "      <td>0</td>\n",
       "    </tr>\n",
       "    <tr>\n",
       "      <th>4</th>\n",
       "      <td>((()(()(())))())(())())((()))))))())((((()()))...</td>\n",
       "      <td>-5</td>\n",
       "      <td>0</td>\n",
       "    </tr>\n",
       "  </tbody>\n",
       "</table>\n",
       "</div>"
      ],
      "text/plain": [
       "                                            sequence  stack_depth  count\n",
       "0  (()((()())((((()()()(())))(()()((())(((())()))...          -10      4\n",
       "1  ((()))(()(()))))))((())(())))))()(()(()(((((()...           -3     -6\n",
       "2  )(((()))()(((()))(())))))(()((()())()))))(())(...            0     -2\n",
       "3  ())()))(()())))())))((()(()(((((())(()())))(()...           -1      0\n",
       "4  ((()(()(())))())(())())((()))))))())((((()()))...           -5      0"
      ]
     },
     "execution_count": 10,
     "metadata": {},
     "output_type": "execute_result"
    }
   ],
   "source": [
    "unbalanced_df.head()"
   ]
  },
  {
   "cell_type": "code",
   "execution_count": 11,
   "metadata": {},
   "outputs": [],
   "source": [
    "bracket_data = pd.concat([balanced_df, unbalanced_df], ignore_index=True)\n",
    "\n",
    "bracket_data = bracket_data.sample(frac=1).reset_index(drop=True)"
   ]
  },
  {
   "cell_type": "code",
   "execution_count": 12,
   "metadata": {},
   "outputs": [
    {
     "data": {
      "text/html": [
       "<div>\n",
       "<style scoped>\n",
       "    .dataframe tbody tr th:only-of-type {\n",
       "        vertical-align: middle;\n",
       "    }\n",
       "\n",
       "    .dataframe tbody tr th {\n",
       "        vertical-align: top;\n",
       "    }\n",
       "\n",
       "    .dataframe thead th {\n",
       "        text-align: right;\n",
       "    }\n",
       "</style>\n",
       "<table border=\"1\" class=\"dataframe\">\n",
       "  <thead>\n",
       "    <tr style=\"text-align: right;\">\n",
       "      <th></th>\n",
       "      <th>sequence</th>\n",
       "      <th>stack_depth</th>\n",
       "      <th>count</th>\n",
       "    </tr>\n",
       "  </thead>\n",
       "  <tbody>\n",
       "    <tr>\n",
       "      <th>0</th>\n",
       "      <td>()(())()()((()))(())(())()(())()((()())((()(((...</td>\n",
       "      <td>9</td>\n",
       "      <td>0</td>\n",
       "    </tr>\n",
       "    <tr>\n",
       "      <th>1</th>\n",
       "      <td>))()())(()))((()()())))()())))())((()(()()((((...</td>\n",
       "      <td>0</td>\n",
       "      <td>-6</td>\n",
       "    </tr>\n",
       "    <tr>\n",
       "      <th>2</th>\n",
       "      <td>)))))()))()))(((()())()((()))((((()(()(())(())...</td>\n",
       "      <td>0</td>\n",
       "      <td>0</td>\n",
       "    </tr>\n",
       "    <tr>\n",
       "      <th>3</th>\n",
       "      <td>()(())()()()()()()()(((()(()(((()())((((()()((...</td>\n",
       "      <td>12</td>\n",
       "      <td>0</td>\n",
       "    </tr>\n",
       "    <tr>\n",
       "      <th>4</th>\n",
       "      <td>(()((()())(()(((())))(((()()()()(()()()))))))(...</td>\n",
       "      <td>8</td>\n",
       "      <td>0</td>\n",
       "    </tr>\n",
       "    <tr>\n",
       "      <th>...</th>\n",
       "      <td>...</td>\n",
       "      <td>...</td>\n",
       "      <td>...</td>\n",
       "    </tr>\n",
       "    <tr>\n",
       "      <th>7995</th>\n",
       "      <td>)(())))((((()(()()((((())(())((())((())()))(((...</td>\n",
       "      <td>0</td>\n",
       "      <td>6</td>\n",
       "    </tr>\n",
       "    <tr>\n",
       "      <th>7996</th>\n",
       "      <td>()()((()))()((()(()()))())()(())(((())((((((()...</td>\n",
       "      <td>12</td>\n",
       "      <td>0</td>\n",
       "    </tr>\n",
       "    <tr>\n",
       "      <th>7997</th>\n",
       "      <td>))))(())(()())()))))()((()(()())()))(()()))(()...</td>\n",
       "      <td>0</td>\n",
       "      <td>-6</td>\n",
       "    </tr>\n",
       "    <tr>\n",
       "      <th>7998</th>\n",
       "      <td>(((()()(()(()(((()))))(()))()()(())(()(()())))...</td>\n",
       "      <td>9</td>\n",
       "      <td>0</td>\n",
       "    </tr>\n",
       "    <tr>\n",
       "      <th>7999</th>\n",
       "      <td>)(()(())()))(((((()))(()(((()()(()))()((((()()...</td>\n",
       "      <td>0</td>\n",
       "      <td>14</td>\n",
       "    </tr>\n",
       "  </tbody>\n",
       "</table>\n",
       "<p>8000 rows × 3 columns</p>\n",
       "</div>"
      ],
      "text/plain": [
       "                                               sequence  stack_depth  count\n",
       "0     ()(())()()((()))(())(())()(())()((()())((()(((...            9      0\n",
       "1     ))()())(()))((()()())))()())))())((()(()()((((...            0     -6\n",
       "2     )))))()))()))(((()())()((()))((((()(()(())(())...            0      0\n",
       "3     ()(())()()()()()()()(((()(()(((()())((((()()((...           12      0\n",
       "4     (()((()())(()(((())))(((()()()()(()()()))))))(...            8      0\n",
       "...                                                 ...          ...    ...\n",
       "7995  )(())))((((()(()()((((())(())((())((())()))(((...            0      6\n",
       "7996  ()()((()))()((()(()()))())()(())(((())((((((()...           12      0\n",
       "7997  ))))(())(()())()))))()((()(()())()))(()()))(()...            0     -6\n",
       "7998  (((()()(()(()(((()))))(()))()()(())(()(()())))...            9      0\n",
       "7999  )(()(())()))(((((()))(()(((()()(()))()((((()()...            0     14\n",
       "\n",
       "[8000 rows x 3 columns]"
      ]
     },
     "execution_count": 12,
     "metadata": {},
     "output_type": "execute_result"
    }
   ],
   "source": [
    "bracket_data"
   ]
  },
  {
   "cell_type": "code",
   "execution_count": 13,
   "metadata": {},
   "outputs": [
    {
     "data": {
      "text/plain": [
       "-27"
      ]
     },
     "execution_count": 13,
     "metadata": {},
     "output_type": "execute_result"
    }
   ],
   "source": [
    "# find minimum stack depth\n",
    "min_stack_depth = bracket_data['stack_depth'].min()\n",
    "\n",
    "min_stack_depth"
   ]
  },
  {
   "cell_type": "code",
   "execution_count": 14,
   "metadata": {},
   "outputs": [
    {
     "data": {
      "text/plain": [
       "27"
      ]
     },
     "execution_count": 14,
     "metadata": {},
     "output_type": "execute_result"
    }
   ],
   "source": [
    "max_stack_depth = bracket_data['stack_depth'].max()\n",
    "\n",
    "max_stack_depth"
   ]
  },
  {
   "cell_type": "code",
   "execution_count": 15,
   "metadata": {},
   "outputs": [],
   "source": [
    "bracket_data.to_csv('Data/train-CoT-8k.csv', index=False)"
   ]
  },
  {
   "cell_type": "code",
   "execution_count": 20,
   "metadata": {},
   "outputs": [],
   "source": [
    "def generate_no_count(n):\n",
    "    sequence = ['(' for i in range(n//2)] + [')' for i in range(n//2)]\n",
    "    sequence = ''.join(sequence)\n",
    "    # print(sequence, is_balanced(sequence))\n",
    "    while is_balanced(sequence)[0] > 0:\n",
    "        # randomly shuffle the sequence\n",
    "        sequence = ''.join(random.sample(sequence, len(sequence)))\n",
    "    return sequence"
   ]
  },
  {
   "cell_type": "code",
   "execution_count": 48,
   "metadata": {},
   "outputs": [
    {
     "data": {
      "text/plain": [
       "((-1, 0), '())())()((')"
      ]
     },
     "execution_count": 48,
     "metadata": {},
     "output_type": "execute_result"
    }
   ],
   "source": [
    "s = generate_no_count(10)\n",
    "is_balanced(s), s"
   ]
  },
  {
   "cell_type": "code",
   "execution_count": 104,
   "metadata": {},
   "outputs": [
    {
     "data": {
      "application/vnd.jupyter.widget-view+json": {
       "model_id": "c15db54737ba4961b6644b9d6496f6b5",
       "version_major": 2,
       "version_minor": 0
      },
      "text/plain": [
       "  0%|          | 0/4000 [00:00<?, ?it/s]"
      ]
     },
     "metadata": {},
     "output_type": "display_data"
    }
   ],
   "source": [
    "no_count_data = []\n",
    "for i in tqdm(range(4000)):\n",
    "    sequence = generate_no_count(512)\n",
    "    no_count_data.append(sequence)\n",
    "    \n",
    "no_count_stack_depth = [ is_balanced(sequence) for sequence in no_count_data ]\n",
    "\n",
    "no_count_count = [x[1] for x in no_count_stack_depth]\n",
    "no_count_stack_depth = [x[0] for x in no_count_stack_depth]\n",
    "\n",
    "no_count_df = pd.DataFrame({'sequence': no_count_data, 'stack_depth': no_count_stack_depth, 'count': no_count_count}, columns=['sequence', 'stack_depth', 'count'])"
   ]
  },
  {
   "cell_type": "code",
   "execution_count": 105,
   "metadata": {},
   "outputs": [
    {
     "data": {
      "text/html": [
       "<div>\n",
       "<style scoped>\n",
       "    .dataframe tbody tr th:only-of-type {\n",
       "        vertical-align: middle;\n",
       "    }\n",
       "\n",
       "    .dataframe tbody tr th {\n",
       "        vertical-align: top;\n",
       "    }\n",
       "\n",
       "    .dataframe thead th {\n",
       "        text-align: right;\n",
       "    }\n",
       "</style>\n",
       "<table border=\"1\" class=\"dataframe\">\n",
       "  <thead>\n",
       "    <tr style=\"text-align: right;\">\n",
       "      <th></th>\n",
       "      <th>sequence</th>\n",
       "      <th>stack_depth</th>\n",
       "      <th>count</th>\n",
       "    </tr>\n",
       "  </thead>\n",
       "  <tbody>\n",
       "    <tr>\n",
       "      <th>0</th>\n",
       "      <td>))()((((()((((())())((())()((()()())(())))()((...</td>\n",
       "      <td>0</td>\n",
       "      <td>0</td>\n",
       "    </tr>\n",
       "    <tr>\n",
       "      <th>1</th>\n",
       "      <td>))(()))(()))(())(((()()((()))(())(()(())(()(((...</td>\n",
       "      <td>0</td>\n",
       "      <td>0</td>\n",
       "    </tr>\n",
       "    <tr>\n",
       "      <th>2</th>\n",
       "      <td>)(((()(((()())())((()()(((()()()))())(()(())((...</td>\n",
       "      <td>0</td>\n",
       "      <td>0</td>\n",
       "    </tr>\n",
       "    <tr>\n",
       "      <th>3</th>\n",
       "      <td>()))((()())(())))))))(((()(()))())))()(())((()...</td>\n",
       "      <td>-1</td>\n",
       "      <td>0</td>\n",
       "    </tr>\n",
       "    <tr>\n",
       "      <th>4</th>\n",
       "      <td>)((()))))()))))((())(()())(())((())()))()))(()...</td>\n",
       "      <td>0</td>\n",
       "      <td>0</td>\n",
       "    </tr>\n",
       "  </tbody>\n",
       "</table>\n",
       "</div>"
      ],
      "text/plain": [
       "                                            sequence  stack_depth  count\n",
       "0  ))()((((()((((())())((())()((()()())(())))()((...            0      0\n",
       "1  ))(()))(()))(())(((()()((()))(())(()(())(()(((...            0      0\n",
       "2  )(((()(((()())())((()()(((()()()))())(()(())((...            0      0\n",
       "3  ()))((()())(())))))))(((()(()))())))()(())((()...           -1      0\n",
       "4  )((()))))()))))((())(()())(())((())()))()))(()...            0      0"
      ]
     },
     "execution_count": 105,
     "metadata": {},
     "output_type": "execute_result"
    }
   ],
   "source": [
    "no_count_df.head()"
   ]
  },
  {
   "cell_type": "code",
   "execution_count": 102,
   "metadata": {},
   "outputs": [],
   "source": [
    "no_count_df.to_csv('no_count.csv', index=False)"
   ]
  },
  {
   "cell_type": "code",
   "execution_count": 106,
   "metadata": {},
   "outputs": [],
   "source": [
    "# append bracket data and no count data\n",
    "combined_df = pd.concat([bracket_data, no_count_df], ignore_index=True)\n",
    "\n",
    "combined_df = combined_df.sample(frac=1).reset_index(drop=True)\n",
    "\n",
    "combined_df.to_csv('balanced_with_no_count.csv', index=False)"
   ]
  },
  {
   "cell_type": "code",
   "execution_count": 2,
   "metadata": {},
   "outputs": [
    {
     "ename": "FileNotFoundError",
     "evalue": "[Errno 2] No such file or directory: 'train=2.csv'",
     "output_type": "error",
     "traceback": [
      "\u001b[0;31m---------------------------------------------------------------------------\u001b[0m",
      "\u001b[0;31mFileNotFoundError\u001b[0m                         Traceback (most recent call last)",
      "Cell \u001b[0;32mIn[2], line 4\u001b[0m\n\u001b[1;32m      1\u001b[0m \u001b[38;5;28;01mimport\u001b[39;00m \u001b[38;5;21;01mpandas\u001b[39;00m \u001b[38;5;28;01mas\u001b[39;00m \u001b[38;5;21;01mpd\u001b[39;00m\n\u001b[1;32m      3\u001b[0m data \u001b[38;5;241m=\u001b[39m pd\u001b[38;5;241m.\u001b[39mread_csv(\u001b[38;5;124m'\u001b[39m\u001b[38;5;124mbalanced_with_no_count.csv\u001b[39m\u001b[38;5;124m'\u001b[39m)\n\u001b[0;32m----> 4\u001b[0m data2 \u001b[38;5;241m=\u001b[39m \u001b[43mpd\u001b[49m\u001b[38;5;241;43m.\u001b[39;49m\u001b[43mread_csv\u001b[49m\u001b[43m(\u001b[49m\u001b[38;5;124;43m'\u001b[39;49m\u001b[38;5;124;43mtrain=2.csv\u001b[39;49m\u001b[38;5;124;43m'\u001b[39;49m\u001b[43m)\u001b[49m\n\u001b[1;32m      6\u001b[0m \u001b[38;5;66;03m# concat data\u001b[39;00m\n\u001b[1;32m      7\u001b[0m data \u001b[38;5;241m=\u001b[39m pd\u001b[38;5;241m.\u001b[39mconcat([data, data2], ignore_index\u001b[38;5;241m=\u001b[39m\u001b[38;5;28;01mTrue\u001b[39;00m)\n",
      "File \u001b[0;32m~/.local/lib/python3.10/site-packages/pandas/io/parsers/readers.py:948\u001b[0m, in \u001b[0;36mread_csv\u001b[0;34m(filepath_or_buffer, sep, delimiter, header, names, index_col, usecols, dtype, engine, converters, true_values, false_values, skipinitialspace, skiprows, skipfooter, nrows, na_values, keep_default_na, na_filter, verbose, skip_blank_lines, parse_dates, infer_datetime_format, keep_date_col, date_parser, date_format, dayfirst, cache_dates, iterator, chunksize, compression, thousands, decimal, lineterminator, quotechar, quoting, doublequote, escapechar, comment, encoding, encoding_errors, dialect, on_bad_lines, delim_whitespace, low_memory, memory_map, float_precision, storage_options, dtype_backend)\u001b[0m\n\u001b[1;32m    935\u001b[0m kwds_defaults \u001b[38;5;241m=\u001b[39m _refine_defaults_read(\n\u001b[1;32m    936\u001b[0m     dialect,\n\u001b[1;32m    937\u001b[0m     delimiter,\n\u001b[0;32m   (...)\u001b[0m\n\u001b[1;32m    944\u001b[0m     dtype_backend\u001b[38;5;241m=\u001b[39mdtype_backend,\n\u001b[1;32m    945\u001b[0m )\n\u001b[1;32m    946\u001b[0m kwds\u001b[38;5;241m.\u001b[39mupdate(kwds_defaults)\n\u001b[0;32m--> 948\u001b[0m \u001b[38;5;28;01mreturn\u001b[39;00m \u001b[43m_read\u001b[49m\u001b[43m(\u001b[49m\u001b[43mfilepath_or_buffer\u001b[49m\u001b[43m,\u001b[49m\u001b[43m \u001b[49m\u001b[43mkwds\u001b[49m\u001b[43m)\u001b[49m\n",
      "File \u001b[0;32m~/.local/lib/python3.10/site-packages/pandas/io/parsers/readers.py:611\u001b[0m, in \u001b[0;36m_read\u001b[0;34m(filepath_or_buffer, kwds)\u001b[0m\n\u001b[1;32m    608\u001b[0m _validate_names(kwds\u001b[38;5;241m.\u001b[39mget(\u001b[38;5;124m\"\u001b[39m\u001b[38;5;124mnames\u001b[39m\u001b[38;5;124m\"\u001b[39m, \u001b[38;5;28;01mNone\u001b[39;00m))\n\u001b[1;32m    610\u001b[0m \u001b[38;5;66;03m# Create the parser.\u001b[39;00m\n\u001b[0;32m--> 611\u001b[0m parser \u001b[38;5;241m=\u001b[39m \u001b[43mTextFileReader\u001b[49m\u001b[43m(\u001b[49m\u001b[43mfilepath_or_buffer\u001b[49m\u001b[43m,\u001b[49m\u001b[43m \u001b[49m\u001b[38;5;241;43m*\u001b[39;49m\u001b[38;5;241;43m*\u001b[39;49m\u001b[43mkwds\u001b[49m\u001b[43m)\u001b[49m\n\u001b[1;32m    613\u001b[0m \u001b[38;5;28;01mif\u001b[39;00m chunksize \u001b[38;5;129;01mor\u001b[39;00m iterator:\n\u001b[1;32m    614\u001b[0m     \u001b[38;5;28;01mreturn\u001b[39;00m parser\n",
      "File \u001b[0;32m~/.local/lib/python3.10/site-packages/pandas/io/parsers/readers.py:1448\u001b[0m, in \u001b[0;36mTextFileReader.__init__\u001b[0;34m(self, f, engine, **kwds)\u001b[0m\n\u001b[1;32m   1445\u001b[0m     \u001b[38;5;28mself\u001b[39m\u001b[38;5;241m.\u001b[39moptions[\u001b[38;5;124m\"\u001b[39m\u001b[38;5;124mhas_index_names\u001b[39m\u001b[38;5;124m\"\u001b[39m] \u001b[38;5;241m=\u001b[39m kwds[\u001b[38;5;124m\"\u001b[39m\u001b[38;5;124mhas_index_names\u001b[39m\u001b[38;5;124m\"\u001b[39m]\n\u001b[1;32m   1447\u001b[0m \u001b[38;5;28mself\u001b[39m\u001b[38;5;241m.\u001b[39mhandles: IOHandles \u001b[38;5;241m|\u001b[39m \u001b[38;5;28;01mNone\u001b[39;00m \u001b[38;5;241m=\u001b[39m \u001b[38;5;28;01mNone\u001b[39;00m\n\u001b[0;32m-> 1448\u001b[0m \u001b[38;5;28mself\u001b[39m\u001b[38;5;241m.\u001b[39m_engine \u001b[38;5;241m=\u001b[39m \u001b[38;5;28;43mself\u001b[39;49m\u001b[38;5;241;43m.\u001b[39;49m\u001b[43m_make_engine\u001b[49m\u001b[43m(\u001b[49m\u001b[43mf\u001b[49m\u001b[43m,\u001b[49m\u001b[43m \u001b[49m\u001b[38;5;28;43mself\u001b[39;49m\u001b[38;5;241;43m.\u001b[39;49m\u001b[43mengine\u001b[49m\u001b[43m)\u001b[49m\n",
      "File \u001b[0;32m~/.local/lib/python3.10/site-packages/pandas/io/parsers/readers.py:1705\u001b[0m, in \u001b[0;36mTextFileReader._make_engine\u001b[0;34m(self, f, engine)\u001b[0m\n\u001b[1;32m   1703\u001b[0m     \u001b[38;5;28;01mif\u001b[39;00m \u001b[38;5;124m\"\u001b[39m\u001b[38;5;124mb\u001b[39m\u001b[38;5;124m\"\u001b[39m \u001b[38;5;129;01mnot\u001b[39;00m \u001b[38;5;129;01min\u001b[39;00m mode:\n\u001b[1;32m   1704\u001b[0m         mode \u001b[38;5;241m+\u001b[39m\u001b[38;5;241m=\u001b[39m \u001b[38;5;124m\"\u001b[39m\u001b[38;5;124mb\u001b[39m\u001b[38;5;124m\"\u001b[39m\n\u001b[0;32m-> 1705\u001b[0m \u001b[38;5;28mself\u001b[39m\u001b[38;5;241m.\u001b[39mhandles \u001b[38;5;241m=\u001b[39m \u001b[43mget_handle\u001b[49m\u001b[43m(\u001b[49m\n\u001b[1;32m   1706\u001b[0m \u001b[43m    \u001b[49m\u001b[43mf\u001b[49m\u001b[43m,\u001b[49m\n\u001b[1;32m   1707\u001b[0m \u001b[43m    \u001b[49m\u001b[43mmode\u001b[49m\u001b[43m,\u001b[49m\n\u001b[1;32m   1708\u001b[0m \u001b[43m    \u001b[49m\u001b[43mencoding\u001b[49m\u001b[38;5;241;43m=\u001b[39;49m\u001b[38;5;28;43mself\u001b[39;49m\u001b[38;5;241;43m.\u001b[39;49m\u001b[43moptions\u001b[49m\u001b[38;5;241;43m.\u001b[39;49m\u001b[43mget\u001b[49m\u001b[43m(\u001b[49m\u001b[38;5;124;43m\"\u001b[39;49m\u001b[38;5;124;43mencoding\u001b[39;49m\u001b[38;5;124;43m\"\u001b[39;49m\u001b[43m,\u001b[49m\u001b[43m \u001b[49m\u001b[38;5;28;43;01mNone\u001b[39;49;00m\u001b[43m)\u001b[49m\u001b[43m,\u001b[49m\n\u001b[1;32m   1709\u001b[0m \u001b[43m    \u001b[49m\u001b[43mcompression\u001b[49m\u001b[38;5;241;43m=\u001b[39;49m\u001b[38;5;28;43mself\u001b[39;49m\u001b[38;5;241;43m.\u001b[39;49m\u001b[43moptions\u001b[49m\u001b[38;5;241;43m.\u001b[39;49m\u001b[43mget\u001b[49m\u001b[43m(\u001b[49m\u001b[38;5;124;43m\"\u001b[39;49m\u001b[38;5;124;43mcompression\u001b[39;49m\u001b[38;5;124;43m\"\u001b[39;49m\u001b[43m,\u001b[49m\u001b[43m \u001b[49m\u001b[38;5;28;43;01mNone\u001b[39;49;00m\u001b[43m)\u001b[49m\u001b[43m,\u001b[49m\n\u001b[1;32m   1710\u001b[0m \u001b[43m    \u001b[49m\u001b[43mmemory_map\u001b[49m\u001b[38;5;241;43m=\u001b[39;49m\u001b[38;5;28;43mself\u001b[39;49m\u001b[38;5;241;43m.\u001b[39;49m\u001b[43moptions\u001b[49m\u001b[38;5;241;43m.\u001b[39;49m\u001b[43mget\u001b[49m\u001b[43m(\u001b[49m\u001b[38;5;124;43m\"\u001b[39;49m\u001b[38;5;124;43mmemory_map\u001b[39;49m\u001b[38;5;124;43m\"\u001b[39;49m\u001b[43m,\u001b[49m\u001b[43m \u001b[49m\u001b[38;5;28;43;01mFalse\u001b[39;49;00m\u001b[43m)\u001b[49m\u001b[43m,\u001b[49m\n\u001b[1;32m   1711\u001b[0m \u001b[43m    \u001b[49m\u001b[43mis_text\u001b[49m\u001b[38;5;241;43m=\u001b[39;49m\u001b[43mis_text\u001b[49m\u001b[43m,\u001b[49m\n\u001b[1;32m   1712\u001b[0m \u001b[43m    \u001b[49m\u001b[43merrors\u001b[49m\u001b[38;5;241;43m=\u001b[39;49m\u001b[38;5;28;43mself\u001b[39;49m\u001b[38;5;241;43m.\u001b[39;49m\u001b[43moptions\u001b[49m\u001b[38;5;241;43m.\u001b[39;49m\u001b[43mget\u001b[49m\u001b[43m(\u001b[49m\u001b[38;5;124;43m\"\u001b[39;49m\u001b[38;5;124;43mencoding_errors\u001b[39;49m\u001b[38;5;124;43m\"\u001b[39;49m\u001b[43m,\u001b[49m\u001b[43m \u001b[49m\u001b[38;5;124;43m\"\u001b[39;49m\u001b[38;5;124;43mstrict\u001b[39;49m\u001b[38;5;124;43m\"\u001b[39;49m\u001b[43m)\u001b[49m\u001b[43m,\u001b[49m\n\u001b[1;32m   1713\u001b[0m \u001b[43m    \u001b[49m\u001b[43mstorage_options\u001b[49m\u001b[38;5;241;43m=\u001b[39;49m\u001b[38;5;28;43mself\u001b[39;49m\u001b[38;5;241;43m.\u001b[39;49m\u001b[43moptions\u001b[49m\u001b[38;5;241;43m.\u001b[39;49m\u001b[43mget\u001b[49m\u001b[43m(\u001b[49m\u001b[38;5;124;43m\"\u001b[39;49m\u001b[38;5;124;43mstorage_options\u001b[39;49m\u001b[38;5;124;43m\"\u001b[39;49m\u001b[43m,\u001b[49m\u001b[43m \u001b[49m\u001b[38;5;28;43;01mNone\u001b[39;49;00m\u001b[43m)\u001b[49m\u001b[43m,\u001b[49m\n\u001b[1;32m   1714\u001b[0m \u001b[43m\u001b[49m\u001b[43m)\u001b[49m\n\u001b[1;32m   1715\u001b[0m \u001b[38;5;28;01massert\u001b[39;00m \u001b[38;5;28mself\u001b[39m\u001b[38;5;241m.\u001b[39mhandles \u001b[38;5;129;01mis\u001b[39;00m \u001b[38;5;129;01mnot\u001b[39;00m \u001b[38;5;28;01mNone\u001b[39;00m\n\u001b[1;32m   1716\u001b[0m f \u001b[38;5;241m=\u001b[39m \u001b[38;5;28mself\u001b[39m\u001b[38;5;241m.\u001b[39mhandles\u001b[38;5;241m.\u001b[39mhandle\n",
      "File \u001b[0;32m~/.local/lib/python3.10/site-packages/pandas/io/common.py:863\u001b[0m, in \u001b[0;36mget_handle\u001b[0;34m(path_or_buf, mode, encoding, compression, memory_map, is_text, errors, storage_options)\u001b[0m\n\u001b[1;32m    858\u001b[0m \u001b[38;5;28;01melif\u001b[39;00m \u001b[38;5;28misinstance\u001b[39m(handle, \u001b[38;5;28mstr\u001b[39m):\n\u001b[1;32m    859\u001b[0m     \u001b[38;5;66;03m# Check whether the filename is to be opened in binary mode.\u001b[39;00m\n\u001b[1;32m    860\u001b[0m     \u001b[38;5;66;03m# Binary mode does not support 'encoding' and 'newline'.\u001b[39;00m\n\u001b[1;32m    861\u001b[0m     \u001b[38;5;28;01mif\u001b[39;00m ioargs\u001b[38;5;241m.\u001b[39mencoding \u001b[38;5;129;01mand\u001b[39;00m \u001b[38;5;124m\"\u001b[39m\u001b[38;5;124mb\u001b[39m\u001b[38;5;124m\"\u001b[39m \u001b[38;5;129;01mnot\u001b[39;00m \u001b[38;5;129;01min\u001b[39;00m ioargs\u001b[38;5;241m.\u001b[39mmode:\n\u001b[1;32m    862\u001b[0m         \u001b[38;5;66;03m# Encoding\u001b[39;00m\n\u001b[0;32m--> 863\u001b[0m         handle \u001b[38;5;241m=\u001b[39m \u001b[38;5;28;43mopen\u001b[39;49m\u001b[43m(\u001b[49m\n\u001b[1;32m    864\u001b[0m \u001b[43m            \u001b[49m\u001b[43mhandle\u001b[49m\u001b[43m,\u001b[49m\n\u001b[1;32m    865\u001b[0m \u001b[43m            \u001b[49m\u001b[43mioargs\u001b[49m\u001b[38;5;241;43m.\u001b[39;49m\u001b[43mmode\u001b[49m\u001b[43m,\u001b[49m\n\u001b[1;32m    866\u001b[0m \u001b[43m            \u001b[49m\u001b[43mencoding\u001b[49m\u001b[38;5;241;43m=\u001b[39;49m\u001b[43mioargs\u001b[49m\u001b[38;5;241;43m.\u001b[39;49m\u001b[43mencoding\u001b[49m\u001b[43m,\u001b[49m\n\u001b[1;32m    867\u001b[0m \u001b[43m            \u001b[49m\u001b[43merrors\u001b[49m\u001b[38;5;241;43m=\u001b[39;49m\u001b[43merrors\u001b[49m\u001b[43m,\u001b[49m\n\u001b[1;32m    868\u001b[0m \u001b[43m            \u001b[49m\u001b[43mnewline\u001b[49m\u001b[38;5;241;43m=\u001b[39;49m\u001b[38;5;124;43m\"\u001b[39;49m\u001b[38;5;124;43m\"\u001b[39;49m\u001b[43m,\u001b[49m\n\u001b[1;32m    869\u001b[0m \u001b[43m        \u001b[49m\u001b[43m)\u001b[49m\n\u001b[1;32m    870\u001b[0m     \u001b[38;5;28;01melse\u001b[39;00m:\n\u001b[1;32m    871\u001b[0m         \u001b[38;5;66;03m# Binary mode\u001b[39;00m\n\u001b[1;32m    872\u001b[0m         handle \u001b[38;5;241m=\u001b[39m \u001b[38;5;28mopen\u001b[39m(handle, ioargs\u001b[38;5;241m.\u001b[39mmode)\n",
      "\u001b[0;31mFileNotFoundError\u001b[0m: [Errno 2] No such file or directory: 'train=2.csv'"
     ]
    }
   ],
   "source": [
    "import pandas as pd\n",
    "\n",
    "data = pd.read_csv('balanced_with_no_count.csv')\n",
    "data2 = pd.read_csv('train-2.csv')\n",
    "\n",
    "# concat data\n",
    "data = pd.concat([data, data2], ignore_index=True)\n",
    "\n",
    "data = data.sample(frac=1).reset_index(drop=True)\n",
    "\n",
    "data.to_csv('train.csv', index=False)"
   ]
  },
  {
   "cell_type": "code",
   "execution_count": 18,
   "metadata": {},
   "outputs": [],
   "source": [
    "df = pd.read_csv('Data/train-CoT.csv')\n",
    "\n",
    "# take 1000 samples\n",
    "df = df.sample(n=1000)\n",
    "df.to_csv('Data/train-CoT-small.csv', index=False)"
   ]
  }
 ],
 "metadata": {
  "kernelspec": {
   "display_name": "Python 3",
   "language": "python",
   "name": "python3"
  },
  "language_info": {
   "codemirror_mode": {
    "name": "ipython",
    "version": 3
   },
   "file_extension": ".py",
   "mimetype": "text/x-python",
   "name": "python",
   "nbconvert_exporter": "python",
   "pygments_lexer": "ipython3",
   "version": "3.10.13"
  }
 },
 "nbformat": 4,
 "nbformat_minor": 2
}
