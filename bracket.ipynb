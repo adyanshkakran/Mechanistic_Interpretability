{
 "cells": [
  {
   "cell_type": "code",
   "execution_count": 1,
   "metadata": {},
   "outputs": [],
   "source": [
    "import random"
   ]
  },
  {
   "cell_type": "code",
   "execution_count": 18,
   "metadata": {},
   "outputs": [],
   "source": [
    "\n",
    "def generate_balanced_brackets(n, max_depth):\n",
    "    brackets = ['(', ')']\n",
    "    map = {'(': ')'}\n",
    "    sequence = ''\n",
    "    stack = []\n",
    "    \n",
    "    for i in range(n):\n",
    "        open_or_close = random.choice([0, 1]) and stack\n",
    "        if n-i < len(stack) or (not open_or_close and len(stack) == n-i) or len(stack) == max_depth:\n",
    "            open_or_close = 1\n",
    "        if open_or_close:\n",
    "            sequence += map[stack.pop()]\n",
    "        else:\n",
    "            bracket = '('\n",
    "            sequence += bracket\n",
    "            if bracket in map:\n",
    "                stack.append(bracket)\n",
    "    \n",
    "    return sequence\n",
    "\n",
    "def is_balanced(s):\n",
    "    stack = []\n",
    "    brackets = {')': '('}\n",
    "    max_depth = 0\n",
    "    \n",
    "    for bracket in s:\n",
    "        if bracket in brackets:\n",
    "            if stack:\n",
    "                stack.pop()\n",
    "            else :\n",
    "                break\n",
    "        else:\n",
    "            stack.append(bracket)\n",
    "            max_depth = max(max_depth, len(stack))\n",
    "    \n",
    "    return (-1*max_depth) if stack else max_depth\n",
    "\n",
    "def generate_bracket_sequence(n):\n",
    "    brackets = ['(', ')']\n",
    "    sequence = ''\n",
    "    \n",
    "    for _ in range(n):\n",
    "        sequence += random.choice(brackets)\n",
    "    # print('Sequence:', sequence)\n",
    "    \n",
    "    if is_balanced(sequence) > 0:\n",
    "        sequence = generate_bracket_sequence(n)\n",
    "    \n",
    "    return sequence"
   ]
  },
  {
   "cell_type": "code",
   "execution_count": 3,
   "metadata": {},
   "outputs": [
    {
     "ename": "TypeError",
     "evalue": "generate_balanced_brackets() missing 1 required positional argument: 'max_depth'",
     "output_type": "error",
     "traceback": [
      "\u001b[0;31m---------------------------------------------------------------------------\u001b[0m",
      "\u001b[0;31mTypeError\u001b[0m                                 Traceback (most recent call last)",
      "Cell \u001b[0;32mIn[3], line 4\u001b[0m\n\u001b[1;32m      1\u001b[0m \u001b[38;5;28;01mimport\u001b[39;00m \u001b[38;5;21;01mpandas\u001b[39;00m \u001b[38;5;28;01mas\u001b[39;00m \u001b[38;5;21;01mpd\u001b[39;00m\n\u001b[1;32m      3\u001b[0m \u001b[38;5;66;03m# Generate 2000 balanced sequences\u001b[39;00m\n\u001b[0;32m----> 4\u001b[0m balanced_sequences \u001b[38;5;241m=\u001b[39m [generate_balanced_brackets(\u001b[38;5;241m64\u001b[39m) \u001b[38;5;28;01mfor\u001b[39;00m _ \u001b[38;5;129;01min\u001b[39;00m \u001b[38;5;28mrange\u001b[39m(\u001b[38;5;241m2000\u001b[39m)]\n\u001b[1;32m      6\u001b[0m \u001b[38;5;66;03m# Generate 10000 unbalanced sequences\u001b[39;00m\n\u001b[1;32m      7\u001b[0m unbalanced_sequences \u001b[38;5;241m=\u001b[39m [generate_bracket_sequence(\u001b[38;5;241m64\u001b[39m) \u001b[38;5;28;01mfor\u001b[39;00m _ \u001b[38;5;129;01min\u001b[39;00m \u001b[38;5;28mrange\u001b[39m(\u001b[38;5;241m10000\u001b[39m)]\n",
      "Cell \u001b[0;32mIn[3], line 4\u001b[0m, in \u001b[0;36m<listcomp>\u001b[0;34m(.0)\u001b[0m\n\u001b[1;32m      1\u001b[0m \u001b[38;5;28;01mimport\u001b[39;00m \u001b[38;5;21;01mpandas\u001b[39;00m \u001b[38;5;28;01mas\u001b[39;00m \u001b[38;5;21;01mpd\u001b[39;00m\n\u001b[1;32m      3\u001b[0m \u001b[38;5;66;03m# Generate 2000 balanced sequences\u001b[39;00m\n\u001b[0;32m----> 4\u001b[0m balanced_sequences \u001b[38;5;241m=\u001b[39m [\u001b[43mgenerate_balanced_brackets\u001b[49m\u001b[43m(\u001b[49m\u001b[38;5;241;43m64\u001b[39;49m\u001b[43m)\u001b[49m \u001b[38;5;28;01mfor\u001b[39;00m _ \u001b[38;5;129;01min\u001b[39;00m \u001b[38;5;28mrange\u001b[39m(\u001b[38;5;241m2000\u001b[39m)]\n\u001b[1;32m      6\u001b[0m \u001b[38;5;66;03m# Generate 10000 unbalanced sequences\u001b[39;00m\n\u001b[1;32m      7\u001b[0m unbalanced_sequences \u001b[38;5;241m=\u001b[39m [generate_bracket_sequence(\u001b[38;5;241m64\u001b[39m) \u001b[38;5;28;01mfor\u001b[39;00m _ \u001b[38;5;129;01min\u001b[39;00m \u001b[38;5;28mrange\u001b[39m(\u001b[38;5;241m10000\u001b[39m)]\n",
      "\u001b[0;31mTypeError\u001b[0m: generate_balanced_brackets() missing 1 required positional argument: 'max_depth'"
     ]
    }
   ],
   "source": [
    "import pandas as pd\n",
    "\n",
    "# Generate 2000 balanced sequences\n",
    "balanced_sequences = [generate_balanced_brackets(64) for _ in range(2000)]\n",
    "\n",
    "# Generate 10000 unbalanced sequences\n",
    "unbalanced_sequences = [generate_bracket_sequence(64) for _ in range(10000)]\n",
    "\n",
    "# Create the dataframe\n",
    "df = pd.DataFrame({'Sequence': balanced_sequences + unbalanced_sequences, 'Balanced': [1] * 2000 + [0] * 10000}, columns=['Sequence', 'Balanced'])\n",
    "\n",
    "# shuffle the dataframe\n",
    "df = df.sample(frac=1).reset_index(drop=True)\n",
    "\n",
    "# Print the dataframe\n",
    "print(df.head())"
   ]
  },
  {
   "cell_type": "code",
   "execution_count": null,
   "metadata": {},
   "outputs": [],
   "source": [
    "df.to_csv('balanced_brackets.csv', index=False)"
   ]
  },
  {
   "cell_type": "code",
   "execution_count": null,
   "metadata": {},
   "outputs": [
    {
     "data": {
      "text/plain": [
       "'()()()(())()((()))()(()()()())(()())()()()((()()()((())(((())))(()((())((()(()()))()))((((((()()())()((((()()())))()(((())()()()())(((())()())(((())(((()()(())))))()()))(()(()))((()))())()((())((()())((()(()(((()()((())))()((((()())()(()))))))))(()))(((()((()()((((())()()()(()()((((()((((())()))((((())((((()()((()((()))(((((()()((())((()(((())((((((())(()()()((())))())()))()())())())(((())()))))(((((()))(())((((())))(()()(()))()()()())()(((()())((()(())())())((())()(()))))(())()()((())()))(()(())(((()(()())())(()))()(())(((((()()((()(()((((()())()())))((()())))((((((())()(()()(()))(()()()()))()(())))))()(((()(()((()(()()()())))))))((())())))))())(())))())))))))()))()))))())(())()))(()()))()((()()))((()))()())(())))))(()))))(()(((()()))))))((((()(()(((()(())(()()((()()))(((()()())(((())(()))())()))((()))()))())))())))(()((())))()()))(((((()))(()())((())))(((()(()()())(()(((((()()(())))))))()())())())))()))(((((())()(()((((())(()(()(()()(((())((((()()())()))))))))))))))))))))))))))))))))'"
      ]
     },
     "execution_count": 105,
     "metadata": {},
     "output_type": "execute_result"
    }
   ],
   "source": [
    "generate_balanced_brackets(1000, 100)"
   ]
  },
  {
   "cell_type": "code",
   "execution_count": 19,
   "metadata": {},
   "outputs": [],
   "source": [
    "import pandas as pd\n",
    "\n",
    "\n",
    "balanced_df = pd.DataFrame(columns=['sequence', 'stack_depth'])\n",
    "\n",
    "\n",
    "for i in range(1,200):\n",
    "    for j in range(1,i+1):\n",
    "        sequence = generate_balanced_brackets(i*2, j)\n",
    "        balanced = is_balanced(sequence)\n",
    "        \n",
    "        # bracket_data = bracket_data.append({'sequence': sequence, 'balanced': balanced != -1, 'stack_depth': balanced}, ignore_index=True)\n",
    "        # append row to df\n",
    "        balanced_df.loc[len(balanced_df)] = [sequence, balanced]"
   ]
  },
  {
   "cell_type": "code",
   "execution_count": 20,
   "metadata": {},
   "outputs": [
    {
     "ename": "IndexError",
     "evalue": "pop from empty list",
     "output_type": "error",
     "traceback": [
      "\u001b[0;31m---------------------------------------------------------------------------\u001b[0m",
      "\u001b[0;31mIndexError\u001b[0m                                Traceback (most recent call last)",
      "Cell \u001b[0;32mIn[20], line 1\u001b[0m\n\u001b[0;32m----> 1\u001b[0m unbalanced_data \u001b[38;5;241m=\u001b[39m [ generate_bracket_sequence(random\u001b[38;5;241m.\u001b[39mrandint(\u001b[38;5;241m1\u001b[39m, \u001b[38;5;241m200\u001b[39m)) \u001b[38;5;28;01mfor\u001b[39;00m _ \u001b[38;5;129;01min\u001b[39;00m \u001b[38;5;28mrange\u001b[39m(balanced_df\u001b[38;5;241m.\u001b[39mshape[\u001b[38;5;241m0\u001b[39m]) ]\n\u001b[1;32m      2\u001b[0m unbalanced_stack_depth \u001b[38;5;241m=\u001b[39m [ is_balanced(sequence) \u001b[38;5;28;01mfor\u001b[39;00m sequence \u001b[38;5;129;01min\u001b[39;00m unbalanced_data ]\n\u001b[1;32m      4\u001b[0m unbalanced_stack_depth\n",
      "Cell \u001b[0;32mIn[20], line 1\u001b[0m, in \u001b[0;36m<listcomp>\u001b[0;34m(.0)\u001b[0m\n\u001b[0;32m----> 1\u001b[0m unbalanced_data \u001b[38;5;241m=\u001b[39m [ \u001b[43mgenerate_bracket_sequence\u001b[49m\u001b[43m(\u001b[49m\u001b[43mrandom\u001b[49m\u001b[38;5;241;43m.\u001b[39;49m\u001b[43mrandint\u001b[49m\u001b[43m(\u001b[49m\u001b[38;5;241;43m1\u001b[39;49m\u001b[43m,\u001b[49m\u001b[43m \u001b[49m\u001b[38;5;241;43m200\u001b[39;49m\u001b[43m)\u001b[49m\u001b[43m)\u001b[49m \u001b[38;5;28;01mfor\u001b[39;00m _ \u001b[38;5;129;01min\u001b[39;00m \u001b[38;5;28mrange\u001b[39m(balanced_df\u001b[38;5;241m.\u001b[39mshape[\u001b[38;5;241m0\u001b[39m]) ]\n\u001b[1;32m      2\u001b[0m unbalanced_stack_depth \u001b[38;5;241m=\u001b[39m [ is_balanced(sequence) \u001b[38;5;28;01mfor\u001b[39;00m sequence \u001b[38;5;129;01min\u001b[39;00m unbalanced_data ]\n\u001b[1;32m      4\u001b[0m unbalanced_stack_depth\n",
      "Cell \u001b[0;32mIn[18], line 46\u001b[0m, in \u001b[0;36mgenerate_bracket_sequence\u001b[0;34m(n)\u001b[0m\n\u001b[1;32m     43\u001b[0m     sequence \u001b[38;5;241m+\u001b[39m\u001b[38;5;241m=\u001b[39m random\u001b[38;5;241m.\u001b[39mchoice(brackets)\n\u001b[1;32m     44\u001b[0m \u001b[38;5;66;03m# print('Sequence:', sequence)\u001b[39;00m\n\u001b[0;32m---> 46\u001b[0m \u001b[38;5;28;01mif\u001b[39;00m \u001b[43mis_balanced\u001b[49m\u001b[43m(\u001b[49m\u001b[43msequence\u001b[49m\u001b[43m)\u001b[49m \u001b[38;5;241m>\u001b[39m \u001b[38;5;241m0\u001b[39m:\n\u001b[1;32m     47\u001b[0m     sequence \u001b[38;5;241m=\u001b[39m generate_bracket_sequence(n)\n\u001b[1;32m     49\u001b[0m \u001b[38;5;28;01mreturn\u001b[39;00m sequence\n",
      "Cell \u001b[0;32mIn[18], line 29\u001b[0m, in \u001b[0;36mis_balanced\u001b[0;34m(s)\u001b[0m\n\u001b[1;32m     27\u001b[0m \u001b[38;5;28;01mif\u001b[39;00m bracket \u001b[38;5;129;01min\u001b[39;00m brackets:\n\u001b[1;32m     28\u001b[0m     \u001b[38;5;28;01mif\u001b[39;00m \u001b[38;5;129;01mnot\u001b[39;00m stack:\n\u001b[0;32m---> 29\u001b[0m         \u001b[43mstack\u001b[49m\u001b[38;5;241;43m.\u001b[39;49m\u001b[43mpop\u001b[49m\u001b[43m(\u001b[49m\u001b[43m)\u001b[49m\n\u001b[1;32m     30\u001b[0m     \u001b[38;5;28;01melse\u001b[39;00m :\n\u001b[1;32m     31\u001b[0m         \u001b[38;5;28;01mbreak\u001b[39;00m\n",
      "\u001b[0;31mIndexError\u001b[0m: pop from empty list"
     ]
    }
   ],
   "source": [
    "unbalanced_data = [ generate_bracket_sequence(random.randint(1, 200)) for _ in range(balanced_df.shape[0]) ]\n",
    "unbalanced_stack_depth = [ is_balanced(sequence) for sequence in unbalanced_data ]\n",
    "\n",
    "unbalanced_stack_depth"
   ]
  },
  {
   "cell_type": "code",
   "execution_count": null,
   "metadata": {},
   "outputs": [],
   "source": [
    "\n",
    "unbalanced_df = pd.DataFrame({'sequence': unbalanced_data, 'stack_depth': unbalanced_stack_depth}, columns=['sequence', 'stack_depth'])"
   ]
  },
  {
   "cell_type": "code",
   "execution_count": 9,
   "metadata": {},
   "outputs": [],
   "source": [
    "bracket_data = pd.concat([balanced_df, unbalanced_df], ignore_index=True)\n",
    "\n",
    "bracket_data = bracket_data.sample(frac=1).reset_index(drop=True)"
   ]
  },
  {
   "cell_type": "code",
   "execution_count": 10,
   "metadata": {},
   "outputs": [
    {
     "data": {
      "text/html": [
       "<div>\n",
       "<style scoped>\n",
       "    .dataframe tbody tr th:only-of-type {\n",
       "        vertical-align: middle;\n",
       "    }\n",
       "\n",
       "    .dataframe tbody tr th {\n",
       "        vertical-align: top;\n",
       "    }\n",
       "\n",
       "    .dataframe thead th {\n",
       "        text-align: right;\n",
       "    }\n",
       "</style>\n",
       "<table border=\"1\" class=\"dataframe\">\n",
       "  <thead>\n",
       "    <tr style=\"text-align: right;\">\n",
       "      <th></th>\n",
       "      <th>sequence</th>\n",
       "      <th>stack_depth</th>\n",
       "    </tr>\n",
       "  </thead>\n",
       "  <tbody>\n",
       "    <tr>\n",
       "      <th>0</th>\n",
       "      <td>()()((()))(()((()()()()())(())))(())()(())()((...</td>\n",
       "      <td>34</td>\n",
       "    </tr>\n",
       "    <tr>\n",
       "      <th>1</th>\n",
       "      <td>()()()()()((()(()))())()(())(())((((()()((()()...</td>\n",
       "      <td>11</td>\n",
       "    </tr>\n",
       "    <tr>\n",
       "      <th>2</th>\n",
       "      <td>)()))()()(())(((())))())))(()))((()()(()(())()...</td>\n",
       "      <td>False</td>\n",
       "    </tr>\n",
       "    <tr>\n",
       "      <th>3</th>\n",
       "      <td>()())()((()(())))(()())((()())))()(())))((((()...</td>\n",
       "      <td>False</td>\n",
       "    </tr>\n",
       "    <tr>\n",
       "      <th>4</th>\n",
       "      <td>()()()(()()()((()(((()))(((((((())))(()(((())(...</td>\n",
       "      <td>41</td>\n",
       "    </tr>\n",
       "    <tr>\n",
       "      <th>...</th>\n",
       "      <td>...</td>\n",
       "      <td>...</td>\n",
       "    </tr>\n",
       "    <tr>\n",
       "      <th>39795</th>\n",
       "      <td>))(()()(()))((()()))()())))(())()())))((((()())</td>\n",
       "      <td>False</td>\n",
       "    </tr>\n",
       "    <tr>\n",
       "      <th>39796</th>\n",
       "      <td>()()()(()((((())((()(())()(()))((((()(()(((()(...</td>\n",
       "      <td>20</td>\n",
       "    </tr>\n",
       "    <tr>\n",
       "      <th>39797</th>\n",
       "      <td>()()(())(()(((((())())))((()()(())))()))()((((...</td>\n",
       "      <td>10</td>\n",
       "    </tr>\n",
       "    <tr>\n",
       "      <th>39798</th>\n",
       "      <td>()()(()()((())()))()(()(()(())(())()((())()())...</td>\n",
       "      <td>16</td>\n",
       "    </tr>\n",
       "    <tr>\n",
       "      <th>39799</th>\n",
       "      <td>((()())((()))()(()(())))((()((((((()))(()())()...</td>\n",
       "      <td>14</td>\n",
       "    </tr>\n",
       "  </tbody>\n",
       "</table>\n",
       "<p>39800 rows × 2 columns</p>\n",
       "</div>"
      ],
      "text/plain": [
       "                                                sequence stack_depth\n",
       "0      ()()((()))(()((()()()()())(())))(())()(())()((...          34\n",
       "1      ()()()()()((()(()))())()(())(())((((()()((()()...          11\n",
       "2      )()))()()(())(((())))())))(()))((()()(()(())()...       False\n",
       "3      ()())()((()(())))(()())((()())))()(())))((((()...       False\n",
       "4      ()()()(()()()((()(((()))(((((((())))(()(((())(...          41\n",
       "...                                                  ...         ...\n",
       "39795    ))(()()(()))((()()))()())))(())()())))((((()())       False\n",
       "39796  ()()()(()((((())((()(())()(()))((((()(()(((()(...          20\n",
       "39797  ()()(())(()(((((())())))((()()(())))()))()((((...          10\n",
       "39798  ()()(()()((())()))()(()(()(())(())()((())()())...          16\n",
       "39799  ((()())((()))()(()(())))((()((((((()))(()())()...          14\n",
       "\n",
       "[39800 rows x 2 columns]"
      ]
     },
     "execution_count": 10,
     "metadata": {},
     "output_type": "execute_result"
    }
   ],
   "source": [
    "bracket_data    "
   ]
  },
  {
   "cell_type": "code",
   "execution_count": null,
   "metadata": {},
   "outputs": [],
   "source": [
    "bracket_data.to_csv('balanced_brackets.csv', index=False)"
   ]
  },
  {
   "cell_type": "code",
   "execution_count": null,
   "metadata": {},
   "outputs": [],
   "source": []
  },
  {
   "cell_type": "code",
   "execution_count": null,
   "metadata": {},
   "outputs": [],
   "source": []
  }
 ],
 "metadata": {
  "kernelspec": {
   "display_name": ".venv",
   "language": "python",
   "name": "python3"
  },
  "language_info": {
   "codemirror_mode": {
    "name": "ipython",
    "version": 3
   },
   "file_extension": ".py",
   "mimetype": "text/x-python",
   "name": "python",
   "nbconvert_exporter": "python",
   "pygments_lexer": "ipython3",
   "version": "3.10.13"
  }
 },
 "nbformat": 4,
 "nbformat_minor": 2
}
