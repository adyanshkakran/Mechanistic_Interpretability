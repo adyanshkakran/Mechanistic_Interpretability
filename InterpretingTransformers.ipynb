{
  "cells": [
    {
      "cell_type": "markdown",
      "metadata": {
        "id": "view-in-github",
        "colab_type": "text"
      },
      "source": [
        "<a href=\"https://colab.research.google.com/github/adyanshkakran/Mechanistic_Interpretability/blob/main/InterpretingTransformers.ipynb\" target=\"_parent\"><img src=\"https://colab.research.google.com/assets/colab-badge.svg\" alt=\"Open In Colab\"/></a>"
      ]
    },
    {
      "cell_type": "markdown",
      "metadata": {
        "id": "2erUPKyJQTZ8"
      },
      "source": [
        "<a target=\"_blank\" href=\"https://colab.research.google.com/github/neelnanda-io/TransformerLens/blob/main/demos/Grokking_Demo.ipynb\">\n",
        "  <img src=\"https://colab.research.google.com/assets/colab-badge.svg\" alt=\"Open In Colab\"/>\n",
        "</a>"
      ]
    },
    {
      "cell_type": "markdown",
      "metadata": {
        "id": "makFhS2SQTZ_"
      },
      "source": [
        "# Grokking Demo Notebook\n",
        "\n",
        "<b style=\"color: red\">To use this notebook, go to Runtime > Change Runtime Type and select GPU as the hardware accelerator.</b>"
      ]
    },
    {
      "cell_type": "markdown",
      "metadata": {
        "id": "zwgbMKKtQTZ_"
      },
      "source": [
        "# Setup\n",
        "(No need to read)"
      ]
    },
    {
      "cell_type": "code",
      "execution_count": null,
      "metadata": {
        "id": "SmCRtzWjQTaA"
      },
      "outputs": [],
      "source": [
        "TRAIN_MODEL = True"
      ]
    },
    {
      "cell_type": "code",
      "execution_count": null,
      "metadata": {
        "colab": {
          "base_uri": "https://localhost:8080/"
        },
        "id": "2mrTSk95kUrQ",
        "outputId": "037ffb4b-c753-4f08-a802-78e009842451"
      },
      "outputs": [
        {
          "output_type": "stream",
          "name": "stdout",
          "text": [
            "Fri Mar  1 16:40:29 2024       \n",
            "+---------------------------------------------------------------------------------------+\n",
            "| NVIDIA-SMI 535.104.05             Driver Version: 535.104.05   CUDA Version: 12.2     |\n",
            "|-----------------------------------------+----------------------+----------------------+\n",
            "| GPU  Name                 Persistence-M | Bus-Id        Disp.A | Volatile Uncorr. ECC |\n",
            "| Fan  Temp   Perf          Pwr:Usage/Cap |         Memory-Usage | GPU-Util  Compute M. |\n",
            "|                                         |                      |               MIG M. |\n",
            "|=========================================+======================+======================|\n",
            "|   0  Tesla T4                       Off | 00000000:00:04.0 Off |                    0 |\n",
            "| N/A   65C    P8              11W /  70W |      0MiB / 15360MiB |      0%      Default |\n",
            "|                                         |                      |                  N/A |\n",
            "+-----------------------------------------+----------------------+----------------------+\n",
            "                                                                                         \n",
            "+---------------------------------------------------------------------------------------+\n",
            "| Processes:                                                                            |\n",
            "|  GPU   GI   CI        PID   Type   Process name                            GPU Memory |\n",
            "|        ID   ID                                                             Usage      |\n",
            "|=======================================================================================|\n",
            "|  No running processes found                                                           |\n",
            "+---------------------------------------------------------------------------------------+\n"
          ]
        }
      ],
      "source": [
        "!nvidia-smi"
      ]
    },
    {
      "cell_type": "code",
      "execution_count": null,
      "metadata": {
        "colab": {
          "base_uri": "https://localhost:8080/"
        },
        "id": "bJCSU4e8QTaB",
        "outputId": "96a25523-a3a4-4d0a-fdf3-c2286c22da2d"
      },
      "outputs": [
        {
          "output_type": "stream",
          "name": "stdout",
          "text": [
            "Running as a Colab notebook\n",
            "Collecting transformer-lens\n",
            "  Downloading transformer_lens-1.14.0-py3-none-any.whl (122 kB)\n",
            "\u001b[2K     \u001b[90m━━━━━━━━━━━━━━━━━━━━━━━━━━━━━━━━━━━━━━━━\u001b[0m \u001b[32m122.9/122.9 kB\u001b[0m \u001b[31m1.3 MB/s\u001b[0m eta \u001b[36m0:00:00\u001b[0m\n",
            "\u001b[?25hCollecting accelerate>=0.23.0 (from transformer-lens)\n",
            "  Downloading accelerate-0.27.2-py3-none-any.whl (279 kB)\n",
            "\u001b[2K     \u001b[90m━━━━━━━━━━━━━━━━━━━━━━━━━━━━━━━━━━━━━━━━\u001b[0m \u001b[32m280.0/280.0 kB\u001b[0m \u001b[31m4.7 MB/s\u001b[0m eta \u001b[36m0:00:00\u001b[0m\n",
            "\u001b[?25hCollecting beartype<0.15.0,>=0.14.1 (from transformer-lens)\n",
            "  Downloading beartype-0.14.1-py3-none-any.whl (739 kB)\n",
            "\u001b[2K     \u001b[90m━━━━━━━━━━━━━━━━━━━━━━━━━━━━━━━━━━━━━━━━\u001b[0m \u001b[32m739.7/739.7 kB\u001b[0m \u001b[31m12.5 MB/s\u001b[0m eta \u001b[36m0:00:00\u001b[0m\n",
            "\u001b[?25hCollecting better-abc<0.0.4,>=0.0.3 (from transformer-lens)\n",
            "  Downloading better_abc-0.0.3-py3-none-any.whl (3.5 kB)\n",
            "Collecting datasets>=2.7.1 (from transformer-lens)\n",
            "  Downloading datasets-2.17.1-py3-none-any.whl (536 kB)\n",
            "\u001b[2K     \u001b[90m━━━━━━━━━━━━━━━━━━━━━━━━━━━━━━━━━━━━━━━━\u001b[0m \u001b[32m536.7/536.7 kB\u001b[0m \u001b[31m32.4 MB/s\u001b[0m eta \u001b[36m0:00:00\u001b[0m\n",
            "\u001b[?25hCollecting einops>=0.6.0 (from transformer-lens)\n",
            "  Downloading einops-0.7.0-py3-none-any.whl (44 kB)\n",
            "\u001b[2K     \u001b[90m━━━━━━━━━━━━━━━━━━━━━━━━━━━━━━━━━━━━━━━━\u001b[0m \u001b[32m44.6/44.6 kB\u001b[0m \u001b[31m3.1 MB/s\u001b[0m eta \u001b[36m0:00:00\u001b[0m\n",
            "\u001b[?25hCollecting fancy-einsum>=0.0.3 (from transformer-lens)\n",
            "  Downloading fancy_einsum-0.0.3-py3-none-any.whl (6.2 kB)\n",
            "Collecting jaxtyping>=0.2.11 (from transformer-lens)\n",
            "  Downloading jaxtyping-0.2.25-py3-none-any.whl (39 kB)\n",
            "Requirement already satisfied: numpy>=1.24 in /usr/local/lib/python3.10/dist-packages (from transformer-lens) (1.25.2)\n",
            "Requirement already satisfied: pandas>=1.1.5 in /usr/local/lib/python3.10/dist-packages (from transformer-lens) (1.5.3)\n",
            "Requirement already satisfied: rich>=12.6.0 in /usr/local/lib/python3.10/dist-packages (from transformer-lens) (13.7.0)\n",
            "Collecting torch!=2.0,!=2.1.0,>=1.10 (from transformer-lens)\n",
            "  Downloading torch-2.2.1-cp310-cp310-manylinux1_x86_64.whl (755.5 MB)\n",
            "\u001b[2K     \u001b[90m━━━━━━━━━━━━━━━━━━━━━━━━━━━━━━━━━━━━━━━━\u001b[0m \u001b[32m755.5/755.5 MB\u001b[0m \u001b[31m1.5 MB/s\u001b[0m eta \u001b[36m0:00:00\u001b[0m\n",
            "\u001b[?25hRequirement already satisfied: tqdm>=4.64.1 in /usr/local/lib/python3.10/dist-packages (from transformer-lens) (4.66.2)\n",
            "Requirement already satisfied: transformers>=4.34 in /usr/local/lib/python3.10/dist-packages (from transformer-lens) (4.38.1)\n",
            "Requirement already satisfied: typing-extensions in /usr/local/lib/python3.10/dist-packages (from transformer-lens) (4.10.0)\n",
            "Collecting wandb>=0.13.5 (from transformer-lens)\n",
            "  Downloading wandb-0.16.3-py3-none-any.whl (2.2 MB)\n",
            "\u001b[2K     \u001b[90m━━━━━━━━━━━━━━━━━━━━━━━━━━━━━━━━━━━━━━━━\u001b[0m \u001b[32m2.2/2.2 MB\u001b[0m \u001b[31m17.8 MB/s\u001b[0m eta \u001b[36m0:00:00\u001b[0m\n",
            "\u001b[?25hRequirement already satisfied: packaging>=20.0 in /usr/local/lib/python3.10/dist-packages (from accelerate>=0.23.0->transformer-lens) (23.2)\n",
            "Requirement already satisfied: psutil in /usr/local/lib/python3.10/dist-packages (from accelerate>=0.23.0->transformer-lens) (5.9.5)\n",
            "Requirement already satisfied: pyyaml in /usr/local/lib/python3.10/dist-packages (from accelerate>=0.23.0->transformer-lens) (6.0.1)\n",
            "Requirement already satisfied: huggingface-hub in /usr/local/lib/python3.10/dist-packages (from accelerate>=0.23.0->transformer-lens) (0.20.3)\n",
            "Requirement already satisfied: safetensors>=0.3.1 in /usr/local/lib/python3.10/dist-packages (from accelerate>=0.23.0->transformer-lens) (0.4.2)\n",
            "Requirement already satisfied: filelock in /usr/local/lib/python3.10/dist-packages (from datasets>=2.7.1->transformer-lens) (3.13.1)\n",
            "Requirement already satisfied: pyarrow>=12.0.0 in /usr/local/lib/python3.10/dist-packages (from datasets>=2.7.1->transformer-lens) (14.0.2)\n",
            "Requirement already satisfied: pyarrow-hotfix in /usr/local/lib/python3.10/dist-packages (from datasets>=2.7.1->transformer-lens) (0.6)\n",
            "Collecting dill<0.3.9,>=0.3.0 (from datasets>=2.7.1->transformer-lens)\n",
            "  Downloading dill-0.3.8-py3-none-any.whl (116 kB)\n",
            "\u001b[2K     \u001b[90m━━━━━━━━━━━━━━━━━━━━━━━━━━━━━━━━━━━━━━━━\u001b[0m \u001b[32m116.3/116.3 kB\u001b[0m \u001b[31m14.1 MB/s\u001b[0m eta \u001b[36m0:00:00\u001b[0m\n",
            "\u001b[?25hRequirement already satisfied: requests>=2.19.0 in /usr/local/lib/python3.10/dist-packages (from datasets>=2.7.1->transformer-lens) (2.31.0)\n",
            "Requirement already satisfied: xxhash in /usr/local/lib/python3.10/dist-packages (from datasets>=2.7.1->transformer-lens) (3.4.1)\n",
            "Collecting multiprocess (from datasets>=2.7.1->transformer-lens)\n",
            "  Downloading multiprocess-0.70.16-py310-none-any.whl (134 kB)\n",
            "\u001b[2K     \u001b[90m━━━━━━━━━━━━━━━━━━━━━━━━━━━━━━━━━━━━━━━━\u001b[0m \u001b[32m134.8/134.8 kB\u001b[0m \u001b[31m15.6 MB/s\u001b[0m eta \u001b[36m0:00:00\u001b[0m\n",
            "\u001b[?25hRequirement already satisfied: fsspec[http]<=2023.10.0,>=2023.1.0 in /usr/local/lib/python3.10/dist-packages (from datasets>=2.7.1->transformer-lens) (2023.6.0)\n",
            "Requirement already satisfied: aiohttp in /usr/local/lib/python3.10/dist-packages (from datasets>=2.7.1->transformer-lens) (3.9.3)\n",
            "Collecting typeguard<3,>=2.13.3 (from jaxtyping>=0.2.11->transformer-lens)\n",
            "  Downloading typeguard-2.13.3-py3-none-any.whl (17 kB)\n",
            "Requirement already satisfied: python-dateutil>=2.8.1 in /usr/local/lib/python3.10/dist-packages (from pandas>=1.1.5->transformer-lens) (2.8.2)\n",
            "Requirement already satisfied: pytz>=2020.1 in /usr/local/lib/python3.10/dist-packages (from pandas>=1.1.5->transformer-lens) (2023.4)\n",
            "Requirement already satisfied: markdown-it-py>=2.2.0 in /usr/local/lib/python3.10/dist-packages (from rich>=12.6.0->transformer-lens) (3.0.0)\n",
            "Requirement already satisfied: pygments<3.0.0,>=2.13.0 in /usr/local/lib/python3.10/dist-packages (from rich>=12.6.0->transformer-lens) (2.16.1)\n",
            "Requirement already satisfied: sympy in /usr/local/lib/python3.10/dist-packages (from torch!=2.0,!=2.1.0,>=1.10->transformer-lens) (1.12)\n",
            "Requirement already satisfied: networkx in /usr/local/lib/python3.10/dist-packages (from torch!=2.0,!=2.1.0,>=1.10->transformer-lens) (3.2.1)\n",
            "Requirement already satisfied: jinja2 in /usr/local/lib/python3.10/dist-packages (from torch!=2.0,!=2.1.0,>=1.10->transformer-lens) (3.1.3)\n",
            "Collecting nvidia-cuda-nvrtc-cu12==12.1.105 (from torch!=2.0,!=2.1.0,>=1.10->transformer-lens)\n",
            "  Downloading nvidia_cuda_nvrtc_cu12-12.1.105-py3-none-manylinux1_x86_64.whl (23.7 MB)\n",
            "\u001b[2K     \u001b[90m━━━━━━━━━━━━━━━━━━━━━━━━━━━━━━━━━━━━━━━━\u001b[0m \u001b[32m23.7/23.7 MB\u001b[0m \u001b[31m18.1 MB/s\u001b[0m eta \u001b[36m0:00:00\u001b[0m\n",
            "\u001b[?25hCollecting nvidia-cuda-runtime-cu12==12.1.105 (from torch!=2.0,!=2.1.0,>=1.10->transformer-lens)\n",
            "  Downloading nvidia_cuda_runtime_cu12-12.1.105-py3-none-manylinux1_x86_64.whl (823 kB)\n",
            "\u001b[2K     \u001b[90m━━━━━━━━━━━━━━━━━━━━━━━━━━━━━━━━━━━━━━━━\u001b[0m \u001b[32m823.6/823.6 kB\u001b[0m \u001b[31m22.4 MB/s\u001b[0m eta \u001b[36m0:00:00\u001b[0m\n",
            "\u001b[?25hCollecting nvidia-cuda-cupti-cu12==12.1.105 (from torch!=2.0,!=2.1.0,>=1.10->transformer-lens)\n",
            "  Downloading nvidia_cuda_cupti_cu12-12.1.105-py3-none-manylinux1_x86_64.whl (14.1 MB)\n",
            "\u001b[2K     \u001b[90m━━━━━━━━━━━━━━━━━━━━━━━━━━━━━━━━━━━━━━━━\u001b[0m \u001b[32m14.1/14.1 MB\u001b[0m \u001b[31m19.8 MB/s\u001b[0m eta \u001b[36m0:00:00\u001b[0m\n",
            "\u001b[?25hCollecting nvidia-cudnn-cu12==8.9.2.26 (from torch!=2.0,!=2.1.0,>=1.10->transformer-lens)\n",
            "  Downloading nvidia_cudnn_cu12-8.9.2.26-py3-none-manylinux1_x86_64.whl (731.7 MB)\n",
            "\u001b[2K     \u001b[90m━━━━━━━━━━━━━━━━━━━━━━━━━━━━━━━━━━━━━━━━\u001b[0m \u001b[32m731.7/731.7 MB\u001b[0m \u001b[31m1.3 MB/s\u001b[0m eta \u001b[36m0:00:00\u001b[0m\n",
            "\u001b[?25hCollecting nvidia-cublas-cu12==12.1.3.1 (from torch!=2.0,!=2.1.0,>=1.10->transformer-lens)\n",
            "  Downloading nvidia_cublas_cu12-12.1.3.1-py3-none-manylinux1_x86_64.whl (410.6 MB)\n",
            "\u001b[2K     \u001b[91m━━━━━━━━━━━━\u001b[0m\u001b[91m╸\u001b[0m\u001b[90m━━━━━━━━━━━━━━━━━━━━━━━━━━━\u001b[0m \u001b[32m132.6/410.6 MB\u001b[0m \u001b[31m3.0 MB/s\u001b[0m eta \u001b[36m0:01:32\u001b[0m"
          ]
        }
      ],
      "source": [
        "# Janky code to do different setup when run in a Colab notebook vs VSCode\n",
        "DEVELOPMENT_MODE = True\n",
        "try:\n",
        "    import google.colab\n",
        "    IN_COLAB = True\n",
        "    print(\"Running as a Colab notebook\")\n",
        "    %pip install transformer-lens\n",
        "    %pip install circuitsvis\n",
        "\n",
        "    # PySvelte is an unmaintained visualization library, use it as a backup if circuitsvis isn't working\n",
        "    # # Install another version of node that makes PySvelte work way faster\n",
        "    # !curl -fsSL https://deb.nodesource.com/setup_16.x | sudo -E bash -; sudo apt-get install -y nodejs\n",
        "    # %pip install git+https://github.com/neelnanda-io/PySvelte.git\n",
        "except:\n",
        "    IN_COLAB = False\n",
        "    print(\"Running as a Jupyter notebook - intended for development only!\")\n",
        "    from IPython import get_ipython\n",
        "\n",
        "    ipython = get_ipython()\n",
        "    # Code to automatically update the HookedTransformer code as its edited without restarting the kernel\n",
        "    ipython.magic(\"load_ext autoreload\")\n",
        "    ipython.magic(\"autoreload 2\")"
      ]
    },
    {
      "cell_type": "code",
      "execution_count": null,
      "metadata": {
        "colab": {
          "base_uri": "https://localhost:8080/"
        },
        "id": "MXBT0zbNQTaB",
        "outputId": "4810dcaf-2062-45b9-efbc-69a11e84c503"
      },
      "outputs": [
        {
          "output_type": "stream",
          "name": "stdout",
          "text": [
            "Using renderer: colab\n"
          ]
        }
      ],
      "source": [
        "# Plotly needs a different renderer for VSCode/Notebooks vs Colab argh\n",
        "import plotly.io as pio\n",
        "if IN_COLAB or not DEVELOPMENT_MODE:\n",
        "    pio.renderers.default = \"colab\"\n",
        "else:\n",
        "    pio.renderers.default = \"notebook_connected\"\n",
        "print(f\"Using renderer: {pio.renderers.default}\")"
      ]
    },
    {
      "cell_type": "code",
      "execution_count": null,
      "metadata": {
        "id": "NyivT9_2QTaB"
      },
      "outputs": [],
      "source": [
        "pio.templates['plotly'].layout.xaxis.title.font.size = 20\n",
        "pio.templates['plotly'].layout.yaxis.title.font.size = 20\n",
        "pio.templates['plotly'].layout.title.font.size = 30"
      ]
    },
    {
      "cell_type": "code",
      "execution_count": null,
      "metadata": {
        "id": "uSB0r3luQTaC"
      },
      "outputs": [],
      "source": [
        "# Import stuff\n",
        "import torch\n",
        "import torch.nn as nn\n",
        "import pandas as pd\n",
        "import torch.nn.functional as F\n",
        "import torch.optim as optim\n",
        "import numpy as np\n",
        "import einops\n",
        "from fancy_einsum import einsum\n",
        "import os\n",
        "import tqdm.auto as tqdm\n",
        "import random\n",
        "from pathlib import Path\n",
        "import plotly.express as px\n",
        "from torch.utils.data import DataLoader\n",
        "\n",
        "from typing import List, Union, Optional\n",
        "from functools import partial\n",
        "import copy\n",
        "\n",
        "# import itertools\n",
        "# from transformers import AutoModelForCausalLM, AutoConfig, AutoTokenizer\n",
        "# import dataclasses\n",
        "# import datasets\n",
        "# from IPython.display import HTML"
      ]
    },
    {
      "cell_type": "code",
      "execution_count": null,
      "metadata": {
        "id": "vsfvtev8QTaC"
      },
      "outputs": [],
      "source": [
        "import transformer_lens\n",
        "import transformer_lens.utils as utils\n",
        "from transformer_lens.hook_points import (\n",
        "    HookedRootModule,\n",
        "    HookPoint,\n",
        ")  # Hooking utilities\n",
        "from transformer_lens import HookedTransformer, HookedTransformerConfig, FactoredMatrix, ActivationCache"
      ]
    },
    {
      "cell_type": "markdown",
      "metadata": {
        "id": "SptS0oE7QTaC"
      },
      "source": [
        "Plotting helper functions:"
      ]
    },
    {
      "cell_type": "code",
      "execution_count": null,
      "metadata": {
        "id": "WCLgjCpQQTaC"
      },
      "outputs": [],
      "source": [
        "def imshow(tensor, renderer=None, xaxis=\"\", yaxis=\"\", **kwargs):\n",
        "    px.imshow(utils.to_numpy(tensor), color_continuous_midpoint=0.0, color_continuous_scale=\"RdBu\", labels={\"x\":xaxis, \"y\":yaxis}, **kwargs).show(renderer)\n",
        "\n",
        "def line(tensor, renderer=None, xaxis=\"\", yaxis=\"\", **kwargs):\n",
        "    px.line(utils.to_numpy(tensor), labels={\"x\":xaxis, \"y\":yaxis}, **kwargs).show(renderer)\n",
        "\n",
        "def scatter(x, y, xaxis=\"\", yaxis=\"\", caxis=\"\", renderer=None, **kwargs):\n",
        "    x = utils.to_numpy(x)\n",
        "    y = utils.to_numpy(y)\n",
        "    px.scatter(y=y, x=x, labels={\"x\":xaxis, \"y\":yaxis, \"color\":caxis}, **kwargs).show(renderer)"
      ]
    },
    {
      "cell_type": "code",
      "execution_count": null,
      "metadata": {
        "id": "d0V1b2NnQTaC"
      },
      "outputs": [],
      "source": [
        "# Define the location to save the model, using a relative path\n",
        "PTH_LOCATION = \"workspace/_scratch/grokking_demo.pth\"\n",
        "\n",
        "# Create the directory if it does not exist\n",
        "os.makedirs(Path(PTH_LOCATION).parent, exist_ok=True)"
      ]
    },
    {
      "cell_type": "markdown",
      "metadata": {
        "id": "wAP6PZaGQTaC"
      },
      "source": [
        "# Model Training"
      ]
    },
    {
      "cell_type": "markdown",
      "metadata": {
        "id": "8q4OjVnWQTaD"
      },
      "source": [
        "## Config"
      ]
    },
    {
      "cell_type": "code",
      "execution_count": null,
      "metadata": {
        "id": "di3ofnA1QTaD"
      },
      "outputs": [],
      "source": [
        "p = 51\n",
        "frac_train = 0.7\n",
        "\n",
        "# Optimizer config\n",
        "lr = 1e-3\n",
        "wd = 1.\n",
        "betas = (0.9, 0.98)\n",
        "\n",
        "num_epochs = 200\n",
        "checkpoint_every = 20\n",
        "\n",
        "DATA_SEED = 598"
      ]
    },
    {
      "cell_type": "markdown",
      "metadata": {
        "id": "EfEjjE3DQTaD"
      },
      "source": [
        "## Define Task\n",
        "* Define modular addition\n",
        "* Define the dataset & labels"
      ]
    },
    {
      "cell_type": "code",
      "execution_count": null,
      "metadata": {
        "colab": {
          "base_uri": "https://localhost:8080/"
        },
        "id": "3uOXNG2vQcAc",
        "outputId": "108557c4-b63a-4a76-b1bf-1523422bb22e"
      },
      "outputs": [
        {
          "output_type": "stream",
          "name": "stdout",
          "text": [
            "Drive already mounted at /content/drive; to attempt to forcibly remount, call drive.mount(\"/content/drive\", force_remount=True).\n"
          ]
        }
      ],
      "source": [
        "from google.colab import drive\n",
        "drive.mount('/content/drive')"
      ]
    },
    {
      "cell_type": "code",
      "execution_count": null,
      "metadata": {
        "id": "EqV9ZGMYQTaD"
      },
      "outputs": [],
      "source": [
        "import csv"
      ]
    },
    {
      "cell_type": "code",
      "execution_count": null,
      "metadata": {
        "id": "wf1lVHyNQTaD"
      },
      "outputs": [],
      "source": [
        "# create string tensors to store the strings and labels\n",
        "a_strings = []\n",
        "b_strings = []\n",
        "labels = []\n",
        "with open('/content/drive/MyDrive/data_1.csv') as csvfile:\n",
        "    data = list(csv.reader(csvfile))\n",
        "    data = data[1:]\n",
        "    for line in data:\n",
        "        a, b, label = line[0], line[1], line[2]\n",
        "        a_strings.append(a)\n",
        "        b_strings.append(b)\n",
        "        labels.append(label)"
      ]
    },
    {
      "cell_type": "code",
      "execution_count": null,
      "metadata": {
        "colab": {
          "base_uri": "https://localhost:8080/"
        },
        "id": "ChnNPTN1QTaD",
        "outputId": "ec648d57-1f04-4e30-9818-3e69c2c81fb5"
      },
      "outputs": [
        {
          "output_type": "execute_result",
          "data": {
            "text/plain": [
              "(10200, 10200, 10200)"
            ]
          },
          "metadata": {},
          "execution_count": 63
        }
      ],
      "source": [
        "len(a_strings), len(b_strings), len(labels)"
      ]
    },
    {
      "cell_type": "code",
      "execution_count": null,
      "metadata": {
        "colab": {
          "base_uri": "https://localhost:8080/"
        },
        "id": "umHZQOEqQTaD",
        "outputId": "684a6c7c-0946-4b93-cd03-5a7e46d5049c"
      },
      "outputs": [
        {
          "output_type": "stream",
          "name": "stdout",
          "text": [
            "78 76\n"
          ]
        }
      ],
      "source": [
        "# get the longest string length\n",
        "max_len_a = max([len(s) for s in a_strings])\n",
        "max_len_b = max([len(s) for s in b_strings])\n",
        "print(max_len_a, max_len_b)\n",
        "\n",
        "# max_str = max(strings, key=len)\n",
        "# max_str"
      ]
    },
    {
      "cell_type": "code",
      "execution_count": null,
      "metadata": {
        "colab": {
          "base_uri": "https://localhost:8080/"
        },
        "id": "ekG75KmGQTaD",
        "outputId": "17e73d78-b3f4-4c2e-fd6d-1f9594aaa972"
      },
      "outputs": [
        {
          "output_type": "stream",
          "name": "stdout",
          "text": [
            "51\n"
          ]
        },
        {
          "output_type": "execute_result",
          "data": {
            "text/plain": [
              "['64*q*',\n",
              " 'g*gq*',\n",
              " '5*9*a',\n",
              " '1*y*u',\n",
              " 'v*r*k',\n",
              " 'f*36*',\n",
              " 'w*o0*',\n",
              " 'bs*i*',\n",
              " 'i*j*p',\n",
              " 'l*4*1',\n",
              " '8*71*',\n",
              " '9*u*s',\n",
              " 'm*k*w',\n",
              " 'a6*w*',\n",
              " 'e0*c*',\n",
              " 'lz*d*',\n",
              " 'ur*3*',\n",
              " 'p*r1*',\n",
              " 't*f*8',\n",
              " '6*21*',\n",
              " 's*2*2',\n",
              " '9b*n*',\n",
              " '4*kc*',\n",
              " 'j*co*',\n",
              " '47*2*',\n",
              " 'qr*5*',\n",
              " 'gt*n*',\n",
              " '4a*0*',\n",
              " 'r*ql*',\n",
              " 'd*s*q',\n",
              " 'p*j5*',\n",
              " 'j*q*w',\n",
              " 'gs*d*',\n",
              " 'u*vu*',\n",
              " 'f*g*3',\n",
              " 'u*87*',\n",
              " '6x*h*',\n",
              " '7*p*6',\n",
              " '7m*w*',\n",
              " 'k6*g*',\n",
              " 'l*i*f',\n",
              " 'c7*f*',\n",
              " 'w*z*v',\n",
              " '7*c*e',\n",
              " 'w*2*r',\n",
              " 'ls*i*',\n",
              " '8*kq*',\n",
              " '6*i3*',\n",
              " '1*u4*',\n",
              " '9*bp*',\n",
              " '5*3f*']"
            ]
          },
          "metadata": {},
          "execution_count": 65
        }
      ],
      "source": [
        "# get the unique labels\n",
        "unique_labels = list(set(labels))\n",
        "print(len(unique_labels))\n",
        "unique_labels"
      ]
    },
    {
      "cell_type": "code",
      "source": [
        "chars = {}\n",
        "count = 1\n",
        "for label in unique_labels:\n",
        "  for char in label:\n",
        "    if char not in chars:\n",
        "      chars[char] = count\n",
        "      count+=1\n",
        "chars"
      ],
      "metadata": {
        "colab": {
          "base_uri": "https://localhost:8080/"
        },
        "id": "bw1WPC1YKtgS",
        "outputId": "536221a0-5428-499c-a53f-73e70c617268"
      },
      "execution_count": null,
      "outputs": [
        {
          "output_type": "execute_result",
          "data": {
            "text/plain": [
              "{'6': 1,\n",
              " '4': 2,\n",
              " '*': 3,\n",
              " 'q': 4,\n",
              " 'g': 5,\n",
              " '5': 6,\n",
              " '9': 7,\n",
              " 'a': 8,\n",
              " '1': 9,\n",
              " 'y': 10,\n",
              " 'u': 11,\n",
              " 'v': 12,\n",
              " 'r': 13,\n",
              " 'k': 14,\n",
              " 'f': 15,\n",
              " '3': 16,\n",
              " 'w': 17,\n",
              " 'o': 18,\n",
              " '0': 19,\n",
              " 'b': 20,\n",
              " 's': 21,\n",
              " 'i': 22,\n",
              " 'j': 23,\n",
              " 'p': 24,\n",
              " 'l': 25,\n",
              " '8': 26,\n",
              " '7': 27,\n",
              " 'm': 28,\n",
              " 'e': 29,\n",
              " 'c': 30,\n",
              " 'z': 31,\n",
              " 'd': 32,\n",
              " 't': 33,\n",
              " '2': 34,\n",
              " 'n': 35,\n",
              " 'x': 36,\n",
              " 'h': 37}"
            ]
          },
          "metadata": {},
          "execution_count": 66
        }
      ]
    },
    {
      "cell_type": "code",
      "execution_count": null,
      "metadata": {
        "id": "W32ZbZs0QTaD"
      },
      "outputs": [],
      "source": [
        "def string_to_tensor(string, max_length=80):\n",
        "    # Convert characters to numerical values\n",
        "    char_to_int = chars\n",
        "    tensor = [char_to_int[char] for char in string]\n",
        "\n",
        "    # Pad the tensor to the max_length with 0\n",
        "    tensor += [0] * (max_length - len(tensor))\n",
        "\n",
        "    return tensor\n",
        "\n",
        "def label_to_tensor(label, unique_labels):\n",
        "    # Convert the label to a one-hot tensor\n",
        "    label_tensor = [0] * len(unique_labels)\n",
        "    label_tensor[unique_labels.index(label)] = 1\n",
        "\n",
        "    return label_tensor"
      ]
    },
    {
      "cell_type": "code",
      "execution_count": null,
      "metadata": {
        "colab": {
          "base_uri": "https://localhost:8080/"
        },
        "id": "TRzjXVjLQTaD",
        "outputId": "6912f330-f237-4d03-b407-491c0bea0c0b"
      },
      "outputs": [
        {
          "output_type": "execute_result",
          "data": {
            "text/plain": [
              "(torch.Size([10200, 80]), torch.Size([10200, 80]))"
            ]
          },
          "metadata": {},
          "execution_count": 74
        }
      ],
      "source": [
        "# Convert the strings to tensors\n",
        "input_tensors_a = torch.from_numpy(np.array([string_to_tensor(s) for s in a_strings]))\n",
        "input_tensors_b = torch.from_numpy(np.array([string_to_tensor(s) for s in b_strings]))\n",
        "input_tensors_a.shape, input_tensors_b.shape"
      ]
    },
    {
      "cell_type": "code",
      "execution_count": null,
      "metadata": {
        "colab": {
          "base_uri": "https://localhost:8080/"
        },
        "id": "3gAiEtM7QTaD",
        "outputId": "159268b3-a9cf-43b0-d874-438ef4280d54"
      },
      "outputs": [
        {
          "output_type": "execute_result",
          "data": {
            "text/plain": [
              "(10200, 51)"
            ]
          },
          "metadata": {},
          "execution_count": 75
        }
      ],
      "source": [
        "label_tensors = np.array([label_to_tensor(l, unique_labels) for l in labels])\n",
        "label_tensors.shape"
      ]
    },
    {
      "cell_type": "code",
      "execution_count": null,
      "metadata": {
        "colab": {
          "base_uri": "https://localhost:8080/"
        },
        "id": "Wsw7IwPBQTaD",
        "outputId": "195e9ed2-309b-41e7-fedf-57277f83bd51"
      },
      "outputs": [
        {
          "output_type": "stream",
          "name": "stdout",
          "text": [
            "tensor([11, 13, 13, 13, 13, 13, 13, 13, 13,  0,  0,  0,  0,  0,  0,  0,  0,  0,\n",
            "         0,  0,  0,  0,  0,  0,  0,  0,  0,  0,  0,  0,  0,  0,  0,  0,  0,  0,\n",
            "         0,  0,  0,  0,  0,  0,  0,  0,  0,  0,  0,  0,  0,  0,  0,  0,  0,  0,\n",
            "         0,  0,  0,  0,  0,  0,  0,  0,  0,  0,  0,  0,  0,  0,  0,  0,  0,  0,\n",
            "         0,  0,  0,  0,  0,  0,  0,  0]) tensor([13, 13, 13, 16, 16, 16, 16, 16, 16, 16, 16, 16, 16, 16, 16, 16, 16, 16,\n",
            "        16,  0,  0,  0,  0,  0,  0,  0,  0,  0,  0,  0,  0,  0,  0,  0,  0,  0,\n",
            "         0,  0,  0,  0,  0,  0,  0,  0,  0,  0,  0,  0,  0,  0,  0,  0,  0,  0,\n",
            "         0,  0,  0,  0,  0,  0,  0,  0,  0,  0,  0,  0,  0,  0,  0,  0,  0,  0,\n",
            "         0,  0,  0,  0,  0,  0,  0,  0]) [0 0 0 0 0 0 0 0 0 0 0 0 0 0 0 0 1 0 0 0 0 0 0 0 0 0 0 0 0 0 0 0 0 0 0 0 0\n",
            " 0 0 0 0 0 0 0 0 0 0 0 0 0 0]\n",
            "tensor([11, 13, 13, 13, 13, 13, 13, 13, 13, 13, 13, 16, 16, 16, 16, 16, 16, 16,\n",
            "        16, 16, 16, 16, 16, 16, 16, 16, 16, 16, 16, 16,  0,  0,  0,  0,  0,  0,\n",
            "         0,  0,  0,  0,  0,  0,  0,  0,  0,  0,  0,  0,  0,  0,  0,  0,  0,  0,\n",
            "         0,  0,  0,  0,  0,  0,  0,  0,  0,  0,  0,  0,  0,  0,  0,  0,  0,  0,\n",
            "         0,  0,  0,  0,  0,  0,  0,  0]) tensor([16, 16, 16, 16, 16, 16,  0,  0,  0,  0,  0,  0,  0,  0,  0,  0,  0,  0,\n",
            "         0,  0,  0,  0,  0,  0,  0,  0,  0,  0,  0,  0,  0,  0,  0,  0,  0,  0,\n",
            "         0,  0,  0,  0,  0,  0,  0,  0,  0,  0,  0,  0,  0,  0,  0,  0,  0,  0,\n",
            "         0,  0,  0,  0,  0,  0,  0,  0,  0,  0,  0,  0,  0,  0,  0,  0,  0,  0,\n",
            "         0,  0,  0,  0,  0,  0,  0,  0]) [0 0 0 0 0 0 0 0 0 0 0 0 0 0 0 0 1 0 0 0 0 0 0 0 0 0 0 0 0 0 0 0 0 0 0 0 0\n",
            " 0 0 0 0 0 0 0 0 0 0 0 0 0 0]\n",
            "tensor([11, 13, 13, 13, 13, 13, 13, 13, 13, 13, 13, 13, 13, 13, 13, 13, 13,  0,\n",
            "         0,  0,  0,  0,  0,  0,  0,  0,  0,  0,  0,  0,  0,  0,  0,  0,  0,  0,\n",
            "         0,  0,  0,  0,  0,  0,  0,  0,  0,  0,  0,  0,  0,  0,  0,  0,  0,  0,\n",
            "         0,  0,  0,  0,  0,  0,  0,  0,  0,  0,  0,  0,  0,  0,  0,  0,  0,  0,\n",
            "         0,  0,  0,  0,  0,  0,  0,  0]) tensor([13, 13, 13, 13, 13, 13, 13, 13, 13, 13, 13, 13, 13, 13, 13, 13, 13, 13,\n",
            "        13, 13, 13, 16, 16, 16, 16, 16, 16, 16, 16, 16, 16, 16, 16, 16, 16, 16,\n",
            "        16, 16, 16, 16, 16, 16,  0,  0,  0,  0,  0,  0,  0,  0,  0,  0,  0,  0,\n",
            "         0,  0,  0,  0,  0,  0,  0,  0,  0,  0,  0,  0,  0,  0,  0,  0,  0,  0,\n",
            "         0,  0,  0,  0,  0,  0,  0,  0]) [0 0 0 0 0 0 0 0 0 0 0 0 0 0 0 0 1 0 0 0 0 0 0 0 0 0 0 0 0 0 0 0 0 0 0 0 0\n",
            " 0 0 0 0 0 0 0 0 0 0 0 0 0 0]\n",
            "tensor([11, 13, 13, 13, 13,  0,  0,  0,  0,  0,  0,  0,  0,  0,  0,  0,  0,  0,\n",
            "         0,  0,  0,  0,  0,  0,  0,  0,  0,  0,  0,  0,  0,  0,  0,  0,  0,  0,\n",
            "         0,  0,  0,  0,  0,  0,  0,  0,  0,  0,  0,  0,  0,  0,  0,  0,  0,  0,\n",
            "         0,  0,  0,  0,  0,  0,  0,  0,  0,  0,  0,  0,  0,  0,  0,  0,  0,  0,\n",
            "         0,  0,  0,  0,  0,  0,  0,  0]) tensor([13, 13, 13, 13, 13, 13, 13, 13, 13, 13, 13, 13, 13, 13, 13, 13, 13, 13,\n",
            "        13, 16, 16, 16, 16, 16, 16, 16, 16, 16, 16, 16, 16, 16, 16, 16, 16, 16,\n",
            "        16, 16, 16, 16, 16, 16, 16, 16, 16, 16, 16,  0,  0,  0,  0,  0,  0,  0,\n",
            "         0,  0,  0,  0,  0,  0,  0,  0,  0,  0,  0,  0,  0,  0,  0,  0,  0,  0,\n",
            "         0,  0,  0,  0,  0,  0,  0,  0]) [0 0 0 0 0 0 0 0 0 0 0 0 0 0 0 0 1 0 0 0 0 0 0 0 0 0 0 0 0 0 0 0 0 0 0 0 0\n",
            " 0 0 0 0 0 0 0 0 0 0 0 0 0 0]\n",
            "tensor([11, 13, 13, 13, 13, 13, 13, 13,  0,  0,  0,  0,  0,  0,  0,  0,  0,  0,\n",
            "         0,  0,  0,  0,  0,  0,  0,  0,  0,  0,  0,  0,  0,  0,  0,  0,  0,  0,\n",
            "         0,  0,  0,  0,  0,  0,  0,  0,  0,  0,  0,  0,  0,  0,  0,  0,  0,  0,\n",
            "         0,  0,  0,  0,  0,  0,  0,  0,  0,  0,  0,  0,  0,  0,  0,  0,  0,  0,\n",
            "         0,  0,  0,  0,  0,  0,  0,  0]) tensor([13, 13, 13, 13, 13, 13, 13, 13, 13, 13, 13, 13, 13, 13, 13, 13, 16, 16,\n",
            "        16, 16, 16, 16, 16, 16, 16, 16, 16, 16, 16, 16, 16, 16, 16,  0,  0,  0,\n",
            "         0,  0,  0,  0,  0,  0,  0,  0,  0,  0,  0,  0,  0,  0,  0,  0,  0,  0,\n",
            "         0,  0,  0,  0,  0,  0,  0,  0,  0,  0,  0,  0,  0,  0,  0,  0,  0,  0,\n",
            "         0,  0,  0,  0,  0,  0,  0,  0]) [0 0 0 0 0 0 0 0 0 0 0 0 0 0 0 0 1 0 0 0 0 0 0 0 0 0 0 0 0 0 0 0 0 0 0 0 0\n",
            " 0 0 0 0 0 0 0 0 0 0 0 0 0 0]\n"
          ]
        }
      ],
      "source": [
        "# print the first 5 input and label tensors\n",
        "for i in range(5):\n",
        "    print(input_tensors_a[i], input_tensors_b[i], label_tensors[i])"
      ]
    },
    {
      "cell_type": "markdown",
      "metadata": {
        "id": "nNQTXDyTQTaE"
      },
      "source": [
        "Input format:\n",
        "|a|b|=|"
      ]
    },
    {
      "cell_type": "code",
      "execution_count": null,
      "metadata": {
        "colab": {
          "base_uri": "https://localhost:8080/",
          "height": 228
        },
        "id": "5biGTAzMQTaE",
        "outputId": "a7d19e97-8a98-400c-e1fb-609b25744397"
      },
      "outputs": [
        {
          "output_type": "error",
          "ename": "RuntimeError",
          "evalue": "CUDA error: device-side assert triggered\nCUDA kernel errors might be asynchronously reported at some other API call, so the stacktrace below might be incorrect.\nFor debugging consider passing CUDA_LAUNCH_BLOCKING=1.\nCompile with `TORCH_USE_CUDA_DSA` to enable device-side assertions.\n",
          "traceback": [
            "\u001b[0;31m---------------------------------------------------------------------------\u001b[0m",
            "\u001b[0;31mRuntimeError\u001b[0m                              Traceback (most recent call last)",
            "\u001b[0;32m<ipython-input-85-9c69acc24f4e>\u001b[0m in \u001b[0;36m<cell line: 1>\u001b[0;34m()\u001b[0m\n\u001b[0;32m----> 1\u001b[0;31m \u001b[0mdataset\u001b[0m \u001b[0;34m=\u001b[0m \u001b[0mtorch\u001b[0m\u001b[0;34m.\u001b[0m\u001b[0mreshape\u001b[0m\u001b[0;34m(\u001b[0m\u001b[0mtorch\u001b[0m\u001b[0;34m.\u001b[0m\u001b[0mstack\u001b[0m\u001b[0;34m(\u001b[0m\u001b[0;34m[\u001b[0m\u001b[0minput_tensors_a\u001b[0m\u001b[0;34m,\u001b[0m \u001b[0minput_tensors_b\u001b[0m\u001b[0;34m]\u001b[0m\u001b[0;34m,\u001b[0m \u001b[0mdim\u001b[0m\u001b[0;34m=\u001b[0m\u001b[0;36m1\u001b[0m\u001b[0;34m)\u001b[0m\u001b[0;34m,\u001b[0m \u001b[0;34m[\u001b[0m\u001b[0;36m10200\u001b[0m\u001b[0;34m,\u001b[0m \u001b[0;36m160\u001b[0m\u001b[0;34m]\u001b[0m\u001b[0;34m)\u001b[0m\u001b[0;34m.\u001b[0m\u001b[0mcuda\u001b[0m\u001b[0;34m(\u001b[0m\u001b[0;34m)\u001b[0m\u001b[0;34m\u001b[0m\u001b[0;34m\u001b[0m\u001b[0m\n\u001b[0m\u001b[1;32m      2\u001b[0m \u001b[0mprint\u001b[0m\u001b[0;34m(\u001b[0m\u001b[0mdataset\u001b[0m\u001b[0;34m[\u001b[0m\u001b[0;34m:\u001b[0m\u001b[0;36m5\u001b[0m\u001b[0;34m]\u001b[0m\u001b[0;34m)\u001b[0m\u001b[0;34m\u001b[0m\u001b[0;34m\u001b[0m\u001b[0m\n\u001b[1;32m      3\u001b[0m \u001b[0mprint\u001b[0m\u001b[0;34m(\u001b[0m\u001b[0mdataset\u001b[0m\u001b[0;34m.\u001b[0m\u001b[0mshape\u001b[0m\u001b[0;34m)\u001b[0m\u001b[0;34m\u001b[0m\u001b[0;34m\u001b[0m\u001b[0m\n",
            "\u001b[0;31mRuntimeError\u001b[0m: CUDA error: device-side assert triggered\nCUDA kernel errors might be asynchronously reported at some other API call, so the stacktrace below might be incorrect.\nFor debugging consider passing CUDA_LAUNCH_BLOCKING=1.\nCompile with `TORCH_USE_CUDA_DSA` to enable device-side assertions.\n"
          ]
        }
      ],
      "source": [
        "dataset = torch.reshape(torch.stack([input_tensors_a, input_tensors_b], dim=1), [10200, 160]).cuda()\n",
        "print(dataset[:5])\n",
        "print(dataset.shape)"
      ]
    },
    {
      "cell_type": "code",
      "execution_count": null,
      "metadata": {
        "colab": {
          "base_uri": "https://localhost:8080/"
        },
        "id": "wk8t4ORHQTaE",
        "outputId": "dc15adc1-625d-442c-bda8-6637c9df94d5"
      },
      "outputs": [
        {
          "output_type": "stream",
          "name": "stdout",
          "text": [
            "tensor([[0, 0, 0, 0, 0, 0, 0, 0, 0, 0, 0, 0, 0, 0, 0, 0, 1, 0, 0, 0, 0, 0, 0, 0,\n",
            "         0, 0, 0, 0, 0, 0, 0, 0, 0, 0, 0, 0, 0, 0, 0, 0, 0, 0, 0, 0, 0, 0, 0, 0,\n",
            "         0, 0, 0],\n",
            "        [0, 0, 0, 0, 0, 0, 0, 0, 0, 0, 0, 0, 0, 0, 0, 0, 1, 0, 0, 0, 0, 0, 0, 0,\n",
            "         0, 0, 0, 0, 0, 0, 0, 0, 0, 0, 0, 0, 0, 0, 0, 0, 0, 0, 0, 0, 0, 0, 0, 0,\n",
            "         0, 0, 0],\n",
            "        [0, 0, 0, 0, 0, 0, 0, 0, 0, 0, 0, 0, 0, 0, 0, 0, 1, 0, 0, 0, 0, 0, 0, 0,\n",
            "         0, 0, 0, 0, 0, 0, 0, 0, 0, 0, 0, 0, 0, 0, 0, 0, 0, 0, 0, 0, 0, 0, 0, 0,\n",
            "         0, 0, 0],\n",
            "        [0, 0, 0, 0, 0, 0, 0, 0, 0, 0, 0, 0, 0, 0, 0, 0, 1, 0, 0, 0, 0, 0, 0, 0,\n",
            "         0, 0, 0, 0, 0, 0, 0, 0, 0, 0, 0, 0, 0, 0, 0, 0, 0, 0, 0, 0, 0, 0, 0, 0,\n",
            "         0, 0, 0],\n",
            "        [0, 0, 0, 0, 0, 0, 0, 0, 0, 0, 0, 0, 0, 0, 0, 0, 1, 0, 0, 0, 0, 0, 0, 0,\n",
            "         0, 0, 0, 0, 0, 0, 0, 0, 0, 0, 0, 0, 0, 0, 0, 0, 0, 0, 0, 0, 0, 0, 0, 0,\n",
            "         0, 0, 0]])\n",
            "torch.Size([10200, 51])\n"
          ]
        }
      ],
      "source": [
        "# labels = (dataset[:, 0] + dataset[:, 1]) % p\n",
        "# print(labels.shape)\n",
        "# print(labels[:5])\n",
        "\n",
        "labels = torch.tensor(label_tensors)\n",
        "print(labels[:5])\n",
        "print(labels.shape)"
      ]
    },
    {
      "cell_type": "markdown",
      "metadata": {
        "id": "5JCb2j4yQTaE"
      },
      "source": [
        "Convert this to a train + test set - 30% in the training set"
      ]
    },
    {
      "cell_type": "code",
      "execution_count": null,
      "metadata": {
        "id": "dCquvXbBQTaE",
        "colab": {
          "base_uri": "https://localhost:8080/",
          "height": 408
        },
        "outputId": "16e2d1cc-a089-47cf-92ff-495becfd2765"
      },
      "outputs": [
        {
          "output_type": "error",
          "ename": "RuntimeError",
          "evalue": "CUDA error: device-side assert triggered\nCUDA kernel errors might be asynchronously reported at some other API call, so the stacktrace below might be incorrect.\nFor debugging consider passing CUDA_LAUNCH_BLOCKING=1.\nCompile with `TORCH_USE_CUDA_DSA` to enable device-side assertions.\n",
          "traceback": [
            "\u001b[0;31m---------------------------------------------------------------------------\u001b[0m",
            "\u001b[0;31mRuntimeError\u001b[0m                              Traceback (most recent call last)",
            "\u001b[0;32m<ipython-input-84-4751630821fa>\u001b[0m in \u001b[0;36m<cell line: 19>\u001b[0;34m()\u001b[0m\n\u001b[1;32m     17\u001b[0m \u001b[0;34m\u001b[0m\u001b[0m\n\u001b[1;32m     18\u001b[0m \u001b[0;31m# get the train and test data sampled randomly\u001b[0m\u001b[0;34m\u001b[0m\u001b[0;34m\u001b[0m\u001b[0m\n\u001b[0;32m---> 19\u001b[0;31m \u001b[0mtorch\u001b[0m\u001b[0;34m.\u001b[0m\u001b[0mmanual_seed\u001b[0m\u001b[0;34m(\u001b[0m\u001b[0mDATA_SEED\u001b[0m\u001b[0;34m)\u001b[0m\u001b[0;34m\u001b[0m\u001b[0;34m\u001b[0m\u001b[0m\n\u001b[0m\u001b[1;32m     20\u001b[0m \u001b[0;34m\u001b[0m\u001b[0m\n\u001b[1;32m     21\u001b[0m \u001b[0;31m# shuffle the data\u001b[0m\u001b[0;34m\u001b[0m\u001b[0;34m\u001b[0m\u001b[0m\n",
            "\u001b[0;32m/usr/local/lib/python3.10/dist-packages/torch/random.py\u001b[0m in \u001b[0;36mmanual_seed\u001b[0;34m(seed)\u001b[0m\n\u001b[1;32m     38\u001b[0m \u001b[0;34m\u001b[0m\u001b[0m\n\u001b[1;32m     39\u001b[0m     \u001b[0;32mif\u001b[0m \u001b[0;32mnot\u001b[0m \u001b[0mtorch\u001b[0m\u001b[0;34m.\u001b[0m\u001b[0mcuda\u001b[0m\u001b[0;34m.\u001b[0m\u001b[0m_is_in_bad_fork\u001b[0m\u001b[0;34m(\u001b[0m\u001b[0;34m)\u001b[0m\u001b[0;34m:\u001b[0m\u001b[0;34m\u001b[0m\u001b[0;34m\u001b[0m\u001b[0m\n\u001b[0;32m---> 40\u001b[0;31m         \u001b[0mtorch\u001b[0m\u001b[0;34m.\u001b[0m\u001b[0mcuda\u001b[0m\u001b[0;34m.\u001b[0m\u001b[0mmanual_seed_all\u001b[0m\u001b[0;34m(\u001b[0m\u001b[0mseed\u001b[0m\u001b[0;34m)\u001b[0m\u001b[0;34m\u001b[0m\u001b[0;34m\u001b[0m\u001b[0m\n\u001b[0m\u001b[1;32m     41\u001b[0m \u001b[0;34m\u001b[0m\u001b[0m\n\u001b[1;32m     42\u001b[0m     \u001b[0;32mimport\u001b[0m \u001b[0mtorch\u001b[0m\u001b[0;34m.\u001b[0m\u001b[0mmps\u001b[0m\u001b[0;34m\u001b[0m\u001b[0;34m\u001b[0m\u001b[0m\n",
            "\u001b[0;32m/usr/local/lib/python3.10/dist-packages/torch/cuda/random.py\u001b[0m in \u001b[0;36mmanual_seed_all\u001b[0;34m(seed)\u001b[0m\n\u001b[1;32m    122\u001b[0m             \u001b[0mdefault_generator\u001b[0m\u001b[0;34m.\u001b[0m\u001b[0mmanual_seed\u001b[0m\u001b[0;34m(\u001b[0m\u001b[0mseed\u001b[0m\u001b[0;34m)\u001b[0m\u001b[0;34m\u001b[0m\u001b[0;34m\u001b[0m\u001b[0m\n\u001b[1;32m    123\u001b[0m \u001b[0;34m\u001b[0m\u001b[0m\n\u001b[0;32m--> 124\u001b[0;31m     \u001b[0m_lazy_call\u001b[0m\u001b[0;34m(\u001b[0m\u001b[0mcb\u001b[0m\u001b[0;34m,\u001b[0m \u001b[0mseed_all\u001b[0m\u001b[0;34m=\u001b[0m\u001b[0;32mTrue\u001b[0m\u001b[0;34m)\u001b[0m\u001b[0;34m\u001b[0m\u001b[0;34m\u001b[0m\u001b[0m\n\u001b[0m\u001b[1;32m    125\u001b[0m \u001b[0;34m\u001b[0m\u001b[0m\n\u001b[1;32m    126\u001b[0m \u001b[0;34m\u001b[0m\u001b[0m\n",
            "\u001b[0;32m/usr/local/lib/python3.10/dist-packages/torch/cuda/__init__.py\u001b[0m in \u001b[0;36m_lazy_call\u001b[0;34m(callable, **kwargs)\u001b[0m\n\u001b[1;32m    227\u001b[0m \u001b[0;32mdef\u001b[0m \u001b[0m_lazy_call\u001b[0m\u001b[0;34m(\u001b[0m\u001b[0mcallable\u001b[0m\u001b[0;34m,\u001b[0m \u001b[0;34m**\u001b[0m\u001b[0mkwargs\u001b[0m\u001b[0;34m)\u001b[0m\u001b[0;34m:\u001b[0m\u001b[0;34m\u001b[0m\u001b[0;34m\u001b[0m\u001b[0m\n\u001b[1;32m    228\u001b[0m     \u001b[0;32mif\u001b[0m \u001b[0mis_initialized\u001b[0m\u001b[0;34m(\u001b[0m\u001b[0;34m)\u001b[0m\u001b[0;34m:\u001b[0m\u001b[0;34m\u001b[0m\u001b[0;34m\u001b[0m\u001b[0m\n\u001b[0;32m--> 229\u001b[0;31m         \u001b[0mcallable\u001b[0m\u001b[0;34m(\u001b[0m\u001b[0;34m)\u001b[0m\u001b[0;34m\u001b[0m\u001b[0;34m\u001b[0m\u001b[0m\n\u001b[0m\u001b[1;32m    230\u001b[0m     \u001b[0;32melse\u001b[0m\u001b[0;34m:\u001b[0m\u001b[0;34m\u001b[0m\u001b[0;34m\u001b[0m\u001b[0m\n\u001b[1;32m    231\u001b[0m         \u001b[0;31m# TODO(torch_deploy): this accesses linecache, which attempts to read the\u001b[0m\u001b[0;34m\u001b[0m\u001b[0;34m\u001b[0m\u001b[0m\n",
            "\u001b[0;32m/usr/local/lib/python3.10/dist-packages/torch/cuda/random.py\u001b[0m in \u001b[0;36mcb\u001b[0;34m()\u001b[0m\n\u001b[1;32m    120\u001b[0m         \u001b[0;32mfor\u001b[0m \u001b[0mi\u001b[0m \u001b[0;32min\u001b[0m \u001b[0mrange\u001b[0m\u001b[0;34m(\u001b[0m\u001b[0mdevice_count\u001b[0m\u001b[0;34m(\u001b[0m\u001b[0;34m)\u001b[0m\u001b[0;34m)\u001b[0m\u001b[0;34m:\u001b[0m\u001b[0;34m\u001b[0m\u001b[0;34m\u001b[0m\u001b[0m\n\u001b[1;32m    121\u001b[0m             \u001b[0mdefault_generator\u001b[0m \u001b[0;34m=\u001b[0m \u001b[0mtorch\u001b[0m\u001b[0;34m.\u001b[0m\u001b[0mcuda\u001b[0m\u001b[0;34m.\u001b[0m\u001b[0mdefault_generators\u001b[0m\u001b[0;34m[\u001b[0m\u001b[0mi\u001b[0m\u001b[0;34m]\u001b[0m\u001b[0;34m\u001b[0m\u001b[0;34m\u001b[0m\u001b[0m\n\u001b[0;32m--> 122\u001b[0;31m             \u001b[0mdefault_generator\u001b[0m\u001b[0;34m.\u001b[0m\u001b[0mmanual_seed\u001b[0m\u001b[0;34m(\u001b[0m\u001b[0mseed\u001b[0m\u001b[0;34m)\u001b[0m\u001b[0;34m\u001b[0m\u001b[0;34m\u001b[0m\u001b[0m\n\u001b[0m\u001b[1;32m    123\u001b[0m \u001b[0;34m\u001b[0m\u001b[0m\n\u001b[1;32m    124\u001b[0m     \u001b[0m_lazy_call\u001b[0m\u001b[0;34m(\u001b[0m\u001b[0mcb\u001b[0m\u001b[0;34m,\u001b[0m \u001b[0mseed_all\u001b[0m\u001b[0;34m=\u001b[0m\u001b[0;32mTrue\u001b[0m\u001b[0;34m)\u001b[0m\u001b[0;34m\u001b[0m\u001b[0;34m\u001b[0m\u001b[0m\n",
            "\u001b[0;31mRuntimeError\u001b[0m: CUDA error: device-side assert triggered\nCUDA kernel errors might be asynchronously reported at some other API call, so the stacktrace below might be incorrect.\nFor debugging consider passing CUDA_LAUNCH_BLOCKING=1.\nCompile with `TORCH_USE_CUDA_DSA` to enable device-side assertions.\n"
          ]
        }
      ],
      "source": [
        "# torch.manual_seed(DATA_SEED)\n",
        "# indices = torch.randperm(p*p)\n",
        "# cutoff = int(p*p*frac_train)\n",
        "# train_indices = indices[:cutoff]\n",
        "# test_indices = indices[cutoff:]\n",
        "\n",
        "# train_data = dataset[train_indices]\n",
        "# train_labels = labels[train_indices]\n",
        "# test_data = dataset[test_indices]\n",
        "# test_labels = labels[test_indices]\n",
        "# print(train_data[:5])\n",
        "# print(train_labels[:5])\n",
        "# print(train_data.shape)\n",
        "# print(test_data[:5])\n",
        "# print(test_labels[:5])\n",
        "# print(test_data.shape)\n",
        "\n",
        "# get the train and test data sampled randomly\n",
        "torch.manual_seed(DATA_SEED)\n",
        "\n",
        "# shuffle the data\n",
        "indices = torch.randperm(len(dataset))\n",
        "dataset = dataset[indices]\n",
        "labels = labels[indices]\n",
        "\n",
        "# split the data into train and test\n",
        "train_cutoff = int(len(dataset) * frac_train)\n",
        "train_data = dataset[:train_cutoff]\n",
        "train_labels = labels[:train_cutoff]\n",
        "test_data = dataset[train_cutoff:]\n",
        "test_labels = labels[train_cutoff:]"
      ]
    },
    {
      "cell_type": "code",
      "execution_count": null,
      "metadata": {
        "id": "CRkVZQdCQTaE"
      },
      "outputs": [],
      "source": [
        "# create attention masks\n",
        "train_attention_mask = (train_data != 0).float()\n",
        "test_attention_mask = (test_data != 0).float()\n",
        "\n",
        "train_attention_mask[:5], test_attention_mask[:5]"
      ]
    },
    {
      "cell_type": "code",
      "execution_count": null,
      "metadata": {
        "colab": {
          "base_uri": "https://localhost:8080/"
        },
        "id": "q29ouizTQTaE",
        "outputId": "b74a612c-e2ce-4433-de91-3700ab7162dd"
      },
      "outputs": [
        {
          "output_type": "stream",
          "name": "stdout",
          "text": [
            "tensor([[[ 4, 11, 11,  0,  0,  0,  0,  0,  0,  0,  0,  0,  0,  0,  0,  0,  0,\n",
            "           0,  0,  0,  0,  0,  0,  0,  0,  0,  0,  0,  0,  0,  0,  0,  0,  0,\n",
            "           0,  0,  0,  0,  0,  0],\n",
            "         [11, 11, 22,  0,  0,  0,  0,  0,  0,  0,  0,  0,  0,  0,  0,  0,  0,\n",
            "           0,  0,  0,  0,  0,  0,  0,  0,  0,  0,  0,  0,  0,  0,  0,  0,  0,\n",
            "           0,  0,  0,  0,  0,  0]],\n",
            "\n",
            "        [[ 1,  2,  2,  2,  2,  2,  2,  2,  2,  2,  2,  2,  2,  2,  2,  2,  2,\n",
            "           2,  2,  2,  2,  2,  2,  0,  0,  0,  0,  0,  0,  0,  0,  0,  0,  0,\n",
            "           0,  0,  0,  0,  0,  0],\n",
            "         [ 2,  4,  4,  4,  4,  4,  4,  4,  4,  4,  4,  4,  4,  4,  4,  4,  4,\n",
            "           4,  4,  4,  4,  4,  4,  4,  0,  0,  0,  0,  0,  0,  0,  0,  0,  0,\n",
            "           0,  0,  0,  0,  0,  0]],\n",
            "\n",
            "        [[33, 33, 33, 33, 33, 33, 33, 33, 33, 33, 33, 33, 33, 33, 33,  0,  0,\n",
            "           0,  0,  0,  0,  0,  0,  0,  0,  0,  0,  0,  0,  0,  0,  0,  0,  0,\n",
            "           0,  0,  0,  0,  0,  0],\n",
            "         [33, 33, 33, 33, 33, 33, 33, 33, 33, 33,  7,  7,  7,  7,  7,  7,  0,\n",
            "           0,  0,  0,  0,  0,  0,  0,  0,  0,  0,  0,  0,  0,  0,  0,  0,  0,\n",
            "           0,  0,  0,  0,  0,  0]],\n",
            "\n",
            "        [[13, 13, 13, 13, 13, 13, 13, 13, 13, 13, 13, 13, 13, 13, 13, 13, 13,\n",
            "          13, 13, 13, 13, 13, 13, 13,  0,  0,  0,  0,  0,  0,  0,  0,  0,  0,\n",
            "           0,  0,  0,  0,  0,  0],\n",
            "         [13, 13, 13, 13, 13, 28, 28, 28, 28, 28, 28, 28, 28, 28, 28, 28, 28,\n",
            "          28, 28, 28, 28, 28, 28, 10,  0,  0,  0,  0,  0,  0,  0,  0,  0,  0,\n",
            "           0,  0,  0,  0,  0,  0]],\n",
            "\n",
            "        [[ 8, 10, 10, 10, 10, 10, 17, 17, 17, 17, 17,  0,  0,  0,  0,  0,  0,\n",
            "           0,  0,  0,  0,  0,  0,  0,  0,  0,  0,  0,  0,  0,  0,  0,  0,  0,\n",
            "           0,  0,  0,  0,  0,  0],\n",
            "         [17, 17, 17, 17, 17, 17, 17, 17, 17, 17, 17,  0,  0,  0,  0,  0,  0,\n",
            "           0,  0,  0,  0,  0,  0,  0,  0,  0,  0,  0,  0,  0,  0,  0,  0,  0,\n",
            "           0,  0,  0,  0,  0,  0]]], device='cuda:0')\n",
            "tensor([[0, 0, 0, 0, 0, 0, 0, 0, 0, 0, 0, 0, 0, 0, 0, 0, 0, 0, 0, 0, 0, 0, 0, 0,\n",
            "         0, 0, 0, 0, 0, 0, 0, 0, 0, 0, 0, 0, 0, 0, 0, 0, 0, 0, 0, 0, 1, 0, 0, 0,\n",
            "         0, 0, 0],\n",
            "        [1, 0, 0, 0, 0, 0, 0, 0, 0, 0, 0, 0, 0, 0, 0, 0, 0, 0, 0, 0, 0, 0, 0, 0,\n",
            "         0, 0, 0, 0, 0, 0, 0, 0, 0, 0, 0, 0, 0, 0, 0, 0, 0, 0, 0, 0, 0, 0, 0, 0,\n",
            "         0, 0, 0],\n",
            "        [0, 0, 0, 0, 0, 0, 0, 0, 0, 0, 0, 0, 0, 0, 0, 0, 0, 0, 0, 0, 0, 0, 0, 0,\n",
            "         0, 0, 0, 0, 0, 0, 0, 0, 0, 0, 0, 0, 0, 0, 0, 0, 0, 0, 0, 0, 0, 1, 0, 0,\n",
            "         0, 0, 0],\n",
            "        [0, 0, 0, 0, 0, 0, 0, 0, 0, 0, 0, 0, 0, 0, 0, 0, 0, 0, 0, 0, 0, 0, 0, 0,\n",
            "         0, 0, 0, 0, 1, 0, 0, 0, 0, 0, 0, 0, 0, 0, 0, 0, 0, 0, 0, 0, 0, 0, 0, 0,\n",
            "         0, 0, 0],\n",
            "        [0, 0, 0, 0, 0, 0, 0, 0, 0, 0, 0, 0, 0, 0, 0, 0, 0, 0, 0, 0, 0, 1, 0, 0,\n",
            "         0, 0, 0, 0, 0, 0, 0, 0, 0, 0, 0, 0, 0, 0, 0, 0, 0, 0, 0, 0, 0, 0, 0, 0,\n",
            "         0, 0, 0]])\n",
            "torch.Size([7140, 2, 40])\n",
            "torch.Size([3060, 2, 40])\n"
          ]
        }
      ],
      "source": [
        "print(train_data[:5])\n",
        "print(train_labels[:5])\n",
        "\n",
        "print(train_data.shape)\n",
        "print(test_data.shape)\n"
      ]
    },
    {
      "cell_type": "code",
      "execution_count": null,
      "metadata": {
        "id": "MvALMlZgir6r"
      },
      "outputs": [],
      "source": [
        "from torch.utils.data import DataLoader, TensorDataset"
      ]
    },
    {
      "cell_type": "code",
      "execution_count": null,
      "metadata": {
        "id": "WCPvSwqKif4Z"
      },
      "outputs": [],
      "source": [
        "train_dataset = TensorDataset(train_data, train_labels)\n",
        "test_dataset = TensorDataset(test_data, test_labels)\n"
      ]
    },
    {
      "cell_type": "code",
      "execution_count": null,
      "metadata": {
        "id": "gB4730Q8i9d2"
      },
      "outputs": [],
      "source": [
        "batch_size=64\n",
        "\n",
        "# Create DataLoader for train and test data\n",
        "train_loader = DataLoader(train_dataset, batch_size=batch_size, shuffle=True)\n",
        "test_loader = DataLoader(test_dataset, batch_size=batch_size)"
      ]
    },
    {
      "cell_type": "markdown",
      "metadata": {
        "id": "HXQE46jRQTaE"
      },
      "source": [
        "## Define Model"
      ]
    },
    {
      "cell_type": "code",
      "execution_count": null,
      "metadata": {
        "id": "RFqrGry6QTaE"
      },
      "outputs": [],
      "source": [
        "cfg = HookedTransformerConfig(\n",
        "    n_layers = 1,\n",
        "    n_heads = 4,\n",
        "    d_model = 128,\n",
        "    d_head = 32,\n",
        "    d_mlp = 512,\n",
        "    act_fn = \"relu\",\n",
        "    normalization_type=None,\n",
        "    d_vocab=37, # Number of unique characters in vocab\n",
        "    d_vocab_out=51, # Number of classes\n",
        "    n_ctx=80,\n",
        "    init_weights=True,\n",
        "    # device=\"cuda\",\n",
        "    seed = 999,\n",
        ")"
      ]
    },
    {
      "cell_type": "code",
      "execution_count": null,
      "metadata": {
        "id": "GYTwNED6QTaE"
      },
      "outputs": [],
      "source": [
        "model = HookedTransformer(cfg)"
      ]
    },
    {
      "cell_type": "markdown",
      "metadata": {
        "id": "u9Ir-EsAQTaE"
      },
      "source": [
        "Disable the biases, as we don't need them for this task and it makes things easier to interpret."
      ]
    },
    {
      "cell_type": "code",
      "execution_count": null,
      "metadata": {
        "id": "_HxVRU77QTaE"
      },
      "outputs": [],
      "source": [
        "for name, param in model.named_parameters():\n",
        "    if \"b_\" in name:\n",
        "        param.requires_grad = False\n"
      ]
    },
    {
      "cell_type": "code",
      "execution_count": null,
      "metadata": {
        "id": "BrxJsbnSQTaE"
      },
      "outputs": [],
      "source": [
        "# # sample\n",
        "# train_logits = model(train_data)\n",
        "# print(train_logits.shape)\n",
        "# print(train_logits[0])"
      ]
    },
    {
      "cell_type": "markdown",
      "metadata": {
        "id": "kn2za7S6QTaO"
      },
      "source": [
        "## Define Optimizer + Loss"
      ]
    },
    {
      "cell_type": "code",
      "execution_count": null,
      "metadata": {
        "id": "z964fjhAQTaO"
      },
      "outputs": [],
      "source": [
        "optimizer = torch.optim.AdamW(model.parameters(), lr=lr, weight_decay=wd, betas=betas)"
      ]
    },
    {
      "cell_type": "code",
      "execution_count": null,
      "metadata": {
        "id": "CeVuxhkmQTaO"
      },
      "outputs": [],
      "source": [
        "def loss_fn(logits, labels):\n",
        "    if len(logits.shape)==3:\n",
        "        logits = logits[:, -1]\n",
        "    logits = logits.to(torch.float64)\n",
        "    labels = labels.to(torch.float64)\n",
        "    # do softmax\n",
        "    logits = F.log_softmax(logits, dim=-1)\n",
        "    # compute the cross entropy\n",
        "    loss = nn.CrossEntropyLoss()\n",
        "    return loss(logits, labels)\n",
        "\n",
        "# train_logits = model.forward(train_data, attention_mask=train_attention_mask)\n",
        "# train_loss = loss_fn(train_logits, train_labels)\n",
        "# print(train_loss)\n",
        "# test_logits = model(test_data)\n",
        "# test_loss = loss_fn(test_logits, test_labels)\n",
        "# print(test_loss)"
      ]
    },
    {
      "cell_type": "code",
      "execution_count": null,
      "metadata": {
        "colab": {
          "base_uri": "https://localhost:8080/"
        },
        "id": "vVvcpAwPQTaO",
        "outputId": "b7828f71-eab5-40aa-ac1e-6870e336f458"
      },
      "outputs": [
        {
          "output_type": "stream",
          "name": "stdout",
          "text": [
            "Uniform loss:\n",
            "3.9318256327243257\n"
          ]
        }
      ],
      "source": [
        "print(\"Uniform loss:\")\n",
        "print(np.log(p))"
      ]
    },
    {
      "cell_type": "markdown",
      "metadata": {
        "id": "hK_AvY3tQTaO"
      },
      "source": [
        "## Actually Train"
      ]
    },
    {
      "cell_type": "markdown",
      "metadata": {
        "id": "BiPEI_9mQTaO"
      },
      "source": [
        "**Weird Decision:** Training the model with full batch training rather than stochastic gradient descent. We do this so to make training smoother and reduce the number of slingshots."
      ]
    },
    {
      "cell_type": "code",
      "execution_count": null,
      "metadata": {
        "colab": {
          "base_uri": "https://localhost:8080/",
          "height": 405,
          "referenced_widgets": [
            "c4573ba6dbbe40208d8d83ec38b7d1d9",
            "a36d6ba6b2734b668dbb603f79b76039",
            "efa7a297cb924a4da7f18ebe8dc6209c",
            "f006d3b2a6b247a1989a56ff30f744a4",
            "0aea824ffcc9445fb956abd9f76bdd56",
            "56e215b3ad09418f981258ee9bd43d6e",
            "c867834780f045a598ea929d343681ef",
            "99714f1f62434cd7b0a4eee2d05a9a7e",
            "aaf54c13abe94d52aa533aa0c1bbdadf",
            "8f069e7c90c64dab92dee1026dbce9f6",
            "47dba38ffa1c4a82aa4c69c19ffbb326"
          ]
        },
        "id": "3kV1zll1QTaO",
        "outputId": "9a47e79d-923d-4f53-b708-38d9a0fad060"
      },
      "outputs": [
        {
          "output_type": "display_data",
          "data": {
            "text/plain": [
              "  0%|          | 0/200 [00:00<?, ?it/s]"
            ],
            "application/vnd.jupyter.widget-view+json": {
              "version_major": 2,
              "version_minor": 0,
              "model_id": "c4573ba6dbbe40208d8d83ec38b7d1d9"
            }
          },
          "metadata": {}
        },
        {
          "output_type": "error",
          "ename": "RuntimeError",
          "evalue": "The size of tensor a (2) must match the size of tensor b (64) at non-singleton dimension 1",
          "traceback": [
            "\u001b[0;31m---------------------------------------------------------------------------\u001b[0m",
            "\u001b[0;31mRuntimeError\u001b[0m                              Traceback (most recent call last)",
            "\u001b[0;32m<ipython-input-46-68aba16b0d75>\u001b[0m in \u001b[0;36m<cell line: 5>\u001b[0;34m()\u001b[0m\n\u001b[1;32m     10\u001b[0m         \u001b[0;32mfor\u001b[0m \u001b[0mbatch_data\u001b[0m\u001b[0;34m,\u001b[0m \u001b[0mbatch_labels\u001b[0m \u001b[0;32min\u001b[0m \u001b[0mtrain_loader\u001b[0m\u001b[0;34m:\u001b[0m\u001b[0;34m\u001b[0m\u001b[0;34m\u001b[0m\u001b[0m\n\u001b[1;32m     11\u001b[0m             \u001b[0moptimizer\u001b[0m\u001b[0;34m.\u001b[0m\u001b[0mzero_grad\u001b[0m\u001b[0;34m(\u001b[0m\u001b[0;34m)\u001b[0m\u001b[0;34m\u001b[0m\u001b[0;34m\u001b[0m\u001b[0m\n\u001b[0;32m---> 12\u001b[0;31m             \u001b[0mtrain_logits\u001b[0m \u001b[0;34m=\u001b[0m \u001b[0mmodel\u001b[0m\u001b[0;34m.\u001b[0m\u001b[0mforward\u001b[0m\u001b[0;34m(\u001b[0m\u001b[0mbatch_data\u001b[0m\u001b[0;34m.\u001b[0m\u001b[0mcuda\u001b[0m\u001b[0;34m(\u001b[0m\u001b[0;34m)\u001b[0m\u001b[0;34m,\u001b[0m \u001b[0mattention_mask\u001b[0m\u001b[0;34m=\u001b[0m\u001b[0mtrain_attention_mask\u001b[0m\u001b[0;34m)\u001b[0m\u001b[0;34m\u001b[0m\u001b[0;34m\u001b[0m\u001b[0m\n\u001b[0m\u001b[1;32m     13\u001b[0m             \u001b[0mtrain_loss\u001b[0m \u001b[0;34m=\u001b[0m \u001b[0mloss_fn\u001b[0m\u001b[0;34m(\u001b[0m\u001b[0mtrain_logits\u001b[0m\u001b[0;34m,\u001b[0m \u001b[0mbatch_labels\u001b[0m\u001b[0;34m.\u001b[0m\u001b[0mcuda\u001b[0m\u001b[0;34m(\u001b[0m\u001b[0;34m)\u001b[0m\u001b[0;34m)\u001b[0m\u001b[0;34m\u001b[0m\u001b[0;34m\u001b[0m\u001b[0m\n\u001b[1;32m     14\u001b[0m             \u001b[0mtrain_loss\u001b[0m\u001b[0;34m.\u001b[0m\u001b[0mbackward\u001b[0m\u001b[0;34m(\u001b[0m\u001b[0;34m)\u001b[0m\u001b[0;34m\u001b[0m\u001b[0;34m\u001b[0m\u001b[0m\n",
            "\u001b[0;32m/usr/local/lib/python3.10/dist-packages/transformer_lens/HookedTransformer.py\u001b[0m in \u001b[0;36mforward\u001b[0;34m(self, input, return_type, loss_per_token, prepend_bos, padding_side, start_at_layer, tokens, shortformer_pos_embed, attention_mask, stop_at_layer, past_kv_cache)\u001b[0m\n\u001b[1;32m    532\u001b[0m                     \u001b[0mshortformer_pos_embed\u001b[0m\u001b[0;34m,\u001b[0m\u001b[0;34m\u001b[0m\u001b[0;34m\u001b[0m\u001b[0m\n\u001b[1;32m    533\u001b[0m                     \u001b[0mattention_mask\u001b[0m\u001b[0;34m,\u001b[0m\u001b[0;34m\u001b[0m\u001b[0;34m\u001b[0m\u001b[0m\n\u001b[0;32m--> 534\u001b[0;31m                 \u001b[0;34m)\u001b[0m \u001b[0;34m=\u001b[0m \u001b[0mself\u001b[0m\u001b[0;34m.\u001b[0m\u001b[0minput_to_embed\u001b[0m\u001b[0;34m(\u001b[0m\u001b[0;34m\u001b[0m\u001b[0;34m\u001b[0m\u001b[0m\n\u001b[0m\u001b[1;32m    535\u001b[0m                     \u001b[0minput\u001b[0m\u001b[0;34m,\u001b[0m\u001b[0;34m\u001b[0m\u001b[0;34m\u001b[0m\u001b[0m\n\u001b[1;32m    536\u001b[0m                     \u001b[0mprepend_bos\u001b[0m\u001b[0;34m=\u001b[0m\u001b[0mprepend_bos\u001b[0m\u001b[0;34m,\u001b[0m\u001b[0;34m\u001b[0m\u001b[0;34m\u001b[0m\u001b[0m\n",
            "\u001b[0;32m/usr/local/lib/python3.10/dist-packages/transformer_lens/HookedTransformer.py\u001b[0m in \u001b[0;36minput_to_embed\u001b[0;34m(self, input, prepend_bos, padding_side, past_kv_cache)\u001b[0m\n\u001b[1;32m    327\u001b[0m                 \u001b[0mself\u001b[0m\u001b[0;34m.\u001b[0m\u001b[0mpos_embed\u001b[0m\u001b[0;34m(\u001b[0m\u001b[0mtokens\u001b[0m\u001b[0;34m,\u001b[0m \u001b[0mpos_offset\u001b[0m\u001b[0;34m,\u001b[0m \u001b[0mattention_mask\u001b[0m\u001b[0;34m)\u001b[0m\u001b[0;34m\u001b[0m\u001b[0;34m\u001b[0m\u001b[0m\n\u001b[1;32m    328\u001b[0m             )  # [batch, pos, d_model]\n\u001b[0;32m--> 329\u001b[0;31m             \u001b[0mresidual\u001b[0m \u001b[0;34m=\u001b[0m \u001b[0membed\u001b[0m \u001b[0;34m+\u001b[0m \u001b[0mpos_embed\u001b[0m  \u001b[0;31m# [batch, pos, d_model]\u001b[0m\u001b[0;34m\u001b[0m\u001b[0;34m\u001b[0m\u001b[0m\n\u001b[0m\u001b[1;32m    330\u001b[0m             \u001b[0mshortformer_pos_embed\u001b[0m \u001b[0;34m=\u001b[0m \u001b[0;32mNone\u001b[0m\u001b[0;34m\u001b[0m\u001b[0;34m\u001b[0m\u001b[0m\n\u001b[1;32m    331\u001b[0m         \u001b[0;32melif\u001b[0m \u001b[0mself\u001b[0m\u001b[0;34m.\u001b[0m\u001b[0mcfg\u001b[0m\u001b[0;34m.\u001b[0m\u001b[0mpositional_embedding_type\u001b[0m \u001b[0;34m==\u001b[0m \u001b[0;34m\"shortformer\"\u001b[0m\u001b[0;34m:\u001b[0m\u001b[0;34m\u001b[0m\u001b[0;34m\u001b[0m\u001b[0m\n",
            "\u001b[0;31mRuntimeError\u001b[0m: The size of tensor a (2) must match the size of tensor b (64) at non-singleton dimension 1"
          ]
        }
      ],
      "source": [
        "train_losses = []\n",
        "test_losses = []\n",
        "model_checkpoints = []\n",
        "checkpoint_epochs = []\n",
        "if TRAIN_MODEL:\n",
        "    for epoch in tqdm.tqdm(range(num_epochs)):\n",
        "        # Training loop\n",
        "        model.train()\n",
        "        batch_train_loss = []\n",
        "        for batch_data, batch_labels in train_loader:\n",
        "            optimizer.zero_grad()\n",
        "            train_logits = model.forward(batch_data.cuda(), attention_mask=train_attention_mask)\n",
        "            train_loss = loss_fn(train_logits, batch_labels.cuda())\n",
        "            train_loss.backward()\n",
        "            optimizer.step()\n",
        "            batch_train_loss.append(train_loss.item())\n",
        "        train_losses.append(np.mean(batch_train_loss))\n",
        "\n",
        "        # Testing loop\n",
        "        model.eval()\n",
        "        batch_test_loss = []\n",
        "        with torch.inference_mode():\n",
        "            for batch_data, batch_labels in test_loader:\n",
        "                test_logits = model.forward(batch_data.cuda(), attention_mask=test_attention_mask)\n",
        "                test_loss = loss_fn(test_logits, batch_labels.cuda())\n",
        "                batch_test_loss.append(test_loss.item())\n",
        "            test_losses.append(np.mean(batch_test_loss))\n",
        "\n",
        "        # Print and save checkpoints\n",
        "        if ((epoch+1) % checkpoint_every) == 0:\n",
        "            checkpoint_epochs.append(epoch)\n",
        "            model_checkpoints.append(copy.deepcopy(model.state_dict()))\n",
        "            print(f\"Epoch {epoch} Train Loss {train_loss.item()} Test Loss {test_loss.item()}\")"
      ]
    },
    {
      "cell_type": "code",
      "source": [
        "# prompt: do inference with test set and create classification report\n",
        "\n",
        "# Do inference on the test set\n",
        "model.eval()\n",
        "test_logits = model(test_data, attention_mask=test_attention_mask)\n",
        "\n",
        "if len(test_logits.shape) == 3:\n",
        "    test_logits = test_logits[:, -1]\n",
        "\n",
        "test_logits = torch.nn.functional.softmax(test_logits, dim=1)\n",
        "test_logits = torch.argmax(test_logits, dim=1)\n",
        "\n",
        "predicted_labels = torch.nn.functional.one_hot(test_logits, p)\n",
        "print(test_logits.shape)\n",
        "\n",
        "from sklearn.metrics import classification_report, accuracy_score\n",
        "print(classification_report(test_labels, predicted_labels.cpu().numpy()))\n",
        "print(f\"Accuracy: {accuracy_score(test_labels, predicted_labels.cpu().numpy()) * 100} %\")\n"
      ],
      "metadata": {
        "colab": {
          "base_uri": "https://localhost:8080/"
        },
        "id": "50J6O68k_2-O",
        "outputId": "5b766798-bb02-4702-9708-83790d8b4320"
      },
      "execution_count": null,
      "outputs": [
        {
          "output_type": "stream",
          "name": "stdout",
          "text": [
            "torch.Size([3060])\n",
            "              precision    recall  f1-score   support\n",
            "\n",
            "           0       1.00      0.98      0.99        57\n",
            "           1       0.97      1.00      0.99        75\n",
            "           2       0.98      0.98      0.98        65\n",
            "           3       0.98      1.00      0.99        48\n",
            "           4       1.00      1.00      1.00        57\n",
            "           5       1.00      1.00      1.00        47\n",
            "           6       1.00      1.00      1.00        56\n",
            "           7       1.00      1.00      1.00        61\n",
            "           8       1.00      0.98      0.99        66\n",
            "           9       0.97      1.00      0.98        57\n",
            "          10       1.00      1.00      1.00        59\n",
            "          11       1.00      0.98      0.99        56\n",
            "          12       0.98      0.98      0.98        59\n",
            "          13       0.98      1.00      0.99        58\n",
            "          14       1.00      1.00      1.00        75\n",
            "          15       1.00      1.00      1.00        72\n",
            "          16       1.00      1.00      1.00        52\n",
            "          17       1.00      1.00      1.00        65\n",
            "          18       0.95      1.00      0.98        63\n",
            "          19       1.00      0.98      0.99        57\n",
            "          20       1.00      1.00      1.00        57\n",
            "          21       1.00      0.99      0.99        69\n",
            "          22       1.00      1.00      1.00        71\n",
            "          23       0.98      1.00      0.99        58\n",
            "          24       0.96      1.00      0.98        54\n",
            "          25       1.00      1.00      1.00        64\n",
            "          26       1.00      1.00      1.00        61\n",
            "          27       0.98      1.00      0.99        52\n",
            "          28       1.00      0.98      0.99        63\n",
            "          29       1.00      0.98      0.99        57\n",
            "          30       0.99      1.00      0.99        70\n",
            "          31       1.00      1.00      1.00        60\n",
            "          32       1.00      1.00      1.00        56\n",
            "          33       0.98      0.98      0.98        56\n",
            "          34       1.00      0.93      0.96        54\n",
            "          35       0.93      1.00      0.97        57\n",
            "          36       1.00      0.96      0.98        55\n",
            "          37       1.00      1.00      1.00        64\n",
            "          38       1.00      1.00      1.00        65\n",
            "          39       1.00      0.98      0.99        62\n",
            "          40       1.00      0.98      0.99        55\n",
            "          41       1.00      1.00      1.00        54\n",
            "          42       1.00      1.00      1.00        56\n",
            "          43       1.00      0.97      0.98        61\n",
            "          44       1.00      0.98      0.99        62\n",
            "          45       0.98      1.00      0.99        50\n",
            "          46       0.98      1.00      0.99        58\n",
            "          47       1.00      1.00      1.00        64\n",
            "          48       1.00      1.00      1.00        62\n",
            "          49       1.00      0.98      0.99        65\n",
            "          50       1.00      0.98      0.99        63\n",
            "\n",
            "   micro avg       0.99      0.99      0.99      3060\n",
            "   macro avg       0.99      0.99      0.99      3060\n",
            "weighted avg       0.99      0.99      0.99      3060\n",
            " samples avg       0.99      0.99      0.99      3060\n",
            "\n",
            "Accuracy: 99.2483660130719 %\n"
          ]
        }
      ]
    },
    {
      "cell_type": "code",
      "execution_count": null,
      "metadata": {
        "id": "H72tls97QTaP"
      },
      "outputs": [],
      "source": [
        "torch.save(\n",
        "    {\n",
        "        \"model\":model.state_dict(),\n",
        "        \"config\": model.cfg,\n",
        "        \"checkpoints\": model_checkpoints,\n",
        "        \"checkpoint_epochs\": checkpoint_epochs,\n",
        "        \"test_losses\": test_losses,\n",
        "        \"train_losses\": train_losses,\n",
        "        # \"train_indices\": train_indices,\n",
        "        # \"test_indices\": test_indices,\n",
        "    },\n",
        "    PTH_LOCATION)"
      ]
    },
    {
      "cell_type": "code",
      "execution_count": null,
      "metadata": {
        "id": "0v5x7mB7QTaP"
      },
      "outputs": [],
      "source": [
        "if not TRAIN_MODEL:\n",
        "    cached_data = torch.load(PTH_LOCATION)\n",
        "    model.load_state_dict(cached_data['model'])\n",
        "    model_checkpoints = cached_data[\"checkpoints\"]\n",
        "    checkpoint_epochs = cached_data[\"checkpoint_epochs\"]\n",
        "    test_losses = cached_data['test_losses']\n",
        "    train_losses = cached_data['train_losses']\n",
        "    # train_indices = cached_data[\"train_indices\"]\n",
        "    # test_indices = cached_data[\"test_indices\"]"
      ]
    },
    {
      "cell_type": "markdown",
      "metadata": {
        "id": "DoG0rw_WQTaP"
      },
      "source": [
        "## Show Model Training Statistics, Check that it groks!"
      ]
    },
    {
      "cell_type": "code",
      "source": [
        "%pip install git+https://github.com/neelnanda-io/neel-plotly.git\n",
        "from neel_plotly.plot import line"
      ],
      "metadata": {
        "id": "tj28znftPiHJ",
        "colab": {
          "base_uri": "https://localhost:8080/"
        },
        "outputId": "15aa829e-89f4-433f-d2e3-2b03c910baea"
      },
      "execution_count": null,
      "outputs": [
        {
          "output_type": "stream",
          "name": "stdout",
          "text": [
            "Collecting git+https://github.com/neelnanda-io/neel-plotly.git\n",
            "  Cloning https://github.com/neelnanda-io/neel-plotly.git to /tmp/pip-req-build-wzsr3h5c\n",
            "  Running command git clone --filter=blob:none --quiet https://github.com/neelnanda-io/neel-plotly.git /tmp/pip-req-build-wzsr3h5c\n",
            "  Resolved https://github.com/neelnanda-io/neel-plotly.git to commit 6dc24b26f8dec991908479d7445dae496b3430b7\n",
            "  Preparing metadata (setup.py) ... \u001b[?25l\u001b[?25hdone\n",
            "Requirement already satisfied: einops in /usr/local/lib/python3.10/dist-packages (from neel-plotly==0.0.0) (0.7.0)\n",
            "Requirement already satisfied: numpy in /usr/local/lib/python3.10/dist-packages (from neel-plotly==0.0.0) (1.25.2)\n",
            "Requirement already satisfied: torch in /usr/local/lib/python3.10/dist-packages (from neel-plotly==0.0.0) (2.1.2)\n",
            "Requirement already satisfied: plotly in /usr/local/lib/python3.10/dist-packages (from neel-plotly==0.0.0) (5.15.0)\n",
            "Requirement already satisfied: tqdm in /usr/local/lib/python3.10/dist-packages (from neel-plotly==0.0.0) (4.66.2)\n",
            "Requirement already satisfied: pandas in /usr/local/lib/python3.10/dist-packages (from neel-plotly==0.0.0) (1.5.3)\n",
            "Requirement already satisfied: python-dateutil>=2.8.1 in /usr/local/lib/python3.10/dist-packages (from pandas->neel-plotly==0.0.0) (2.8.2)\n",
            "Requirement already satisfied: pytz>=2020.1 in /usr/local/lib/python3.10/dist-packages (from pandas->neel-plotly==0.0.0) (2023.4)\n",
            "Requirement already satisfied: tenacity>=6.2.0 in /usr/local/lib/python3.10/dist-packages (from plotly->neel-plotly==0.0.0) (8.2.3)\n",
            "Requirement already satisfied: packaging in /usr/local/lib/python3.10/dist-packages (from plotly->neel-plotly==0.0.0) (23.2)\n",
            "Requirement already satisfied: filelock in /usr/local/lib/python3.10/dist-packages (from torch->neel-plotly==0.0.0) (3.13.1)\n",
            "Requirement already satisfied: typing-extensions in /usr/local/lib/python3.10/dist-packages (from torch->neel-plotly==0.0.0) (4.9.0)\n",
            "Requirement already satisfied: sympy in /usr/local/lib/python3.10/dist-packages (from torch->neel-plotly==0.0.0) (1.12)\n",
            "Requirement already satisfied: networkx in /usr/local/lib/python3.10/dist-packages (from torch->neel-plotly==0.0.0) (3.2.1)\n",
            "Requirement already satisfied: jinja2 in /usr/local/lib/python3.10/dist-packages (from torch->neel-plotly==0.0.0) (3.1.3)\n",
            "Requirement already satisfied: fsspec in /usr/local/lib/python3.10/dist-packages (from torch->neel-plotly==0.0.0) (2023.6.0)\n",
            "Requirement already satisfied: nvidia-cuda-nvrtc-cu12==12.1.105 in /usr/local/lib/python3.10/dist-packages (from torch->neel-plotly==0.0.0) (12.1.105)\n",
            "Requirement already satisfied: nvidia-cuda-runtime-cu12==12.1.105 in /usr/local/lib/python3.10/dist-packages (from torch->neel-plotly==0.0.0) (12.1.105)\n",
            "Requirement already satisfied: nvidia-cuda-cupti-cu12==12.1.105 in /usr/local/lib/python3.10/dist-packages (from torch->neel-plotly==0.0.0) (12.1.105)\n",
            "Requirement already satisfied: nvidia-cudnn-cu12==8.9.2.26 in /usr/local/lib/python3.10/dist-packages (from torch->neel-plotly==0.0.0) (8.9.2.26)\n",
            "Requirement already satisfied: nvidia-cublas-cu12==12.1.3.1 in /usr/local/lib/python3.10/dist-packages (from torch->neel-plotly==0.0.0) (12.1.3.1)\n",
            "Requirement already satisfied: nvidia-cufft-cu12==11.0.2.54 in /usr/local/lib/python3.10/dist-packages (from torch->neel-plotly==0.0.0) (11.0.2.54)\n",
            "Requirement already satisfied: nvidia-curand-cu12==10.3.2.106 in /usr/local/lib/python3.10/dist-packages (from torch->neel-plotly==0.0.0) (10.3.2.106)\n",
            "Requirement already satisfied: nvidia-cusolver-cu12==11.4.5.107 in /usr/local/lib/python3.10/dist-packages (from torch->neel-plotly==0.0.0) (11.4.5.107)\n",
            "Requirement already satisfied: nvidia-cusparse-cu12==12.1.0.106 in /usr/local/lib/python3.10/dist-packages (from torch->neel-plotly==0.0.0) (12.1.0.106)\n",
            "Requirement already satisfied: nvidia-nccl-cu12==2.18.1 in /usr/local/lib/python3.10/dist-packages (from torch->neel-plotly==0.0.0) (2.18.1)\n",
            "Requirement already satisfied: nvidia-nvtx-cu12==12.1.105 in /usr/local/lib/python3.10/dist-packages (from torch->neel-plotly==0.0.0) (12.1.105)\n",
            "Requirement already satisfied: triton==2.1.0 in /usr/local/lib/python3.10/dist-packages (from torch->neel-plotly==0.0.0) (2.1.0)\n",
            "Requirement already satisfied: nvidia-nvjitlink-cu12 in /usr/local/lib/python3.10/dist-packages (from nvidia-cusolver-cu12==11.4.5.107->torch->neel-plotly==0.0.0) (12.3.101)\n",
            "Requirement already satisfied: six>=1.5 in /usr/local/lib/python3.10/dist-packages (from python-dateutil>=2.8.1->pandas->neel-plotly==0.0.0) (1.16.0)\n",
            "Requirement already satisfied: MarkupSafe>=2.0 in /usr/local/lib/python3.10/dist-packages (from jinja2->torch->neel-plotly==0.0.0) (2.1.5)\n",
            "Requirement already satisfied: mpmath>=0.19 in /usr/local/lib/python3.10/dist-packages (from sympy->torch->neel-plotly==0.0.0) (1.3.0)\n",
            "Building wheels for collected packages: neel-plotly\n",
            "  Building wheel for neel-plotly (setup.py) ... \u001b[?25l\u001b[?25hdone\n",
            "  Created wheel for neel-plotly: filename=neel_plotly-0.0.0-py3-none-any.whl size=10186 sha256=eb20894c3b68f44ddac6a2dd9139b8e24de48504de79369ba954d886358a76db\n",
            "  Stored in directory: /tmp/pip-ephem-wheel-cache-jycgw7m_/wheels/32/cf/25/0103b4be02266c40faf008ffa9565a2ba07d1c63118fccc390\n",
            "Successfully built neel-plotly\n",
            "Installing collected packages: neel-plotly\n",
            "Successfully installed neel-plotly-0.0.0\n"
          ]
        }
      ]
    },
    {
      "cell_type": "code",
      "execution_count": null,
      "metadata": {
        "colab": {
          "base_uri": "https://localhost:8080/",
          "height": 542
        },
        "id": "AoxTnzfgQTaP",
        "outputId": "920a4208-ba90-4ccc-d7c2-b703de8dcb4f"
      },
      "outputs": [
        {
          "output_type": "display_data",
          "data": {
            "text/html": [
              "<html>\n",
              "<head><meta charset=\"utf-8\" /></head>\n",
              "<body>\n",
              "    <div>            <script src=\"https://cdnjs.cloudflare.com/ajax/libs/mathjax/2.7.5/MathJax.js?config=TeX-AMS-MML_SVG\"></script><script type=\"text/javascript\">if (window.MathJax && window.MathJax.Hub && window.MathJax.Hub.Config) {window.MathJax.Hub.Config({SVG: {font: \"STIX-Web\"}});}</script>                <script type=\"text/javascript\">window.PlotlyConfig = {MathJaxConfig: 'local'};</script>\n",
              "        <script charset=\"utf-8\" src=\"https://cdn.plot.ly/plotly-2.24.1.min.js\"></script>                <div id=\"2909e752-136a-439d-8e79-3dc52fc30161\" class=\"plotly-graph-div\" style=\"height:525px; width:100%;\"></div>            <script type=\"text/javascript\">                                    window.PLOTLYENV=window.PLOTLYENV || {};                                    if (document.getElementById(\"2909e752-136a-439d-8e79-3dc52fc30161\")) {                    Plotly.newPlot(                        \"2909e752-136a-439d-8e79-3dc52fc30161\",                        [{\"hovertemplate\":\"Color=train\\u003cbr\\u003eEpoch=%{x}\\u003cbr\\u003eLoss=%{y}\\u003cextra\\u003e\\u003c\\u002fextra\\u003e\",\"legendgroup\":\"0\",\"line\":{\"color\":\"#636efa\",\"dash\":\"solid\"},\"marker\":{\"symbol\":\"circle\"},\"mode\":\"lines\",\"name\":\"train\",\"orientation\":\"v\",\"showlegend\":true,\"x\":[0,100],\"xaxis\":\"x\",\"y\":[0.017963556572794914,0.011355201713740826],\"yaxis\":\"y\",\"type\":\"scatter\"},{\"hovertemplate\":\"Color=test\\u003cbr\\u003eEpoch=%{x}\\u003cbr\\u003eLoss=%{y}\\u003cextra\\u003e\\u003c\\u002fextra\\u003e\",\"legendgroup\":\"1\",\"line\":{\"color\":\"#EF553B\",\"dash\":\"solid\"},\"marker\":{\"symbol\":\"circle\"},\"mode\":\"lines\",\"name\":\"test\",\"orientation\":\"v\",\"showlegend\":true,\"x\":[0,100],\"xaxis\":\"x\",\"y\":[0.043586064130067825,0.031246760860085487],\"yaxis\":\"y\",\"type\":\"scatter\"}],                        {\"template\":{\"data\":{\"histogram2dcontour\":[{\"type\":\"histogram2dcontour\",\"colorbar\":{\"outlinewidth\":0,\"ticks\":\"\"},\"colorscale\":[[0.0,\"#0d0887\"],[0.1111111111111111,\"#46039f\"],[0.2222222222222222,\"#7201a8\"],[0.3333333333333333,\"#9c179e\"],[0.4444444444444444,\"#bd3786\"],[0.5555555555555556,\"#d8576b\"],[0.6666666666666666,\"#ed7953\"],[0.7777777777777778,\"#fb9f3a\"],[0.8888888888888888,\"#fdca26\"],[1.0,\"#f0f921\"]]}],\"choropleth\":[{\"type\":\"choropleth\",\"colorbar\":{\"outlinewidth\":0,\"ticks\":\"\"}}],\"histogram2d\":[{\"type\":\"histogram2d\",\"colorbar\":{\"outlinewidth\":0,\"ticks\":\"\"},\"colorscale\":[[0.0,\"#0d0887\"],[0.1111111111111111,\"#46039f\"],[0.2222222222222222,\"#7201a8\"],[0.3333333333333333,\"#9c179e\"],[0.4444444444444444,\"#bd3786\"],[0.5555555555555556,\"#d8576b\"],[0.6666666666666666,\"#ed7953\"],[0.7777777777777778,\"#fb9f3a\"],[0.8888888888888888,\"#fdca26\"],[1.0,\"#f0f921\"]]}],\"heatmap\":[{\"type\":\"heatmap\",\"colorbar\":{\"outlinewidth\":0,\"ticks\":\"\"},\"colorscale\":[[0.0,\"#0d0887\"],[0.1111111111111111,\"#46039f\"],[0.2222222222222222,\"#7201a8\"],[0.3333333333333333,\"#9c179e\"],[0.4444444444444444,\"#bd3786\"],[0.5555555555555556,\"#d8576b\"],[0.6666666666666666,\"#ed7953\"],[0.7777777777777778,\"#fb9f3a\"],[0.8888888888888888,\"#fdca26\"],[1.0,\"#f0f921\"]]}],\"heatmapgl\":[{\"type\":\"heatmapgl\",\"colorbar\":{\"outlinewidth\":0,\"ticks\":\"\"},\"colorscale\":[[0.0,\"#0d0887\"],[0.1111111111111111,\"#46039f\"],[0.2222222222222222,\"#7201a8\"],[0.3333333333333333,\"#9c179e\"],[0.4444444444444444,\"#bd3786\"],[0.5555555555555556,\"#d8576b\"],[0.6666666666666666,\"#ed7953\"],[0.7777777777777778,\"#fb9f3a\"],[0.8888888888888888,\"#fdca26\"],[1.0,\"#f0f921\"]]}],\"contourcarpet\":[{\"type\":\"contourcarpet\",\"colorbar\":{\"outlinewidth\":0,\"ticks\":\"\"}}],\"contour\":[{\"type\":\"contour\",\"colorbar\":{\"outlinewidth\":0,\"ticks\":\"\"},\"colorscale\":[[0.0,\"#0d0887\"],[0.1111111111111111,\"#46039f\"],[0.2222222222222222,\"#7201a8\"],[0.3333333333333333,\"#9c179e\"],[0.4444444444444444,\"#bd3786\"],[0.5555555555555556,\"#d8576b\"],[0.6666666666666666,\"#ed7953\"],[0.7777777777777778,\"#fb9f3a\"],[0.8888888888888888,\"#fdca26\"],[1.0,\"#f0f921\"]]}],\"surface\":[{\"type\":\"surface\",\"colorbar\":{\"outlinewidth\":0,\"ticks\":\"\"},\"colorscale\":[[0.0,\"#0d0887\"],[0.1111111111111111,\"#46039f\"],[0.2222222222222222,\"#7201a8\"],[0.3333333333333333,\"#9c179e\"],[0.4444444444444444,\"#bd3786\"],[0.5555555555555556,\"#d8576b\"],[0.6666666666666666,\"#ed7953\"],[0.7777777777777778,\"#fb9f3a\"],[0.8888888888888888,\"#fdca26\"],[1.0,\"#f0f921\"]]}],\"mesh3d\":[{\"type\":\"mesh3d\",\"colorbar\":{\"outlinewidth\":0,\"ticks\":\"\"}}],\"scatter\":[{\"fillpattern\":{\"fillmode\":\"overlay\",\"size\":10,\"solidity\":0.2},\"type\":\"scatter\"}],\"parcoords\":[{\"type\":\"parcoords\",\"line\":{\"colorbar\":{\"outlinewidth\":0,\"ticks\":\"\"}}}],\"scatterpolargl\":[{\"type\":\"scatterpolargl\",\"marker\":{\"colorbar\":{\"outlinewidth\":0,\"ticks\":\"\"}}}],\"bar\":[{\"error_x\":{\"color\":\"#2a3f5f\"},\"error_y\":{\"color\":\"#2a3f5f\"},\"marker\":{\"line\":{\"color\":\"#E5ECF6\",\"width\":0.5},\"pattern\":{\"fillmode\":\"overlay\",\"size\":10,\"solidity\":0.2}},\"type\":\"bar\"}],\"scattergeo\":[{\"type\":\"scattergeo\",\"marker\":{\"colorbar\":{\"outlinewidth\":0,\"ticks\":\"\"}}}],\"scatterpolar\":[{\"type\":\"scatterpolar\",\"marker\":{\"colorbar\":{\"outlinewidth\":0,\"ticks\":\"\"}}}],\"histogram\":[{\"marker\":{\"pattern\":{\"fillmode\":\"overlay\",\"size\":10,\"solidity\":0.2}},\"type\":\"histogram\"}],\"scattergl\":[{\"type\":\"scattergl\",\"marker\":{\"colorbar\":{\"outlinewidth\":0,\"ticks\":\"\"}}}],\"scatter3d\":[{\"type\":\"scatter3d\",\"line\":{\"colorbar\":{\"outlinewidth\":0,\"ticks\":\"\"}},\"marker\":{\"colorbar\":{\"outlinewidth\":0,\"ticks\":\"\"}}}],\"scattermapbox\":[{\"type\":\"scattermapbox\",\"marker\":{\"colorbar\":{\"outlinewidth\":0,\"ticks\":\"\"}}}],\"scatterternary\":[{\"type\":\"scatterternary\",\"marker\":{\"colorbar\":{\"outlinewidth\":0,\"ticks\":\"\"}}}],\"scattercarpet\":[{\"type\":\"scattercarpet\",\"marker\":{\"colorbar\":{\"outlinewidth\":0,\"ticks\":\"\"}}}],\"carpet\":[{\"aaxis\":{\"endlinecolor\":\"#2a3f5f\",\"gridcolor\":\"white\",\"linecolor\":\"white\",\"minorgridcolor\":\"white\",\"startlinecolor\":\"#2a3f5f\"},\"baxis\":{\"endlinecolor\":\"#2a3f5f\",\"gridcolor\":\"white\",\"linecolor\":\"white\",\"minorgridcolor\":\"white\",\"startlinecolor\":\"#2a3f5f\"},\"type\":\"carpet\"}],\"table\":[{\"cells\":{\"fill\":{\"color\":\"#EBF0F8\"},\"line\":{\"color\":\"white\"}},\"header\":{\"fill\":{\"color\":\"#C8D4E3\"},\"line\":{\"color\":\"white\"}},\"type\":\"table\"}],\"barpolar\":[{\"marker\":{\"line\":{\"color\":\"#E5ECF6\",\"width\":0.5},\"pattern\":{\"fillmode\":\"overlay\",\"size\":10,\"solidity\":0.2}},\"type\":\"barpolar\"}],\"pie\":[{\"automargin\":true,\"type\":\"pie\"}]},\"layout\":{\"autotypenumbers\":\"strict\",\"colorway\":[\"#636efa\",\"#EF553B\",\"#00cc96\",\"#ab63fa\",\"#FFA15A\",\"#19d3f3\",\"#FF6692\",\"#B6E880\",\"#FF97FF\",\"#FECB52\"],\"font\":{\"color\":\"#2a3f5f\"},\"hovermode\":\"closest\",\"hoverlabel\":{\"align\":\"left\"},\"paper_bgcolor\":\"white\",\"plot_bgcolor\":\"#E5ECF6\",\"polar\":{\"bgcolor\":\"#E5ECF6\",\"angularaxis\":{\"gridcolor\":\"white\",\"linecolor\":\"white\",\"ticks\":\"\"},\"radialaxis\":{\"gridcolor\":\"white\",\"linecolor\":\"white\",\"ticks\":\"\"}},\"ternary\":{\"bgcolor\":\"#E5ECF6\",\"aaxis\":{\"gridcolor\":\"white\",\"linecolor\":\"white\",\"ticks\":\"\"},\"baxis\":{\"gridcolor\":\"white\",\"linecolor\":\"white\",\"ticks\":\"\"},\"caxis\":{\"gridcolor\":\"white\",\"linecolor\":\"white\",\"ticks\":\"\"}},\"coloraxis\":{\"colorbar\":{\"outlinewidth\":0,\"ticks\":\"\"}},\"colorscale\":{\"sequential\":[[0.0,\"#0d0887\"],[0.1111111111111111,\"#46039f\"],[0.2222222222222222,\"#7201a8\"],[0.3333333333333333,\"#9c179e\"],[0.4444444444444444,\"#bd3786\"],[0.5555555555555556,\"#d8576b\"],[0.6666666666666666,\"#ed7953\"],[0.7777777777777778,\"#fb9f3a\"],[0.8888888888888888,\"#fdca26\"],[1.0,\"#f0f921\"]],\"sequentialminus\":[[0.0,\"#0d0887\"],[0.1111111111111111,\"#46039f\"],[0.2222222222222222,\"#7201a8\"],[0.3333333333333333,\"#9c179e\"],[0.4444444444444444,\"#bd3786\"],[0.5555555555555556,\"#d8576b\"],[0.6666666666666666,\"#ed7953\"],[0.7777777777777778,\"#fb9f3a\"],[0.8888888888888888,\"#fdca26\"],[1.0,\"#f0f921\"]],\"diverging\":[[0,\"#8e0152\"],[0.1,\"#c51b7d\"],[0.2,\"#de77ae\"],[0.3,\"#f1b6da\"],[0.4,\"#fde0ef\"],[0.5,\"#f7f7f7\"],[0.6,\"#e6f5d0\"],[0.7,\"#b8e186\"],[0.8,\"#7fbc41\"],[0.9,\"#4d9221\"],[1,\"#276419\"]]},\"xaxis\":{\"gridcolor\":\"white\",\"linecolor\":\"white\",\"ticks\":\"\",\"title\":{\"standoff\":15,\"font\":{\"size\":20}},\"zerolinecolor\":\"white\",\"automargin\":true,\"zerolinewidth\":2},\"yaxis\":{\"gridcolor\":\"white\",\"linecolor\":\"white\",\"ticks\":\"\",\"title\":{\"standoff\":15,\"font\":{\"size\":20}},\"zerolinecolor\":\"white\",\"automargin\":true,\"zerolinewidth\":2},\"scene\":{\"xaxis\":{\"backgroundcolor\":\"#E5ECF6\",\"gridcolor\":\"white\",\"linecolor\":\"white\",\"showbackground\":true,\"ticks\":\"\",\"zerolinecolor\":\"white\",\"gridwidth\":2},\"yaxis\":{\"backgroundcolor\":\"#E5ECF6\",\"gridcolor\":\"white\",\"linecolor\":\"white\",\"showbackground\":true,\"ticks\":\"\",\"zerolinecolor\":\"white\",\"gridwidth\":2},\"zaxis\":{\"backgroundcolor\":\"#E5ECF6\",\"gridcolor\":\"white\",\"linecolor\":\"white\",\"showbackground\":true,\"ticks\":\"\",\"zerolinecolor\":\"white\",\"gridwidth\":2}},\"shapedefaults\":{\"line\":{\"color\":\"#2a3f5f\"}},\"annotationdefaults\":{\"arrowcolor\":\"#2a3f5f\",\"arrowhead\":0,\"arrowwidth\":1},\"geo\":{\"bgcolor\":\"white\",\"landcolor\":\"#E5ECF6\",\"subunitcolor\":\"white\",\"showland\":true,\"showlakes\":true,\"lakecolor\":\"white\"},\"title\":{\"x\":0.05,\"font\":{\"size\":30}},\"mapbox\":{\"style\":\"light\"}}},\"xaxis\":{\"anchor\":\"y\",\"domain\":[0.0,1.0],\"title\":{\"text\":\"Epoch\"}},\"yaxis\":{\"anchor\":\"x\",\"domain\":[0.0,1.0],\"title\":{\"text\":\"Loss\"},\"type\":\"log\"},\"legend\":{\"title\":{\"text\":\"Color\"},\"tracegroupgap\":0},\"title\":{\"text\":\"Training Curve for Modular Addition\"},\"updatemenus\":[{\"active\":-1,\"buttons\":[{\"args\":[{\"xaxis.type\":\"log\"}],\"args2\":[{\"xaxis.type\":\"linear\"}],\"label\":\"Log x-axis\",\"method\":\"relayout\"}],\"type\":\"buttons\",\"x\":-0.1,\"y\":1.0},{\"active\":0,\"buttons\":[{\"args\":[{\"yaxis.type\":\"log\"}],\"args2\":[{\"yaxis.type\":\"linear\"}],\"label\":\"Log y-axis\",\"method\":\"relayout\"}],\"type\":\"buttons\",\"x\":-0.1,\"y\":0.85}]},                        {\"responsive\": true}                    ).then(function(){\n",
              "                            \n",
              "var gd = document.getElementById('2909e752-136a-439d-8e79-3dc52fc30161');\n",
              "var x = new MutationObserver(function (mutations, observer) {{\n",
              "        var display = window.getComputedStyle(gd).display;\n",
              "        if (!display || display === 'none') {{\n",
              "            console.log([gd, 'removed!']);\n",
              "            Plotly.purge(gd);\n",
              "            observer.disconnect();\n",
              "        }}\n",
              "}});\n",
              "\n",
              "// Listen for the removal of the full notebook cells\n",
              "var notebookContainer = gd.closest('#notebook-container');\n",
              "if (notebookContainer) {{\n",
              "    x.observe(notebookContainer, {childList: true});\n",
              "}}\n",
              "\n",
              "// Listen for the clearing of the current output cell\n",
              "var outputEl = gd.closest('.output');\n",
              "if (outputEl) {{\n",
              "    x.observe(outputEl, {childList: true});\n",
              "}}\n",
              "\n",
              "                        })                };                            </script>        </div>\n",
              "</body>\n",
              "</html>"
            ]
          },
          "metadata": {}
        }
      ],
      "source": [
        "train_losses_2 = np.asarray(train_losses).astype('float32')\n",
        "test_losses_2 = np.asarray(test_losses).astype('float32')\n",
        "line([train_losses_2[::100], test_losses_2[::100]], x=np.arange(0, len(train_losses_2), 100), xaxis=\"Epoch\", yaxis=\"Loss\", log_y=True, title=\"Training Curve for Modular Addition\", line_labels=['train', 'test'], toggle_x=True, toggle_y=True)"
      ]
    },
    {
      "cell_type": "markdown",
      "metadata": {
        "id": "b7S0VwstQTaP"
      },
      "source": [
        "# Analysing the Model"
      ]
    },
    {
      "cell_type": "code",
      "source": [
        "for i in dataset:\n",
        "  print(i)\n",
        "  break"
      ],
      "metadata": {
        "id": "jo2SRepS6u75"
      },
      "execution_count": null,
      "outputs": []
    },
    {
      "cell_type": "markdown",
      "metadata": {
        "id": "t1m-9YhPQTaP"
      },
      "source": [
        "## Standard Things to Try"
      ]
    },
    {
      "cell_type": "code",
      "execution_count": null,
      "metadata": {
        "id": "jON1vuTCQTaP",
        "colab": {
          "base_uri": "https://localhost:8080/"
        },
        "outputId": "7fb18c1e-fca2-40f3-ac6b-ae39b18f13c5"
      },
      "outputs": [
        {
          "output_type": "stream",
          "name": "stdout",
          "text": [
            "33292800\n"
          ]
        }
      ],
      "source": [
        "original_logits, cache = model.run_with_cache(dataset)\n",
        "print(original_logits.numel())"
      ]
    },
    {
      "cell_type": "code",
      "source": [
        "original_logits.shape"
      ],
      "metadata": {
        "colab": {
          "base_uri": "https://localhost:8080/"
        },
        "id": "nzpuGnrFre_v",
        "outputId": "2f9a51af-8088-4d11-f86d-68c6fba0cefe"
      },
      "execution_count": null,
      "outputs": [
        {
          "output_type": "execute_result",
          "data": {
            "text/plain": [
              "torch.Size([10200, 64, 51])"
            ]
          },
          "metadata": {},
          "execution_count": 71
        }
      ]
    },
    {
      "cell_type": "markdown",
      "metadata": {
        "id": "sesTdabiQTaP"
      },
      "source": [
        "Get key weight matrices:"
      ]
    },
    {
      "cell_type": "code",
      "execution_count": null,
      "metadata": {
        "id": "wg7tGam1QTaQ",
        "colab": {
          "base_uri": "https://localhost:8080/"
        },
        "outputId": "1480b7c0-dfcc-4851-9449-a0d8d118ed89"
      },
      "outputs": [
        {
          "output_type": "stream",
          "name": "stdout",
          "text": [
            "W_E torch.Size([63, 128])\n",
            "W_neur torch.Size([4, 63, 512])\n",
            "W_logit torch.Size([512, 51])\n"
          ]
        }
      ],
      "source": [
        "W_E = model.embed.W_E[:-1]\n",
        "print(\"W_E\", W_E.shape)\n",
        "W_neur = W_E @ model.blocks[0].attn.W_V @ model.blocks[0].attn.W_O @ model.blocks[0].mlp.W_in\n",
        "print(\"W_neur\", W_neur.shape)\n",
        "W_logit = model.blocks[0].mlp.W_out @ model.unembed.W_U\n",
        "print(\"W_logit\", W_logit.shape)"
      ]
    },
    {
      "cell_type": "code",
      "execution_count": null,
      "metadata": {
        "id": "3XgwTHCKQTaQ",
        "colab": {
          "base_uri": "https://localhost:8080/"
        },
        "outputId": "699358cc-f26e-43c5-ff27-96c95751643a"
      },
      "outputs": [
        {
          "output_type": "stream",
          "name": "stdout",
          "text": [
            "Original Loss: 0.0197895593178562\n"
          ]
        }
      ],
      "source": [
        "original_loss = loss_fn(original_logits, labels.to('cuda')).item()\n",
        "print(\"Original Loss:\", original_loss)"
      ]
    },
    {
      "cell_type": "markdown",
      "metadata": {
        "id": "FNa5PuWzQTaQ"
      },
      "source": [
        "### Looking at Activations"
      ]
    },
    {
      "cell_type": "markdown",
      "metadata": {
        "id": "0fnHvarbQTaQ"
      },
      "source": [
        "Helper variable:"
      ]
    },
    {
      "cell_type": "code",
      "execution_count": null,
      "metadata": {
        "id": "uRudEgtLQTaQ"
      },
      "outputs": [],
      "source": [
        "pattern_a = cache[\"pattern\", 0, \"attn\"][:, :, -1, 0]\n",
        "pattern_b = cache[\"pattern\", 0, \"attn\"][:, :, -1, 1]\n",
        "neuron_acts = cache[\"post\", 0, \"mlp\"][:, -1, :]\n",
        "neuron_pre_acts = cache[\"pre\", 0, \"mlp\"][:, -1, :]"
      ]
    },
    {
      "cell_type": "markdown",
      "metadata": {
        "id": "xL5sjOAdQTaR"
      },
      "source": [
        "Get all shapes:"
      ]
    },
    {
      "cell_type": "code",
      "execution_count": null,
      "metadata": {
        "id": "6Mnnjqp8QTaR",
        "colab": {
          "base_uri": "https://localhost:8080/"
        },
        "outputId": "deeb2a5b-ef07-4079-8335-667df383b1dd"
      },
      "outputs": [
        {
          "output_type": "stream",
          "name": "stdout",
          "text": [
            "hook_embed torch.Size([10200, 64, 128])\n",
            "hook_pos_embed torch.Size([10200, 64, 128])\n",
            "blocks.0.hook_resid_pre torch.Size([10200, 64, 128])\n",
            "blocks.0.attn.hook_q torch.Size([10200, 64, 4, 32])\n",
            "blocks.0.attn.hook_k torch.Size([10200, 64, 4, 32])\n",
            "blocks.0.attn.hook_v torch.Size([10200, 64, 4, 32])\n",
            "blocks.0.attn.hook_attn_scores torch.Size([10200, 4, 64, 64])\n",
            "blocks.0.attn.hook_pattern torch.Size([10200, 4, 64, 64])\n",
            "blocks.0.attn.hook_z torch.Size([10200, 64, 4, 32])\n",
            "blocks.0.hook_attn_out torch.Size([10200, 64, 128])\n",
            "blocks.0.hook_resid_mid torch.Size([10200, 64, 128])\n",
            "blocks.0.mlp.hook_pre torch.Size([10200, 64, 512])\n",
            "blocks.0.mlp.hook_post torch.Size([10200, 64, 512])\n",
            "blocks.0.hook_mlp_out torch.Size([10200, 64, 128])\n",
            "blocks.0.hook_resid_post torch.Size([10200, 64, 128])\n"
          ]
        }
      ],
      "source": [
        "for param_name, param in cache.items():\n",
        "    print(param_name, param.shape)"
      ]
    },
    {
      "cell_type": "code",
      "execution_count": null,
      "metadata": {
        "id": "ivj0q2EKQTaR",
        "colab": {
          "base_uri": "https://localhost:8080/",
          "height": 542
        },
        "outputId": "ff643736-22ae-4c30-b337-dcebf07ee70c"
      },
      "outputs": [
        {
          "output_type": "display_data",
          "data": {
            "text/html": [
              "<html>\n",
              "<head><meta charset=\"utf-8\" /></head>\n",
              "<body>\n",
              "    <div>            <script src=\"https://cdnjs.cloudflare.com/ajax/libs/mathjax/2.7.5/MathJax.js?config=TeX-AMS-MML_SVG\"></script><script type=\"text/javascript\">if (window.MathJax && window.MathJax.Hub && window.MathJax.Hub.Config) {window.MathJax.Hub.Config({SVG: {font: \"STIX-Web\"}});}</script>                <script type=\"text/javascript\">window.PlotlyConfig = {MathJaxConfig: 'local'};</script>\n",
              "        <script charset=\"utf-8\" src=\"https://cdn.plot.ly/plotly-2.24.1.min.js\"></script>                <div id=\"3ac90c2e-7313-4738-902c-d0c6ac2f3185\" class=\"plotly-graph-div\" style=\"height:525px; width:100%;\"></div>            <script type=\"text/javascript\">                                    window.PLOTLYENV=window.PLOTLYENV || {};                                    if (document.getElementById(\"3ac90c2e-7313-4738-902c-d0c6ac2f3185\")) {                    Plotly.newPlot(                        \"3ac90c2e-7313-4738-902c-d0c6ac2f3185\",                        [{\"coloraxis\":\"coloraxis\",\"name\":\"0\",\"z\":[[0.2486007660627365,0.09964573383331299,0.03787444904446602,0.03789125755429268,0.05578187108039856,0.015137185342609882,0.024537719786167145,0.013572423718869686,0.01689082942903042,0.026888297870755196,0.01616382785141468,0.018371691927313805,0.02470335364341736,0.023816704750061035,0.02003086730837822,0.017126595601439476,0.018837779760360718,0.021699823439121246,0.014069761149585247,0.017075859010219574,0.014741535298526287,0.014817106537520885,0.028331711888313293,0.030552739277482033,0.017744094133377075,0.02610529586672783,0.009253106079995632,0.0070623792707920074,0.009742564521729946,0.008493500761687756,0.008192459121346474,0.00528934458270669,0.006767819635570049,0.004433740861713886,0.004170212894678116,0.003834826871752739,0.0038976219948381186,0.005833168514072895,0.003766723908483982,0.0035558308009058237,0.0030847378075122833,0.0022777679841965437,0.0026469414588063955,0.00141840276774019,0.0011198754655197263,0.0010201953118667006,0.0012053899699822068,0.0008714032592251897,0.0004911960568279028,0.0002159041032427922,0.000220179877942428,1.04471982922405e-05,1.0447169188410044e-05,1.04471982922405e-05,1.0447169188410044e-05,1.0447237400512677e-05,1.0447169188410044e-05,1.0447169188410044e-05,1.0447169188410044e-05,1.0447189197293483e-05,1.0447169188410044e-05,1.0447169188410044e-05,1.044717737386236e-05,3.5998588998609193e-08],[0.042273446917533875,0.23182731866836548,0.1641421616077423,0.03367604687809944,0.009139997884631157,0.028310876339673996,0.03529387712478638,0.02429805137217045,0.0276153776794672,0.009253140538930893,0.025235038250684738,0.018703032284975052,0.015640990808606148,0.01870332658290863,0.017323659732937813,0.02511315792798996,0.020966680720448494,0.00946892611682415,0.025001835078001022,0.013405309990048409,0.011017373763024807,0.023594055324792862,0.019168859347701073,0.009987722150981426,0.02207825519144535,0.047724008560180664,0.011541791260242462,0.01019675750285387,0.00889721792191267,0.004943181294947863,0.0024360758252441883,0.003049303311854601,0.003063729265704751,0.002980135614052415,0.0027933598030358553,0.002828602446243167,0.001980684231966734,0.0020338704343885183,0.0019261034904047847,0.001652824110351503,0.001444557448849082,0.0010207683080807328,0.0019114462193101645,0.0007982974057085812,0.000881806539837271,0.0009188448311761022,0.00041841669008135796,0.0002982463629450649,0.0003657753113657236,0.000385262886993587,0.00028252112679183483,0.0001648446632316336,0.0001648446632316336,0.00016484428488183767,0.0001648446632316336,0.00016484475054312497,0.0001648437901167199,0.00016484428488183767,0.0001648446632316336,0.0001648437901167199,0.0001648438919801265,0.00016484428488183767,0.0001648438919801265,9.76230967353331e-06],[0.7293760180473328,0.026068629696965218,0.015521638095378876,0.014587150886654854,0.020635295659303665,0.005537436343729496,0.011206905357539654,0.009295528754591942,0.008157351054251194,0.008198028430342674,0.010187290608882904,0.006512609776109457,0.0070526390336453915,0.006766087841242552,0.005211107432842255,0.010132702998816967,0.007443135604262352,0.0048818266950547695,0.008427217602729797,0.003964774310588837,0.0034905308857560158,0.009134848602116108,0.009766876697540283,0.007343812845647335,0.009393190033733845,0.021133234724402428,0.0038039195351302624,0.001864454592578113,0.0020391352009028196,0.0017593586817383766,0.0010934406891465187,0.0008235497516579926,0.0008317760075442493,0.0007721938891336322,0.0007022815407253802,0.0007703537703491747,0.0007311873487196863,0.0008969189948402345,0.0005547578912228346,0.0004695997922681272,0.0004983014659956098,0.0004845033399760723,0.0005420326488092542,0.0002529814082663506,0.00020983180729672313,0.0001638231915421784,0.0003175652236677706,0.00012313449406065047,0.00015184296353254467,7.691411883570254e-05,6.430221401387826e-05,4.788123260368593e-05,4.788123260368593e-05,4.7881276259431615e-05,4.788123260368593e-05,4.788145815837197e-05,4.788118530996144e-05,4.788123260368593e-05,4.788123260368593e-05,4.788123260368593e-05,4.788118530996144e-05,4.788118530996144e-05,4.788123260368593e-05,1.394522087139194e-06],[0.11376546323299408,0.23308059573173523,0.07464215159416199,0.015139284543693066,0.022673238068819046,0.013829037547111511,0.021359313279390335,0.011768156662583351,0.02745302952826023,0.021471377462148666,0.01958540640771389,0.017188187688589096,0.019507775083184242,0.019305750727653503,0.024147937074303627,0.01910349726676941,0.03276465833187103,0.018946334719657898,0.026119384914636612,0.017729833722114563,0.021299617365002632,0.022894499823451042,0.018809517845511436,0.02007836103439331,0.025810938328504562,0.033907223492860794,0.015974773094058037,0.00890465546399355,0.008021291345357895,0.007899802178144455,0.005462046712636948,0.0047483197413384914,0.00427940534427762,0.00415162043645978,0.003150166478008032,0.003763552289456129,0.004099037032574415,0.0026165067683905363,0.0021692244336009026,0.0018884370801970363,0.0021878404077142477,0.0014240348245948553,0.0016960296779870987,0.0016197455115616322,0.0009119930327869952,0.000738270056899637,0.00020156837126705796,0.0004774267436005175,0.00042541680159047246,0.00044921107473783195,0.0002169604558730498,1.183522635983536e-05,1.183523636427708e-05,1.183523636427708e-05,1.183523636427708e-05,1.183522635983536e-05,1.183522635983536e-05,1.183522635983536e-05,1.183523636427708e-05,1.183523636427708e-05,1.183523636427708e-05,1.183522635983536e-05,1.183522635983536e-05,4.700983780026036e-08]],\"type\":\"heatmap\",\"xaxis\":\"x\",\"yaxis\":\"y\",\"hovertemplate\":\"Source: %{x}\\u003cbr\\u003eHead: %{y}\\u003cbr\\u003ecolor: %{z}\\u003cextra\\u003e\\u003c\\u002fextra\\u003e\"}],                        {\"template\":{\"data\":{\"histogram2dcontour\":[{\"type\":\"histogram2dcontour\",\"colorbar\":{\"outlinewidth\":0,\"ticks\":\"\"},\"colorscale\":[[0.0,\"#0d0887\"],[0.1111111111111111,\"#46039f\"],[0.2222222222222222,\"#7201a8\"],[0.3333333333333333,\"#9c179e\"],[0.4444444444444444,\"#bd3786\"],[0.5555555555555556,\"#d8576b\"],[0.6666666666666666,\"#ed7953\"],[0.7777777777777778,\"#fb9f3a\"],[0.8888888888888888,\"#fdca26\"],[1.0,\"#f0f921\"]]}],\"choropleth\":[{\"type\":\"choropleth\",\"colorbar\":{\"outlinewidth\":0,\"ticks\":\"\"}}],\"histogram2d\":[{\"type\":\"histogram2d\",\"colorbar\":{\"outlinewidth\":0,\"ticks\":\"\"},\"colorscale\":[[0.0,\"#0d0887\"],[0.1111111111111111,\"#46039f\"],[0.2222222222222222,\"#7201a8\"],[0.3333333333333333,\"#9c179e\"],[0.4444444444444444,\"#bd3786\"],[0.5555555555555556,\"#d8576b\"],[0.6666666666666666,\"#ed7953\"],[0.7777777777777778,\"#fb9f3a\"],[0.8888888888888888,\"#fdca26\"],[1.0,\"#f0f921\"]]}],\"heatmap\":[{\"type\":\"heatmap\",\"colorbar\":{\"outlinewidth\":0,\"ticks\":\"\"},\"colorscale\":[[0.0,\"#0d0887\"],[0.1111111111111111,\"#46039f\"],[0.2222222222222222,\"#7201a8\"],[0.3333333333333333,\"#9c179e\"],[0.4444444444444444,\"#bd3786\"],[0.5555555555555556,\"#d8576b\"],[0.6666666666666666,\"#ed7953\"],[0.7777777777777778,\"#fb9f3a\"],[0.8888888888888888,\"#fdca26\"],[1.0,\"#f0f921\"]]}],\"heatmapgl\":[{\"type\":\"heatmapgl\",\"colorbar\":{\"outlinewidth\":0,\"ticks\":\"\"},\"colorscale\":[[0.0,\"#0d0887\"],[0.1111111111111111,\"#46039f\"],[0.2222222222222222,\"#7201a8\"],[0.3333333333333333,\"#9c179e\"],[0.4444444444444444,\"#bd3786\"],[0.5555555555555556,\"#d8576b\"],[0.6666666666666666,\"#ed7953\"],[0.7777777777777778,\"#fb9f3a\"],[0.8888888888888888,\"#fdca26\"],[1.0,\"#f0f921\"]]}],\"contourcarpet\":[{\"type\":\"contourcarpet\",\"colorbar\":{\"outlinewidth\":0,\"ticks\":\"\"}}],\"contour\":[{\"type\":\"contour\",\"colorbar\":{\"outlinewidth\":0,\"ticks\":\"\"},\"colorscale\":[[0.0,\"#0d0887\"],[0.1111111111111111,\"#46039f\"],[0.2222222222222222,\"#7201a8\"],[0.3333333333333333,\"#9c179e\"],[0.4444444444444444,\"#bd3786\"],[0.5555555555555556,\"#d8576b\"],[0.6666666666666666,\"#ed7953\"],[0.7777777777777778,\"#fb9f3a\"],[0.8888888888888888,\"#fdca26\"],[1.0,\"#f0f921\"]]}],\"surface\":[{\"type\":\"surface\",\"colorbar\":{\"outlinewidth\":0,\"ticks\":\"\"},\"colorscale\":[[0.0,\"#0d0887\"],[0.1111111111111111,\"#46039f\"],[0.2222222222222222,\"#7201a8\"],[0.3333333333333333,\"#9c179e\"],[0.4444444444444444,\"#bd3786\"],[0.5555555555555556,\"#d8576b\"],[0.6666666666666666,\"#ed7953\"],[0.7777777777777778,\"#fb9f3a\"],[0.8888888888888888,\"#fdca26\"],[1.0,\"#f0f921\"]]}],\"mesh3d\":[{\"type\":\"mesh3d\",\"colorbar\":{\"outlinewidth\":0,\"ticks\":\"\"}}],\"scatter\":[{\"fillpattern\":{\"fillmode\":\"overlay\",\"size\":10,\"solidity\":0.2},\"type\":\"scatter\"}],\"parcoords\":[{\"type\":\"parcoords\",\"line\":{\"colorbar\":{\"outlinewidth\":0,\"ticks\":\"\"}}}],\"scatterpolargl\":[{\"type\":\"scatterpolargl\",\"marker\":{\"colorbar\":{\"outlinewidth\":0,\"ticks\":\"\"}}}],\"bar\":[{\"error_x\":{\"color\":\"#2a3f5f\"},\"error_y\":{\"color\":\"#2a3f5f\"},\"marker\":{\"line\":{\"color\":\"#E5ECF6\",\"width\":0.5},\"pattern\":{\"fillmode\":\"overlay\",\"size\":10,\"solidity\":0.2}},\"type\":\"bar\"}],\"scattergeo\":[{\"type\":\"scattergeo\",\"marker\":{\"colorbar\":{\"outlinewidth\":0,\"ticks\":\"\"}}}],\"scatterpolar\":[{\"type\":\"scatterpolar\",\"marker\":{\"colorbar\":{\"outlinewidth\":0,\"ticks\":\"\"}}}],\"histogram\":[{\"marker\":{\"pattern\":{\"fillmode\":\"overlay\",\"size\":10,\"solidity\":0.2}},\"type\":\"histogram\"}],\"scattergl\":[{\"type\":\"scattergl\",\"marker\":{\"colorbar\":{\"outlinewidth\":0,\"ticks\":\"\"}}}],\"scatter3d\":[{\"type\":\"scatter3d\",\"line\":{\"colorbar\":{\"outlinewidth\":0,\"ticks\":\"\"}},\"marker\":{\"colorbar\":{\"outlinewidth\":0,\"ticks\":\"\"}}}],\"scattermapbox\":[{\"type\":\"scattermapbox\",\"marker\":{\"colorbar\":{\"outlinewidth\":0,\"ticks\":\"\"}}}],\"scatterternary\":[{\"type\":\"scatterternary\",\"marker\":{\"colorbar\":{\"outlinewidth\":0,\"ticks\":\"\"}}}],\"scattercarpet\":[{\"type\":\"scattercarpet\",\"marker\":{\"colorbar\":{\"outlinewidth\":0,\"ticks\":\"\"}}}],\"carpet\":[{\"aaxis\":{\"endlinecolor\":\"#2a3f5f\",\"gridcolor\":\"white\",\"linecolor\":\"white\",\"minorgridcolor\":\"white\",\"startlinecolor\":\"#2a3f5f\"},\"baxis\":{\"endlinecolor\":\"#2a3f5f\",\"gridcolor\":\"white\",\"linecolor\":\"white\",\"minorgridcolor\":\"white\",\"startlinecolor\":\"#2a3f5f\"},\"type\":\"carpet\"}],\"table\":[{\"cells\":{\"fill\":{\"color\":\"#EBF0F8\"},\"line\":{\"color\":\"white\"}},\"header\":{\"fill\":{\"color\":\"#C8D4E3\"},\"line\":{\"color\":\"white\"}},\"type\":\"table\"}],\"barpolar\":[{\"marker\":{\"line\":{\"color\":\"#E5ECF6\",\"width\":0.5},\"pattern\":{\"fillmode\":\"overlay\",\"size\":10,\"solidity\":0.2}},\"type\":\"barpolar\"}],\"pie\":[{\"automargin\":true,\"type\":\"pie\"}]},\"layout\":{\"autotypenumbers\":\"strict\",\"colorway\":[\"#636efa\",\"#EF553B\",\"#00cc96\",\"#ab63fa\",\"#FFA15A\",\"#19d3f3\",\"#FF6692\",\"#B6E880\",\"#FF97FF\",\"#FECB52\"],\"font\":{\"color\":\"#2a3f5f\"},\"hovermode\":\"closest\",\"hoverlabel\":{\"align\":\"left\"},\"paper_bgcolor\":\"white\",\"plot_bgcolor\":\"#E5ECF6\",\"polar\":{\"bgcolor\":\"#E5ECF6\",\"angularaxis\":{\"gridcolor\":\"white\",\"linecolor\":\"white\",\"ticks\":\"\"},\"radialaxis\":{\"gridcolor\":\"white\",\"linecolor\":\"white\",\"ticks\":\"\"}},\"ternary\":{\"bgcolor\":\"#E5ECF6\",\"aaxis\":{\"gridcolor\":\"white\",\"linecolor\":\"white\",\"ticks\":\"\"},\"baxis\":{\"gridcolor\":\"white\",\"linecolor\":\"white\",\"ticks\":\"\"},\"caxis\":{\"gridcolor\":\"white\",\"linecolor\":\"white\",\"ticks\":\"\"}},\"coloraxis\":{\"colorbar\":{\"outlinewidth\":0,\"ticks\":\"\"}},\"colorscale\":{\"sequential\":[[0.0,\"#0d0887\"],[0.1111111111111111,\"#46039f\"],[0.2222222222222222,\"#7201a8\"],[0.3333333333333333,\"#9c179e\"],[0.4444444444444444,\"#bd3786\"],[0.5555555555555556,\"#d8576b\"],[0.6666666666666666,\"#ed7953\"],[0.7777777777777778,\"#fb9f3a\"],[0.8888888888888888,\"#fdca26\"],[1.0,\"#f0f921\"]],\"sequentialminus\":[[0.0,\"#0d0887\"],[0.1111111111111111,\"#46039f\"],[0.2222222222222222,\"#7201a8\"],[0.3333333333333333,\"#9c179e\"],[0.4444444444444444,\"#bd3786\"],[0.5555555555555556,\"#d8576b\"],[0.6666666666666666,\"#ed7953\"],[0.7777777777777778,\"#fb9f3a\"],[0.8888888888888888,\"#fdca26\"],[1.0,\"#f0f921\"]],\"diverging\":[[0,\"#8e0152\"],[0.1,\"#c51b7d\"],[0.2,\"#de77ae\"],[0.3,\"#f1b6da\"],[0.4,\"#fde0ef\"],[0.5,\"#f7f7f7\"],[0.6,\"#e6f5d0\"],[0.7,\"#b8e186\"],[0.8,\"#7fbc41\"],[0.9,\"#4d9221\"],[1,\"#276419\"]]},\"xaxis\":{\"gridcolor\":\"white\",\"linecolor\":\"white\",\"ticks\":\"\",\"title\":{\"standoff\":15,\"font\":{\"size\":20}},\"zerolinecolor\":\"white\",\"automargin\":true,\"zerolinewidth\":2},\"yaxis\":{\"gridcolor\":\"white\",\"linecolor\":\"white\",\"ticks\":\"\",\"title\":{\"standoff\":15,\"font\":{\"size\":20}},\"zerolinecolor\":\"white\",\"automargin\":true,\"zerolinewidth\":2},\"scene\":{\"xaxis\":{\"backgroundcolor\":\"#E5ECF6\",\"gridcolor\":\"white\",\"linecolor\":\"white\",\"showbackground\":true,\"ticks\":\"\",\"zerolinecolor\":\"white\",\"gridwidth\":2},\"yaxis\":{\"backgroundcolor\":\"#E5ECF6\",\"gridcolor\":\"white\",\"linecolor\":\"white\",\"showbackground\":true,\"ticks\":\"\",\"zerolinecolor\":\"white\",\"gridwidth\":2},\"zaxis\":{\"backgroundcolor\":\"#E5ECF6\",\"gridcolor\":\"white\",\"linecolor\":\"white\",\"showbackground\":true,\"ticks\":\"\",\"zerolinecolor\":\"white\",\"gridwidth\":2}},\"shapedefaults\":{\"line\":{\"color\":\"#2a3f5f\"}},\"annotationdefaults\":{\"arrowcolor\":\"#2a3f5f\",\"arrowhead\":0,\"arrowwidth\":1},\"geo\":{\"bgcolor\":\"white\",\"landcolor\":\"#E5ECF6\",\"subunitcolor\":\"white\",\"showland\":true,\"showlakes\":true,\"lakecolor\":\"white\"},\"title\":{\"x\":0.05,\"font\":{\"size\":30}},\"mapbox\":{\"style\":\"light\"}}},\"xaxis\":{\"anchor\":\"y\",\"domain\":[0.0,1.0],\"scaleanchor\":\"y\",\"constrain\":\"domain\",\"title\":{\"text\":\"Source\"}},\"yaxis\":{\"anchor\":\"x\",\"domain\":[0.0,1.0],\"autorange\":\"reversed\",\"constrain\":\"domain\",\"title\":{\"text\":\"Head\"}},\"coloraxis\":{\"colorscale\":[[0.0,\"rgb(103,0,31)\"],[0.1,\"rgb(178,24,43)\"],[0.2,\"rgb(214,96,77)\"],[0.3,\"rgb(244,165,130)\"],[0.4,\"rgb(253,219,199)\"],[0.5,\"rgb(247,247,247)\"],[0.6,\"rgb(209,229,240)\"],[0.7,\"rgb(146,197,222)\"],[0.8,\"rgb(67,147,195)\"],[0.9,\"rgb(33,102,172)\"],[1.0,\"rgb(5,48,97)\"]],\"cmid\":0.0},\"title\":{\"text\":\"Average Attention Pattern per Head\"}},                        {\"responsive\": true}                    ).then(function(){\n",
              "                            \n",
              "var gd = document.getElementById('3ac90c2e-7313-4738-902c-d0c6ac2f3185');\n",
              "var x = new MutationObserver(function (mutations, observer) {{\n",
              "        var display = window.getComputedStyle(gd).display;\n",
              "        if (!display || display === 'none') {{\n",
              "            console.log([gd, 'removed!']);\n",
              "            Plotly.purge(gd);\n",
              "            observer.disconnect();\n",
              "        }}\n",
              "}});\n",
              "\n",
              "// Listen for the removal of the full notebook cells\n",
              "var notebookContainer = gd.closest('#notebook-container');\n",
              "if (notebookContainer) {{\n",
              "    x.observe(notebookContainer, {childList: true});\n",
              "}}\n",
              "\n",
              "// Listen for the clearing of the current output cell\n",
              "var outputEl = gd.closest('.output');\n",
              "if (outputEl) {{\n",
              "    x.observe(outputEl, {childList: true});\n",
              "}}\n",
              "\n",
              "                        })                };                            </script>        </div>\n",
              "</body>\n",
              "</html>"
            ]
          },
          "metadata": {}
        }
      ],
      "source": [
        "imshow(cache[\"pattern\", 0].mean(dim=0)[:, -1, :], title=\"Average Attention Pattern per Head\", xaxis=\"Source\", yaxis=\"Head\")"
      ]
    },
    {
      "cell_type": "code",
      "execution_count": null,
      "metadata": {
        "id": "yZ3UV1vpQTaR",
        "colab": {
          "base_uri": "https://localhost:8080/",
          "height": 542
        },
        "outputId": "68938f67-b8a9-4148-afda-ff337bf0e2e1"
      },
      "outputs": [
        {
          "output_type": "display_data",
          "data": {
            "text/html": [
              "<html>\n",
              "<head><meta charset=\"utf-8\" /></head>\n",
              "<body>\n",
              "    <div>            <script src=\"https://cdnjs.cloudflare.com/ajax/libs/mathjax/2.7.5/MathJax.js?config=TeX-AMS-MML_SVG\"></script><script type=\"text/javascript\">if (window.MathJax && window.MathJax.Hub && window.MathJax.Hub.Config) {window.MathJax.Hub.Config({SVG: {font: \"STIX-Web\"}});}</script>                <script type=\"text/javascript\">window.PlotlyConfig = {MathJaxConfig: 'local'};</script>\n",
              "        <script charset=\"utf-8\" src=\"https://cdn.plot.ly/plotly-2.24.1.min.js\"></script>                <div id=\"404552c7-f540-4678-a1f3-332fc114d59b\" class=\"plotly-graph-div\" style=\"height:525px; width:100%;\"></div>            <script type=\"text/javascript\">                                    window.PLOTLYENV=window.PLOTLYENV || {};                                    if (document.getElementById(\"404552c7-f540-4678-a1f3-332fc114d59b\")) {                    Plotly.newPlot(                        \"404552c7-f540-4678-a1f3-332fc114d59b\",                        [{\"coloraxis\":\"coloraxis\",\"name\":\"0\",\"z\":[[4.780061772180488e-06,1.6217207303270698e-05,6.022009074513335e-06,6.001318070048001e-06,9.18363184609916e-06,1.8762563058771775e-06,3.4183979096269468e-06,1.553932065689878e-06,2.1996327177475905e-06,3.672046432257048e-06,2.002715518756304e-06,2.3482793949369807e-06,0.06678272783756256,0.060068126767873764,0.0484476275742054,0.03740939497947693,0.04582756385207176,0.05258464440703392,0.03119235672056675,0.038611091673374176,0.0338650681078434,0.03291155770421028,0.08113204687833786,0.09559508413076401,0.04590879753232002,0.07682570815086365,0.02333039976656437,0.014594628475606441,0.03371580317616463,0.029178345575928688,0.029926247894763947,0.020290758460760117,0.026394495740532875,0.013547912240028381,0.01864040270447731,0.020184222608804703,0.022975577041506767,1.9312805576987557e-08,1.193484600037209e-08,9.15635123277525e-09,8.572409448959206e-09,9.278199541995491e-09,1.0873973721459151e-08,6.415944664439621e-09,5.840024019931889e-09,6.287482534617084e-09,1.4287000915658155e-08,6.005832275945977e-09,7.691061121306575e-09,3.3132891985587776e-09,5.158179661179929e-09,1.9686572372279443e-09,1.968649687711377e-09,1.9686572372279443e-09,1.968649687711377e-09,1.9686647867445117e-09,1.968649687711377e-09,1.968649687711377e-09,1.968649687711377e-09,1.9686534624696606e-09,1.968649687711377e-09,1.968649687711377e-09,1.9686534624696606e-09,6.783522528419628e-12],[0.009304451756179333,0.344296932220459,0.24966077506542206,0.048542123287916183,0.01196220051497221,0.0385948084294796,0.04993525892496109,0.033167317509651184,0.03829820454120636,0.011150632984936237,0.032074734568595886,0.02394857071340084,0.0044956328347325325,0.005577841307967901,0.00500210328027606,0.007794939912855625,0.0064330012537539005,0.0025316807441413403,0.007751062978059053,0.0037701253313571215,0.003129849210381508,0.007448808755725622,0.005772435571998358,0.0026211205404251814,0.00672247214242816,0.01634780317544937,0.0035713165998458862,0.003205913119018078,0.003128308104351163,0.0016632669139653444,0.0009836675599217415,0.0011844454566016793,0.0011534701334312558,0.001266683335416019,0.0014066153671592474,0.0013577623758465052,0.0010377307189628482,0.00025698106037452817,0.00018905149772763252,0.0002223065384896472,0.00019520094792824239,0.00018406129674986005,0.0002961514692287892,0.00013248325558379292,0.00014824295067228377,0.00015098496805876493,0.00013819371815770864,0.00014149730850476772,0.00014817721967119724,0.00016915029846131802,0.00012012821389362216,0.00010061354987556115,0.00010061354987556115,0.0001006132661132142,0.00010061354987556115,0.00010061354987556115,0.00010061296779895201,0.0001006132661132142,0.00010061354987556115,0.00010061296779895201,0.000100613062386401,0.0001006132661132142,0.000100613062386401,5.958458132226951e-06],[0.92821204662323,0.005629777908325195,0.0033842429984360933,0.0032116533257067204,0.004601016640663147,0.0010373168624937534,0.0022653313353657722,0.0018517409916967154,0.001575666363351047,0.0015780830290168524,0.0019586177077144384,0.0011763367801904678,0.0017737788148224354,0.0016393386758863926,0.0011484171263873577,0.0025259454268962145,0.0018640222260728478,0.0013078725896775723,0.0022644393611699343,0.0009857597760856152,0.0009440843132324517,0.002760842675343156,0.0030013055074959993,0.0023391516879200935,0.003283389611169696,0.00790287833660841,0.0016104376409202814,0.0008665102650411427,0.0010364531772211194,0.0009613423026166856,0.000673380505759269,0.0005533810472115874,0.0006192224100232124,0.0006643882370553911,0.0006798224058002234,0.0008609748329035938,0.0009426219621673226,1.0398441190773156e-05,7.821767212590203e-06,7.556827767984942e-06,9.268510439142119e-06,1.0769002983579412e-05,1.5037737284728792e-05,9.232366210198961e-06,9.28550616663415e-06,9.491239325143397e-06,2.5862089387374e-05,1.1244209417782258e-05,1.791072827472817e-05,1.29321733766119e-05,1.4159043530526105e-05,1.1422783245507162e-05,1.1422783245507162e-05,1.1422795068938285e-05,1.1422783245507162e-05,1.1422837815189268e-05,1.1422771422076039e-05,1.1422783245507162e-05,1.1422783245507162e-05,1.1422783245507162e-05,1.1422771422076039e-05,1.1422771422076039e-05,1.1422783245507162e-05,3.326840669615194e-07],[0.0005947655299678445,0.580801248550415,0.1738392859697342,0.025270896032452583,0.0380619652569294,0.020032525062561035,0.03014124184846878,0.013000834733247757,0.03907658904790878,0.028664203360676765,0.027948621660470963,0.021811677142977715,3.614433080656454e-05,3.6407116567716e-05,4.465971142053604e-05,2.990147186210379e-05,6.573680730070919e-05,3.322396878502332e-05,4.8550897190580145e-05,2.9153703508200124e-05,3.587033643270843e-05,4.482672375161201e-05,3.370034391991794e-05,3.4593056625453755e-05,4.7257992264349014e-05,6.65951520204544e-05,3.3559099392732605e-05,1.488108500780072e-05,1.6363526810891926e-05,1.7257618310395628e-05,1.3146845958544873e-05,1.1202491805306636e-05,9.972125553758815e-06,1.061623333953321e-05,1.005112335406011e-05,1.1587962944759056e-05,1.3087226761854254e-05,5.948517696197086e-07,4.349293760697037e-07,4.903468493466789e-07,5.714657049793459e-07,5.689469162462046e-07,7.428084813909663e-07,5.230618853602209e-07,5.809367848996771e-07,3.7618076476064743e-07,3.0833083997094946e-07,2.2506546315526066e-07,3.492037592423003e-07,5.051509219811123e-07,2.71084388714371e-07,1.106937119743634e-07,1.106938114503464e-07,1.106938114503464e-07,1.106938114503464e-07,1.106937119743634e-07,1.106937119743634e-07,1.106937119743634e-07,1.106938114503464e-07,1.106938114503464e-07,1.106938114503464e-07,1.106937119743634e-07,1.106937119743634e-07,4.3967843255110495e-10]],\"type\":\"heatmap\",\"xaxis\":\"x\",\"yaxis\":\"y\",\"hovertemplate\":\"Source: %{x}\\u003cbr\\u003eHead: %{y}\\u003cbr\\u003ecolor: %{z}\\u003cextra\\u003e\\u003c\\u002fextra\\u003e\"}],                        {\"template\":{\"data\":{\"histogram2dcontour\":[{\"type\":\"histogram2dcontour\",\"colorbar\":{\"outlinewidth\":0,\"ticks\":\"\"},\"colorscale\":[[0.0,\"#0d0887\"],[0.1111111111111111,\"#46039f\"],[0.2222222222222222,\"#7201a8\"],[0.3333333333333333,\"#9c179e\"],[0.4444444444444444,\"#bd3786\"],[0.5555555555555556,\"#d8576b\"],[0.6666666666666666,\"#ed7953\"],[0.7777777777777778,\"#fb9f3a\"],[0.8888888888888888,\"#fdca26\"],[1.0,\"#f0f921\"]]}],\"choropleth\":[{\"type\":\"choropleth\",\"colorbar\":{\"outlinewidth\":0,\"ticks\":\"\"}}],\"histogram2d\":[{\"type\":\"histogram2d\",\"colorbar\":{\"outlinewidth\":0,\"ticks\":\"\"},\"colorscale\":[[0.0,\"#0d0887\"],[0.1111111111111111,\"#46039f\"],[0.2222222222222222,\"#7201a8\"],[0.3333333333333333,\"#9c179e\"],[0.4444444444444444,\"#bd3786\"],[0.5555555555555556,\"#d8576b\"],[0.6666666666666666,\"#ed7953\"],[0.7777777777777778,\"#fb9f3a\"],[0.8888888888888888,\"#fdca26\"],[1.0,\"#f0f921\"]]}],\"heatmap\":[{\"type\":\"heatmap\",\"colorbar\":{\"outlinewidth\":0,\"ticks\":\"\"},\"colorscale\":[[0.0,\"#0d0887\"],[0.1111111111111111,\"#46039f\"],[0.2222222222222222,\"#7201a8\"],[0.3333333333333333,\"#9c179e\"],[0.4444444444444444,\"#bd3786\"],[0.5555555555555556,\"#d8576b\"],[0.6666666666666666,\"#ed7953\"],[0.7777777777777778,\"#fb9f3a\"],[0.8888888888888888,\"#fdca26\"],[1.0,\"#f0f921\"]]}],\"heatmapgl\":[{\"type\":\"heatmapgl\",\"colorbar\":{\"outlinewidth\":0,\"ticks\":\"\"},\"colorscale\":[[0.0,\"#0d0887\"],[0.1111111111111111,\"#46039f\"],[0.2222222222222222,\"#7201a8\"],[0.3333333333333333,\"#9c179e\"],[0.4444444444444444,\"#bd3786\"],[0.5555555555555556,\"#d8576b\"],[0.6666666666666666,\"#ed7953\"],[0.7777777777777778,\"#fb9f3a\"],[0.8888888888888888,\"#fdca26\"],[1.0,\"#f0f921\"]]}],\"contourcarpet\":[{\"type\":\"contourcarpet\",\"colorbar\":{\"outlinewidth\":0,\"ticks\":\"\"}}],\"contour\":[{\"type\":\"contour\",\"colorbar\":{\"outlinewidth\":0,\"ticks\":\"\"},\"colorscale\":[[0.0,\"#0d0887\"],[0.1111111111111111,\"#46039f\"],[0.2222222222222222,\"#7201a8\"],[0.3333333333333333,\"#9c179e\"],[0.4444444444444444,\"#bd3786\"],[0.5555555555555556,\"#d8576b\"],[0.6666666666666666,\"#ed7953\"],[0.7777777777777778,\"#fb9f3a\"],[0.8888888888888888,\"#fdca26\"],[1.0,\"#f0f921\"]]}],\"surface\":[{\"type\":\"surface\",\"colorbar\":{\"outlinewidth\":0,\"ticks\":\"\"},\"colorscale\":[[0.0,\"#0d0887\"],[0.1111111111111111,\"#46039f\"],[0.2222222222222222,\"#7201a8\"],[0.3333333333333333,\"#9c179e\"],[0.4444444444444444,\"#bd3786\"],[0.5555555555555556,\"#d8576b\"],[0.6666666666666666,\"#ed7953\"],[0.7777777777777778,\"#fb9f3a\"],[0.8888888888888888,\"#fdca26\"],[1.0,\"#f0f921\"]]}],\"mesh3d\":[{\"type\":\"mesh3d\",\"colorbar\":{\"outlinewidth\":0,\"ticks\":\"\"}}],\"scatter\":[{\"fillpattern\":{\"fillmode\":\"overlay\",\"size\":10,\"solidity\":0.2},\"type\":\"scatter\"}],\"parcoords\":[{\"type\":\"parcoords\",\"line\":{\"colorbar\":{\"outlinewidth\":0,\"ticks\":\"\"}}}],\"scatterpolargl\":[{\"type\":\"scatterpolargl\",\"marker\":{\"colorbar\":{\"outlinewidth\":0,\"ticks\":\"\"}}}],\"bar\":[{\"error_x\":{\"color\":\"#2a3f5f\"},\"error_y\":{\"color\":\"#2a3f5f\"},\"marker\":{\"line\":{\"color\":\"#E5ECF6\",\"width\":0.5},\"pattern\":{\"fillmode\":\"overlay\",\"size\":10,\"solidity\":0.2}},\"type\":\"bar\"}],\"scattergeo\":[{\"type\":\"scattergeo\",\"marker\":{\"colorbar\":{\"outlinewidth\":0,\"ticks\":\"\"}}}],\"scatterpolar\":[{\"type\":\"scatterpolar\",\"marker\":{\"colorbar\":{\"outlinewidth\":0,\"ticks\":\"\"}}}],\"histogram\":[{\"marker\":{\"pattern\":{\"fillmode\":\"overlay\",\"size\":10,\"solidity\":0.2}},\"type\":\"histogram\"}],\"scattergl\":[{\"type\":\"scattergl\",\"marker\":{\"colorbar\":{\"outlinewidth\":0,\"ticks\":\"\"}}}],\"scatter3d\":[{\"type\":\"scatter3d\",\"line\":{\"colorbar\":{\"outlinewidth\":0,\"ticks\":\"\"}},\"marker\":{\"colorbar\":{\"outlinewidth\":0,\"ticks\":\"\"}}}],\"scattermapbox\":[{\"type\":\"scattermapbox\",\"marker\":{\"colorbar\":{\"outlinewidth\":0,\"ticks\":\"\"}}}],\"scatterternary\":[{\"type\":\"scatterternary\",\"marker\":{\"colorbar\":{\"outlinewidth\":0,\"ticks\":\"\"}}}],\"scattercarpet\":[{\"type\":\"scattercarpet\",\"marker\":{\"colorbar\":{\"outlinewidth\":0,\"ticks\":\"\"}}}],\"carpet\":[{\"aaxis\":{\"endlinecolor\":\"#2a3f5f\",\"gridcolor\":\"white\",\"linecolor\":\"white\",\"minorgridcolor\":\"white\",\"startlinecolor\":\"#2a3f5f\"},\"baxis\":{\"endlinecolor\":\"#2a3f5f\",\"gridcolor\":\"white\",\"linecolor\":\"white\",\"minorgridcolor\":\"white\",\"startlinecolor\":\"#2a3f5f\"},\"type\":\"carpet\"}],\"table\":[{\"cells\":{\"fill\":{\"color\":\"#EBF0F8\"},\"line\":{\"color\":\"white\"}},\"header\":{\"fill\":{\"color\":\"#C8D4E3\"},\"line\":{\"color\":\"white\"}},\"type\":\"table\"}],\"barpolar\":[{\"marker\":{\"line\":{\"color\":\"#E5ECF6\",\"width\":0.5},\"pattern\":{\"fillmode\":\"overlay\",\"size\":10,\"solidity\":0.2}},\"type\":\"barpolar\"}],\"pie\":[{\"automargin\":true,\"type\":\"pie\"}]},\"layout\":{\"autotypenumbers\":\"strict\",\"colorway\":[\"#636efa\",\"#EF553B\",\"#00cc96\",\"#ab63fa\",\"#FFA15A\",\"#19d3f3\",\"#FF6692\",\"#B6E880\",\"#FF97FF\",\"#FECB52\"],\"font\":{\"color\":\"#2a3f5f\"},\"hovermode\":\"closest\",\"hoverlabel\":{\"align\":\"left\"},\"paper_bgcolor\":\"white\",\"plot_bgcolor\":\"#E5ECF6\",\"polar\":{\"bgcolor\":\"#E5ECF6\",\"angularaxis\":{\"gridcolor\":\"white\",\"linecolor\":\"white\",\"ticks\":\"\"},\"radialaxis\":{\"gridcolor\":\"white\",\"linecolor\":\"white\",\"ticks\":\"\"}},\"ternary\":{\"bgcolor\":\"#E5ECF6\",\"aaxis\":{\"gridcolor\":\"white\",\"linecolor\":\"white\",\"ticks\":\"\"},\"baxis\":{\"gridcolor\":\"white\",\"linecolor\":\"white\",\"ticks\":\"\"},\"caxis\":{\"gridcolor\":\"white\",\"linecolor\":\"white\",\"ticks\":\"\"}},\"coloraxis\":{\"colorbar\":{\"outlinewidth\":0,\"ticks\":\"\"}},\"colorscale\":{\"sequential\":[[0.0,\"#0d0887\"],[0.1111111111111111,\"#46039f\"],[0.2222222222222222,\"#7201a8\"],[0.3333333333333333,\"#9c179e\"],[0.4444444444444444,\"#bd3786\"],[0.5555555555555556,\"#d8576b\"],[0.6666666666666666,\"#ed7953\"],[0.7777777777777778,\"#fb9f3a\"],[0.8888888888888888,\"#fdca26\"],[1.0,\"#f0f921\"]],\"sequentialminus\":[[0.0,\"#0d0887\"],[0.1111111111111111,\"#46039f\"],[0.2222222222222222,\"#7201a8\"],[0.3333333333333333,\"#9c179e\"],[0.4444444444444444,\"#bd3786\"],[0.5555555555555556,\"#d8576b\"],[0.6666666666666666,\"#ed7953\"],[0.7777777777777778,\"#fb9f3a\"],[0.8888888888888888,\"#fdca26\"],[1.0,\"#f0f921\"]],\"diverging\":[[0,\"#8e0152\"],[0.1,\"#c51b7d\"],[0.2,\"#de77ae\"],[0.3,\"#f1b6da\"],[0.4,\"#fde0ef\"],[0.5,\"#f7f7f7\"],[0.6,\"#e6f5d0\"],[0.7,\"#b8e186\"],[0.8,\"#7fbc41\"],[0.9,\"#4d9221\"],[1,\"#276419\"]]},\"xaxis\":{\"gridcolor\":\"white\",\"linecolor\":\"white\",\"ticks\":\"\",\"title\":{\"standoff\":15,\"font\":{\"size\":20}},\"zerolinecolor\":\"white\",\"automargin\":true,\"zerolinewidth\":2},\"yaxis\":{\"gridcolor\":\"white\",\"linecolor\":\"white\",\"ticks\":\"\",\"title\":{\"standoff\":15,\"font\":{\"size\":20}},\"zerolinecolor\":\"white\",\"automargin\":true,\"zerolinewidth\":2},\"scene\":{\"xaxis\":{\"backgroundcolor\":\"#E5ECF6\",\"gridcolor\":\"white\",\"linecolor\":\"white\",\"showbackground\":true,\"ticks\":\"\",\"zerolinecolor\":\"white\",\"gridwidth\":2},\"yaxis\":{\"backgroundcolor\":\"#E5ECF6\",\"gridcolor\":\"white\",\"linecolor\":\"white\",\"showbackground\":true,\"ticks\":\"\",\"zerolinecolor\":\"white\",\"gridwidth\":2},\"zaxis\":{\"backgroundcolor\":\"#E5ECF6\",\"gridcolor\":\"white\",\"linecolor\":\"white\",\"showbackground\":true,\"ticks\":\"\",\"zerolinecolor\":\"white\",\"gridwidth\":2}},\"shapedefaults\":{\"line\":{\"color\":\"#2a3f5f\"}},\"annotationdefaults\":{\"arrowcolor\":\"#2a3f5f\",\"arrowhead\":0,\"arrowwidth\":1},\"geo\":{\"bgcolor\":\"white\",\"landcolor\":\"#E5ECF6\",\"subunitcolor\":\"white\",\"showland\":true,\"showlakes\":true,\"lakecolor\":\"white\"},\"title\":{\"x\":0.05,\"font\":{\"size\":30}},\"mapbox\":{\"style\":\"light\"}}},\"xaxis\":{\"anchor\":\"y\",\"domain\":[0.0,1.0],\"scaleanchor\":\"y\",\"constrain\":\"domain\",\"title\":{\"text\":\"Source\"}},\"yaxis\":{\"anchor\":\"x\",\"domain\":[0.0,1.0],\"autorange\":\"reversed\",\"constrain\":\"domain\",\"title\":{\"text\":\"Head\"}},\"coloraxis\":{\"colorscale\":[[0.0,\"rgb(103,0,31)\"],[0.1,\"rgb(178,24,43)\"],[0.2,\"rgb(214,96,77)\"],[0.3,\"rgb(244,165,130)\"],[0.4,\"rgb(253,219,199)\"],[0.5,\"rgb(247,247,247)\"],[0.6,\"rgb(209,229,240)\"],[0.7,\"rgb(146,197,222)\"],[0.8,\"rgb(67,147,195)\"],[0.9,\"rgb(33,102,172)\"],[1.0,\"rgb(5,48,97)\"]],\"cmid\":0.0},\"title\":{\"text\":\"Average Attention Pattern per Head\"}},                        {\"responsive\": true}                    ).then(function(){\n",
              "                            \n",
              "var gd = document.getElementById('404552c7-f540-4678-a1f3-332fc114d59b');\n",
              "var x = new MutationObserver(function (mutations, observer) {{\n",
              "        var display = window.getComputedStyle(gd).display;\n",
              "        if (!display || display === 'none') {{\n",
              "            console.log([gd, 'removed!']);\n",
              "            Plotly.purge(gd);\n",
              "            observer.disconnect();\n",
              "        }}\n",
              "}});\n",
              "\n",
              "// Listen for the removal of the full notebook cells\n",
              "var notebookContainer = gd.closest('#notebook-container');\n",
              "if (notebookContainer) {{\n",
              "    x.observe(notebookContainer, {childList: true});\n",
              "}}\n",
              "\n",
              "// Listen for the clearing of the current output cell\n",
              "var outputEl = gd.closest('.output');\n",
              "if (outputEl) {{\n",
              "    x.observe(outputEl, {childList: true});\n",
              "}}\n",
              "\n",
              "                        })                };                            </script>        </div>\n",
              "</body>\n",
              "</html>"
            ]
          },
          "metadata": {}
        }
      ],
      "source": [
        "imshow(cache[\"pattern\", 0][6][:, -1, :], title=\"Average Attention Pattern per Head\", xaxis=\"Source\", yaxis=\"Head\",)"
      ]
    },
    {
      "cell_type": "code",
      "execution_count": null,
      "metadata": {
        "id": "bZHLb14PQTaR",
        "colab": {
          "base_uri": "https://localhost:8080/"
        },
        "outputId": "a703e8cf-396f-4152-fde5-af6ce8ff61e6"
      },
      "outputs": [
        {
          "output_type": "execute_result",
          "data": {
            "text/plain": [
              "tensor([[29, 33, 33, 33, 33, 33, 33, 33, 33, 33,  8,  8,  0,  0,  0,  0,  0,  0,\n",
              "          0,  0,  0,  0,  0,  0,  0,  0,  0,  0,  0,  0,  0,  0,  0,  0,  0,  0,\n",
              "          0,  0,  0,  0,  0,  0,  0,  0,  0,  0,  0,  0,  0,  0,  0,  0,  0,  0,\n",
              "          0,  0,  0,  0,  0,  0,  0,  0,  0,  0],\n",
              "        [23, 13, 13, 13, 12, 12, 12, 12, 12, 12, 12, 12, 12, 12, 12, 12, 12, 12,\n",
              "         12, 12, 12, 12,  0,  0,  0,  0,  0,  0,  0,  0,  0,  0,  0,  0,  0,  0,\n",
              "          0,  0,  0,  0,  0,  0,  0,  0,  0,  0,  0,  0,  0,  0,  0,  0,  0,  0,\n",
              "          0,  0,  0,  0,  0,  0,  0,  0,  0,  0],\n",
              "        [ 1,  1,  1,  1,  1,  1, 25, 10, 10, 10, 10, 10, 10, 10, 10, 10, 10, 10,\n",
              "         10, 10, 10, 10, 10, 10, 10, 10, 10, 10,  0,  0,  0,  0,  0,  0,  0,  0,\n",
              "          0,  0,  0,  0,  0,  0,  0,  0,  0,  0,  0,  0,  0,  0,  0,  0,  0,  0,\n",
              "          0,  0,  0,  0,  0,  0,  0,  0,  0,  0],\n",
              "        [23, 23, 23, 23, 23, 23, 23, 23, 23, 23, 34, 34, 34, 34, 34, 34, 34, 34,\n",
              "         34, 34, 34, 34, 34, 34, 35,  0,  0,  0,  0,  0,  0,  0,  0,  0,  0,  0,\n",
              "          0,  0,  0,  0,  0,  0,  0,  0,  0,  0,  0,  0,  0,  0,  0,  0,  0,  0,\n",
              "          0,  0,  0,  0,  0,  0,  0,  0,  0,  0]])"
            ]
          },
          "metadata": {},
          "execution_count": 58
        }
      ],
      "source": [
        "dataset[:4]"
      ]
    },
    {
      "cell_type": "code",
      "execution_count": null,
      "metadata": {
        "id": "X-AOR-YzQTaR"
      },
      "outputs": [],
      "source": [
        "# imshow(cache[\"pattern\", 0][:, 0, -1, 0].reshape(51, 200), title=\"Attention for Head 0\", xaxis=\"string\", yaxis=\"language\")"
      ]
    },
    {
      "cell_type": "code",
      "execution_count": null,
      "metadata": {
        "id": "tbrVEPceQTaS",
        "colab": {
          "base_uri": "https://localhost:8080/",
          "height": 443
        },
        "outputId": "499ef228-cdcd-4109-e1f6-89029e545847"
      },
      "outputs": [
        {
          "output_type": "error",
          "ename": "EinopsError",
          "evalue": " Error while processing rearrange-reduction pattern \"(a b) head -> head a b\".\n Input tensor shape: torch.Size([10200, 4]). Additional info: {'a': 51, 'b': 51}.\n Shape mismatch, 10200 != 2601",
          "traceback": [
            "\u001b[0;31m---------------------------------------------------------------------------\u001b[0m",
            "\u001b[0;31mEinopsError\u001b[0m                               Traceback (most recent call last)",
            "\u001b[0;32m/usr/local/lib/python3.10/dist-packages/einops/einops.py\u001b[0m in \u001b[0;36mreduce\u001b[0;34m(tensor, pattern, reduction, **axes_lengths)\u001b[0m\n\u001b[1;32m    522\u001b[0m         \u001b[0mrecipe\u001b[0m \u001b[0;34m=\u001b[0m \u001b[0m_prepare_transformation_recipe\u001b[0m\u001b[0;34m(\u001b[0m\u001b[0mpattern\u001b[0m\u001b[0;34m,\u001b[0m \u001b[0mreduction\u001b[0m\u001b[0;34m,\u001b[0m \u001b[0maxes_names\u001b[0m\u001b[0;34m=\u001b[0m\u001b[0mtuple\u001b[0m\u001b[0;34m(\u001b[0m\u001b[0maxes_lengths\u001b[0m\u001b[0;34m)\u001b[0m\u001b[0;34m,\u001b[0m \u001b[0mndim\u001b[0m\u001b[0;34m=\u001b[0m\u001b[0mlen\u001b[0m\u001b[0;34m(\u001b[0m\u001b[0mshape\u001b[0m\u001b[0;34m)\u001b[0m\u001b[0;34m)\u001b[0m\u001b[0;34m\u001b[0m\u001b[0;34m\u001b[0m\u001b[0m\n\u001b[0;32m--> 523\u001b[0;31m         return _apply_recipe(\n\u001b[0m\u001b[1;32m    524\u001b[0m             \u001b[0mbackend\u001b[0m\u001b[0;34m,\u001b[0m \u001b[0mrecipe\u001b[0m\u001b[0;34m,\u001b[0m \u001b[0mcast\u001b[0m\u001b[0;34m(\u001b[0m\u001b[0mTensor\u001b[0m\u001b[0;34m,\u001b[0m \u001b[0mtensor\u001b[0m\u001b[0;34m)\u001b[0m\u001b[0;34m,\u001b[0m \u001b[0mreduction_type\u001b[0m\u001b[0;34m=\u001b[0m\u001b[0mreduction\u001b[0m\u001b[0;34m,\u001b[0m \u001b[0maxes_lengths\u001b[0m\u001b[0;34m=\u001b[0m\u001b[0mhashable_axes_lengths\u001b[0m\u001b[0;34m\u001b[0m\u001b[0;34m\u001b[0m\u001b[0m\n",
            "\u001b[0;32m/usr/local/lib/python3.10/dist-packages/einops/einops.py\u001b[0m in \u001b[0;36m_apply_recipe\u001b[0;34m(backend, recipe, tensor, reduction_type, axes_lengths)\u001b[0m\n\u001b[1;32m    233\u001b[0m     \u001b[0;32mtry\u001b[0m\u001b[0;34m:\u001b[0m\u001b[0;34m\u001b[0m\u001b[0;34m\u001b[0m\u001b[0m\n\u001b[0;32m--> 234\u001b[0;31m         init_shapes, axes_reordering, reduced_axes, added_axes, final_shapes, n_axes_w_added = _reconstruct_from_shape(\n\u001b[0m\u001b[1;32m    235\u001b[0m             \u001b[0mrecipe\u001b[0m\u001b[0;34m,\u001b[0m \u001b[0mbackend\u001b[0m\u001b[0;34m.\u001b[0m\u001b[0mshape\u001b[0m\u001b[0;34m(\u001b[0m\u001b[0mtensor\u001b[0m\u001b[0;34m)\u001b[0m\u001b[0;34m,\u001b[0m \u001b[0maxes_lengths\u001b[0m\u001b[0;34m\u001b[0m\u001b[0;34m\u001b[0m\u001b[0m\n",
            "\u001b[0;32m/usr/local/lib/python3.10/dist-packages/einops/einops.py\u001b[0m in \u001b[0;36m_reconstruct_from_shape_uncached\u001b[0;34m(self, shape, axes_dims)\u001b[0m\n\u001b[1;32m    182\u001b[0m             \u001b[0;32mif\u001b[0m \u001b[0misinstance\u001b[0m\u001b[0;34m(\u001b[0m\u001b[0mlength\u001b[0m\u001b[0;34m,\u001b[0m \u001b[0mint\u001b[0m\u001b[0;34m)\u001b[0m \u001b[0;32mand\u001b[0m \u001b[0misinstance\u001b[0m\u001b[0;34m(\u001b[0m\u001b[0mknown_product\u001b[0m\u001b[0;34m,\u001b[0m \u001b[0mint\u001b[0m\u001b[0;34m)\u001b[0m \u001b[0;32mand\u001b[0m \u001b[0mlength\u001b[0m \u001b[0;34m!=\u001b[0m \u001b[0mknown_product\u001b[0m\u001b[0;34m:\u001b[0m\u001b[0;34m\u001b[0m\u001b[0;34m\u001b[0m\u001b[0m\n\u001b[0;32m--> 183\u001b[0;31m                 \u001b[0;32mraise\u001b[0m \u001b[0mEinopsError\u001b[0m\u001b[0;34m(\u001b[0m\u001b[0;34mf\"Shape mismatch, {length} != {known_product}\"\u001b[0m\u001b[0;34m)\u001b[0m\u001b[0;34m\u001b[0m\u001b[0;34m\u001b[0m\u001b[0m\n\u001b[0m\u001b[1;32m    184\u001b[0m         \u001b[0;32melse\u001b[0m\u001b[0;34m:\u001b[0m\u001b[0;34m\u001b[0m\u001b[0;34m\u001b[0m\u001b[0m\n",
            "\u001b[0;31mEinopsError\u001b[0m: Shape mismatch, 10200 != 2601",
            "\nDuring handling of the above exception, another exception occurred:\n",
            "\u001b[0;31mEinopsError\u001b[0m                               Traceback (most recent call last)",
            "\u001b[0;32m<ipython-input-65-05f1c1684538>\u001b[0m in \u001b[0;36m<cell line: 1>\u001b[0;34m()\u001b[0m\n\u001b[1;32m      1\u001b[0m imshow(\n\u001b[0;32m----> 2\u001b[0;31m     \u001b[0meinops\u001b[0m\u001b[0;34m.\u001b[0m\u001b[0mrearrange\u001b[0m\u001b[0;34m(\u001b[0m\u001b[0mcache\u001b[0m\u001b[0;34m[\u001b[0m\u001b[0;34m\"pattern\"\u001b[0m\u001b[0;34m,\u001b[0m \u001b[0;36m0\u001b[0m\u001b[0;34m]\u001b[0m\u001b[0;34m[\u001b[0m\u001b[0;34m:\u001b[0m\u001b[0;34m,\u001b[0m \u001b[0;34m:\u001b[0m\u001b[0;34m,\u001b[0m \u001b[0;34m-\u001b[0m\u001b[0;36m1\u001b[0m\u001b[0;34m,\u001b[0m \u001b[0;36m0\u001b[0m\u001b[0;34m]\u001b[0m\u001b[0;34m,\u001b[0m \u001b[0;34m\"(a b) head -> head a b\"\u001b[0m\u001b[0;34m,\u001b[0m \u001b[0ma\u001b[0m\u001b[0;34m=\u001b[0m\u001b[0mp\u001b[0m\u001b[0;34m,\u001b[0m \u001b[0mb\u001b[0m\u001b[0;34m=\u001b[0m\u001b[0mp\u001b[0m\u001b[0;34m)\u001b[0m\u001b[0;34m,\u001b[0m\u001b[0;34m\u001b[0m\u001b[0;34m\u001b[0m\u001b[0m\n\u001b[0m\u001b[1;32m      3\u001b[0m     title=\"Attention for Head 0 from a -> =\", xaxis=\"b\", yaxis=\"a\", facet_col=0)\n",
            "\u001b[0;32m/usr/local/lib/python3.10/dist-packages/einops/einops.py\u001b[0m in \u001b[0;36mrearrange\u001b[0;34m(tensor, pattern, **axes_lengths)\u001b[0m\n\u001b[1;32m    589\u001b[0m \u001b[0;34m\u001b[0m\u001b[0m\n\u001b[1;32m    590\u001b[0m     \"\"\"\n\u001b[0;32m--> 591\u001b[0;31m     \u001b[0;32mreturn\u001b[0m \u001b[0mreduce\u001b[0m\u001b[0;34m(\u001b[0m\u001b[0mtensor\u001b[0m\u001b[0;34m,\u001b[0m \u001b[0mpattern\u001b[0m\u001b[0;34m,\u001b[0m \u001b[0mreduction\u001b[0m\u001b[0;34m=\u001b[0m\u001b[0;34m\"rearrange\"\u001b[0m\u001b[0;34m,\u001b[0m \u001b[0;34m**\u001b[0m\u001b[0maxes_lengths\u001b[0m\u001b[0;34m)\u001b[0m\u001b[0;34m\u001b[0m\u001b[0;34m\u001b[0m\u001b[0m\n\u001b[0m\u001b[1;32m    592\u001b[0m \u001b[0;34m\u001b[0m\u001b[0m\n\u001b[1;32m    593\u001b[0m \u001b[0;34m\u001b[0m\u001b[0m\n",
            "\u001b[0;32m/usr/local/lib/python3.10/dist-packages/einops/einops.py\u001b[0m in \u001b[0;36mreduce\u001b[0;34m(tensor, pattern, reduction, **axes_lengths)\u001b[0m\n\u001b[1;32m    531\u001b[0m             \u001b[0mmessage\u001b[0m \u001b[0;34m+=\u001b[0m \u001b[0;34m\"\\n Input is list. \"\u001b[0m\u001b[0;34m\u001b[0m\u001b[0;34m\u001b[0m\u001b[0m\n\u001b[1;32m    532\u001b[0m         \u001b[0mmessage\u001b[0m \u001b[0;34m+=\u001b[0m \u001b[0;34m\"Additional info: {}.\"\u001b[0m\u001b[0;34m.\u001b[0m\u001b[0mformat\u001b[0m\u001b[0;34m(\u001b[0m\u001b[0maxes_lengths\u001b[0m\u001b[0;34m)\u001b[0m\u001b[0;34m\u001b[0m\u001b[0;34m\u001b[0m\u001b[0m\n\u001b[0;32m--> 533\u001b[0;31m         \u001b[0;32mraise\u001b[0m \u001b[0mEinopsError\u001b[0m\u001b[0;34m(\u001b[0m\u001b[0mmessage\u001b[0m \u001b[0;34m+\u001b[0m \u001b[0;34m\"\\n {}\"\u001b[0m\u001b[0;34m.\u001b[0m\u001b[0mformat\u001b[0m\u001b[0;34m(\u001b[0m\u001b[0me\u001b[0m\u001b[0;34m)\u001b[0m\u001b[0;34m)\u001b[0m\u001b[0;34m\u001b[0m\u001b[0;34m\u001b[0m\u001b[0m\n\u001b[0m\u001b[1;32m    534\u001b[0m \u001b[0;34m\u001b[0m\u001b[0m\n\u001b[1;32m    535\u001b[0m \u001b[0;34m\u001b[0m\u001b[0m\n",
            "\u001b[0;31mEinopsError\u001b[0m:  Error while processing rearrange-reduction pattern \"(a b) head -> head a b\".\n Input tensor shape: torch.Size([10200, 4]). Additional info: {'a': 51, 'b': 51}.\n Shape mismatch, 10200 != 2601"
          ]
        }
      ],
      "source": [
        "# imshow(\n",
        "    # einops.rearrange(cache[\"pattern\", 0][:, :, -1, 0], \"(a b) head -> head a b\", a=p, b=p),\n",
        "    # title=\"Attention for Head 0 from a -> =\", xaxis=\"b\", yaxis=\"a\", facet_col=0)"
      ]
    },
    {
      "cell_type": "markdown",
      "metadata": {
        "id": "fNiACEJMQTaS"
      },
      "source": [
        "Plotting neuron activations"
      ]
    },
    {
      "cell_type": "code",
      "execution_count": null,
      "metadata": {
        "id": "R18HIkenQTaT",
        "colab": {
          "base_uri": "https://localhost:8080/"
        },
        "outputId": "ce770a84-fcf9-469f-9d70-c999a3313762"
      },
      "outputs": [
        {
          "output_type": "execute_result",
          "data": {
            "text/plain": [
              "torch.Size([10200, 64, 512])"
            ]
          },
          "metadata": {},
          "execution_count": 66
        }
      ],
      "source": [
        "cache[\"post\", 0, \"mlp\"].shape"
      ]
    },
    {
      "cell_type": "code",
      "source": [
        "cache[\"pattern\",0].shape"
      ],
      "metadata": {
        "colab": {
          "base_uri": "https://localhost:8080/"
        },
        "id": "T3fxKyjAq6wq",
        "outputId": "c93623fc-9349-4bf1-9acc-6bbae3a607de"
      },
      "execution_count": null,
      "outputs": [
        {
          "output_type": "execute_result",
          "data": {
            "text/plain": [
              "torch.Size([10200, 4, 64, 64])"
            ]
          },
          "metadata": {},
          "execution_count": 70
        }
      ]
    },
    {
      "cell_type": "code",
      "execution_count": null,
      "metadata": {
        "id": "SBLauY9OQTaT",
        "colab": {
          "base_uri": "https://localhost:8080/",
          "height": 443
        },
        "outputId": "586f87e6-a3fa-4dca-9d1c-81fe3dbef15f"
      },
      "outputs": [
        {
          "output_type": "error",
          "ename": "EinopsError",
          "evalue": " Error while processing rearrange-reduction pattern \"(a b) neuron -> neuron a b\".\n Input tensor shape: torch.Size([10200, 5]). Additional info: {'a': 51, 'b': 51}.\n Shape mismatch, 10200 != 2601",
          "traceback": [
            "\u001b[0;31m---------------------------------------------------------------------------\u001b[0m",
            "\u001b[0;31mEinopsError\u001b[0m                               Traceback (most recent call last)",
            "\u001b[0;32m/usr/local/lib/python3.10/dist-packages/einops/einops.py\u001b[0m in \u001b[0;36mreduce\u001b[0;34m(tensor, pattern, reduction, **axes_lengths)\u001b[0m\n\u001b[1;32m    522\u001b[0m         \u001b[0mrecipe\u001b[0m \u001b[0;34m=\u001b[0m \u001b[0m_prepare_transformation_recipe\u001b[0m\u001b[0;34m(\u001b[0m\u001b[0mpattern\u001b[0m\u001b[0;34m,\u001b[0m \u001b[0mreduction\u001b[0m\u001b[0;34m,\u001b[0m \u001b[0maxes_names\u001b[0m\u001b[0;34m=\u001b[0m\u001b[0mtuple\u001b[0m\u001b[0;34m(\u001b[0m\u001b[0maxes_lengths\u001b[0m\u001b[0;34m)\u001b[0m\u001b[0;34m,\u001b[0m \u001b[0mndim\u001b[0m\u001b[0;34m=\u001b[0m\u001b[0mlen\u001b[0m\u001b[0;34m(\u001b[0m\u001b[0mshape\u001b[0m\u001b[0;34m)\u001b[0m\u001b[0;34m)\u001b[0m\u001b[0;34m\u001b[0m\u001b[0;34m\u001b[0m\u001b[0m\n\u001b[0;32m--> 523\u001b[0;31m         return _apply_recipe(\n\u001b[0m\u001b[1;32m    524\u001b[0m             \u001b[0mbackend\u001b[0m\u001b[0;34m,\u001b[0m \u001b[0mrecipe\u001b[0m\u001b[0;34m,\u001b[0m \u001b[0mcast\u001b[0m\u001b[0;34m(\u001b[0m\u001b[0mTensor\u001b[0m\u001b[0;34m,\u001b[0m \u001b[0mtensor\u001b[0m\u001b[0;34m)\u001b[0m\u001b[0;34m,\u001b[0m \u001b[0mreduction_type\u001b[0m\u001b[0;34m=\u001b[0m\u001b[0mreduction\u001b[0m\u001b[0;34m,\u001b[0m \u001b[0maxes_lengths\u001b[0m\u001b[0;34m=\u001b[0m\u001b[0mhashable_axes_lengths\u001b[0m\u001b[0;34m\u001b[0m\u001b[0;34m\u001b[0m\u001b[0m\n",
            "\u001b[0;32m/usr/local/lib/python3.10/dist-packages/einops/einops.py\u001b[0m in \u001b[0;36m_apply_recipe\u001b[0;34m(backend, recipe, tensor, reduction_type, axes_lengths)\u001b[0m\n\u001b[1;32m    233\u001b[0m     \u001b[0;32mtry\u001b[0m\u001b[0;34m:\u001b[0m\u001b[0;34m\u001b[0m\u001b[0;34m\u001b[0m\u001b[0m\n\u001b[0;32m--> 234\u001b[0;31m         init_shapes, axes_reordering, reduced_axes, added_axes, final_shapes, n_axes_w_added = _reconstruct_from_shape(\n\u001b[0m\u001b[1;32m    235\u001b[0m             \u001b[0mrecipe\u001b[0m\u001b[0;34m,\u001b[0m \u001b[0mbackend\u001b[0m\u001b[0;34m.\u001b[0m\u001b[0mshape\u001b[0m\u001b[0;34m(\u001b[0m\u001b[0mtensor\u001b[0m\u001b[0;34m)\u001b[0m\u001b[0;34m,\u001b[0m \u001b[0maxes_lengths\u001b[0m\u001b[0;34m\u001b[0m\u001b[0;34m\u001b[0m\u001b[0m\n",
            "\u001b[0;32m/usr/local/lib/python3.10/dist-packages/einops/einops.py\u001b[0m in \u001b[0;36m_reconstruct_from_shape_uncached\u001b[0;34m(self, shape, axes_dims)\u001b[0m\n\u001b[1;32m    182\u001b[0m             \u001b[0;32mif\u001b[0m \u001b[0misinstance\u001b[0m\u001b[0;34m(\u001b[0m\u001b[0mlength\u001b[0m\u001b[0;34m,\u001b[0m \u001b[0mint\u001b[0m\u001b[0;34m)\u001b[0m \u001b[0;32mand\u001b[0m \u001b[0misinstance\u001b[0m\u001b[0;34m(\u001b[0m\u001b[0mknown_product\u001b[0m\u001b[0;34m,\u001b[0m \u001b[0mint\u001b[0m\u001b[0;34m)\u001b[0m \u001b[0;32mand\u001b[0m \u001b[0mlength\u001b[0m \u001b[0;34m!=\u001b[0m \u001b[0mknown_product\u001b[0m\u001b[0;34m:\u001b[0m\u001b[0;34m\u001b[0m\u001b[0;34m\u001b[0m\u001b[0m\n\u001b[0;32m--> 183\u001b[0;31m                 \u001b[0;32mraise\u001b[0m \u001b[0mEinopsError\u001b[0m\u001b[0;34m(\u001b[0m\u001b[0;34mf\"Shape mismatch, {length} != {known_product}\"\u001b[0m\u001b[0;34m)\u001b[0m\u001b[0;34m\u001b[0m\u001b[0;34m\u001b[0m\u001b[0m\n\u001b[0m\u001b[1;32m    184\u001b[0m         \u001b[0;32melse\u001b[0m\u001b[0;34m:\u001b[0m\u001b[0;34m\u001b[0m\u001b[0;34m\u001b[0m\u001b[0m\n",
            "\u001b[0;31mEinopsError\u001b[0m: Shape mismatch, 10200 != 2601",
            "\nDuring handling of the above exception, another exception occurred:\n",
            "\u001b[0;31mEinopsError\u001b[0m                               Traceback (most recent call last)",
            "\u001b[0;32m<ipython-input-67-3b4ab2a2fb4e>\u001b[0m in \u001b[0;36m<cell line: 1>\u001b[0;34m()\u001b[0m\n\u001b[1;32m      1\u001b[0m imshow(\n\u001b[0;32m----> 2\u001b[0;31m     \u001b[0meinops\u001b[0m\u001b[0;34m.\u001b[0m\u001b[0mrearrange\u001b[0m\u001b[0;34m(\u001b[0m\u001b[0mneuron_acts\u001b[0m\u001b[0;34m[\u001b[0m\u001b[0;34m:\u001b[0m\u001b[0;34m,\u001b[0m \u001b[0;34m:\u001b[0m\u001b[0;36m5\u001b[0m\u001b[0;34m]\u001b[0m\u001b[0;34m,\u001b[0m \u001b[0;34m\"(a b) neuron -> neuron a b\"\u001b[0m\u001b[0;34m,\u001b[0m \u001b[0ma\u001b[0m\u001b[0;34m=\u001b[0m\u001b[0mp\u001b[0m\u001b[0;34m,\u001b[0m \u001b[0mb\u001b[0m\u001b[0;34m=\u001b[0m\u001b[0mp\u001b[0m\u001b[0;34m)\u001b[0m\u001b[0;34m,\u001b[0m\u001b[0;34m\u001b[0m\u001b[0;34m\u001b[0m\u001b[0m\n\u001b[0m\u001b[1;32m      3\u001b[0m     title=\"First 5 neuron acts\", xaxis=\"b\", yaxis=\"a\", facet_col=0)\n",
            "\u001b[0;32m/usr/local/lib/python3.10/dist-packages/einops/einops.py\u001b[0m in \u001b[0;36mrearrange\u001b[0;34m(tensor, pattern, **axes_lengths)\u001b[0m\n\u001b[1;32m    589\u001b[0m \u001b[0;34m\u001b[0m\u001b[0m\n\u001b[1;32m    590\u001b[0m     \"\"\"\n\u001b[0;32m--> 591\u001b[0;31m     \u001b[0;32mreturn\u001b[0m \u001b[0mreduce\u001b[0m\u001b[0;34m(\u001b[0m\u001b[0mtensor\u001b[0m\u001b[0;34m,\u001b[0m \u001b[0mpattern\u001b[0m\u001b[0;34m,\u001b[0m \u001b[0mreduction\u001b[0m\u001b[0;34m=\u001b[0m\u001b[0;34m\"rearrange\"\u001b[0m\u001b[0;34m,\u001b[0m \u001b[0;34m**\u001b[0m\u001b[0maxes_lengths\u001b[0m\u001b[0;34m)\u001b[0m\u001b[0;34m\u001b[0m\u001b[0;34m\u001b[0m\u001b[0m\n\u001b[0m\u001b[1;32m    592\u001b[0m \u001b[0;34m\u001b[0m\u001b[0m\n\u001b[1;32m    593\u001b[0m \u001b[0;34m\u001b[0m\u001b[0m\n",
            "\u001b[0;32m/usr/local/lib/python3.10/dist-packages/einops/einops.py\u001b[0m in \u001b[0;36mreduce\u001b[0;34m(tensor, pattern, reduction, **axes_lengths)\u001b[0m\n\u001b[1;32m    531\u001b[0m             \u001b[0mmessage\u001b[0m \u001b[0;34m+=\u001b[0m \u001b[0;34m\"\\n Input is list. \"\u001b[0m\u001b[0;34m\u001b[0m\u001b[0;34m\u001b[0m\u001b[0m\n\u001b[1;32m    532\u001b[0m         \u001b[0mmessage\u001b[0m \u001b[0;34m+=\u001b[0m \u001b[0;34m\"Additional info: {}.\"\u001b[0m\u001b[0;34m.\u001b[0m\u001b[0mformat\u001b[0m\u001b[0;34m(\u001b[0m\u001b[0maxes_lengths\u001b[0m\u001b[0;34m)\u001b[0m\u001b[0;34m\u001b[0m\u001b[0;34m\u001b[0m\u001b[0m\n\u001b[0;32m--> 533\u001b[0;31m         \u001b[0;32mraise\u001b[0m \u001b[0mEinopsError\u001b[0m\u001b[0;34m(\u001b[0m\u001b[0mmessage\u001b[0m \u001b[0;34m+\u001b[0m \u001b[0;34m\"\\n {}\"\u001b[0m\u001b[0;34m.\u001b[0m\u001b[0mformat\u001b[0m\u001b[0;34m(\u001b[0m\u001b[0me\u001b[0m\u001b[0;34m)\u001b[0m\u001b[0;34m)\u001b[0m\u001b[0;34m\u001b[0m\u001b[0;34m\u001b[0m\u001b[0m\n\u001b[0m\u001b[1;32m    534\u001b[0m \u001b[0;34m\u001b[0m\u001b[0m\n\u001b[1;32m    535\u001b[0m \u001b[0;34m\u001b[0m\u001b[0m\n",
            "\u001b[0;31mEinopsError\u001b[0m:  Error while processing rearrange-reduction pattern \"(a b) neuron -> neuron a b\".\n Input tensor shape: torch.Size([10200, 5]). Additional info: {'a': 51, 'b': 51}.\n Shape mismatch, 10200 != 2601"
          ]
        }
      ],
      "source": [
        "imshow(\n",
        "    einops.rearrange(neuron_acts[:, :5], \"(a b) neuron -> neuron a b\", a=p, b=p),\n",
        "    title=\"First 5 neuron acts\", xaxis=\"b\", yaxis=\"a\", facet_col=0)"
      ]
    },
    {
      "cell_type": "markdown",
      "metadata": {
        "id": "Sw4kt-TGQTaT"
      },
      "source": [
        "### Singular Value Decomposition"
      ]
    },
    {
      "cell_type": "code",
      "execution_count": null,
      "metadata": {
        "id": "_HWDJexJQTaT",
        "colab": {
          "base_uri": "https://localhost:8080/"
        },
        "outputId": "12439f15-710f-435a-a33c-152d44f2152f"
      },
      "outputs": [
        {
          "output_type": "execute_result",
          "data": {
            "text/plain": [
              "torch.Size([63, 128])"
            ]
          },
          "metadata": {},
          "execution_count": 72
        }
      ],
      "source": [
        "W_E.shape"
      ]
    },
    {
      "cell_type": "code",
      "execution_count": null,
      "metadata": {
        "id": "AIRiZ50IQTaT",
        "colab": {
          "base_uri": "https://localhost:8080/",
          "height": 1000
        },
        "outputId": "d91d2a3a-9943-4d76-81f1-4f3331702c9a"
      },
      "outputs": [
        {
          "output_type": "display_data",
          "data": {
            "text/html": [
              "<html>\n",
              "<head><meta charset=\"utf-8\" /></head>\n",
              "<body>\n",
              "    <div>            <script src=\"https://cdnjs.cloudflare.com/ajax/libs/mathjax/2.7.5/MathJax.js?config=TeX-AMS-MML_SVG\"></script><script type=\"text/javascript\">if (window.MathJax && window.MathJax.Hub && window.MathJax.Hub.Config) {window.MathJax.Hub.Config({SVG: {font: \"STIX-Web\"}});}</script>                <script type=\"text/javascript\">window.PlotlyConfig = {MathJaxConfig: 'local'};</script>\n",
              "        <script charset=\"utf-8\" src=\"https://cdn.plot.ly/plotly-2.24.1.min.js\"></script>                <div id=\"85d36406-944b-4378-af68-f686ff2f2942\" class=\"plotly-graph-div\" style=\"height:525px; width:100%;\"></div>            <script type=\"text/javascript\">                                    window.PLOTLYENV=window.PLOTLYENV || {};                                    if (document.getElementById(\"85d36406-944b-4378-af68-f686ff2f2942\")) {                    Plotly.newPlot(                        \"85d36406-944b-4378-af68-f686ff2f2942\",                        [{\"hovertemplate\":\"x=%{x}\\u003cbr\\u003ey=%{y}\\u003cextra\\u003e\\u003c\\u002fextra\\u003e\",\"legendgroup\":\"\",\"line\":{\"color\":\"#636efa\",\"dash\":\"solid\"},\"marker\":{\"symbol\":\"circle\"},\"mode\":\"lines\",\"name\":\"\",\"orientation\":\"v\",\"showlegend\":false,\"x\":[0,1,2,3,4,5,6,7,8,9,10,11,12,13,14,15,16,17,18,19,20,21,22,23,24,25,26,27,28,29,30,31,32,33,34,35,36,37,38,39,40,41,42,43,44,45,46,47,48,49,50,51,52,53,54,55,56,57,58,59,60,61,62],\"xaxis\":\"x\",\"y\":[2.6281938552856445,2.2133629322052,1.891475796699524,1.8382360935211182,1.6270560026168823,1.493512749671936,1.3338382244110107,1.1809720993041992,1.0202711820602417,0.9347589612007141,0.6553798913955688,0.5468094944953918,0.3995192348957062,0.3509155809879303,0.33873677253723145,0.3090452551841736,0.27328717708587646,0.24605628848075867,0.23240205645561218,0.2131887674331665,0.20154935121536255,0.18418419361114502,0.1660623997449875,0.16386288404464722,0.16132599115371704,0.15174691379070282,0.14008106291294098,0.13118380308151245,0.12965165078639984,0.11798879504203796,0.11082561314105988,0.10853106528520584,0.1009899154305458,0.09486769884824753,0.08563882857561111,0.08416663855314255,0.07946226000785828,4.437603062790174e-11,4.376110238069053e-11,4.265143446757769e-11,4.172582071526598e-11,4.1374570436403246e-11,4.100132039441817e-11,4.0980527998835115e-11,3.994074168622852e-11,3.935065814864025e-11,3.884949653643055e-11,3.8394391832508035e-11,3.7607843922371487e-11,3.756996450055006e-11,3.7386010953710525e-11,3.730534284263065e-11,3.674366019779107e-11,3.623457783819006e-11,3.6045340323642705e-11,3.5982064550132975e-11,3.507204249242335e-11,3.488705851983909e-11,3.462820655220078e-11,3.4321122333036413e-11,3.1988321713694035e-11,3.0471267870035845e-11,2.8193850032387502e-11],\"yaxis\":\"y\",\"type\":\"scatter\"}],                        {\"template\":{\"data\":{\"histogram2dcontour\":[{\"type\":\"histogram2dcontour\",\"colorbar\":{\"outlinewidth\":0,\"ticks\":\"\"},\"colorscale\":[[0.0,\"#0d0887\"],[0.1111111111111111,\"#46039f\"],[0.2222222222222222,\"#7201a8\"],[0.3333333333333333,\"#9c179e\"],[0.4444444444444444,\"#bd3786\"],[0.5555555555555556,\"#d8576b\"],[0.6666666666666666,\"#ed7953\"],[0.7777777777777778,\"#fb9f3a\"],[0.8888888888888888,\"#fdca26\"],[1.0,\"#f0f921\"]]}],\"choropleth\":[{\"type\":\"choropleth\",\"colorbar\":{\"outlinewidth\":0,\"ticks\":\"\"}}],\"histogram2d\":[{\"type\":\"histogram2d\",\"colorbar\":{\"outlinewidth\":0,\"ticks\":\"\"},\"colorscale\":[[0.0,\"#0d0887\"],[0.1111111111111111,\"#46039f\"],[0.2222222222222222,\"#7201a8\"],[0.3333333333333333,\"#9c179e\"],[0.4444444444444444,\"#bd3786\"],[0.5555555555555556,\"#d8576b\"],[0.6666666666666666,\"#ed7953\"],[0.7777777777777778,\"#fb9f3a\"],[0.8888888888888888,\"#fdca26\"],[1.0,\"#f0f921\"]]}],\"heatmap\":[{\"type\":\"heatmap\",\"colorbar\":{\"outlinewidth\":0,\"ticks\":\"\"},\"colorscale\":[[0.0,\"#0d0887\"],[0.1111111111111111,\"#46039f\"],[0.2222222222222222,\"#7201a8\"],[0.3333333333333333,\"#9c179e\"],[0.4444444444444444,\"#bd3786\"],[0.5555555555555556,\"#d8576b\"],[0.6666666666666666,\"#ed7953\"],[0.7777777777777778,\"#fb9f3a\"],[0.8888888888888888,\"#fdca26\"],[1.0,\"#f0f921\"]]}],\"heatmapgl\":[{\"type\":\"heatmapgl\",\"colorbar\":{\"outlinewidth\":0,\"ticks\":\"\"},\"colorscale\":[[0.0,\"#0d0887\"],[0.1111111111111111,\"#46039f\"],[0.2222222222222222,\"#7201a8\"],[0.3333333333333333,\"#9c179e\"],[0.4444444444444444,\"#bd3786\"],[0.5555555555555556,\"#d8576b\"],[0.6666666666666666,\"#ed7953\"],[0.7777777777777778,\"#fb9f3a\"],[0.8888888888888888,\"#fdca26\"],[1.0,\"#f0f921\"]]}],\"contourcarpet\":[{\"type\":\"contourcarpet\",\"colorbar\":{\"outlinewidth\":0,\"ticks\":\"\"}}],\"contour\":[{\"type\":\"contour\",\"colorbar\":{\"outlinewidth\":0,\"ticks\":\"\"},\"colorscale\":[[0.0,\"#0d0887\"],[0.1111111111111111,\"#46039f\"],[0.2222222222222222,\"#7201a8\"],[0.3333333333333333,\"#9c179e\"],[0.4444444444444444,\"#bd3786\"],[0.5555555555555556,\"#d8576b\"],[0.6666666666666666,\"#ed7953\"],[0.7777777777777778,\"#fb9f3a\"],[0.8888888888888888,\"#fdca26\"],[1.0,\"#f0f921\"]]}],\"surface\":[{\"type\":\"surface\",\"colorbar\":{\"outlinewidth\":0,\"ticks\":\"\"},\"colorscale\":[[0.0,\"#0d0887\"],[0.1111111111111111,\"#46039f\"],[0.2222222222222222,\"#7201a8\"],[0.3333333333333333,\"#9c179e\"],[0.4444444444444444,\"#bd3786\"],[0.5555555555555556,\"#d8576b\"],[0.6666666666666666,\"#ed7953\"],[0.7777777777777778,\"#fb9f3a\"],[0.8888888888888888,\"#fdca26\"],[1.0,\"#f0f921\"]]}],\"mesh3d\":[{\"type\":\"mesh3d\",\"colorbar\":{\"outlinewidth\":0,\"ticks\":\"\"}}],\"scatter\":[{\"fillpattern\":{\"fillmode\":\"overlay\",\"size\":10,\"solidity\":0.2},\"type\":\"scatter\"}],\"parcoords\":[{\"type\":\"parcoords\",\"line\":{\"colorbar\":{\"outlinewidth\":0,\"ticks\":\"\"}}}],\"scatterpolargl\":[{\"type\":\"scatterpolargl\",\"marker\":{\"colorbar\":{\"outlinewidth\":0,\"ticks\":\"\"}}}],\"bar\":[{\"error_x\":{\"color\":\"#2a3f5f\"},\"error_y\":{\"color\":\"#2a3f5f\"},\"marker\":{\"line\":{\"color\":\"#E5ECF6\",\"width\":0.5},\"pattern\":{\"fillmode\":\"overlay\",\"size\":10,\"solidity\":0.2}},\"type\":\"bar\"}],\"scattergeo\":[{\"type\":\"scattergeo\",\"marker\":{\"colorbar\":{\"outlinewidth\":0,\"ticks\":\"\"}}}],\"scatterpolar\":[{\"type\":\"scatterpolar\",\"marker\":{\"colorbar\":{\"outlinewidth\":0,\"ticks\":\"\"}}}],\"histogram\":[{\"marker\":{\"pattern\":{\"fillmode\":\"overlay\",\"size\":10,\"solidity\":0.2}},\"type\":\"histogram\"}],\"scattergl\":[{\"type\":\"scattergl\",\"marker\":{\"colorbar\":{\"outlinewidth\":0,\"ticks\":\"\"}}}],\"scatter3d\":[{\"type\":\"scatter3d\",\"line\":{\"colorbar\":{\"outlinewidth\":0,\"ticks\":\"\"}},\"marker\":{\"colorbar\":{\"outlinewidth\":0,\"ticks\":\"\"}}}],\"scattermapbox\":[{\"type\":\"scattermapbox\",\"marker\":{\"colorbar\":{\"outlinewidth\":0,\"ticks\":\"\"}}}],\"scatterternary\":[{\"type\":\"scatterternary\",\"marker\":{\"colorbar\":{\"outlinewidth\":0,\"ticks\":\"\"}}}],\"scattercarpet\":[{\"type\":\"scattercarpet\",\"marker\":{\"colorbar\":{\"outlinewidth\":0,\"ticks\":\"\"}}}],\"carpet\":[{\"aaxis\":{\"endlinecolor\":\"#2a3f5f\",\"gridcolor\":\"white\",\"linecolor\":\"white\",\"minorgridcolor\":\"white\",\"startlinecolor\":\"#2a3f5f\"},\"baxis\":{\"endlinecolor\":\"#2a3f5f\",\"gridcolor\":\"white\",\"linecolor\":\"white\",\"minorgridcolor\":\"white\",\"startlinecolor\":\"#2a3f5f\"},\"type\":\"carpet\"}],\"table\":[{\"cells\":{\"fill\":{\"color\":\"#EBF0F8\"},\"line\":{\"color\":\"white\"}},\"header\":{\"fill\":{\"color\":\"#C8D4E3\"},\"line\":{\"color\":\"white\"}},\"type\":\"table\"}],\"barpolar\":[{\"marker\":{\"line\":{\"color\":\"#E5ECF6\",\"width\":0.5},\"pattern\":{\"fillmode\":\"overlay\",\"size\":10,\"solidity\":0.2}},\"type\":\"barpolar\"}],\"pie\":[{\"automargin\":true,\"type\":\"pie\"}]},\"layout\":{\"autotypenumbers\":\"strict\",\"colorway\":[\"#636efa\",\"#EF553B\",\"#00cc96\",\"#ab63fa\",\"#FFA15A\",\"#19d3f3\",\"#FF6692\",\"#B6E880\",\"#FF97FF\",\"#FECB52\"],\"font\":{\"color\":\"#2a3f5f\"},\"hovermode\":\"closest\",\"hoverlabel\":{\"align\":\"left\"},\"paper_bgcolor\":\"white\",\"plot_bgcolor\":\"#E5ECF6\",\"polar\":{\"bgcolor\":\"#E5ECF6\",\"angularaxis\":{\"gridcolor\":\"white\",\"linecolor\":\"white\",\"ticks\":\"\"},\"radialaxis\":{\"gridcolor\":\"white\",\"linecolor\":\"white\",\"ticks\":\"\"}},\"ternary\":{\"bgcolor\":\"#E5ECF6\",\"aaxis\":{\"gridcolor\":\"white\",\"linecolor\":\"white\",\"ticks\":\"\"},\"baxis\":{\"gridcolor\":\"white\",\"linecolor\":\"white\",\"ticks\":\"\"},\"caxis\":{\"gridcolor\":\"white\",\"linecolor\":\"white\",\"ticks\":\"\"}},\"coloraxis\":{\"colorbar\":{\"outlinewidth\":0,\"ticks\":\"\"}},\"colorscale\":{\"sequential\":[[0.0,\"#0d0887\"],[0.1111111111111111,\"#46039f\"],[0.2222222222222222,\"#7201a8\"],[0.3333333333333333,\"#9c179e\"],[0.4444444444444444,\"#bd3786\"],[0.5555555555555556,\"#d8576b\"],[0.6666666666666666,\"#ed7953\"],[0.7777777777777778,\"#fb9f3a\"],[0.8888888888888888,\"#fdca26\"],[1.0,\"#f0f921\"]],\"sequentialminus\":[[0.0,\"#0d0887\"],[0.1111111111111111,\"#46039f\"],[0.2222222222222222,\"#7201a8\"],[0.3333333333333333,\"#9c179e\"],[0.4444444444444444,\"#bd3786\"],[0.5555555555555556,\"#d8576b\"],[0.6666666666666666,\"#ed7953\"],[0.7777777777777778,\"#fb9f3a\"],[0.8888888888888888,\"#fdca26\"],[1.0,\"#f0f921\"]],\"diverging\":[[0,\"#8e0152\"],[0.1,\"#c51b7d\"],[0.2,\"#de77ae\"],[0.3,\"#f1b6da\"],[0.4,\"#fde0ef\"],[0.5,\"#f7f7f7\"],[0.6,\"#e6f5d0\"],[0.7,\"#b8e186\"],[0.8,\"#7fbc41\"],[0.9,\"#4d9221\"],[1,\"#276419\"]]},\"xaxis\":{\"gridcolor\":\"white\",\"linecolor\":\"white\",\"ticks\":\"\",\"title\":{\"standoff\":15,\"font\":{\"size\":20}},\"zerolinecolor\":\"white\",\"automargin\":true,\"zerolinewidth\":2},\"yaxis\":{\"gridcolor\":\"white\",\"linecolor\":\"white\",\"ticks\":\"\",\"title\":{\"standoff\":15,\"font\":{\"size\":20}},\"zerolinecolor\":\"white\",\"automargin\":true,\"zerolinewidth\":2},\"scene\":{\"xaxis\":{\"backgroundcolor\":\"#E5ECF6\",\"gridcolor\":\"white\",\"linecolor\":\"white\",\"showbackground\":true,\"ticks\":\"\",\"zerolinecolor\":\"white\",\"gridwidth\":2},\"yaxis\":{\"backgroundcolor\":\"#E5ECF6\",\"gridcolor\":\"white\",\"linecolor\":\"white\",\"showbackground\":true,\"ticks\":\"\",\"zerolinecolor\":\"white\",\"gridwidth\":2},\"zaxis\":{\"backgroundcolor\":\"#E5ECF6\",\"gridcolor\":\"white\",\"linecolor\":\"white\",\"showbackground\":true,\"ticks\":\"\",\"zerolinecolor\":\"white\",\"gridwidth\":2}},\"shapedefaults\":{\"line\":{\"color\":\"#2a3f5f\"}},\"annotationdefaults\":{\"arrowcolor\":\"#2a3f5f\",\"arrowhead\":0,\"arrowwidth\":1},\"geo\":{\"bgcolor\":\"white\",\"landcolor\":\"#E5ECF6\",\"subunitcolor\":\"white\",\"showland\":true,\"showlakes\":true,\"lakecolor\":\"white\"},\"title\":{\"x\":0.05,\"font\":{\"size\":30}},\"mapbox\":{\"style\":\"light\"}}},\"xaxis\":{\"anchor\":\"y\",\"domain\":[0.0,1.0],\"title\":{\"text\":\"x\"}},\"yaxis\":{\"anchor\":\"x\",\"domain\":[0.0,1.0],\"title\":{\"text\":\"y\"}},\"legend\":{\"tracegroupgap\":0},\"title\":{\"text\":\"Singular Values\"}},                        {\"responsive\": true}                    ).then(function(){\n",
              "                            \n",
              "var gd = document.getElementById('85d36406-944b-4378-af68-f686ff2f2942');\n",
              "var x = new MutationObserver(function (mutations, observer) {{\n",
              "        var display = window.getComputedStyle(gd).display;\n",
              "        if (!display || display === 'none') {{\n",
              "            console.log([gd, 'removed!']);\n",
              "            Plotly.purge(gd);\n",
              "            observer.disconnect();\n",
              "        }}\n",
              "}});\n",
              "\n",
              "// Listen for the removal of the full notebook cells\n",
              "var notebookContainer = gd.closest('#notebook-container');\n",
              "if (notebookContainer) {{\n",
              "    x.observe(notebookContainer, {childList: true});\n",
              "}}\n",
              "\n",
              "// Listen for the clearing of the current output cell\n",
              "var outputEl = gd.closest('.output');\n",
              "if (outputEl) {{\n",
              "    x.observe(outputEl, {childList: true});\n",
              "}}\n",
              "\n",
              "                        })                };                            </script>        </div>\n",
              "</body>\n",
              "</html>"
            ]
          },
          "metadata": {}
        },
        {
          "output_type": "display_data",
          "data": {
            "text/html": [
              "<html>\n",
              "<head><meta charset=\"utf-8\" /></head>\n",
              "<body>\n",
              "    <div>            <script src=\"https://cdnjs.cloudflare.com/ajax/libs/mathjax/2.7.5/MathJax.js?config=TeX-AMS-MML_SVG\"></script><script type=\"text/javascript\">if (window.MathJax && window.MathJax.Hub && window.MathJax.Hub.Config) {window.MathJax.Hub.Config({SVG: {font: \"STIX-Web\"}});}</script>                <script type=\"text/javascript\">window.PlotlyConfig = {MathJaxConfig: 'local'};</script>\n",
              "        <script charset=\"utf-8\" src=\"https://cdn.plot.ly/plotly-2.24.1.min.js\"></script>                <div id=\"d6714635-8296-4c9f-bfa1-a9c7215477ac\" class=\"plotly-graph-div\" style=\"height:525px; width:100%;\"></div>            <script type=\"text/javascript\">                                    window.PLOTLYENV=window.PLOTLYENV || {};                                    if (document.getElementById(\"d6714635-8296-4c9f-bfa1-a9c7215477ac\")) {                    Plotly.newPlot(                        \"d6714635-8296-4c9f-bfa1-a9c7215477ac\",                        [{\"coloraxis\":\"coloraxis\",\"name\":\"0\",\"z\":[[0.008569199591875076,0.018298359587788582,-0.05568506941199303,0.060011301189661026,-0.051597703248262405,0.06128903105854988,-0.07965841144323349,0.1292668879032135,0.4339955449104309,-0.40731334686279297,0.1151965856552124,-0.00044615441584028304,-0.1619926244020462,0.2531161308288574,0.010161461308598518,-0.17869767546653748,-0.02463810332119465,-0.25166407227516174,0.19473505020141602,-0.046025652438402176,0.30846402049064636,-0.17493094503879547,-0.07161875069141388,0.07169468700885773,-0.000858028419315815,0.1870521456003189,0.29165562987327576,0.05110477656126022,0.08264032751321793,0.1703280210494995,0.15977409482002258,-0.06797529757022858,0.18532973527908325,0.03924030810594559,-0.04106270894408226,-0.001377059263177216,-0.08554349839687347,0.0,0.0,0.0,0.0,0.0,0.0,0.0,0.0,4.854724261482701e-11,0.0,0.0,0.0,0.0,0.0,0.0,0.0,0.0,0.0,0.0,0.0,0.0,0.0,0.0,0.0,0.0,0.0],[-0.18199236690998077,-0.0015131051186472178,-0.01214191410690546,0.08683068305253983,0.11598748713731766,0.24400216341018677,-0.1751251369714737,-0.009895647875964642,-0.25862154364585876,-0.12278340011835098,0.22503706812858582,-0.0699816644191742,0.018160659819841385,0.4170478582382202,0.10077282041311264,-0.1254836618900299,0.10929413139820099,0.08125949651002884,0.2887713313102722,-0.1808207929134369,-0.10967474430799484,0.2403704673051834,-0.16217269003391266,-0.12733478844165802,-0.04095979779958725,-0.0009038035641424358,-0.06541185826063156,-0.1931343525648117,-0.34068429470062256,-0.06732252985239029,0.010153092443943024,0.11351314932107925,-0.07234296202659607,-0.08166281133890152,0.19615016877651215,-0.102360799908638,-0.1820002645254135,0.0,0.0,0.0,0.0,0.0,0.0,0.0,0.0,1.6728883903138758e-11,0.0,0.0,0.0,0.0,0.0,0.0,0.0,0.0,0.0,0.0,0.0,0.0,0.0,0.0,0.0,0.0,0.0],[4.373079589420348e-13,7.221987900285845e-14,-3.2158715794483594e-13,2.530600945807593e-12,-9.54201859670531e-14,-1.2281759539500142e-13,3.41601464996788e-12,-1.7482200583007756e-12,6.912863944469327e-12,4.982997087871199e-12,-9.070372924968595e-12,-9.299303514731516e-12,1.4373867547601282e-11,-8.407281815170364e-12,-2.4371539508738493e-11,3.74277067671791e-11,-1.777837252414649e-11,9.477901970200708e-12,1.9421394830895777e-13,-2.7637678604031102e-11,-3.383048355343199e-11,2.118796110783805e-11,-5.427970919957836e-11,-1.9245471535866976e-11,5.227387099571157e-12,-4.145101276109564e-11,-2.9347045626959556e-11,-2.8226134970998906e-11,1.3923332972676228e-11,-4.1738310724293015e-11,-2.192325314342991e-11,-1.148405589374013e-11,-1.5716572140944685e-11,-2.8082763978837244e-12,-1.023765378027619e-10,1.2735486276671537e-10,-1.1076179036451084e-11,0.0,0.0,0.0,0.0,0.0,0.0,0.0,0.0,1.0,0.0,0.0,0.0,0.0,0.0,0.0,0.0,0.0,0.0,0.0,0.0,0.0,0.0,0.0,0.0,0.0,0.0],[0.16197077929973602,0.0990067794919014,0.020153596997261047,-0.07011433690786362,0.22440983355045319,0.056580476462841034,-0.23474805057048798,0.11987582594156265,-0.15056666731834412,-0.0068103899247944355,-0.19662515819072723,0.029953820630908012,-0.20018485188484192,0.13924069702625275,-0.24239398539066315,-0.167745903134346,-0.20601901412010193,0.15185295045375824,-0.10781928151845932,-0.4535727798938751,-0.10526073724031448,-0.1553911715745926,0.0017062885453924537,0.23447750508785248,-0.3223731517791748,-0.03219955787062645,-0.1259433925151825,0.10189533978700638,0.12122415006160736,-0.03508111089468002,-0.09994218498468399,0.003945966251194477,0.10591616481542587,0.2572152316570282,-0.04206060990691185,0.11183179914951324,-0.071576789021492,0.0,0.0,0.0,0.0,0.0,0.0,0.0,0.0,-3.0866850742050644e-11,0.0,0.0,0.0,0.0,0.0,0.0,0.0,0.0,0.0,0.0,0.0,0.0,0.0,0.0,0.0,0.0,0.0],[0.11302722990512848,0.10935214906930923,0.38594570755958557,-0.2915780246257782,-0.11522454023361206,-0.07857300341129303,-0.17674729228019714,-0.21484991908073425,-0.062243059277534485,-0.29364892840385437,-0.08370508253574371,-0.29694226384162903,0.19523954391479492,0.16385537385940552,0.11809862405061722,0.28611475229263306,-0.016415966674685478,-0.09478453546762466,-0.1111648827791214,0.03139831870794296,-0.12929119169712067,-0.05853816494345665,0.11543094366788864,0.11405616253614426,-0.12416304647922516,0.33492347598075867,0.12572620809078217,0.06165485084056854,-0.1060728207230568,0.021392112597823143,-0.0975501760840416,0.02189876325428486,-0.22271235287189484,-0.01572735235095024,0.030856125056743622,0.09179703891277313,0.034426674246788025,0.0,0.0,0.0,0.0,0.0,0.0,0.0,0.0,5.6983337319571614e-12,0.0,0.0,0.0,0.0,0.0,0.0,0.0,0.0,0.0,0.0,0.0,0.0,0.0,0.0,0.0,0.0,0.0],[-0.04514480009675026,0.12948261201381683,-0.05701223760843277,-0.1463664025068283,-0.0862753838300705,0.19641146063804626,0.260122150182724,-0.04015166684985161,-0.021919425576925278,0.12386030703783035,-0.01821904629468918,0.07674941420555115,-0.03740677982568741,-0.06661742180585861,0.021585902199149132,0.12893351912498474,-0.038821589201688766,0.004218064248561859,0.37634387612342834,-0.22190804779529572,-0.05932345986366272,-0.5040264129638672,0.009876687079668045,-0.041052136570215225,-0.07067012786865234,-0.04823021590709686,0.09597045928239822,0.11594554781913757,-0.2086118906736374,0.08201615512371063,-0.32023367285728455,-0.24846889078617096,-0.06134000048041344,-0.20570218563079834,0.024861732497811317,-0.2106536477804184,0.09453950077295303,0.0,0.0,0.0,0.0,0.0,0.0,0.0,0.0,2.6453929324876668e-11,0.0,0.0,0.0,0.0,0.0,0.0,0.0,0.0,0.0,0.0,0.0,0.0,0.0,0.0,0.0,0.0,0.0],[-0.04509950429201126,0.02331501990556717,0.12780319154262543,-0.13619080185890198,0.021997570991516113,-0.014842997305095196,0.1622142642736435,-0.1402818262577057,-0.06642590463161469,-0.008672568947076797,0.06690094619989395,-0.21064527332782745,-0.07148844748735428,0.060057271271944046,0.04178965464234352,0.20240896940231323,-0.03631552308797836,-0.15584120154380798,-0.08319909125566483,0.00582945067435503,-0.08653344213962555,-0.03665436804294586,-0.09053658694028854,0.1404746174812317,0.2178807258605957,-0.09874359518289566,-0.048686567693948746,-0.17859205603599548,0.09187649190425873,-0.1078684851527214,-0.17479752004146576,0.11455021798610687,0.6302044987678528,0.1452598124742508,-0.03603721410036087,-0.3435780704021454,-0.2211667150259018,0.0,0.0,0.0,0.0,0.0,0.0,0.0,0.0,1.830731920227091e-11,0.0,0.0,0.0,0.0,0.0,0.0,0.0,0.0,0.0,0.0,0.0,0.0,0.0,0.0,0.0,0.0,0.0],[0.0680997297167778,0.034163497388362885,0.18089011311531067,-0.42372605204582214,-0.0744471475481987,0.2014402151107788,-0.10936664044857025,0.08055376261472702,0.13973435759544373,0.08274377137422562,0.2072126418352127,0.18172894418239594,-0.028397684916853905,0.033142395317554474,0.024257339537143707,-0.11333494633436203,0.07214903831481934,-0.14491364359855652,-0.4273570775985718,-0.2587153911590576,0.180779367685318,0.11314471811056137,0.031155884265899658,-0.4251125752925873,0.06407804787158966,-0.13253876566886902,0.0078847985714674,-0.013811962679028511,-0.03276444226503372,-0.09400716423988342,-0.12185220420360565,-0.10835451632738113,-0.013344316743314266,-0.1325230598449707,-0.13393589854240417,-0.006300094537436962,-0.05099465325474739,0.0,0.0,0.0,0.0,0.0,0.0,0.0,0.0,-2.5268264911004756e-11,0.0,0.0,0.0,0.0,0.0,0.0,0.0,0.0,0.0,0.0,0.0,0.0,0.0,0.0,0.0,0.0,0.0],[-0.40810689330101013,0.19450485706329346,0.19707991182804108,0.03616134449839592,0.10484343767166138,0.2762548625469208,-0.005165591835975647,-0.15359479188919067,0.10810216516256332,-0.10796404629945755,0.013473756611347198,-0.31066712737083435,-0.2071421891450882,-0.4978629946708679,-0.30192863941192627,-0.19280710816383362,0.2477409392595291,0.028457120060920715,-0.03299536928534508,-0.05887116864323616,-0.04962627589702606,0.0009131913539022207,0.01374022290110588,0.029684104025363922,0.04609043523669243,0.11397560685873032,-0.002332290168851614,-0.037131357938051224,0.002148523461073637,0.02684265747666359,0.018134796991944313,0.030443014577031136,-0.07570409029722214,-0.011827871203422546,0.0008055776706896722,0.06670666486024857,-0.07951655983924866,0.0,0.0,0.0,0.0,0.0,0.0,0.0,0.0,-7.576280748600173e-12,0.0,0.0,0.0,0.0,0.0,0.0,0.0,0.0,0.0,0.0,0.0,0.0,0.0,0.0,0.0,0.0,0.0],[-0.005110484082251787,-0.0365610234439373,0.02378547377884388,-0.09840726107358932,-0.23926760256290436,0.1523750275373459,-0.08687612414360046,-0.2334425300359726,-0.018998101353645325,0.2870854437351227,-0.1286790817975998,-0.1063130795955658,0.18949846923351288,-0.004908234346657991,0.07069157809019089,-0.025388728827238083,0.13276931643486023,0.10914262384176254,0.14923249185085297,-0.13215544819831848,0.4077851176261902,0.08195676654577255,-0.1402093917131424,-0.04469461739063263,-0.23192717134952545,0.24097859859466553,-0.28622791171073914,0.03596843406558037,0.1577555388212204,0.21283794939517975,0.1875947117805481,0.07783253490924835,0.10067683458328247,0.13958269357681274,-0.08982668071985245,-0.25453799962997437,0.14399631321430206,0.0,0.0,0.0,0.0,0.0,0.0,0.0,0.0,4.01315300435634e-11,0.0,0.0,0.0,0.0,0.0,0.0,0.0,0.0,0.0,0.0,0.0,0.0,0.0,0.0,0.0,0.0,0.0],[0.10593165457248688,0.005084464326500893,0.006991838105022907,0.17827050387859344,-0.06777847558259964,0.15083244442939758,-0.21752971410751343,-0.2104942798614502,0.09264501929283142,0.04183118790388107,0.19851204752922058,-0.12620803713798523,-0.07562880218029022,0.14650018513202667,-0.11957857757806778,-0.023925991728901863,-0.172438845038414,0.25183597207069397,-0.05362531542778015,0.23511219024658203,-0.2046307921409607,-0.015889761969447136,0.07171705365180969,-0.14530470967292786,0.07445688545703888,-0.03265517204999924,-0.026320770382881165,-0.2454991638660431,-0.09084516018629074,0.27762916684150696,-0.09323368221521378,-0.4148893356323242,0.0861709862947464,0.2005234658718109,-0.28571754693984985,0.014791538007557392,0.21754243969917297,0.0,0.0,0.0,0.0,0.0,0.0,0.0,0.0,-3.467249751198942e-11,0.0,0.0,0.0,0.0,0.0,0.0,0.0,0.0,0.0,0.0,0.0,0.0,0.0,0.0,0.0,0.0,0.0],[0.04425813630223274,0.03513399511575699,-0.005146014969795942,0.13139837980270386,-0.23321647942066193,-0.0993984192609787,-0.07519685477018356,0.02294248715043068,-0.24487490952014923,-0.002613491378724575,-0.13245023787021637,0.07713311165571213,-0.15284503996372223,-0.014183909632265568,-0.06847776472568512,-0.2009727954864502,0.10993431508541107,0.13305726647377014,-0.08808928728103638,-0.027334123849868774,0.062290459871292114,0.01824876107275486,0.16296926140785217,-0.06316021084785461,0.17591404914855957,0.26488322019577026,0.37279796600341797,0.07705893367528915,-0.10042381286621094,-0.3990877568721771,0.028212770819664,-0.13085849583148956,-0.03382464498281479,0.24270683526992798,0.04473087936639786,-0.42158547043800354,0.10401523113250732,0.0,0.0,0.0,0.0,0.0,0.0,0.0,0.0,8.496937875523969e-11,0.0,0.0,0.0,0.0,0.0,0.0,0.0,0.0,0.0,0.0,0.0,0.0,0.0,0.0,0.0,0.0,0.0],[0.04354991391301155,-0.17893224954605103,0.09355098009109497,0.26328811049461365,0.08417762070894241,0.0986941009759903,-0.029690155759453773,-0.09703683853149414,0.24730582535266876,0.12100546807050705,0.0432143360376358,-0.07639755308628082,0.11193302273750305,0.07106040418148041,0.11799314618110657,0.008395452052354813,0.06776740401983261,0.1391620635986328,0.02339034155011177,0.002349001122638583,-0.08921729773283005,-0.15496893227100372,0.2419353425502777,-0.3719358742237091,0.06217805668711662,0.12678630650043488,-0.08926703035831451,0.4153558909893036,0.11975986510515213,-0.06978921592235565,-0.2122221142053604,0.09142311662435532,0.12472990900278091,0.19353418052196503,0.3091523349285126,0.12197139114141464,-0.23655296862125397,0.0,0.0,0.0,0.0,0.0,0.0,0.0,0.0,2.6265494987298688e-11,0.0,0.0,0.0,0.0,0.0,0.0,0.0,0.0,0.0,0.0,0.0,0.0,0.0,0.0,0.0,0.0,0.0],[0.27451029419898987,-0.03487248718738556,0.20636793971061707,0.4903371036052704,0.12374948710203171,0.12463070452213287,0.16304263472557068,-0.2207510620355606,-0.047235872596502304,0.05227643623948097,0.16501839458942413,0.07210270315408707,-0.32203420996665955,0.02547394670546055,0.017170924693346024,0.13029435276985168,-0.03859952837228775,-0.21741415560245514,-0.21846327185630798,-0.020266184583306313,0.1693807691335678,0.07316490262746811,-0.1931820809841156,0.11012470722198486,-0.19165179133415222,0.15344904363155365,-0.08548162132501602,0.019236162304878235,0.04950635880231857,-0.08041933923959732,-0.14225992560386658,-0.04195471480488777,-0.13621357083320618,-0.24024000763893127,0.04662034288048744,-0.11000098288059235,0.07372318208217621,0.0,0.0,0.0,0.0,0.0,0.0,0.0,0.0,1.161409596966978e-11,0.0,0.0,0.0,0.0,0.0,0.0,0.0,0.0,0.0,0.0,0.0,0.0,0.0,0.0,0.0,0.0,0.0],[-0.018061362206935883,-0.10046776384115219,0.0633317232131958,-0.10732591897249222,0.03719543665647507,0.1629718542098999,0.005291452165693045,0.14927351474761963,-0.1760207861661911,-0.2746547758579254,0.05061871558427811,0.055246781557798386,0.02552848681807518,0.0096686827018857,-0.11425720900297165,0.009288462810218334,-0.21115896105766296,0.07540769129991531,0.14867092669010162,0.11648580431938171,0.08494103699922562,-0.18884967267513275,0.12019354104995728,-0.10357315093278885,0.20414423942565918,0.27435120940208435,-0.43467628955841064,-0.1519041359424591,0.31918036937713623,-0.3327846825122833,0.09537740796804428,-0.14034707844257355,0.03539242967963219,-0.22157476842403412,0.04519608989357948,0.04565154388546944,0.1379525363445282,0.0,0.0,0.0,0.0,0.0,0.0,0.0,0.0,-1.347726704542529e-11,0.0,0.0,0.0,0.0,0.0,0.0,0.0,0.0,0.0,0.0,0.0,0.0,0.0,0.0,0.0,0.0,0.0],[0.15837782621383667,0.16391021013259888,-0.18964536488056183,-0.008247694000601768,-0.1426844447851181,-0.08130349963903427,-0.11891939491033554,-0.15832507610321045,-0.07238391041755676,0.047785691916942596,0.15084505081176758,0.022882618010044098,-0.08322063833475113,-0.03437678515911102,-0.08997246623039246,0.015461591072380543,0.08021476864814758,0.06603284925222397,-0.20549826323986053,0.17874674499034882,0.24565079808235168,-0.5063719749450684,0.11251390725374222,-0.040171388536691666,-0.11713451892137527,-0.05834797024726868,-0.10150282084941864,-0.3234254717826843,-0.22091665863990784,-0.016124697402119637,0.1605924814939499,0.2137441486120224,-0.03578038886189461,0.027832413092255592,0.2357214242219925,0.07270082086324692,-0.25907471776008606,0.0,0.0,0.0,0.0,0.0,0.0,0.0,0.0,3.6101212297356966e-11,0.0,0.0,0.0,0.0,0.0,0.0,0.0,0.0,0.0,0.0,0.0,0.0,0.0,0.0,0.0,0.0,0.0],[0.37242844700813293,0.26423946022987366,0.06679611653089523,0.07640475034713745,0.03254302963614464,0.043788690119981766,0.03709523379802704,-0.2525272071361542,-0.1051049456000328,-0.06873328238725662,0.006126821506768465,0.3040301501750946,0.36263543367385864,-0.02229785919189453,-0.4471262991428375,-0.06641359627246857,0.13451677560806274,-0.17845956981182098,0.23859579861164093,-0.08940693736076355,0.013438367284834385,0.1187393069267273,0.02456757426261902,-0.02312319539487362,0.27699515223503113,0.002597180427983403,0.060709595680236816,-0.022301387041807175,0.02281186729669571,0.0886215791106224,-0.08676837384700775,0.1266283541917801,0.07986574620008469,0.04401544854044914,-0.006127443630248308,0.1303173303604126,0.0028364011086523533,0.0,0.0,0.0,0.0,0.0,0.0,0.0,0.0,-2.344847753465995e-11,0.0,0.0,0.0,0.0,0.0,0.0,0.0,0.0,0.0,0.0,0.0,0.0,0.0,0.0,0.0,0.0,0.0],[-0.042649392038583755,-0.090541772544384,-0.05390172451734543,-0.11890453845262527,0.26908406615257263,0.16677981615066528,0.0515337735414505,0.11973513662815094,0.08449044823646545,0.019936708733439445,0.15027526021003723,0.1319350302219391,0.083473339676857,-0.15295405685901642,-0.009493558667600155,0.07890268415212631,-0.30818068981170654,0.2265159785747528,-0.05652841925621033,0.05636870115995407,0.34341681003570557,0.2088000327348709,0.28330376744270325,0.25461122393608093,0.053733404725790024,0.2445002943277359,0.08234183490276337,-0.05247447267174721,-0.3135187327861786,0.13236527144908905,-0.25556743144989014,0.18203356862068176,0.05566427484154701,0.07983973622322083,0.09291499108076096,-0.0602089948952198,0.06363973021507263,0.0,0.0,0.0,0.0,0.0,0.0,0.0,0.0,5.4189815829053245e-11,0.0,0.0,0.0,0.0,0.0,0.0,0.0,0.0,0.0,0.0,0.0,0.0,0.0,0.0,0.0,0.0,0.0],[-0.08180557936429977,-0.052991464734077454,-0.1574508249759674,-0.07650848478078842,0.06607489287853241,-0.0012277374044060707,0.0968082845211029,-0.20094165205955505,-0.0755952000617981,-0.09604550153017044,0.18939204514026642,-0.14673687517642975,-0.05661177262663841,0.04495321959257126,0.014678358100354671,0.11300254613161087,0.05956614017486572,-0.12742161750793457,0.008681888692080975,-0.07429101318120956,0.24664726853370667,-0.0556006133556366,-0.16396833956241608,0.0599190890789032,0.15256673097610474,-0.16350267827510834,-0.14522799849510193,0.2971608340740204,-0.2795608341693878,-0.30054986476898193,0.05234277620911598,-0.07698845118284225,-0.003562747500836849,0.3731144070625305,-0.05794910341501236,0.3192225694656372,0.338181734085083,0.0,0.0,0.0,0.0,0.0,0.0,0.0,0.0,-5.35188837691436e-11,0.0,0.0,0.0,0.0,0.0,0.0,0.0,0.0,0.0,0.0,0.0,0.0,0.0,0.0,0.0,0.0,0.0],[-0.22242678701877594,-0.18885588645935059,0.03441506624221802,0.03242889791727066,0.05054546520113945,-0.3884539008140564,0.06889667361974716,-0.30339887738227844,-0.010607017204165459,0.008128002285957336,0.4167020618915558,0.21085770428180695,0.15509033203125,-0.07534550875425339,0.16663242876529694,-0.18141399323940277,-0.018399978056550026,0.01759210228919983,-0.06443215161561966,-0.4213537275791168,-0.14348973333835602,-0.12988808751106262,0.12958356738090515,0.15031768381595612,0.04094810411334038,0.16937872767448425,-0.0033668570686131716,-0.14243575930595398,0.1254691332578659,0.08054773509502411,0.10026855021715164,-0.09665649384260178,-0.035777971148490906,0.015015366487205029,-0.022042572498321533,0.004929551854729652,0.014097385108470917,0.0,0.0,0.0,0.0,0.0,0.0,0.0,0.0,1.083305493920772e-11,0.0,0.0,0.0,0.0,0.0,0.0,0.0,0.0,0.0,0.0,0.0,0.0,0.0,0.0,0.0,0.0,0.0],[0.1818336546421051,-0.360556960105896,0.4531680643558502,-0.060276009142398834,-0.04936004430055618,0.05427957698702812,0.16416947543621063,0.26125964522361755,-0.21802791953086853,0.22532066702842712,0.21060560643672943,-0.25981688499450684,-0.01328463014215231,0.028714105486869812,-0.11858765035867691,-0.22490832209587097,-0.04495491459965706,-0.09496516734361649,0.14992040395736694,0.05960039049386978,0.09343750029802322,-0.14963525533676147,0.045980509370565414,0.09518922120332718,0.10768453776836395,-0.18680855631828308,0.1250642091035843,-0.030484968796372414,0.038757119327783585,0.15229719877243042,0.10163810849189758,0.07048599421977997,-0.1979948729276657,0.1661277860403061,0.03819144889712334,0.013210381381213665,-0.02618541195988655,0.0,0.0,0.0,0.0,0.0,0.0,0.0,0.0,2.100977898600309e-11,0.0,0.0,0.0,0.0,0.0,0.0,0.0,0.0,0.0,0.0,0.0,0.0,0.0,0.0,0.0,0.0,0.0],[0.034599583595991135,0.27415230870246887,-0.11263003200292587,0.017120113596320152,-0.1480346918106079,-0.27837610244750977,0.016613652929663658,0.19130776822566986,-0.006658055819571018,0.20632438361644745,0.26583126187324524,-0.2234468162059784,-0.23015592992305756,-0.03998134285211563,-0.22226302325725555,0.2967251241207123,-0.27980104088783264,-0.11878987401723862,0.15793351829051971,-0.2027004063129425,-0.04117942973971367,0.20779366791248322,0.12283925712108612,-0.20673394203186035,0.07345163077116013,0.21575585007667542,-0.11740066856145859,0.14337195456027985,-0.05703940987586975,0.07567497342824936,0.17614531517028809,0.018488885834813118,-0.05671020969748497,-0.0041859145276248455,-0.05077538266777992,-0.009199107997119427,-0.15968622267246246,0.0,0.0,0.0,0.0,0.0,0.0,0.0,0.0,-1.6183476433950794e-11,0.0,0.0,0.0,0.0,0.0,0.0,0.0,0.0,0.0,0.0,0.0,0.0,0.0,0.0,0.0,0.0,0.0],[-0.0912356749176979,0.20181812345981598,0.04644206911325455,-0.07326027750968933,-0.05455983430147171,0.14358925819396973,-0.22320853173732758,0.14218510687351227,-0.28097090125083923,0.024457206949591637,0.452469140291214,0.2518419325351715,0.013226492330431938,-0.17015913128852844,0.09596297889947891,0.07736658304929733,0.13668414950370789,-0.12250693142414093,0.07895886152982712,0.30147063732147217,-0.10419585555791855,0.040455397218465805,0.05335259810090065,0.10654567927122116,-0.34105220437049866,-0.01606668159365654,0.09794750064611435,0.24338209629058838,0.1891665905714035,0.019049830734729767,0.02077024057507515,-0.09859783202409744,0.20384569466114044,0.11472969502210617,0.10407311469316483,0.016382448375225067,0.05247535929083824,0.0,0.0,0.0,0.0,0.0,0.0,0.0,0.0,4.083068952387414e-11,0.0,0.0,0.0,0.0,0.0,0.0,0.0,0.0,0.0,0.0,0.0,0.0,0.0,0.0,0.0,0.0,0.0],[-0.009255160577595234,-0.11151272058486938,0.0014967923052608967,0.0343300960958004,-0.022708715870976448,0.0362190343439579,0.3665724992752075,0.1859380006790161,0.012052708305418491,-0.04896912723779678,-0.0217263363301754,0.0802379623055458,0.3096896708011627,-0.09212374687194824,-0.1405179500579834,-0.08296208083629608,-0.04523760452866554,-0.1275031715631485,-0.125536248087883,0.10635069757699966,-0.14105305075645447,-0.03057960234582424,-0.2597670555114746,-0.12521107494831085,-0.3135240077972412,0.3253742754459381,-0.08716371655464172,-0.06739045679569244,-0.28718048334121704,-0.09880071133375168,0.04825641214847565,-0.20634406805038452,0.05403422936797142,0.2442655861377716,-0.16539186239242554,0.04283257573843002,-0.28367459774017334,0.0,0.0,0.0,0.0,0.0,0.0,0.0,0.0,-3.786587363108218e-11,0.0,0.0,0.0,0.0,0.0,0.0,0.0,0.0,0.0,0.0,0.0,0.0,0.0,0.0,0.0,0.0,0.0],[0.04676222801208496,0.31252947449684143,0.286705881357193,0.07456967979669571,-0.20957377552986145,-0.1397484391927719,0.31384000182151794,0.1379646360874176,0.08871854841709137,-0.22860990464687347,0.17991338670253754,0.01680181734263897,0.05640891566872597,0.038415901362895966,0.03525209054350853,0.05821267515420914,0.04202886298298836,0.6356558799743652,-0.026424942538142204,-0.07311983406543732,0.13928304612636566,0.05910884588956833,-0.22158707678318024,0.011975876055657864,-0.037543222308158875,-0.15871351957321167,0.0199187770485878,0.038544051349163055,0.08010068535804749,-0.03513161465525627,-0.01739273965358734,0.009402158670127392,0.0407121442258358,-0.0004986092681065202,0.046361785382032394,0.07064791768789291,0.00025053939316421747,0.0,0.0,0.0,0.0,0.0,0.0,0.0,0.0,-2.730649734106194e-11,0.0,0.0,0.0,0.0,0.0,0.0,0.0,0.0,0.0,0.0,0.0,0.0,0.0,0.0,0.0,0.0,0.0],[-0.04009478539228439,0.11701888591051102,-0.12574779987335205,0.08748214691877365,0.17383252084255219,-0.1596444696187973,-0.01595226489007473,0.12799511849880219,-0.07020299881696701,-0.2610037326812744,0.02978099323809147,-0.1822720170021057,0.26208844780921936,0.03690032660961151,-0.1080554872751236,-0.0530947670340538,0.10282929241657257,-0.12019328027963638,-0.1956251561641693,0.019856620579957962,0.17816439270973206,0.01311135571449995,0.12052370607852936,0.04556427150964737,0.03355294093489647,-0.22537349164485931,-0.280836284160614,0.16345250606536865,0.048928551375865936,0.23693978786468506,-0.11958704143762589,-0.3198016285896301,-0.2040158361196518,0.06051976606249809,0.17090021073818207,-0.41410258412361145,-0.08001436293125153,0.0,0.0,0.0,0.0,0.0,0.0,0.0,0.0,6.908236482860985e-11,0.0,0.0,0.0,0.0,0.0,0.0,0.0,0.0,0.0,0.0,0.0,0.0,0.0,0.0,0.0,0.0,0.0],[0.1294405609369278,-0.20057563483715057,0.14282964169979095,-0.00014777976321056485,0.011167041026055813,-0.2537577748298645,0.054772209376096725,-0.04561503604054451,-0.22589442133903503,-0.24288056790828705,-0.11676806211471558,0.033612318336963654,-0.2568947970867157,-0.10795307904481888,0.06540155410766602,-0.10593195259571075,0.2453858107328415,0.05640600994229317,0.14916014671325684,0.027038006111979485,0.11598331481218338,0.09313591569662094,0.3304748833179474,-0.11894410103559494,-0.14984463155269623,-0.03768003731966019,-0.17295457422733307,0.1322212964296341,-0.2935926020145416,0.16128864884376526,-0.017208250239491463,-0.06259043514728546,0.31136587262153625,-0.20361050963401794,-0.24763619899749756,0.09649042785167694,-0.08057082444429398,0.0,0.0,0.0,0.0,0.0,0.0,0.0,0.0,5.6120195296438524e-12,0.0,0.0,0.0,0.0,0.0,0.0,0.0,0.0,0.0,0.0,0.0,0.0,0.0,0.0,0.0,0.0,0.0],[-0.044539064168930054,0.1023029312491417,-0.06730013340711594,0.044208649545907974,-0.27770882844924927,0.12450452893972397,0.2947174906730652,-0.12817901372909546,0.0430275984108448,-0.07136804610490799,-0.09392751753330231,-0.08488839119672775,-0.02295956015586853,0.032308075577020645,0.11327584832906723,-0.09301190823316574,-0.14413312077522278,-0.19382219016551971,0.12271424382925034,-0.08140381425619125,0.07894713431596756,0.2672565281391144,0.4398445785045624,-0.005649338476359844,-0.2908923923969269,-0.2019435316324234,0.009893044829368591,-0.30126988887786865,0.16299588978290558,-0.15585270524024963,-0.11531230807304382,-0.11576452851295471,-0.05442101135849953,0.19667620956897736,0.1678028255701065,0.15552283823490143,-0.012118082493543625,0.0,0.0,0.0,0.0,0.0,0.0,0.0,0.0,-9.08809659472265e-12,0.0,0.0,0.0,0.0,0.0,0.0,0.0,0.0,0.0,0.0,0.0,0.0,0.0,0.0,0.0,0.0,0.0],[0.047661591321229935,0.07136183977127075,0.15006884932518005,0.022294243797659874,-0.06079098954796791,-0.02452288381755352,0.082917220890522,0.12034263461828232,0.17934192717075348,-0.18114426732063293,-0.013140283524990082,0.11262989044189453,-0.07904557138681412,-0.06980391591787338,0.022438257932662964,-0.12961870431900024,-0.08908376842737198,-0.1554681956768036,-0.07448823750019073,-0.036878108978271484,-0.309150367975235,-0.057696543633937836,0.027946962043642998,-0.17999066412448883,-0.07994318753480911,-0.037524279206991196,-0.22774051129817963,-0.022930040955543518,-0.20362506806850433,0.13952551782131195,0.13746142387390137,0.35155507922172546,0.08550658077001572,0.13467851281166077,0.2403651475906372,-0.2289256453514099,0.5170823931694031,0.0,0.0,0.0,0.0,0.0,0.0,0.0,0.0,6.257740853277127e-11,0.0,0.0,0.0,0.0,0.0,0.0,0.0,0.0,0.0,0.0,0.0,0.0,0.0,0.0,0.0,0.0,0.0],[-0.10528881102800369,0.16405481100082397,0.13339874148368835,0.2165401130914688,0.36296346783638,0.06679270416498184,0.0868317186832428,0.277077853679657,-0.024686826393008232,0.13183370232582092,-0.08370915055274963,0.0033073993399739265,0.107122503221035,0.1620807647705078,0.07094579935073853,0.368745356798172,0.34897249937057495,-0.03363105654716492,-0.051341064274311066,-0.15928754210472107,0.0830613523721695,-0.14376430213451385,0.27615630626678467,-0.10124459862709045,-0.02775125578045845,0.03802279382944107,0.11339854449033737,-0.2538846433162689,0.023722974583506584,-0.00011564862506929785,0.2155863344669342,-0.02723834104835987,0.059901900589466095,0.1041882112622261,-0.17828457057476044,0.05344264954328537,0.17788726091384888,0.0,0.0,0.0,0.0,0.0,0.0,0.0,0.0,-1.2569200888434828e-11,0.0,0.0,0.0,0.0,0.0,0.0,0.0,0.0,0.0,0.0,0.0,0.0,0.0,0.0,0.0,0.0,0.0],[0.05500892177224159,-0.061653826385736465,-0.22850316762924194,-0.309965044260025,0.031831540167331696,0.09330350160598755,0.37708017230033875,-0.08673223108053207,0.10851846635341644,0.043839797377586365,0.1313372254371643,0.05678698420524597,-0.22992755472660065,0.38495928049087524,-0.23403212428092957,-0.021656421944499016,0.36662980914115906,0.1304849088191986,-0.08751069754362106,0.15490135550498962,-0.21036934852600098,0.07434312254190445,0.17208081483840942,0.16085512936115265,-0.03335883468389511,0.1595933437347412,-0.0805179551243782,0.11572203785181046,0.13116182386875153,0.05761431157588959,0.04370423033833504,0.09330420196056366,-0.1434183418750763,0.0057991547510027885,-0.038524746894836426,-0.08239347487688065,0.012068531475961208,0.0,0.0,0.0,0.0,0.0,0.0,0.0,0.0,2.973488122393064e-11,0.0,0.0,0.0,0.0,0.0,0.0,0.0,0.0,0.0,0.0,0.0,0.0,0.0,0.0,0.0,0.0,0.0],[0.0893072709441185,0.024570023640990257,0.08559836447238922,-0.01840100809931755,0.1527406871318817,0.2076805680990219,0.06979604810476303,-0.2477017641067505,0.10364936292171478,0.032439157366752625,0.0015229526907205582,-0.05198437720537186,0.1816900670528412,0.012160440906882286,-0.07223589718341827,-0.008418960496783257,-0.25587424635887146,0.0920572280883789,-0.05351683869957924,-0.004990899935364723,-0.06592325121164322,0.03189774230122566,0.1919664442539215,0.09159263223409653,-0.09845857322216034,-0.22230559587478638,0.12090665102005005,0.24281804263591766,-0.1451077163219452,-0.1708695888519287,0.6020742058753967,-0.13278132677078247,0.13212652504444122,-0.2370966225862503,0.029161425307393074,-0.1645115166902542,-0.07764513045549393,0.0,0.0,0.0,0.0,0.0,0.0,0.0,0.0,3.057921971194588e-11,0.0,0.0,0.0,0.0,0.0,0.0,0.0,0.0,0.0,0.0,0.0,0.0,0.0,0.0,0.0,0.0,0.0],[0.0842064917087555,-0.21879923343658447,-0.08848589658737183,-0.20313316583633423,0.36985722184181213,-0.19163568317890167,0.023809771984815598,-0.18320126831531525,-0.026503771543502808,-0.17932863533496857,0.06320150196552277,-0.07514424622058868,-0.06846192479133606,-0.14372234046459198,-0.20120978355407715,0.17270593345165253,-0.05115000903606415,0.09982139617204666,0.15304067730903625,0.03294244036078453,0.07643742114305496,0.04519454389810562,-0.15363089740276337,-0.42533063888549805,-0.2983846962451935,-0.07393325865268707,0.29952308535575867,-0.13501030206680298,0.20624896883964539,-0.03352154418826103,-0.011497006751596928,0.03709668293595314,-0.057950593531131744,0.10160010308027267,0.10331293940544128,-0.14578503370285034,0.08626531809568405,0.0,0.0,0.0,0.0,0.0,0.0,0.0,0.0,2.413716795879317e-12,0.0,0.0,0.0,0.0,0.0,0.0,0.0,0.0,0.0,0.0,0.0,0.0,0.0,0.0,0.0,0.0,0.0],[-0.5114939212799072,0.11814042925834656,0.3518865704536438,-0.028033794835209846,0.06436733901500702,-0.21982546150684357,0.02792634628713131,-0.17406940460205078,-0.021373920142650604,0.15406818687915802,-0.18563801050186157,0.32218798995018005,-0.1185547485947609,0.32610923051834106,-0.22334520518779755,-0.02233579009771347,-0.21437981724739075,-0.07645078003406525,0.02577470801770687,0.2535116970539093,0.17201082408428192,-0.03295384347438812,-0.012312726117670536,-0.09648091346025467,-0.025766924023628235,-0.05061941593885422,-0.04020382836461067,0.07936829328536987,-0.03471360728144646,0.056133706122636795,-0.020543118938803673,-0.022845955565571785,-0.04232016205787659,0.061017956584692,0.04417392238974571,0.013646835461258888,-0.04535101726651192,0.0,0.0,0.0,0.0,0.0,0.0,0.0,0.0,1.141517089187083e-11,0.0,0.0,0.0,0.0,0.0,0.0,0.0,0.0,0.0,0.0,0.0,0.0,0.0,0.0,0.0,0.0,0.0],[-0.052810486406087875,-0.03259897232055664,0.01504946406930685,0.06807924062013626,-0.04048512130975723,-0.2619420886039734,-0.16056890785694122,0.10975053161382675,0.2684519290924072,0.2025028020143509,0.16665390133857727,-0.2449924349784851,0.2336321622133255,0.11562667787075043,-0.30718281865119934,-0.16356706619262695,0.1151539534330368,-0.034311093389987946,0.08319750428199768,0.06191915273666382,0.038018468767404556,-0.017867811024188995,0.06852740794420242,0.11352543532848358,-0.2707667052745819,-0.03331200033426285,-0.008690297603607178,-0.0439772754907608,-0.07930639386177063,-0.36254552006721497,-0.25158801674842834,0.07639621943235397,0.15564028918743134,-0.28480473160743713,-0.07808412611484528,-0.027313774451613426,0.23077258467674255,0.0,0.0,0.0,0.0,0.0,0.0,0.0,0.0,-1.5623781782214685e-11,0.0,0.0,0.0,0.0,0.0,0.0,0.0,0.0,0.0,0.0,0.0,0.0,0.0,0.0,0.0,0.0,0.0],[0.022660689428448677,-0.039794087409973145,-0.03227771818637848,-0.10422474145889282,-0.0010801430325955153,-0.07659725099802017,0.07150416076183319,0.05412750318646431,-0.09235178679227829,0.1718277633190155,-0.11914070695638657,-0.11575435847043991,-0.03800221532583237,0.0562080480158329,-0.10625792294740677,-0.036399904638528824,0.0977821871638298,-0.0018332544714212418,-0.14979174733161926,-0.0726284608244896,0.016376662999391556,0.10070228576660156,-0.132998526096344,0.01261252909898758,0.05934645235538483,0.1666588932275772,0.1111004501581192,-0.07872048020362854,-0.05461245775222778,0.19071997702121735,0.06786499172449112,-0.3703405559062958,0.3192637860774994,-0.1641492396593094,0.6062223315238953,0.2577343285083771,0.1730135679244995,0.0,0.0,0.0,0.0,0.0,0.0,0.0,0.0,3.8029496218783265e-11,0.0,0.0,0.0,0.0,0.0,0.0,0.0,0.0,0.0,0.0,0.0,0.0,0.0,0.0,0.0,0.0,0.0],[-0.20356616377830505,0.03485548868775368,-0.23453691601753235,0.15323996543884277,-0.10170309990644455,0.11653976142406464,0.19198951125144958,-0.02267489768564701,-0.399481862783432,-0.10216578841209412,0.03913906589150429,-0.20433884859085083,0.15382038056850433,0.1414463371038437,-0.06367646902799606,-0.14721159636974335,-0.202375590801239,-0.015108326449990273,-0.29209303855895996,-0.02095807157456875,0.04632086306810379,-0.11389248073101044,0.041256971657276154,-0.20698493719100952,-0.04579127952456474,0.040392179042100906,0.23188844323158264,0.16523222625255585,0.12592992186546326,0.19129082560539246,-0.07054528594017029,0.29302871227264404,0.1269596517086029,-0.20316334068775177,-0.1771305501461029,0.10601916164159775,0.14194892346858978,0.0,0.0,0.0,0.0,0.0,0.0,0.0,0.0,-5.353983315720123e-12,0.0,0.0,0.0,0.0,0.0,0.0,0.0,0.0,0.0,0.0,0.0,0.0,0.0,0.0,0.0,0.0,0.0],[0.19226239621639252,0.4580633044242859,-0.004177406895905733,-0.14382661879062653,0.4038548469543457,-0.1393994837999344,0.14058147370815277,-0.05363530293107033,-0.024527478963136673,0.18523091077804565,0.011069121770560741,-0.17383812367916107,-0.02873922698199749,0.00924463476985693,0.3843022584915161,-0.45655950903892517,-0.07412417232990265,-0.028633618727326393,0.09701072424650192,0.1988954097032547,0.02677028998732567,-0.02122015878558159,-0.04186582565307617,-0.08913801610469818,0.04048801213502884,0.15595465898513794,-0.020469091832637787,-0.00911357905715704,0.03112656995654106,-0.05727753788232803,-0.02421484887599945,-0.022547833621501923,-0.015113153494894505,0.0036876464728266,-0.07164636999368668,0.02751915156841278,0.03087521530687809,0.0,0.0,0.0,0.0,0.0,0.0,0.0,0.0,1.7223287032686052e-11,0.0,0.0,0.0,0.0,0.0,0.0,0.0,0.0,0.0,0.0,0.0,0.0,0.0,0.0,0.0,0.0,0.0],[0.0,0.0,0.0,0.0,0.0,0.0,0.0,0.0,0.0,0.0,0.0,0.0,0.0,0.0,0.0,0.0,0.0,0.0,0.0,0.0,0.0,0.0,0.0,0.0,0.0,0.0,0.0,0.0,0.0,0.0,0.0,0.0,0.0,0.0,0.0,0.0,0.0,0.0,0.0,0.0,0.0,0.0,0.0,0.0,0.0,0.0,0.0,0.0,0.0,0.0,0.0,0.0,0.0,0.0,0.0,0.0,0.0,1.0,0.0,0.0,0.0,0.0,0.0],[0.0,0.0,0.0,0.0,0.0,0.0,0.0,0.0,0.0,0.0,0.0,0.0,0.0,0.0,0.0,0.0,0.0,0.0,0.0,0.0,0.0,0.0,0.0,0.0,0.0,0.0,0.0,0.0,0.0,0.0,0.0,0.0,0.0,0.0,0.0,0.0,0.0,0.0,0.0,0.0,0.0,0.0,0.0,0.0,0.0,0.0,0.0,0.0,0.0,0.0,0.0,0.0,0.0,0.0,1.0,0.0,0.0,0.0,0.0,0.0,0.0,0.0,0.0],[0.0,0.0,0.0,0.0,0.0,0.0,0.0,0.0,0.0,0.0,0.0,0.0,0.0,0.0,0.0,0.0,0.0,0.0,0.0,0.0,0.0,0.0,0.0,0.0,0.0,0.0,0.0,0.0,0.0,0.0,0.0,0.0,0.0,0.0,0.0,0.0,0.0,0.0,0.0,0.0,0.0,0.0,0.0,0.0,0.0,0.0,0.0,0.0,0.0,0.0,0.0,0.0,1.0,0.0,0.0,0.0,0.0,0.0,0.0,0.0,0.0,0.0,0.0],[0.0,0.0,0.0,0.0,0.0,0.0,0.0,0.0,0.0,0.0,0.0,0.0,0.0,0.0,0.0,0.0,0.0,0.0,0.0,0.0,0.0,0.0,0.0,0.0,0.0,0.0,0.0,0.0,0.0,0.0,0.0,0.0,0.0,0.0,0.0,0.0,0.0,0.0,0.0,0.0,0.0,0.0,0.0,0.0,0.0,0.0,0.0,0.0,0.0,0.0,1.0,0.0,0.0,0.0,0.0,0.0,0.0,0.0,0.0,0.0,0.0,0.0,0.0],[0.0,0.0,0.0,0.0,0.0,0.0,0.0,0.0,0.0,0.0,0.0,0.0,0.0,0.0,0.0,0.0,0.0,0.0,0.0,0.0,0.0,0.0,0.0,0.0,0.0,0.0,0.0,0.0,0.0,0.0,0.0,0.0,0.0,0.0,0.0,0.0,0.0,0.0,1.0,0.0,0.0,0.0,0.0,0.0,0.0,0.0,0.0,0.0,0.0,0.0,0.0,0.0,0.0,0.0,0.0,0.0,0.0,0.0,0.0,0.0,0.0,0.0,0.0],[0.0,0.0,0.0,0.0,0.0,0.0,0.0,0.0,0.0,0.0,0.0,0.0,0.0,0.0,0.0,0.0,0.0,0.0,0.0,0.0,0.0,0.0,0.0,0.0,0.0,0.0,0.0,0.0,0.0,0.0,0.0,0.0,0.0,0.0,0.0,0.0,0.0,0.0,0.0,0.0,0.0,0.0,0.0,0.0,0.0,0.0,0.0,0.0,0.0,0.0,0.0,0.0,0.0,0.0,0.0,0.0,1.0,0.0,0.0,0.0,0.0,0.0,0.0],[0.0,0.0,0.0,0.0,0.0,0.0,0.0,0.0,0.0,0.0,0.0,0.0,0.0,0.0,0.0,0.0,0.0,0.0,0.0,0.0,0.0,0.0,0.0,0.0,0.0,0.0,0.0,0.0,0.0,0.0,0.0,0.0,0.0,0.0,0.0,0.0,0.0,0.0,0.0,0.0,0.0,0.0,1.0,0.0,0.0,0.0,0.0,0.0,0.0,0.0,0.0,0.0,0.0,0.0,0.0,0.0,0.0,0.0,0.0,0.0,0.0,0.0,0.0],[0.0,0.0,0.0,0.0,0.0,0.0,0.0,0.0,0.0,0.0,0.0,0.0,0.0,0.0,0.0,0.0,0.0,0.0,0.0,0.0,0.0,0.0,0.0,0.0,0.0,0.0,0.0,0.0,0.0,0.0,0.0,0.0,0.0,0.0,0.0,0.0,0.0,0.0,0.0,0.0,0.0,0.0,0.0,0.0,0.0,0.0,0.0,1.0,0.0,0.0,0.0,0.0,0.0,0.0,0.0,0.0,0.0,0.0,0.0,0.0,0.0,0.0,0.0],[0.0,0.0,0.0,0.0,0.0,0.0,0.0,0.0,0.0,0.0,0.0,0.0,0.0,0.0,0.0,0.0,0.0,0.0,0.0,0.0,0.0,0.0,0.0,0.0,0.0,0.0,0.0,0.0,0.0,0.0,0.0,0.0,0.0,0.0,0.0,0.0,0.0,0.0,0.0,0.0,0.0,0.0,0.0,0.0,0.0,0.0,0.0,0.0,0.0,1.0,0.0,0.0,0.0,0.0,0.0,0.0,0.0,0.0,0.0,0.0,0.0,0.0,0.0],[0.0,0.0,0.0,0.0,0.0,0.0,0.0,0.0,0.0,0.0,0.0,0.0,0.0,0.0,0.0,0.0,0.0,0.0,0.0,0.0,0.0,0.0,0.0,0.0,0.0,0.0,0.0,0.0,0.0,0.0,0.0,0.0,0.0,0.0,0.0,0.0,0.0,1.0,0.0,0.0,0.0,0.0,0.0,0.0,0.0,0.0,0.0,0.0,0.0,0.0,0.0,0.0,0.0,0.0,0.0,0.0,0.0,0.0,0.0,0.0,0.0,0.0,0.0],[0.0,0.0,0.0,0.0,0.0,0.0,0.0,0.0,0.0,0.0,0.0,0.0,0.0,0.0,0.0,0.0,0.0,0.0,0.0,0.0,0.0,0.0,0.0,0.0,0.0,0.0,0.0,0.0,0.0,0.0,0.0,0.0,0.0,0.0,0.0,0.0,0.0,0.0,0.0,0.0,0.0,0.0,0.0,0.0,0.0,0.0,0.0,0.0,0.0,0.0,0.0,0.0,0.0,0.0,0.0,1.0,0.0,0.0,0.0,0.0,0.0,0.0,0.0],[0.0,0.0,0.0,0.0,0.0,0.0,0.0,0.0,0.0,0.0,0.0,0.0,0.0,0.0,0.0,0.0,0.0,0.0,0.0,0.0,0.0,0.0,0.0,0.0,0.0,0.0,0.0,0.0,0.0,0.0,0.0,0.0,0.0,0.0,0.0,0.0,0.0,0.0,0.0,0.0,0.0,1.0,0.0,0.0,0.0,0.0,0.0,0.0,0.0,0.0,0.0,0.0,0.0,0.0,0.0,0.0,0.0,0.0,0.0,0.0,0.0,0.0,0.0],[0.0,0.0,0.0,0.0,0.0,0.0,0.0,0.0,0.0,0.0,0.0,0.0,0.0,0.0,0.0,0.0,0.0,0.0,0.0,0.0,0.0,0.0,0.0,0.0,0.0,0.0,0.0,0.0,0.0,0.0,0.0,0.0,0.0,0.0,0.0,0.0,0.0,0.0,0.0,0.0,0.0,0.0,0.0,0.0,1.0,0.0,0.0,0.0,0.0,0.0,0.0,0.0,0.0,0.0,0.0,0.0,0.0,0.0,0.0,0.0,0.0,0.0,0.0],[0.0,0.0,0.0,0.0,0.0,0.0,0.0,0.0,0.0,0.0,0.0,0.0,0.0,0.0,0.0,0.0,0.0,0.0,0.0,0.0,0.0,0.0,0.0,0.0,0.0,0.0,0.0,0.0,0.0,0.0,0.0,0.0,0.0,0.0,0.0,0.0,0.0,0.0,0.0,0.0,0.0,0.0,0.0,0.0,0.0,0.0,0.0,0.0,0.0,0.0,0.0,0.0,0.0,0.0,0.0,0.0,0.0,0.0,0.0,0.0,1.0,0.0,0.0],[0.0,0.0,0.0,0.0,0.0,0.0,0.0,0.0,0.0,0.0,0.0,0.0,0.0,0.0,0.0,0.0,0.0,0.0,0.0,0.0,0.0,0.0,0.0,0.0,0.0,0.0,0.0,0.0,0.0,0.0,0.0,0.0,0.0,0.0,0.0,0.0,0.0,0.0,0.0,1.0,0.0,0.0,0.0,0.0,0.0,0.0,0.0,0.0,0.0,0.0,0.0,0.0,0.0,0.0,0.0,0.0,0.0,0.0,0.0,0.0,0.0,0.0,0.0],[0.0,0.0,0.0,0.0,0.0,0.0,0.0,0.0,0.0,0.0,0.0,0.0,0.0,0.0,0.0,0.0,0.0,0.0,0.0,0.0,0.0,0.0,0.0,0.0,0.0,0.0,0.0,0.0,0.0,0.0,0.0,0.0,0.0,0.0,0.0,0.0,0.0,0.0,0.0,0.0,0.0,0.0,0.0,0.0,0.0,0.0,0.0,0.0,1.0,0.0,0.0,0.0,0.0,0.0,0.0,0.0,0.0,0.0,0.0,0.0,0.0,0.0,0.0],[0.0,0.0,0.0,0.0,0.0,0.0,0.0,0.0,0.0,0.0,0.0,0.0,0.0,0.0,0.0,0.0,0.0,0.0,0.0,0.0,0.0,0.0,0.0,0.0,0.0,0.0,0.0,0.0,0.0,0.0,0.0,0.0,0.0,0.0,0.0,0.0,0.0,0.0,0.0,0.0,1.0,0.0,0.0,0.0,0.0,0.0,0.0,0.0,0.0,0.0,0.0,0.0,0.0,0.0,0.0,0.0,0.0,0.0,0.0,0.0,0.0,0.0,0.0],[0.0,0.0,0.0,0.0,0.0,0.0,0.0,0.0,0.0,0.0,0.0,0.0,0.0,0.0,0.0,0.0,0.0,0.0,0.0,0.0,0.0,0.0,0.0,0.0,0.0,0.0,0.0,0.0,0.0,0.0,0.0,0.0,0.0,0.0,0.0,0.0,0.0,0.0,0.0,0.0,0.0,0.0,0.0,0.0,0.0,0.0,1.0,0.0,0.0,0.0,0.0,0.0,0.0,0.0,0.0,0.0,0.0,0.0,0.0,0.0,0.0,0.0,0.0],[0.0,0.0,0.0,0.0,0.0,0.0,0.0,0.0,0.0,0.0,0.0,0.0,0.0,0.0,0.0,0.0,0.0,0.0,0.0,0.0,0.0,0.0,0.0,0.0,0.0,0.0,0.0,0.0,0.0,0.0,0.0,0.0,0.0,0.0,0.0,0.0,0.0,0.0,0.0,0.0,0.0,0.0,0.0,0.0,0.0,0.0,0.0,0.0,0.0,0.0,0.0,0.0,0.0,0.0,0.0,0.0,0.0,0.0,0.0,0.0,0.0,0.0,1.0],[0.0,0.0,0.0,0.0,0.0,0.0,0.0,0.0,0.0,0.0,0.0,0.0,0.0,0.0,0.0,0.0,0.0,0.0,0.0,0.0,0.0,0.0,0.0,0.0,0.0,0.0,0.0,0.0,0.0,0.0,0.0,0.0,0.0,0.0,0.0,0.0,0.0,0.0,0.0,0.0,0.0,0.0,0.0,0.0,0.0,0.0,0.0,0.0,0.0,0.0,0.0,1.0,0.0,0.0,0.0,0.0,0.0,0.0,0.0,0.0,0.0,0.0,0.0],[0.0,0.0,0.0,0.0,0.0,0.0,0.0,0.0,0.0,0.0,0.0,0.0,0.0,0.0,0.0,0.0,0.0,0.0,0.0,0.0,0.0,0.0,0.0,0.0,0.0,0.0,0.0,0.0,0.0,0.0,0.0,0.0,0.0,0.0,0.0,0.0,0.0,0.0,0.0,0.0,0.0,0.0,0.0,1.0,0.0,0.0,0.0,0.0,0.0,0.0,0.0,0.0,0.0,0.0,0.0,0.0,0.0,0.0,0.0,0.0,0.0,0.0,0.0],[0.0,0.0,0.0,0.0,0.0,0.0,0.0,0.0,0.0,0.0,0.0,0.0,0.0,0.0,0.0,0.0,0.0,0.0,0.0,0.0,0.0,0.0,0.0,0.0,0.0,0.0,0.0,0.0,0.0,0.0,0.0,0.0,0.0,0.0,0.0,0.0,0.0,0.0,0.0,0.0,0.0,0.0,0.0,0.0,0.0,0.0,0.0,0.0,0.0,0.0,0.0,0.0,0.0,0.0,0.0,0.0,0.0,0.0,0.0,1.0,0.0,0.0,0.0],[0.0,0.0,0.0,0.0,0.0,0.0,0.0,0.0,0.0,0.0,0.0,0.0,0.0,0.0,0.0,0.0,0.0,0.0,0.0,0.0,0.0,0.0,0.0,0.0,0.0,0.0,0.0,0.0,0.0,0.0,0.0,0.0,0.0,0.0,0.0,0.0,0.0,0.0,0.0,0.0,0.0,0.0,0.0,0.0,0.0,0.0,0.0,0.0,0.0,0.0,0.0,0.0,0.0,0.0,0.0,0.0,0.0,0.0,1.0,0.0,0.0,0.0,0.0],[0.0,0.0,0.0,0.0,0.0,0.0,0.0,0.0,0.0,0.0,0.0,0.0,0.0,0.0,0.0,0.0,0.0,0.0,0.0,0.0,0.0,0.0,0.0,0.0,0.0,0.0,0.0,0.0,0.0,0.0,0.0,0.0,0.0,0.0,0.0,0.0,0.0,0.0,0.0,0.0,0.0,0.0,0.0,0.0,0.0,0.0,0.0,0.0,0.0,0.0,0.0,0.0,0.0,0.0,0.0,0.0,0.0,0.0,0.0,0.0,0.0,1.0,0.0],[0.0,0.0,0.0,0.0,0.0,0.0,0.0,0.0,0.0,0.0,0.0,0.0,0.0,0.0,0.0,0.0,0.0,0.0,0.0,0.0,0.0,0.0,0.0,0.0,0.0,0.0,0.0,0.0,0.0,0.0,0.0,0.0,0.0,0.0,0.0,0.0,0.0,0.0,0.0,0.0,0.0,0.0,0.0,0.0,0.0,0.0,0.0,0.0,0.0,0.0,0.0,0.0,0.0,1.0,0.0,0.0,0.0,0.0,0.0,0.0,0.0,0.0,0.0]],\"type\":\"heatmap\",\"xaxis\":\"x\",\"yaxis\":\"y\",\"hovertemplate\":\"x: %{x}\\u003cbr\\u003ey: %{y}\\u003cbr\\u003ecolor: %{z}\\u003cextra\\u003e\\u003c\\u002fextra\\u003e\"}],                        {\"template\":{\"data\":{\"histogram2dcontour\":[{\"type\":\"histogram2dcontour\",\"colorbar\":{\"outlinewidth\":0,\"ticks\":\"\"},\"colorscale\":[[0.0,\"#0d0887\"],[0.1111111111111111,\"#46039f\"],[0.2222222222222222,\"#7201a8\"],[0.3333333333333333,\"#9c179e\"],[0.4444444444444444,\"#bd3786\"],[0.5555555555555556,\"#d8576b\"],[0.6666666666666666,\"#ed7953\"],[0.7777777777777778,\"#fb9f3a\"],[0.8888888888888888,\"#fdca26\"],[1.0,\"#f0f921\"]]}],\"choropleth\":[{\"type\":\"choropleth\",\"colorbar\":{\"outlinewidth\":0,\"ticks\":\"\"}}],\"histogram2d\":[{\"type\":\"histogram2d\",\"colorbar\":{\"outlinewidth\":0,\"ticks\":\"\"},\"colorscale\":[[0.0,\"#0d0887\"],[0.1111111111111111,\"#46039f\"],[0.2222222222222222,\"#7201a8\"],[0.3333333333333333,\"#9c179e\"],[0.4444444444444444,\"#bd3786\"],[0.5555555555555556,\"#d8576b\"],[0.6666666666666666,\"#ed7953\"],[0.7777777777777778,\"#fb9f3a\"],[0.8888888888888888,\"#fdca26\"],[1.0,\"#f0f921\"]]}],\"heatmap\":[{\"type\":\"heatmap\",\"colorbar\":{\"outlinewidth\":0,\"ticks\":\"\"},\"colorscale\":[[0.0,\"#0d0887\"],[0.1111111111111111,\"#46039f\"],[0.2222222222222222,\"#7201a8\"],[0.3333333333333333,\"#9c179e\"],[0.4444444444444444,\"#bd3786\"],[0.5555555555555556,\"#d8576b\"],[0.6666666666666666,\"#ed7953\"],[0.7777777777777778,\"#fb9f3a\"],[0.8888888888888888,\"#fdca26\"],[1.0,\"#f0f921\"]]}],\"heatmapgl\":[{\"type\":\"heatmapgl\",\"colorbar\":{\"outlinewidth\":0,\"ticks\":\"\"},\"colorscale\":[[0.0,\"#0d0887\"],[0.1111111111111111,\"#46039f\"],[0.2222222222222222,\"#7201a8\"],[0.3333333333333333,\"#9c179e\"],[0.4444444444444444,\"#bd3786\"],[0.5555555555555556,\"#d8576b\"],[0.6666666666666666,\"#ed7953\"],[0.7777777777777778,\"#fb9f3a\"],[0.8888888888888888,\"#fdca26\"],[1.0,\"#f0f921\"]]}],\"contourcarpet\":[{\"type\":\"contourcarpet\",\"colorbar\":{\"outlinewidth\":0,\"ticks\":\"\"}}],\"contour\":[{\"type\":\"contour\",\"colorbar\":{\"outlinewidth\":0,\"ticks\":\"\"},\"colorscale\":[[0.0,\"#0d0887\"],[0.1111111111111111,\"#46039f\"],[0.2222222222222222,\"#7201a8\"],[0.3333333333333333,\"#9c179e\"],[0.4444444444444444,\"#bd3786\"],[0.5555555555555556,\"#d8576b\"],[0.6666666666666666,\"#ed7953\"],[0.7777777777777778,\"#fb9f3a\"],[0.8888888888888888,\"#fdca26\"],[1.0,\"#f0f921\"]]}],\"surface\":[{\"type\":\"surface\",\"colorbar\":{\"outlinewidth\":0,\"ticks\":\"\"},\"colorscale\":[[0.0,\"#0d0887\"],[0.1111111111111111,\"#46039f\"],[0.2222222222222222,\"#7201a8\"],[0.3333333333333333,\"#9c179e\"],[0.4444444444444444,\"#bd3786\"],[0.5555555555555556,\"#d8576b\"],[0.6666666666666666,\"#ed7953\"],[0.7777777777777778,\"#fb9f3a\"],[0.8888888888888888,\"#fdca26\"],[1.0,\"#f0f921\"]]}],\"mesh3d\":[{\"type\":\"mesh3d\",\"colorbar\":{\"outlinewidth\":0,\"ticks\":\"\"}}],\"scatter\":[{\"fillpattern\":{\"fillmode\":\"overlay\",\"size\":10,\"solidity\":0.2},\"type\":\"scatter\"}],\"parcoords\":[{\"type\":\"parcoords\",\"line\":{\"colorbar\":{\"outlinewidth\":0,\"ticks\":\"\"}}}],\"scatterpolargl\":[{\"type\":\"scatterpolargl\",\"marker\":{\"colorbar\":{\"outlinewidth\":0,\"ticks\":\"\"}}}],\"bar\":[{\"error_x\":{\"color\":\"#2a3f5f\"},\"error_y\":{\"color\":\"#2a3f5f\"},\"marker\":{\"line\":{\"color\":\"#E5ECF6\",\"width\":0.5},\"pattern\":{\"fillmode\":\"overlay\",\"size\":10,\"solidity\":0.2}},\"type\":\"bar\"}],\"scattergeo\":[{\"type\":\"scattergeo\",\"marker\":{\"colorbar\":{\"outlinewidth\":0,\"ticks\":\"\"}}}],\"scatterpolar\":[{\"type\":\"scatterpolar\",\"marker\":{\"colorbar\":{\"outlinewidth\":0,\"ticks\":\"\"}}}],\"histogram\":[{\"marker\":{\"pattern\":{\"fillmode\":\"overlay\",\"size\":10,\"solidity\":0.2}},\"type\":\"histogram\"}],\"scattergl\":[{\"type\":\"scattergl\",\"marker\":{\"colorbar\":{\"outlinewidth\":0,\"ticks\":\"\"}}}],\"scatter3d\":[{\"type\":\"scatter3d\",\"line\":{\"colorbar\":{\"outlinewidth\":0,\"ticks\":\"\"}},\"marker\":{\"colorbar\":{\"outlinewidth\":0,\"ticks\":\"\"}}}],\"scattermapbox\":[{\"type\":\"scattermapbox\",\"marker\":{\"colorbar\":{\"outlinewidth\":0,\"ticks\":\"\"}}}],\"scatterternary\":[{\"type\":\"scatterternary\",\"marker\":{\"colorbar\":{\"outlinewidth\":0,\"ticks\":\"\"}}}],\"scattercarpet\":[{\"type\":\"scattercarpet\",\"marker\":{\"colorbar\":{\"outlinewidth\":0,\"ticks\":\"\"}}}],\"carpet\":[{\"aaxis\":{\"endlinecolor\":\"#2a3f5f\",\"gridcolor\":\"white\",\"linecolor\":\"white\",\"minorgridcolor\":\"white\",\"startlinecolor\":\"#2a3f5f\"},\"baxis\":{\"endlinecolor\":\"#2a3f5f\",\"gridcolor\":\"white\",\"linecolor\":\"white\",\"minorgridcolor\":\"white\",\"startlinecolor\":\"#2a3f5f\"},\"type\":\"carpet\"}],\"table\":[{\"cells\":{\"fill\":{\"color\":\"#EBF0F8\"},\"line\":{\"color\":\"white\"}},\"header\":{\"fill\":{\"color\":\"#C8D4E3\"},\"line\":{\"color\":\"white\"}},\"type\":\"table\"}],\"barpolar\":[{\"marker\":{\"line\":{\"color\":\"#E5ECF6\",\"width\":0.5},\"pattern\":{\"fillmode\":\"overlay\",\"size\":10,\"solidity\":0.2}},\"type\":\"barpolar\"}],\"pie\":[{\"automargin\":true,\"type\":\"pie\"}]},\"layout\":{\"autotypenumbers\":\"strict\",\"colorway\":[\"#636efa\",\"#EF553B\",\"#00cc96\",\"#ab63fa\",\"#FFA15A\",\"#19d3f3\",\"#FF6692\",\"#B6E880\",\"#FF97FF\",\"#FECB52\"],\"font\":{\"color\":\"#2a3f5f\"},\"hovermode\":\"closest\",\"hoverlabel\":{\"align\":\"left\"},\"paper_bgcolor\":\"white\",\"plot_bgcolor\":\"#E5ECF6\",\"polar\":{\"bgcolor\":\"#E5ECF6\",\"angularaxis\":{\"gridcolor\":\"white\",\"linecolor\":\"white\",\"ticks\":\"\"},\"radialaxis\":{\"gridcolor\":\"white\",\"linecolor\":\"white\",\"ticks\":\"\"}},\"ternary\":{\"bgcolor\":\"#E5ECF6\",\"aaxis\":{\"gridcolor\":\"white\",\"linecolor\":\"white\",\"ticks\":\"\"},\"baxis\":{\"gridcolor\":\"white\",\"linecolor\":\"white\",\"ticks\":\"\"},\"caxis\":{\"gridcolor\":\"white\",\"linecolor\":\"white\",\"ticks\":\"\"}},\"coloraxis\":{\"colorbar\":{\"outlinewidth\":0,\"ticks\":\"\"}},\"colorscale\":{\"sequential\":[[0.0,\"#0d0887\"],[0.1111111111111111,\"#46039f\"],[0.2222222222222222,\"#7201a8\"],[0.3333333333333333,\"#9c179e\"],[0.4444444444444444,\"#bd3786\"],[0.5555555555555556,\"#d8576b\"],[0.6666666666666666,\"#ed7953\"],[0.7777777777777778,\"#fb9f3a\"],[0.8888888888888888,\"#fdca26\"],[1.0,\"#f0f921\"]],\"sequentialminus\":[[0.0,\"#0d0887\"],[0.1111111111111111,\"#46039f\"],[0.2222222222222222,\"#7201a8\"],[0.3333333333333333,\"#9c179e\"],[0.4444444444444444,\"#bd3786\"],[0.5555555555555556,\"#d8576b\"],[0.6666666666666666,\"#ed7953\"],[0.7777777777777778,\"#fb9f3a\"],[0.8888888888888888,\"#fdca26\"],[1.0,\"#f0f921\"]],\"diverging\":[[0,\"#8e0152\"],[0.1,\"#c51b7d\"],[0.2,\"#de77ae\"],[0.3,\"#f1b6da\"],[0.4,\"#fde0ef\"],[0.5,\"#f7f7f7\"],[0.6,\"#e6f5d0\"],[0.7,\"#b8e186\"],[0.8,\"#7fbc41\"],[0.9,\"#4d9221\"],[1,\"#276419\"]]},\"xaxis\":{\"gridcolor\":\"white\",\"linecolor\":\"white\",\"ticks\":\"\",\"title\":{\"standoff\":15,\"font\":{\"size\":20}},\"zerolinecolor\":\"white\",\"automargin\":true,\"zerolinewidth\":2},\"yaxis\":{\"gridcolor\":\"white\",\"linecolor\":\"white\",\"ticks\":\"\",\"title\":{\"standoff\":15,\"font\":{\"size\":20}},\"zerolinecolor\":\"white\",\"automargin\":true,\"zerolinewidth\":2},\"scene\":{\"xaxis\":{\"backgroundcolor\":\"#E5ECF6\",\"gridcolor\":\"white\",\"linecolor\":\"white\",\"showbackground\":true,\"ticks\":\"\",\"zerolinecolor\":\"white\",\"gridwidth\":2},\"yaxis\":{\"backgroundcolor\":\"#E5ECF6\",\"gridcolor\":\"white\",\"linecolor\":\"white\",\"showbackground\":true,\"ticks\":\"\",\"zerolinecolor\":\"white\",\"gridwidth\":2},\"zaxis\":{\"backgroundcolor\":\"#E5ECF6\",\"gridcolor\":\"white\",\"linecolor\":\"white\",\"showbackground\":true,\"ticks\":\"\",\"zerolinecolor\":\"white\",\"gridwidth\":2}},\"shapedefaults\":{\"line\":{\"color\":\"#2a3f5f\"}},\"annotationdefaults\":{\"arrowcolor\":\"#2a3f5f\",\"arrowhead\":0,\"arrowwidth\":1},\"geo\":{\"bgcolor\":\"white\",\"landcolor\":\"#E5ECF6\",\"subunitcolor\":\"white\",\"showland\":true,\"showlakes\":true,\"lakecolor\":\"white\"},\"title\":{\"x\":0.05,\"font\":{\"size\":30}},\"mapbox\":{\"style\":\"light\"}}},\"xaxis\":{\"anchor\":\"y\",\"domain\":[0.0,1.0],\"scaleanchor\":\"y\",\"constrain\":\"domain\"},\"yaxis\":{\"anchor\":\"x\",\"domain\":[0.0,1.0],\"autorange\":\"reversed\",\"constrain\":\"domain\"},\"coloraxis\":{\"colorscale\":[[0.0,\"rgb(103,0,31)\"],[0.1,\"rgb(178,24,43)\"],[0.2,\"rgb(214,96,77)\"],[0.3,\"rgb(244,165,130)\"],[0.4,\"rgb(253,219,199)\"],[0.5,\"rgb(247,247,247)\"],[0.6,\"rgb(209,229,240)\"],[0.7,\"rgb(146,197,222)\"],[0.8,\"rgb(67,147,195)\"],[0.9,\"rgb(33,102,172)\"],[1.0,\"rgb(5,48,97)\"]],\"cmid\":0.0},\"title\":{\"text\":\"Principal Components on the Input\"}},                        {\"responsive\": true}                    ).then(function(){\n",
              "                            \n",
              "var gd = document.getElementById('d6714635-8296-4c9f-bfa1-a9c7215477ac');\n",
              "var x = new MutationObserver(function (mutations, observer) {{\n",
              "        var display = window.getComputedStyle(gd).display;\n",
              "        if (!display || display === 'none') {{\n",
              "            console.log([gd, 'removed!']);\n",
              "            Plotly.purge(gd);\n",
              "            observer.disconnect();\n",
              "        }}\n",
              "}});\n",
              "\n",
              "// Listen for the removal of the full notebook cells\n",
              "var notebookContainer = gd.closest('#notebook-container');\n",
              "if (notebookContainer) {{\n",
              "    x.observe(notebookContainer, {childList: true});\n",
              "}}\n",
              "\n",
              "// Listen for the clearing of the current output cell\n",
              "var outputEl = gd.closest('.output');\n",
              "if (outputEl) {{\n",
              "    x.observe(outputEl, {childList: true});\n",
              "}}\n",
              "\n",
              "                        })                };                            </script>        </div>\n",
              "</body>\n",
              "</html>"
            ]
          },
          "metadata": {}
        }
      ],
      "source": [
        "U, S, Vh = torch.svd(W_E)\n",
        "line(S, title=\"Singular Values\")\n",
        "imshow(U, title=\"Principal Components on the Input\")"
      ]
    },
    {
      "cell_type": "code",
      "execution_count": null,
      "metadata": {
        "id": "VQtmTnkDQTaT",
        "colab": {
          "base_uri": "https://localhost:8080/",
          "height": 1000
        },
        "outputId": "f69b23dd-9e8e-43ce-ef70-4846143e17e1"
      },
      "outputs": [
        {
          "output_type": "display_data",
          "data": {
            "text/html": [
              "<html>\n",
              "<head><meta charset=\"utf-8\" /></head>\n",
              "<body>\n",
              "    <div>            <script src=\"https://cdnjs.cloudflare.com/ajax/libs/mathjax/2.7.5/MathJax.js?config=TeX-AMS-MML_SVG\"></script><script type=\"text/javascript\">if (window.MathJax && window.MathJax.Hub && window.MathJax.Hub.Config) {window.MathJax.Hub.Config({SVG: {font: \"STIX-Web\"}});}</script>                <script type=\"text/javascript\">window.PlotlyConfig = {MathJaxConfig: 'local'};</script>\n",
              "        <script charset=\"utf-8\" src=\"https://cdn.plot.ly/plotly-2.24.1.min.js\"></script>                <div id=\"752f8aee-ecac-4e28-a653-4fe9a8333862\" class=\"plotly-graph-div\" style=\"height:525px; width:100%;\"></div>            <script type=\"text/javascript\">                                    window.PLOTLYENV=window.PLOTLYENV || {};                                    if (document.getElementById(\"752f8aee-ecac-4e28-a653-4fe9a8333862\")) {                    Plotly.newPlot(                        \"752f8aee-ecac-4e28-a653-4fe9a8333862\",                        [{\"hovertemplate\":\"x=%{x}\\u003cbr\\u003ey=%{y}\\u003cextra\\u003e\\u003c\\u002fextra\\u003e\",\"legendgroup\":\"\",\"line\":{\"color\":\"#636efa\",\"dash\":\"solid\"},\"marker\":{\"symbol\":\"circle\"},\"mode\":\"lines\",\"name\":\"\",\"orientation\":\"v\",\"showlegend\":false,\"x\":[0,1,2,3,4,5,6,7,8,9,10,11,12,13,14,15,16,17,18,19,20,21,22,23,24,25,26,27,28,29,30,31,32,33,34,35,36,37,38,39,40,41,42,43,44,45,46,47,48,49,50,51,52,53,54,55,56,57,58,59,60,61,62],\"xaxis\":\"x\",\"y\":[19.16394805908203,18.667821884155273,18.042251586914062,17.645538330078125,17.071313858032227,16.295970916748047,16.10010528564453,15.872621536254883,15.662127494812012,15.519953727722168,15.222346305847168,14.78256607055664,14.684959411621094,14.45578670501709,13.995438575744629,13.917596817016602,13.264205932617188,13.199965476989746,13.109206199645996,12.698610305786133,12.573456764221191,12.257418632507324,12.200273513793945,11.781716346740723,11.4679594039917,11.403329849243164,11.094871520996094,10.983553886413574,10.877071380615234,10.790714263916016,10.408915519714355,10.267130851745605,9.902254104614258,9.812911987304688,9.743022918701172,9.518622398376465,9.324356079101562,9.03055477142334,8.912067413330078,8.656770706176758,8.521763801574707,8.467279434204102,7.949891090393066,7.849390029907227,7.671353340148926,7.634325981140137,7.491576194763184,7.132609844207764,6.925420761108398,6.6201043128967285,6.562769412994385,6.2998456954956055,6.242942810058594,6.014161109924316,5.768579006195068,5.482518672943115,5.296404838562012,5.141331195831299,5.0138702392578125,4.782618045806885,4.297131061553955,4.050118923187256,3.439147472381592],\"yaxis\":\"y\",\"type\":\"scatter\"}],                        {\"template\":{\"data\":{\"histogram2dcontour\":[{\"type\":\"histogram2dcontour\",\"colorbar\":{\"outlinewidth\":0,\"ticks\":\"\"},\"colorscale\":[[0.0,\"#0d0887\"],[0.1111111111111111,\"#46039f\"],[0.2222222222222222,\"#7201a8\"],[0.3333333333333333,\"#9c179e\"],[0.4444444444444444,\"#bd3786\"],[0.5555555555555556,\"#d8576b\"],[0.6666666666666666,\"#ed7953\"],[0.7777777777777778,\"#fb9f3a\"],[0.8888888888888888,\"#fdca26\"],[1.0,\"#f0f921\"]]}],\"choropleth\":[{\"type\":\"choropleth\",\"colorbar\":{\"outlinewidth\":0,\"ticks\":\"\"}}],\"histogram2d\":[{\"type\":\"histogram2d\",\"colorbar\":{\"outlinewidth\":0,\"ticks\":\"\"},\"colorscale\":[[0.0,\"#0d0887\"],[0.1111111111111111,\"#46039f\"],[0.2222222222222222,\"#7201a8\"],[0.3333333333333333,\"#9c179e\"],[0.4444444444444444,\"#bd3786\"],[0.5555555555555556,\"#d8576b\"],[0.6666666666666666,\"#ed7953\"],[0.7777777777777778,\"#fb9f3a\"],[0.8888888888888888,\"#fdca26\"],[1.0,\"#f0f921\"]]}],\"heatmap\":[{\"type\":\"heatmap\",\"colorbar\":{\"outlinewidth\":0,\"ticks\":\"\"},\"colorscale\":[[0.0,\"#0d0887\"],[0.1111111111111111,\"#46039f\"],[0.2222222222222222,\"#7201a8\"],[0.3333333333333333,\"#9c179e\"],[0.4444444444444444,\"#bd3786\"],[0.5555555555555556,\"#d8576b\"],[0.6666666666666666,\"#ed7953\"],[0.7777777777777778,\"#fb9f3a\"],[0.8888888888888888,\"#fdca26\"],[1.0,\"#f0f921\"]]}],\"heatmapgl\":[{\"type\":\"heatmapgl\",\"colorbar\":{\"outlinewidth\":0,\"ticks\":\"\"},\"colorscale\":[[0.0,\"#0d0887\"],[0.1111111111111111,\"#46039f\"],[0.2222222222222222,\"#7201a8\"],[0.3333333333333333,\"#9c179e\"],[0.4444444444444444,\"#bd3786\"],[0.5555555555555556,\"#d8576b\"],[0.6666666666666666,\"#ed7953\"],[0.7777777777777778,\"#fb9f3a\"],[0.8888888888888888,\"#fdca26\"],[1.0,\"#f0f921\"]]}],\"contourcarpet\":[{\"type\":\"contourcarpet\",\"colorbar\":{\"outlinewidth\":0,\"ticks\":\"\"}}],\"contour\":[{\"type\":\"contour\",\"colorbar\":{\"outlinewidth\":0,\"ticks\":\"\"},\"colorscale\":[[0.0,\"#0d0887\"],[0.1111111111111111,\"#46039f\"],[0.2222222222222222,\"#7201a8\"],[0.3333333333333333,\"#9c179e\"],[0.4444444444444444,\"#bd3786\"],[0.5555555555555556,\"#d8576b\"],[0.6666666666666666,\"#ed7953\"],[0.7777777777777778,\"#fb9f3a\"],[0.8888888888888888,\"#fdca26\"],[1.0,\"#f0f921\"]]}],\"surface\":[{\"type\":\"surface\",\"colorbar\":{\"outlinewidth\":0,\"ticks\":\"\"},\"colorscale\":[[0.0,\"#0d0887\"],[0.1111111111111111,\"#46039f\"],[0.2222222222222222,\"#7201a8\"],[0.3333333333333333,\"#9c179e\"],[0.4444444444444444,\"#bd3786\"],[0.5555555555555556,\"#d8576b\"],[0.6666666666666666,\"#ed7953\"],[0.7777777777777778,\"#fb9f3a\"],[0.8888888888888888,\"#fdca26\"],[1.0,\"#f0f921\"]]}],\"mesh3d\":[{\"type\":\"mesh3d\",\"colorbar\":{\"outlinewidth\":0,\"ticks\":\"\"}}],\"scatter\":[{\"fillpattern\":{\"fillmode\":\"overlay\",\"size\":10,\"solidity\":0.2},\"type\":\"scatter\"}],\"parcoords\":[{\"type\":\"parcoords\",\"line\":{\"colorbar\":{\"outlinewidth\":0,\"ticks\":\"\"}}}],\"scatterpolargl\":[{\"type\":\"scatterpolargl\",\"marker\":{\"colorbar\":{\"outlinewidth\":0,\"ticks\":\"\"}}}],\"bar\":[{\"error_x\":{\"color\":\"#2a3f5f\"},\"error_y\":{\"color\":\"#2a3f5f\"},\"marker\":{\"line\":{\"color\":\"#E5ECF6\",\"width\":0.5},\"pattern\":{\"fillmode\":\"overlay\",\"size\":10,\"solidity\":0.2}},\"type\":\"bar\"}],\"scattergeo\":[{\"type\":\"scattergeo\",\"marker\":{\"colorbar\":{\"outlinewidth\":0,\"ticks\":\"\"}}}],\"scatterpolar\":[{\"type\":\"scatterpolar\",\"marker\":{\"colorbar\":{\"outlinewidth\":0,\"ticks\":\"\"}}}],\"histogram\":[{\"marker\":{\"pattern\":{\"fillmode\":\"overlay\",\"size\":10,\"solidity\":0.2}},\"type\":\"histogram\"}],\"scattergl\":[{\"type\":\"scattergl\",\"marker\":{\"colorbar\":{\"outlinewidth\":0,\"ticks\":\"\"}}}],\"scatter3d\":[{\"type\":\"scatter3d\",\"line\":{\"colorbar\":{\"outlinewidth\":0,\"ticks\":\"\"}},\"marker\":{\"colorbar\":{\"outlinewidth\":0,\"ticks\":\"\"}}}],\"scattermapbox\":[{\"type\":\"scattermapbox\",\"marker\":{\"colorbar\":{\"outlinewidth\":0,\"ticks\":\"\"}}}],\"scatterternary\":[{\"type\":\"scatterternary\",\"marker\":{\"colorbar\":{\"outlinewidth\":0,\"ticks\":\"\"}}}],\"scattercarpet\":[{\"type\":\"scattercarpet\",\"marker\":{\"colorbar\":{\"outlinewidth\":0,\"ticks\":\"\"}}}],\"carpet\":[{\"aaxis\":{\"endlinecolor\":\"#2a3f5f\",\"gridcolor\":\"white\",\"linecolor\":\"white\",\"minorgridcolor\":\"white\",\"startlinecolor\":\"#2a3f5f\"},\"baxis\":{\"endlinecolor\":\"#2a3f5f\",\"gridcolor\":\"white\",\"linecolor\":\"white\",\"minorgridcolor\":\"white\",\"startlinecolor\":\"#2a3f5f\"},\"type\":\"carpet\"}],\"table\":[{\"cells\":{\"fill\":{\"color\":\"#EBF0F8\"},\"line\":{\"color\":\"white\"}},\"header\":{\"fill\":{\"color\":\"#C8D4E3\"},\"line\":{\"color\":\"white\"}},\"type\":\"table\"}],\"barpolar\":[{\"marker\":{\"line\":{\"color\":\"#E5ECF6\",\"width\":0.5},\"pattern\":{\"fillmode\":\"overlay\",\"size\":10,\"solidity\":0.2}},\"type\":\"barpolar\"}],\"pie\":[{\"automargin\":true,\"type\":\"pie\"}]},\"layout\":{\"autotypenumbers\":\"strict\",\"colorway\":[\"#636efa\",\"#EF553B\",\"#00cc96\",\"#ab63fa\",\"#FFA15A\",\"#19d3f3\",\"#FF6692\",\"#B6E880\",\"#FF97FF\",\"#FECB52\"],\"font\":{\"color\":\"#2a3f5f\"},\"hovermode\":\"closest\",\"hoverlabel\":{\"align\":\"left\"},\"paper_bgcolor\":\"white\",\"plot_bgcolor\":\"#E5ECF6\",\"polar\":{\"bgcolor\":\"#E5ECF6\",\"angularaxis\":{\"gridcolor\":\"white\",\"linecolor\":\"white\",\"ticks\":\"\"},\"radialaxis\":{\"gridcolor\":\"white\",\"linecolor\":\"white\",\"ticks\":\"\"}},\"ternary\":{\"bgcolor\":\"#E5ECF6\",\"aaxis\":{\"gridcolor\":\"white\",\"linecolor\":\"white\",\"ticks\":\"\"},\"baxis\":{\"gridcolor\":\"white\",\"linecolor\":\"white\",\"ticks\":\"\"},\"caxis\":{\"gridcolor\":\"white\",\"linecolor\":\"white\",\"ticks\":\"\"}},\"coloraxis\":{\"colorbar\":{\"outlinewidth\":0,\"ticks\":\"\"}},\"colorscale\":{\"sequential\":[[0.0,\"#0d0887\"],[0.1111111111111111,\"#46039f\"],[0.2222222222222222,\"#7201a8\"],[0.3333333333333333,\"#9c179e\"],[0.4444444444444444,\"#bd3786\"],[0.5555555555555556,\"#d8576b\"],[0.6666666666666666,\"#ed7953\"],[0.7777777777777778,\"#fb9f3a\"],[0.8888888888888888,\"#fdca26\"],[1.0,\"#f0f921\"]],\"sequentialminus\":[[0.0,\"#0d0887\"],[0.1111111111111111,\"#46039f\"],[0.2222222222222222,\"#7201a8\"],[0.3333333333333333,\"#9c179e\"],[0.4444444444444444,\"#bd3786\"],[0.5555555555555556,\"#d8576b\"],[0.6666666666666666,\"#ed7953\"],[0.7777777777777778,\"#fb9f3a\"],[0.8888888888888888,\"#fdca26\"],[1.0,\"#f0f921\"]],\"diverging\":[[0,\"#8e0152\"],[0.1,\"#c51b7d\"],[0.2,\"#de77ae\"],[0.3,\"#f1b6da\"],[0.4,\"#fde0ef\"],[0.5,\"#f7f7f7\"],[0.6,\"#e6f5d0\"],[0.7,\"#b8e186\"],[0.8,\"#7fbc41\"],[0.9,\"#4d9221\"],[1,\"#276419\"]]},\"xaxis\":{\"gridcolor\":\"white\",\"linecolor\":\"white\",\"ticks\":\"\",\"title\":{\"standoff\":15,\"font\":{\"size\":20}},\"zerolinecolor\":\"white\",\"automargin\":true,\"zerolinewidth\":2},\"yaxis\":{\"gridcolor\":\"white\",\"linecolor\":\"white\",\"ticks\":\"\",\"title\":{\"standoff\":15,\"font\":{\"size\":20}},\"zerolinecolor\":\"white\",\"automargin\":true,\"zerolinewidth\":2},\"scene\":{\"xaxis\":{\"backgroundcolor\":\"#E5ECF6\",\"gridcolor\":\"white\",\"linecolor\":\"white\",\"showbackground\":true,\"ticks\":\"\",\"zerolinecolor\":\"white\",\"gridwidth\":2},\"yaxis\":{\"backgroundcolor\":\"#E5ECF6\",\"gridcolor\":\"white\",\"linecolor\":\"white\",\"showbackground\":true,\"ticks\":\"\",\"zerolinecolor\":\"white\",\"gridwidth\":2},\"zaxis\":{\"backgroundcolor\":\"#E5ECF6\",\"gridcolor\":\"white\",\"linecolor\":\"white\",\"showbackground\":true,\"ticks\":\"\",\"zerolinecolor\":\"white\",\"gridwidth\":2}},\"shapedefaults\":{\"line\":{\"color\":\"#2a3f5f\"}},\"annotationdefaults\":{\"arrowcolor\":\"#2a3f5f\",\"arrowhead\":0,\"arrowwidth\":1},\"geo\":{\"bgcolor\":\"white\",\"landcolor\":\"#E5ECF6\",\"subunitcolor\":\"white\",\"showland\":true,\"showlakes\":true,\"lakecolor\":\"white\"},\"title\":{\"x\":0.05,\"font\":{\"size\":30}},\"mapbox\":{\"style\":\"light\"}}},\"xaxis\":{\"anchor\":\"y\",\"domain\":[0.0,1.0],\"title\":{\"text\":\"x\"}},\"yaxis\":{\"anchor\":\"x\",\"domain\":[0.0,1.0],\"title\":{\"text\":\"y\"}},\"legend\":{\"tracegroupgap\":0},\"title\":{\"text\":\"Singular Values Random\"}},                        {\"responsive\": true}                    ).then(function(){\n",
              "                            \n",
              "var gd = document.getElementById('752f8aee-ecac-4e28-a653-4fe9a8333862');\n",
              "var x = new MutationObserver(function (mutations, observer) {{\n",
              "        var display = window.getComputedStyle(gd).display;\n",
              "        if (!display || display === 'none') {{\n",
              "            console.log([gd, 'removed!']);\n",
              "            Plotly.purge(gd);\n",
              "            observer.disconnect();\n",
              "        }}\n",
              "}});\n",
              "\n",
              "// Listen for the removal of the full notebook cells\n",
              "var notebookContainer = gd.closest('#notebook-container');\n",
              "if (notebookContainer) {{\n",
              "    x.observe(notebookContainer, {childList: true});\n",
              "}}\n",
              "\n",
              "// Listen for the clearing of the current output cell\n",
              "var outputEl = gd.closest('.output');\n",
              "if (outputEl) {{\n",
              "    x.observe(outputEl, {childList: true});\n",
              "}}\n",
              "\n",
              "                        })                };                            </script>        </div>\n",
              "</body>\n",
              "</html>"
            ]
          },
          "metadata": {}
        },
        {
          "output_type": "display_data",
          "data": {
            "text/html": [
              "<html>\n",
              "<head><meta charset=\"utf-8\" /></head>\n",
              "<body>\n",
              "    <div>            <script src=\"https://cdnjs.cloudflare.com/ajax/libs/mathjax/2.7.5/MathJax.js?config=TeX-AMS-MML_SVG\"></script><script type=\"text/javascript\">if (window.MathJax && window.MathJax.Hub && window.MathJax.Hub.Config) {window.MathJax.Hub.Config({SVG: {font: \"STIX-Web\"}});}</script>                <script type=\"text/javascript\">window.PlotlyConfig = {MathJaxConfig: 'local'};</script>\n",
              "        <script charset=\"utf-8\" src=\"https://cdn.plot.ly/plotly-2.24.1.min.js\"></script>                <div id=\"2814a04d-795b-434f-9256-771f45f93bca\" class=\"plotly-graph-div\" style=\"height:525px; width:100%;\"></div>            <script type=\"text/javascript\">                                    window.PLOTLYENV=window.PLOTLYENV || {};                                    if (document.getElementById(\"2814a04d-795b-434f-9256-771f45f93bca\")) {                    Plotly.newPlot(                        \"2814a04d-795b-434f-9256-771f45f93bca\",                        [{\"coloraxis\":\"coloraxis\",\"name\":\"0\",\"z\":[[-0.2145431786775589,0.08177024871110916,0.03409523144364357,0.12596973776817322,0.04905359074473381,-0.03558081015944481,-0.13024690747261047,-0.15627902746200562,0.14229688048362732,0.03130202740430832,-0.043629731982946396,-0.03672891855239868,-0.007874468341469765,-0.025942962616682053,-0.14971598982810974,-0.03223194554448128,-0.06770182400941849,0.11706174910068512,-0.43410658836364746,0.1400315910577774,0.09137837588787079,0.0531022809445858,0.018426984548568726,-0.21521927416324615,-0.10099930316209793,0.17107819020748138,-0.0938354954123497,0.008849349804222584,0.020710688084363937,0.013538784347474575,0.3388931453227997,0.17702876031398773,-0.07523621618747711,-0.009965652599930763,-0.03526250645518303,-0.015810798853635788,0.018743185326457024,-0.05855732038617134,0.06550149619579315,0.1821913719177246,-0.16305285692214966,0.07040141522884369,0.14404837787151337,0.012118776328861713,-0.036600805819034576,-0.24068337678909302,0.017224328592419624,-0.009374786168336868,0.026212524622678757,0.17400722205638885,0.07696862518787384,0.053400129079818726,-0.07643992453813553,-0.04977432265877724,0.008041148073971272,-0.0030770108569413424,-0.19063228368759155,0.18706321716308594,0.08732354640960693,0.18250541388988495,0.1397145837545395,-0.02393607422709465,-0.12689726054668427],[0.007952838204801083,-0.0006806190358474851,-0.03242609649896622,0.035788848996162415,0.06521831452846527,-0.2570401728153229,-0.15415358543395996,-0.11187421530485153,-0.20783883333206177,-0.09575261920690536,-0.13299588859081268,-0.17486394941806793,0.13715624809265137,0.10360676050186157,0.025206496939063072,0.005172788165509701,-0.07750716060400009,0.1250862032175064,0.08893676847219467,0.022879324853420258,0.37150147557258606,0.21346071362495422,-0.06602749973535538,0.03236633539199829,0.13283638656139374,-0.04154398664832115,0.06207724288105965,0.07426563650369644,-0.022829705849289894,0.16491246223449707,-0.0345318429172039,-0.049044169485569,0.08301639556884766,-0.09065753221511841,-0.1728927493095398,-0.0006768329767510295,0.07934161275625229,0.22850504517555237,0.05790558084845543,0.12504036724567413,0.0921921655535698,0.19463293254375458,0.09668970853090286,0.0695318803191185,-0.12032756209373474,0.08462467044591904,0.08847395330667496,0.08690254390239716,-0.22643788158893585,-0.10539088398218155,0.15911602973937988,0.04389367625117302,-0.19738782942295074,-0.25707554817199707,0.012060229666531086,-0.05720445141196251,0.16865572333335876,0.10719678550958633,-0.11926679313182831,0.03196881711483002,-0.060170721262693405,-0.009211725555360317,0.06305785477161407],[-0.007736878003925085,0.07469857484102249,0.0673854723572731,-0.12309641391038895,-0.0007692214567214251,-0.14398905634880066,-0.148149773478508,0.11094848811626434,-0.1589093655347824,-0.017669647932052612,0.08515102416276932,0.024613894522190094,-0.021688178181648254,-0.007649996317923069,-0.13675585389137268,0.0006985904765315354,0.07848159223794937,-0.08318231999874115,0.06983322650194168,0.2258927971124649,-0.20730747282505035,0.055280089378356934,0.15367065370082855,-0.003033533925190568,0.007193220779299736,0.015742480754852295,-0.1248430460691452,-0.06894271820783615,0.08319413661956787,-0.05241221934556961,-0.16728456318378448,-0.06225977838039398,0.18879303336143494,0.03672584518790245,-0.12566497921943665,-0.0863950103521347,0.10755767673254013,0.22377356886863708,0.07364105433225632,0.006480302195996046,-0.10484229028224945,-0.012967133894562721,0.09688308089971542,0.15293315052986145,0.15267005562782288,-0.014157524332404137,0.16448837518692017,0.09713751822710037,0.009691711515188217,0.1440386325120926,0.12963904440402985,-0.21631872653961182,0.10123622417449951,-0.082770437002182,0.12347202748060226,0.09716757386922836,-0.017689445987343788,-0.10512365400791168,0.24121792614459991,0.10971768200397491,0.09027433395385742,0.4414180815219879,-0.155307337641716],[0.004485171288251877,0.050557442009449005,-0.20530574023723602,-0.03110584430396557,-0.0048998394049704075,0.02485363930463791,-0.04552926495671272,0.09776218235492706,-0.26990315318107605,0.019087716937065125,0.05549764633178711,0.11468961834907532,0.04783223569393158,-0.07831098139286041,-0.006103253923356533,0.11026138812303543,-0.248815655708313,0.05856959521770477,-0.17237147688865662,0.1768852323293686,-0.17770574986934662,-0.07475370168685913,0.2530764639377594,-0.014678321778774261,-0.19522227346897125,0.0773075520992279,-0.07325997948646545,-0.03415459394454956,0.06372720003128052,-0.14334391057491302,-0.045716673135757446,0.14083097875118256,0.26833707094192505,0.06603914499282837,0.09593020379543304,0.0165859367698431,-0.08424391597509384,-0.01697864569723606,0.018633699044585228,0.018896078690886497,0.06779074668884277,0.22270241379737854,0.06180755794048309,-0.13660912215709686,0.0152552779763937,0.007943494245409966,-0.10586864501237869,-0.009013445116579533,0.10016095638275146,-0.2519777715206146,0.1232641339302063,-0.03437906503677368,-0.040299948304891586,-0.12600117921829224,-0.2748686373233795,0.041836708784103394,0.22893859446048737,-0.04295826330780983,0.042493484914302826,0.07416043430566788,-0.13393378257751465,-0.23631775379180908,0.06937412917613983],[0.03163852170109749,0.18484333157539368,-0.0521400086581707,-0.15751992166042328,-0.07401471585035324,0.18102847039699554,0.09373181313276291,-0.0935501828789711,0.07755361497402191,-0.05000339075922966,-0.34913960099220276,0.04983438923954964,-0.05454340949654579,0.04884307086467743,-0.05346028506755829,0.2708708345890045,-0.10089319199323654,0.028445091098546982,0.008632523007690907,0.020191261544823647,-0.03370948135852814,0.005392834078520536,0.051737669855356216,-0.02009664475917816,0.17191289365291595,0.08660244941711426,0.0515897311270237,0.10418621450662613,-0.05803757160902023,-0.009587999433279037,-0.05319314822554588,0.08940817415714264,0.03228333219885826,-0.07899238169193268,0.10258778184652328,-0.28988611698150635,0.12075640261173248,0.036625832319259644,-0.3969554007053375,-0.0392906591296196,-0.14331984519958496,0.13814733922481537,-0.09514103829860687,0.054209914058446884,0.06388452649116516,0.009543759748339653,-0.1102810874581337,0.0792105495929718,-0.23258563876152039,0.16138772666454315,-0.04249727725982666,0.23076386749744415,0.037004951387643814,-0.15631388127803802,0.0139636704698205,0.03991028666496277,-0.05456479266285896,-0.1902064085006714,0.1456051617860794,0.043094947934150696,-0.10056786239147186,-0.012061416171491146,-0.009824958629906178],[-0.07796750962734222,0.13477911055088043,0.26154011487960815,0.12891504168510437,0.10227923840284348,0.017378030344843864,0.000864874164108187,0.04521506279706955,0.09004942327737808,0.14247272908687592,-0.19682635366916656,0.06021799519658089,0.18968261778354645,0.12628895044326782,0.13112583756446838,-0.0011455484200268984,-0.06827383488416672,0.20677690207958221,-0.02503257244825363,-0.044326603412628174,-0.18713009357452393,-0.016697166487574577,-0.09588314592838287,-0.0834079310297966,-0.06324884295463562,-0.020702442154288292,0.18971306085586548,-0.0794256180524826,-0.04867800697684288,0.24836789071559906,0.05556444078683853,0.060715317726135254,-0.06012983247637749,-0.11356866359710693,-0.06619391590356827,0.04804597049951553,-0.2412123829126358,-0.012344238348305225,0.17641566693782806,-0.02726590819656849,0.010150235146284103,0.0399337038397789,-0.09654586762189865,0.06594091653823853,-0.12029020488262177,-0.1588762402534485,-0.10564900934696198,0.0725693553686142,-0.029112806543707848,-0.08681508898735046,0.025891201570630074,-0.24312229454517365,0.13883116841316223,-0.15672704577445984,-0.0551505908370018,0.22037360072135925,0.030236393213272095,-0.19061142206192017,0.14595957100391388,-0.19871748983860016,-0.22343352437019348,0.14450423419475555,0.040739547461271286],[-0.01942186988890171,-0.09676459431648254,-0.0827578529715538,-0.045876260846853256,-0.08041798323392868,0.05606091767549515,0.07297356426715851,-0.08701696991920471,0.216246098279953,-0.31484195590019226,-0.15696121752262115,0.10694995522499084,-0.10850077867507935,-0.1703183650970459,0.09381843358278275,-0.03661075979471207,-0.2633265256881714,0.018519211560487747,0.16257506608963013,0.1889646351337433,0.017420358955860138,-0.11622422188520432,0.02270195260643959,-0.10750472545623779,-0.025700727477669716,0.04666003957390785,0.02108876407146454,-0.27922868728637695,-0.02393823117017746,-0.1428695172071457,0.009990480728447437,-0.08380334079265594,0.010257549583911896,0.12001606822013855,-0.06632430851459503,-0.07584068179130554,-0.11504703760147095,-0.07687252014875412,0.10635502636432648,-0.12447115033864975,-0.09468390792608261,-0.04828750714659691,-0.11714258044958115,-0.0007436109008267522,-0.07171554118394852,-0.21878962218761444,0.1567809134721756,-0.05719909444451332,-0.056914474815130234,0.06029926985502243,0.06527205556631088,-0.06547658890485764,-0.3152118921279907,-0.10268709063529968,0.0355093851685524,-0.017436042428016663,0.1215573251247406,0.03552643954753876,-0.1582491546869278,-0.0764809399843216,0.06264051049947739,0.21779347956180573,0.23913398385047913],[0.05300839617848396,-0.16421133279800415,0.14347830414772034,0.03290538489818573,0.25080037117004395,-0.20272618532180786,-0.02718604914844036,-0.03899591416120529,0.2040429711341858,-0.07177091389894485,0.06050018221139908,-0.01297980360686779,-0.024411607533693314,0.19353896379470825,-0.13415829837322235,0.13670136034488678,-0.05627121776342392,0.2862757444381714,0.0684676244854927,-0.11804940551519394,-0.14824917912483215,-0.17607367038726807,-0.05114856734871864,0.20910842716693878,-0.0267882589250803,0.0356597974896431,-0.21234388649463654,-0.026836302131414413,0.1945846825838089,0.016976982355117798,-0.050634756684303284,0.026233570650219917,0.07700233906507492,-0.03684522956609726,0.11036566644906998,0.16299979388713837,0.01819470524787903,0.11256225407123566,-0.24212270975112915,0.039616018533706665,-0.16016830503940582,-0.0653630867600441,-0.03184778615832329,0.019006967544555664,0.1753494292497635,-0.07907319813966751,0.1161961480975151,-0.15346239507198334,-0.2209152728319168,-0.07590967416763306,0.19259758293628693,-0.04505002498626709,-0.084308922290802,0.09202522784471512,-0.240792378783226,0.04876500368118286,-0.10089367628097534,0.035883579403162,-0.07316991686820984,-0.09218278527259827,0.04660269245505333,-0.05340718850493431,0.011581240221858025],[0.05738581344485283,-0.1419396996498108,-0.37569040060043335,-0.16833695769309998,0.039121851325035095,0.08746889233589172,-0.09341984242200851,0.07157236337661743,0.05561121553182602,0.02385316602885723,-0.1545843482017517,0.09405773878097534,-0.19892916083335876,0.36918967962265015,0.045862819999456406,-0.09246687591075897,0.11997340619564056,0.03034515306353569,-0.06858976185321808,0.01956307142972946,-0.04372008889913559,-0.08416330069303513,0.003668552963063121,-0.040234196931123734,0.11738438904285431,-0.14340274035930634,-0.05440953001379967,-0.05829732120037079,0.03802033141255379,0.14405769109725952,0.11325246095657349,0.06235461309552193,-0.06677769124507904,0.09928585588932037,-0.04740007594227791,-0.04456229880452156,0.00893088523298502,0.11657050251960754,0.06502936035394669,-0.17616504430770874,0.1310899555683136,-0.162082239985466,0.06069926545023918,0.16662101447582245,-0.1842273771762848,-0.20249126851558685,-0.06718121469020844,0.023804649710655212,-0.16933193802833557,-0.23751135170459747,-0.018703771755099297,-0.04790903255343437,0.02901284024119377,0.10722185671329498,-0.05544860288500786,-0.07684943079948425,0.10647741705179214,0.007298449520021677,0.1995086520910263,0.21519550681114197,0.13233251869678497,-0.04425027221441269,-0.04533135145902634],[-0.05971010774374008,-0.06684593111276627,-0.07208294421434402,0.04929374158382416,0.07835984975099564,0.10454457253217697,-0.13795189559459686,-0.023936303332448006,0.046839967370033264,-0.07032091170549393,-0.039892490953207016,-0.22632133960723877,0.03140612691640854,0.033231571316719055,0.045976489782333374,-0.016680097207427025,0.03625836968421936,0.16125312447547913,0.04108327254652977,-0.23745647072792053,-0.08327029645442963,0.269754558801651,0.045019276440143585,-0.12890589237213135,0.01716269738972187,0.06911933422088623,0.11735834926366806,-0.027401888743042946,-0.19373632967472076,0.02980632707476616,0.08360309898853302,-0.1039872094988823,0.3235814571380615,-0.03636986389756203,-0.07092989981174469,0.02548643760383129,0.09263568371534348,-0.21514621376991272,-0.15509912371635437,-0.21268650889396667,0.07243399322032928,-0.18529760837554932,-0.09871526807546616,-0.27107515931129456,0.1003415584564209,0.1127961203455925,-0.06203410401940346,0.046742551028728485,0.06793498247861862,0.16053506731987,0.1990841180086136,-0.19506771862506866,-0.10843180865049362,0.07660244405269623,-0.018959075212478638,0.14852796494960785,0.11106695234775543,0.044836949557065964,0.1579347848892212,0.17275935411453247,0.1277235597372055,-0.03769078850746155,0.03458867222070694],[0.024468382820487022,-0.02294047549366951,0.05187508463859558,-0.10881407558917999,-0.08055836707353592,0.10226177424192429,0.04773679003119469,0.21610352396965027,0.09116450697183609,-0.013322927989065647,-0.024323636665940285,0.1331784427165985,-0.15002192556858063,-0.07302773743867874,0.2028762400150299,0.15834908187389374,0.19028720259666443,-0.16087214648723602,-0.29643306136131287,-0.006466598715633154,-0.1237795501947403,0.08476927131414413,-0.04274946078658104,0.09676128625869751,-0.030307944864034653,0.1287870556116104,-0.020836275070905685,0.01826179027557373,0.17017967998981476,0.0257322546094656,0.09196078032255173,-0.08550749719142914,0.21494744718074799,-0.14863185584545135,-0.22521305084228516,0.09964726120233536,-0.14187058806419373,0.08076152950525284,-0.017177915200591087,-0.11778509616851807,0.06724373251199722,0.09683771431446075,-0.04883956536650658,-0.07057622820138931,-0.1487514078617096,0.10999083518981934,0.015459067188203335,0.07530422508716583,-0.24256576597690582,0.06398222595453262,0.2486637532711029,-0.06012194603681564,0.06094786897301674,-0.004860906396061182,0.10826998949050903,-0.15291453897953033,-0.20916661620140076,0.20927496254444122,-0.190699964761734,-0.013644294813275337,-0.1497332751750946,0.00030390924075618386,0.07256684452295303],[0.024470537900924683,0.09412506222724915,0.0960831567645073,-0.1840091049671173,-0.08832025527954102,0.04523787274956703,-0.02056099846959114,-0.2548157870769501,-0.01911057159304619,0.05114120990037918,-0.037741582840681076,0.0034760721027851105,0.13334691524505615,0.2982758581638336,-0.27161723375320435,0.06744181364774704,0.01635792851448059,-0.14906945824623108,-0.006728643085807562,0.009737784042954445,-0.1117057204246521,0.057992108166217804,-0.09538652002811432,-0.048569586127996445,0.16426879167556763,0.1479761302471161,-0.1448468565940857,-0.21173535287380219,-0.08854291588068008,-0.06926785409450531,0.0278084184974432,-0.32850274443626404,0.021684106439352036,-0.09026319533586502,0.036237675696611404,0.08318784087896347,-0.25887662172317505,-0.035682521760463715,-0.08228829503059387,-0.09080435335636139,0.18089553713798523,-0.017328469082713127,0.15138781070709229,0.02998008206486702,-0.02362919971346855,-0.01795606128871441,0.10149794071912766,-0.1226622611284256,0.22753502428531647,-0.12106531858444214,-0.062444135546684265,0.1290641725063324,0.013605089858174324,-0.11770007014274597,-0.04627611115574837,0.15273433923721313,-0.07257860898971558,0.13678397238254547,-0.11985127627849579,0.16423571109771729,-0.12699072062969208,0.038783203810453415,0.06445197761058807],[-0.02814888209104538,0.062097951769828796,-0.11592274904251099,-0.0035399305634200573,0.18340356647968292,0.05373433232307434,-0.11301931738853455,-0.08778878301382065,-0.1702214479446411,0.18860812485218048,0.00029022927628830075,0.02882462553679943,-0.28891465067863464,-0.12855391204357147,-0.2788931429386139,0.05373779684305191,0.005477388389408588,0.1497483104467392,0.022360116243362427,-0.02435428462922573,0.06960960477590561,-0.08044316619634628,-0.307182639837265,-0.21973679959774017,-0.10398584604263306,-0.054736629128456116,-0.10222040116786957,-0.015006937086582184,0.027399467304348946,-0.036747731268405914,-0.1248515397310257,-0.06136154755949974,0.0464087650179863,0.21674112975597382,0.05086194723844528,0.004987066611647606,0.07755352556705475,-0.17990855872631073,0.03033793903887272,-0.16990742087364197,0.15265841782093048,-0.00986563228070736,0.04198775440454483,0.15262898802757263,-0.08370604366064072,0.10007024556398392,0.04543748497962952,0.09292713552713394,-0.07266556471586227,0.14444643259048462,0.08798553794622421,0.0012162582715973258,-0.014720841310918331,-0.018887603655457497,0.006276775151491165,-0.030924927443265915,-0.08686896413564682,0.1523982137441635,0.15575583279132843,-0.31953924894332886,-0.2495911717414856,-0.007868926972150803,0.06608519703149796],[-0.20196248590946198,0.08804850280284882,-0.18302345275878906,0.07009249925613403,-0.1565108597278595,-0.00813598558306694,-0.07075633853673935,0.043120142072439194,-0.09892404824495316,0.14056143164634705,0.01363036036491394,0.132856547832489,0.10400104522705078,0.1068834438920021,0.05326211452484131,-0.14160048961639404,0.1474979817867279,-0.09071468561887741,0.09734619408845901,-0.080729179084301,-0.09998185187578201,0.08328795433044434,-0.046926338225603104,0.18372024595737457,0.029957028105854988,0.07338731735944748,-0.10342971235513687,0.08277411758899689,0.08038200438022614,-0.048583757132291794,0.08955258131027222,0.23549866676330566,-0.14371910691261292,0.003143941517919302,0.09905555099248886,0.005788044072687626,-0.2067716121673584,-0.27667996287345886,-0.011784577742218971,-0.009454398415982723,0.09913387894630432,-0.1849236786365509,0.0821414515376091,0.022125110030174255,0.2188006043434143,0.020351706072688103,0.007410649210214615,0.10849560052156448,-0.19483736157417297,0.15889760851860046,0.17508704960346222,0.11906701326370239,-0.24595215916633606,-0.1935110241174698,-0.12994946539402008,-0.03464990481734276,0.12794791162014008,-0.07947883754968643,-0.16232013702392578,-0.06918926537036896,-0.01695186458528042,0.19024449586868286,-0.13538631796836853],[0.38881543278694153,0.20516031980514526,-0.04433624446392059,0.13633939623832703,-0.056450605392456055,-0.027627551928162575,0.28426462411880493,0.023668445646762848,0.10241637378931046,0.03501062095165253,0.17636798322200775,0.15322022140026093,0.00386242032982409,0.09051411598920822,-0.14846360683441162,0.14656196534633636,0.0626564547419548,0.07977402210235596,0.10721156001091003,-0.09921736270189285,0.09534516930580139,0.15335717797279358,-0.024814149364829063,-0.06340876966714859,0.1569441854953766,0.06362214684486389,-0.17700672149658203,0.061402060091495514,0.0430893637239933,-0.20180588960647583,-0.09377966076135635,0.009347713552415371,-0.10810311138629913,-0.07736313343048096,-0.2774754762649536,-0.02268741838634014,-0.006476723589003086,-0.16896909475326538,0.13318383693695068,0.012560419738292694,-0.2177468240261078,0.05957752466201782,0.03397437185049057,-0.04127413034439087,-0.1263735145330429,-0.17167432606220245,-0.08110833168029785,0.19195693731307983,0.011971228756010532,0.018999679014086723,0.140418142080307,-0.10026867687702179,-0.024749385192990303,0.10472609847784042,-0.03529544174671173,0.07398558408021927,0.21575769782066345,0.05889630317687988,0.04219387099146843,0.04059295728802681,-0.019621390849351883,-0.08369329571723938,-0.07040176540613174],[-0.023615771904587746,0.010921752080321312,0.1044904962182045,0.1781294345855713,-0.45118218660354614,-0.04114479944109917,-0.0417117141187191,0.1279068887233734,0.0560942217707634,-0.0031905423384159803,-0.03878660500049591,-0.056453872472047806,-0.2633748948574066,-0.04862669110298157,-0.04432465881109238,-0.08917523175477982,0.12646088004112244,0.20707456767559052,-0.025025106966495514,-0.04154670238494873,0.1963793933391571,-0.1521303802728653,0.12998275458812714,-0.056880444288253784,0.04441355541348457,0.10467139631509781,-0.1441251039505005,0.13633252680301666,-0.08168032020330429,-0.09649153798818588,-0.1858881413936615,-0.11394774913787842,0.07555336505174637,-0.21372604370117188,0.1576467901468277,0.012318674474954605,0.020577402785420418,0.024837670847773552,0.008318399079144001,0.12092866003513336,0.2987281084060669,-0.10067566484212875,0.11489342898130417,-0.09374691545963287,0.030292803421616554,-0.20514245331287384,-0.08909398317337036,-0.03940996527671814,-0.12993313372135162,-0.057100679725408554,-0.08331549167633057,-0.171962708234787,-0.016311131417751312,-0.10626612603664398,-0.03063526563346386,0.050037581473588943,-0.11581290513277054,-0.07380884140729904,0.06728586554527283,0.022429490461945534,-0.023460641503334045,0.023253409191966057,0.14946246147155762],[0.037409961223602295,-0.19620877504348755,0.03496113792061806,-0.24192827939987183,-0.05395449325442314,-0.21409516036510468,0.15501251816749573,0.20537494122982025,0.05539928004145622,0.042541272938251495,0.07077520340681076,-0.13166603446006775,-0.150649294257164,-0.1156550720334053,-0.21432344615459442,-0.038362059742212296,0.004682005383074284,-0.03581101447343826,0.10105287283658981,0.1088482066988945,-0.14127688109874725,0.27750492095947266,-0.06313519924879074,-0.03392242640256882,0.023255523294210434,-0.05214374512434006,0.11087621003389359,-0.15547063946723938,-0.08252939581871033,0.17020747065544128,-0.010344510897994041,0.29737523198127747,-0.11889742314815521,-0.04547148942947388,-0.04752790555357933,-0.09977591782808304,-0.06567561626434326,0.11782466620206833,-0.195120170712471,0.02730167657136917,0.12934517860412598,0.011293869465589523,0.17893710732460022,-0.2294018417596817,-0.18116246163845062,-0.12875844538211823,0.02271731197834015,-0.0076661319471895695,0.09787778556346893,0.14583078026771545,-0.06524916738271713,-0.05730479955673218,-0.18353623151779175,0.006072022020816803,-0.17756988108158112,-0.0016525468090549111,-0.07169929891824722,-0.042101986706256866,0.00011764317605411634,-0.07993712276220322,-0.14852461218833923,-0.06520408391952515,-0.07088445872068405],[-0.07078137248754501,-0.10388462245464325,0.18158096075057983,-0.2151760756969452,-0.11855489760637283,0.18885357677936554,0.009180588647723198,0.0910840556025505,0.008938136510550976,0.18799439072608948,0.04805421084165573,-0.2902580797672272,0.0016253753565251827,0.08180484920740128,0.05382845923304558,0.11499889194965363,0.009900450706481934,0.07417377829551697,0.16849857568740845,0.11938562244176865,0.14935603737831116,-0.21294087171554565,0.01317132730036974,0.09630485624074936,-0.08150145411491394,0.0393439419567585,-0.06776703149080276,-0.06696530431509018,-0.24363569915294647,0.006518979091197252,0.15927845239639282,-0.04237162321805954,0.08620397001504898,-0.06392154842615128,0.042880669236183167,-0.11896687000989914,-0.21291989088058472,-0.12719950079917908,0.10661967098712921,0.11257559806108475,-0.2330332100391388,0.03855663910508156,0.13161557912826538,0.1480608880519867,0.03505144640803337,0.12824541330337524,0.12329366058111191,0.16313335299491882,-0.05439421162009239,-0.01880788989365101,0.09152956306934357,-0.07837293297052383,-0.1404670774936676,0.2303573191165924,-0.009159688837826252,-0.22179293632507324,0.05791942775249481,-0.052834268659353256,0.131755992770195,0.09000095725059509,-0.15691150724887848,-0.09020978212356567,-0.031632982194423676],[0.18824614584445953,0.10254377126693726,0.08380752801895142,0.11482514441013336,0.037698909640312195,-0.019731491804122925,0.033538490533828735,-0.19472886621952057,-0.1980755478143692,-0.008579516783356667,0.1061815395951271,-0.015575719065964222,-0.12550030648708344,-0.08820134401321411,0.08042782545089722,-0.07517426460981369,0.32642754912376404,-0.180276557803154,0.053153473883867264,0.3254556655883789,0.030676627531647682,-0.14031186699867249,-0.022815462201833725,-0.012745884247124195,0.08342600613832474,0.07845277339220047,0.14065004885196686,0.008267534896731377,-0.08345512300729752,0.21947252750396729,0.06648744642734528,-0.030750475823879242,0.1383720189332962,-0.06599444895982742,0.16420815885066986,0.12988238036632538,0.04741903021931648,0.10494332015514374,0.0645972266793251,-0.11288148909807205,-0.21323946118354797,-0.18007922172546387,-0.1096690371632576,-0.01198283676058054,-0.08723218739032745,-0.11649914085865021,-0.1870264708995819,-0.02452579326927662,0.00920051522552967,0.03395220637321472,0.20018236339092255,0.20470020174980164,-0.18109986186027527,0.00654632318764925,-0.22324390709400177,0.1407899409532547,-0.05871004983782768,-0.044640738517045975,0.05321190133690834,0.011329046450555325,-0.03992978855967522,-0.03928935155272484,0.04844924435019493],[-0.07510778307914734,-0.0975414514541626,0.13656926155090332,-0.023841656744480133,0.08508003503084183,0.22597458958625793,0.04770074784755707,-0.009110563434660435,-0.17204812169075012,-0.028980916365981102,-0.03749017417430878,0.035216134041547775,-0.016609348356723785,-0.013616845943033695,-0.08248858898878098,-0.011781503446400166,0.17325620353221893,-0.03944820538163185,0.06319832801818848,-0.005050751380622387,-0.008997551165521145,0.059212252497673035,0.24251173436641693,0.13496248424053192,0.05477910488843918,0.11578165739774704,0.2774507701396942,-0.07039406150579453,0.03329731151461601,-0.027132775634527206,0.13757531344890594,-0.10540343075990677,-0.09819991141557693,0.07489350438117981,-0.2016032636165619,-0.04243118315935135,0.24371668696403503,-0.0839640274643898,-0.09447972476482391,0.10160674899816513,0.09745022654533386,0.0011015477357432246,0.08312250673770905,0.09474371373653412,0.32625284790992737,-0.4216601252555847,0.057713139802217484,0.010071346536278725,-0.0021435432136058807,-0.11802414059638977,0.07412116229534149,-0.039119038730859756,0.07664645463228226,-0.02730555273592472,0.011799341067671776,-0.07242361456155777,0.08281128108501434,0.18326175212860107,0.013612402603030205,-0.21725346148014069,-0.1379823088645935,-0.14124368131160736,0.04272863641381264],[-0.19736449420452118,0.16430163383483887,0.06881728023290634,-0.0011755065061151981,0.18936844170093536,0.045859843492507935,-0.009227344766259193,0.07281166315078735,-0.15073752403259277,-0.20537245273590088,-0.021373005583882332,0.17170915007591248,-0.11796838790178299,0.007735087536275387,0.0919015184044838,0.240691676735878,0.03664610534906387,-0.12910149991512299,0.12800659239292145,0.03944481164216995,0.08820457756519318,0.27173396944999695,-0.06843357533216476,-0.14208786189556122,-0.23839020729064941,0.011676297523081303,-0.2279359996318817,-0.07090041786432266,-0.06580895930528641,0.19636975228786469,-0.12633997201919556,-0.1348394900560379,-0.12534072995185852,-0.028316505253314972,0.17233742773532867,0.023621823638677597,-0.16554683446884155,0.08625790476799011,-0.042329683899879456,0.15190422534942627,0.10167329758405685,-0.007878671400249004,-0.14528058469295502,0.10415245592594147,0.13980917632579803,-0.14994825422763824,-0.12151461094617844,0.10355277359485626,-0.058985743671655655,0.10907914489507675,-0.11281626671552658,-0.1662219762802124,-0.05721142888069153,0.17872215807437897,-0.052214719355106354,-0.0226124357432127,0.061976950615644455,0.012799648568034172,-0.0994541272521019,0.14284636080265045,0.0877300575375557,-0.15585584938526154,-0.022791793569922447],[-0.0010987867135554552,0.1980469822883606,-0.10714453458786011,0.0634213238954544,0.08464313298463821,-0.025908183306455612,0.15052904188632965,0.19362978637218475,0.25681883096694946,0.14142024517059326,-0.08439837396144867,-0.11738176643848419,0.03702530637383461,0.04279989004135132,-0.12786062061786652,-0.3961757719516754,-0.11129341274499893,-0.14336419105529785,0.05168549716472626,0.0194940734654665,0.10866648703813553,-0.03560495376586914,-0.20043008029460907,0.17405807971954346,-0.12035948038101196,0.23739093542099,-0.06386005133390427,-0.10146521776914597,-0.11709938943386078,0.12693141400814056,-0.1175476610660553,-0.10012000799179077,0.19670775532722473,0.19060514867305756,0.032028622925281525,-0.2232903093099594,0.05531136691570282,0.12366164475679398,0.10378257930278778,-0.046666745096445084,0.011093836277723312,0.07429284602403641,-0.11435496062040329,-0.11337865889072418,0.1794760525226593,-0.11179724335670471,-0.09573375433683395,-0.009479783475399017,-0.047612350434064865,-0.0163931492716074,0.09505979716777802,0.024516675621271133,0.15753021836280823,-0.04874776303768158,-0.03127877786755562,-0.0523960217833519,-0.005147950258105993,0.08666612207889557,-0.1000189483165741,0.07673385739326477,-0.07135481387376785,-0.07590096443891525,-0.12409185618162155],[-0.12380991876125336,0.10479312390089035,-0.051372505724430084,-0.10000201314687729,-0.03004061058163643,0.2015797644853592,0.20363366603851318,0.20293012261390686,-0.04094858840107918,-0.09215538948774338,-0.04603876546025276,-0.06644587963819504,-0.014676128514111042,0.11149553954601288,-0.18785274028778076,-0.05642231926321983,-0.02544034831225872,0.02052944153547287,0.013889227993786335,0.16500629484653473,0.22863982617855072,-0.14508426189422607,0.02605886198580265,0.005782721098512411,0.17571617662906647,-0.21607913076877594,0.11841288208961487,-0.0876479521393776,0.30726292729377747,0.19816337525844574,-0.06326916068792343,-0.10417480766773224,0.016561564058065414,0.014933370053768158,-0.0034448725637048483,0.29816874861717224,-0.022014565765857697,-0.2689007520675659,-0.06813190877437592,0.11827554553747177,-0.030777443200349808,0.08582822978496552,-0.07965266704559326,-0.06348653137683868,-0.049990035593509674,0.09422029554843903,0.07012686878442764,0.013287747278809547,0.08250405639410019,0.13519759476184845,0.0953841507434845,-0.15645138919353485,0.07613752037286758,-0.20879019796848297,-0.13293996453285217,0.011707409285008907,-0.09953898936510086,-0.07617688179016113,-0.01629190891981125,0.03725011274218559,0.21303994953632355,-0.07466189563274384,-0.09240633249282837],[-0.06170361116528511,0.17069251835346222,0.10797931998968124,-0.01931394822895527,-0.14338319003582,-0.03332981467247009,-0.07079589366912842,-0.08785130083560944,0.03572075814008713,0.026167677715420723,0.2635163366794586,0.058157142251729965,-0.0893910601735115,0.04097979515790939,0.0379987470805645,0.056559111922979355,-0.15726086497306824,0.06485871225595474,0.006473813205957413,-0.07882754504680634,-0.09694992005825043,-0.07321011275053024,0.026235368102788925,0.008111936040222645,0.17549869418144226,0.25293442606925964,0.06001637876033783,-0.2348559945821762,-0.058514997363090515,0.07666140794754028,-0.002162348944693804,0.09989488124847412,0.018146127462387085,-0.06370250135660172,0.012217299081385136,0.1486540287733078,0.148764967918396,0.12250915169715881,0.12034236639738083,-0.27299851179122925,0.15012581646442413,0.045341864228248596,-0.06612324714660645,0.16841575503349304,-0.00756252184510231,0.009418828412890434,0.09633326530456543,0.0032543190754950047,-0.008154717274010181,0.10416043549776077,-0.022587629035115242,-0.05165133625268936,-0.11498471349477768,-0.11294855177402496,0.20013058185577393,-0.15259644389152527,0.06109748035669327,-0.19138826429843903,-0.03461712598800659,-0.10351589322090149,0.1536816656589508,-0.37665408849716187,-0.2593969404697418],[0.05395796149969101,0.20513279736042023,-0.08369594067335129,-0.2267245054244995,0.24955616891384125,-0.1635032296180725,-0.13681244850158691,0.1731214076280594,0.2583434283733368,0.16900597512722015,-0.13104434311389923,-0.1646270602941513,0.020750029012560844,-0.06793992221355438,0.14042411744594574,0.14214490354061127,0.1509580761194229,-0.1776333749294281,0.03162284195423126,-0.1158931776881218,0.03139099106192589,-0.07359134405851364,0.2515747845172882,-0.07851633429527283,-0.08447106182575226,0.07770828157663345,0.10236863791942596,0.06203251704573631,0.04726165905594826,-0.10668565332889557,-0.21091076731681824,-0.03419695049524307,-0.06411810219287872,-0.08937228471040726,-0.017002316191792488,-0.07904022186994553,-0.0797714814543724,-0.048891495913267136,0.13195636868476868,0.08251786977052689,0.0074537754990160465,-0.19108200073242188,0.032648954540491104,0.12163016945123672,-0.05079255253076553,0.0017290732357650995,0.14435024559497833,-0.03619584068655968,0.08794859796762466,0.021879566833376884,0.004390394780784845,0.07448391616344452,-0.11998962610960007,-0.22006037831306458,-0.09219948202371597,0.1172056570649147,-0.04906130209565163,0.11163690686225891,0.08170635998249054,-0.11140177398920059,0.16371282935142517,-0.2206663340330124,0.07680138200521469],[-0.13047340512275696,-0.06625504791736603,0.15555739402770996,0.10355004668235779,0.005134482868015766,-0.09051349014043808,-0.07486764341592789,0.06311529129743576,0.14084561169147491,-0.24359267950057983,-0.05762529745697975,-0.08221982419490814,-0.07876861840486526,0.20532864332199097,-0.0485818088054657,-0.12499627470970154,0.0407797172665596,-0.20185670256614685,0.0887012928724289,0.24580444395542145,-0.09290117770433426,-0.02656240575015545,-0.06998919695615768,-0.19015809893608093,-0.04245710000395775,0.10009676218032837,-0.03274482116103172,0.01671823114156723,-0.08255176246166229,-0.149378702044487,0.016155853867530823,0.15983934700489044,0.09680469334125519,-0.04562103748321533,-0.09244749695062637,0.1030857190489769,0.06680653989315033,-0.11675270646810532,-0.04720504581928253,-0.012586723081767559,0.04025877267122269,0.05227934196591377,0.16269497573375702,0.03319301828742027,-0.03567343205213547,0.13024835288524628,0.03169630840420723,0.3631916642189026,-0.115931935608387,-0.05780835077166557,-0.046898745000362396,0.17511224746704102,0.28806889057159424,0.09290897846221924,-0.07905349880456924,0.14209771156311035,0.13862048089504242,-0.05715390667319298,-0.08713825792074203,-0.20446011424064636,0.1692570447921753,-0.13535547256469727,0.14257092773914337],[0.235488161444664,-0.1467316597700119,-0.010698894038796425,0.08260989934206009,-0.09973164647817612,-0.0029524685814976692,-0.06889420747756958,-0.03206455707550049,0.12211693078279495,-0.1296098828315735,0.10881879925727844,0.022811172530055046,-0.029023457318544388,-0.018758367747068405,-0.10527381300926208,-0.018155615776777267,0.10528305172920227,0.14433805644512177,-0.01250436995178461,-0.02920578420162201,0.04363064840435982,0.21485520899295807,0.23178748786449432,0.04138466343283653,-0.267521470785141,0.1756933331489563,0.16368260979652405,-0.044672492891550064,0.11339858174324036,0.3238440155982971,-0.10216066241264343,-0.07715191692113876,-0.041577473282814026,0.10280447453260422,0.2497664839029312,-0.10944624245166779,-0.10396575182676315,-0.20033890008926392,-0.02857932448387146,-0.21141937375068665,-0.18073998391628265,0.06513949483633041,0.25760772824287415,0.242469921708107,-0.051974162459373474,0.11797827482223511,-0.06036613509058952,0.03265519440174103,-0.03160419315099716,-0.018632439896464348,-0.06595949083566666,-0.02003386616706848,0.14749638736248016,-0.15532676875591278,0.017419375479221344,-0.04498615860939026,0.027671990916132927,0.030426429584622383,-0.12083263695240021,0.04982330650091171,0.02820846065878868,0.03368860110640526,0.01930471695959568],[0.15809229016304016,-0.19927643239498138,0.1858702450990677,0.13468647003173828,-0.03893261402845383,-0.07812297344207764,0.061449091881513596,0.223231703042984,-0.1670810729265213,0.16656619310379028,-0.2015632838010788,0.249257892370224,0.18912720680236816,-0.11552074551582336,-0.060627080500125885,0.04472906142473221,0.00927836075425148,0.005925680976361036,0.06235641613602638,-0.1242411807179451,-0.04404788091778755,-0.15226399898529053,0.03262076526880264,-0.1284143328666687,0.11899791657924652,0.26048901677131653,0.00767070148140192,-0.12651126086711884,-0.03500278666615486,0.09663501381874084,0.07155191898345947,-0.0188608281314373,-0.08299057930707932,0.3596479296684265,0.09928999841213226,0.055589258670806885,0.010618198662996292,0.057577937841415405,-0.03705234080553055,0.17015984654426575,0.07699286937713623,-0.10046331584453583,-0.054273929446935654,-0.0836513414978981,-0.12452704459428787,0.10907790064811707,0.2012341320514679,0.1573486626148224,-0.1223858967423439,0.09968774765729904,0.0355219729244709,0.08793547749519348,0.002350409049540758,-0.00883916299790144,0.04565100371837616,0.05936459079384804,0.024837134405970573,0.05484643206000328,0.0789293721318245,0.22624117136001587,0.10528877377510071,-0.08784057945013046,0.10456869006156921],[-0.15510381758213043,0.07920827716588974,-0.028422672301530838,0.2372191697359085,-0.037594523280858994,0.012402132153511047,-0.19450901448726654,0.06235283240675926,0.14432860910892487,0.035858526825904846,-0.0641917809844017,0.15277612209320068,-0.10667859762907028,0.07491067796945572,0.08823693543672562,-0.038157906383275986,0.017264021560549736,-0.025411617010831833,0.20864219963550568,0.07293502986431122,-0.1063467487692833,0.06635524332523346,-0.031402137130498886,0.40517064929008484,-0.07194250822067261,-0.011077627539634705,-0.06840868294239044,-0.14398476481437683,0.009623531252145767,-0.050823282450437546,0.008304348215460777,-0.03385161980986595,0.02945074252784252,-0.005297309253364801,-0.08841654658317566,0.16711534559726715,0.23325972259044647,-0.04094866290688515,-0.12999700009822845,0.14803440868854523,-0.14400170743465424,-0.006043931469321251,0.04562283307313919,0.08561977744102478,-0.2822340428829193,0.08323448896408081,-0.07336397469043732,-0.05148833990097046,0.16814397275447845,0.15078477561473846,-0.20787286758422852,-0.025648530572652817,-0.0805138573050499,-0.1298707276582718,-0.003680879482999444,-0.038046520203351974,0.061622776091098785,0.14471398293972015,0.19288425147533417,0.1431783139705658,-0.21394510567188263,-0.08668806403875351,0.128368079662323],[0.20100976526737213,0.1237386018037796,0.06810333579778671,0.013770666904747486,0.030396509915590286,0.04741853103041649,-0.2759186625480652,-0.02240457572042942,0.045519378036260605,0.13849478960037231,0.06800711154937744,-0.05807817727327347,0.10043230652809143,-0.05187705531716347,0.005121289752423763,-0.17128269374370575,0.13014310598373413,0.1321677416563034,0.01864917203783989,0.027591058984398842,-0.01854776032269001,-0.1271256059408188,0.08883459866046906,-0.1410786658525467,-0.003178445855155587,-0.20338469743728638,0.006651157978922129,-0.1632520705461502,0.030401121824979782,-0.21562325954437256,0.14355644583702087,-0.12387388199567795,-0.07327183336019516,0.16618554294109344,-0.213392972946167,-0.07899850606918335,-0.09730003774166107,0.19088326394557953,-0.24531257152557373,-0.004397702403366566,0.038564927875995636,0.07333746552467346,-0.01024161372333765,0.08693903684616089,0.05075933784246445,0.0372745655477047,-0.29313868284225464,0.1476215124130249,-0.029718060046434402,0.1918894648551941,-0.06415701657533646,-0.12837283313274384,-0.03214450553059578,-0.06141367927193642,-0.18692725896835327,-0.12824586033821106,-0.07262641191482544,-0.13643775880336761,-0.29189634323120117,0.05285685509443283,0.046031516045331955,-0.07720339298248291,0.07395147532224655],[0.08810394257307053,-0.1783437281847,-0.10632286220788956,0.1620786488056183,-0.04319823160767555,0.08620753139257431,0.1365087926387787,-0.09590692818164825,-0.07906026393175125,0.3234651982784271,-0.12412057816982269,-0.1401403397321701,-0.1616508662700653,-0.06797120720148087,0.05669127032160759,0.09672878682613373,0.028456728905439377,-0.03816080838441849,-0.0020857995841652155,0.049177248030900955,0.0018176583107560873,0.2123224437236786,-0.2007732093334198,0.04124600067734718,0.013967523351311684,-0.04198889434337616,0.007510657887905836,0.02565975859761238,-0.09667576849460602,-0.16463762521743774,0.017144881188869476,0.10460157692432404,0.15117551386356354,0.030678696930408478,0.06576553732156754,0.21842798590660095,-0.23246724903583527,0.1823633313179016,-0.08732475340366364,-0.04679898917675018,-0.225790336728096,-0.011045665480196476,-0.029155807569622993,0.06289869546890259,0.1592717468738556,-0.13131941854953766,0.14407531917095184,0.0553295835852623,0.02985837496817112,-0.03979933261871338,-0.17624372243881226,-0.15394486486911774,0.13929294049739838,-0.3066876232624054,0.02115454524755478,-0.059624020010232925,0.05658167973160744,0.057185206562280655,-0.0025100545026361942,-0.055025599896907806,0.26040372252464294,-0.07016924023628235,0.04605337232351303],[-0.23287004232406616,-0.003226384986191988,-0.04105202108621597,0.21765659749507904,-0.0021062337327748537,-0.15337510406970978,0.12451617419719696,-0.08264168351888657,0.06700975447893143,0.034492943435907364,0.028177015483379364,0.007318296004086733,-0.021044962108135223,0.11518334597349167,-0.24925120174884796,0.146040678024292,0.16382859647274017,-0.21661284565925598,-0.2810441851615906,-0.17467491328716278,0.03941743075847626,-0.008049555122852325,0.29722076654434204,-0.0022419847082346678,0.0916823297739029,-0.15898795425891876,0.10348255187273026,-0.19831757247447968,-0.2917488217353821,0.020486492663621902,-0.2038642019033432,0.03564807027578354,0.16919595003128052,0.21526825428009033,-0.11532095819711685,0.05063532665371895,-0.08442050218582153,-0.03944048285484314,0.04367612302303314,0.05682316794991493,-0.09385732561349869,0.0511661022901535,-0.10248938202857971,0.05263875052332878,-0.03592915087938309,0.06294907629489899,-0.030843138694763184,-0.08046461641788483,-0.18714261054992676,-0.00997154600918293,-0.11005426943302155,-0.012052527628839016,-0.11380904167890549,0.09736013412475586,-0.09253736585378647,-0.11452695727348328,0.026274725794792175,-0.08888433128595352,-0.02243388630449772,-0.07029369473457336,-0.06357742846012115,0.09611085057258606,0.03177087381482124],[0.004124291706830263,0.10265900194644928,0.10203706473112106,-0.0967998057603836,0.2136005461215973,-0.11941471695899963,0.11085755378007889,-0.1534445732831955,-0.017170805484056473,-0.01653490960597992,0.0026554707437753677,0.0914113000035286,-0.27519944310188293,0.08736231178045273,0.198070228099823,-0.17291785776615143,0.15842875838279724,0.25056901574134827,-0.03796350583434105,0.16134025156497955,-0.09676644206047058,0.1686183661222458,0.11814107745885849,-0.031147224828600883,0.16029858589172363,0.11340509355068207,-0.07071347534656525,-0.037928760051727295,-0.1176910549402237,-0.09232877939939499,0.03956803306937218,-0.1002241000533104,-0.1877584457397461,0.04599129408597946,0.0589648075401783,-0.10250188410282135,0.01074270810931921,-0.11353764683008194,0.12586276233196259,0.07624171674251556,-0.016690436750650406,0.043440479785203934,-0.12510308623313904,-0.2665381133556366,0.04332788661122322,0.257982462644577,0.18488217890262604,-0.07035078853368759,-0.06934625655412674,-0.06549826264381409,-0.0816228911280632,-0.04559095576405525,0.15543703734874725,-0.1522975116968155,-0.1951766312122345,-0.26990118622779846,0.00510301673784852,-0.022152265533804893,0.0648123249411583,0.018581463024020195,-0.033768538385629654,0.025329647585749626,-0.0068046702072024345],[-0.15544892847537994,0.12212269008159637,-0.13171981275081635,-0.18684552609920502,0.07029035687446594,-0.1058209165930748,0.22964821755886078,-0.001375631894916296,0.04437956586480141,-0.03227520361542702,0.13142246007919312,0.11609084904193878,0.008282680064439774,0.053242411464452744,0.17037749290466309,0.015381279401481152,0.03854798525571823,0.14254164695739746,-0.0330396443605423,-0.2137524038553238,0.20546802878379822,0.10293786227703094,-0.04156235605478287,0.07913187891244888,0.028121070936322212,0.06179487705230713,0.214180588722229,-0.15542902052402496,0.021635757759213448,-0.25526630878448486,0.17467394471168518,-0.052146878093481064,0.19269239902496338,0.10326992720365524,0.33617815375328064,0.07078995555639267,0.07685773074626923,0.1785382628440857,-0.006374177522957325,0.11211159080266953,0.02344932034611702,-0.02387259155511856,0.21356870234012604,0.09404449909925461,-0.141339510679245,-0.09344922006130219,-0.01153547316789627,0.22287213802337646,0.12426390498876572,0.08444447815418243,0.09058357775211334,0.023930052295327187,0.11576297879219055,0.09697849303483963,-0.0793757513165474,0.056436143815517426,-0.05687001720070839,-0.13024023175239563,-0.03398577868938446,-0.052154168486595154,-0.012142816558480263,0.14593163132667542,0.10729269683361053],[0.09942042827606201,0.040867023169994354,-0.09220558404922485,-0.19875004887580872,-0.09508513659238815,0.0048827677965164185,-0.09366407990455627,-0.15719451010227203,0.11871228367090225,-0.012425950728356838,-0.09359174966812134,0.07039491087198257,0.1129923015832901,-0.08583924174308777,-0.16521911323070526,0.12434875965118408,0.23232141137123108,0.002609438728541136,-0.24215450882911682,0.07648719847202301,0.037826500833034515,-0.014568615704774857,-0.23760826885700226,0.15312550961971283,-0.08364364504814148,0.13851197063922882,-0.14197669923305511,-0.09060978144407272,-0.016261691227555275,0.19972313940525055,0.02666384167969227,0.0366227887570858,-0.01388542726635933,0.02023686282336712,-0.05382802337408066,-0.04933379217982292,0.14405475556850433,-0.00953747145831585,-0.0326441153883934,0.25638362765312195,0.01337703038007021,-0.1573784053325653,-0.03293462470173836,-0.10505104809999466,0.04152275249361992,0.10872548818588257,-0.06813647598028183,0.020466672256588936,0.1802530139684677,-0.11282704025506973,0.08055535703897476,-0.1706194281578064,-0.018763994798064232,-0.017707061022520065,0.11540858447551727,-0.11602752655744553,0.22064357995986938,-0.27100005745887756,-0.010073669254779816,-0.2209111601114273,0.15412871539592743,-0.0014706181827932596,0.24077056348323822],[-0.051413826644420624,-0.1388751119375229,-0.08125130087137222,0.20635633170604706,-0.002505802782252431,-0.15022391080856323,0.29074913263320923,-0.04880474880337715,0.028301827609539032,0.26208969950675964,0.03014422208070755,-0.14133451879024506,-0.10177494585514069,0.027789117768406868,0.21426263451576233,0.07793865352869034,-0.13718102872371674,-0.12440166622400284,0.019888099282979965,-0.018099557608366013,-0.14077360928058624,-0.04611155390739441,0.042435549199581146,-0.1527782529592514,0.12040388584136963,0.060196373611688614,-0.1478036791086197,-0.145418182015419,0.2360355108976364,0.22373434901237488,0.09787245839834213,-0.18521858751773834,-0.015011312440037727,-0.14747433364391327,-0.039742253720760345,-0.16569340229034424,0.13071301579475403,-0.05365745350718498,-0.024796659126877785,0.05646241083741188,0.13857059180736542,0.18310773372650146,0.10119439661502838,0.1607661247253418,0.14572511613368988,0.10346753895282745,-0.20095357298851013,0.010110169649124146,0.12742258608341217,0.06450565904378891,0.0413278192281723,0.04935257136821747,-0.07851337641477585,0.03493690863251686,-0.09674730151891708,-0.07498874515295029,0.049237851053476334,0.021552741527557373,0.08900472521781921,-0.07194168120622635,0.14341461658477783,0.12470879405736923,0.19496579468250275],[0.08368077129125595,0.18658111989498138,0.13186118006706238,-0.02084304951131344,0.040710438042879105,0.10863081365823746,-0.1378231942653656,0.08009443432092667,-0.10670546442270279,-0.21503713726997375,-0.11443950235843658,-0.1440075784921646,-0.1233258843421936,-0.05761093646287918,-0.0040938397869467735,0.06141407787799835,-0.015012461692094803,-0.2615933418273926,0.04160802811384201,-0.39101555943489075,-0.07071638107299805,-0.17119254171848297,-0.06976193189620972,0.00586718088015914,0.08742547035217285,0.04877401143312454,-0.1086292490363121,0.1106368824839592,-0.06733066588640213,0.07933976501226425,0.18186847865581512,0.00874525960534811,-0.04730869457125664,0.11192554235458374,0.09787978231906891,0.061061203479766846,0.0434735007584095,0.05866313725709915,0.07576246559619904,-0.08432833850383759,-0.12786386907100677,0.2171933948993683,0.2992786765098572,-0.1716040074825287,-0.1036086305975914,-0.06896884739398956,-0.02466600574553013,-0.14620520174503326,0.010798949748277664,0.06630588322877884,-0.045855239033699036,-0.13766472041606903,0.03392113000154495,-0.07555224001407623,-0.2147534191608429,-0.1584770679473877,0.16947658360004425,0.030713563784956932,0.019046040251851082,-0.09748736023902893,0.10300415754318237,0.16340237855911255,-0.020480545237660408],[0.15851111710071564,-0.009619777090847492,-0.11857829988002777,0.1388864368200302,0.1943746954202652,0.10292363911867142,-0.07323560118675232,0.2773897051811218,0.04145713895559311,-0.1276218742132187,-0.026796184480190277,-0.034649934619665146,0.10567998141050339,-0.002242607995867729,-0.018638355657458305,0.18289382755756378,0.14325515925884247,0.27825355529785156,-0.13023626804351807,0.09925002604722977,-0.13935586810112,-0.11420809477567673,-0.10020794719457626,0.04388526454567909,0.1887664496898651,-0.06443493813276291,0.032328806817531586,-0.06603571772575378,-0.1425497829914093,0.0889214277267456,-0.10943238437175751,0.06791239976882935,0.12845586240291595,-0.17211589217185974,0.08429118990898132,0.030568616464734077,0.061688195914030075,-0.04210624098777771,0.19987192749977112,-0.014281908050179482,0.10617402195930481,0.07234843820333481,0.029592053964734077,-0.0041924575343728065,0.1821529120206833,-0.12216076999902725,0.09473166614770889,0.1898721605539322,0.20157217979431152,0.14311222732067108,-0.23663780093193054,0.24067185819149017,-0.06872327625751495,0.005672690458595753,-0.02271321415901184,-0.17967741191387177,0.01581477001309395,0.08682791888713837,-0.1634456068277359,0.06384242326021194,-0.039165083318948746,0.15179026126861572,0.02238757163286209],[-0.09740760922431946,-0.0646452009677887,-0.14298006892204285,-0.0015611127018928528,-0.023818200454115868,-0.11103767901659012,-0.01345602422952652,-0.2890518009662628,0.08144626021385193,0.07200644910335541,-0.035008106380701065,0.1026420071721077,0.06954457610845566,-0.05819898471236229,0.05352868139743805,0.154496431350708,0.1672426015138626,0.10546155273914337,0.11516781896352768,0.1721552163362503,-0.005084804259240627,-0.23718993365764618,-0.035680126398801804,0.1955713927745819,-0.08739583194255829,0.05942358449101448,0.2010485678911209,0.09846094250679016,-0.003282297169789672,0.019541805610060692,-0.09794610738754272,-0.1611093431711197,0.0006582294590771198,0.03401320055127144,-0.09315157681703568,-0.021616118028759956,-0.22538042068481445,0.03650835156440735,0.0011866551358252764,-0.02122814767062664,0.1991230994462967,0.2579433023929596,0.1577758491039276,-0.23519960045814514,-0.04592374712228775,-0.07120171934366226,-0.0017208765493705869,-0.06610340625047684,-0.09572266787290573,0.2976140081882477,-0.04860743135213852,-0.006908890791237354,0.13152572512626648,0.16588464379310608,-0.02294071950018406,0.08747032284736633,0.17974641919136047,0.0968787744641304,0.10483836382627487,-0.03064495325088501,0.17708516120910645,-0.030993744730949402,-0.18917647004127502],[-0.1745980978012085,0.05065640062093735,-0.04554668813943863,-0.09140554070472717,-0.1176668256521225,-0.17179250717163086,0.00039984556497074664,-0.008325423114001751,0.15097576379776,0.011960204690694809,0.09262843430042267,0.010823745280504227,0.1372918337583542,-0.19406312704086304,-0.00969083234667778,0.04914771392941475,0.320542573928833,0.008671989664435387,0.21642851829528809,-0.1043555960059166,-0.09152699261903763,0.05052541196346283,-0.1087120994925499,-0.15376584231853485,-0.07668735086917877,-0.21267421543598175,-0.11766090989112854,0.0024407501332461834,0.1401931643486023,0.08004964143037796,0.17057296633720398,-0.07707179337739944,0.09809849411249161,0.09801197052001953,0.0026077372021973133,0.055183205753564835,0.10832633823156357,-0.11354302614927292,0.09346432983875275,-0.14099788665771484,-0.08705519884824753,0.29679563641548157,-0.03859490156173706,-0.1118575856089592,0.11655228585004807,-0.18279723823070526,0.15463405847549438,0.03536572679877281,-0.1127690002322197,-0.19789601862430573,-0.09490752965211868,0.13573721051216125,-0.037381526082754135,-0.11920324712991714,0.06417710334062576,0.0017515078652650118,-0.09454469382762909,-0.19363240897655487,0.09754254668951035,0.1843302845954895,-0.06684233993291855,-0.13714273273944855,0.14088749885559082],[-0.04749483987689018,0.09219875186681747,0.019372140988707542,-0.022144367918372154,-0.25653886795043945,-0.06706155091524124,0.07123726606369019,0.11530065536499023,-0.21360857784748077,-0.14317913353443146,0.13953839242458344,-0.34001827239990234,-0.009727077558636665,0.12363164871931076,0.07696658372879028,0.15985320508480072,0.06354658305644989,0.19866782426834106,-0.04093001410365105,-0.02268023043870926,-0.08761417120695114,0.039145514369010925,-0.12880100309848785,0.057281315326690674,-0.11634393036365509,0.08887594938278198,-0.03054060973227024,0.03217776492238045,0.05459105595946312,-0.007766270078718662,0.045698367059230804,0.04991741478443146,0.018894486129283905,0.24386632442474365,-0.2031729817390442,-0.15937988460063934,-0.043076999485492706,-0.030961129814386368,0.04030773043632507,0.04191407933831215,0.04768931493163109,-0.11308172345161438,-0.2648639976978302,0.19659468531608582,-0.13697071373462677,-0.11259404569864273,0.06172715872526169,-0.2691560685634613,0.02496032975614071,0.18563590943813324,-0.01841752417385578,0.20141451060771942,0.2253507822751999,-0.026249898597598076,-0.15368619561195374,0.035117197781801224,0.08504073321819305,0.0015912085073068738,-0.033868275582790375,0.023249667137861252,0.048439204692840576,-0.011899142526090145,0.13361391425132751],[-0.05913592502474785,-0.18570324778556824,0.24306151270866394,-0.11115625500679016,-0.023449065163731575,-0.23325830698013306,-0.04358305409550667,0.1438952088356018,-0.02106461487710476,-0.05386243760585785,-0.06904487311840057,0.06233051419258118,-0.04437235742807388,0.122482530772686,0.13731062412261963,0.1686306595802307,0.022525670006871223,-0.01574847288429737,-0.2032076120376587,0.11171134561300278,0.21412217617034912,-0.005804424174129963,-0.1126822978258133,0.20105396211147308,0.19025398790836334,-0.03764894977211952,-0.07783568650484085,0.048004742711782455,0.03669903799891472,-0.09096628427505493,0.047040488570928574,-0.03238034248352051,-0.017323574051260948,0.2990400791168213,0.02129158191382885,-0.16066640615463257,0.030620448291301727,-0.11741185188293457,0.10436880588531494,-0.2715049982070923,-0.060021333396434784,0.04300132766366005,0.003527296707034111,-0.04006257280707359,0.1759006232023239,0.03785300627350807,-0.26010918617248535,0.0842265635728836,0.13561682403087616,-0.0018899874994531274,-0.14478927850723267,-0.12443199008703232,-0.16790686547756195,-0.10927098989486694,0.006597533356398344,0.27503788471221924,-0.0497521311044693,0.07449620217084885,0.012176365591585636,-0.05732313543558121,-0.006134477909654379,-0.08507661521434784,-0.07390569895505905],[-0.3117196261882782,0.09920747578144073,-0.057445451617240906,0.03359543904662132,0.09366600960493088,-0.0662902444601059,-0.04501540958881378,0.10280898213386536,-0.023902449756860733,0.10526067763566971,0.051441989839076996,0.1305454671382904,-0.1523105800151825,-0.1447681337594986,-0.06947540491819382,-0.0809488594532013,-0.024352500215172768,0.1589212566614151,0.038508690893650055,-0.010440190322697163,0.032211046665906906,-0.07833774387836456,0.2070787400007248,0.03612099960446358,0.28274771571159363,-0.015342647209763527,-0.17572849988937378,0.2624342739582062,-0.08206266164779663,0.2533804774284363,0.06635145843029022,-0.05280957743525505,0.02761121280491352,0.008112414740025997,-0.0965169295668602,-0.13047485053539276,-0.20805668830871582,0.09967150539159775,-0.18601158261299133,-0.15432903170585632,-0.1857890784740448,-0.08210695534944534,0.03782876208424568,-0.0035951773170381784,-0.08371390402317047,-0.04868011549115181,0.12512345612049103,0.044291358441114426,0.2573857009410858,-0.01702718622982502,0.07220232486724854,0.04854675009846687,0.1286759376525879,0.07247384637594223,0.14042259752750397,0.07715146988630295,0.1449502855539322,-0.019627645611763,-0.2232995182275772,-0.058765146881341934,-0.010544169694185257,-0.06606023013591766,0.17258958518505096],[-0.08519648015499115,-0.27155575156211853,0.15555135905742645,0.07851126044988632,-0.10914411395788193,0.17001111805438995,-0.21140924096107483,-0.004081983584910631,0.10865142941474915,0.0566713809967041,-0.061657097190618515,0.12479319423437119,-0.06367900967597961,0.14946016669273376,0.060465265065431595,0.11063506454229355,-0.011593113653361797,0.004938560072332621,0.07545987516641617,-0.07818935811519623,0.058930639177560806,0.15391328930854797,0.01668614149093628,-0.15231037139892578,-0.010798200033605099,-0.18221336603164673,-0.06628923118114471,-0.09656307101249695,0.10354803502559662,-0.027226846665143967,-0.18948014080524445,-0.11066664755344391,0.060527488589286804,0.06525426357984543,0.023936139419674873,-0.0950278639793396,-0.02569683827459812,0.14354947209358215,0.17722879350185394,0.09210272133350372,-0.10119142383337021,-0.07656476646661758,0.04837312921881676,-0.22168754041194916,-0.03517759218811989,-0.08588006347417831,-0.09052962064743042,-0.054177477955818176,0.19871510565280914,0.0822557881474495,0.3051826059818268,0.3403794765472412,0.12021798640489578,-0.11242657899856567,-0.03624299541115761,-0.18110394477844238,0.03804309293627739,-0.1432303488254547,0.00840796995908022,-0.12666316330432892,-0.012146646156907082,-0.07559433579444885,-0.17543578147888184],[-0.20697332918643951,-0.044632360339164734,0.13315241038799286,-0.05947834625840187,0.04290057346224785,0.12220538407564163,0.15782779455184937,-0.07665526866912842,-0.08769546449184418,-0.13456842303276062,0.0224166177213192,-0.06586846709251404,0.022025303915143013,-0.09756151586771011,-0.16908645629882812,-0.159344881772995,0.11829491704702377,0.10271602123975754,-0.06719863414764404,-0.21020323038101196,0.07698582112789154,-0.10088399052619934,0.02095596119761467,0.05963725224137306,-0.127592533826828,0.135300412774086,-0.044221702963113785,-0.12557119131088257,0.3009740710258484,-0.04580198973417282,-0.0858926922082901,0.034286048263311386,-0.03453461453318596,-0.16654375195503235,-0.12705381214618683,-0.04754127934575081,-0.1626254767179489,0.25485506653785706,0.012011679820716381,-0.16056819260120392,-0.06417279690504074,-0.10072177648544312,-0.12012777477502823,-0.09461779147386551,-0.018903261050581932,0.09947579354047775,-0.10672876238822937,0.2901981770992279,0.03447738289833069,-0.06787162274122238,-0.23115351796150208,0.17261241376399994,-0.12945497035980225,-0.09130144119262695,-0.08135655522346497,-0.06502308696508408,0.15612973272800446,0.13424931466579437,0.25350356101989746,0.01517398376017809,0.04658161476254463,0.0512143038213253,-0.004930732771754265],[-0.09040185809135437,-0.056864287704229355,-0.037227924913167953,-0.16416214406490326,-0.024537036195397377,-0.14153297245502472,-0.11308939754962921,0.06900551915168762,-0.09286261349916458,0.06855650246143341,0.20339767634868622,0.19450432062149048,0.3097739517688751,-0.09469932317733765,-0.012418185360729694,0.09751933813095093,-0.20033544301986694,-0.03604981303215027,0.0891614556312561,0.04969054460525513,0.1496458500623703,-0.008984942920506,-0.028526101261377335,0.006146045867353678,0.08312703669071198,0.018842386081814766,-0.043347109109163284,-0.10393799841403961,-0.2018583118915558,0.04165429249405861,-0.029338698834180832,0.008296451531350613,0.0067180912010371685,-0.20375919342041016,-0.06307408213615417,0.003414726350456476,0.05610519275069237,-0.1422795206308365,-0.021087978035211563,-0.16046693921089172,-0.11092855036258698,-0.18042166531085968,0.0002641968021634966,-0.0686030462384224,-0.025608614087104797,-0.11529365926980972,-0.2078966498374939,-0.024391986429691315,-0.17760442197322845,0.017476150766015053,-0.05184459313750267,-0.0006241214578039944,0.28967389464378357,-0.09691789746284485,-0.19356375932693481,-0.26930874586105347,-0.16350744664669037,0.1778513789176941,0.130167156457901,-0.06239159405231476,0.16032905876636505,0.05769718065857887,0.16700267791748047],[-0.07475664466619492,0.03062203899025917,0.2636259198188782,-0.18299418687820435,0.01734013669192791,0.06867891550064087,0.02954021841287613,0.1469803750514984,0.17425014078617096,0.09413275122642517,0.07737287133932114,0.02708623558282852,0.04495083913207054,-0.21464240550994873,0.09726905077695847,-0.17705969512462616,0.020799078047275543,0.09337118268013,-0.20172853767871857,0.07984057068824768,-0.05667712166905403,0.12466950714588165,-0.17798714339733124,-0.07954664528369904,0.13306015729904175,-0.027788277715444565,0.053126830607652664,0.09934350848197937,-0.08615563064813614,-0.06221279501914978,-0.26402631402015686,-0.0775311142206192,-0.03813253343105316,0.09955954551696777,0.03889802470803261,0.23110245168209076,-0.0033987760543823242,-0.0625157430768013,-0.20118096470832825,0.004998676013201475,0.02598564513027668,0.12140514701604843,0.08243000507354736,0.24026364088058472,-0.00279905553907156,-0.041760269552469254,-0.12887512147426605,-0.18983565270900726,-0.07024442404508591,-0.09459634125232697,0.11541730165481567,0.17023949325084686,-0.10947231203317642,0.051109954714775085,-0.018716702237725258,-0.060917094349861145,0.3542560935020447,0.05943899229168892,0.12594442069530487,0.10296300053596497,0.10561874508857727,0.10218166559934616,-0.00444573350250721],[0.054806049913167953,0.13764923810958862,-0.066102035343647,-0.04340758174657822,-0.1289275884628296,0.021690690889954567,-0.10683239996433258,0.11388291418552399,-0.14848120510578156,0.05740961804986,0.22104738652706146,0.09615562111139297,-0.1530160754919052,0.2498142123222351,0.08999355137348175,-0.07017430663108826,-0.13774307072162628,0.06869278103113174,-0.07283256202936172,-0.08083772659301758,-0.16022555530071259,-0.02095266431570053,-0.11535584926605225,0.008873861283063889,-0.16071701049804688,0.01267686765640974,0.1844158172607422,0.03969637304544449,-0.13830295205116272,0.12465497851371765,-0.08152974396944046,-0.2521778345108032,-0.015303714200854301,0.08126028627157211,-0.11104312539100647,-0.0559111125767231,-0.03392793610692024,-0.03790843114256859,-0.1513490080833435,0.18182195723056793,-0.18195022642612457,0.10914936661720276,0.011255788616836071,-0.1938946545124054,-0.0014305864460766315,-0.07158105820417404,0.05375620350241661,0.19449517130851746,-0.03242330625653267,-0.17981131374835968,-0.10107925534248352,0.1593092530965805,-0.26412901282310486,-0.011026080697774887,0.0787259042263031,0.07273692637681961,-0.19111241400241852,0.0589556023478508,0.05107518285512924,-0.18683385848999023,0.2532234787940979,0.06984412670135498,0.01486053504049778],[0.13415753841400146,0.2434043288230896,0.15502919256687164,0.12318719178438187,-0.016769012436270714,-0.2720838487148285,0.03366565331816673,0.0002767730038613081,0.045652322471141815,0.05926702544093132,-0.04548471048474312,-0.11452486366033554,-0.053403742611408234,0.10562900453805923,0.06528683751821518,0.15085649490356445,-0.15855269134044647,-0.1011754497885704,-0.13968057930469513,0.11448610574007034,0.143082395195961,-0.0684703141450882,0.07464539259672165,0.04450906440615654,-0.23189891874790192,-0.17920443415641785,0.07157671451568604,0.004072490148246288,0.09706363081932068,0.020603884011507034,0.05895733833312988,-0.05689305067062378,-0.09956533461809158,0.06718200445175171,0.03142158314585686,0.12935078144073486,-0.0028720323462039232,-0.05676574259996414,-0.26012274622917175,-0.2452046126127243,0.13390272855758667,-0.21779611706733704,0.021228032186627388,-0.1894955188035965,0.061604488641023636,-0.13927896320819855,0.1658473163843155,0.16662025451660156,0.07733239233493805,-0.013753144070506096,0.05683136358857155,0.08889492601156235,0.04825462028384209,0.02234070748090744,0.1073833480477333,-0.28776055574417114,0.17624840140342712,-0.05141882598400116,0.10512271523475647,0.099539615213871,-0.11969764530658722,0.10551252961158752,0.007729804143309593],[0.12158383429050446,-0.049169499427080154,0.032183751463890076,-0.030453888699412346,0.05341895669698715,-0.13892731070518494,0.2335502654314041,-0.0070379567332565784,-0.09185461699962616,-0.20605763792991638,-0.1552709937095642,0.14292468130588531,-0.03946610167622566,-0.010680267587304115,0.06695857644081116,-0.11852025240659714,0.13448993861675262,0.0901290774345398,0.07907119393348694,-0.14066141843795776,0.04107926785945892,-0.1379881352186203,0.08194079995155334,0.08327142149209976,-0.2335519939661026,-0.1321002095937729,-0.20752450823783875,-0.06381186842918396,-0.37173202633857727,0.005793359130620956,0.06002919375896454,0.1291063278913498,0.04212537407875061,-0.03998468816280365,-0.15099136531352997,0.07215984165668488,-0.10676687210798264,-0.08069606125354767,-0.1300497055053711,-0.019271347671747208,0.13897573947906494,0.1493859738111496,0.018530601635575294,0.1801123172044754,0.027193352580070496,0.021089091897010803,-0.10276101529598236,-0.03281017020344734,0.2354692965745926,-7.506037218263373e-05,0.2461371123790741,0.1280919313430786,0.013502802699804306,-0.19283539056777954,0.13203471899032593,-0.048782434314489365,-0.17440004646778107,0.016201280057430267,0.12898872792720795,-0.030104489997029305,0.14025284349918365,-0.01717112772166729,-0.1122283861041069],[0.13720174133777618,0.0955093652009964,-0.017716029658913612,-0.04966501519083977,-0.1587381362915039,0.0347687192261219,-0.09990871697664261,-0.12281670421361923,0.06939705461263657,-0.0816686674952507,0.0031352913938462734,-0.19823451340198517,0.05776672065258026,-0.1742623746395111,0.017215808853507042,-0.10870710015296936,-0.11746830493211746,-0.006199391558766365,-0.11311778426170349,-0.008429010398685932,-0.14032231271266937,0.17269401252269745,0.20400770008563995,0.2749936282634735,0.18878111243247986,-0.28727829456329346,-0.23732884228229523,-0.1592516452074051,-0.03172419220209122,0.09535829722881317,0.038909170776605606,-0.05619395151734352,-0.0869998037815094,0.08266673982143402,0.23327913880348206,0.0465044341981411,-0.11164886504411697,0.02153063379228115,0.10508469492197037,0.08586132526397705,0.07973519712686539,0.059766773134469986,-0.12338939309120178,-0.0023996273521333933,-0.00907067395746708,-0.059625089168548584,0.019221320748329163,0.25006890296936035,-0.12621165812015533,0.08639072626829147,0.09687257558107376,0.08904100954532623,0.10048944503068924,0.09462343901395798,0.025293700397014618,0.14591099321842194,-0.007030830252915621,0.21222920715808868,0.18765278160572052,-0.20158730447292328,0.03570054471492767,-0.1049804612994194,0.06451926380395889],[-0.05405040830373764,-0.06103052198886871,-0.2576606869697571,-0.002970385830849409,0.09084220230579376,-0.040290918201208115,0.08503113687038422,0.10989554226398468,0.06101297214627266,-0.14139960706233978,0.0007390790851786733,-0.25821438431739807,0.06847833842039108,-0.05909522622823715,-0.019072454422712326,0.13670232892036438,-0.05199574679136276,0.08957985788583755,0.09417186677455902,0.1216830313205719,-0.10116235911846161,0.03082418069243431,0.11284289509057999,-0.06867458671331406,0.06218705698847771,0.25678449869155884,-0.10395615547895432,0.11037231236696243,-0.05522112920880318,-0.018622757866978645,0.08520343899726868,-0.23115529119968414,-0.1506992131471634,0.21712753176689148,-0.09429237246513367,0.37833502888679504,-0.09373946487903595,0.08973101526498795,0.02993519976735115,0.06312862038612366,-0.04817347601056099,-0.15239664912223816,0.09914731979370117,-0.06643541157245636,0.014873390085995197,0.026995744556188583,-0.32442036271095276,0.022898979485034943,-0.07224932312965393,-0.058641768991947174,-0.05031202733516693,0.09189408272504807,-0.010692489333450794,-0.09403680264949799,0.1944439858198166,-0.07171899825334549,-0.09500632435083389,-0.1381208896636963,0.06559601426124573,-0.12270871549844742,-0.16644389927387238,0.034176070243120193,-0.1491413563489914],[-0.02279886230826378,0.1622997522354126,0.08075006306171417,-0.06611984223127365,0.06941115856170654,0.2748582661151886,0.020019423216581345,-0.05700254067778587,0.002969370922073722,0.21755781769752502,0.06745278090238571,-0.10932553559541702,-0.015944771468639374,0.11997301131486893,0.16096940636634827,0.11374606937170029,0.07999567687511444,0.10808206349611282,0.14982977509498596,0.06990092247724533,0.17782719433307648,0.024849751964211464,0.17685680091381073,0.0075829667039215565,-0.05458831787109375,0.0652773305773735,-0.16063734889030457,-0.21569272875785828,0.013589257374405861,0.09191637486219406,-0.1655494123697281,0.39798688888549805,-0.07134780287742615,0.17641325294971466,-0.06720221787691116,0.13493786752223969,0.09879740327596664,0.0546354204416275,0.007003337610512972,-0.10416983813047409,0.05858384445309639,0.0941690057516098,0.13486884534358978,-0.2294991910457611,0.024657057598233223,0.02639787271618843,-0.07753396779298782,-0.09882524609565735,-0.059367530047893524,-0.06643331050872803,-0.0017005754634737968,0.07951981574296951,0.0057562352158129215,0.05656677484512329,0.17306990921497345,0.17148464918136597,-0.09607505053281784,0.10410293936729431,-0.11176935583353043,0.025863537564873695,0.08642735332250595,0.18935821950435638,0.20412960648536682],[-0.05992016941308975,-0.011940652504563332,-0.06225256249308586,0.06748319417238235,-0.003253708127886057,0.08095268160104752,0.12360282987356186,-0.21262842416763306,-0.051687803119421005,-0.20070552825927734,0.05457053706049919,-0.05060315132141113,0.12367255985736847,-0.035726673901081085,0.2826218605041504,-0.09704406559467316,-0.051644470542669296,-0.04862348735332489,-0.1737426519393921,-0.06513024121522903,-0.10378753393888474,-0.10080239921808243,-0.17027993500232697,-0.0034549797419458628,0.08949842303991318,-0.033824749290943146,-0.033733710646629333,0.012853198684751987,-0.019900256767868996,0.092869333922863,-0.3860371708869934,0.04568300023674965,-0.10158596932888031,0.1345677375793457,-0.16667886078357697,-0.05003315210342407,-0.022217655554413795,0.021971598267555237,-0.023143421858549118,-0.008607708849012852,-0.08687485009431839,-0.15976637601852417,0.37728583812713623,0.005088272504508495,0.1160418689250946,-0.03259555995464325,0.14736926555633545,0.11531199514865875,0.007366388104856014,0.09879226237535477,0.07303640991449356,-0.12575216591358185,0.027164505794644356,-0.04794423654675484,-0.07809314876794815,-0.01901877298951149,-0.1924220323562622,-0.09808614104986191,0.06592576950788498,0.17539186775684357,-0.1597779244184494,-0.22959007322788239,0.1439010053873062],[-0.012185804545879364,0.0558801107108593,0.21995827555656433,-0.14685970544815063,0.08501847833395004,-0.07594244927167892,0.07438638061285019,-0.24254831671714783,0.0441780686378479,0.0031377156265079975,0.052518121898174286,-0.013629121705889702,-0.1597408801317215,-0.007054234389215708,-0.10923866927623749,0.05687946081161499,-0.11860201507806778,-0.0001520321675343439,0.17642606794834137,-0.051413796842098236,-0.2512568533420563,-0.07774022966623306,-0.010701271705329418,0.051510289311409,0.08378233015537262,-0.1131846234202385,0.138645738363266,0.20840229094028473,0.09797046333551407,0.05214035511016846,-0.026798244565725327,0.15803319215774536,0.2767065763473511,0.14331761002540588,0.02678547613322735,-0.06496509909629822,-0.07663408666849136,-0.14834709465503693,0.15655435621738434,0.2490861564874649,0.11531531065702438,-0.17377647757530212,0.01671968214213848,-0.00574473338201642,-0.0541083887219429,-0.06659604609012604,-0.2991391718387604,0.14614365994930267,-0.02066255547106266,-0.053176481276750565,-0.025176210328936577,-0.030810989439487457,0.007052833680063486,-0.13437293469905853,0.19456394016742706,-0.1751156747341156,-0.015490565448999405,0.14271897077560425,-0.1328553408384323,0.21552416682243347,0.07702497392892838,-0.00027040144777856767,0.054043982177972794],[-0.07653813064098358,-0.2075156569480896,-0.06942477822303772,-0.174406498670578,0.042494941502809525,-0.17829427123069763,-0.07969065755605698,-0.029383905231952667,-0.2001562863588333,0.10604474693536758,-0.09273787587881088,-0.1736600697040558,-0.06366094946861267,0.1570572704076767,-0.05714115872979164,-0.12424390763044357,0.044165708124637604,-0.03747911378741264,-0.09119054675102234,-0.10672064125537872,-0.11945049464702606,-0.10861814022064209,0.024543695151805878,0.03421630337834358,-0.06051468849182129,0.09985590726137161,0.03609573468565941,-0.02122575230896473,-0.029513895511627197,-0.12660422921180725,-0.22632509469985962,-0.020424669608473778,-0.28750306367874146,-0.15560872852802277,0.1565665304660797,0.13452908396720886,0.0965631902217865,-0.09375729411840439,0.05444200336933136,-0.0614166334271431,-0.18532021343708038,0.23823808133602142,-0.20364689826965332,-0.06499239802360535,-0.08954112231731415,-0.1931382119655609,-0.1319085657596588,0.1145903617143631,0.04591468349099159,0.1926342248916626,0.16610287129878998,-0.0562470406293869,0.059020839631557465,0.006749393418431282,0.20695513486862183,-0.0365603081882,0.06100105866789818,-0.061629220843315125,-0.15436197817325592,0.14795218408107758,-0.05893977731466293,-0.012293492443859577,0.20302486419677734],[0.0644325390458107,0.11271585524082184,-0.08883661031723022,0.060031525790691376,-0.11813661456108093,-0.16183912754058838,-0.19487367570400238,0.048240967094898224,0.014267858117818832,-0.16878825426101685,-0.027244577184319496,0.03540695831179619,0.049979209899902344,0.14937983453273773,0.0405503548681736,-0.09829510748386383,0.09261269867420197,-0.030704308301210403,0.1258995682001114,0.0036920690909028053,0.07694140821695328,0.01281891018152237,-0.056235238909721375,-0.18114684522151947,0.23177655041217804,0.15803876519203186,0.16649200022220612,-0.037630051374435425,0.1965179145336151,-0.026741521432995796,-0.05386671796441078,0.24191953241825104,0.06614736467599869,0.08115638792514801,0.08981320261955261,0.013401788659393787,-0.3285784125328064,0.03562401607632637,-0.11042531579732895,0.06886722147464752,-0.06355494260787964,0.15610802173614502,-0.10591443628072739,0.014310447499155998,0.19833539426326752,0.030620306730270386,-0.05733406916260719,-0.12572753429412842,0.18260030448436737,-0.019242046400904655,0.05101795867085457,-0.07782742381095886,-0.00549762649461627,0.190157949924469,0.15134751796722412,-0.22905752062797546,-0.09188657999038696,0.16604474186897278,0.2647441625595093,-0.104927197098732,-0.09457972645759583,-0.03969082236289978,0.14903658628463745],[0.056453119963407516,0.08461743593215942,0.05509412661194801,-0.04586237296462059,-0.01973317563533783,0.0057302252389490604,0.021992171183228493,0.06378486752510071,-0.016497652977705002,0.04342586174607277,-0.17170923948287964,0.14267794787883759,-0.1384524703025818,0.024530313909053802,-0.2484416514635086,-0.04442733898758888,-0.1886252462863922,0.0555906817317009,0.01500258781015873,-0.003093129489570856,-0.004204760305583477,0.1903238445520401,0.021221812814474106,0.18961189687252045,-0.08237704634666443,-0.032386381179094315,0.16586166620254517,0.14785867929458618,-0.005521560553461313,-0.02137278951704502,0.08501607179641724,-0.04115990549325943,-0.08802291005849838,-0.026362473145127296,-0.16119670867919922,0.1613551676273346,-0.07853397727012634,0.12020853161811829,0.33603635430336,-0.1345444768667221,0.02302919514477253,0.01169259287416935,0.13399940729141235,0.04116557538509369,0.2636951506137848,0.12717600166797638,-0.04408935084939003,-0.10843300074338913,-0.022416774183511734,0.16340979933738708,0.0381443053483963,0.15025395154953003,-0.06950166076421738,0.17405088245868683,-0.09813195466995239,-0.0196498055011034,-0.11771943420171738,-0.20867331326007843,0.0997132733464241,0.09486246854066849,0.12025635689496994,-0.08564348518848419,0.3735891282558441],[-0.1571492850780487,-0.013511988334357738,-0.018271980807185173,0.08288633078336716,-0.16272851824760437,0.0972541943192482,-0.025118084624409676,-0.08369038999080658,0.18987567722797394,0.0014753997093066573,0.014404806308448315,-0.034525398164987564,0.05936839431524277,-0.026258600875735283,-0.07562873512506485,0.18655848503112793,0.014170816168189049,-0.0137044508010149,0.11470886319875717,0.05640939623117447,-0.06546281278133392,0.02635512314736843,0.010315819643437862,0.0530480332672596,-0.005085766781121492,0.09243234992027283,0.08716348558664322,0.2727021872997284,-0.12300056219100952,-0.009622359648346901,-0.08906799554824829,0.04572785645723343,-0.24093317985534668,0.16100963950157166,0.028292333707213402,0.023101577535271645,0.12466169893741608,0.1469719111919403,0.006729503627866507,-0.13053971529006958,0.13614317774772644,0.12946535646915436,-0.21862009167671204,0.09596529603004456,-0.07729572802782059,0.06192202866077423,0.05379539355635643,0.259760320186615,0.25428512692451477,-0.21336208283901215,0.23073187470436096,-0.12542730569839478,-0.051736749708652496,0.003086975309997797,-0.31782108545303345,-0.12975886464118958,-0.20831437408924103,0.12158611416816711,-0.01031598448753357,0.06745319068431854,0.08611245453357697,0.14064209163188934,-0.004608470015227795],[-0.010961001738905907,0.001044836244545877,0.06591370701789856,-0.06641450524330139,-0.04789692535996437,0.09056121855974197,0.2623351514339447,0.010233715176582336,0.014371858909726143,0.013407011516392231,0.009008252061903477,0.07533688843250275,0.34434831142425537,0.3297257721424103,-0.028843244537711143,-0.13330021500587463,0.08309300243854523,0.03083512745797634,-0.016511352732777596,0.13851115107536316,-0.11816690862178802,0.03686190024018288,0.14436207711696625,-0.15797196328639984,-0.1391032338142395,-0.1089661568403244,-0.13922259211540222,0.3196604549884796,-0.02465846575796604,0.012342412024736404,0.022104017436504364,-0.05083632096648216,0.11477406322956085,0.06014304608106613,0.18249820172786713,-0.013752023689448833,0.1364608108997345,0.16987143456935883,0.030477052554488182,-0.10726357251405716,-0.01406898070126772,-0.023335373029112816,0.030968597158789635,-0.026698818430304527,-0.09156376868486404,-0.014140692539513111,0.03815620392560959,-0.0752185508608818,-0.0073470380157232285,0.261272132396698,-0.08725114166736603,-0.1331057846546173,-0.19214807450771332,-0.06232643872499466,0.09133394062519073,-0.1540897786617279,0.05767068639397621,0.1635391116142273,0.023748554289340973,-0.23684698343276978,0.007991966791450977,-0.10772912204265594,0.14619334042072296],[-0.17393885552883148,0.250654935836792,0.005045400932431221,0.14721159636974335,-0.14435352385044098,-0.11511895805597305,0.12028767168521881,0.10324441641569138,-0.1744115948677063,-0.012043267488479614,-0.3279837667942047,-0.0854010209441185,0.07505728304386139,-0.09587512165307999,-0.07203604280948639,0.08485209196805954,0.12201385945081711,0.17914588749408722,0.043390803039073944,0.08598276972770691,-0.22985605895519257,0.022882750257849693,-0.08840405941009521,0.0006214611930772662,0.00048626831267029047,-0.14915494620800018,0.11217949539422989,-0.2349328249692917,0.027725527063012123,-0.13971741497516632,-0.04865046218037605,-0.06114523112773895,-0.10416634380817413,-0.07531028985977173,0.11731885373592377,-0.14791838824748993,0.08104799687862396,0.03187311440706253,0.03299757465720177,-0.11375156790018082,-0.16128318011760712,-0.12984499335289001,0.215497225522995,-0.033056437969207764,-0.062471721321344376,0.11702878028154373,-0.11209166795015335,-0.09466943144798279,-0.04781527444720268,-0.2125636339187622,0.14223594963550568,-0.050920821726322174,-0.018108876422047615,0.146589457988739,0.10763747990131378,-0.0688362717628479,-0.05572953447699547,0.17130567133426666,-0.1410389542579651,-0.033433105796575546,0.17415283620357513,-0.11418495327234268,-0.10461604595184326],[0.06315644085407257,0.016387443989515305,0.06684918701648712,-0.11148486286401749,-0.057323768734931946,-0.07764004170894623,-0.04582318291068077,-0.13860279321670532,-0.13885866105556488,0.12054663896560669,-0.3824406862258911,-0.017150266095995903,0.09210585057735443,-0.07833626121282578,0.1297571063041687,-0.1492379605770111,-0.04084015265107155,0.06059136986732483,0.020921189337968826,-0.020703427493572235,0.017263703048229218,0.15366916358470917,0.11434400826692581,0.04736291989684105,0.014399757608771324,0.17861425876617432,-0.16210459172725677,0.06240061670541763,0.16134874522686005,0.053629957139492035,-0.15202565491199493,-0.011574992910027504,0.2604925334453583,0.07107153534889221,-0.12798398733139038,0.13369283080101013,0.05354977771639824,-0.2053092122077942,-0.009831720031797886,-0.056503091007471085,-0.027898279950022697,0.012012258172035217,-0.019188368692994118,0.0693802535533905,-0.1579819619655609,-0.18423473834991455,0.04895257204771042,0.0838233157992363,0.10328958183526993,-0.03339109569787979,-0.20734825730323792,0.03175655007362366,-0.07509680092334747,0.30886223912239075,-0.17013545334339142,-0.15641304850578308,-0.17846979200839996,-0.1508834809064865,-0.10285986959934235,-0.11849157512187958,0.04957408085465431,0.0382099486887455,-0.17599396407604218],[0.01225472241640091,0.04327961057424545,-0.08687714487314224,-0.26307767629623413,-0.33987700939178467,-0.14838524162769318,0.0213468037545681,-0.07710035145282745,0.07660146057605743,0.040903009474277496,-0.12808209657669067,0.11198988556861877,-0.11578265577554703,0.00012739234080072492,0.0853218361735344,-0.0037139656487852335,-0.039050180464982986,0.09188763052225113,0.005688606295734644,-0.1108628660440445,-0.014123314991593361,-0.11657227575778961,0.04097316414117813,-0.23838678002357483,-0.09644872695207596,-0.07726211100816727,0.05325062945485115,-0.025126291438937187,-0.07256463170051575,0.18189309537410736,0.017401907593011856,0.04831644147634506,-0.008193970657885075,-0.010312221944332123,-0.0966443121433258,0.25679951906204224,0.1634911447763443,0.11286759376525879,0.06889382004737854,0.08729422837495804,-0.17844907939434052,-0.09994446486234665,-0.02936985343694687,0.03091360442340374,0.29839736223220825,0.14184808731079102,-0.020369956269860268,0.05810881406068802,0.06341752409934998,0.07996359467506409,-0.07063006609678268,0.003387233940884471,0.10687173157930374,0.022505199536681175,-0.16042888164520264,0.12375850975513458,0.17367762327194214,0.3092905282974243,-0.15671126544475555,0.012037098407745361,-0.2101087123155594,0.030328426510095596,-0.1338045597076416]],\"type\":\"heatmap\",\"xaxis\":\"x\",\"yaxis\":\"y\",\"hovertemplate\":\"x: %{x}\\u003cbr\\u003ey: %{y}\\u003cbr\\u003ecolor: %{z}\\u003cextra\\u003e\\u003c\\u002fextra\\u003e\"}],                        {\"template\":{\"data\":{\"histogram2dcontour\":[{\"type\":\"histogram2dcontour\",\"colorbar\":{\"outlinewidth\":0,\"ticks\":\"\"},\"colorscale\":[[0.0,\"#0d0887\"],[0.1111111111111111,\"#46039f\"],[0.2222222222222222,\"#7201a8\"],[0.3333333333333333,\"#9c179e\"],[0.4444444444444444,\"#bd3786\"],[0.5555555555555556,\"#d8576b\"],[0.6666666666666666,\"#ed7953\"],[0.7777777777777778,\"#fb9f3a\"],[0.8888888888888888,\"#fdca26\"],[1.0,\"#f0f921\"]]}],\"choropleth\":[{\"type\":\"choropleth\",\"colorbar\":{\"outlinewidth\":0,\"ticks\":\"\"}}],\"histogram2d\":[{\"type\":\"histogram2d\",\"colorbar\":{\"outlinewidth\":0,\"ticks\":\"\"},\"colorscale\":[[0.0,\"#0d0887\"],[0.1111111111111111,\"#46039f\"],[0.2222222222222222,\"#7201a8\"],[0.3333333333333333,\"#9c179e\"],[0.4444444444444444,\"#bd3786\"],[0.5555555555555556,\"#d8576b\"],[0.6666666666666666,\"#ed7953\"],[0.7777777777777778,\"#fb9f3a\"],[0.8888888888888888,\"#fdca26\"],[1.0,\"#f0f921\"]]}],\"heatmap\":[{\"type\":\"heatmap\",\"colorbar\":{\"outlinewidth\":0,\"ticks\":\"\"},\"colorscale\":[[0.0,\"#0d0887\"],[0.1111111111111111,\"#46039f\"],[0.2222222222222222,\"#7201a8\"],[0.3333333333333333,\"#9c179e\"],[0.4444444444444444,\"#bd3786\"],[0.5555555555555556,\"#d8576b\"],[0.6666666666666666,\"#ed7953\"],[0.7777777777777778,\"#fb9f3a\"],[0.8888888888888888,\"#fdca26\"],[1.0,\"#f0f921\"]]}],\"heatmapgl\":[{\"type\":\"heatmapgl\",\"colorbar\":{\"outlinewidth\":0,\"ticks\":\"\"},\"colorscale\":[[0.0,\"#0d0887\"],[0.1111111111111111,\"#46039f\"],[0.2222222222222222,\"#7201a8\"],[0.3333333333333333,\"#9c179e\"],[0.4444444444444444,\"#bd3786\"],[0.5555555555555556,\"#d8576b\"],[0.6666666666666666,\"#ed7953\"],[0.7777777777777778,\"#fb9f3a\"],[0.8888888888888888,\"#fdca26\"],[1.0,\"#f0f921\"]]}],\"contourcarpet\":[{\"type\":\"contourcarpet\",\"colorbar\":{\"outlinewidth\":0,\"ticks\":\"\"}}],\"contour\":[{\"type\":\"contour\",\"colorbar\":{\"outlinewidth\":0,\"ticks\":\"\"},\"colorscale\":[[0.0,\"#0d0887\"],[0.1111111111111111,\"#46039f\"],[0.2222222222222222,\"#7201a8\"],[0.3333333333333333,\"#9c179e\"],[0.4444444444444444,\"#bd3786\"],[0.5555555555555556,\"#d8576b\"],[0.6666666666666666,\"#ed7953\"],[0.7777777777777778,\"#fb9f3a\"],[0.8888888888888888,\"#fdca26\"],[1.0,\"#f0f921\"]]}],\"surface\":[{\"type\":\"surface\",\"colorbar\":{\"outlinewidth\":0,\"ticks\":\"\"},\"colorscale\":[[0.0,\"#0d0887\"],[0.1111111111111111,\"#46039f\"],[0.2222222222222222,\"#7201a8\"],[0.3333333333333333,\"#9c179e\"],[0.4444444444444444,\"#bd3786\"],[0.5555555555555556,\"#d8576b\"],[0.6666666666666666,\"#ed7953\"],[0.7777777777777778,\"#fb9f3a\"],[0.8888888888888888,\"#fdca26\"],[1.0,\"#f0f921\"]]}],\"mesh3d\":[{\"type\":\"mesh3d\",\"colorbar\":{\"outlinewidth\":0,\"ticks\":\"\"}}],\"scatter\":[{\"fillpattern\":{\"fillmode\":\"overlay\",\"size\":10,\"solidity\":0.2},\"type\":\"scatter\"}],\"parcoords\":[{\"type\":\"parcoords\",\"line\":{\"colorbar\":{\"outlinewidth\":0,\"ticks\":\"\"}}}],\"scatterpolargl\":[{\"type\":\"scatterpolargl\",\"marker\":{\"colorbar\":{\"outlinewidth\":0,\"ticks\":\"\"}}}],\"bar\":[{\"error_x\":{\"color\":\"#2a3f5f\"},\"error_y\":{\"color\":\"#2a3f5f\"},\"marker\":{\"line\":{\"color\":\"#E5ECF6\",\"width\":0.5},\"pattern\":{\"fillmode\":\"overlay\",\"size\":10,\"solidity\":0.2}},\"type\":\"bar\"}],\"scattergeo\":[{\"type\":\"scattergeo\",\"marker\":{\"colorbar\":{\"outlinewidth\":0,\"ticks\":\"\"}}}],\"scatterpolar\":[{\"type\":\"scatterpolar\",\"marker\":{\"colorbar\":{\"outlinewidth\":0,\"ticks\":\"\"}}}],\"histogram\":[{\"marker\":{\"pattern\":{\"fillmode\":\"overlay\",\"size\":10,\"solidity\":0.2}},\"type\":\"histogram\"}],\"scattergl\":[{\"type\":\"scattergl\",\"marker\":{\"colorbar\":{\"outlinewidth\":0,\"ticks\":\"\"}}}],\"scatter3d\":[{\"type\":\"scatter3d\",\"line\":{\"colorbar\":{\"outlinewidth\":0,\"ticks\":\"\"}},\"marker\":{\"colorbar\":{\"outlinewidth\":0,\"ticks\":\"\"}}}],\"scattermapbox\":[{\"type\":\"scattermapbox\",\"marker\":{\"colorbar\":{\"outlinewidth\":0,\"ticks\":\"\"}}}],\"scatterternary\":[{\"type\":\"scatterternary\",\"marker\":{\"colorbar\":{\"outlinewidth\":0,\"ticks\":\"\"}}}],\"scattercarpet\":[{\"type\":\"scattercarpet\",\"marker\":{\"colorbar\":{\"outlinewidth\":0,\"ticks\":\"\"}}}],\"carpet\":[{\"aaxis\":{\"endlinecolor\":\"#2a3f5f\",\"gridcolor\":\"white\",\"linecolor\":\"white\",\"minorgridcolor\":\"white\",\"startlinecolor\":\"#2a3f5f\"},\"baxis\":{\"endlinecolor\":\"#2a3f5f\",\"gridcolor\":\"white\",\"linecolor\":\"white\",\"minorgridcolor\":\"white\",\"startlinecolor\":\"#2a3f5f\"},\"type\":\"carpet\"}],\"table\":[{\"cells\":{\"fill\":{\"color\":\"#EBF0F8\"},\"line\":{\"color\":\"white\"}},\"header\":{\"fill\":{\"color\":\"#C8D4E3\"},\"line\":{\"color\":\"white\"}},\"type\":\"table\"}],\"barpolar\":[{\"marker\":{\"line\":{\"color\":\"#E5ECF6\",\"width\":0.5},\"pattern\":{\"fillmode\":\"overlay\",\"size\":10,\"solidity\":0.2}},\"type\":\"barpolar\"}],\"pie\":[{\"automargin\":true,\"type\":\"pie\"}]},\"layout\":{\"autotypenumbers\":\"strict\",\"colorway\":[\"#636efa\",\"#EF553B\",\"#00cc96\",\"#ab63fa\",\"#FFA15A\",\"#19d3f3\",\"#FF6692\",\"#B6E880\",\"#FF97FF\",\"#FECB52\"],\"font\":{\"color\":\"#2a3f5f\"},\"hovermode\":\"closest\",\"hoverlabel\":{\"align\":\"left\"},\"paper_bgcolor\":\"white\",\"plot_bgcolor\":\"#E5ECF6\",\"polar\":{\"bgcolor\":\"#E5ECF6\",\"angularaxis\":{\"gridcolor\":\"white\",\"linecolor\":\"white\",\"ticks\":\"\"},\"radialaxis\":{\"gridcolor\":\"white\",\"linecolor\":\"white\",\"ticks\":\"\"}},\"ternary\":{\"bgcolor\":\"#E5ECF6\",\"aaxis\":{\"gridcolor\":\"white\",\"linecolor\":\"white\",\"ticks\":\"\"},\"baxis\":{\"gridcolor\":\"white\",\"linecolor\":\"white\",\"ticks\":\"\"},\"caxis\":{\"gridcolor\":\"white\",\"linecolor\":\"white\",\"ticks\":\"\"}},\"coloraxis\":{\"colorbar\":{\"outlinewidth\":0,\"ticks\":\"\"}},\"colorscale\":{\"sequential\":[[0.0,\"#0d0887\"],[0.1111111111111111,\"#46039f\"],[0.2222222222222222,\"#7201a8\"],[0.3333333333333333,\"#9c179e\"],[0.4444444444444444,\"#bd3786\"],[0.5555555555555556,\"#d8576b\"],[0.6666666666666666,\"#ed7953\"],[0.7777777777777778,\"#fb9f3a\"],[0.8888888888888888,\"#fdca26\"],[1.0,\"#f0f921\"]],\"sequentialminus\":[[0.0,\"#0d0887\"],[0.1111111111111111,\"#46039f\"],[0.2222222222222222,\"#7201a8\"],[0.3333333333333333,\"#9c179e\"],[0.4444444444444444,\"#bd3786\"],[0.5555555555555556,\"#d8576b\"],[0.6666666666666666,\"#ed7953\"],[0.7777777777777778,\"#fb9f3a\"],[0.8888888888888888,\"#fdca26\"],[1.0,\"#f0f921\"]],\"diverging\":[[0,\"#8e0152\"],[0.1,\"#c51b7d\"],[0.2,\"#de77ae\"],[0.3,\"#f1b6da\"],[0.4,\"#fde0ef\"],[0.5,\"#f7f7f7\"],[0.6,\"#e6f5d0\"],[0.7,\"#b8e186\"],[0.8,\"#7fbc41\"],[0.9,\"#4d9221\"],[1,\"#276419\"]]},\"xaxis\":{\"gridcolor\":\"white\",\"linecolor\":\"white\",\"ticks\":\"\",\"title\":{\"standoff\":15,\"font\":{\"size\":20}},\"zerolinecolor\":\"white\",\"automargin\":true,\"zerolinewidth\":2},\"yaxis\":{\"gridcolor\":\"white\",\"linecolor\":\"white\",\"ticks\":\"\",\"title\":{\"standoff\":15,\"font\":{\"size\":20}},\"zerolinecolor\":\"white\",\"automargin\":true,\"zerolinewidth\":2},\"scene\":{\"xaxis\":{\"backgroundcolor\":\"#E5ECF6\",\"gridcolor\":\"white\",\"linecolor\":\"white\",\"showbackground\":true,\"ticks\":\"\",\"zerolinecolor\":\"white\",\"gridwidth\":2},\"yaxis\":{\"backgroundcolor\":\"#E5ECF6\",\"gridcolor\":\"white\",\"linecolor\":\"white\",\"showbackground\":true,\"ticks\":\"\",\"zerolinecolor\":\"white\",\"gridwidth\":2},\"zaxis\":{\"backgroundcolor\":\"#E5ECF6\",\"gridcolor\":\"white\",\"linecolor\":\"white\",\"showbackground\":true,\"ticks\":\"\",\"zerolinecolor\":\"white\",\"gridwidth\":2}},\"shapedefaults\":{\"line\":{\"color\":\"#2a3f5f\"}},\"annotationdefaults\":{\"arrowcolor\":\"#2a3f5f\",\"arrowhead\":0,\"arrowwidth\":1},\"geo\":{\"bgcolor\":\"white\",\"landcolor\":\"#E5ECF6\",\"subunitcolor\":\"white\",\"showland\":true,\"showlakes\":true,\"lakecolor\":\"white\"},\"title\":{\"x\":0.05,\"font\":{\"size\":30}},\"mapbox\":{\"style\":\"light\"}}},\"xaxis\":{\"anchor\":\"y\",\"domain\":[0.0,1.0],\"scaleanchor\":\"y\",\"constrain\":\"domain\"},\"yaxis\":{\"anchor\":\"x\",\"domain\":[0.0,1.0],\"autorange\":\"reversed\",\"constrain\":\"domain\"},\"coloraxis\":{\"colorscale\":[[0.0,\"rgb(103,0,31)\"],[0.1,\"rgb(178,24,43)\"],[0.2,\"rgb(214,96,77)\"],[0.3,\"rgb(244,165,130)\"],[0.4,\"rgb(253,219,199)\"],[0.5,\"rgb(247,247,247)\"],[0.6,\"rgb(209,229,240)\"],[0.7,\"rgb(146,197,222)\"],[0.8,\"rgb(67,147,195)\"],[0.9,\"rgb(33,102,172)\"],[1.0,\"rgb(5,48,97)\"]],\"cmid\":0.0},\"title\":{\"text\":\"Principal Components Random\"}},                        {\"responsive\": true}                    ).then(function(){\n",
              "                            \n",
              "var gd = document.getElementById('2814a04d-795b-434f-9256-771f45f93bca');\n",
              "var x = new MutationObserver(function (mutations, observer) {{\n",
              "        var display = window.getComputedStyle(gd).display;\n",
              "        if (!display || display === 'none') {{\n",
              "            console.log([gd, 'removed!']);\n",
              "            Plotly.purge(gd);\n",
              "            observer.disconnect();\n",
              "        }}\n",
              "}});\n",
              "\n",
              "// Listen for the removal of the full notebook cells\n",
              "var notebookContainer = gd.closest('#notebook-container');\n",
              "if (notebookContainer) {{\n",
              "    x.observe(notebookContainer, {childList: true});\n",
              "}}\n",
              "\n",
              "// Listen for the clearing of the current output cell\n",
              "var outputEl = gd.closest('.output');\n",
              "if (outputEl) {{\n",
              "    x.observe(outputEl, {childList: true});\n",
              "}}\n",
              "\n",
              "                        })                };                            </script>        </div>\n",
              "</body>\n",
              "</html>"
            ]
          },
          "metadata": {}
        }
      ],
      "source": [
        "# Control - random Gaussian matrix\n",
        "U, S, Vh = torch.svd(torch.randn_like(W_E))\n",
        "line(S, title=\"Singular Values Random\")\n",
        "imshow(U, title=\"Principal Components Random\")"
      ]
    },
    {
      "cell_type": "markdown",
      "metadata": {
        "id": "NTRuRXXdQTaT"
      },
      "source": [
        "## Explaining Algorithm"
      ]
    },
    {
      "cell_type": "markdown",
      "metadata": {
        "id": "S7OXvNrQQTaT"
      },
      "source": [
        "### Analyse the Embedding - It's a Lookup Table!"
      ]
    },
    {
      "cell_type": "code",
      "execution_count": null,
      "metadata": {
        "id": "OoJYWIfxQTaT",
        "colab": {
          "base_uri": "https://localhost:8080/",
          "height": 542
        },
        "outputId": "bce62fd6-f88c-4f90-c450-13fa42ba1e04"
      },
      "outputs": [
        {
          "output_type": "display_data",
          "data": {
            "text/html": [
              "<html>\n",
              "<head><meta charset=\"utf-8\" /></head>\n",
              "<body>\n",
              "    <div>            <script src=\"https://cdnjs.cloudflare.com/ajax/libs/mathjax/2.7.5/MathJax.js?config=TeX-AMS-MML_SVG\"></script><script type=\"text/javascript\">if (window.MathJax && window.MathJax.Hub && window.MathJax.Hub.Config) {window.MathJax.Hub.Config({SVG: {font: \"STIX-Web\"}});}</script>                <script type=\"text/javascript\">window.PlotlyConfig = {MathJaxConfig: 'local'};</script>\n",
              "        <script charset=\"utf-8\" src=\"https://cdn.plot.ly/plotly-2.24.1.min.js\"></script>                <div id=\"59b7a4c8-44d2-4869-a4c3-fc208ce10340\" class=\"plotly-graph-div\" style=\"height:525px; width:100%;\"></div>            <script type=\"text/javascript\">                                    window.PLOTLYENV=window.PLOTLYENV || {};                                    if (document.getElementById(\"59b7a4c8-44d2-4869-a4c3-fc208ce10340\")) {                    Plotly.newPlot(                        \"59b7a4c8-44d2-4869-a4c3-fc208ce10340\",                        [{\"hovertemplate\":\"Color=0\\u003cbr\\u003eInput Vocabulary=%{x}\\u003cbr\\u003ey=%{y}\\u003cextra\\u003e\\u003c\\u002fextra\\u003e\",\"legendgroup\":\"0\",\"line\":{\"color\":\"#636efa\",\"dash\":\"solid\"},\"marker\":{\"symbol\":\"circle\"},\"mode\":\"lines\",\"name\":\"0\",\"orientation\":\"v\",\"showlegend\":true,\"x\":[0,1,2,3,4,5,6,7,8,9,10,11,12,13,14,15,16,17,18,19,20,21,22,23,24,25,26,27,28,29,30,31,32,33,34,35,36,37,38,39,40,41,42,43,44,45,46,47,48,49,50,51,52,53,54,55,56,57,58,59,60,61,62],\"xaxis\":\"x\",\"y\":[0.008569199591875076,-0.18199236690998077,4.373079589420348e-13,0.16197077929973602,0.11302722990512848,-0.04514480009675026,-0.04509950429201126,0.0680997297167778,-0.40810689330101013,-0.005110484082251787,0.10593165457248688,0.04425813630223274,0.04354991391301155,0.27451029419898987,-0.018061362206935883,0.15837782621383667,0.37242844700813293,-0.042649392038583755,-0.08180557936429977,-0.22242678701877594,0.1818336546421051,0.034599583595991135,-0.0912356749176979,-0.009255160577595234,0.04676222801208496,-0.04009478539228439,0.1294405609369278,-0.044539064168930054,0.047661591321229935,-0.10528881102800369,0.05500892177224159,0.0893072709441185,0.0842064917087555,-0.5114939212799072,-0.052810486406087875,0.022660689428448677,-0.20356616377830505,0.19226239621639252,0.0,0.0,0.0,0.0,0.0,0.0,0.0,0.0,0.0,0.0,0.0,0.0,0.0,0.0,0.0,0.0,0.0,0.0,0.0,0.0,0.0,0.0,0.0,0.0,0.0],\"yaxis\":\"y\",\"type\":\"scatter\"},{\"hovertemplate\":\"Color=1\\u003cbr\\u003eInput Vocabulary=%{x}\\u003cbr\\u003ey=%{y}\\u003cextra\\u003e\\u003c\\u002fextra\\u003e\",\"legendgroup\":\"1\",\"line\":{\"color\":\"#EF553B\",\"dash\":\"solid\"},\"marker\":{\"symbol\":\"circle\"},\"mode\":\"lines\",\"name\":\"1\",\"orientation\":\"v\",\"showlegend\":true,\"x\":[0,1,2,3,4,5,6,7,8,9,10,11,12,13,14,15,16,17,18,19,20,21,22,23,24,25,26,27,28,29,30,31,32,33,34,35,36,37,38,39,40,41,42,43,44,45,46,47,48,49,50,51,52,53,54,55,56,57,58,59,60,61,62],\"xaxis\":\"x\",\"y\":[0.018298359587788582,-0.0015131051186472178,7.221987900285845e-14,0.0990067794919014,0.10935214906930923,0.12948261201381683,0.02331501990556717,0.034163497388362885,0.19450485706329346,-0.0365610234439373,0.005084464326500893,0.03513399511575699,-0.17893224954605103,-0.03487248718738556,-0.10046776384115219,0.16391021013259888,0.26423946022987366,-0.090541772544384,-0.052991464734077454,-0.18885588645935059,-0.360556960105896,0.27415230870246887,0.20181812345981598,-0.11151272058486938,0.31252947449684143,0.11701888591051102,-0.20057563483715057,0.1023029312491417,0.07136183977127075,0.16405481100082397,-0.061653826385736465,0.024570023640990257,-0.21879923343658447,0.11814042925834656,-0.03259897232055664,-0.039794087409973145,0.03485548868775368,0.4580633044242859,0.0,0.0,0.0,0.0,0.0,0.0,0.0,0.0,0.0,0.0,0.0,0.0,0.0,0.0,0.0,0.0,0.0,0.0,0.0,0.0,0.0,0.0,0.0,0.0,0.0],\"yaxis\":\"y\",\"type\":\"scatter\"},{\"hovertemplate\":\"Color=2\\u003cbr\\u003eInput Vocabulary=%{x}\\u003cbr\\u003ey=%{y}\\u003cextra\\u003e\\u003c\\u002fextra\\u003e\",\"legendgroup\":\"2\",\"line\":{\"color\":\"#00cc96\",\"dash\":\"solid\"},\"marker\":{\"symbol\":\"circle\"},\"mode\":\"lines\",\"name\":\"2\",\"orientation\":\"v\",\"showlegend\":true,\"x\":[0,1,2,3,4,5,6,7,8,9,10,11,12,13,14,15,16,17,18,19,20,21,22,23,24,25,26,27,28,29,30,31,32,33,34,35,36,37,38,39,40,41,42,43,44,45,46,47,48,49,50,51,52,53,54,55,56,57,58,59,60,61,62],\"xaxis\":\"x\",\"y\":[-0.05568506941199303,-0.01214191410690546,-3.2158715794483594e-13,0.020153596997261047,0.38594570755958557,-0.05701223760843277,0.12780319154262543,0.18089011311531067,0.19707991182804108,0.02378547377884388,0.006991838105022907,-0.005146014969795942,0.09355098009109497,0.20636793971061707,0.0633317232131958,-0.18964536488056183,0.06679611653089523,-0.05390172451734543,-0.1574508249759674,0.03441506624221802,0.4531680643558502,-0.11263003200292587,0.04644206911325455,0.0014967923052608967,0.286705881357193,-0.12574779987335205,0.14282964169979095,-0.06730013340711594,0.15006884932518005,0.13339874148368835,-0.22850316762924194,0.08559836447238922,-0.08848589658737183,0.3518865704536438,0.01504946406930685,-0.03227771818637848,-0.23453691601753235,-0.004177406895905733,0.0,0.0,0.0,0.0,0.0,0.0,0.0,0.0,0.0,0.0,0.0,0.0,0.0,0.0,0.0,0.0,0.0,0.0,0.0,0.0,0.0,0.0,0.0,0.0,0.0],\"yaxis\":\"y\",\"type\":\"scatter\"},{\"hovertemplate\":\"Color=3\\u003cbr\\u003eInput Vocabulary=%{x}\\u003cbr\\u003ey=%{y}\\u003cextra\\u003e\\u003c\\u002fextra\\u003e\",\"legendgroup\":\"3\",\"line\":{\"color\":\"#ab63fa\",\"dash\":\"solid\"},\"marker\":{\"symbol\":\"circle\"},\"mode\":\"lines\",\"name\":\"3\",\"orientation\":\"v\",\"showlegend\":true,\"x\":[0,1,2,3,4,5,6,7,8,9,10,11,12,13,14,15,16,17,18,19,20,21,22,23,24,25,26,27,28,29,30,31,32,33,34,35,36,37,38,39,40,41,42,43,44,45,46,47,48,49,50,51,52,53,54,55,56,57,58,59,60,61,62],\"xaxis\":\"x\",\"y\":[0.060011301189661026,0.08683068305253983,2.530600945807593e-12,-0.07011433690786362,-0.2915780246257782,-0.1463664025068283,-0.13619080185890198,-0.42372605204582214,0.03616134449839592,-0.09840726107358932,0.17827050387859344,0.13139837980270386,0.26328811049461365,0.4903371036052704,-0.10732591897249222,-0.008247694000601768,0.07640475034713745,-0.11890453845262527,-0.07650848478078842,0.03242889791727066,-0.060276009142398834,0.017120113596320152,-0.07326027750968933,0.0343300960958004,0.07456967979669571,0.08748214691877365,-0.00014777976321056485,0.044208649545907974,0.022294243797659874,0.2165401130914688,-0.309965044260025,-0.01840100809931755,-0.20313316583633423,-0.028033794835209846,0.06807924062013626,-0.10422474145889282,0.15323996543884277,-0.14382661879062653,0.0,0.0,0.0,0.0,0.0,0.0,0.0,0.0,0.0,0.0,0.0,0.0,0.0,0.0,0.0,0.0,0.0,0.0,0.0,0.0,0.0,0.0,0.0,0.0,0.0],\"yaxis\":\"y\",\"type\":\"scatter\"},{\"hovertemplate\":\"Color=4\\u003cbr\\u003eInput Vocabulary=%{x}\\u003cbr\\u003ey=%{y}\\u003cextra\\u003e\\u003c\\u002fextra\\u003e\",\"legendgroup\":\"4\",\"line\":{\"color\":\"#FFA15A\",\"dash\":\"solid\"},\"marker\":{\"symbol\":\"circle\"},\"mode\":\"lines\",\"name\":\"4\",\"orientation\":\"v\",\"showlegend\":true,\"x\":[0,1,2,3,4,5,6,7,8,9,10,11,12,13,14,15,16,17,18,19,20,21,22,23,24,25,26,27,28,29,30,31,32,33,34,35,36,37,38,39,40,41,42,43,44,45,46,47,48,49,50,51,52,53,54,55,56,57,58,59,60,61,62],\"xaxis\":\"x\",\"y\":[-0.051597703248262405,0.11598748713731766,-9.54201859670531e-14,0.22440983355045319,-0.11522454023361206,-0.0862753838300705,0.021997570991516113,-0.0744471475481987,0.10484343767166138,-0.23926760256290436,-0.06777847558259964,-0.23321647942066193,0.08417762070894241,0.12374948710203171,0.03719543665647507,-0.1426844447851181,0.03254302963614464,0.26908406615257263,0.06607489287853241,0.05054546520113945,-0.04936004430055618,-0.1480346918106079,-0.05455983430147171,-0.022708715870976448,-0.20957377552986145,0.17383252084255219,0.011167041026055813,-0.27770882844924927,-0.06079098954796791,0.36296346783638,0.031831540167331696,0.1527406871318817,0.36985722184181213,0.06436733901500702,-0.04048512130975723,-0.0010801430325955153,-0.10170309990644455,0.4038548469543457,0.0,0.0,0.0,0.0,0.0,0.0,0.0,0.0,0.0,0.0,0.0,0.0,0.0,0.0,0.0,0.0,0.0,0.0,0.0,0.0,0.0,0.0,0.0,0.0,0.0],\"yaxis\":\"y\",\"type\":\"scatter\"},{\"hovertemplate\":\"Color=5\\u003cbr\\u003eInput Vocabulary=%{x}\\u003cbr\\u003ey=%{y}\\u003cextra\\u003e\\u003c\\u002fextra\\u003e\",\"legendgroup\":\"5\",\"line\":{\"color\":\"#19d3f3\",\"dash\":\"solid\"},\"marker\":{\"symbol\":\"circle\"},\"mode\":\"lines\",\"name\":\"5\",\"orientation\":\"v\",\"showlegend\":true,\"x\":[0,1,2,3,4,5,6,7,8,9,10,11,12,13,14,15,16,17,18,19,20,21,22,23,24,25,26,27,28,29,30,31,32,33,34,35,36,37,38,39,40,41,42,43,44,45,46,47,48,49,50,51,52,53,54,55,56,57,58,59,60,61,62],\"xaxis\":\"x\",\"y\":[0.06128903105854988,0.24400216341018677,-1.2281759539500142e-13,0.056580476462841034,-0.07857300341129303,0.19641146063804626,-0.014842997305095196,0.2014402151107788,0.2762548625469208,0.1523750275373459,0.15083244442939758,-0.0993984192609787,0.0986941009759903,0.12463070452213287,0.1629718542098999,-0.08130349963903427,0.043788690119981766,0.16677981615066528,-0.0012277374044060707,-0.3884539008140564,0.05427957698702812,-0.27837610244750977,0.14358925819396973,0.0362190343439579,-0.1397484391927719,-0.1596444696187973,-0.2537577748298645,0.12450452893972397,-0.02452288381755352,0.06679270416498184,0.09330350160598755,0.2076805680990219,-0.19163568317890167,-0.21982546150684357,-0.2619420886039734,-0.07659725099802017,0.11653976142406464,-0.1393994837999344,0.0,0.0,0.0,0.0,0.0,0.0,0.0,0.0,0.0,0.0,0.0,0.0,0.0,0.0,0.0,0.0,0.0,0.0,0.0,0.0,0.0,0.0,0.0,0.0,0.0],\"yaxis\":\"y\",\"type\":\"scatter\"},{\"hovertemplate\":\"Color=6\\u003cbr\\u003eInput Vocabulary=%{x}\\u003cbr\\u003ey=%{y}\\u003cextra\\u003e\\u003c\\u002fextra\\u003e\",\"legendgroup\":\"6\",\"line\":{\"color\":\"#FF6692\",\"dash\":\"solid\"},\"marker\":{\"symbol\":\"circle\"},\"mode\":\"lines\",\"name\":\"6\",\"orientation\":\"v\",\"showlegend\":true,\"x\":[0,1,2,3,4,5,6,7,8,9,10,11,12,13,14,15,16,17,18,19,20,21,22,23,24,25,26,27,28,29,30,31,32,33,34,35,36,37,38,39,40,41,42,43,44,45,46,47,48,49,50,51,52,53,54,55,56,57,58,59,60,61,62],\"xaxis\":\"x\",\"y\":[-0.07965841144323349,-0.1751251369714737,3.41601464996788e-12,-0.23474805057048798,-0.17674729228019714,0.260122150182724,0.1622142642736435,-0.10936664044857025,-0.005165591835975647,-0.08687612414360046,-0.21752971410751343,-0.07519685477018356,-0.029690155759453773,0.16304263472557068,0.005291452165693045,-0.11891939491033554,0.03709523379802704,0.0515337735414505,0.0968082845211029,0.06889667361974716,0.16416947543621063,0.016613652929663658,-0.22320853173732758,0.3665724992752075,0.31384000182151794,-0.01595226489007473,0.054772209376096725,0.2947174906730652,0.082917220890522,0.0868317186832428,0.37708017230033875,0.06979604810476303,0.023809771984815598,0.02792634628713131,-0.16056890785694122,0.07150416076183319,0.19198951125144958,0.14058147370815277,0.0,0.0,0.0,0.0,0.0,0.0,0.0,0.0,0.0,0.0,0.0,0.0,0.0,0.0,0.0,0.0,0.0,0.0,0.0,0.0,0.0,0.0,0.0,0.0,0.0],\"yaxis\":\"y\",\"type\":\"scatter\"},{\"hovertemplate\":\"Color=7\\u003cbr\\u003eInput Vocabulary=%{x}\\u003cbr\\u003ey=%{y}\\u003cextra\\u003e\\u003c\\u002fextra\\u003e\",\"legendgroup\":\"7\",\"line\":{\"color\":\"#B6E880\",\"dash\":\"solid\"},\"marker\":{\"symbol\":\"circle\"},\"mode\":\"lines\",\"name\":\"7\",\"orientation\":\"v\",\"showlegend\":true,\"x\":[0,1,2,3,4,5,6,7,8,9,10,11,12,13,14,15,16,17,18,19,20,21,22,23,24,25,26,27,28,29,30,31,32,33,34,35,36,37,38,39,40,41,42,43,44,45,46,47,48,49,50,51,52,53,54,55,56,57,58,59,60,61,62],\"xaxis\":\"x\",\"y\":[0.1292668879032135,-0.009895647875964642,-1.7482200583007756e-12,0.11987582594156265,-0.21484991908073425,-0.04015166684985161,-0.1402818262577057,0.08055376261472702,-0.15359479188919067,-0.2334425300359726,-0.2104942798614502,0.02294248715043068,-0.09703683853149414,-0.2207510620355606,0.14927351474761963,-0.15832507610321045,-0.2525272071361542,0.11973513662815094,-0.20094165205955505,-0.30339887738227844,0.26125964522361755,0.19130776822566986,0.14218510687351227,0.1859380006790161,0.1379646360874176,0.12799511849880219,-0.04561503604054451,-0.12817901372909546,0.12034263461828232,0.277077853679657,-0.08673223108053207,-0.2477017641067505,-0.18320126831531525,-0.17406940460205078,0.10975053161382675,0.05412750318646431,-0.02267489768564701,-0.05363530293107033,0.0,0.0,0.0,0.0,0.0,0.0,0.0,0.0,0.0,0.0,0.0,0.0,0.0,0.0,0.0,0.0,0.0,0.0,0.0,0.0,0.0,0.0,0.0,0.0,0.0],\"yaxis\":\"y\",\"type\":\"scatter\"}],                        {\"template\":{\"data\":{\"histogram2dcontour\":[{\"type\":\"histogram2dcontour\",\"colorbar\":{\"outlinewidth\":0,\"ticks\":\"\"},\"colorscale\":[[0.0,\"#0d0887\"],[0.1111111111111111,\"#46039f\"],[0.2222222222222222,\"#7201a8\"],[0.3333333333333333,\"#9c179e\"],[0.4444444444444444,\"#bd3786\"],[0.5555555555555556,\"#d8576b\"],[0.6666666666666666,\"#ed7953\"],[0.7777777777777778,\"#fb9f3a\"],[0.8888888888888888,\"#fdca26\"],[1.0,\"#f0f921\"]]}],\"choropleth\":[{\"type\":\"choropleth\",\"colorbar\":{\"outlinewidth\":0,\"ticks\":\"\"}}],\"histogram2d\":[{\"type\":\"histogram2d\",\"colorbar\":{\"outlinewidth\":0,\"ticks\":\"\"},\"colorscale\":[[0.0,\"#0d0887\"],[0.1111111111111111,\"#46039f\"],[0.2222222222222222,\"#7201a8\"],[0.3333333333333333,\"#9c179e\"],[0.4444444444444444,\"#bd3786\"],[0.5555555555555556,\"#d8576b\"],[0.6666666666666666,\"#ed7953\"],[0.7777777777777778,\"#fb9f3a\"],[0.8888888888888888,\"#fdca26\"],[1.0,\"#f0f921\"]]}],\"heatmap\":[{\"type\":\"heatmap\",\"colorbar\":{\"outlinewidth\":0,\"ticks\":\"\"},\"colorscale\":[[0.0,\"#0d0887\"],[0.1111111111111111,\"#46039f\"],[0.2222222222222222,\"#7201a8\"],[0.3333333333333333,\"#9c179e\"],[0.4444444444444444,\"#bd3786\"],[0.5555555555555556,\"#d8576b\"],[0.6666666666666666,\"#ed7953\"],[0.7777777777777778,\"#fb9f3a\"],[0.8888888888888888,\"#fdca26\"],[1.0,\"#f0f921\"]]}],\"heatmapgl\":[{\"type\":\"heatmapgl\",\"colorbar\":{\"outlinewidth\":0,\"ticks\":\"\"},\"colorscale\":[[0.0,\"#0d0887\"],[0.1111111111111111,\"#46039f\"],[0.2222222222222222,\"#7201a8\"],[0.3333333333333333,\"#9c179e\"],[0.4444444444444444,\"#bd3786\"],[0.5555555555555556,\"#d8576b\"],[0.6666666666666666,\"#ed7953\"],[0.7777777777777778,\"#fb9f3a\"],[0.8888888888888888,\"#fdca26\"],[1.0,\"#f0f921\"]]}],\"contourcarpet\":[{\"type\":\"contourcarpet\",\"colorbar\":{\"outlinewidth\":0,\"ticks\":\"\"}}],\"contour\":[{\"type\":\"contour\",\"colorbar\":{\"outlinewidth\":0,\"ticks\":\"\"},\"colorscale\":[[0.0,\"#0d0887\"],[0.1111111111111111,\"#46039f\"],[0.2222222222222222,\"#7201a8\"],[0.3333333333333333,\"#9c179e\"],[0.4444444444444444,\"#bd3786\"],[0.5555555555555556,\"#d8576b\"],[0.6666666666666666,\"#ed7953\"],[0.7777777777777778,\"#fb9f3a\"],[0.8888888888888888,\"#fdca26\"],[1.0,\"#f0f921\"]]}],\"surface\":[{\"type\":\"surface\",\"colorbar\":{\"outlinewidth\":0,\"ticks\":\"\"},\"colorscale\":[[0.0,\"#0d0887\"],[0.1111111111111111,\"#46039f\"],[0.2222222222222222,\"#7201a8\"],[0.3333333333333333,\"#9c179e\"],[0.4444444444444444,\"#bd3786\"],[0.5555555555555556,\"#d8576b\"],[0.6666666666666666,\"#ed7953\"],[0.7777777777777778,\"#fb9f3a\"],[0.8888888888888888,\"#fdca26\"],[1.0,\"#f0f921\"]]}],\"mesh3d\":[{\"type\":\"mesh3d\",\"colorbar\":{\"outlinewidth\":0,\"ticks\":\"\"}}],\"scatter\":[{\"fillpattern\":{\"fillmode\":\"overlay\",\"size\":10,\"solidity\":0.2},\"type\":\"scatter\"}],\"parcoords\":[{\"type\":\"parcoords\",\"line\":{\"colorbar\":{\"outlinewidth\":0,\"ticks\":\"\"}}}],\"scatterpolargl\":[{\"type\":\"scatterpolargl\",\"marker\":{\"colorbar\":{\"outlinewidth\":0,\"ticks\":\"\"}}}],\"bar\":[{\"error_x\":{\"color\":\"#2a3f5f\"},\"error_y\":{\"color\":\"#2a3f5f\"},\"marker\":{\"line\":{\"color\":\"#E5ECF6\",\"width\":0.5},\"pattern\":{\"fillmode\":\"overlay\",\"size\":10,\"solidity\":0.2}},\"type\":\"bar\"}],\"scattergeo\":[{\"type\":\"scattergeo\",\"marker\":{\"colorbar\":{\"outlinewidth\":0,\"ticks\":\"\"}}}],\"scatterpolar\":[{\"type\":\"scatterpolar\",\"marker\":{\"colorbar\":{\"outlinewidth\":0,\"ticks\":\"\"}}}],\"histogram\":[{\"marker\":{\"pattern\":{\"fillmode\":\"overlay\",\"size\":10,\"solidity\":0.2}},\"type\":\"histogram\"}],\"scattergl\":[{\"type\":\"scattergl\",\"marker\":{\"colorbar\":{\"outlinewidth\":0,\"ticks\":\"\"}}}],\"scatter3d\":[{\"type\":\"scatter3d\",\"line\":{\"colorbar\":{\"outlinewidth\":0,\"ticks\":\"\"}},\"marker\":{\"colorbar\":{\"outlinewidth\":0,\"ticks\":\"\"}}}],\"scattermapbox\":[{\"type\":\"scattermapbox\",\"marker\":{\"colorbar\":{\"outlinewidth\":0,\"ticks\":\"\"}}}],\"scatterternary\":[{\"type\":\"scatterternary\",\"marker\":{\"colorbar\":{\"outlinewidth\":0,\"ticks\":\"\"}}}],\"scattercarpet\":[{\"type\":\"scattercarpet\",\"marker\":{\"colorbar\":{\"outlinewidth\":0,\"ticks\":\"\"}}}],\"carpet\":[{\"aaxis\":{\"endlinecolor\":\"#2a3f5f\",\"gridcolor\":\"white\",\"linecolor\":\"white\",\"minorgridcolor\":\"white\",\"startlinecolor\":\"#2a3f5f\"},\"baxis\":{\"endlinecolor\":\"#2a3f5f\",\"gridcolor\":\"white\",\"linecolor\":\"white\",\"minorgridcolor\":\"white\",\"startlinecolor\":\"#2a3f5f\"},\"type\":\"carpet\"}],\"table\":[{\"cells\":{\"fill\":{\"color\":\"#EBF0F8\"},\"line\":{\"color\":\"white\"}},\"header\":{\"fill\":{\"color\":\"#C8D4E3\"},\"line\":{\"color\":\"white\"}},\"type\":\"table\"}],\"barpolar\":[{\"marker\":{\"line\":{\"color\":\"#E5ECF6\",\"width\":0.5},\"pattern\":{\"fillmode\":\"overlay\",\"size\":10,\"solidity\":0.2}},\"type\":\"barpolar\"}],\"pie\":[{\"automargin\":true,\"type\":\"pie\"}]},\"layout\":{\"autotypenumbers\":\"strict\",\"colorway\":[\"#636efa\",\"#EF553B\",\"#00cc96\",\"#ab63fa\",\"#FFA15A\",\"#19d3f3\",\"#FF6692\",\"#B6E880\",\"#FF97FF\",\"#FECB52\"],\"font\":{\"color\":\"#2a3f5f\"},\"hovermode\":\"closest\",\"hoverlabel\":{\"align\":\"left\"},\"paper_bgcolor\":\"white\",\"plot_bgcolor\":\"#E5ECF6\",\"polar\":{\"bgcolor\":\"#E5ECF6\",\"angularaxis\":{\"gridcolor\":\"white\",\"linecolor\":\"white\",\"ticks\":\"\"},\"radialaxis\":{\"gridcolor\":\"white\",\"linecolor\":\"white\",\"ticks\":\"\"}},\"ternary\":{\"bgcolor\":\"#E5ECF6\",\"aaxis\":{\"gridcolor\":\"white\",\"linecolor\":\"white\",\"ticks\":\"\"},\"baxis\":{\"gridcolor\":\"white\",\"linecolor\":\"white\",\"ticks\":\"\"},\"caxis\":{\"gridcolor\":\"white\",\"linecolor\":\"white\",\"ticks\":\"\"}},\"coloraxis\":{\"colorbar\":{\"outlinewidth\":0,\"ticks\":\"\"}},\"colorscale\":{\"sequential\":[[0.0,\"#0d0887\"],[0.1111111111111111,\"#46039f\"],[0.2222222222222222,\"#7201a8\"],[0.3333333333333333,\"#9c179e\"],[0.4444444444444444,\"#bd3786\"],[0.5555555555555556,\"#d8576b\"],[0.6666666666666666,\"#ed7953\"],[0.7777777777777778,\"#fb9f3a\"],[0.8888888888888888,\"#fdca26\"],[1.0,\"#f0f921\"]],\"sequentialminus\":[[0.0,\"#0d0887\"],[0.1111111111111111,\"#46039f\"],[0.2222222222222222,\"#7201a8\"],[0.3333333333333333,\"#9c179e\"],[0.4444444444444444,\"#bd3786\"],[0.5555555555555556,\"#d8576b\"],[0.6666666666666666,\"#ed7953\"],[0.7777777777777778,\"#fb9f3a\"],[0.8888888888888888,\"#fdca26\"],[1.0,\"#f0f921\"]],\"diverging\":[[0,\"#8e0152\"],[0.1,\"#c51b7d\"],[0.2,\"#de77ae\"],[0.3,\"#f1b6da\"],[0.4,\"#fde0ef\"],[0.5,\"#f7f7f7\"],[0.6,\"#e6f5d0\"],[0.7,\"#b8e186\"],[0.8,\"#7fbc41\"],[0.9,\"#4d9221\"],[1,\"#276419\"]]},\"xaxis\":{\"gridcolor\":\"white\",\"linecolor\":\"white\",\"ticks\":\"\",\"title\":{\"standoff\":15,\"font\":{\"size\":20}},\"zerolinecolor\":\"white\",\"automargin\":true,\"zerolinewidth\":2},\"yaxis\":{\"gridcolor\":\"white\",\"linecolor\":\"white\",\"ticks\":\"\",\"title\":{\"standoff\":15,\"font\":{\"size\":20}},\"zerolinecolor\":\"white\",\"automargin\":true,\"zerolinewidth\":2},\"scene\":{\"xaxis\":{\"backgroundcolor\":\"#E5ECF6\",\"gridcolor\":\"white\",\"linecolor\":\"white\",\"showbackground\":true,\"ticks\":\"\",\"zerolinecolor\":\"white\",\"gridwidth\":2},\"yaxis\":{\"backgroundcolor\":\"#E5ECF6\",\"gridcolor\":\"white\",\"linecolor\":\"white\",\"showbackground\":true,\"ticks\":\"\",\"zerolinecolor\":\"white\",\"gridwidth\":2},\"zaxis\":{\"backgroundcolor\":\"#E5ECF6\",\"gridcolor\":\"white\",\"linecolor\":\"white\",\"showbackground\":true,\"ticks\":\"\",\"zerolinecolor\":\"white\",\"gridwidth\":2}},\"shapedefaults\":{\"line\":{\"color\":\"#2a3f5f\"}},\"annotationdefaults\":{\"arrowcolor\":\"#2a3f5f\",\"arrowhead\":0,\"arrowwidth\":1},\"geo\":{\"bgcolor\":\"white\",\"landcolor\":\"#E5ECF6\",\"subunitcolor\":\"white\",\"showland\":true,\"showlakes\":true,\"lakecolor\":\"white\"},\"title\":{\"x\":0.05,\"font\":{\"size\":30}},\"mapbox\":{\"style\":\"light\"}}},\"xaxis\":{\"anchor\":\"y\",\"domain\":[0.0,1.0],\"title\":{\"text\":\"Input Vocabulary\"}},\"yaxis\":{\"anchor\":\"x\",\"domain\":[0.0,1.0],\"title\":{\"text\":\"y\"}},\"legend\":{\"title\":{\"text\":\"Color\"},\"tracegroupgap\":0},\"title\":{\"text\":\"Principal Components of the embedding\"}},                        {\"responsive\": true}                    ).then(function(){\n",
              "                            \n",
              "var gd = document.getElementById('59b7a4c8-44d2-4869-a4c3-fc208ce10340');\n",
              "var x = new MutationObserver(function (mutations, observer) {{\n",
              "        var display = window.getComputedStyle(gd).display;\n",
              "        if (!display || display === 'none') {{\n",
              "            console.log([gd, 'removed!']);\n",
              "            Plotly.purge(gd);\n",
              "            observer.disconnect();\n",
              "        }}\n",
              "}});\n",
              "\n",
              "// Listen for the removal of the full notebook cells\n",
              "var notebookContainer = gd.closest('#notebook-container');\n",
              "if (notebookContainer) {{\n",
              "    x.observe(notebookContainer, {childList: true});\n",
              "}}\n",
              "\n",
              "// Listen for the clearing of the current output cell\n",
              "var outputEl = gd.closest('.output');\n",
              "if (outputEl) {{\n",
              "    x.observe(outputEl, {childList: true});\n",
              "}}\n",
              "\n",
              "                        })                };                            </script>        </div>\n",
              "</body>\n",
              "</html>"
            ]
          },
          "metadata": {}
        }
      ],
      "source": [
        "U, S, Vh = torch.svd(W_E)\n",
        "line(U[:, :8].T, title=\"Principal Components of the embedding\", xaxis=\"Input Vocabulary\")"
      ]
    },
    {
      "cell_type": "code",
      "execution_count": null,
      "metadata": {
        "id": "ePZvfPLXQTaT",
        "colab": {
          "base_uri": "https://localhost:8080/",
          "height": 542
        },
        "outputId": "92b6d414-d951-4f90-e08b-2b0dea3aba9a"
      },
      "outputs": [
        {
          "output_type": "display_data",
          "data": {
            "text/html": [
              "<html>\n",
              "<head><meta charset=\"utf-8\" /></head>\n",
              "<body>\n",
              "    <div>            <script src=\"https://cdnjs.cloudflare.com/ajax/libs/mathjax/2.7.5/MathJax.js?config=TeX-AMS-MML_SVG\"></script><script type=\"text/javascript\">if (window.MathJax && window.MathJax.Hub && window.MathJax.Hub.Config) {window.MathJax.Hub.Config({SVG: {font: \"STIX-Web\"}});}</script>                <script type=\"text/javascript\">window.PlotlyConfig = {MathJaxConfig: 'local'};</script>\n",
              "        <script charset=\"utf-8\" src=\"https://cdn.plot.ly/plotly-2.24.1.min.js\"></script>                <div id=\"662ee746-52b4-42c3-ad0c-e0b3cb30a540\" class=\"plotly-graph-div\" style=\"height:525px; width:100%;\"></div>            <script type=\"text/javascript\">                                    window.PLOTLYENV=window.PLOTLYENV || {};                                    if (document.getElementById(\"662ee746-52b4-42c3-ad0c-e0b3cb30a540\")) {                    Plotly.newPlot(                        \"662ee746-52b4-42c3-ad0c-e0b3cb30a540\",                        [{\"coloraxis\":\"coloraxis\",\"name\":\"0\",\"y\":[\"Constant\",\"Sin 1\",\"Cos 1\",\"Sin 2\",\"Cos 2\",\"Sin 3\",\"Cos 3\",\"Sin 4\",\"Cos 4\",\"Sin 5\",\"Cos 5\",\"Sin 6\",\"Cos 6\",\"Sin 7\",\"Cos 7\",\"Sin 8\",\"Cos 8\",\"Sin 9\",\"Cos 9\",\"Sin 10\",\"Cos 10\",\"Sin 11\",\"Cos 11\",\"Sin 12\",\"Cos 12\",\"Sin 13\",\"Cos 13\",\"Sin 14\",\"Cos 14\",\"Sin 15\",\"Cos 15\",\"Sin 16\",\"Cos 16\",\"Sin 17\",\"Cos 17\",\"Sin 18\",\"Cos 18\",\"Sin 19\",\"Cos 19\",\"Sin 20\",\"Cos 20\",\"Sin 21\",\"Cos 21\",\"Sin 22\",\"Cos 22\",\"Sin 23\",\"Cos 23\",\"Sin 24\",\"Cos 24\",\"Sin 25\",\"Cos 25\"],\"z\":[[0.14002801477909088,0.14002801477909088,0.14002801477909088,0.14002801477909088,0.14002801477909088,0.14002801477909088,0.14002801477909088,0.14002801477909088,0.14002801477909088,0.14002801477909088,0.14002801477909088,0.14002801477909088,0.14002801477909088,0.14002801477909088,0.14002801477909088,0.14002801477909088,0.14002801477909088,0.14002801477909088,0.14002801477909088,0.14002801477909088,0.14002801477909088,0.14002801477909088,0.14002801477909088,0.14002801477909088,0.14002801477909088,0.14002801477909088,0.14002801477909088,0.14002801477909088,0.14002801477909088,0.14002801477909088,0.14002801477909088,0.14002801477909088,0.14002801477909088,0.14002801477909088,0.14002801477909088,0.14002801477909088,0.14002801477909088,0.14002801477909088,0.14002801477909088,0.14002801477909088,0.14002801477909088,0.14002801477909088,0.14002801477909088,0.14002801477909088,0.14002801477909088,0.14002801477909088,0.14002801477909088,0.14002801477909088,0.14002801477909088,0.14002801477909088,0.14002801477909088],[0.0,0.024335511028766632,0.048302117735147476,0.07153651118278503,0.09368649125099182,0.11441627144813538,0.13341161608695984,0.1503845900297165,0.16507788002490997,0.17726875841617584,0.186772421002388,0.19344480335712433,0.197184756398201,0.19793559610843658,0.19568592309951782,0.1904698759317398,0.18236646056175232,0.1714985966682434,0.15803095698356628,0.14216774702072144,0.12414941936731339,0.10424906760454178,0.08276844769716263,0.06003317981958389,0.03638783097267151,0.012190882116556168,-0.012190916575491428,-0.036387864500284195,-0.06003321334719658,-0.08276847749948502,-0.10424909740686417,-0.12414944171905518,-0.14216777682304382,-0.15803101658821106,-0.1714985966682434,-0.1823665052652359,-0.1904698759317398,-0.19568592309951782,-0.19793559610843658,-0.197184756398201,-0.19344480335712433,-0.1867724359035492,-0.17726871371269226,-0.16507785022258759,-0.15038453042507172,-0.13341158628463745,-0.11441627889871597,-0.09368644654750824,-0.07153651863336563,-0.04830208048224449,-0.02433551847934723],[0.1980295181274414,0.19652855396270752,0.19204843044281006,0.184657022356987,0.17446641623973846,0.16163107752799988,0.1463455706834793,0.12884162366390228,0.10938456654548645,0.08826935291290283,0.06581605970859528,0.04236504063010216,0.018271861597895622,-0.0060983505100011826,-0.030376093462109566,-0.054193343967199326,-0.0771891251206398,-0.0990147739648819,-0.11933945119380951,-0.13785506784915924,-0.15428094565868378,-0.1683681160211563,-0.17990295588970184,-0.18871064484119415,-0.19465768337249756,-0.19765391945838928,-0.19765391945838928,-0.19465768337249756,-0.18871062994003296,-0.17990295588970184,-0.16836810111999512,-0.15428093075752258,-0.13785505294799805,-0.11933939158916473,-0.09901474416255951,-0.07718904316425323,-0.05419333279132843,-0.03037610650062561,-0.0060983155854046345,0.0182719174772501,0.04236507788300514,0.06581602245569229,0.08826944231987,0.10938461124897003,0.12884169816970825,0.1463456153869629,0.16163107752799988,0.17446644604206085,0.184657022356987,0.19204843044281006,0.19652855396270752],[0.0,0.048302117735147476,0.09368649125099182,0.13341161608695984,0.16507788002490997,0.186772421002388,0.197184756398201,0.19568592309951782,0.18236646056175232,0.15803095698356628,0.12414941936731339,0.08276844769716263,0.03638783097267151,-0.012190916575491428,-0.06003321334719658,-0.10424909740686417,-0.14216777682304382,-0.1714985966682434,-0.1904698759317398,-0.19793559610843658,-0.19344480335712433,-0.17726871371269226,-0.15038453042507172,-0.11441627889871597,-0.07153651863336563,-0.02433551847934723,0.0243355892598629,0.071536585688591,0.11441633105278015,0.1503845751285553,0.17726874351501465,0.19344480335712433,0.19793559610843658,0.19046983122825623,0.17149856686592102,0.14216765761375427,0.10424906760454178,0.06003323942422867,0.012190846726298332,-0.03638794645667076,-0.0827684998512268,-0.12414935976266861,-0.15803109109401703,-0.1823665201663971,-0.1956859678030014,-0.197184756398201,-0.186772421002388,-0.1650778353214264,-0.13341163098812103,-0.09368642419576645,-0.04830213636159897],[0.1980295032262802,0.19204840064048767,0.17446640133857727,0.14634555578231812,0.10938455164432526,0.06581605225801468,0.018271859735250473,-0.030376091599464417,-0.0771891176700592,-0.11933944374322891,-0.15428093075752258,-0.17990294098854065,-0.19465766847133636,-0.1976539045572281,-0.18871061503887177,-0.16836808621883392,-0.13785503804683685,-0.09901472926139832,-0.05419332534074783,-0.006098315119743347,0.042365074157714844,0.0882694348692894,0.12884168326854706,0.16163106262683868,0.1846570074558258,0.19652853906154633,0.19652852416038513,0.18465697765350342,0.1616310179233551,0.12884163856506348,0.08826936781406403,0.04236500337719917,-0.006098384503275156,-0.05419348552823067,-0.0990147814154625,-0.1378551572561264,-0.16836808621883392,-0.18871060013771057,-0.1976539045572281,-0.19465765357017517,-0.17990291118621826,-0.15428097546100616,-0.11933927983045578,-0.07718900591135025,-0.030375881120562553,0.018271951004862785,0.06581605225801468,0.10938463360071182,0.14634555578231812,0.17446644604206085,0.19204840064048767],[0.0,0.07153651118278503,0.13341161608695984,0.17726875841617584,0.197184756398201,0.1904698610305786,0.15803095698356628,0.10424906760454178,0.03638783097267151,-0.03638781979680061,-0.10424917936325073,-0.15803101658821106,-0.1904698759317398,-0.197184756398201,-0.17726871371269226,-0.13341158628463745,-0.07153651863336563,1.290524238584112e-07,0.07153649628162384,0.13341164588928223,0.1772688329219818,0.19718477129936218,0.19046983122825623,0.15803095698356628,0.10424906760454178,0.036387935280799866,-0.03638794645667076,-0.1042492464184761,-0.15803109109401703,-0.19046983122825623,-0.197184756398201,-0.17726877331733704,-0.13341163098812103,-0.07153631001710892,2.581048477168224e-07,0.07153661549091339,0.13341160118579865,0.17726875841617584,0.19718477129936218,0.19046984612941742,0.15803077816963196,0.10424912720918655,0.036387622356414795,-0.03638770058751106,-0.10424935072660446,-0.15803106129169464,-0.1904698759317398,-0.1971847414970398,-0.17726871371269226,-0.13341139256954193,-0.07153671979904175],[0.1980295181274414,0.184657022356987,0.1463455706834793,0.08826935291290283,0.018271861597895622,-0.05419338867068291,-0.11933945119380951,-0.1683681160211563,-0.19465768337249756,-0.19465768337249756,-0.16836804151535034,-0.11933939158916473,-0.05419333279132843,0.0182719174772501,0.08826944231987,0.1463456153869629,0.184657022356987,0.1980295181274414,0.1846570372581482,0.1463455706834793,0.08826921135187149,0.018271755427122116,-0.054193489253520966,-0.11933944374322891,-0.16836810111999512,-0.19465766847133636,-0.19465766847133636,-0.16836799681186676,-0.11933928728103638,-0.05419347807765007,0.018271952867507935,0.08826930075883865,0.1463455706834793,0.18465711176395416,0.1980295181274414,0.1846569925546646,0.1463456004858017,0.08826935291290283,0.01827181503176689,-0.05419342964887619,-0.11933969706296921,-0.16836807131767273,-0.19465772807598114,-0.19465771317481995,-0.16836793720722198,-0.11933933198451996,-0.05419335514307022,0.01827208139002323,0.0882694199681282,0.14634579420089722,0.18465694785118103],[0.0,0.09368648380041122,0.16507786512374878,0.1971847414970398,0.18236644566059113,0.12414940446615219,0.03638782724738121,-0.06003320962190628,-0.14216776192188263,-0.1904698610305786,-0.19344477355480194,-0.15038451552391052,-0.07153651118278503,0.0243355855345726,0.11441631615161896,0.17726872861385345,0.1979355812072754,0.17149855196475983,0.10424906015396118,0.012190845794975758,-0.08276849240064621,-0.15803107619285583,-0.19568593800067902,-0.1867724061012268,-0.13341161608695984,-0.04830213263630867,0.048302266746759415,0.1334117203950882,0.1867724508047104,0.19568592309951782,0.15803100168704987,0.08276837319135666,-0.012190984562039375,-0.10424934327602386,-0.1714986264705658,-0.19793559610843658,-0.17726869881153107,-0.11441636085510254,-0.024335449561476707,0.07153672724962234,0.15038460493087769,0.19344474375247955,0.19046974182128906,0.1421675980091095,0.06003279983997345,-0.036388009786605835,-0.12414940446615219,-0.1823665350675583,-0.1971847414970398,-0.16507777571678162,-0.09368652105331421],[0.1980295181274414,0.17446641623973846,0.10938456654548645,0.018271861597895622,-0.0771891251206398,-0.15428094565868378,-0.19465768337249756,-0.18871062994003296,-0.13785505294799805,-0.05419333279132843,0.04236507788300514,0.12884169816970825,0.184657022356987,0.19652853906154633,0.1616310328245163,0.08826938271522522,-0.006098384968936443,-0.09901479631662369,-0.16836810111999512,-0.19765391945838928,-0.17990292608737946,-0.11933928728103638,-0.030375884845852852,0.06581605970859528,0.1463455706834793,0.19204841554164886,0.19204837083816528,0.14634548127651215,0.06581592559814453,-0.030376020818948746,-0.11933939158916473,-0.17990298569202423,-0.1976539045572281,-0.16836793720722198,-0.09901468455791473,-0.006098058074712753,0.0882694199681282,0.1616310179233551,0.1965285688638687,0.18465694785118103,0.1288415938615799,0.042365219444036484,-0.05419373884797096,-0.13785521686077118,-0.1887107640504837,-0.19465765357017517,-0.15428094565868378,-0.07718895375728607,0.018271833658218384,0.1093846932053566,0.17446640133857727],[0.0,0.11441627144813538,0.186772421002388,0.1904698759317398,0.12414941936731339,0.012190882116556168,-0.10424909740686417,-0.1823665052652359,-0.19344480335712433,-0.13341158628463745,-0.02433551847934723,0.09368659555912018,0.17726874351501465,0.19568592309951782,0.14216765761375427,0.036387935280799866,-0.0827684998512268,-0.17149867117404938,-0.197184756398201,-0.15038469433784485,-0.04830213636159897,0.07153661549091339,0.16507799923419952,0.19793559610843658,0.15803101658821106,0.06003311276435852,-0.06003319099545479,-0.15803106129169464,-0.19793561100959778,-0.16507786512374878,-0.07153671979904175,0.04830202832818031,0.15038461983203888,0.19718477129936218,0.17149843275547028,0.08276809006929398,-0.03638801351189613,-0.14216771721839905,-0.19568589329719543,-0.17726866900920868,-0.0936865285038948,0.024335596710443497,0.13341177999973297,0.1934448778629303,0.1823662966489792,0.10424890369176865,-0.01219048909842968,-0.12414950877428055,-0.19046983122825623,-0.18677228689193726,-0.11441615968942642],[0.1980295032262802,0.16163106262683868,0.06581605225801468,-0.05419333651661873,-0.15428093075752258,-0.1976539045572281,-0.16836808621883392,-0.07718903571367264,0.042365074157714844,0.1463456004858017,0.19652853906154633,0.1744663417339325,0.08826936781406403,-0.030376076698303223,-0.1378551572561264,-0.19465765357017517,-0.17990291118621826,-0.09901461750268936,0.018271951004862785,0.12884150445461273,0.19204840064048767,0.18465697765350342,0.10938435047864914,-0.006098135840147734,-0.11933938413858414,-0.18871065974235535,-0.18871062994003296,-0.11933932453393936,-0.006098057143390179,0.10938457399606705,0.18465693295001984,0.19204843044281006,0.1288415789604187,0.018271684646606445,-0.099015012383461,-0.17990310490131378,-0.19465763866901398,-0.13785509765148163,-0.0303763747215271,0.08826952427625656,0.17446638643741608,0.19652852416038513,0.14634542167186737,0.04236472025513649,-0.07718954980373383,-0.16836819052696228,-0.19765391945838928,-0.1542808711528778,-0.054193466901779175,0.06581641733646393,0.16163113713264465],[0.0,0.13341160118579865,0.1971847116947174,0.1580309271812439,0.03638782352209091,-0.10424915701150894,-0.19046983122825623,-0.17726866900920868,-0.07153650373220444,0.07153648138046265,0.17726878821849823,0.19046978652477264,0.10424905270338058,-0.036387939006090164,-0.15803106129169464,-0.1971847116947174,-0.13341160118579865,2.5810479087340354e-07,0.13341157138347626,0.1971847265958786,0.15803074836730957,0.0363876149058342,-0.10424933582544327,-0.19046983122825623,-0.17726868391036987,-0.07153670489788055,0.07153672724962234,0.1772688627243042,0.19046971201896667,0.10424932092428207,-0.036388006061315536,-0.15803086757659912,-0.1971847116947174,-0.13341127336025238,5.162095817468071e-07,0.13341176509857178,0.1971847116947174,0.1580309271812439,0.03638773411512375,-0.10424923151731491,-0.19047001004219055,-0.17726874351501465,-0.0715361088514328,0.07153625786304474,0.17726898193359375,0.19046975672245026,0.10424909740686417,-0.03638825938105583,-0.15803103148937225,-0.19718465209007263,-0.1334119290113449],[0.1980295330286026,0.1463455855846405,0.01827186346054077,-0.1193394660949707,-0.19465771317481995,-0.16836805641651154,-0.05419333651661873,0.08826944977045059,0.1846570372581482,0.1846570521593094,0.08826921880245209,-0.05419349670410156,-0.1683681160211563,-0.19465768337249756,-0.11933930218219757,0.018271954730153084,0.1463455855846405,0.1980295330286026,0.1463456153869629,0.01827181689441204,-0.1193397119641304,-0.19465774297714233,-0.16836795210838318,-0.05419335886836052,0.0882694274187088,0.18465696275234222,0.18465696275234222,0.08826907724142075,-0.05419374257326126,-0.16836795210838318,-0.19465766847133636,-0.11933954805135727,0.018271835520863533,0.14634588360786438,0.1980295330286026,0.14634545147418976,0.01827193610370159,-0.1193394660949707,-0.19465771317481995,-0.16836801171302795,-0.05419275164604187,0.08826932311058044,0.18465720117092133,0.18465714156627655,0.08826884627342224,-0.05419362708926201,-0.16836810111999512,-0.19465762376785278,-0.11933933198451996,0.01827246882021427,0.14634530246257782],[0.0,0.1503845900297165,0.19568592309951782,0.10424906760454178,-0.06003321334719658,-0.1823665052652359,-0.17726871371269226,-0.04830208048224449,0.11441633105278015,0.197184756398201,0.14216765761375427,-0.012191045098006725,-0.15803109109401703,-0.19344478845596313,-0.09368642419576645,0.07153644412755966,0.18677246570587158,0.17149850726127625,0.03638780862092972,-0.12414960563182831,-0.19793561100959778,-0.13341139256954193,0.024335844442248344,0.16507788002490997,0.19046975672245026,0.08276809006929398,-0.08276856690645218,-0.1904699057340622,-0.1650777906179428,-0.024335697293281555,0.1334114968776703,0.19793559610843658,0.12414919584989548,-0.03638814017176628,-0.17149876058101654,-0.18677228689193726,-0.07153648138046265,0.0936865508556366,0.19344490766525269,0.15803088247776031,0.012190332636237144,-0.14216789603233337,-0.1971846967935562,-0.11441605538129807,0.048302773386240005,0.1772688925266266,0.1823664754629135,0.06003352254629135,-0.10424979031085968,-0.19568611681461334,-0.15038402378559113],[0.1980295181274414,0.12884162366390228,-0.030376093462109566,-0.1683681160211563,-0.18871062994003296,-0.07718904316425323,0.08826944231987,0.19204843044281006,0.1616310328245163,0.018271848559379578,-0.1378551721572876,-0.1976539045572281,-0.11933928728103638,0.04236510768532753,0.17446646094322205,0.1846570521593094,0.06581592559814453,-0.09901491552591324,-0.19465768337249756,-0.15428079664707184,-0.006098058074712753,0.14634579420089722,0.19652850925922394,0.10938457399606705,-0.05419373884797096,-0.17990313470363617,-0.17990289628505707,-0.05419323220849037,0.1093846932053566,0.19652852416038513,0.14634568989276886,-0.00609820568934083,-0.1542811244726181,-0.19465762376785278,-0.09901446104049683,0.06581642478704453,0.1846570372581482,0.17446638643741608,0.04236459732055664,-0.11933955550193787,-0.19765394926071167,-0.1378549188375473,0.018272466957569122,0.161631241440773,0.19204825162887573,0.08826905488967896,-0.07718909531831741,-0.1887105405330658,-0.1683676689863205,-0.03037487529218197,0.128842294216156],[0.0,0.16507785022258759,0.18236643075942993,0.03638782352209091,-0.14216774702072144,-0.19344475865364075,-0.07153650373220444,0.11441630870103836,0.1979355663061142,0.10424905270338058,-0.08276848495006561,-0.19568592309951782,-0.13341160118579865,0.048302263021469116,0.1867724359035492,0.15803098678588867,-0.0121909836307168,-0.1714986115694046,-0.17726868391036987,-0.02433544583618641,0.1503845900297165,0.19046971201896667,0.06003279611468315,-0.1241493970155716,-0.1971847116947174,-0.09368650615215302,0.09368675202131271,0.197184756398201,0.12414917349815369,-0.06003306061029434,-0.19046980142593384,-0.15038441121578217,0.024335721507668495,0.17726898193359375,0.17149846255779266,0.01219032984226942,-0.15803103148937225,-0.18677246570587158,-0.04830199480056763,0.1334119439125061,0.19568587839603424,0.0827687531709671,-0.10424976795911789,-0.1979355663061142,-0.11441562324762344,0.07153685390949249,0.19344475865364075,0.14216747879981995,-0.03638777136802673,-0.18236656486988068,-0.16507789492607117],[0.1980295181274414,0.10938456654548645,-0.0771891251206398,-0.19465768337249756,-0.13785505294799805,0.04236507788300514,0.184657022356987,0.1616310328245163,-0.006098384968936443,-0.16836810111999512,-0.17990292608737946,-0.030375884845852852,0.1463455706834793,0.19204837083816528,0.06581592559814453,-0.11933939158916473,-0.1976539045572281,-0.09901468455791473,0.0882694199681282,0.1965285688638687,0.1288415938615799,-0.05419373884797096,-0.1887107640504837,-0.15428094565868378,0.018271833658218384,0.17446640133857727,0.17446626722812653,0.018271557986736298,-0.1542811244726181,-0.18871068954467773,-0.05419347435235977,0.1288418024778366,0.19652852416038513,0.08826883882284164,-0.09901492297649384,-0.19765394926071167,-0.11933932453393936,0.06581583619117737,0.19204844534397125,0.14634525775909424,-0.03037615865468979,-0.1799028068780899,-0.1683676689863205,-0.006097919773310423,0.1616315245628357,0.18465690314769745,0.04236508160829544,-0.13785530626773834,-0.19465769827365875,-0.07718881964683533,0.10938450694084167],[0.0,0.17726877331733704,0.15803097188472748,-0.03638782352209091,-0.190469890832901,-0.13341160118579865,0.07153650373220444,0.19718478620052338,0.10424908250570297,-0.10424908995628357,-0.19718477129936218,-0.07153631746768951,0.13341160118579865,0.1904698610305786,0.03638762608170509,-0.15803107619285583,-0.17726874351501465,9.445914272987466e-09,0.17726874351501465,0.15803106129169464,-0.03638801723718643,-0.1904699206352234,-0.13341131806373596,0.07153651118278503,0.19718477129936218,0.10424923151731491,-0.1042492538690567,-0.197184756398201,-0.07153613120317459,0.13341161608695984,0.19046980142593384,0.03638724610209465,-0.15803107619285583,-0.17726856470108032,1.889182854597493e-08,0.17726890742778778,0.15803104639053345,-0.03638802468776703,-0.19046981632709503,-0.13341103494167328,0.07153687626123428,0.19718477129936218,0.10424890369176865,-0.10424958914518356,-0.1971846967935562,-0.071536123752594,0.13341161608695984,0.19046959280967712,0.03638797998428345,-0.15803107619285583,-0.17726890742778778],[0.19802947342395782,0.08826933056116104,-0.11933942884206772,-0.19465765357017517,-0.054193321615457535,0.1463455855846405,0.1846570074558258,0.018271751701831818,-0.16836807131767273,-0.16836807131767273,0.018271949142217636,0.18465706706047058,0.1463455706834793,-0.05419342219829559,-0.19465768337249756,-0.11933930963277817,0.08826940506696701,0.19802947342395782,0.08826938271522522,-0.11933932453393936,-0.19465762376785278,-0.054193221032619476,0.1463458389043808,0.1846569925546646,0.018271930515766144,-0.16836798191070557,-0.16836796700954437,0.018271958455443382,0.18465714156627655,0.1463455706834793,-0.054193608462810516,-0.19465775787830353,-0.11933930218219757,0.08826975524425507,0.19802947342395782,0.08826903998851776,-0.11933933943510056,-0.19465762376785278,-0.05419357493519783,0.1463461071252823,0.18465685844421387,0.018271921202540398,-0.1683681756258011,-0.16836777329444885,0.018272720277309418,0.18465714156627655,0.14634555578231812,-0.05419434607028961,-0.19465762376785278,-0.11933930218219757,0.08826907724142075],[0.0,0.1867723912000656,0.1241493970155716,-0.10424907505512238,-0.19344475865364075,-0.02433551475405693,0.17726871371269226,0.14216762781143188,-0.08276848495006561,-0.1971847116947174,-0.04830212891101837,0.16507796943187714,0.15803098678588867,-0.06003317981958389,-0.1979355663061142,-0.07153670489788055,0.1503845900297165,0.1714984029531479,-0.036388006061315536,-0.19568584859371185,-0.09368650615215302,0.13341176509857178,0.1823662519454956,-0.01219048723578453,-0.19046980142593384,-0.11441613733768463,0.11441627144813538,0.19046975672245026,0.01219032984226942,-0.18236646056175232,-0.1334119290113449,0.0936863124370575,0.19568587839603424,0.03638748079538345,-0.1714988648891449,-0.15038399398326874,0.07153685390949249,0.1979355663061142,0.06003374606370926,-0.1580311805009842,-0.16507789492607117,0.04830227792263031,0.19718477129936218,0.08276782929897308,-0.14216838777065277,-0.17726850509643555,0.024334734305739403,0.19344481825828552,0.10424929857254028,-0.12414999306201935,-0.18677228689193726],[0.1980295330286026,0.06581606715917587,-0.15428096055984497,-0.1683681160211563,0.04236508160829544,0.1965285688638687,0.08826939016580582,-0.1378551870584488,-0.17990294098854065,0.018271954730153084,0.19204843044281006,0.10938437283039093,-0.11933940649032593,-0.18871065974235535,-0.006098058540374041,0.18465696275234222,0.1288416087627411,-0.09901502728462219,-0.19465766847133636,-0.030376380309462547,0.17446641623973846,0.14634545147418976,-0.07718955725431442,-0.19765396416187286,-0.05419347807765007,0.16163116693496704,0.16163109242916107,-0.05419362708926201,-0.19765397906303406,-0.07718906551599503,0.14634530246257782,0.17446652054786682,-0.030376162379980087,-0.19465777277946472,-0.09901424497365952,0.1288423091173172,0.18465691804885864,-0.006098215468227863,-0.18871048092842102,-0.11933913081884384,0.10938451439142227,0.19204840064048767,0.018271422013640404,-0.17990325391292572,-0.13785439729690552,0.08826978504657745,0.19652865827083588,0.042364832013845444,-0.16836796700954437,-0.15428048372268677,0.06581632047891617],[0.0,0.19344478845596313,0.08276844024658203,-0.15803100168704987,-0.15038451552391052,0.09368650615215302,0.19046980142593384,-0.012191043235361576,-0.19568593800067902,-0.07153648138046265,0.16507789492607117,0.14216755330562592,-0.10424934327602386,-0.18677236139774323,0.024335840716958046,0.197184756398201,0.06003279983997345,-0.17149868607521057,-0.13341157138347626,0.11441648006439209,0.18236641585826874,-0.03638813644647598,-0.19793559610843658,-0.04830212518572807,0.17726899683475494,0.1241493821144104,-0.12414960563182831,-0.17726851999759674,0.04830276966094971,0.1979355812072754,0.03638748452067375,-0.18236637115478516,-0.11441563069820404,0.13341177999973297,0.1714983433485031,-0.060033079236745834,-0.1971847265958786,-0.02433593198657036,0.18677258491516113,0.10424909740686417,-0.14216788113117218,-0.1650780439376831,0.07153709977865219,0.19568578898906708,0.012189815752208233,-0.19046978652477264,-0.09368649870157242,0.15038518607616425,0.15803025662899017,-0.08276903629302979,-0.19344477355480194],[0.1980295181274414,0.04236504063010216,-0.17990295588970184,-0.11933939158916473,0.12884169816970825,0.17446641623973846,-0.054193489253520966,-0.1976539045572281,-0.030375884845852852,0.1846570372581482,0.10938452929258347,-0.13785526156425476,-0.16836793720722198,0.06581617891788483,0.19652850925922394,0.018271686509251595,-0.1887107640504837,-0.09901457279920578,0.1463456153869629,0.16163092851638794,-0.07718920707702637,-0.19465762376785278,-0.006097800098359585,0.19204843044281006,0.08826883882284164,-0.15428097546100616,-0.15428079664707184,0.08826977014541626,0.19204825162887573,-0.006098463665693998,-0.19465774297714233,-0.07718928903341293,0.1616315245628357,0.14634542167186737,-0.09901514649391174,-0.18871067464351654,0.018271971493959427,0.19652850925922394,0.06581555306911469,-0.16836808621883392,-0.1378549188375473,0.10938429087400436,0.1846567988395691,-0.030376914888620377,-0.19765399396419525,-0.05419357866048813,0.17446641623973846,0.12884090840816498,-0.11934037506580353,-0.17990267276763916,0.04236513748764992],[0.0,0.1971847414970398,0.03638782724738121,-0.1904698610305786,-0.07153651118278503,0.17726880311965942,0.10424906015396118,-0.15803107619285583,-0.13341161608695984,0.13341158628463745,0.15803076326847076,-0.10424934327602386,-0.17726869881153107,0.07153672724962234,0.19046974182128906,-0.036388009786605835,-0.1971847414970398,5.16209638590226e-07,0.1971847414970398,0.03638773784041405,-0.19047002494335175,-0.0715361163020134,0.17726899683475494,0.10424910485744476,-0.15803104639053345,-0.1334119439125061,0.1334119588136673,0.15803056955337524,-0.10424978286027908,-0.17726898193359375,0.07153686136007309,0.1904699206352234,-0.03638777509331703,-0.19718465209007263,1.032419277180452e-06,0.19718478620052338,0.03638797253370285,-0.1904698610305786,-0.0715363398194313,0.1772688925266266,0.10424802452325821,-0.1580308973789215,-0.1334109902381897,0.1334112286567688,0.15803025662899017,-0.10424958169460297,-0.17726875841617584,0.07153733819723129,0.19046977162361145,-0.03638902306556702,-0.19718481600284576],[0.1980295181274414,0.018271861597895622,-0.19465768337249756,-0.05419333279132843,0.184657022356987,0.08826921135187149,-0.16836810111999512,-0.11933928728103638,0.1463455706834793,0.1463456004858017,-0.11933969706296921,-0.16836793720722198,0.0882694199681282,0.18465694785118103,-0.05419373884797096,-0.19465765357017517,0.018271833658218384,0.1980295181274414,0.018271934241056442,-0.19465769827365875,-0.05419274792075157,0.18465718626976013,0.08826883882284164,-0.16836808621883392,-0.11933932453393936,0.14634528756141663,0.14634525775909424,-0.1193399578332901,-0.1683676689863205,0.08826886862516403,0.18465690314769745,-0.05419314280152321,-0.19465769827365875,0.018272724002599716,0.1980295181274414,0.018271420150995255,-0.19465766847133636,-0.05419333651661873,0.18465708196163177,0.08826904743909836,-0.16836875677108765,-0.11933951079845428,0.14634613692760468,0.14634592831134796,-0.11934037506580353,-0.16836778819561005,0.08826933056116104,0.18465670943260193,-0.054193638265132904,-0.19465745985507965,0.018270980566740036],[0.0,0.1979355365037918,-0.01219091285020113,-0.1971847116947174,0.024335581809282303,0.19568584859371185,-0.03638774901628494,-0.19344472885131836,0.04830225557088852,0.19046980142593384,-0.06003353372216225,-0.18677231669425964,0.0715363621711731,0.182366281747818,-0.08276854455471039,-0.1772686094045639,0.09368674457073212,0.17149852216243744,-0.10424921661615372,-0.16507788002490997,0.11441687494516373,0.15803083777427673,-0.12414958328008652,-0.1503847986459732,0.13341137766838074,0.1421678215265274,-0.14216820895671844,-0.1334109753370285,0.15038466453552246,0.12414974719285965,-0.158031165599823,-0.11441580951213837,0.16507817804813385,0.10424907505512238,-0.1714985966682434,-0.09368559718132019,0.1772688627243042,0.08276805281639099,-0.18236635625362396,-0.07153655588626862,0.186772882938385,0.060033734887838364,-0.190469890832901,-0.048302460461854935,0.1934448480606079,0.03638647124171257,-0.1956857442855835,-0.02433541603386402,0.19718465209007263,0.012190558016300201,-0.1979355365037918],[0.1980295479297638,-0.006098351441323757,-0.19765394926071167,0.018271828070282936,0.1965285837650299,-0.03037627413868904,-0.19465774297714233,0.042365118861198425,0.19204841554164886,-0.054193440824747086,-0.18871057033538818,0.06581619381904602,0.18465711176395416,-0.07718945294618607,-0.17990294098854065,0.08826954662799835,0.1744662970304489,-0.09901482611894608,-0.16836802661418915,0.10938451439142227,0.16163066029548645,-0.11933957785367966,-0.15428082644939423,0.1288413554430008,0.14634579420089722,-0.13785497844219208,-0.13785459101200104,0.14634615182876587,0.12884151935577393,-0.15428069233894348,-0.11933914572000504,0.16163140535354614,0.10938405245542526,-0.1683681160211563,-0.09901468455791473,0.17446690797805786,0.08826906234025955,-0.17990316450595856,-0.07718929648399353,0.1846570372581482,0.06581460684537888,-0.18871049582958221,-0.05419309809803963,0.19204837083816528,0.042364586144685745,-0.19465796649456024,-0.0303768552839756,0.1965285986661911,0.018272412940859795,-0.19765397906303406,-0.006098656449466944],[0.0,0.19568589329719543,-0.060033202171325684,-0.17726866900920868,0.11441630870103836,0.14216762781143188,-0.15803106129169464,-0.09368640184402466,0.1867724359035492,0.03638780117034912,-0.1979355663061142,0.024335838854312897,0.19046971201896667,-0.08276855200529099,-0.16507776081562042,0.1334114819765091,0.12414917349815369,-0.17149873077869415,-0.07153646647930145,0.1934448629617691,0.01219032984226942,-0.19718465209007263,0.04830276221036911,0.18236644566059113,-0.10424976795911789,-0.15038399398326874,0.15038467943668365,0.10424887388944626,-0.18236656486988068,-0.04830247536301613,0.1971846967935562,-0.012190625071525574,-0.1934446394443512,0.0715370923280716,0.17149820923805237,-0.12414999306201935,-0.13341154158115387,0.16507792472839355,0.08276759833097458,-0.1904699057340622,-0.024334421381354332,0.197935551404953,-0.03638902306556702,-0.1867722123861313,0.09368766099214554,0.15803053975105286,-0.14216770231723785,-0.11441683769226074,0.17726944386959076,0.060030847787857056,-0.19568616151809692],[0.1980295330286026,-0.030376097187399864,-0.18871065974235535,0.08826944977045059,0.1616310477256775,-0.1378551870584488,-0.11933930218219757,0.17446647584438324,0.06581593304872513,-0.19465771317481995,-0.006098058540374041,0.19652853906154633,-0.05419374257326126,-0.17990292608737946,0.1093847006559372,0.14634568989276886,-0.1542811393737793,-0.09901446849107742,0.1846570521593094,0.04236460104584694,-0.19765397906303406,0.01827246882021427,0.19204828143119812,-0.07718910276889801,-0.1683676838874817,0.1288423091173172,0.12884150445461273,-0.16836823523044586,-0.07718882709741592,0.1920483410358429,0.018272174522280693,-0.19765394926071167,0.042365625500679016,0.18465681374073029,-0.09901537001132965,-0.15428048372268677,0.14634564518928528,0.10938446968793869,-0.17990335822105408,-0.05419309437274933,0.19652871787548065,-0.006098731886595488,-0.19465748965740204,0.06581656634807587,0.17446580529212952,-0.11933998018503189,-0.13785509765148163,0.16163069009780884,0.08826791495084763,-0.18871138989925385,-0.030374355614185333],[0.0,0.1904699057340622,-0.10424911230802536,-0.13341161608695984,0.17726877331733704,0.03638775646686554,-0.19718478620052338,0.07153663039207458,0.15803104639053345,-0.15803109109401703,-0.07153637707233429,0.19718484580516815,-0.03638802096247673,-0.17726869881153107,0.13341180980205536,0.1042492464184761,-0.1904698759317398,2.675508028460172e-07,0.19046983122825623,-0.10424938797950745,-0.13341142237186432,0.17726893723011017,0.036386750638484955,-0.197184756398201,0.07153688371181488,0.15803074836730957,-0.15803124010562897,-0.07153613120317459,0.19718484580516815,-0.03638754040002823,-0.17726892232894897,0.1334114521741867,0.10424933582544327,-0.19046983122825623,5.351016056920344e-07,0.19046995043754578,-0.10424961149692535,-0.13341177999973297,0.17726905643939972,0.03638648986816406,-0.1971847265958786,0.07153642922639847,0.15803059935569763,-0.1580309420824051,-0.07153446972370148,0.19718493521213531,-0.03638854995369911,-0.1772681176662445,0.1334122121334076,0.10424783080816269,-0.1904701143503189],[0.19802945852279663,-0.05419332906603813,-0.16836804151535034,0.1463455706834793,0.08826935291290283,-0.19465763866901398,0.018271947279572487,0.18465693295001984,-0.11933936178684235,-0.11933930218219757,0.1846570372581482,0.018271304666996002,-0.1946575939655304,0.08826950937509537,0.14634539186954498,-0.16836796700954437,-0.05419345572590828,0.19802945852279663,-0.05419360473752022,-0.1683678776025772,0.14634574949741364,0.08826903253793716,-0.1946578323841095,0.018272213637828827,0.18465684354305267,-0.1193397268652916,-0.11933908611536026,0.18465712666511536,0.018271414563059807,-0.19465769827365875,0.08826906979084015,0.14634571969509125,-0.1683679074048996,-0.054193563759326935,0.19802945852279663,-0.05419313907623291,-0.16836774349212646,0.14634542167186737,0.08826879411935806,-0.19465787708759308,0.018272479996085167,0.1846570074558258,-0.11933993548154831,-0.1193394809961319,0.18465778231620789,0.018270395696163177,-0.19465750455856323,0.08827066421508789,0.14634503424167633,-0.1683688461780548,-0.05419257655739784],[0.0,0.18236646056175232,-0.14216777682304382,-0.07153651863336563,0.19793559610843658,-0.0827684998512268,-0.13341163098812103,0.18677246570587158,-0.01219098549336195,-0.17726871371269226,0.15038461983203888,0.06003280729055405,-0.197184756398201,0.09368676692247391,0.12414919584989548,-0.19046983122825623,0.024335725232958794,0.17149849236011505,-0.15803106129169464,-0.048302002251148224,0.19568590819835663,-0.10424979031085968,-0.11441564559936523,0.19344480335712433,-0.03638777881860733,-0.16507792472839355,0.16507822275161743,0.036387234926223755,-0.19344468414783478,0.11441609263420105,0.10424932092428207,-0.19568601250648499,0.0483025386929512,0.15803027153015137,-0.17149877548217773,-0.02433442510664463,0.19046978652477264,-0.12414903938770294,-0.09368628263473511,0.19718484580516815,-0.06003334000706673,-0.15038499236106873,0.17726947367191315,0.012190055102109909,-0.18677189946174622,0.1334121823310852,0.082768514752388,-0.19793562591075897,0.07153642177581787,0.14216731488704681,-0.18236640095710754],[0.1980295032262802,-0.0771891176700592,-0.13785503804683685,0.1846570074558258,-0.006098384503275156,-0.17990291118621826,0.14634555578231812,0.06581591814756393,-0.1976538896560669,0.08826941251754761,0.1288415789604187,-0.1887107491493225,0.018271831795573235,0.17446625232696533,-0.1542811095714569,-0.054193466901779175,0.19652850925922394,-0.09901491552591324,-0.11933930963277817,0.19204843044281006,-0.03037615679204464,-0.1683676540851593,0.1616315096616745,0.04236507788300514,-0.19465768337249756,0.10938449203968048,0.10938402265310287,-0.19465777277946472,0.04236561805009842,0.16163118183612823,-0.16836793720722198,-0.030375607311725616,0.19204829633235931,-0.11934036016464233,-0.09901443123817444,0.19652867317199707,-0.054193634539842606,-0.15428124368190765,0.17446650564670563,0.018270904198288918,-0.18871058523654938,0.12884114682674408,0.08826790004968643,-0.19765394926071167,0.06581751257181168,0.14634504914283752,-0.17990291118621826,-0.0060976422391831875,0.1846570372581482,-0.13785549998283386,-0.07718925923109055],[0.0,0.1714985966682434,-0.1714985966682434,-5.980324857546293e-08,0.17149856686592102,-0.17149867117404938,-1.1960649715092586e-07,0.17149850726127625,-0.171498641371727,9.445913384809046e-09,0.17149843275547028,-0.17149870097637177,-2.392129943018517e-07,0.17149856686592102,-0.17149876058101654,2.675507460025983e-07,0.17149849236011505,-0.17149902880191803,1.8891826769618092e-08,0.1714986264705658,-0.17149889469146729,-2.297670818052211e-07,0.1714983731508255,-0.1714983880519867,-4.784259886037034e-07,0.17149849236011505,-0.17149865627288818,7.837604130145337e-07,0.17149825394153595,-0.17149852216243744,5.351014920051966e-07,0.17149874567985535,-0.17149877548217773,1.0418651754662278e-06,0.17149774730205536,-0.17149902880191803,3.7783653539236184e-08,0.17149898409843445,-0.17149853706359863,5.445473902909725e-07,0.17149798572063446,-0.17149803042411804,-4.595341636104422e-07,0.17149923741817474,-0.17149904370307922,4.722956958858049e-08,0.17149898409843445,-0.17149853706359863,-9.568519772074069e-07,0.17149797081947327,-0.17149879038333893],[0.1980295181274414,-0.0990147739648819,-0.09901474416255951,0.1980295181274414,-0.09901479631662369,-0.09901463240385056,0.1980295181274414,-0.09901491552591324,-0.09901468455791473,0.1980295181274414,-0.0990150198340416,-0.09901457279920578,0.1980295181274414,-0.09901480376720428,-0.09901446104049683,0.1980295181274414,-0.09901492297649384,-0.09901401400566101,0.1980295181274414,-0.09901470690965652,-0.09901423007249832,0.1980295181274414,-0.09901514649391174,-0.09901510179042816,0.1980295181274414,-0.09901492297649384,-0.09901466220617294,0.1980295181274414,-0.09901536256074905,-0.09901487827301025,0.1980295181274414,-0.09901449829339981,-0.09901443868875504,0.1980295181274414,-0.09901624917984009,-0.09901400655508041,0.1980295181274414,-0.09901406615972519,-0.09901486337184906,0.1980295181274414,-0.09901580959558487,-0.0990157350897789,0.1980295181274414,-0.09901363402605057,-0.09901399165391922,0.1980295181274414,-0.09901407361030579,-0.09901486337184906,0.1980295181274414,-0.09901582449674606,-0.09901442378759384],[0.0,0.1580309271812439,-0.19046983122825623,0.07153648138046265,0.10424905270338058,-0.1971847116947174,0.13341157138347626,0.0363876149058342,-0.17726868391036987,0.17726869881153107,-0.036388006061315536,-0.13341127336025238,0.1971847116947174,-0.10424923151731491,-0.0715361088514328,0.19046975672245026,-0.15803103148937225,1.8891823216904413e-08,0.15803100168704987,-0.19046977162361145,0.07153685390949249,0.10424887388944626,-0.19718463718891144,0.13341158628463745,0.03638797253370285,-0.177268847823143,0.1772688776254654,-0.03638802841305733,-0.1334109753370285,0.1971847116947174,-0.10424956679344177,-0.0715353935956955,0.19046975672245026,-0.15803149342536926,3.7783646433808826e-08,0.15803053975105286,-0.19046977162361145,0.07153686881065369,0.1042495146393776,-0.19718456268310547,0.133412167429924,0.03638795018196106,-0.17726850509643555,0.17726922035217285,-0.03638952970504761,-0.1334109753370285,0.1971847116947174,-0.10425087064504623,-0.07153678685426712,0.19046974182128906,-0.15803058445453644],[0.1980295330286026,-0.1193394660949707,-0.05419333651661873,0.1846570521593094,-0.1683681160211563,0.018271954730153084,0.1463456153869629,-0.19465774297714233,0.0882694274187088,0.08826941251754761,-0.19465766847133636,0.14634588360786438,0.01827193610370159,-0.16836801171302795,0.18465720117092133,-0.05419362708926201,-0.11933933198451996,0.1980295330286026,-0.11933936923742294,-0.054193589836359024,0.18465691804885864,-0.16836823523044586,0.018272725865244865,0.1463456004858017,-0.19465768337249756,0.08826910704374313,0.08826905488967896,-0.19465766847133636,0.14634615182876587,0.0182719174772501,-0.16836780309677124,0.18465746939182281,-0.0541936419904232,-0.11933872103691101,0.1980295330286026,-0.11933998018503189,-0.05419357120990753,0.18465690314769745,-0.16836784780025482,0.018273495137691498,0.1463450789451599,-0.19465768337249756,0.08826979994773865,0.08826836198568344,-0.19465738534927368,0.14634616672992706,0.018271898850798607,-0.16836699843406677,0.18465693295001984,-0.05419366806745529,-0.11933991312980652],[0.0,0.14216779172420502,-0.19793565571308136,0.13341167569160461,0.01219085045158863,-0.15038448572158813,0.19718481600284576,-0.12414964288473129,-0.024335458874702454,0.15803109109401703,-0.19568605720996857,0.11441652476787567,0.03638775274157524,-0.16507798433303833,0.19344495236873627,-0.10424874722957611,-0.04830201715230942,0.17149829864501953,-0.1904698610305786,0.09368680417537689,0.06003233417868614,-0.17726849019527435,0.1867726445198059,-0.08276814967393875,-0.07153636962175369,0.1823662370443344,-0.18236646056175232,0.07153689116239548,0.08276763558387756,-0.18677246570587158,0.177268385887146,-0.06003287062048912,-0.0936863124370575,0.19046969711780548,-0.1714993417263031,0.04830256104469299,0.10424955934286118,-0.1934448480606079,0.1650782823562622,-0.03638756275177002,-0.11441484093666077,0.19568584859371185,-0.1580318808555603,0.024334516376256943,0.12414861470460892,-0.19718480110168457,0.1503841131925583,-0.012192167341709137,-0.13341139256954193,0.1979355663061142,-0.1421688348054886],[0.19802944362163544,-0.13785502314567566,-0.006098313257098198,0.14634551107883453,-0.1976538449525833,0.12884174287319183,0.018271807581186295,-0.15428073704242706,0.19652849435806274,-0.11933930218219757,-0.030375618487596512,0.16163086891174316,-0.19465762376785278,0.1093844547867775,0.04236457869410515,-0.16836826503276825,0.19204837083816528,-0.09901532530784607,-0.054193563759326935,0.17446620762348175,-0.18871085345745087,0.08826996386051178,0.0658155232667923,-0.1799030303955078,0.184657022356987,-0.07718977332115173,-0.07718925178050995,0.18465681374073029,-0.17990326881408691,0.06581605970859528,0.08827013522386551,-0.18871068954467773,0.17446646094322205,-0.05419410765171051,-0.09901352226734161,0.19204825162887573,-0.16836777329444885,0.04236513003706932,0.1093839779496193,-0.19465766847133636,0.16163206100463867,-0.030376920476555824,-0.1193382516503334,0.1965286135673523,-0.15428155660629272,0.01827199198305607,0.12884218990802765,-0.19765375554561615,0.14634576439857483,-0.006100764498114586,-0.1378539353609085],[0.0,0.1241493821144104,-0.19344474375247955,0.17726869881153107,-0.08276847749948502,-0.04830212518572807,0.15803097188472748,-0.197935551404953,0.1503845751285553,-0.03638800233602524,-0.09368649870157242,0.1823662370443344,-0.19046978652477264,0.11441625654697418,0.012190328910946846,-0.13341191411018372,0.19568586349487305,-0.1714988499879837,0.0715368464589119,0.06003373861312866,-0.16507788002490997,0.1971847414970398,-0.14216837286949158,0.024334732443094254,0.10424929112195969,-0.18677227199077606,0.18677237629890442,-0.10424955934286118,-0.024334419518709183,0.14216764271259308,-0.19718478620052338,0.16507764160633087,-0.060033321380615234,-0.07153584808111191,0.17149794101715088,-0.19568614661693573,0.13341215252876282,-0.012190642766654491,-0.11441724002361298,0.19046959280967712,-0.18236635625362396,0.0936867743730545,0.03638695180416107,-0.15038363635540009,0.19793547689914703,-0.15803149342536926,0.048300594091415405,0.0827680230140686,-0.17726893723011017,0.19344507157802582,-0.12414980679750443],[0.1980295479297638,-0.15428097546100616,0.04236508533358574,0.08826939761638641,-0.17990295588970184,0.19204844534397125,-0.11933941394090652,-0.006098059006035328,0.12884162366390228,-0.19465768337249756,0.17446643114089966,-0.07718956470489502,-0.05419348180294037,0.16163110733032227,-0.19765399396419525,0.14634530246257782,-0.030376164242625237,-0.09901425242424011,0.18465693295001984,-0.18871049582958221,0.10938452184200287,0.018271423876285553,-0.13785439729690552,0.19652868807315826,-0.16836798191070557,0.06581632792949677,0.06581603735685349,-0.16836781799793243,0.19652873277664185,-0.1378551721572876,0.018270984292030334,0.10938489437103271,-0.18871062994003296,0.18465730547904968,-0.09901582449674606,-0.03037435933947563,0.1463450938463211,-0.19765396416187286,0.16163040697574615,-0.05419414862990379,-0.07718928158283234,0.17446628212928772,-0.19465789198875427,0.12884271144866943,-0.0061002615839242935,-0.11933872103691101,0.1920488327741623,-0.17990317940711975,0.08826892077922821,0.04236357659101486,-0.1542806327342987],[0.0,0.1042490229010582,-0.1772686243057251,0.19718466699123383,-0.15803101658821106,0.0715365782380104,0.036387793719768524,-0.13341133296489716,0.1904696673154831,-0.19046971201896667,0.1334117203950882,-0.03638812154531479,-0.07153644412755966,0.15803080797195435,-0.19718460738658905,0.17726881802082062,-0.1042497381567955,-2.2976696811838337e-07,0.1042494922876358,-0.17726868391036987,0.1971847116947174,-0.15803098678588867,0.0715370699763298,0.03638746216893196,-0.13341151177883148,0.19046983122825623,-0.1904698610305786,0.13341210782527924,-0.03638901188969612,-0.07153631001710892,0.15803049504756927,-0.19718456268310547,0.17726939916610718,-0.10424955189228058,-4.5953393623676675e-07,0.10424775630235672,-0.1772691160440445,0.197184756398201,-0.15803085267543793,0.07153685390949249,0.036386944353580475,-0.13341279327869415,0.1904696822166443,-0.19046957790851593,0.13341249525547028,-0.03638804331421852,-0.07153581827878952,0.1580301821231842,-0.19718465209007263,0.17726895213127136,-0.10424871742725372],[0.19802959263324738,-0.1683681756258011,0.08826947957277298,0.018271856009960175,-0.11933933198451996,0.18465706706047058,-0.19465775787830353,0.1463458389043808,-0.054193757474422455,-0.05419361591339111,0.14634549617767334,-0.19465769827365875,0.18465711176395416,-0.11933960765600204,0.01827247440814972,0.08826908469200134,-0.16836772859096527,0.19802959263324738,-0.1683678925037384,0.08826935291290283,0.018271425738930702,-0.11933936923742294,0.18465687334537506,-0.1946578323841095,0.14634567499160767,-0.054193176329135895,-0.05419310927391052,0.1463451385498047,-0.19465753436088562,0.18465717136859894,-0.11934001743793488,0.018272995948791504,0.08826794475317001,-0.16836784780025482,0.19802959263324738,-0.16836896538734436,0.0882684737443924,0.01827090233564377,-0.11933954805135727,0.18465694785118103,-0.19465792179107666,0.14634451270103455,-0.054193682968616486,-0.05419405922293663,0.14634478092193604,-0.19465771317481995,0.18465735018253326,-0.1193404421210289,0.01827201619744301,0.08826882392168045,-0.1683683693408966],[0.0,0.08276840299367905,-0.15038445591926575,0.19046974182128906,-0.19568586349487305,0.1650778353214264,-0.10424930602312088,0.0243358314037323,0.06003277748823166,-0.13341152667999268,0.18236634135246277,-0.19793552160263062,0.17726893723011017,-0.12414956092834473,0.048302751034498215,0.03638746961951256,-0.11441558599472046,0.17149828374385834,-0.19718465209007263,0.18677251040935516,-0.1421678364276886,0.0715370699763298,0.01218981109559536,-0.09368646144866943,0.1580301970243454,-0.19344469904899597,0.19344481825828552,-0.15803144872188568,0.09368763118982315,-0.012191136367619038,-0.07153583317995071,0.14216795563697815,-0.18677181005477905,0.1971847116947174,-0.17149895429611206,0.11441606283187866,-0.036388035863637924,-0.04830292612314224,0.12414851784706116,-0.17726866900920868,0.19793549180030823,-0.18236613273620605,0.13341249525547028,-0.06003476679325104,-0.024333389475941658,0.10424945503473282,-0.1650778204202652,0.19568555057048798,-0.19047041237354279,0.150385320186615,-0.08276858180761337],[0.19802959263324738,-0.1799030303955078,0.12884175777435303,-0.054193511605262756,-0.030375896021723747,0.10938456654548645,-0.16836801171302795,0.1965285837650299,-0.18871083855628967,0.14634566009044647,-0.07718923687934875,-0.006097802426666021,0.08826886862516403,-0.1542808562517166,0.1920483261346817,-0.1946578174829483,0.16163159906864166,-0.09901518374681473,0.018271978944540024,0.06581557542085648,-0.13785497844219208,0.18465687334537506,-0.19765406847000122,0.17446647584438324,-0.11934041976928711,0.04236515611410141,0.04236459359526634,-0.1193387508392334,0.1744658499956131,-0.19765397906303406,0.18465735018253326,-0.13785484433174133,0.06581754237413406,0.01827140711247921,-0.0990140289068222,0.1616312563419342,-0.19465772807598114,0.19204828143119812,-0.15428167581558228,0.08826937526464462,-0.006098752375692129,-0.07718975096940994,0.14634478092193604,-0.18871019780635834,0.19652888178825378,-0.1683678925037384,0.10938456654548645,-0.030377956107258797,-0.05419114604592323,0.12884074449539185,-0.17990294098854065],[0.0,0.06003318354487419,-0.11441629379987717,0.15803097188472748,-0.1867724359035492,0.19793561100959778,-0.190469890832901,0.16507810354232788,-0.12414942681789398,0.07153651118278503,-0.012191244401037693,-0.04830176383256912,0.10424912720918655,-0.15038436651229858,0.18236620724201202,-0.1971847414970398,0.19344481825828552,-0.17149879038333893,0.13341161608695984,-0.08276813477277756,0.02433623932301998,0.03638673946261406,-0.09368585050106049,0.1421680450439453,-0.17726878821849823,0.19568589329719543,-0.19568605720996857,0.1772685945034027,-0.1421688050031662,0.09368680417537689,-0.036388546228408813,-0.024335918948054314,0.0827685222029686,-0.1334102600812912,0.17149825394153595,-0.19344457983970642,0.19718477129936218,-0.18236662447452545,0.1503840833902359,-0.10425005108118057,0.04830354452133179,0.012190544046461582,-0.07153444737195969,0.12414976209402084,-0.1650770902633667,0.1904693841934204,-0.19793559610843658,0.18677279353141785,-0.15803095698356628,0.11441777646541595,-0.060033850371837616],[0.19802947342395782,-0.18871061503887177,0.1616310477256775,-0.11933942139148712,0.06581604480743408,-0.006098513025790453,-0.054193343967199326,0.10938423871994019,-0.1542809158563614,0.1846569925546646,-0.1976538598537445,0.19204847514629364,-0.16836805641651154,0.12884187698364258,-0.07718977332115173,0.018272215500473976,0.042365074157714844,-0.09901442378759384,0.14634555578231812,-0.1799030750989914,0.19652843475341797,-0.1946578472852707,0.17446672916412354,-0.13785475492477417,0.08826931565999985,-0.030376415699720383,-0.030375350266695023,0.08826969563961029,-0.1378539800643921,0.17446622252464294,-0.19465751945972443,0.19652846455574036,-0.17990289628505707,0.1463468074798584,-0.09901536256074905,0.04236612841486931,0.01827189326286316,-0.07718878239393234,0.12884220480918884,-0.16836749017238617,0.19204802811145782,-0.1976539045572281,0.18465779721736908,-0.1542806625366211,0.10938577353954315,-0.054195109754800797,-0.0060991328209638596,0.0658150240778923,-0.1193394660949707,0.16162998974323273,-0.18871040642261505],[0.0,0.03638781979680061,-0.07153649628162384,0.10424903780221939,-0.13341158628463745,0.15803073346614838,-0.17726866900920868,0.19046969711780548,-0.1971846967935562,0.1971846967935562,-0.19046998023986816,0.17726896703243256,-0.15803101658821106,0.1334119290113449,-0.10424976050853729,0.0715368464589119,-0.03638777136802673,1.0324190498067765e-06,0.03638796880841255,-0.07153632491827011,0.10424800217151642,-0.1334109753370285,0.15803022682666779,-0.17726871371269226,0.19046974182128906,-0.19718478620052338,0.19718478620052338,-0.1904701590538025,0.17726942896842957,-0.15803027153015137,0.13341215252876282,-0.10424870997667313,0.07153639942407608,-0.03638952597975731,2.064838099613553e-06,0.03638695180416107,-0.07153677940368652,0.10424905270338058,-0.13341131806373596,0.15803050994873047,-0.17726758122444153,0.1904698610305786,-0.19718454778194427,0.19718460738658905,-0.19047044217586517,0.17726922035217285,-0.1580308973789215,0.1334128975868225,-0.10424959659576416,0.0715387687087059,-0.03638608381152153],[0.19802957773208618,-0.19465774297714233,0.18465708196163177,-0.1683681607246399,0.1463456004858017,-0.11933973431587219,0.08826944231987,-0.054193753749132156,0.01827183924615383,0.01827193982899189,-0.054192762821912766,0.08826886117458344,-0.11933935433626175,0.14634530246257782,-0.16836771368980408,0.18465694785118103,-0.19465775787830353,0.19802957773208618,-0.19465771317481995,0.18465714156627655,-0.16836880147457123,0.14634618163108826,-0.11934040486812592,0.08826936036348343,-0.0541936531662941,0.018270986154675484,0.018270911648869514,-0.05419212952256203,0.08826793730258942,-0.11934034526348114,0.1463451087474823,-0.1683683693408966,0.18465711176395416,-0.19465743005275726,0.19802957773208618,-0.19465790688991547,0.18465697765350342,-0.1683681607246399,0.146345853805542,-0.11934001743793488,0.0882716253399849,-0.054193198680877686,0.018273519352078438,0.018272891640663147,-0.054191138595342636,0.08826836198568344,-0.11933952569961548,0.1463444083929062,-0.16836781799793243,0.18465618789196014,-0.1946580559015274],[0.0,0.012190872803330421,-0.024335499852895737,0.036387909203767776,-0.04830210283398628,0.06003306806087494,-0.07153666764497757,0.0827680304646492,-0.09368645399808884,0.10424914211034775,-0.11441607773303986,0.12414871156215668,-0.13341185450553894,0.14216776192188263,-0.15038390457630157,0.15803059935569763,-0.1650777906179428,0.17149798572063446,-0.17726875841617584,0.1823660433292389,-0.1867721825838089,0.19046977162361145,-0.19344432651996613,0.1956857293844223,-0.19718468189239502,0.19793541729450226,-0.19793543219566345,0.1971847414970398,-0.19568604230880737,0.19344444572925568,-0.19046993553638458,0.18677262961864471,-0.1823662668466568,0.17726866900920868,-0.17149941623210907,0.16507895290851593,-0.15803049504756927,0.15038427710533142,-0.14216868579387665,0.13341283798217773,-0.12414974719285965,0.11441563069820404,-0.10424868762493134,0.09368763864040375,-0.08277130126953125,0.07153544574975967,-0.060033801943063736,0.04830449819564819,-0.036386068910360336,0.02433551661670208,-0.012192679569125175],[0.19802965223789215,-0.19765405356884003,0.19652868807315826,-0.19465778768062592,0.19204853475093842,-0.1887107938528061,0.18465706706047058,-0.17990323901176453,0.17446650564670563,-0.1683681309223175,0.1616312563419342,-0.15428154170513153,0.1463453769683838,-0.13785505294799805,0.12884238362312317,-0.11933983862400055,0.10938457399606705,-0.09901565313339233,0.08826915174722672,-0.0771898552775383,0.06581635773181915,-0.05419319123029709,0.042366642504930496,-0.030376441776752472,0.01827099360525608,-0.00609924178570509,-0.006098659709095955,0.01827041432261467,-0.030374372377991676,0.04236607253551483,-0.05419262871146202,0.06581509858369827,-0.07718931883573532,0.08826931565999985,-0.09901317954063416,0.10938283056020737,-0.11933998018503189,0.12884192168712616,-0.13785408437252045,0.14634448289871216,-0.15428070724010468,0.16163158416748047,-0.1683684140443802,0.17446589469909668,-0.17990173399448395,0.18465754389762878,-0.188710555434227,0.19204793870449066,-0.19465813040733337,0.19652868807315826,-0.19765394926071167]],\"type\":\"heatmap\",\"xaxis\":\"x\",\"yaxis\":\"y\",\"hovertemplate\":\"Input: %{x}\\u003cbr\\u003eComponent: %{y}\\u003cbr\\u003ecolor: %{z}\\u003cextra\\u003e\\u003c\\u002fextra\\u003e\"}],                        {\"template\":{\"data\":{\"histogram2dcontour\":[{\"type\":\"histogram2dcontour\",\"colorbar\":{\"outlinewidth\":0,\"ticks\":\"\"},\"colorscale\":[[0.0,\"#0d0887\"],[0.1111111111111111,\"#46039f\"],[0.2222222222222222,\"#7201a8\"],[0.3333333333333333,\"#9c179e\"],[0.4444444444444444,\"#bd3786\"],[0.5555555555555556,\"#d8576b\"],[0.6666666666666666,\"#ed7953\"],[0.7777777777777778,\"#fb9f3a\"],[0.8888888888888888,\"#fdca26\"],[1.0,\"#f0f921\"]]}],\"choropleth\":[{\"type\":\"choropleth\",\"colorbar\":{\"outlinewidth\":0,\"ticks\":\"\"}}],\"histogram2d\":[{\"type\":\"histogram2d\",\"colorbar\":{\"outlinewidth\":0,\"ticks\":\"\"},\"colorscale\":[[0.0,\"#0d0887\"],[0.1111111111111111,\"#46039f\"],[0.2222222222222222,\"#7201a8\"],[0.3333333333333333,\"#9c179e\"],[0.4444444444444444,\"#bd3786\"],[0.5555555555555556,\"#d8576b\"],[0.6666666666666666,\"#ed7953\"],[0.7777777777777778,\"#fb9f3a\"],[0.8888888888888888,\"#fdca26\"],[1.0,\"#f0f921\"]]}],\"heatmap\":[{\"type\":\"heatmap\",\"colorbar\":{\"outlinewidth\":0,\"ticks\":\"\"},\"colorscale\":[[0.0,\"#0d0887\"],[0.1111111111111111,\"#46039f\"],[0.2222222222222222,\"#7201a8\"],[0.3333333333333333,\"#9c179e\"],[0.4444444444444444,\"#bd3786\"],[0.5555555555555556,\"#d8576b\"],[0.6666666666666666,\"#ed7953\"],[0.7777777777777778,\"#fb9f3a\"],[0.8888888888888888,\"#fdca26\"],[1.0,\"#f0f921\"]]}],\"heatmapgl\":[{\"type\":\"heatmapgl\",\"colorbar\":{\"outlinewidth\":0,\"ticks\":\"\"},\"colorscale\":[[0.0,\"#0d0887\"],[0.1111111111111111,\"#46039f\"],[0.2222222222222222,\"#7201a8\"],[0.3333333333333333,\"#9c179e\"],[0.4444444444444444,\"#bd3786\"],[0.5555555555555556,\"#d8576b\"],[0.6666666666666666,\"#ed7953\"],[0.7777777777777778,\"#fb9f3a\"],[0.8888888888888888,\"#fdca26\"],[1.0,\"#f0f921\"]]}],\"contourcarpet\":[{\"type\":\"contourcarpet\",\"colorbar\":{\"outlinewidth\":0,\"ticks\":\"\"}}],\"contour\":[{\"type\":\"contour\",\"colorbar\":{\"outlinewidth\":0,\"ticks\":\"\"},\"colorscale\":[[0.0,\"#0d0887\"],[0.1111111111111111,\"#46039f\"],[0.2222222222222222,\"#7201a8\"],[0.3333333333333333,\"#9c179e\"],[0.4444444444444444,\"#bd3786\"],[0.5555555555555556,\"#d8576b\"],[0.6666666666666666,\"#ed7953\"],[0.7777777777777778,\"#fb9f3a\"],[0.8888888888888888,\"#fdca26\"],[1.0,\"#f0f921\"]]}],\"surface\":[{\"type\":\"surface\",\"colorbar\":{\"outlinewidth\":0,\"ticks\":\"\"},\"colorscale\":[[0.0,\"#0d0887\"],[0.1111111111111111,\"#46039f\"],[0.2222222222222222,\"#7201a8\"],[0.3333333333333333,\"#9c179e\"],[0.4444444444444444,\"#bd3786\"],[0.5555555555555556,\"#d8576b\"],[0.6666666666666666,\"#ed7953\"],[0.7777777777777778,\"#fb9f3a\"],[0.8888888888888888,\"#fdca26\"],[1.0,\"#f0f921\"]]}],\"mesh3d\":[{\"type\":\"mesh3d\",\"colorbar\":{\"outlinewidth\":0,\"ticks\":\"\"}}],\"scatter\":[{\"fillpattern\":{\"fillmode\":\"overlay\",\"size\":10,\"solidity\":0.2},\"type\":\"scatter\"}],\"parcoords\":[{\"type\":\"parcoords\",\"line\":{\"colorbar\":{\"outlinewidth\":0,\"ticks\":\"\"}}}],\"scatterpolargl\":[{\"type\":\"scatterpolargl\",\"marker\":{\"colorbar\":{\"outlinewidth\":0,\"ticks\":\"\"}}}],\"bar\":[{\"error_x\":{\"color\":\"#2a3f5f\"},\"error_y\":{\"color\":\"#2a3f5f\"},\"marker\":{\"line\":{\"color\":\"#E5ECF6\",\"width\":0.5},\"pattern\":{\"fillmode\":\"overlay\",\"size\":10,\"solidity\":0.2}},\"type\":\"bar\"}],\"scattergeo\":[{\"type\":\"scattergeo\",\"marker\":{\"colorbar\":{\"outlinewidth\":0,\"ticks\":\"\"}}}],\"scatterpolar\":[{\"type\":\"scatterpolar\",\"marker\":{\"colorbar\":{\"outlinewidth\":0,\"ticks\":\"\"}}}],\"histogram\":[{\"marker\":{\"pattern\":{\"fillmode\":\"overlay\",\"size\":10,\"solidity\":0.2}},\"type\":\"histogram\"}],\"scattergl\":[{\"type\":\"scattergl\",\"marker\":{\"colorbar\":{\"outlinewidth\":0,\"ticks\":\"\"}}}],\"scatter3d\":[{\"type\":\"scatter3d\",\"line\":{\"colorbar\":{\"outlinewidth\":0,\"ticks\":\"\"}},\"marker\":{\"colorbar\":{\"outlinewidth\":0,\"ticks\":\"\"}}}],\"scattermapbox\":[{\"type\":\"scattermapbox\",\"marker\":{\"colorbar\":{\"outlinewidth\":0,\"ticks\":\"\"}}}],\"scatterternary\":[{\"type\":\"scatterternary\",\"marker\":{\"colorbar\":{\"outlinewidth\":0,\"ticks\":\"\"}}}],\"scattercarpet\":[{\"type\":\"scattercarpet\",\"marker\":{\"colorbar\":{\"outlinewidth\":0,\"ticks\":\"\"}}}],\"carpet\":[{\"aaxis\":{\"endlinecolor\":\"#2a3f5f\",\"gridcolor\":\"white\",\"linecolor\":\"white\",\"minorgridcolor\":\"white\",\"startlinecolor\":\"#2a3f5f\"},\"baxis\":{\"endlinecolor\":\"#2a3f5f\",\"gridcolor\":\"white\",\"linecolor\":\"white\",\"minorgridcolor\":\"white\",\"startlinecolor\":\"#2a3f5f\"},\"type\":\"carpet\"}],\"table\":[{\"cells\":{\"fill\":{\"color\":\"#EBF0F8\"},\"line\":{\"color\":\"white\"}},\"header\":{\"fill\":{\"color\":\"#C8D4E3\"},\"line\":{\"color\":\"white\"}},\"type\":\"table\"}],\"barpolar\":[{\"marker\":{\"line\":{\"color\":\"#E5ECF6\",\"width\":0.5},\"pattern\":{\"fillmode\":\"overlay\",\"size\":10,\"solidity\":0.2}},\"type\":\"barpolar\"}],\"pie\":[{\"automargin\":true,\"type\":\"pie\"}]},\"layout\":{\"autotypenumbers\":\"strict\",\"colorway\":[\"#636efa\",\"#EF553B\",\"#00cc96\",\"#ab63fa\",\"#FFA15A\",\"#19d3f3\",\"#FF6692\",\"#B6E880\",\"#FF97FF\",\"#FECB52\"],\"font\":{\"color\":\"#2a3f5f\"},\"hovermode\":\"closest\",\"hoverlabel\":{\"align\":\"left\"},\"paper_bgcolor\":\"white\",\"plot_bgcolor\":\"#E5ECF6\",\"polar\":{\"bgcolor\":\"#E5ECF6\",\"angularaxis\":{\"gridcolor\":\"white\",\"linecolor\":\"white\",\"ticks\":\"\"},\"radialaxis\":{\"gridcolor\":\"white\",\"linecolor\":\"white\",\"ticks\":\"\"}},\"ternary\":{\"bgcolor\":\"#E5ECF6\",\"aaxis\":{\"gridcolor\":\"white\",\"linecolor\":\"white\",\"ticks\":\"\"},\"baxis\":{\"gridcolor\":\"white\",\"linecolor\":\"white\",\"ticks\":\"\"},\"caxis\":{\"gridcolor\":\"white\",\"linecolor\":\"white\",\"ticks\":\"\"}},\"coloraxis\":{\"colorbar\":{\"outlinewidth\":0,\"ticks\":\"\"}},\"colorscale\":{\"sequential\":[[0.0,\"#0d0887\"],[0.1111111111111111,\"#46039f\"],[0.2222222222222222,\"#7201a8\"],[0.3333333333333333,\"#9c179e\"],[0.4444444444444444,\"#bd3786\"],[0.5555555555555556,\"#d8576b\"],[0.6666666666666666,\"#ed7953\"],[0.7777777777777778,\"#fb9f3a\"],[0.8888888888888888,\"#fdca26\"],[1.0,\"#f0f921\"]],\"sequentialminus\":[[0.0,\"#0d0887\"],[0.1111111111111111,\"#46039f\"],[0.2222222222222222,\"#7201a8\"],[0.3333333333333333,\"#9c179e\"],[0.4444444444444444,\"#bd3786\"],[0.5555555555555556,\"#d8576b\"],[0.6666666666666666,\"#ed7953\"],[0.7777777777777778,\"#fb9f3a\"],[0.8888888888888888,\"#fdca26\"],[1.0,\"#f0f921\"]],\"diverging\":[[0,\"#8e0152\"],[0.1,\"#c51b7d\"],[0.2,\"#de77ae\"],[0.3,\"#f1b6da\"],[0.4,\"#fde0ef\"],[0.5,\"#f7f7f7\"],[0.6,\"#e6f5d0\"],[0.7,\"#b8e186\"],[0.8,\"#7fbc41\"],[0.9,\"#4d9221\"],[1,\"#276419\"]]},\"xaxis\":{\"gridcolor\":\"white\",\"linecolor\":\"white\",\"ticks\":\"\",\"title\":{\"standoff\":15,\"font\":{\"size\":20}},\"zerolinecolor\":\"white\",\"automargin\":true,\"zerolinewidth\":2},\"yaxis\":{\"gridcolor\":\"white\",\"linecolor\":\"white\",\"ticks\":\"\",\"title\":{\"standoff\":15,\"font\":{\"size\":20}},\"zerolinecolor\":\"white\",\"automargin\":true,\"zerolinewidth\":2},\"scene\":{\"xaxis\":{\"backgroundcolor\":\"#E5ECF6\",\"gridcolor\":\"white\",\"linecolor\":\"white\",\"showbackground\":true,\"ticks\":\"\",\"zerolinecolor\":\"white\",\"gridwidth\":2},\"yaxis\":{\"backgroundcolor\":\"#E5ECF6\",\"gridcolor\":\"white\",\"linecolor\":\"white\",\"showbackground\":true,\"ticks\":\"\",\"zerolinecolor\":\"white\",\"gridwidth\":2},\"zaxis\":{\"backgroundcolor\":\"#E5ECF6\",\"gridcolor\":\"white\",\"linecolor\":\"white\",\"showbackground\":true,\"ticks\":\"\",\"zerolinecolor\":\"white\",\"gridwidth\":2}},\"shapedefaults\":{\"line\":{\"color\":\"#2a3f5f\"}},\"annotationdefaults\":{\"arrowcolor\":\"#2a3f5f\",\"arrowhead\":0,\"arrowwidth\":1},\"geo\":{\"bgcolor\":\"white\",\"landcolor\":\"#E5ECF6\",\"subunitcolor\":\"white\",\"showland\":true,\"showlakes\":true,\"lakecolor\":\"white\"},\"title\":{\"x\":0.05,\"font\":{\"size\":30}},\"mapbox\":{\"style\":\"light\"}}},\"xaxis\":{\"anchor\":\"y\",\"domain\":[0.0,1.0],\"scaleanchor\":\"y\",\"constrain\":\"domain\",\"title\":{\"text\":\"Input\"}},\"yaxis\":{\"anchor\":\"x\",\"domain\":[0.0,1.0],\"autorange\":\"reversed\",\"constrain\":\"domain\",\"title\":{\"text\":\"Component\"}},\"coloraxis\":{\"colorscale\":[[0.0,\"rgb(103,0,31)\"],[0.1,\"rgb(178,24,43)\"],[0.2,\"rgb(214,96,77)\"],[0.3,\"rgb(244,165,130)\"],[0.4,\"rgb(253,219,199)\"],[0.5,\"rgb(247,247,247)\"],[0.6,\"rgb(209,229,240)\"],[0.7,\"rgb(146,197,222)\"],[0.8,\"rgb(67,147,195)\"],[0.9,\"rgb(33,102,172)\"],[1.0,\"rgb(5,48,97)\"]],\"cmid\":0.0},\"margin\":{\"t\":60}},                        {\"responsive\": true}                    ).then(function(){\n",
              "                            \n",
              "var gd = document.getElementById('662ee746-52b4-42c3-ad0c-e0b3cb30a540');\n",
              "var x = new MutationObserver(function (mutations, observer) {{\n",
              "        var display = window.getComputedStyle(gd).display;\n",
              "        if (!display || display === 'none') {{\n",
              "            console.log([gd, 'removed!']);\n",
              "            Plotly.purge(gd);\n",
              "            observer.disconnect();\n",
              "        }}\n",
              "}});\n",
              "\n",
              "// Listen for the removal of the full notebook cells\n",
              "var notebookContainer = gd.closest('#notebook-container');\n",
              "if (notebookContainer) {{\n",
              "    x.observe(notebookContainer, {childList: true});\n",
              "}}\n",
              "\n",
              "// Listen for the clearing of the current output cell\n",
              "var outputEl = gd.closest('.output');\n",
              "if (outputEl) {{\n",
              "    x.observe(outputEl, {childList: true});\n",
              "}}\n",
              "\n",
              "                        })                };                            </script>        </div>\n",
              "</body>\n",
              "</html>"
            ]
          },
          "metadata": {}
        }
      ],
      "source": [
        "fourier_basis = []\n",
        "fourier_basis_names = []\n",
        "fourier_basis.append(torch.ones(p))\n",
        "fourier_basis_names.append(\"Constant\")\n",
        "for freq in range(1, p//2+1):\n",
        "    fourier_basis.append(torch.sin(torch.arange(p)*2 * torch.pi * freq / p))\n",
        "    fourier_basis_names.append(f\"Sin {freq}\")\n",
        "    fourier_basis.append(torch.cos(torch.arange(p)*2 * torch.pi * freq / p))\n",
        "    fourier_basis_names.append(f\"Cos {freq}\")\n",
        "fourier_basis = torch.stack(fourier_basis, dim=0).cuda()\n",
        "fourier_basis = fourier_basis/fourier_basis.norm(dim=-1, keepdim=True)\n",
        "imshow(fourier_basis, xaxis=\"Input\", yaxis=\"Component\", y=fourier_basis_names)"
      ]
    },
    {
      "cell_type": "code",
      "execution_count": null,
      "metadata": {
        "id": "jri0awhKQTaU",
        "colab": {
          "base_uri": "https://localhost:8080/",
          "height": 1000
        },
        "outputId": "2a63f8a3-ed97-4fab-8c06-4ccf6ac3dc07"
      },
      "outputs": [
        {
          "output_type": "display_data",
          "data": {
            "text/html": [
              "<html>\n",
              "<head><meta charset=\"utf-8\" /></head>\n",
              "<body>\n",
              "    <div>            <script src=\"https://cdnjs.cloudflare.com/ajax/libs/mathjax/2.7.5/MathJax.js?config=TeX-AMS-MML_SVG\"></script><script type=\"text/javascript\">if (window.MathJax && window.MathJax.Hub && window.MathJax.Hub.Config) {window.MathJax.Hub.Config({SVG: {font: \"STIX-Web\"}});}</script>                <script type=\"text/javascript\">window.PlotlyConfig = {MathJaxConfig: 'local'};</script>\n",
              "        <script charset=\"utf-8\" src=\"https://cdn.plot.ly/plotly-2.24.1.min.js\"></script>                <div id=\"9788e1d2-3bba-46a7-9857-43bf11204e4c\" class=\"plotly-graph-div\" style=\"height:525px; width:100%;\"></div>            <script type=\"text/javascript\">                                    window.PLOTLYENV=window.PLOTLYENV || {};                                    if (document.getElementById(\"9788e1d2-3bba-46a7-9857-43bf11204e4c\")) {                    Plotly.newPlot(                        \"9788e1d2-3bba-46a7-9857-43bf11204e4c\",                        [{\"hovertemplate\":\"Color=Constant\\u003cbr\\u003eInput=%{x}\\u003cbr\\u003ey=%{y}\\u003cextra\\u003e\\u003c\\u002fextra\\u003e\",\"legendgroup\":\"0\",\"line\":{\"color\":\"#636efa\",\"dash\":\"solid\"},\"marker\":{\"symbol\":\"circle\"},\"mode\":\"lines\",\"name\":\"Constant\",\"orientation\":\"v\",\"showlegend\":true,\"x\":[0,1,2,3,4,5,6,7,8,9,10,11,12,13,14,15,16,17,18,19,20,21,22,23,24,25,26,27,28,29,30,31,32,33,34,35,36,37,38,39,40,41,42,43,44,45,46,47,48,49,50],\"xaxis\":\"x\",\"y\":[0.14002801477909088,0.14002801477909088,0.14002801477909088,0.14002801477909088,0.14002801477909088,0.14002801477909088,0.14002801477909088,0.14002801477909088,0.14002801477909088,0.14002801477909088,0.14002801477909088,0.14002801477909088,0.14002801477909088,0.14002801477909088,0.14002801477909088,0.14002801477909088,0.14002801477909088,0.14002801477909088,0.14002801477909088,0.14002801477909088,0.14002801477909088,0.14002801477909088,0.14002801477909088,0.14002801477909088,0.14002801477909088,0.14002801477909088,0.14002801477909088,0.14002801477909088,0.14002801477909088,0.14002801477909088,0.14002801477909088,0.14002801477909088,0.14002801477909088,0.14002801477909088,0.14002801477909088,0.14002801477909088,0.14002801477909088,0.14002801477909088,0.14002801477909088,0.14002801477909088,0.14002801477909088,0.14002801477909088,0.14002801477909088,0.14002801477909088,0.14002801477909088,0.14002801477909088,0.14002801477909088,0.14002801477909088,0.14002801477909088,0.14002801477909088,0.14002801477909088],\"yaxis\":\"y\",\"type\":\"scatter\"},{\"hovertemplate\":\"Color=Sin 1\\u003cbr\\u003eInput=%{x}\\u003cbr\\u003ey=%{y}\\u003cextra\\u003e\\u003c\\u002fextra\\u003e\",\"legendgroup\":\"1\",\"line\":{\"color\":\"#EF553B\",\"dash\":\"solid\"},\"marker\":{\"symbol\":\"circle\"},\"mode\":\"lines\",\"name\":\"Sin 1\",\"orientation\":\"v\",\"showlegend\":true,\"x\":[0,1,2,3,4,5,6,7,8,9,10,11,12,13,14,15,16,17,18,19,20,21,22,23,24,25,26,27,28,29,30,31,32,33,34,35,36,37,38,39,40,41,42,43,44,45,46,47,48,49,50],\"xaxis\":\"x\",\"y\":[0.0,0.024335511028766632,0.048302117735147476,0.07153651118278503,0.09368649125099182,0.11441627144813538,0.13341161608695984,0.1503845900297165,0.16507788002490997,0.17726875841617584,0.186772421002388,0.19344480335712433,0.197184756398201,0.19793559610843658,0.19568592309951782,0.1904698759317398,0.18236646056175232,0.1714985966682434,0.15803095698356628,0.14216774702072144,0.12414941936731339,0.10424906760454178,0.08276844769716263,0.06003317981958389,0.03638783097267151,0.012190882116556168,-0.012190916575491428,-0.036387864500284195,-0.06003321334719658,-0.08276847749948502,-0.10424909740686417,-0.12414944171905518,-0.14216777682304382,-0.15803101658821106,-0.1714985966682434,-0.1823665052652359,-0.1904698759317398,-0.19568592309951782,-0.19793559610843658,-0.197184756398201,-0.19344480335712433,-0.1867724359035492,-0.17726871371269226,-0.16507785022258759,-0.15038453042507172,-0.13341158628463745,-0.11441627889871597,-0.09368644654750824,-0.07153651863336563,-0.04830208048224449,-0.02433551847934723],\"yaxis\":\"y\",\"type\":\"scatter\"},{\"hovertemplate\":\"Color=Cos 1\\u003cbr\\u003eInput=%{x}\\u003cbr\\u003ey=%{y}\\u003cextra\\u003e\\u003c\\u002fextra\\u003e\",\"legendgroup\":\"2\",\"line\":{\"color\":\"#00cc96\",\"dash\":\"solid\"},\"marker\":{\"symbol\":\"circle\"},\"mode\":\"lines\",\"name\":\"Cos 1\",\"orientation\":\"v\",\"showlegend\":true,\"x\":[0,1,2,3,4,5,6,7,8,9,10,11,12,13,14,15,16,17,18,19,20,21,22,23,24,25,26,27,28,29,30,31,32,33,34,35,36,37,38,39,40,41,42,43,44,45,46,47,48,49,50],\"xaxis\":\"x\",\"y\":[0.1980295181274414,0.19652855396270752,0.19204843044281006,0.184657022356987,0.17446641623973846,0.16163107752799988,0.1463455706834793,0.12884162366390228,0.10938456654548645,0.08826935291290283,0.06581605970859528,0.04236504063010216,0.018271861597895622,-0.0060983505100011826,-0.030376093462109566,-0.054193343967199326,-0.0771891251206398,-0.0990147739648819,-0.11933945119380951,-0.13785506784915924,-0.15428094565868378,-0.1683681160211563,-0.17990295588970184,-0.18871064484119415,-0.19465768337249756,-0.19765391945838928,-0.19765391945838928,-0.19465768337249756,-0.18871062994003296,-0.17990295588970184,-0.16836810111999512,-0.15428093075752258,-0.13785505294799805,-0.11933939158916473,-0.09901474416255951,-0.07718904316425323,-0.05419333279132843,-0.03037610650062561,-0.0060983155854046345,0.0182719174772501,0.04236507788300514,0.06581602245569229,0.08826944231987,0.10938461124897003,0.12884169816970825,0.1463456153869629,0.16163107752799988,0.17446644604206085,0.184657022356987,0.19204843044281006,0.19652855396270752],\"yaxis\":\"y\",\"type\":\"scatter\"},{\"hovertemplate\":\"Color=Sin 2\\u003cbr\\u003eInput=%{x}\\u003cbr\\u003ey=%{y}\\u003cextra\\u003e\\u003c\\u002fextra\\u003e\",\"legendgroup\":\"3\",\"line\":{\"color\":\"#ab63fa\",\"dash\":\"solid\"},\"marker\":{\"symbol\":\"circle\"},\"mode\":\"lines\",\"name\":\"Sin 2\",\"orientation\":\"v\",\"showlegend\":true,\"x\":[0,1,2,3,4,5,6,7,8,9,10,11,12,13,14,15,16,17,18,19,20,21,22,23,24,25,26,27,28,29,30,31,32,33,34,35,36,37,38,39,40,41,42,43,44,45,46,47,48,49,50],\"xaxis\":\"x\",\"y\":[0.0,0.048302117735147476,0.09368649125099182,0.13341161608695984,0.16507788002490997,0.186772421002388,0.197184756398201,0.19568592309951782,0.18236646056175232,0.15803095698356628,0.12414941936731339,0.08276844769716263,0.03638783097267151,-0.012190916575491428,-0.06003321334719658,-0.10424909740686417,-0.14216777682304382,-0.1714985966682434,-0.1904698759317398,-0.19793559610843658,-0.19344480335712433,-0.17726871371269226,-0.15038453042507172,-0.11441627889871597,-0.07153651863336563,-0.02433551847934723,0.0243355892598629,0.071536585688591,0.11441633105278015,0.1503845751285553,0.17726874351501465,0.19344480335712433,0.19793559610843658,0.19046983122825623,0.17149856686592102,0.14216765761375427,0.10424906760454178,0.06003323942422867,0.012190846726298332,-0.03638794645667076,-0.0827684998512268,-0.12414935976266861,-0.15803109109401703,-0.1823665201663971,-0.1956859678030014,-0.197184756398201,-0.186772421002388,-0.1650778353214264,-0.13341163098812103,-0.09368642419576645,-0.04830213636159897],\"yaxis\":\"y\",\"type\":\"scatter\"},{\"hovertemplate\":\"Color=Cos 2\\u003cbr\\u003eInput=%{x}\\u003cbr\\u003ey=%{y}\\u003cextra\\u003e\\u003c\\u002fextra\\u003e\",\"legendgroup\":\"4\",\"line\":{\"color\":\"#FFA15A\",\"dash\":\"solid\"},\"marker\":{\"symbol\":\"circle\"},\"mode\":\"lines\",\"name\":\"Cos 2\",\"orientation\":\"v\",\"showlegend\":true,\"x\":[0,1,2,3,4,5,6,7,8,9,10,11,12,13,14,15,16,17,18,19,20,21,22,23,24,25,26,27,28,29,30,31,32,33,34,35,36,37,38,39,40,41,42,43,44,45,46,47,48,49,50],\"xaxis\":\"x\",\"y\":[0.1980295032262802,0.19204840064048767,0.17446640133857727,0.14634555578231812,0.10938455164432526,0.06581605225801468,0.018271859735250473,-0.030376091599464417,-0.0771891176700592,-0.11933944374322891,-0.15428093075752258,-0.17990294098854065,-0.19465766847133636,-0.1976539045572281,-0.18871061503887177,-0.16836808621883392,-0.13785503804683685,-0.09901472926139832,-0.05419332534074783,-0.006098315119743347,0.042365074157714844,0.0882694348692894,0.12884168326854706,0.16163106262683868,0.1846570074558258,0.19652853906154633,0.19652852416038513,0.18465697765350342,0.1616310179233551,0.12884163856506348,0.08826936781406403,0.04236500337719917,-0.006098384503275156,-0.05419348552823067,-0.0990147814154625,-0.1378551572561264,-0.16836808621883392,-0.18871060013771057,-0.1976539045572281,-0.19465765357017517,-0.17990291118621826,-0.15428097546100616,-0.11933927983045578,-0.07718900591135025,-0.030375881120562553,0.018271951004862785,0.06581605225801468,0.10938463360071182,0.14634555578231812,0.17446644604206085,0.19204840064048767],\"yaxis\":\"y\",\"type\":\"scatter\"},{\"hovertemplate\":\"Color=Sin 3\\u003cbr\\u003eInput=%{x}\\u003cbr\\u003ey=%{y}\\u003cextra\\u003e\\u003c\\u002fextra\\u003e\",\"legendgroup\":\"5\",\"line\":{\"color\":\"#19d3f3\",\"dash\":\"solid\"},\"marker\":{\"symbol\":\"circle\"},\"mode\":\"lines\",\"name\":\"Sin 3\",\"orientation\":\"v\",\"showlegend\":true,\"x\":[0,1,2,3,4,5,6,7,8,9,10,11,12,13,14,15,16,17,18,19,20,21,22,23,24,25,26,27,28,29,30,31,32,33,34,35,36,37,38,39,40,41,42,43,44,45,46,47,48,49,50],\"xaxis\":\"x\",\"y\":[0.0,0.07153651118278503,0.13341161608695984,0.17726875841617584,0.197184756398201,0.1904698610305786,0.15803095698356628,0.10424906760454178,0.03638783097267151,-0.03638781979680061,-0.10424917936325073,-0.15803101658821106,-0.1904698759317398,-0.197184756398201,-0.17726871371269226,-0.13341158628463745,-0.07153651863336563,1.290524238584112e-07,0.07153649628162384,0.13341164588928223,0.1772688329219818,0.19718477129936218,0.19046983122825623,0.15803095698356628,0.10424906760454178,0.036387935280799866,-0.03638794645667076,-0.1042492464184761,-0.15803109109401703,-0.19046983122825623,-0.197184756398201,-0.17726877331733704,-0.13341163098812103,-0.07153631001710892,2.581048477168224e-07,0.07153661549091339,0.13341160118579865,0.17726875841617584,0.19718477129936218,0.19046984612941742,0.15803077816963196,0.10424912720918655,0.036387622356414795,-0.03638770058751106,-0.10424935072660446,-0.15803106129169464,-0.1904698759317398,-0.1971847414970398,-0.17726871371269226,-0.13341139256954193,-0.07153671979904175],\"yaxis\":\"y\",\"type\":\"scatter\"},{\"hovertemplate\":\"Color=Cos 3\\u003cbr\\u003eInput=%{x}\\u003cbr\\u003ey=%{y}\\u003cextra\\u003e\\u003c\\u002fextra\\u003e\",\"legendgroup\":\"6\",\"line\":{\"color\":\"#FF6692\",\"dash\":\"solid\"},\"marker\":{\"symbol\":\"circle\"},\"mode\":\"lines\",\"name\":\"Cos 3\",\"orientation\":\"v\",\"showlegend\":true,\"x\":[0,1,2,3,4,5,6,7,8,9,10,11,12,13,14,15,16,17,18,19,20,21,22,23,24,25,26,27,28,29,30,31,32,33,34,35,36,37,38,39,40,41,42,43,44,45,46,47,48,49,50],\"xaxis\":\"x\",\"y\":[0.1980295181274414,0.184657022356987,0.1463455706834793,0.08826935291290283,0.018271861597895622,-0.05419338867068291,-0.11933945119380951,-0.1683681160211563,-0.19465768337249756,-0.19465768337249756,-0.16836804151535034,-0.11933939158916473,-0.05419333279132843,0.0182719174772501,0.08826944231987,0.1463456153869629,0.184657022356987,0.1980295181274414,0.1846570372581482,0.1463455706834793,0.08826921135187149,0.018271755427122116,-0.054193489253520966,-0.11933944374322891,-0.16836810111999512,-0.19465766847133636,-0.19465766847133636,-0.16836799681186676,-0.11933928728103638,-0.05419347807765007,0.018271952867507935,0.08826930075883865,0.1463455706834793,0.18465711176395416,0.1980295181274414,0.1846569925546646,0.1463456004858017,0.08826935291290283,0.01827181503176689,-0.05419342964887619,-0.11933969706296921,-0.16836807131767273,-0.19465772807598114,-0.19465771317481995,-0.16836793720722198,-0.11933933198451996,-0.05419335514307022,0.01827208139002323,0.0882694199681282,0.14634579420089722,0.18465694785118103],\"yaxis\":\"y\",\"type\":\"scatter\"},{\"hovertemplate\":\"Color=Sin 4\\u003cbr\\u003eInput=%{x}\\u003cbr\\u003ey=%{y}\\u003cextra\\u003e\\u003c\\u002fextra\\u003e\",\"legendgroup\":\"7\",\"line\":{\"color\":\"#B6E880\",\"dash\":\"solid\"},\"marker\":{\"symbol\":\"circle\"},\"mode\":\"lines\",\"name\":\"Sin 4\",\"orientation\":\"v\",\"showlegend\":true,\"x\":[0,1,2,3,4,5,6,7,8,9,10,11,12,13,14,15,16,17,18,19,20,21,22,23,24,25,26,27,28,29,30,31,32,33,34,35,36,37,38,39,40,41,42,43,44,45,46,47,48,49,50],\"xaxis\":\"x\",\"y\":[0.0,0.09368648380041122,0.16507786512374878,0.1971847414970398,0.18236644566059113,0.12414940446615219,0.03638782724738121,-0.06003320962190628,-0.14216776192188263,-0.1904698610305786,-0.19344477355480194,-0.15038451552391052,-0.07153651118278503,0.0243355855345726,0.11441631615161896,0.17726872861385345,0.1979355812072754,0.17149855196475983,0.10424906015396118,0.012190845794975758,-0.08276849240064621,-0.15803107619285583,-0.19568593800067902,-0.1867724061012268,-0.13341161608695984,-0.04830213263630867,0.048302266746759415,0.1334117203950882,0.1867724508047104,0.19568592309951782,0.15803100168704987,0.08276837319135666,-0.012190984562039375,-0.10424934327602386,-0.1714986264705658,-0.19793559610843658,-0.17726869881153107,-0.11441636085510254,-0.024335449561476707,0.07153672724962234,0.15038460493087769,0.19344474375247955,0.19046974182128906,0.1421675980091095,0.06003279983997345,-0.036388009786605835,-0.12414940446615219,-0.1823665350675583,-0.1971847414970398,-0.16507777571678162,-0.09368652105331421],\"yaxis\":\"y\",\"type\":\"scatter\"}],                        {\"template\":{\"data\":{\"histogram2dcontour\":[{\"type\":\"histogram2dcontour\",\"colorbar\":{\"outlinewidth\":0,\"ticks\":\"\"},\"colorscale\":[[0.0,\"#0d0887\"],[0.1111111111111111,\"#46039f\"],[0.2222222222222222,\"#7201a8\"],[0.3333333333333333,\"#9c179e\"],[0.4444444444444444,\"#bd3786\"],[0.5555555555555556,\"#d8576b\"],[0.6666666666666666,\"#ed7953\"],[0.7777777777777778,\"#fb9f3a\"],[0.8888888888888888,\"#fdca26\"],[1.0,\"#f0f921\"]]}],\"choropleth\":[{\"type\":\"choropleth\",\"colorbar\":{\"outlinewidth\":0,\"ticks\":\"\"}}],\"histogram2d\":[{\"type\":\"histogram2d\",\"colorbar\":{\"outlinewidth\":0,\"ticks\":\"\"},\"colorscale\":[[0.0,\"#0d0887\"],[0.1111111111111111,\"#46039f\"],[0.2222222222222222,\"#7201a8\"],[0.3333333333333333,\"#9c179e\"],[0.4444444444444444,\"#bd3786\"],[0.5555555555555556,\"#d8576b\"],[0.6666666666666666,\"#ed7953\"],[0.7777777777777778,\"#fb9f3a\"],[0.8888888888888888,\"#fdca26\"],[1.0,\"#f0f921\"]]}],\"heatmap\":[{\"type\":\"heatmap\",\"colorbar\":{\"outlinewidth\":0,\"ticks\":\"\"},\"colorscale\":[[0.0,\"#0d0887\"],[0.1111111111111111,\"#46039f\"],[0.2222222222222222,\"#7201a8\"],[0.3333333333333333,\"#9c179e\"],[0.4444444444444444,\"#bd3786\"],[0.5555555555555556,\"#d8576b\"],[0.6666666666666666,\"#ed7953\"],[0.7777777777777778,\"#fb9f3a\"],[0.8888888888888888,\"#fdca26\"],[1.0,\"#f0f921\"]]}],\"heatmapgl\":[{\"type\":\"heatmapgl\",\"colorbar\":{\"outlinewidth\":0,\"ticks\":\"\"},\"colorscale\":[[0.0,\"#0d0887\"],[0.1111111111111111,\"#46039f\"],[0.2222222222222222,\"#7201a8\"],[0.3333333333333333,\"#9c179e\"],[0.4444444444444444,\"#bd3786\"],[0.5555555555555556,\"#d8576b\"],[0.6666666666666666,\"#ed7953\"],[0.7777777777777778,\"#fb9f3a\"],[0.8888888888888888,\"#fdca26\"],[1.0,\"#f0f921\"]]}],\"contourcarpet\":[{\"type\":\"contourcarpet\",\"colorbar\":{\"outlinewidth\":0,\"ticks\":\"\"}}],\"contour\":[{\"type\":\"contour\",\"colorbar\":{\"outlinewidth\":0,\"ticks\":\"\"},\"colorscale\":[[0.0,\"#0d0887\"],[0.1111111111111111,\"#46039f\"],[0.2222222222222222,\"#7201a8\"],[0.3333333333333333,\"#9c179e\"],[0.4444444444444444,\"#bd3786\"],[0.5555555555555556,\"#d8576b\"],[0.6666666666666666,\"#ed7953\"],[0.7777777777777778,\"#fb9f3a\"],[0.8888888888888888,\"#fdca26\"],[1.0,\"#f0f921\"]]}],\"surface\":[{\"type\":\"surface\",\"colorbar\":{\"outlinewidth\":0,\"ticks\":\"\"},\"colorscale\":[[0.0,\"#0d0887\"],[0.1111111111111111,\"#46039f\"],[0.2222222222222222,\"#7201a8\"],[0.3333333333333333,\"#9c179e\"],[0.4444444444444444,\"#bd3786\"],[0.5555555555555556,\"#d8576b\"],[0.6666666666666666,\"#ed7953\"],[0.7777777777777778,\"#fb9f3a\"],[0.8888888888888888,\"#fdca26\"],[1.0,\"#f0f921\"]]}],\"mesh3d\":[{\"type\":\"mesh3d\",\"colorbar\":{\"outlinewidth\":0,\"ticks\":\"\"}}],\"scatter\":[{\"fillpattern\":{\"fillmode\":\"overlay\",\"size\":10,\"solidity\":0.2},\"type\":\"scatter\"}],\"parcoords\":[{\"type\":\"parcoords\",\"line\":{\"colorbar\":{\"outlinewidth\":0,\"ticks\":\"\"}}}],\"scatterpolargl\":[{\"type\":\"scatterpolargl\",\"marker\":{\"colorbar\":{\"outlinewidth\":0,\"ticks\":\"\"}}}],\"bar\":[{\"error_x\":{\"color\":\"#2a3f5f\"},\"error_y\":{\"color\":\"#2a3f5f\"},\"marker\":{\"line\":{\"color\":\"#E5ECF6\",\"width\":0.5},\"pattern\":{\"fillmode\":\"overlay\",\"size\":10,\"solidity\":0.2}},\"type\":\"bar\"}],\"scattergeo\":[{\"type\":\"scattergeo\",\"marker\":{\"colorbar\":{\"outlinewidth\":0,\"ticks\":\"\"}}}],\"scatterpolar\":[{\"type\":\"scatterpolar\",\"marker\":{\"colorbar\":{\"outlinewidth\":0,\"ticks\":\"\"}}}],\"histogram\":[{\"marker\":{\"pattern\":{\"fillmode\":\"overlay\",\"size\":10,\"solidity\":0.2}},\"type\":\"histogram\"}],\"scattergl\":[{\"type\":\"scattergl\",\"marker\":{\"colorbar\":{\"outlinewidth\":0,\"ticks\":\"\"}}}],\"scatter3d\":[{\"type\":\"scatter3d\",\"line\":{\"colorbar\":{\"outlinewidth\":0,\"ticks\":\"\"}},\"marker\":{\"colorbar\":{\"outlinewidth\":0,\"ticks\":\"\"}}}],\"scattermapbox\":[{\"type\":\"scattermapbox\",\"marker\":{\"colorbar\":{\"outlinewidth\":0,\"ticks\":\"\"}}}],\"scatterternary\":[{\"type\":\"scatterternary\",\"marker\":{\"colorbar\":{\"outlinewidth\":0,\"ticks\":\"\"}}}],\"scattercarpet\":[{\"type\":\"scattercarpet\",\"marker\":{\"colorbar\":{\"outlinewidth\":0,\"ticks\":\"\"}}}],\"carpet\":[{\"aaxis\":{\"endlinecolor\":\"#2a3f5f\",\"gridcolor\":\"white\",\"linecolor\":\"white\",\"minorgridcolor\":\"white\",\"startlinecolor\":\"#2a3f5f\"},\"baxis\":{\"endlinecolor\":\"#2a3f5f\",\"gridcolor\":\"white\",\"linecolor\":\"white\",\"minorgridcolor\":\"white\",\"startlinecolor\":\"#2a3f5f\"},\"type\":\"carpet\"}],\"table\":[{\"cells\":{\"fill\":{\"color\":\"#EBF0F8\"},\"line\":{\"color\":\"white\"}},\"header\":{\"fill\":{\"color\":\"#C8D4E3\"},\"line\":{\"color\":\"white\"}},\"type\":\"table\"}],\"barpolar\":[{\"marker\":{\"line\":{\"color\":\"#E5ECF6\",\"width\":0.5},\"pattern\":{\"fillmode\":\"overlay\",\"size\":10,\"solidity\":0.2}},\"type\":\"barpolar\"}],\"pie\":[{\"automargin\":true,\"type\":\"pie\"}]},\"layout\":{\"autotypenumbers\":\"strict\",\"colorway\":[\"#636efa\",\"#EF553B\",\"#00cc96\",\"#ab63fa\",\"#FFA15A\",\"#19d3f3\",\"#FF6692\",\"#B6E880\",\"#FF97FF\",\"#FECB52\"],\"font\":{\"color\":\"#2a3f5f\"},\"hovermode\":\"closest\",\"hoverlabel\":{\"align\":\"left\"},\"paper_bgcolor\":\"white\",\"plot_bgcolor\":\"#E5ECF6\",\"polar\":{\"bgcolor\":\"#E5ECF6\",\"angularaxis\":{\"gridcolor\":\"white\",\"linecolor\":\"white\",\"ticks\":\"\"},\"radialaxis\":{\"gridcolor\":\"white\",\"linecolor\":\"white\",\"ticks\":\"\"}},\"ternary\":{\"bgcolor\":\"#E5ECF6\",\"aaxis\":{\"gridcolor\":\"white\",\"linecolor\":\"white\",\"ticks\":\"\"},\"baxis\":{\"gridcolor\":\"white\",\"linecolor\":\"white\",\"ticks\":\"\"},\"caxis\":{\"gridcolor\":\"white\",\"linecolor\":\"white\",\"ticks\":\"\"}},\"coloraxis\":{\"colorbar\":{\"outlinewidth\":0,\"ticks\":\"\"}},\"colorscale\":{\"sequential\":[[0.0,\"#0d0887\"],[0.1111111111111111,\"#46039f\"],[0.2222222222222222,\"#7201a8\"],[0.3333333333333333,\"#9c179e\"],[0.4444444444444444,\"#bd3786\"],[0.5555555555555556,\"#d8576b\"],[0.6666666666666666,\"#ed7953\"],[0.7777777777777778,\"#fb9f3a\"],[0.8888888888888888,\"#fdca26\"],[1.0,\"#f0f921\"]],\"sequentialminus\":[[0.0,\"#0d0887\"],[0.1111111111111111,\"#46039f\"],[0.2222222222222222,\"#7201a8\"],[0.3333333333333333,\"#9c179e\"],[0.4444444444444444,\"#bd3786\"],[0.5555555555555556,\"#d8576b\"],[0.6666666666666666,\"#ed7953\"],[0.7777777777777778,\"#fb9f3a\"],[0.8888888888888888,\"#fdca26\"],[1.0,\"#f0f921\"]],\"diverging\":[[0,\"#8e0152\"],[0.1,\"#c51b7d\"],[0.2,\"#de77ae\"],[0.3,\"#f1b6da\"],[0.4,\"#fde0ef\"],[0.5,\"#f7f7f7\"],[0.6,\"#e6f5d0\"],[0.7,\"#b8e186\"],[0.8,\"#7fbc41\"],[0.9,\"#4d9221\"],[1,\"#276419\"]]},\"xaxis\":{\"gridcolor\":\"white\",\"linecolor\":\"white\",\"ticks\":\"\",\"title\":{\"standoff\":15,\"font\":{\"size\":20}},\"zerolinecolor\":\"white\",\"automargin\":true,\"zerolinewidth\":2},\"yaxis\":{\"gridcolor\":\"white\",\"linecolor\":\"white\",\"ticks\":\"\",\"title\":{\"standoff\":15,\"font\":{\"size\":20}},\"zerolinecolor\":\"white\",\"automargin\":true,\"zerolinewidth\":2},\"scene\":{\"xaxis\":{\"backgroundcolor\":\"#E5ECF6\",\"gridcolor\":\"white\",\"linecolor\":\"white\",\"showbackground\":true,\"ticks\":\"\",\"zerolinecolor\":\"white\",\"gridwidth\":2},\"yaxis\":{\"backgroundcolor\":\"#E5ECF6\",\"gridcolor\":\"white\",\"linecolor\":\"white\",\"showbackground\":true,\"ticks\":\"\",\"zerolinecolor\":\"white\",\"gridwidth\":2},\"zaxis\":{\"backgroundcolor\":\"#E5ECF6\",\"gridcolor\":\"white\",\"linecolor\":\"white\",\"showbackground\":true,\"ticks\":\"\",\"zerolinecolor\":\"white\",\"gridwidth\":2}},\"shapedefaults\":{\"line\":{\"color\":\"#2a3f5f\"}},\"annotationdefaults\":{\"arrowcolor\":\"#2a3f5f\",\"arrowhead\":0,\"arrowwidth\":1},\"geo\":{\"bgcolor\":\"white\",\"landcolor\":\"#E5ECF6\",\"subunitcolor\":\"white\",\"showland\":true,\"showlakes\":true,\"lakecolor\":\"white\"},\"title\":{\"x\":0.05,\"font\":{\"size\":30}},\"mapbox\":{\"style\":\"light\"}}},\"xaxis\":{\"anchor\":\"y\",\"domain\":[0.0,1.0],\"title\":{\"text\":\"Input\"}},\"yaxis\":{\"anchor\":\"x\",\"domain\":[0.0,1.0],\"title\":{\"text\":\"y\"}},\"legend\":{\"title\":{\"text\":\"Color\"},\"tracegroupgap\":0},\"title\":{\"text\":\"First 8 Fourier Components\"}},                        {\"responsive\": true}                    ).then(function(){\n",
              "                            \n",
              "var gd = document.getElementById('9788e1d2-3bba-46a7-9857-43bf11204e4c');\n",
              "var x = new MutationObserver(function (mutations, observer) {{\n",
              "        var display = window.getComputedStyle(gd).display;\n",
              "        if (!display || display === 'none') {{\n",
              "            console.log([gd, 'removed!']);\n",
              "            Plotly.purge(gd);\n",
              "            observer.disconnect();\n",
              "        }}\n",
              "}});\n",
              "\n",
              "// Listen for the removal of the full notebook cells\n",
              "var notebookContainer = gd.closest('#notebook-container');\n",
              "if (notebookContainer) {{\n",
              "    x.observe(notebookContainer, {childList: true});\n",
              "}}\n",
              "\n",
              "// Listen for the clearing of the current output cell\n",
              "var outputEl = gd.closest('.output');\n",
              "if (outputEl) {{\n",
              "    x.observe(outputEl, {childList: true});\n",
              "}}\n",
              "\n",
              "                        })                };                            </script>        </div>\n",
              "</body>\n",
              "</html>"
            ]
          },
          "metadata": {}
        },
        {
          "output_type": "display_data",
          "data": {
            "text/html": [
              "<html>\n",
              "<head><meta charset=\"utf-8\" /></head>\n",
              "<body>\n",
              "    <div>            <script src=\"https://cdnjs.cloudflare.com/ajax/libs/mathjax/2.7.5/MathJax.js?config=TeX-AMS-MML_SVG\"></script><script type=\"text/javascript\">if (window.MathJax && window.MathJax.Hub && window.MathJax.Hub.Config) {window.MathJax.Hub.Config({SVG: {font: \"STIX-Web\"}});}</script>                <script type=\"text/javascript\">window.PlotlyConfig = {MathJaxConfig: 'local'};</script>\n",
              "        <script charset=\"utf-8\" src=\"https://cdn.plot.ly/plotly-2.24.1.min.js\"></script>                <div id=\"bc609051-3cad-41ca-84aa-e43efad6642d\" class=\"plotly-graph-div\" style=\"height:525px; width:100%;\"></div>            <script type=\"text/javascript\">                                    window.PLOTLYENV=window.PLOTLYENV || {};                                    if (document.getElementById(\"bc609051-3cad-41ca-84aa-e43efad6642d\")) {                    Plotly.newPlot(                        \"bc609051-3cad-41ca-84aa-e43efad6642d\",                        [{\"hovertemplate\":\"Color=Sin 13\\u003cbr\\u003eInput=%{x}\\u003cbr\\u003ey=%{y}\\u003cextra\\u003e\\u003c\\u002fextra\\u003e\",\"legendgroup\":\"0\",\"line\":{\"color\":\"#636efa\",\"dash\":\"solid\"},\"marker\":{\"symbol\":\"circle\"},\"mode\":\"lines\",\"name\":\"Sin 13\",\"orientation\":\"v\",\"showlegend\":true,\"x\":[0,1,2,3,4,5,6,7,8,9,10,11,12,13,14,15,16,17,18,19,20,21,22,23,24,25,26,27,28,29,30,31,32,33,34,35,36,37,38,39,40,41,42,43,44,45,46,47,48,49,50],\"xaxis\":\"x\",\"y\":[0.0,0.1979355365037918,-0.01219091285020113,-0.1971847116947174,0.024335581809282303,0.19568584859371185,-0.03638774901628494,-0.19344472885131836,0.04830225557088852,0.19046980142593384,-0.06003353372216225,-0.18677231669425964,0.0715363621711731,0.182366281747818,-0.08276854455471039,-0.1772686094045639,0.09368674457073212,0.17149852216243744,-0.10424921661615372,-0.16507788002490997,0.11441687494516373,0.15803083777427673,-0.12414958328008652,-0.1503847986459732,0.13341137766838074,0.1421678215265274,-0.14216820895671844,-0.1334109753370285,0.15038466453552246,0.12414974719285965,-0.158031165599823,-0.11441580951213837,0.16507817804813385,0.10424907505512238,-0.1714985966682434,-0.09368559718132019,0.1772688627243042,0.08276805281639099,-0.18236635625362396,-0.07153655588626862,0.186772882938385,0.060033734887838364,-0.190469890832901,-0.048302460461854935,0.1934448480606079,0.03638647124171257,-0.1956857442855835,-0.02433541603386402,0.19718465209007263,0.012190558016300201,-0.1979355365037918],\"yaxis\":\"y\",\"type\":\"scatter\"},{\"hovertemplate\":\"Color=Cos 13\\u003cbr\\u003eInput=%{x}\\u003cbr\\u003ey=%{y}\\u003cextra\\u003e\\u003c\\u002fextra\\u003e\",\"legendgroup\":\"1\",\"line\":{\"color\":\"#EF553B\",\"dash\":\"solid\"},\"marker\":{\"symbol\":\"circle\"},\"mode\":\"lines\",\"name\":\"Cos 13\",\"orientation\":\"v\",\"showlegend\":true,\"x\":[0,1,2,3,4,5,6,7,8,9,10,11,12,13,14,15,16,17,18,19,20,21,22,23,24,25,26,27,28,29,30,31,32,33,34,35,36,37,38,39,40,41,42,43,44,45,46,47,48,49,50],\"xaxis\":\"x\",\"y\":[0.1980295479297638,-0.006098351441323757,-0.19765394926071167,0.018271828070282936,0.1965285837650299,-0.03037627413868904,-0.19465774297714233,0.042365118861198425,0.19204841554164886,-0.054193440824747086,-0.18871057033538818,0.06581619381904602,0.18465711176395416,-0.07718945294618607,-0.17990294098854065,0.08826954662799835,0.1744662970304489,-0.09901482611894608,-0.16836802661418915,0.10938451439142227,0.16163066029548645,-0.11933957785367966,-0.15428082644939423,0.1288413554430008,0.14634579420089722,-0.13785497844219208,-0.13785459101200104,0.14634615182876587,0.12884151935577393,-0.15428069233894348,-0.11933914572000504,0.16163140535354614,0.10938405245542526,-0.1683681160211563,-0.09901468455791473,0.17446690797805786,0.08826906234025955,-0.17990316450595856,-0.07718929648399353,0.1846570372581482,0.06581460684537888,-0.18871049582958221,-0.05419309809803963,0.19204837083816528,0.042364586144685745,-0.19465796649456024,-0.0303768552839756,0.1965285986661911,0.018272412940859795,-0.19765397906303406,-0.006098656449466944],\"yaxis\":\"y\",\"type\":\"scatter\"},{\"hovertemplate\":\"Color=Sin 14\\u003cbr\\u003eInput=%{x}\\u003cbr\\u003ey=%{y}\\u003cextra\\u003e\\u003c\\u002fextra\\u003e\",\"legendgroup\":\"2\",\"line\":{\"color\":\"#00cc96\",\"dash\":\"solid\"},\"marker\":{\"symbol\":\"circle\"},\"mode\":\"lines\",\"name\":\"Sin 14\",\"orientation\":\"v\",\"showlegend\":true,\"x\":[0,1,2,3,4,5,6,7,8,9,10,11,12,13,14,15,16,17,18,19,20,21,22,23,24,25,26,27,28,29,30,31,32,33,34,35,36,37,38,39,40,41,42,43,44,45,46,47,48,49,50],\"xaxis\":\"x\",\"y\":[0.0,0.19568589329719543,-0.060033202171325684,-0.17726866900920868,0.11441630870103836,0.14216762781143188,-0.15803106129169464,-0.09368640184402466,0.1867724359035492,0.03638780117034912,-0.1979355663061142,0.024335838854312897,0.19046971201896667,-0.08276855200529099,-0.16507776081562042,0.1334114819765091,0.12414917349815369,-0.17149873077869415,-0.07153646647930145,0.1934448629617691,0.01219032984226942,-0.19718465209007263,0.04830276221036911,0.18236644566059113,-0.10424976795911789,-0.15038399398326874,0.15038467943668365,0.10424887388944626,-0.18236656486988068,-0.04830247536301613,0.1971846967935562,-0.012190625071525574,-0.1934446394443512,0.0715370923280716,0.17149820923805237,-0.12414999306201935,-0.13341154158115387,0.16507792472839355,0.08276759833097458,-0.1904699057340622,-0.024334421381354332,0.197935551404953,-0.03638902306556702,-0.1867722123861313,0.09368766099214554,0.15803053975105286,-0.14216770231723785,-0.11441683769226074,0.17726944386959076,0.060030847787857056,-0.19568616151809692],\"yaxis\":\"y\",\"type\":\"scatter\"},{\"hovertemplate\":\"Color=Cos 14\\u003cbr\\u003eInput=%{x}\\u003cbr\\u003ey=%{y}\\u003cextra\\u003e\\u003c\\u002fextra\\u003e\",\"legendgroup\":\"3\",\"line\":{\"color\":\"#ab63fa\",\"dash\":\"solid\"},\"marker\":{\"symbol\":\"circle\"},\"mode\":\"lines\",\"name\":\"Cos 14\",\"orientation\":\"v\",\"showlegend\":true,\"x\":[0,1,2,3,4,5,6,7,8,9,10,11,12,13,14,15,16,17,18,19,20,21,22,23,24,25,26,27,28,29,30,31,32,33,34,35,36,37,38,39,40,41,42,43,44,45,46,47,48,49,50],\"xaxis\":\"x\",\"y\":[0.1980295330286026,-0.030376097187399864,-0.18871065974235535,0.08826944977045059,0.1616310477256775,-0.1378551870584488,-0.11933930218219757,0.17446647584438324,0.06581593304872513,-0.19465771317481995,-0.006098058540374041,0.19652853906154633,-0.05419374257326126,-0.17990292608737946,0.1093847006559372,0.14634568989276886,-0.1542811393737793,-0.09901446849107742,0.1846570521593094,0.04236460104584694,-0.19765397906303406,0.01827246882021427,0.19204828143119812,-0.07718910276889801,-0.1683676838874817,0.1288423091173172,0.12884150445461273,-0.16836823523044586,-0.07718882709741592,0.1920483410358429,0.018272174522280693,-0.19765394926071167,0.042365625500679016,0.18465681374073029,-0.09901537001132965,-0.15428048372268677,0.14634564518928528,0.10938446968793869,-0.17990335822105408,-0.05419309437274933,0.19652871787548065,-0.006098731886595488,-0.19465748965740204,0.06581656634807587,0.17446580529212952,-0.11933998018503189,-0.13785509765148163,0.16163069009780884,0.08826791495084763,-0.18871138989925385,-0.030374355614185333],\"yaxis\":\"y\",\"type\":\"scatter\"}],                        {\"template\":{\"data\":{\"histogram2dcontour\":[{\"type\":\"histogram2dcontour\",\"colorbar\":{\"outlinewidth\":0,\"ticks\":\"\"},\"colorscale\":[[0.0,\"#0d0887\"],[0.1111111111111111,\"#46039f\"],[0.2222222222222222,\"#7201a8\"],[0.3333333333333333,\"#9c179e\"],[0.4444444444444444,\"#bd3786\"],[0.5555555555555556,\"#d8576b\"],[0.6666666666666666,\"#ed7953\"],[0.7777777777777778,\"#fb9f3a\"],[0.8888888888888888,\"#fdca26\"],[1.0,\"#f0f921\"]]}],\"choropleth\":[{\"type\":\"choropleth\",\"colorbar\":{\"outlinewidth\":0,\"ticks\":\"\"}}],\"histogram2d\":[{\"type\":\"histogram2d\",\"colorbar\":{\"outlinewidth\":0,\"ticks\":\"\"},\"colorscale\":[[0.0,\"#0d0887\"],[0.1111111111111111,\"#46039f\"],[0.2222222222222222,\"#7201a8\"],[0.3333333333333333,\"#9c179e\"],[0.4444444444444444,\"#bd3786\"],[0.5555555555555556,\"#d8576b\"],[0.6666666666666666,\"#ed7953\"],[0.7777777777777778,\"#fb9f3a\"],[0.8888888888888888,\"#fdca26\"],[1.0,\"#f0f921\"]]}],\"heatmap\":[{\"type\":\"heatmap\",\"colorbar\":{\"outlinewidth\":0,\"ticks\":\"\"},\"colorscale\":[[0.0,\"#0d0887\"],[0.1111111111111111,\"#46039f\"],[0.2222222222222222,\"#7201a8\"],[0.3333333333333333,\"#9c179e\"],[0.4444444444444444,\"#bd3786\"],[0.5555555555555556,\"#d8576b\"],[0.6666666666666666,\"#ed7953\"],[0.7777777777777778,\"#fb9f3a\"],[0.8888888888888888,\"#fdca26\"],[1.0,\"#f0f921\"]]}],\"heatmapgl\":[{\"type\":\"heatmapgl\",\"colorbar\":{\"outlinewidth\":0,\"ticks\":\"\"},\"colorscale\":[[0.0,\"#0d0887\"],[0.1111111111111111,\"#46039f\"],[0.2222222222222222,\"#7201a8\"],[0.3333333333333333,\"#9c179e\"],[0.4444444444444444,\"#bd3786\"],[0.5555555555555556,\"#d8576b\"],[0.6666666666666666,\"#ed7953\"],[0.7777777777777778,\"#fb9f3a\"],[0.8888888888888888,\"#fdca26\"],[1.0,\"#f0f921\"]]}],\"contourcarpet\":[{\"type\":\"contourcarpet\",\"colorbar\":{\"outlinewidth\":0,\"ticks\":\"\"}}],\"contour\":[{\"type\":\"contour\",\"colorbar\":{\"outlinewidth\":0,\"ticks\":\"\"},\"colorscale\":[[0.0,\"#0d0887\"],[0.1111111111111111,\"#46039f\"],[0.2222222222222222,\"#7201a8\"],[0.3333333333333333,\"#9c179e\"],[0.4444444444444444,\"#bd3786\"],[0.5555555555555556,\"#d8576b\"],[0.6666666666666666,\"#ed7953\"],[0.7777777777777778,\"#fb9f3a\"],[0.8888888888888888,\"#fdca26\"],[1.0,\"#f0f921\"]]}],\"surface\":[{\"type\":\"surface\",\"colorbar\":{\"outlinewidth\":0,\"ticks\":\"\"},\"colorscale\":[[0.0,\"#0d0887\"],[0.1111111111111111,\"#46039f\"],[0.2222222222222222,\"#7201a8\"],[0.3333333333333333,\"#9c179e\"],[0.4444444444444444,\"#bd3786\"],[0.5555555555555556,\"#d8576b\"],[0.6666666666666666,\"#ed7953\"],[0.7777777777777778,\"#fb9f3a\"],[0.8888888888888888,\"#fdca26\"],[1.0,\"#f0f921\"]]}],\"mesh3d\":[{\"type\":\"mesh3d\",\"colorbar\":{\"outlinewidth\":0,\"ticks\":\"\"}}],\"scatter\":[{\"fillpattern\":{\"fillmode\":\"overlay\",\"size\":10,\"solidity\":0.2},\"type\":\"scatter\"}],\"parcoords\":[{\"type\":\"parcoords\",\"line\":{\"colorbar\":{\"outlinewidth\":0,\"ticks\":\"\"}}}],\"scatterpolargl\":[{\"type\":\"scatterpolargl\",\"marker\":{\"colorbar\":{\"outlinewidth\":0,\"ticks\":\"\"}}}],\"bar\":[{\"error_x\":{\"color\":\"#2a3f5f\"},\"error_y\":{\"color\":\"#2a3f5f\"},\"marker\":{\"line\":{\"color\":\"#E5ECF6\",\"width\":0.5},\"pattern\":{\"fillmode\":\"overlay\",\"size\":10,\"solidity\":0.2}},\"type\":\"bar\"}],\"scattergeo\":[{\"type\":\"scattergeo\",\"marker\":{\"colorbar\":{\"outlinewidth\":0,\"ticks\":\"\"}}}],\"scatterpolar\":[{\"type\":\"scatterpolar\",\"marker\":{\"colorbar\":{\"outlinewidth\":0,\"ticks\":\"\"}}}],\"histogram\":[{\"marker\":{\"pattern\":{\"fillmode\":\"overlay\",\"size\":10,\"solidity\":0.2}},\"type\":\"histogram\"}],\"scattergl\":[{\"type\":\"scattergl\",\"marker\":{\"colorbar\":{\"outlinewidth\":0,\"ticks\":\"\"}}}],\"scatter3d\":[{\"type\":\"scatter3d\",\"line\":{\"colorbar\":{\"outlinewidth\":0,\"ticks\":\"\"}},\"marker\":{\"colorbar\":{\"outlinewidth\":0,\"ticks\":\"\"}}}],\"scattermapbox\":[{\"type\":\"scattermapbox\",\"marker\":{\"colorbar\":{\"outlinewidth\":0,\"ticks\":\"\"}}}],\"scatterternary\":[{\"type\":\"scatterternary\",\"marker\":{\"colorbar\":{\"outlinewidth\":0,\"ticks\":\"\"}}}],\"scattercarpet\":[{\"type\":\"scattercarpet\",\"marker\":{\"colorbar\":{\"outlinewidth\":0,\"ticks\":\"\"}}}],\"carpet\":[{\"aaxis\":{\"endlinecolor\":\"#2a3f5f\",\"gridcolor\":\"white\",\"linecolor\":\"white\",\"minorgridcolor\":\"white\",\"startlinecolor\":\"#2a3f5f\"},\"baxis\":{\"endlinecolor\":\"#2a3f5f\",\"gridcolor\":\"white\",\"linecolor\":\"white\",\"minorgridcolor\":\"white\",\"startlinecolor\":\"#2a3f5f\"},\"type\":\"carpet\"}],\"table\":[{\"cells\":{\"fill\":{\"color\":\"#EBF0F8\"},\"line\":{\"color\":\"white\"}},\"header\":{\"fill\":{\"color\":\"#C8D4E3\"},\"line\":{\"color\":\"white\"}},\"type\":\"table\"}],\"barpolar\":[{\"marker\":{\"line\":{\"color\":\"#E5ECF6\",\"width\":0.5},\"pattern\":{\"fillmode\":\"overlay\",\"size\":10,\"solidity\":0.2}},\"type\":\"barpolar\"}],\"pie\":[{\"automargin\":true,\"type\":\"pie\"}]},\"layout\":{\"autotypenumbers\":\"strict\",\"colorway\":[\"#636efa\",\"#EF553B\",\"#00cc96\",\"#ab63fa\",\"#FFA15A\",\"#19d3f3\",\"#FF6692\",\"#B6E880\",\"#FF97FF\",\"#FECB52\"],\"font\":{\"color\":\"#2a3f5f\"},\"hovermode\":\"closest\",\"hoverlabel\":{\"align\":\"left\"},\"paper_bgcolor\":\"white\",\"plot_bgcolor\":\"#E5ECF6\",\"polar\":{\"bgcolor\":\"#E5ECF6\",\"angularaxis\":{\"gridcolor\":\"white\",\"linecolor\":\"white\",\"ticks\":\"\"},\"radialaxis\":{\"gridcolor\":\"white\",\"linecolor\":\"white\",\"ticks\":\"\"}},\"ternary\":{\"bgcolor\":\"#E5ECF6\",\"aaxis\":{\"gridcolor\":\"white\",\"linecolor\":\"white\",\"ticks\":\"\"},\"baxis\":{\"gridcolor\":\"white\",\"linecolor\":\"white\",\"ticks\":\"\"},\"caxis\":{\"gridcolor\":\"white\",\"linecolor\":\"white\",\"ticks\":\"\"}},\"coloraxis\":{\"colorbar\":{\"outlinewidth\":0,\"ticks\":\"\"}},\"colorscale\":{\"sequential\":[[0.0,\"#0d0887\"],[0.1111111111111111,\"#46039f\"],[0.2222222222222222,\"#7201a8\"],[0.3333333333333333,\"#9c179e\"],[0.4444444444444444,\"#bd3786\"],[0.5555555555555556,\"#d8576b\"],[0.6666666666666666,\"#ed7953\"],[0.7777777777777778,\"#fb9f3a\"],[0.8888888888888888,\"#fdca26\"],[1.0,\"#f0f921\"]],\"sequentialminus\":[[0.0,\"#0d0887\"],[0.1111111111111111,\"#46039f\"],[0.2222222222222222,\"#7201a8\"],[0.3333333333333333,\"#9c179e\"],[0.4444444444444444,\"#bd3786\"],[0.5555555555555556,\"#d8576b\"],[0.6666666666666666,\"#ed7953\"],[0.7777777777777778,\"#fb9f3a\"],[0.8888888888888888,\"#fdca26\"],[1.0,\"#f0f921\"]],\"diverging\":[[0,\"#8e0152\"],[0.1,\"#c51b7d\"],[0.2,\"#de77ae\"],[0.3,\"#f1b6da\"],[0.4,\"#fde0ef\"],[0.5,\"#f7f7f7\"],[0.6,\"#e6f5d0\"],[0.7,\"#b8e186\"],[0.8,\"#7fbc41\"],[0.9,\"#4d9221\"],[1,\"#276419\"]]},\"xaxis\":{\"gridcolor\":\"white\",\"linecolor\":\"white\",\"ticks\":\"\",\"title\":{\"standoff\":15,\"font\":{\"size\":20}},\"zerolinecolor\":\"white\",\"automargin\":true,\"zerolinewidth\":2},\"yaxis\":{\"gridcolor\":\"white\",\"linecolor\":\"white\",\"ticks\":\"\",\"title\":{\"standoff\":15,\"font\":{\"size\":20}},\"zerolinecolor\":\"white\",\"automargin\":true,\"zerolinewidth\":2},\"scene\":{\"xaxis\":{\"backgroundcolor\":\"#E5ECF6\",\"gridcolor\":\"white\",\"linecolor\":\"white\",\"showbackground\":true,\"ticks\":\"\",\"zerolinecolor\":\"white\",\"gridwidth\":2},\"yaxis\":{\"backgroundcolor\":\"#E5ECF6\",\"gridcolor\":\"white\",\"linecolor\":\"white\",\"showbackground\":true,\"ticks\":\"\",\"zerolinecolor\":\"white\",\"gridwidth\":2},\"zaxis\":{\"backgroundcolor\":\"#E5ECF6\",\"gridcolor\":\"white\",\"linecolor\":\"white\",\"showbackground\":true,\"ticks\":\"\",\"zerolinecolor\":\"white\",\"gridwidth\":2}},\"shapedefaults\":{\"line\":{\"color\":\"#2a3f5f\"}},\"annotationdefaults\":{\"arrowcolor\":\"#2a3f5f\",\"arrowhead\":0,\"arrowwidth\":1},\"geo\":{\"bgcolor\":\"white\",\"landcolor\":\"#E5ECF6\",\"subunitcolor\":\"white\",\"showland\":true,\"showlakes\":true,\"lakecolor\":\"white\"},\"title\":{\"x\":0.05,\"font\":{\"size\":30}},\"mapbox\":{\"style\":\"light\"}}},\"xaxis\":{\"anchor\":\"y\",\"domain\":[0.0,1.0],\"title\":{\"text\":\"Input\"}},\"yaxis\":{\"anchor\":\"x\",\"domain\":[0.0,1.0],\"title\":{\"text\":\"y\"}},\"legend\":{\"title\":{\"text\":\"Color\"},\"tracegroupgap\":0},\"title\":{\"text\":\"Middle Fourier Components\"}},                        {\"responsive\": true}                    ).then(function(){\n",
              "                            \n",
              "var gd = document.getElementById('bc609051-3cad-41ca-84aa-e43efad6642d');\n",
              "var x = new MutationObserver(function (mutations, observer) {{\n",
              "        var display = window.getComputedStyle(gd).display;\n",
              "        if (!display || display === 'none') {{\n",
              "            console.log([gd, 'removed!']);\n",
              "            Plotly.purge(gd);\n",
              "            observer.disconnect();\n",
              "        }}\n",
              "}});\n",
              "\n",
              "// Listen for the removal of the full notebook cells\n",
              "var notebookContainer = gd.closest('#notebook-container');\n",
              "if (notebookContainer) {{\n",
              "    x.observe(notebookContainer, {childList: true});\n",
              "}}\n",
              "\n",
              "// Listen for the clearing of the current output cell\n",
              "var outputEl = gd.closest('.output');\n",
              "if (outputEl) {{\n",
              "    x.observe(outputEl, {childList: true});\n",
              "}}\n",
              "\n",
              "                        })                };                            </script>        </div>\n",
              "</body>\n",
              "</html>"
            ]
          },
          "metadata": {}
        }
      ],
      "source": [
        "line(fourier_basis[:8], xaxis=\"Input\", line_labels=fourier_basis_names[:8], title=\"First 8 Fourier Components\")\n",
        "line(fourier_basis[25:29], xaxis=\"Input\", line_labels=fourier_basis_names[25:29], title=\"Middle Fourier Components\")"
      ]
    },
    {
      "cell_type": "code",
      "execution_count": null,
      "metadata": {
        "id": "ZKVsgPKKQTaU",
        "colab": {
          "base_uri": "https://localhost:8080/",
          "height": 542
        },
        "outputId": "5793d6cc-f086-4ba5-d8e2-4f532e7ac420"
      },
      "outputs": [
        {
          "output_type": "display_data",
          "data": {
            "text/html": [
              "<html>\n",
              "<head><meta charset=\"utf-8\" /></head>\n",
              "<body>\n",
              "    <div>            <script src=\"https://cdnjs.cloudflare.com/ajax/libs/mathjax/2.7.5/MathJax.js?config=TeX-AMS-MML_SVG\"></script><script type=\"text/javascript\">if (window.MathJax && window.MathJax.Hub && window.MathJax.Hub.Config) {window.MathJax.Hub.Config({SVG: {font: \"STIX-Web\"}});}</script>                <script type=\"text/javascript\">window.PlotlyConfig = {MathJaxConfig: 'local'};</script>\n",
              "        <script charset=\"utf-8\" src=\"https://cdn.plot.ly/plotly-2.24.1.min.js\"></script>                <div id=\"34951552-38f1-4b9d-985a-d37fa309b6d2\" class=\"plotly-graph-div\" style=\"height:525px; width:100%;\"></div>            <script type=\"text/javascript\">                                    window.PLOTLYENV=window.PLOTLYENV || {};                                    if (document.getElementById(\"34951552-38f1-4b9d-985a-d37fa309b6d2\")) {                    Plotly.newPlot(                        \"34951552-38f1-4b9d-985a-d37fa309b6d2\",                        [{\"coloraxis\":\"coloraxis\",\"name\":\"0\",\"z\":[[1.0,0.0,5.960464477539063e-08,-5.960464477539063e-08,5.960464477539063e-08,-2.2351741790771484e-08,6.705522537231445e-08,-1.3224780559539795e-07,5.2619725465774536e-08,-7.450580596923828e-08,-1.30385160446167e-07,-6.332993507385254e-08,2.0489096641540527e-08,-1.210719347000122e-07,4.628673195838928e-07,5.960464477539063e-08,-1.341104507446289e-07,4.284083843231201e-08,2.123415470123291e-07,-3.259629011154175e-07,1.2479722499847412e-07,-1.6391277313232422e-07,-4.76837158203125e-07,-2.066371962428093e-07,-3.734603524208069e-07,9.173527359962463e-08,-2.8312206268310547e-07,-4.377216100692749e-07,-1.862645149230957e-08,-2.7939677238464355e-09,-1.2665987014770508e-07,1.0989606380462646e-07,-3.2223761081695557e-07,-3.166496753692627e-07,-5.587935447692871e-09,3.725290298461914e-09,5.038455128669739e-07,-4.530884325504303e-07,-1.838925527408719e-07,-6.7148357629776e-07,-3.7776771932840347e-07,-4.3585896492004395e-07,-1.0654330253601074e-06,7.636845111846924e-08,-2.39349901676178e-07,4.7171488404273987e-07,3.380700945854187e-07,9.406358003616333e-07,-1.862645149230957e-07,-3.543682396411896e-07,-2.1979212760925293e-07],[0.0,1.0,-2.9802322387695312e-08,-1.4901161193847656e-08,-1.4901161193847656e-08,-1.4901161193847656e-08,-2.9802322387695312e-08,1.2293457984924316e-07,3.725290298461914e-08,1.0896474123001099e-07,2.8312206268310547e-07,-1.7508864402770996e-07,-1.1175870895385742e-07,4.470348358154297e-08,-1.601874828338623e-07,-1.341104507446289e-07,-3.725290298461914e-09,-7.264316082000732e-08,-8.195638656616211e-08,1.1175870895385742e-07,-4.4051557779312134e-07,-9.313225746154785e-10,5.131587386131287e-07,2.60770320892334e-08,1.4901161193847656e-07,-2.2724270820617676e-07,2.691522240638733e-07,1.5459954738616943e-07,2.3422762751579285e-07,7.450580596923828e-09,2.7939677238464355e-08,-2.7939677238464355e-07,3.2782554626464844e-07,-4.12575900554657e-07,1.73225998878479e-07,1.1175870895385742e-08,-2.7008354663848877e-07,3.3248215913772583e-07,-5.140900611877441e-07,1.601874828338623e-07,3.8370490074157715e-07,5.848705768585205e-07,1.2665987014770508e-06,5.4016709327697754e-08,-2.2351741790771484e-08,-3.91155481338501e-07,-4.842877388000488e-07,-4.055909812450409e-07,-8.335337042808533e-07,-1.5832483768463135e-07,-3.8370490074157715e-07],[5.960464477539063e-08,-2.9802322387695312e-08,1.000000238418579,-2.9802322387695312e-08,7.450580596923828e-08,-9.685754776000977e-08,5.960464477539063e-08,-1.043081283569336e-07,-7.450580596923828e-08,2.421438694000244e-07,-6.135087460279465e-08,-1.7881393432617188e-07,1.9371509552001953e-07,2.5331974029541016e-07,3.9674341678619385e-07,4.0978193283081055e-08,4.2282044887542725e-07,-5.960464477539063e-08,-2.2351741790771484e-07,-1.564621925354004e-07,3.725290298461914e-07,-4.0046870708465576e-07,-3.855675458908081e-07,-3.5762786865234375e-07,-1.7881393432617188e-07,-4.2654573917388916e-07,-4.3585896492004395e-07,-3.6973506212234497e-07,-5.629844963550568e-07,7.636845111846924e-08,8.940696716308594e-08,-2.7008354663848877e-08,-1.6577541828155518e-07,-3.166496753692627e-07,2.0489096641540527e-07,-5.62518835067749e-07,-9.220093488693237e-08,-6.351619958877563e-07,2.5890767574310303e-07,-3.8370490074157715e-07,-4.973262548446655e-07,3.818422555923462e-07,-3.501772880554199e-07,2.0116567611694336e-07,-3.166496753692627e-08,6.221234798431396e-07,-1.1175870895385742e-06,6.989575922489166e-07,8.968636393547058e-07,-1.3224780559539795e-07,1.7136335372924805e-07],[-5.960464477539063e-08,-1.4901161193847656e-08,-2.9802322387695312e-08,1.0000001192092896,-1.073349267244339e-07,5.960464477539063e-08,-1.4901161193847656e-08,8.940696716308594e-08,1.341104507446289e-07,-2.7567148208618164e-07,7.450580596923828e-08,3.5390257835388184e-07,-7.450580596923828e-08,-3.0547380447387695e-07,-1.7881393432617188e-07,5.029141902923584e-08,-3.110617399215698e-07,-4.842877388000488e-08,-1.8998980522155762e-07,2.8312206268310547e-07,1.6391277313232422e-07,2.738088369369507e-07,4.5355409383773804e-07,2.477318048477173e-07,1.043081283569336e-07,5.140900611877441e-07,4.377216100692749e-07,2.6263296604156494e-07,4.33996319770813e-07,-7.264316082000732e-08,1.1920928955078125e-07,-1.043081283569336e-07,-8.195638656616211e-08,3.650784492492676e-07,-4.516914486885071e-07,3.2689422369003296e-07,-1.862645149230957e-08,5.993060767650604e-07,4.731118679046631e-07,5.401670932769775e-07,2.0302832126617432e-07,-3.650784492492676e-07,2.528540790081024e-07,-1.1920928955078125e-07,7.525086402893066e-07,-8.00006091594696e-07,6.724148988723755e-07,-3.725290298461914e-07,-7.869675755500793e-07,7.82310962677002e-08,9.872019290924072e-08],[5.960464477539063e-08,-1.4901161193847656e-08,7.450580596923828e-08,-1.073349267244339e-07,0.9999998807907104,-3.3527612686157227e-08,0.0,5.960464477539063e-08,-2.9802322387695312e-08,1.043081283569336e-07,3.0547380447387695e-07,-1.043081283569336e-07,-2.086162567138672e-07,8.195638656616211e-08,4.4330954551696777e-07,-1.1920928955078125e-07,-1.4528632164001465e-07,-1.4528632164001465e-07,-1.7136335372924805e-07,-2.2351741790771484e-07,-1.9371509552001953e-07,1.0710209608078003e-07,8.195638656616211e-08,-2.60770320892334e-07,-1.6763806343078613e-07,-1.9371509552001953e-07,4.507601261138916e-07,-2.775341272354126e-07,2.5192275643348694e-07,-5.4016709327697754e-08,1.1175870895385742e-07,-2.2910535335540771e-07,6.332993507385254e-07,-1.8440186977386475e-07,-1.9371509552001953e-07,-3.939494490623474e-07,-1.5832483768463135e-07,-7.189810276031494e-07,-4.0046870708465576e-07,1.0244548320770264e-07,2.1047890186309814e-07,6.789341568946838e-07,5.960464477539062e-07,1.471489667892456e-07,1.3783574104309082e-07,-2.738088369369507e-07,-5.476176738739014e-07,6.332993507385254e-07,-1.6801059246063232e-06,1.5087425708770752e-07,5.587935447692871e-08],[-2.2351741790771484e-08,-1.4901161193847656e-08,-9.685754776000977e-08,5.960464477539063e-08,-3.3527612686157227e-08,1.0,-2.9802322387695312e-08,-1.043081283569336e-07,-3.725290298461914e-08,4.470348358154297e-08,-1.043081283569336e-07,-1.7136335372924805e-07,2.0116567611694336e-07,1.5832483768463135e-08,-4.079192876815796e-07,-2.086162567138672e-07,-1.7881393432617188e-07,3.427267074584961e-07,1.1548399925231934e-07,5.997717380523682e-07,-2.980232238769531e-07,1.5459954738616943e-07,2.1606683731079102e-07,2.5704503059387207e-07,2.980232238769531e-07,2.905726432800293e-07,-5.085021257400513e-07,2.1606683731079102e-07,3.688037395477295e-07,-6.69620931148529e-07,6.332993507385254e-08,2.039596438407898e-07,-4.069879651069641e-07,2.60770320892334e-08,-3.166496753692627e-07,6.94766640663147e-07,-1.3224780559539795e-07,1.1771917343139648e-06,2.1606683731079102e-07,2.980232238769531e-07,4.3585896492004395e-07,-1.9744038581848145e-07,-1.7415732145309448e-07,-1.1138617992401123e-06,-7.385388016700745e-07,1.9185245037078857e-07,5.690380930900574e-07,-9.331852197647095e-07,7.37607479095459e-07,1.210719347000122e-07,-9.872019290924072e-08],[6.705522537231445e-08,-2.9802322387695312e-08,5.960464477539063e-08,-1.4901161193847656e-08,0.0,-2.9802322387695312e-08,1.0000001192092896,-5.587935447692871e-08,2.086162567138672e-07,-1.7881393432617188e-07,-1.341104507446289e-07,1.564621925354004e-07,2.384185791015625e-07,-8.568167686462402e-08,3.8370490074157715e-07,-2.086162567138672e-07,-1.9185245037078857e-07,-1.8812716007232666e-07,-3.497116267681122e-07,1.601874828338623e-07,1.9185245037078857e-07,0.0,2.0116567611694336e-07,6.575137376785278e-07,1.4505349099636078e-07,3.5390257835388184e-07,-9.12696123123169e-08,-4.880130290985107e-07,-5.21540641784668e-08,-1.9744038581848145e-07,2.3795291781425476e-07,3.3993273973464966e-08,3.91155481338501e-08,-2.9243528842926025e-07,2.0489096641540527e-07,-1.564621925354004e-07,-3.91155481338501e-07,3.175809979438782e-07,-3.632158041000366e-07,1.9744038581848145e-07,-7.171183824539185e-08,-1.341104507446289e-07,1.1548399925231934e-07,-1.0943040251731873e-07,7.404014468193054e-07,-1.8952414393424988e-07,-2.3096799850463867e-07,7.469207048416138e-07,-6.51925802230835e-07,4.2282044887542725e-07,-7.82310962677002e-08],[-1.3224780559539795e-07,1.2293457984924316e-07,-1.043081283569336e-07,8.940696716308594e-08,5.960464477539063e-08,-1.043081283569336e-07,-5.587935447692871e-08,1.0,4.470348358154297e-08,-2.8312206268310547e-07,2.2351741790771484e-08,1.043081283569336e-07,-1.7881393432617188e-07,-1.2665987014770508e-07,-3.725290298461914e-07,3.1013041734695435e-07,1.9813887774944305e-07,-3.725290298461914e-08,2.384185791015625e-07,-4.6566128730773926e-07,-3.241002559661865e-07,2.3655593395233154e-07,5.029141902923584e-08,-2.3469328880310059e-07,1.4901161193847656e-08,2.384185791015625e-07,6.51925802230835e-08,2.1792948246002197e-07,2.505257725715637e-07,2.7567148208618164e-07,-2.1792948246002197e-07,2.3748725652694702e-08,-3.348104655742645e-07,6.344635039567947e-07,1.2293457984924316e-07,6.649643182754517e-07,2.60770320892334e-08,2.0489096641540527e-08,5.2619725465774536e-08,6.295740604400635e-07,1.4901161193847656e-08,-1.9138678908348083e-07,5.774199962615967e-07,8.977949619293213e-07,-1.341104507446289e-07,-1.7508864402770996e-07,6.631016731262207e-07,2.253800630569458e-07,1.128530129790306e-06,-7.878988981246948e-07,3.725290298461914e-07],[5.2619725465774536e-08,3.725290298461914e-08,-7.450580596923828e-08,1.341104507446289e-07,-2.9802322387695312e-08,-3.725290298461914e-08,2.086162567138672e-07,4.470348358154297e-08,1.0,1.341104507446289e-07,2.5331974029541016e-07,-2.5331974029541016e-07,4.470348358154297e-08,-2.4586915969848633e-07,-2.9802322387695312e-08,1.6298145055770874e-08,-2.505257725715637e-07,3.0547380447387695e-07,-3.725290298461914e-09,4.861503839492798e-07,2.5331974029541016e-07,-6.332993507385254e-08,6.798654794692993e-08,-3.725290298461914e-07,-6.854534149169922e-07,-3.166496753692627e-08,1.1362135410308838e-07,-3.725290298461914e-07,5.308538675308228e-07,-7.394701242446899e-07,-4.470348358154297e-08,-1.0896474123001099e-07,-6.118789315223694e-07,-1.8998980522155762e-07,-7.450580596923828e-07,6.901100277900696e-07,-3.5390257835388184e-07,1.0067597031593323e-06,-4.041939973831177e-07,-9.313225746154785e-08,-3.3527612686157227e-07,-3.650784492492676e-07,9.12696123123169e-08,-6.891787052154541e-07,-7.827766239643097e-07,-5.112960934638977e-07,5.401670932769775e-07,6.579793989658356e-07,-3.3457763493061066e-07,4.6566128730773926e-07,-3.6135315895080566e-07],[-7.450580596923828e-08,1.0896474123001099e-07,2.421438694000244e-07,-2.7567148208618164e-07,1.043081283569336e-07,4.470348358154297e-08,-1.7881393432617188e-07,-2.8312206268310547e-07,1.341104507446289e-07,1.0,-2.430751919746399e-07,-1.4901161193847656e-08,-2.3096799850463867e-07,2.5331974029541016e-07,-2.980232238769531e-07,9.685754776000977e-08,1.6391277313232422e-07,-3.427267074584961e-07,3.8277357816696167e-07,1.9371509552001953e-07,-7.450580596923828e-09,1.3690441846847534e-07,2.4586915969848633e-07,1.51805579662323e-07,3.762543201446533e-07,-4.507601261138916e-07,-2.123415470123291e-07,6.631016731262207e-07,2.7474015951156616e-07,5.811452865600586e-07,-2.0302832126617432e-07,1.9744038581848145e-07,-9.12696123123169e-08,1.6763806343078613e-07,3.0547380447387695e-07,-3.073364496231079e-08,-1.0803341865539551e-07,-2.3853499442338943e-07,3.8929283618927e-07,-1.5273690223693848e-07,6.444752216339111e-07,4.6566128730773926e-08,1.5832483768463135e-07,1.0803341865539551e-07,3.762543201446533e-07,6.649643182754517e-07,3.390014171600342e-07,-1.3695098459720612e-06,9.667128324508667e-07,-4.6566128730773926e-07,1.7508864402770996e-07],[-1.30385160446167e-07,2.8312206268310547e-07,-6.135087460279465e-08,7.450580596923828e-08,3.0547380447387695e-07,-1.043081283569336e-07,-1.341104507446289e-07,2.2351741790771484e-08,2.5331974029541016e-07,-2.430751919746399e-07,0.9999998807907104,-3.594905138015747e-07,5.960464477539063e-08,-1.1175870895385742e-07,2.8312206268310547e-07,7.450580596923828e-09,0.0,2.9802322387695312e-08,1.8998980522155762e-07,-5.21540641784668e-08,-3.7997961044311523e-07,-2.2351741790771484e-07,3.2689422369003296e-07,-3.2316893339157104e-07,5.122274160385132e-08,3.5762786865234375e-07,-9.499490261077881e-08,-4.470348358154297e-08,2.9709190130233765e-07,-5.722977221012115e-07,-1.8998980522155762e-07,-3.0547380447387695e-07,-2.7567148208618164e-07,1.0803341865539551e-07,-4.721805453300476e-07,7.897615432739258e-07,1.7508864402770996e-07,-2.561137080192566e-08,1.7136335372924805e-07,5.85801899433136e-07,-4.414469003677368e-07,2.5890767574310303e-07,-1.6577541828155518e-07,4.973262548446655e-07,9.313225746154785e-08,4.4517219066619873e-07,2.738088369369507e-07,5.848705768585205e-07,8.498318493366241e-07,-1.7881393432617188e-07,9.257346391677856e-07],[-6.332993507385254e-08,-1.7508864402770996e-07,-1.7881393432617188e-07,3.5390257835388184e-07,-1.043081283569336e-07,-1.7136335372924805e-07,1.564621925354004e-07,1.043081283569336e-07,-2.5331974029541016e-07,-1.4901161193847656e-08,-3.594905138015747e-07,0.9999999403953552,-1.4505349099636078e-07,2.682209014892578e-07,-3.986060619354248e-07,-2.9802322387695312e-08,-5.21540641784668e-08,1.1920928955078125e-07,3.5762786865234375e-07,3.725290298461914e-08,-7.078051567077637e-08,-1.1175870895385742e-08,4.470348358154297e-08,-1.9045546650886536e-07,7.82310962677002e-08,-3.5134144127368927e-07,-1.2386590242385864e-07,4.6193599700927734e-07,-4.172325134277344e-07,7.245689630508423e-07,-4.842877388000488e-08,5.066394805908203e-07,6.891787052154541e-07,2.0489096641540527e-07,1.0635703802108765e-06,7.82310962677002e-08,-3.818422555923462e-08,-6.468035280704498e-07,2.4260953068733215e-07,7.320195436477661e-07,2.4493783712387085e-07,7.82310962677002e-08,1.0989606380462646e-07,2.3469328880310059e-07,1.2665987014770508e-07,-9.350478649139404e-07,5.681067705154419e-07,-9.331852197647095e-07,-3.3527612686157227e-08,-8.050701580941677e-07,1.8466380424797535e-07],[2.0489096641540527e-08,-1.1175870895385742e-07,1.9371509552001953e-07,-7.450580596923828e-08,-2.086162567138672e-07,2.0116567611694336e-07,2.384185791015625e-07,-1.7881393432617188e-07,4.470348358154297e-08,-2.3096799850463867e-07,5.960464477539063e-08,-1.4505349099636078e-07,1.0,-1.862645149230957e-08,-4.470348358154297e-08,-8.195638656616211e-08,2.9802322387695312e-08,1.0244548320770264e-07,1.8998980522155762e-07,-1.3783574104309082e-07,-6.332993507385254e-08,3.725290298461914e-08,3.725290298461914e-09,2.2351741790771484e-08,1.8905848264694214e-07,1.5273690223693848e-07,1.5506520867347717e-07,-6.705522537231445e-08,8.083879947662354e-07,3.129243850708008e-07,-2.3096799850463867e-07,2.1792948246002197e-07,-8.307397365570068e-07,1.2852251529693604e-07,1.1920928955078125e-07,1.695007085800171e-07,-9.499490261077881e-07,-4.928442649543285e-07,1.2665987014770508e-07,7.003545761108398e-07,6.332993507385254e-07,-2.7474015951156616e-07,-2.1979212760925293e-07,4.130415618419647e-07,2.0256265997886658e-07,9.611248970031738e-07,1.173466444015503e-06,5.3551048040390015e-08,1.3345852494239807e-06,-9.043142199516296e-07,-1.0833609849214554e-06],[-1.210719347000122e-07,4.470348358154297e-08,2.5331974029541016e-07,-3.0547380447387695e-07,8.195638656616211e-08,1.5832483768463135e-08,-8.568167686462402e-08,-1.2665987014770508e-07,-2.4586915969848633e-07,2.5331974029541016e-07,-1.1175870895385742e-07,2.682209014892578e-07,-1.862645149230957e-08,1.0000001192092896,-3.1851232051849365e-07,2.682209014892578e-07,9.313225746154785e-08,-2.086162567138672e-07,8.195638656616211e-08,1.341104507446289e-07,-5.960464477539063e-08,-2.551823854446411e-07,1.0244548320770264e-07,1.8998980522155762e-07,1.564621925354004e-07,-7.980270311236382e-07,-2.2724270820617676e-07,3.986060619354248e-07,9.313225746154785e-09,-4.842877388000488e-08,-3.725290298461914e-08,5.587935447692871e-09,3.4831464290618896e-07,2.5704503059387207e-07,2.7008354663848877e-07,-1.4901161193847656e-07,3.781169652938843e-07,6.966292858123779e-07,-2.1583400666713715e-07,-6.09084963798523e-07,-1.8067657947540283e-07,6.705522537231445e-07,3.390014171600342e-07,-1.0617077350616455e-07,-2.514570951461792e-08,-1.0039657354354858e-06,-4.3213367462158203e-07,-1.3504177331924438e-07,-5.010515451431274e-07,-4.936009645462036e-07,-1.0058283805847168e-07],[4.628673195838928e-07,-1.601874828338623e-07,3.9674341678619385e-07,-1.7881393432617188e-07,4.4330954551696777e-07,-4.079192876815796e-07,3.8370490074157715e-07,-3.725290298461914e-07,-2.9802322387695312e-08,-2.980232238769531e-07,2.8312206268310547e-07,-3.986060619354248e-07,-4.470348358154297e-08,-3.1851232051849365e-07,1.0000001192092896,-2.980232238769531e-07,-2.980232238769531e-07,-2.384185791015625e-07,-1.6391277313232422e-07,-1.4528632164001465e-07,1.043081283569336e-07,-4.1350722312927246e-07,-4.889443516731262e-08,-2.3096799850463867e-07,-2.60770320892334e-07,-5.327165126800537e-07,-1.3737007975578308e-07,-1.7508864402770996e-07,2.551823854446411e-07,2.2351741790771484e-07,-4.0978193283081055e-07,5.19677996635437e-07,3.548339009284973e-07,3.46451997756958e-07,6.891787052154541e-07,2.998858690261841e-07,-1.6391277313232422e-07,-3.26777808368206e-07,-2.7939677238464355e-08,1.7695128917694092e-08,9.685754776000977e-08,5.317851901054382e-07,-4.1350722312927246e-07,1.8812716007232666e-07,3.4854747354984283e-07,-6.332993507385254e-07,4.284083843231201e-07,-2.2258609533309937e-07,-9.033828973770142e-08,-9.313225746154785e-07,1.6726553440093994e-06],[5.960464477539063e-08,-1.341104507446289e-07,4.0978193283081055e-08,5.029141902923584e-08,-1.1920928955078125e-07,-2.086162567138672e-07,-2.086162567138672e-07,3.1013041734695435e-07,1.6298145055770874e-08,9.685754776000977e-08,7.450580596923828e-09,-2.9802322387695312e-08,-8.195638656616211e-08,2.682209014892578e-07,-2.980232238769531e-07,0.9999998807907104,7.450580596923828e-08,7.450580596923828e-08,-3.725290298461914e-08,-4.023313522338867e-07,-8.195638656616211e-08,4.3213367462158203e-07,7.82310962677002e-08,2.7776695787906647e-07,-2.681044861674309e-07,7.934868335723877e-07,-4.6193599700927734e-07,8.288770914077759e-07,-1.2852251529693604e-07,-4.889443516731262e-08,5.681067705154419e-07,-1.564621925354004e-07,3.725290298461914e-09,3.91155481338501e-08,-7.534399628639221e-07,-1.862645149230957e-07,4.3585896492004395e-07,3.1478703022003174e-07,3.0547380447387695e-07,-3.441236913204193e-07,5.825422704219818e-07,-7.040798664093018e-07,4.731118679046631e-07,-6.332993507385254e-08,-3.259629011154175e-07,-2.8032809495925903e-07,-5.783513188362122e-07,-5.615875124931335e-07,4.0046870708465576e-08,8.996576070785522e-07,8.731149137020111e-07],[-1.341104507446289e-07,-3.725290298461914e-09,4.2282044887542725e-07,-3.110617399215698e-07,-1.4528632164001465e-07,-1.7881393432617188e-07,-1.9185245037078857e-07,1.9813887774944305e-07,-2.505257725715637e-07,1.6391277313232422e-07,0.0,-5.21540641784668e-08,2.9802322387695312e-08,9.313225746154785e-08,-2.980232238769531e-07,7.450580596923828e-08,0.9999998807907104,4.470348358154297e-08,8.940696716308594e-08,-1.043081283569336e-07,3.129243850708008e-07,5.960464477539063e-08,1.4156103134155273e-07,-2.169981598854065e-07,-8.824281394481659e-08,-5.066394805908203e-07,-3.948807716369629e-07,4.991888999938965e-07,1.6111880540847778e-07,3.073364496231079e-07,-1.4435499906539917e-07,6.705522537231445e-08,-5.960464477539063e-08,4.675239324569702e-07,6.612390279769897e-07,5.699694156646729e-07,9.313225746154785e-08,1.3597309589385986e-07,-3.725290298461914e-07,2.3795291781425476e-07,-3.073364496231079e-08,1.4044344425201416e-06,5.681067705154419e-07,2.942979335784912e-07,8.940696716308594e-08,-4.116445779800415e-07,1.955777406692505e-08,-7.767230272293091e-07,1.0151416063308716e-07,-1.8440186977386475e-06,-6.835907697677612e-07],[4.284083843231201e-08,-7.264316082000732e-08,-5.960464477539063e-08,-4.842877388000488e-08,-1.4528632164001465e-07,3.427267074584961e-07,-1.8812716007232666e-07,-3.725290298461914e-08,3.0547380447387695e-07,-3.427267074584961e-07,2.9802322387695312e-08,1.1920928955078125e-07,1.0244548320770264e-07,-2.086162567138672e-07,-2.384185791015625e-07,7.450580596923828e-08,4.470348358154297e-08,0.9999999403953552,0.0,4.470348358154297e-08,-4.3213367462158203e-07,2.682209014892578e-07,-5.662441253662109e-07,5.960464477539062e-07,-1.4901161193847656e-07,5.662441253662109e-07,8.009374141693115e-08,-6.332993507385254e-08,1.4901161193847656e-08,1.1175870895385742e-07,2.2165477275848389e-07,4.44706529378891e-07,2.6635825634002686e-07,-8.195638656616211e-08,4.470348358154297e-08,-5.569308996200562e-07,-1.7508864402770996e-07,1.2852251529693604e-07,7.655471563339233e-07,7.450580596923828e-09,6.92903995513916e-07,-9.248033165931702e-07,-5.029141902923584e-08,-3.46451997756958e-07,-7.255002856254578e-07,2.2724270820617676e-07,-8.847564458847046e-07,2.4866312742233276e-07,-6.48200511932373e-07,1.1576339602470398e-06,-1.0468065738677979e-06],[2.123415470123291e-07,-8.195638656616211e-08,-2.2351741790771484e-07,-1.8998980522155762e-07,-1.7136335372924805e-07,1.1548399925231934e-07,-3.497116267681122e-07,2.384185791015625e-07,-3.725290298461914e-09,3.8277357816696167e-07,1.8998980522155762e-07,3.5762786865234375e-07,1.8998980522155762e-07,8.195638656616211e-08,-1.6391277313232422e-07,-3.725290298461914e-08,8.940696716308594e-08,0.0,1.0000001192092896,-3.46451997756958e-07,-1.9371509552001953e-07,0.0,4.470348358154297e-08,3.725290298461914e-09,-7.525086402893066e-07,3.110617399215698e-07,-6.388872861862183e-07,3.8743019104003906e-07,3.6135315895080566e-07,8.568167686462402e-08,-3.650784492492676e-07,2.9243528842926025e-07,2.998858690261841e-07,1.341104507446289e-07,-5.699694156646729e-07,-1.1734664440155029e-07,8.456408977508545e-07,4.0512531995773315e-07,4.4889748096466064e-07,-1.5273690223693848e-07,6.258487701416016e-07,-7.078051567077637e-07,1.0021030902862549e-06,-1.0896474123001099e-07,-8.288770914077759e-08,-7.748603820800781e-07,-9.313225746154785e-08,7.841736078262329e-07,-6.034970283508301e-07,-1.6577541828155518e-06,8.931383490562439e-07],[-3.259629011154175e-07,1.1175870895385742e-07,-1.564621925354004e-07,2.8312206268310547e-07,-2.2351741790771484e-07,5.997717380523682e-07,1.601874828338623e-07,-4.6566128730773926e-07,4.861503839492798e-07,1.9371509552001953e-07,-5.21540641784668e-08,3.725290298461914e-08,-1.3783574104309082e-07,1.341104507446289e-07,-1.4528632164001465e-07,-4.023313522338867e-07,-1.043081283569336e-07,4.470348358154297e-08,-3.46451997756958e-07,0.9999999403953552,-4.721805453300476e-07,1.4901161193847656e-08,1.1175870895385742e-07,8.046627044677734e-07,5.21540641784668e-07,1.4156103134155273e-07,4.731118679046631e-07,4.0605664253234863e-07,-4.3958425521850586e-07,1.4528632164001465e-07,2.2351741790771484e-07,-7.82310962677002e-08,4.842877388000488e-07,-3.6135315895080566e-07,6.742775440216064e-07,-2.8312206268310547e-07,1.7136335372924805e-07,-5.201436579227448e-07,1.564621925354004e-07,-3.8929283618927e-07,2.5704503059387207e-07,-1.5273690223693848e-07,-8.437782526016235e-07,-4.854518920183182e-07,-6.891787052154541e-08,6.332993507385254e-07,5.997717380523682e-07,-9.201467037200928e-07,2.7939677238464355e-07,1.516193151473999e-06,-7.743947207927704e-07],[1.2479722499847412e-07,-4.4051557779312134e-07,3.725290298461914e-07,1.6391277313232422e-07,-1.9371509552001953e-07,-2.980232238769531e-07,1.9185245037078857e-07,-3.241002559661865e-07,2.5331974029541016e-07,-7.450580596923828e-09,-3.7997961044311523e-07,-7.078051567077637e-08,-6.332993507385254e-08,-5.960464477539063e-08,1.043081283569336e-07,-8.195638656616211e-08,3.129243850708008e-07,-4.3213367462158203e-07,-1.9371509552001953e-07,-4.721805453300476e-07,1.0,1.1175870895385742e-08,-2.682209014892578e-07,3.7997961044311523e-07,-4.172325134277344e-07,5.476176738739014e-07,-2.8312206268310547e-07,2.598389983177185e-07,4.544854164123535e-07,-1.1920928955078125e-07,5.62518835067749e-07,5.960464477539063e-08,3.306195139884949e-08,-4.936009645462036e-08,-1.1175870895385742e-08,5.960464477539062e-07,-3.948807716369629e-07,2.9569491744041443e-07,8.512288331985474e-07,-2.1606683731079102e-07,5.550682544708252e-07,-5.401670932769775e-07,-7.82310962677002e-08,2.2118911147117615e-07,1.501757651567459e-07,-5.792826414108276e-07,-9.350478649139404e-07,-1.8812716007232666e-07,-6.51925802230835e-07,-4.284083843231201e-08,-6.570480763912201e-07],[-1.6391277313232422e-07,-9.313225746154785e-10,-4.0046870708465576e-07,2.738088369369507e-07,1.0710209608078003e-07,1.5459954738616943e-07,0.0,2.3655593395233154e-07,-6.332993507385254e-08,1.3690441846847534e-07,-2.2351741790771484e-07,-1.1175870895385742e-08,3.725290298461914e-08,-2.551823854446411e-07,-4.1350722312927246e-07,4.3213367462158203e-07,5.960464477539063e-08,2.682209014892578e-07,0.0,1.4901161193847656e-08,1.1175870895385742e-08,1.0,6.332993507385254e-08,1.4901161193847656e-08,4.954636096954346e-07,-3.2782554626464844e-07,8.195638656616211e-07,-1.1622905731201172e-06,-6.742775440216064e-07,1.1511147022247314e-06,-6.123445928096771e-07,-3.129243850708008e-07,2.60770320892334e-07,-2.551823854446411e-07,7.078051567077637e-08,-8.456408977508545e-07,1.8440186977386475e-07,-7.878988981246948e-07,5.21540641784668e-08,3.818422555923462e-08,-1.0933727025985718e-06,7.450580596923828e-09,-5.029141902923584e-08,-1.4901161193847656e-07,-3.241002559661865e-07,5.243346095085144e-07,3.781169652938843e-07,-3.650784492492676e-07,1.4901161193847656e-07,8.605420589447021e-07,4.870817065238953e-07],[-4.76837158203125e-07,5.131587386131287e-07,-3.855675458908081e-07,4.5355409383773804e-07,8.195638656616211e-08,2.1606683731079102e-07,2.0116567611694336e-07,5.029141902923584e-08,6.798654794692993e-08,2.4586915969848633e-07,3.2689422369003296e-07,4.470348358154297e-08,3.725290298461914e-09,1.0244548320770264e-07,-4.889443516731262e-08,7.82310962677002e-08,1.4156103134155273e-07,-5.662441253662109e-07,4.470348358154297e-08,1.1175870895385742e-07,-2.682209014892578e-07,6.332993507385254e-08,0.9999999403953552,3.3155083656311035e-07,2.682209014892578e-07,-4.470348358154297e-08,-5.066394805908203e-07,-3.501772880554199e-07,2.384185791015625e-07,-1.8905848264694214e-07,-2.2817403078079224e-07,2.7567148208618164e-07,-4.824250936508179e-07,8.139759302139282e-07,5.587935447692871e-09,4.2654573917388916e-07,1.210719347000122e-07,-1.6391277313232422e-07,1.7136335372924805e-07,-1.7136335372924805e-07,6.202608346939087e-07,7.478520274162292e-07,3.3527612686157227e-08,-5.774199962615967e-07,-5.364418029785156e-07,1.0803341865539551e-07,2.3655593395233154e-07,-8.67992639541626e-07,1.7136335372924805e-07,3.1851232051849365e-07,4.3958425521850586e-07],[-2.066371962428093e-07,2.60770320892334e-08,-3.5762786865234375e-07,2.477318048477173e-07,-2.60770320892334e-07,2.5704503059387207e-07,6.575137376785278e-07,-2.3469328880310059e-07,-3.725290298461914e-07,1.51805579662323e-07,-3.2316893339157104e-07,-1.9045546650886536e-07,2.2351741790771484e-08,1.8998980522155762e-07,-2.3096799850463867e-07,2.7776695787906647e-07,-2.169981598854065e-07,5.960464477539062e-07,3.725290298461914e-09,8.046627044677734e-07,3.7997961044311523e-07,1.4901161193847656e-08,3.3155083656311035e-07,1.0,6.631016731262207e-07,-6.556510925292969e-07,2.644956111907959e-07,9.238719940185547e-07,-6.332993507385254e-07,-3.725290298461914e-08,8.344650268554688e-07,1.8207356333732605e-07,1.019798219203949e-06,-7.040798664093018e-07,4.917383193969727e-07,-8.884817361831665e-07,8.940696716308594e-08,4.896428436040878e-07,-4.908069968223572e-07,2.2351741790771484e-07,-3.427267074584961e-07,2.5331974029541016e-07,2.942979335784912e-07,-3.855675458908081e-07,8.083879947662354e-07,-3.5762786865234375e-07,-4.6566128730773926e-08,-4.3585896492004395e-07,1.3005919754505157e-06,1.6819685697555542e-06,-1.0496005415916443e-06],[-3.734603524208069e-07,1.4901161193847656e-07,-1.7881393432617188e-07,1.043081283569336e-07,-1.6763806343078613e-07,2.980232238769531e-07,1.4505349099636078e-07,1.4901161193847656e-08,-6.854534149169922e-07,3.762543201446533e-07,5.122274160385132e-08,7.82310962677002e-08,1.8905848264694214e-07,1.564621925354004e-07,-2.60770320892334e-07,-2.681044861674309e-07,-8.824281394481659e-08,-1.4901161193847656e-07,-7.525086402893066e-07,5.21540641784668e-07,-4.172325134277344e-07,4.954636096954346e-07,2.682209014892578e-07,6.631016731262207e-07,0.9999999403953552,-8.940696716308594e-08,4.3213367462158203e-07,-5.960464477539063e-08,-2.682209014892578e-07,2.2351741790771484e-07,9.685754776000977e-08,5.802139639854431e-07,-2.644956111907959e-07,6.109476089477539e-07,9.834766387939453e-07,-4.032626748085022e-07,8.633360266685486e-07,-9.164214134216309e-07,6.66128471493721e-07,-7.152557373046875e-07,8.530914783477783e-07,-1.8998980522155762e-07,1.7695128917694092e-08,-6.444752216339111e-07,-4.5821070671081543e-07,-4.7497451305389404e-07,5.103647708892822e-07,9.94652509689331e-07,-9.406358003616333e-08,1.0263174772262573e-06,7.227063179016113e-07],[9.173527359962463e-08,-2.2724270820617676e-07,-4.2654573917388916e-07,5.140900611877441e-07,-1.9371509552001953e-07,2.905726432800293e-07,3.5390257835388184e-07,2.384185791015625e-07,-3.166496753692627e-08,-4.507601261138916e-07,3.5762786865234375e-07,-3.5134144127368927e-07,1.5273690223693848e-07,-7.980270311236382e-07,-5.327165126800537e-07,7.934868335723877e-07,-5.066394805908203e-07,5.662441253662109e-07,3.110617399215698e-07,1.4156103134155273e-07,5.476176738739014e-07,-3.2782554626464844e-07,-4.470348358154297e-08,-6.556510925292969e-07,-8.940696716308594e-08,0.9999998807907104,2.5262124836444855e-07,4.470348358154297e-07,-4.842877388000488e-07,9.08970832824707e-07,1.7136335372924805e-07,-6.407499313354492e-07,5.066394805908203e-07,-1.0207295417785645e-06,-4.507601261138916e-07,-2.0489096641540527e-07,-5.587935447692871e-07,9.338837116956711e-07,-4.991888999938965e-07,1.3606622815132141e-06,-3.0547380447387695e-07,-2.3469328880310059e-07,-3.390014171600342e-07,1.3783574104309082e-07,3.259629011154175e-07,9.872019290924072e-08,5.438923835754395e-07,-1.2479722499847412e-06,-4.190951585769653e-08,3.511086106300354e-07,1.201042323373258e-07],[-2.8312206268310547e-07,2.691522240638733e-07,-4.3585896492004395e-07,4.377216100692749e-07,4.507601261138916e-07,-5.085021257400513e-07,-9.12696123123169e-08,6.51925802230835e-08,1.1362135410308838e-07,-2.123415470123291e-07,-9.499490261077881e-08,-1.2386590242385864e-07,1.5506520867347717e-07,-2.2724270820617676e-07,-1.3737007975578308e-07,-4.6193599700927734e-07,-3.948807716369629e-07,8.009374141693115e-08,-6.388872861862183e-07,4.731118679046631e-07,-2.8312206268310547e-07,8.195638656616211e-07,-5.066394805908203e-07,2.644956111907959e-07,4.3213367462158203e-07,2.5262124836444855e-07,1.0,6.258487701416016e-07,1.6391277313232422e-07,1.080334186553955e-06,1.2814998626708984e-06,1.1175870895385742e-07,9.462237358093262e-07,-2.4959444999694824e-07,1.3578683137893677e-06,-4.0978193283081055e-07,-2.682209014892578e-07,4.470348358154297e-08,5.345791578292847e-07,3.4458935260772705e-07,3.9674341678619385e-07,-5.289912223815918e-07,-2.9802322387695312e-08,-2.942979335784912e-07,1.6391277313232422e-07,-2.421438694000244e-07,5.569308996200562e-07,-3.762543201446533e-07,2.2351741790771484e-08,1.8317950889468193e-06,-1.4668330550193787e-06],[-4.377216100692749e-07,1.5459954738616943e-07,-3.6973506212234497e-07,2.6263296604156494e-07,-2.775341272354126e-07,2.1606683731079102e-07,-4.880130290985107e-07,2.1792948246002197e-07,-3.725290298461914e-07,6.631016731262207e-07,-4.470348358154297e-08,4.6193599700927734e-07,-6.705522537231445e-08,3.986060619354248e-07,-1.7508864402770996e-07,8.288770914077759e-07,4.991888999938965e-07,-6.332993507385254e-08,3.8743019104003906e-07,4.0605664253234863e-07,2.598389983177185e-07,-1.1622905731201172e-06,-3.501772880554199e-07,9.238719940185547e-07,-5.960464477539063e-08,4.470348358154297e-07,6.258487701416016e-07,1.0,1.1688098311424255e-07,-2.980232238769531e-07,-3.3527612686157227e-08,-5.21540641784668e-07,1.4901161193847656e-08,5.21540641784668e-07,-9.499490261077881e-07,-7.566995918750763e-07,5.029141902923584e-07,6.668269634246826e-07,-2.384185791015625e-07,-7.133930921554565e-07,-6.621703505516052e-07,-9.667128324508667e-07,-1.9185245037078857e-07,-6.966292858123779e-07,4.3213367462158203e-07,-5.21540641784668e-08,-4.954636096954346e-07,-7.133930921554565e-07,-5.280598998069763e-07,-1.0244548320770264e-06,4.284083843231201e-08],[-1.862645149230957e-08,2.3422762751579285e-07,-5.629844963550568e-07,4.33996319770813e-07,2.5192275643348694e-07,3.688037395477295e-07,-5.21540641784668e-08,2.505257725715637e-07,5.308538675308228e-07,2.7474015951156616e-07,2.9709190130233765e-07,-4.172325134277344e-07,8.083879947662354e-07,9.313225746154785e-09,2.551823854446411e-07,-1.2852251529693604e-07,1.6111880540847778e-07,1.4901161193847656e-08,3.6135315895080566e-07,-4.3958425521850586e-07,4.544854164123535e-07,-6.742775440216064e-07,2.384185791015625e-07,-6.332993507385254e-07,-2.682209014892578e-07,-4.842877388000488e-07,1.6391277313232422e-07,1.1688098311424255e-07,1.0000001192092896,2.7939677238464355e-07,1.6391277313232422e-07,-5.21540641784668e-07,-1.341104507446289e-07,9.685754776000977e-08,-1.4156103134155273e-07,-8.903443813323975e-07,-3.9208680391311646e-07,5.21540641784668e-08,-1.1175870895385742e-07,3.0919909477233887e-07,-7.022172212600708e-07,4.2654573917388916e-07,-9.415671229362488e-07,-3.427267074584961e-07,1.0803341865539551e-07,2.9616057872772217e-07,-4.0978193283081055e-07,-6.044283509254456e-07,8.568167686462402e-08,2.738088369369507e-07,4.3213367462158203e-07],[-2.7939677238464355e-09,7.450580596923828e-09,7.636845111846924e-08,-7.264316082000732e-08,-5.4016709327697754e-08,-6.69620931148529e-07,-1.9744038581848145e-07,2.7567148208618164e-07,-7.394701242446899e-07,5.811452865600586e-07,-5.722977221012115e-07,7.245689630508423e-07,3.129243850708008e-07,-4.842877388000488e-08,2.2351741790771484e-07,-4.889443516731262e-08,3.073364496231079e-07,1.1175870895385742e-07,8.568167686462402e-08,1.4528632164001465e-07,-1.1920928955078125e-07,1.1511147022247314e-06,-1.8905848264694214e-07,-3.725290298461914e-08,2.2351741790771484e-07,9.08970832824707e-07,1.080334186553955e-06,-2.980232238769531e-07,2.7939677238464355e-07,0.9999998807907104,2.738088369369507e-07,-5.21540641784668e-07,1.1175870895385742e-07,-1.862645149230957e-06,-4.917383193969727e-07,1.0207295417785645e-06,-1.3783574104309082e-07,1.862645149230957e-09,-7.003545761108398e-07,-4.3213367462158203e-07,-8.940696716308594e-08,2.7939677238464355e-08,3.203749656677246e-07,6.295740604400635e-07,2.7939677238464355e-07,-6.724148988723755e-07,-2.5331974029541016e-07,-6.50063157081604e-07,-6.295740604400635e-07,-1.4901161193847656e-08,-6.92903995513916e-07],[-1.2665987014770508e-07,2.7939677238464355e-08,8.940696716308594e-08,1.1920928955078125e-07,1.1175870895385742e-07,6.332993507385254e-08,2.3795291781425476e-07,-2.1792948246002197e-07,-4.470348358154297e-08,-2.0302832126617432e-07,-1.8998980522155762e-07,-4.842877388000488e-08,-2.3096799850463867e-07,-3.725290298461914e-08,-4.0978193283081055e-07,5.681067705154419e-07,-1.4435499906539917e-07,2.2165477275848389e-07,-3.650784492492676e-07,2.2351741790771484e-07,5.62518835067749e-07,-6.123445928096771e-07,-2.2817403078079224e-07,8.344650268554688e-07,9.685754776000977e-08,1.7136335372924805e-07,1.2814998626708984e-06,-3.3527612686157227e-08,1.6391277313232422e-07,2.738088369369507e-07,1.0,-1.0356307029724121e-06,6.109476089477539e-07,-9.909272193908691e-07,-1.043081283569336e-06,-4.0978193283081055e-08,-5.21540641784668e-07,-4.3492764234542847e-07,-3.6228448152542114e-07,1.1175870895385742e-07,-7.040798664093018e-07,-3.203749656677246e-07,4.163011908531189e-07,2.868473529815674e-07,1.601874828338623e-07,-1.125037670135498e-06,-5.960464477539063e-08,-2.859160304069519e-07,9.685754776000977e-07,-7.413327693939209e-07,2.0116567611694336e-07],[1.0989606380462646e-07,-2.7939677238464355e-07,-2.7008354663848877e-08,-1.043081283569336e-07,-2.2910535335540771e-07,2.039596438407898e-07,3.3993273973464966e-08,2.3748725652694702e-08,-1.0896474123001099e-07,1.9744038581848145e-07,-3.0547380447387695e-07,5.066394805908203e-07,2.1792948246002197e-07,5.587935447692871e-09,5.19677996635437e-07,-1.564621925354004e-07,6.705522537231445e-08,4.44706529378891e-07,2.9243528842926025e-07,-7.82310962677002e-08,5.960464477539063e-08,-3.129243850708008e-07,2.7567148208618164e-07,1.8207356333732605e-07,5.802139639854431e-07,-6.407499313354492e-07,1.1175870895385742e-07,-5.21540641784668e-07,-5.21540641784668e-07,-5.21540641784668e-07,-1.0356307029724121e-06,1.0,-3.022141754627228e-07,1.1920928955078125e-07,1.564621925354004e-07,-2.9802322387695312e-08,7.450580596923828e-08,-7.82310962677002e-08,-2.905726432800293e-07,-6.51925802230835e-07,-4.200264811515808e-07,8.568167686462402e-07,2.2351741790771484e-08,3.259629011154175e-07,9.387731552124023e-07,2.4330802261829376e-07,6.705522537231445e-08,-9.126961231231689e-07,-3.725290298461914e-07,4.1350722312927246e-07,-1.2479722499847412e-06],[-3.2223761081695557e-07,3.2782554626464844e-07,-1.6577541828155518e-07,-8.195638656616211e-08,6.332993507385254e-07,-4.069879651069641e-07,3.91155481338501e-08,-3.348104655742645e-07,-6.118789315223694e-07,-9.12696123123169e-08,-2.7567148208618164e-07,6.891787052154541e-07,-8.307397365570068e-07,3.4831464290618896e-07,3.548339009284973e-07,3.725290298461914e-09,-5.960464477539063e-08,2.6635825634002686e-07,2.998858690261841e-07,4.842877388000488e-07,3.306195139884949e-08,2.60770320892334e-07,-4.824250936508179e-07,1.019798219203949e-06,-2.644956111907959e-07,5.066394805908203e-07,9.462237358093262e-07,1.4901161193847656e-08,-1.341104507446289e-07,1.1175870895385742e-07,6.109476089477539e-07,-3.022141754627228e-07,1.0,-5.21540641784668e-07,-1.1026859283447266e-06,-6.705522537231445e-08,-4.470348358154297e-08,4.2282044887542725e-07,-3.5762786865234375e-07,-6.891787052154541e-08,6.328336894512177e-07,-2.7567148208618164e-07,-1.6763806343078613e-08,4.544854164123535e-07,6.09084963798523e-07,8.195638656616211e-08,5.941838026046753e-07,-1.1958181858062744e-06,-6.854534149169922e-07,-7.82310962677002e-08,6.705522537231445e-08],[-3.166496753692627e-07,-4.12575900554657e-07,-3.166496753692627e-07,3.650784492492676e-07,-1.8440186977386475e-07,2.60770320892334e-08,-2.9243528842926025e-07,6.344635039567947e-07,-1.8998980522155762e-07,1.6763806343078613e-07,1.0803341865539551e-07,2.0489096641540527e-07,1.2852251529693604e-07,2.5704503059387207e-07,3.46451997756958e-07,3.91155481338501e-08,4.675239324569702e-07,-8.195638656616211e-08,1.341104507446289e-07,-3.6135315895080566e-07,-4.936009645462036e-08,-2.551823854446411e-07,8.139759302139282e-07,-7.040798664093018e-07,6.109476089477539e-07,-1.0207295417785645e-06,-2.4959444999694824e-07,5.21540641784668e-07,9.685754776000977e-08,-1.862645149230957e-06,-9.909272193908691e-07,1.1920928955078125e-07,-5.21540641784668e-07,1.0000001192092896,-4.4517219066619873e-07,6.258487701416016e-07,-8.67992639541626e-07,7.152557373046875e-07,3.5762786865234375e-07,6.631016731262207e-07,8.046627044677734e-07,1.7695128917694092e-08,7.255002856254578e-07,-7.525086402893066e-07,2.9802322387695312e-08,3.501772880554199e-07,-8.717179298400879e-07,1.0561197996139526e-06,-2.1047890186309814e-07,1.4826655387878418e-06,1.0505318641662598e-06],[-5.587935447692871e-09,1.73225998878479e-07,2.0489096641540527e-07,-4.516914486885071e-07,-1.9371509552001953e-07,-3.166496753692627e-07,2.0489096641540527e-07,1.2293457984924316e-07,-7.450580596923828e-07,3.0547380447387695e-07,-4.721805453300476e-07,1.0635703802108765e-06,1.1920928955078125e-07,2.7008354663848877e-07,6.891787052154541e-07,-7.534399628639221e-07,6.612390279769897e-07,4.470348358154297e-08,-5.699694156646729e-07,6.742775440216064e-07,-1.1175870895385742e-08,7.078051567077637e-08,5.587935447692871e-09,4.917383193969727e-07,9.834766387939453e-07,-4.507601261138916e-07,1.3578683137893677e-06,-9.499490261077881e-07,-1.4156103134155273e-07,-4.917383193969727e-07,-1.043081283569336e-06,1.564621925354004e-07,-1.1026859283447266e-06,-4.4517219066619873e-07,1.0,2.2351741790771484e-08,7.450580596923828e-07,7.003545761108398e-07,1.1026859283447266e-06,-4.172325134277344e-07,-5.662441253662109e-07,1.9418075680732727e-07,1.2386590242385864e-07,-1.043081283569336e-07,4.5821070671081543e-07,-1.2861564755439758e-06,5.21540641784668e-08,-9.816139936447144e-07,-2.7194619178771973e-07,1.4156103134155273e-06,-1.1585652828216553e-06],[3.725290298461914e-09,1.1175870895385742e-08,-5.62518835067749e-07,3.2689422369003296e-07,-3.939494490623474e-07,6.94766640663147e-07,-1.564621925354004e-07,6.649643182754517e-07,6.901100277900696e-07,-3.073364496231079e-08,7.897615432739258e-07,7.82310962677002e-08,1.695007085800171e-07,-1.4901161193847656e-07,2.998858690261841e-07,-1.862645149230957e-07,5.699694156646729e-07,-5.569308996200562e-07,-1.1734664440155029e-07,-2.8312206268310547e-07,5.960464477539062e-07,-8.456408977508545e-07,4.2654573917388916e-07,-8.884817361831665e-07,-4.032626748085022e-07,-2.0489096641540527e-07,-4.0978193283081055e-07,-7.566995918750763e-07,-8.903443813323975e-07,1.0207295417785645e-06,-4.0978193283081055e-08,-2.9802322387695312e-08,-6.705522537231445e-08,6.258487701416016e-07,2.2351741790771484e-08,0.9999999403953552,1.6437843441963196e-07,5.960464477539063e-08,-8.568167686462402e-08,-4.76837158203125e-07,3.501772880554199e-07,-6.109476089477539e-07,-7.413327693939209e-07,-5.885958671569824e-07,-7.37607479095459e-07,3.7997961044311523e-07,-2.980232238769531e-07,8.689239621162415e-07,3.5762786865234375e-07,-4.4330954551696777e-07,0.0],[5.038455128669739e-07,-2.7008354663848877e-07,-9.220093488693237e-08,-1.862645149230957e-08,-1.5832483768463135e-07,-1.3224780559539795e-07,-3.91155481338501e-07,2.60770320892334e-08,-3.5390257835388184e-07,-1.0803341865539551e-07,1.7508864402770996e-07,-3.818422555923462e-08,-9.499490261077881e-07,3.781169652938843e-07,-1.6391277313232422e-07,4.3585896492004395e-07,9.313225746154785e-08,-1.7508864402770996e-07,8.456408977508545e-07,1.7136335372924805e-07,-3.948807716369629e-07,1.8440186977386475e-07,1.210719347000122e-07,8.940696716308594e-08,8.633360266685486e-07,-5.587935447692871e-07,-2.682209014892578e-07,5.029141902923584e-07,-3.9208680391311646e-07,-1.3783574104309082e-07,-5.21540641784668e-07,7.450580596923828e-08,-4.470348358154297e-08,-8.67992639541626e-07,7.450580596923828e-07,1.6437843441963196e-07,1.0,4.172325134277344e-07,-6.407499313354492e-07,3.948807716369629e-07,2.682209014892578e-07,1.4528632164001465e-07,9.98377799987793e-07,-3.6135315895080566e-07,1.0579824447631836e-06,6.705522537231445e-08,-2.2724270820617676e-07,7.068738341331482e-07,-8.242204785346985e-07,5.178153514862061e-07,8.940696716308594e-07],[-4.530884325504303e-07,3.3248215913772583e-07,-6.351619958877563e-07,5.993060767650604e-07,-7.189810276031494e-07,1.1771917343139648e-06,3.175809979438782e-07,2.0489096641540527e-08,1.0067597031593323e-06,-2.3853499442338943e-07,-2.561137080192566e-08,-6.468035280704498e-07,-4.928442649543285e-07,6.966292858123779e-07,-3.26777808368206e-07,3.1478703022003174e-07,1.3597309589385986e-07,1.2852251529693604e-07,4.0512531995773315e-07,-5.201436579227448e-07,2.9569491744041443e-07,-7.878988981246948e-07,-1.6391277313232422e-07,4.896428436040878e-07,-9.164214134216309e-07,9.338837116956711e-07,4.470348358154297e-08,6.668269634246826e-07,5.21540641784668e-08,1.862645149230957e-09,-4.3492764234542847e-07,-7.82310962677002e-08,4.2282044887542725e-07,7.152557373046875e-07,7.003545761108398e-07,5.960464477539063e-08,4.172325134277344e-07,1.0,-8.660135790705681e-07,1.7881393432617188e-07,-1.862645149230957e-07,-7.301568984985352e-07,-4.3213367462158203e-07,6.258487701416016e-07,-7.972121238708496e-07,5.252659320831299e-07,8.409842848777771e-07,-1.601874828338623e-06,-5.960464477539063e-08,2.062879502773285e-07,2.9802322387695312e-08],[-1.838925527408719e-07,-5.140900611877441e-07,2.5890767574310303e-07,4.731118679046631e-07,-4.0046870708465576e-07,2.1606683731079102e-07,-3.632158041000366e-07,5.2619725465774536e-08,-4.041939973831177e-07,3.8929283618927e-07,1.7136335372924805e-07,2.4260953068733215e-07,1.2665987014770508e-07,-2.1583400666713715e-07,-2.7939677238464355e-08,3.0547380447387695e-07,-3.725290298461914e-07,7.655471563339233e-07,4.4889748096466064e-07,1.564621925354004e-07,8.512288331985474e-07,5.21540641784668e-08,1.7136335372924805e-07,-4.908069968223572e-07,6.66128471493721e-07,-4.991888999938965e-07,5.345791578292847e-07,-2.384185791015625e-07,-1.1175870895385742e-07,-7.003545761108398e-07,-3.6228448152542114e-07,-2.905726432800293e-07,-3.5762786865234375e-07,3.5762786865234375e-07,1.1026859283447266e-06,-8.568167686462402e-08,-6.407499313354492e-07,-8.660135790705681e-07,1.0,-4.76837158203125e-07,5.960464477539063e-08,-2.8312206268310547e-07,-7.152557373046875e-07,-1.516193151473999e-06,1.0095536708831787e-06,1.30385160446167e-07,-1.1567026376724243e-06,-1.1324882507324219e-06,9.401701390743256e-07,-3.390014171600342e-07,-1.7851998563855886e-06],[-6.7148357629776e-07,1.601874828338623e-07,-3.8370490074157715e-07,5.401670932769775e-07,1.0244548320770264e-07,2.980232238769531e-07,1.9744038581848145e-07,6.295740604400635e-07,-9.313225746154785e-08,-1.5273690223693848e-07,5.85801899433136e-07,7.320195436477661e-07,7.003545761108398e-07,-6.09084963798523e-07,1.7695128917694092e-08,-3.441236913204193e-07,2.3795291781425476e-07,7.450580596923828e-09,-1.5273690223693848e-07,-3.8929283618927e-07,-2.1606683731079102e-07,3.818422555923462e-08,-1.7136335372924805e-07,2.2351741790771484e-07,-7.152557373046875e-07,1.3606622815132141e-06,3.4458935260772705e-07,-7.133930921554565e-07,3.0919909477233887e-07,-4.3213367462158203e-07,1.1175870895385742e-07,-6.51925802230835e-07,-6.891787052154541e-08,6.631016731262207e-07,-4.172325134277344e-07,-4.76837158203125e-07,3.948807716369629e-07,1.7881393432617188e-07,-4.76837158203125e-07,1.0,-1.1473894119262695e-06,-2.8312206268310547e-07,-1.0058283805847168e-07,1.4007091522216797e-06,-6.258487701416016e-07,-2.4586915969848633e-07,-5.364418029785156e-07,1.8365681171417236e-06,-1.210719347000122e-07,-2.3096799850463867e-07,1.1324882507324219e-06],[-3.7776771932840347e-07,3.8370490074157715e-07,-4.973262548446655e-07,2.0302832126617432e-07,2.1047890186309814e-07,4.3585896492004395e-07,-7.171183824539185e-08,1.4901161193847656e-08,-3.3527612686157227e-07,6.444752216339111e-07,-4.414469003677368e-07,2.4493783712387085e-07,6.332993507385254e-07,-1.8067657947540283e-07,9.685754776000977e-08,5.825422704219818e-07,-3.073364496231079e-08,6.92903995513916e-07,6.258487701416016e-07,2.5704503059387207e-07,5.550682544708252e-07,-1.0933727025985718e-06,6.202608346939087e-07,-3.427267074584961e-07,8.530914783477783e-07,-3.0547380447387695e-07,3.9674341678619385e-07,-6.621703505516052e-07,-7.022172212600708e-07,-8.940696716308594e-08,-7.040798664093018e-07,-4.200264811515808e-07,6.328336894512177e-07,8.046627044677734e-07,-5.662441253662109e-07,3.501772880554199e-07,2.682209014892578e-07,-1.862645149230957e-07,5.960464477539063e-08,-1.1473894119262695e-06,0.9999999403953552,-1.0132789611816406e-06,-2.682209014892578e-07,4.470348358154297e-07,-5.960464477539062e-07,-6.966292858123779e-07,5.21540641784668e-07,-3.073364496231079e-07,-1.4333054423332214e-06,9.462237358093262e-07,1.0542571544647217e-06],[-4.3585896492004395e-07,5.848705768585205e-07,3.818422555923462e-07,-3.650784492492676e-07,6.789341568946838e-07,-1.9744038581848145e-07,-1.341104507446289e-07,-1.9138678908348083e-07,-3.650784492492676e-07,4.6566128730773926e-08,2.5890767574310303e-07,7.82310962677002e-08,-2.7474015951156616e-07,6.705522537231445e-07,5.317851901054382e-07,-7.040798664093018e-07,1.4044344425201416e-06,-9.248033165931702e-07,-7.078051567077637e-07,-1.5273690223693848e-07,-5.401670932769775e-07,7.450580596923828e-09,7.478520274162292e-07,2.5331974029541016e-07,-1.8998980522155762e-07,-2.3469328880310059e-07,-5.289912223815918e-07,-9.667128324508667e-07,4.2654573917388916e-07,2.7939677238464355e-08,-3.203749656677246e-07,8.568167686462402e-07,-2.7567148208618164e-07,1.7695128917694092e-08,1.9418075680732727e-07,-6.109476089477539e-07,1.4528632164001465e-07,-7.301568984985352e-07,-2.8312206268310547e-07,-2.8312206268310547e-07,-1.0132789611816406e-06,1.0,-9.313225746154785e-09,-3.129243850708008e-07,-5.364418029785156e-07,1.0579824447631836e-06,5.513429641723633e-07,-2.3096799850463867e-07,-4.3585896492004395e-07,-4.842877388000488e-08,-5.811452865600586e-07],[-1.0654330253601074e-06,1.2665987014770508e-06,-3.501772880554199e-07,2.528540790081024e-07,5.960464477539062e-07,-1.7415732145309448e-07,1.1548399925231934e-07,5.774199962615967e-07,9.12696123123169e-08,1.5832483768463135e-07,-1.6577541828155518e-07,1.0989606380462646e-07,-2.1979212760925293e-07,3.390014171600342e-07,-4.1350722312927246e-07,4.731118679046631e-07,5.681067705154419e-07,-5.029141902923584e-08,1.0021030902862549e-06,-8.437782526016235e-07,-7.82310962677002e-08,-5.029141902923584e-08,3.3527612686157227e-08,2.942979335784912e-07,1.7695128917694092e-08,-3.390014171600342e-07,-2.9802322387695312e-08,-1.9185245037078857e-07,-9.415671229362488e-07,3.203749656677246e-07,4.163011908531189e-07,2.2351741790771484e-08,-1.6763806343078613e-08,7.255002856254578e-07,1.2386590242385864e-07,-7.413327693939209e-07,9.98377799987793e-07,-4.3213367462158203e-07,-7.152557373046875e-07,-1.0058283805847168e-07,-2.682209014892578e-07,-9.313225746154785e-09,1.0,1.4901161193847656e-07,2.8312206268310547e-07,-1.4156103134155273e-07,2.2351741790771484e-07,-9.462237358093262e-07,-4.991888999938965e-07,-2.4586915969848633e-07,-1.4901161193847656e-08],[7.636845111846924e-08,5.4016709327697754e-08,2.0116567611694336e-07,-1.1920928955078125e-07,1.471489667892456e-07,-1.1138617992401123e-06,-1.0943040251731873e-07,8.977949619293213e-07,-6.891787052154541e-07,1.0803341865539551e-07,4.973262548446655e-07,2.3469328880310059e-07,4.130415618419647e-07,-1.0617077350616455e-07,1.8812716007232666e-07,-6.332993507385254e-08,2.942979335784912e-07,-3.46451997756958e-07,-1.0896474123001099e-07,-4.854518920183182e-07,2.2118911147117615e-07,-1.4901161193847656e-07,-5.774199962615967e-07,-3.855675458908081e-07,-6.444752216339111e-07,1.3783574104309082e-07,-2.942979335784912e-07,-6.966292858123779e-07,-3.427267074584961e-07,6.295740604400635e-07,2.868473529815674e-07,3.259629011154175e-07,4.544854164123535e-07,-7.525086402893066e-07,-1.043081283569336e-07,-5.885958671569824e-07,-3.6135315895080566e-07,6.258487701416016e-07,-1.516193151473999e-06,1.4007091522216797e-06,4.470348358154297e-07,-3.129243850708008e-07,1.4901161193847656e-07,1.0,-1.862645149230957e-07,9.08970832824707e-07,1.1920928955078125e-07,-2.9802322387695312e-08,4.023313522338867e-07,-2.8312206268310547e-07,-6.780028343200684e-07],[-2.39349901676178e-07,-2.2351741790771484e-08,-3.166496753692627e-08,7.525086402893066e-07,1.3783574104309082e-07,-7.385388016700745e-07,7.404014468193054e-07,-1.341104507446289e-07,-7.827766239643097e-07,3.762543201446533e-07,9.313225746154785e-08,1.2665987014770508e-07,2.0256265997886658e-07,-2.514570951461792e-08,3.4854747354984283e-07,-3.259629011154175e-07,8.940696716308594e-08,-7.255002856254578e-07,-8.288770914077759e-08,-6.891787052154541e-08,1.501757651567459e-07,-3.241002559661865e-07,-5.364418029785156e-07,8.083879947662354e-07,-4.5821070671081543e-07,3.259629011154175e-07,1.6391277313232422e-07,4.3213367462158203e-07,1.0803341865539551e-07,2.7939677238464355e-07,1.601874828338623e-07,9.387731552124023e-07,6.09084963798523e-07,2.9802322387695312e-08,4.5821070671081543e-07,-7.37607479095459e-07,1.0579824447631836e-06,-7.972121238708496e-07,1.0095536708831787e-06,-6.258487701416016e-07,-5.960464477539062e-07,-5.364418029785156e-07,2.8312206268310547e-07,-1.862645149230957e-07,1.0,2.2351741790771484e-07,-1.1920928955078125e-07,-9.611248970031738e-07,4.470348358154297e-08,-1.1175870895385742e-07,-7.934868335723877e-07],[4.7171488404273987e-07,-3.91155481338501e-07,6.221234798431396e-07,-8.00006091594696e-07,-2.738088369369507e-07,1.9185245037078857e-07,-1.8952414393424988e-07,-1.7508864402770996e-07,-5.112960934638977e-07,6.649643182754517e-07,4.4517219066619873e-07,-9.350478649139404e-07,9.611248970031738e-07,-1.0039657354354858e-06,-6.332993507385254e-07,-2.8032809495925903e-07,-4.116445779800415e-07,2.2724270820617676e-07,-7.748603820800781e-07,6.332993507385254e-07,-5.792826414108276e-07,5.243346095085144e-07,1.0803341865539551e-07,-3.5762786865234375e-07,-4.7497451305389404e-07,9.872019290924072e-08,-2.421438694000244e-07,-5.21540641784668e-08,2.9616057872772217e-07,-6.724148988723755e-07,-1.125037670135498e-06,2.4330802261829376e-07,8.195638656616211e-08,3.501772880554199e-07,-1.2861564755439758e-06,3.7997961044311523e-07,6.705522537231445e-08,5.252659320831299e-07,1.30385160446167e-07,-2.4586915969848633e-07,-6.966292858123779e-07,1.0579824447631836e-06,-1.4156103134155273e-07,9.08970832824707e-07,2.2351741790771484e-07,0.9999998807907104,4.3213367462158203e-07,2.5331974029541016e-07,-2.4959444999694824e-07,3.8743019104003906e-07,-5.960464477539063e-08],[3.380700945854187e-07,-4.842877388000488e-07,-1.1175870895385742e-06,6.724148988723755e-07,-5.476176738739014e-07,5.690380930900574e-07,-2.3096799850463867e-07,6.631016731262207e-07,5.401670932769775e-07,3.390014171600342e-07,2.738088369369507e-07,5.681067705154419e-07,1.173466444015503e-06,-4.3213367462158203e-07,4.284083843231201e-07,-5.783513188362122e-07,1.955777406692505e-08,-8.847564458847046e-07,-9.313225746154785e-08,5.997717380523682e-07,-9.350478649139404e-07,3.781169652938843e-07,2.3655593395233154e-07,-4.6566128730773926e-08,5.103647708892822e-07,5.438923835754395e-07,5.569308996200562e-07,-4.954636096954346e-07,-4.0978193283081055e-07,-2.5331974029541016e-07,-5.960464477539063e-08,6.705522537231445e-08,5.941838026046753e-07,-8.717179298400879e-07,5.21540641784668e-08,-2.980232238769531e-07,-2.2724270820617676e-07,8.409842848777771e-07,-1.1567026376724243e-06,-5.364418029785156e-07,5.21540641784668e-07,5.513429641723633e-07,2.2351741790771484e-07,1.1920928955078125e-07,-1.1920928955078125e-07,4.3213367462158203e-07,1.0,-6.742775440216064e-07,-4.172325134277344e-07,-1.1920928955078125e-07,-5.960464477539062e-07],[9.406358003616333e-07,-4.055909812450409e-07,6.989575922489166e-07,-3.725290298461914e-07,6.332993507385254e-07,-9.331852197647095e-07,7.469207048416138e-07,2.253800630569458e-07,6.579793989658356e-07,-1.3695098459720612e-06,5.848705768585205e-07,-9.331852197647095e-07,5.3551048040390015e-08,-1.3504177331924438e-07,-2.2258609533309937e-07,-5.615875124931335e-07,-7.767230272293091e-07,2.4866312742233276e-07,7.841736078262329e-07,-9.201467037200928e-07,-1.8812716007232666e-07,-3.650784492492676e-07,-8.67992639541626e-07,-4.3585896492004395e-07,9.94652509689331e-07,-1.2479722499847412e-06,-3.762543201446533e-07,-7.133930921554565e-07,-6.044283509254456e-07,-6.50063157081604e-07,-2.859160304069519e-07,-9.126961231231689e-07,-1.1958181858062744e-06,1.0561197996139526e-06,-9.816139936447144e-07,8.689239621162415e-07,7.068738341331482e-07,-1.601874828338623e-06,-1.1324882507324219e-06,1.8365681171417236e-06,-3.073364496231079e-07,-2.3096799850463867e-07,-9.462237358093262e-07,-2.9802322387695312e-08,-9.611248970031738e-07,2.5331974029541016e-07,-6.742775440216064e-07,0.9999999403953552,-2.5331974029541016e-07,9.238719940185547e-07,-3.5762786865234375e-07],[-1.862645149230957e-07,-8.335337042808533e-07,8.968636393547058e-07,-7.869675755500793e-07,-1.6801059246063232e-06,7.37607479095459e-07,-6.51925802230835e-07,1.128530129790306e-06,-3.3457763493061066e-07,9.667128324508667e-07,8.498318493366241e-07,-3.3527612686157227e-08,1.3345852494239807e-06,-5.010515451431274e-07,-9.033828973770142e-08,4.0046870708465576e-08,1.0151416063308716e-07,-6.48200511932373e-07,-6.034970283508301e-07,2.7939677238464355e-07,-6.51925802230835e-07,1.4901161193847656e-07,1.7136335372924805e-07,1.3005919754505157e-06,-9.406358003616333e-08,-4.190951585769653e-08,2.2351741790771484e-08,-5.280598998069763e-07,8.568167686462402e-08,-6.295740604400635e-07,9.685754776000977e-07,-3.725290298461914e-07,-6.854534149169922e-07,-2.1047890186309814e-07,-2.7194619178771973e-07,3.5762786865234375e-07,-8.242204785346985e-07,-5.960464477539063e-08,9.401701390743256e-07,-1.210719347000122e-07,-1.4333054423332214e-06,-4.3585896492004395e-07,-4.991888999938965e-07,4.023313522338867e-07,4.470348358154297e-08,-2.4959444999694824e-07,-4.172325134277344e-07,-2.5331974029541016e-07,1.0000001192092896,-6.258487701416016e-07,-6.407499313354492e-07],[-3.543682396411896e-07,-1.5832483768463135e-07,-1.3224780559539795e-07,7.82310962677002e-08,1.5087425708770752e-07,1.210719347000122e-07,4.2282044887542725e-07,-7.878988981246948e-07,4.6566128730773926e-07,-4.6566128730773926e-07,-1.7881393432617188e-07,-8.050701580941677e-07,-9.043142199516296e-07,-4.936009645462036e-07,-9.313225746154785e-07,8.996576070785522e-07,-1.8440186977386475e-06,1.1576339602470398e-06,-1.6577541828155518e-06,1.516193151473999e-06,-4.284083843231201e-08,8.605420589447021e-07,3.1851232051849365e-07,1.6819685697555542e-06,1.0263174772262573e-06,3.511086106300354e-07,1.8317950889468193e-06,-1.0244548320770264e-06,2.738088369369507e-07,-1.4901161193847656e-08,-7.413327693939209e-07,4.1350722312927246e-07,-7.82310962677002e-08,1.4826655387878418e-06,1.4156103134155273e-06,-4.4330954551696777e-07,5.178153514862061e-07,2.062879502773285e-07,-3.390014171600342e-07,-2.3096799850463867e-07,9.462237358093262e-07,-4.842877388000488e-08,-2.4586915969848633e-07,-2.8312206268310547e-07,-1.1175870895385742e-07,3.8743019104003906e-07,-1.1920928955078125e-07,9.238719940185547e-07,-6.258487701416016e-07,1.0,-5.662441253662109e-07],[-2.1979212760925293e-07,-3.8370490074157715e-07,1.7136335372924805e-07,9.872019290924072e-08,5.587935447692871e-08,-9.872019290924072e-08,-7.82310962677002e-08,3.725290298461914e-07,-3.6135315895080566e-07,1.7508864402770996e-07,9.257346391677856e-07,1.8466380424797535e-07,-1.0833609849214554e-06,-1.0058283805847168e-07,1.6726553440093994e-06,8.731149137020111e-07,-6.835907697677612e-07,-1.0468065738677979e-06,8.931383490562439e-07,-7.743947207927704e-07,-6.570480763912201e-07,4.870817065238953e-07,4.3958425521850586e-07,-1.0496005415916443e-06,7.227063179016113e-07,1.201042323373258e-07,-1.4668330550193787e-06,4.284083843231201e-08,4.3213367462158203e-07,-6.92903995513916e-07,2.0116567611694336e-07,-1.2479722499847412e-06,6.705522537231445e-08,1.0505318641662598e-06,-1.1585652828216553e-06,0.0,8.940696716308594e-07,2.9802322387695312e-08,-1.7851998563855886e-06,1.1324882507324219e-06,1.0542571544647217e-06,-5.811452865600586e-07,-1.4901161193847656e-08,-6.780028343200684e-07,-7.934868335723877e-07,-5.960464477539063e-08,-5.960464477539062e-07,-3.5762786865234375e-07,-6.407499313354492e-07,-5.662441253662109e-07,0.9999998807907104]],\"type\":\"heatmap\",\"xaxis\":\"x\",\"yaxis\":\"y\",\"hovertemplate\":\"x: %{x}\\u003cbr\\u003ey: %{y}\\u003cbr\\u003ecolor: %{z}\\u003cextra\\u003e\\u003c\\u002fextra\\u003e\"}],                        {\"template\":{\"data\":{\"histogram2dcontour\":[{\"type\":\"histogram2dcontour\",\"colorbar\":{\"outlinewidth\":0,\"ticks\":\"\"},\"colorscale\":[[0.0,\"#0d0887\"],[0.1111111111111111,\"#46039f\"],[0.2222222222222222,\"#7201a8\"],[0.3333333333333333,\"#9c179e\"],[0.4444444444444444,\"#bd3786\"],[0.5555555555555556,\"#d8576b\"],[0.6666666666666666,\"#ed7953\"],[0.7777777777777778,\"#fb9f3a\"],[0.8888888888888888,\"#fdca26\"],[1.0,\"#f0f921\"]]}],\"choropleth\":[{\"type\":\"choropleth\",\"colorbar\":{\"outlinewidth\":0,\"ticks\":\"\"}}],\"histogram2d\":[{\"type\":\"histogram2d\",\"colorbar\":{\"outlinewidth\":0,\"ticks\":\"\"},\"colorscale\":[[0.0,\"#0d0887\"],[0.1111111111111111,\"#46039f\"],[0.2222222222222222,\"#7201a8\"],[0.3333333333333333,\"#9c179e\"],[0.4444444444444444,\"#bd3786\"],[0.5555555555555556,\"#d8576b\"],[0.6666666666666666,\"#ed7953\"],[0.7777777777777778,\"#fb9f3a\"],[0.8888888888888888,\"#fdca26\"],[1.0,\"#f0f921\"]]}],\"heatmap\":[{\"type\":\"heatmap\",\"colorbar\":{\"outlinewidth\":0,\"ticks\":\"\"},\"colorscale\":[[0.0,\"#0d0887\"],[0.1111111111111111,\"#46039f\"],[0.2222222222222222,\"#7201a8\"],[0.3333333333333333,\"#9c179e\"],[0.4444444444444444,\"#bd3786\"],[0.5555555555555556,\"#d8576b\"],[0.6666666666666666,\"#ed7953\"],[0.7777777777777778,\"#fb9f3a\"],[0.8888888888888888,\"#fdca26\"],[1.0,\"#f0f921\"]]}],\"heatmapgl\":[{\"type\":\"heatmapgl\",\"colorbar\":{\"outlinewidth\":0,\"ticks\":\"\"},\"colorscale\":[[0.0,\"#0d0887\"],[0.1111111111111111,\"#46039f\"],[0.2222222222222222,\"#7201a8\"],[0.3333333333333333,\"#9c179e\"],[0.4444444444444444,\"#bd3786\"],[0.5555555555555556,\"#d8576b\"],[0.6666666666666666,\"#ed7953\"],[0.7777777777777778,\"#fb9f3a\"],[0.8888888888888888,\"#fdca26\"],[1.0,\"#f0f921\"]]}],\"contourcarpet\":[{\"type\":\"contourcarpet\",\"colorbar\":{\"outlinewidth\":0,\"ticks\":\"\"}}],\"contour\":[{\"type\":\"contour\",\"colorbar\":{\"outlinewidth\":0,\"ticks\":\"\"},\"colorscale\":[[0.0,\"#0d0887\"],[0.1111111111111111,\"#46039f\"],[0.2222222222222222,\"#7201a8\"],[0.3333333333333333,\"#9c179e\"],[0.4444444444444444,\"#bd3786\"],[0.5555555555555556,\"#d8576b\"],[0.6666666666666666,\"#ed7953\"],[0.7777777777777778,\"#fb9f3a\"],[0.8888888888888888,\"#fdca26\"],[1.0,\"#f0f921\"]]}],\"surface\":[{\"type\":\"surface\",\"colorbar\":{\"outlinewidth\":0,\"ticks\":\"\"},\"colorscale\":[[0.0,\"#0d0887\"],[0.1111111111111111,\"#46039f\"],[0.2222222222222222,\"#7201a8\"],[0.3333333333333333,\"#9c179e\"],[0.4444444444444444,\"#bd3786\"],[0.5555555555555556,\"#d8576b\"],[0.6666666666666666,\"#ed7953\"],[0.7777777777777778,\"#fb9f3a\"],[0.8888888888888888,\"#fdca26\"],[1.0,\"#f0f921\"]]}],\"mesh3d\":[{\"type\":\"mesh3d\",\"colorbar\":{\"outlinewidth\":0,\"ticks\":\"\"}}],\"scatter\":[{\"fillpattern\":{\"fillmode\":\"overlay\",\"size\":10,\"solidity\":0.2},\"type\":\"scatter\"}],\"parcoords\":[{\"type\":\"parcoords\",\"line\":{\"colorbar\":{\"outlinewidth\":0,\"ticks\":\"\"}}}],\"scatterpolargl\":[{\"type\":\"scatterpolargl\",\"marker\":{\"colorbar\":{\"outlinewidth\":0,\"ticks\":\"\"}}}],\"bar\":[{\"error_x\":{\"color\":\"#2a3f5f\"},\"error_y\":{\"color\":\"#2a3f5f\"},\"marker\":{\"line\":{\"color\":\"#E5ECF6\",\"width\":0.5},\"pattern\":{\"fillmode\":\"overlay\",\"size\":10,\"solidity\":0.2}},\"type\":\"bar\"}],\"scattergeo\":[{\"type\":\"scattergeo\",\"marker\":{\"colorbar\":{\"outlinewidth\":0,\"ticks\":\"\"}}}],\"scatterpolar\":[{\"type\":\"scatterpolar\",\"marker\":{\"colorbar\":{\"outlinewidth\":0,\"ticks\":\"\"}}}],\"histogram\":[{\"marker\":{\"pattern\":{\"fillmode\":\"overlay\",\"size\":10,\"solidity\":0.2}},\"type\":\"histogram\"}],\"scattergl\":[{\"type\":\"scattergl\",\"marker\":{\"colorbar\":{\"outlinewidth\":0,\"ticks\":\"\"}}}],\"scatter3d\":[{\"type\":\"scatter3d\",\"line\":{\"colorbar\":{\"outlinewidth\":0,\"ticks\":\"\"}},\"marker\":{\"colorbar\":{\"outlinewidth\":0,\"ticks\":\"\"}}}],\"scattermapbox\":[{\"type\":\"scattermapbox\",\"marker\":{\"colorbar\":{\"outlinewidth\":0,\"ticks\":\"\"}}}],\"scatterternary\":[{\"type\":\"scatterternary\",\"marker\":{\"colorbar\":{\"outlinewidth\":0,\"ticks\":\"\"}}}],\"scattercarpet\":[{\"type\":\"scattercarpet\",\"marker\":{\"colorbar\":{\"outlinewidth\":0,\"ticks\":\"\"}}}],\"carpet\":[{\"aaxis\":{\"endlinecolor\":\"#2a3f5f\",\"gridcolor\":\"white\",\"linecolor\":\"white\",\"minorgridcolor\":\"white\",\"startlinecolor\":\"#2a3f5f\"},\"baxis\":{\"endlinecolor\":\"#2a3f5f\",\"gridcolor\":\"white\",\"linecolor\":\"white\",\"minorgridcolor\":\"white\",\"startlinecolor\":\"#2a3f5f\"},\"type\":\"carpet\"}],\"table\":[{\"cells\":{\"fill\":{\"color\":\"#EBF0F8\"},\"line\":{\"color\":\"white\"}},\"header\":{\"fill\":{\"color\":\"#C8D4E3\"},\"line\":{\"color\":\"white\"}},\"type\":\"table\"}],\"barpolar\":[{\"marker\":{\"line\":{\"color\":\"#E5ECF6\",\"width\":0.5},\"pattern\":{\"fillmode\":\"overlay\",\"size\":10,\"solidity\":0.2}},\"type\":\"barpolar\"}],\"pie\":[{\"automargin\":true,\"type\":\"pie\"}]},\"layout\":{\"autotypenumbers\":\"strict\",\"colorway\":[\"#636efa\",\"#EF553B\",\"#00cc96\",\"#ab63fa\",\"#FFA15A\",\"#19d3f3\",\"#FF6692\",\"#B6E880\",\"#FF97FF\",\"#FECB52\"],\"font\":{\"color\":\"#2a3f5f\"},\"hovermode\":\"closest\",\"hoverlabel\":{\"align\":\"left\"},\"paper_bgcolor\":\"white\",\"plot_bgcolor\":\"#E5ECF6\",\"polar\":{\"bgcolor\":\"#E5ECF6\",\"angularaxis\":{\"gridcolor\":\"white\",\"linecolor\":\"white\",\"ticks\":\"\"},\"radialaxis\":{\"gridcolor\":\"white\",\"linecolor\":\"white\",\"ticks\":\"\"}},\"ternary\":{\"bgcolor\":\"#E5ECF6\",\"aaxis\":{\"gridcolor\":\"white\",\"linecolor\":\"white\",\"ticks\":\"\"},\"baxis\":{\"gridcolor\":\"white\",\"linecolor\":\"white\",\"ticks\":\"\"},\"caxis\":{\"gridcolor\":\"white\",\"linecolor\":\"white\",\"ticks\":\"\"}},\"coloraxis\":{\"colorbar\":{\"outlinewidth\":0,\"ticks\":\"\"}},\"colorscale\":{\"sequential\":[[0.0,\"#0d0887\"],[0.1111111111111111,\"#46039f\"],[0.2222222222222222,\"#7201a8\"],[0.3333333333333333,\"#9c179e\"],[0.4444444444444444,\"#bd3786\"],[0.5555555555555556,\"#d8576b\"],[0.6666666666666666,\"#ed7953\"],[0.7777777777777778,\"#fb9f3a\"],[0.8888888888888888,\"#fdca26\"],[1.0,\"#f0f921\"]],\"sequentialminus\":[[0.0,\"#0d0887\"],[0.1111111111111111,\"#46039f\"],[0.2222222222222222,\"#7201a8\"],[0.3333333333333333,\"#9c179e\"],[0.4444444444444444,\"#bd3786\"],[0.5555555555555556,\"#d8576b\"],[0.6666666666666666,\"#ed7953\"],[0.7777777777777778,\"#fb9f3a\"],[0.8888888888888888,\"#fdca26\"],[1.0,\"#f0f921\"]],\"diverging\":[[0,\"#8e0152\"],[0.1,\"#c51b7d\"],[0.2,\"#de77ae\"],[0.3,\"#f1b6da\"],[0.4,\"#fde0ef\"],[0.5,\"#f7f7f7\"],[0.6,\"#e6f5d0\"],[0.7,\"#b8e186\"],[0.8,\"#7fbc41\"],[0.9,\"#4d9221\"],[1,\"#276419\"]]},\"xaxis\":{\"gridcolor\":\"white\",\"linecolor\":\"white\",\"ticks\":\"\",\"title\":{\"standoff\":15,\"font\":{\"size\":20}},\"zerolinecolor\":\"white\",\"automargin\":true,\"zerolinewidth\":2},\"yaxis\":{\"gridcolor\":\"white\",\"linecolor\":\"white\",\"ticks\":\"\",\"title\":{\"standoff\":15,\"font\":{\"size\":20}},\"zerolinecolor\":\"white\",\"automargin\":true,\"zerolinewidth\":2},\"scene\":{\"xaxis\":{\"backgroundcolor\":\"#E5ECF6\",\"gridcolor\":\"white\",\"linecolor\":\"white\",\"showbackground\":true,\"ticks\":\"\",\"zerolinecolor\":\"white\",\"gridwidth\":2},\"yaxis\":{\"backgroundcolor\":\"#E5ECF6\",\"gridcolor\":\"white\",\"linecolor\":\"white\",\"showbackground\":true,\"ticks\":\"\",\"zerolinecolor\":\"white\",\"gridwidth\":2},\"zaxis\":{\"backgroundcolor\":\"#E5ECF6\",\"gridcolor\":\"white\",\"linecolor\":\"white\",\"showbackground\":true,\"ticks\":\"\",\"zerolinecolor\":\"white\",\"gridwidth\":2}},\"shapedefaults\":{\"line\":{\"color\":\"#2a3f5f\"}},\"annotationdefaults\":{\"arrowcolor\":\"#2a3f5f\",\"arrowhead\":0,\"arrowwidth\":1},\"geo\":{\"bgcolor\":\"white\",\"landcolor\":\"#E5ECF6\",\"subunitcolor\":\"white\",\"showland\":true,\"showlakes\":true,\"lakecolor\":\"white\"},\"title\":{\"x\":0.05,\"font\":{\"size\":30}},\"mapbox\":{\"style\":\"light\"}}},\"xaxis\":{\"anchor\":\"y\",\"domain\":[0.0,1.0],\"scaleanchor\":\"y\",\"constrain\":\"domain\"},\"yaxis\":{\"anchor\":\"x\",\"domain\":[0.0,1.0],\"autorange\":\"reversed\",\"constrain\":\"domain\"},\"coloraxis\":{\"colorscale\":[[0.0,\"rgb(103,0,31)\"],[0.1,\"rgb(178,24,43)\"],[0.2,\"rgb(214,96,77)\"],[0.3,\"rgb(244,165,130)\"],[0.4,\"rgb(253,219,199)\"],[0.5,\"rgb(247,247,247)\"],[0.6,\"rgb(209,229,240)\"],[0.7,\"rgb(146,197,222)\"],[0.8,\"rgb(67,147,195)\"],[0.9,\"rgb(33,102,172)\"],[1.0,\"rgb(5,48,97)\"]],\"cmid\":0.0},\"title\":{\"text\":\"All Fourier Vectors are Orthogonal\"}},                        {\"responsive\": true}                    ).then(function(){\n",
              "                            \n",
              "var gd = document.getElementById('34951552-38f1-4b9d-985a-d37fa309b6d2');\n",
              "var x = new MutationObserver(function (mutations, observer) {{\n",
              "        var display = window.getComputedStyle(gd).display;\n",
              "        if (!display || display === 'none') {{\n",
              "            console.log([gd, 'removed!']);\n",
              "            Plotly.purge(gd);\n",
              "            observer.disconnect();\n",
              "        }}\n",
              "}});\n",
              "\n",
              "// Listen for the removal of the full notebook cells\n",
              "var notebookContainer = gd.closest('#notebook-container');\n",
              "if (notebookContainer) {{\n",
              "    x.observe(notebookContainer, {childList: true});\n",
              "}}\n",
              "\n",
              "// Listen for the clearing of the current output cell\n",
              "var outputEl = gd.closest('.output');\n",
              "if (outputEl) {{\n",
              "    x.observe(outputEl, {childList: true});\n",
              "}}\n",
              "\n",
              "                        })                };                            </script>        </div>\n",
              "</body>\n",
              "</html>"
            ]
          },
          "metadata": {}
        }
      ],
      "source": [
        "imshow(fourier_basis @ fourier_basis.T, title=\"All Fourier Vectors are Orthogonal\")"
      ]
    },
    {
      "cell_type": "markdown",
      "metadata": {
        "id": "FYgYx7X0QTaU"
      },
      "source": [
        "### Analyse the Embedding"
      ]
    },
    {
      "cell_type": "code",
      "execution_count": null,
      "metadata": {
        "id": "rHLwc8ogQTaU",
        "colab": {
          "base_uri": "https://localhost:8080/",
          "height": 159
        },
        "outputId": "347112b4-36b1-4075-a0e1-b6652425df76"
      },
      "outputs": [
        {
          "output_type": "error",
          "ename": "RuntimeError",
          "evalue": "mat1 and mat2 shapes cannot be multiplied (51x51 and 63x128)",
          "traceback": [
            "\u001b[0;31m---------------------------------------------------------------------------\u001b[0m",
            "\u001b[0;31mRuntimeError\u001b[0m                              Traceback (most recent call last)",
            "\u001b[0;32m<ipython-input-79-13df6e2ad83d>\u001b[0m in \u001b[0;36m<cell line: 1>\u001b[0;34m()\u001b[0m\n\u001b[0;32m----> 1\u001b[0;31m \u001b[0mimshow\u001b[0m\u001b[0;34m(\u001b[0m\u001b[0mfourier_basis\u001b[0m \u001b[0;34m@\u001b[0m \u001b[0mW_E\u001b[0m\u001b[0;34m,\u001b[0m \u001b[0myaxis\u001b[0m\u001b[0;34m=\u001b[0m\u001b[0;34m\"Fourier Component\"\u001b[0m\u001b[0;34m,\u001b[0m \u001b[0mxaxis\u001b[0m\u001b[0;34m=\u001b[0m\u001b[0;34m\"Residual Stream\"\u001b[0m\u001b[0;34m,\u001b[0m \u001b[0my\u001b[0m\u001b[0;34m=\u001b[0m\u001b[0mfourier_basis_names\u001b[0m\u001b[0;34m,\u001b[0m \u001b[0mtitle\u001b[0m\u001b[0;34m=\u001b[0m\u001b[0;34m\"Embedding in Fourier Basis\"\u001b[0m\u001b[0;34m)\u001b[0m\u001b[0;34m\u001b[0m\u001b[0;34m\u001b[0m\u001b[0m\n\u001b[0m",
            "\u001b[0;31mRuntimeError\u001b[0m: mat1 and mat2 shapes cannot be multiplied (51x51 and 63x128)"
          ]
        }
      ],
      "source": [
        "imshow(fourier_basis @ W_E, yaxis=\"Fourier Component\", xaxis=\"Residual Stream\", y=fourier_basis_names, title=\"Embedding in Fourier Basis\")"
      ]
    },
    {
      "cell_type": "code",
      "execution_count": null,
      "metadata": {
        "id": "fdCsPlogQTaU",
        "colab": {
          "base_uri": "https://localhost:8080/",
          "height": 159
        },
        "outputId": "acb43dbd-b42d-4b57-b59e-8ae3d1ca938e"
      },
      "outputs": [
        {
          "output_type": "error",
          "ename": "RuntimeError",
          "evalue": "mat1 and mat2 shapes cannot be multiplied (51x51 and 63x128)",
          "traceback": [
            "\u001b[0;31m---------------------------------------------------------------------------\u001b[0m",
            "\u001b[0;31mRuntimeError\u001b[0m                              Traceback (most recent call last)",
            "\u001b[0;32m<ipython-input-80-4bec9a280dfd>\u001b[0m in \u001b[0;36m<cell line: 1>\u001b[0;34m()\u001b[0m\n\u001b[0;32m----> 1\u001b[0;31m \u001b[0mline\u001b[0m\u001b[0;34m(\u001b[0m\u001b[0;34m(\u001b[0m\u001b[0mfourier_basis\u001b[0m \u001b[0;34m@\u001b[0m \u001b[0mW_E\u001b[0m\u001b[0;34m)\u001b[0m\u001b[0;34m.\u001b[0m\u001b[0mnorm\u001b[0m\u001b[0;34m(\u001b[0m\u001b[0mdim\u001b[0m\u001b[0;34m=\u001b[0m\u001b[0;34m-\u001b[0m\u001b[0;36m1\u001b[0m\u001b[0;34m)\u001b[0m\u001b[0;34m,\u001b[0m \u001b[0mxaxis\u001b[0m\u001b[0;34m=\u001b[0m\u001b[0;34m\"Fourier Component\"\u001b[0m\u001b[0;34m,\u001b[0m \u001b[0mx\u001b[0m\u001b[0;34m=\u001b[0m\u001b[0mfourier_basis_names\u001b[0m\u001b[0;34m,\u001b[0m \u001b[0mtitle\u001b[0m\u001b[0;34m=\u001b[0m\u001b[0;34m\"Norms of Embedding in Fourier Basis\"\u001b[0m\u001b[0;34m)\u001b[0m\u001b[0;34m\u001b[0m\u001b[0;34m\u001b[0m\u001b[0m\n\u001b[0m",
            "\u001b[0;31mRuntimeError\u001b[0m: mat1 and mat2 shapes cannot be multiplied (51x51 and 63x128)"
          ]
        }
      ],
      "source": [
        "line((fourier_basis @ W_E).norm(dim=-1), xaxis=\"Fourier Component\", x=fourier_basis_names, title=\"Norms of Embedding in Fourier Basis\")"
      ]
    },
    {
      "cell_type": "code",
      "execution_count": null,
      "metadata": {
        "id": "NefqiGXLQTaU"
      },
      "outputs": [],
      "source": [
        "key_freqs = [17, 25, 32, 47]\n",
        "key_freq_indices = [33, 34, 49, 50, 63, 64, 93, 94]\n",
        "fourier_embed = fourier_basis @ W_E\n",
        "key_fourier_embed = fourier_embed[key_freq_indices]\n",
        "print(\"key_fourier_embed\", key_fourier_embed.shape)\n",
        "imshow(key_fourier_embed @ key_fourier_embed.T, title=\"Dot Product of embedding of key Fourier Terms\")"
      ]
    },
    {
      "cell_type": "markdown",
      "metadata": {
        "id": "EGYU9nwyQTaU"
      },
      "source": [
        "### Key Frequencies"
      ]
    },
    {
      "cell_type": "code",
      "execution_count": null,
      "metadata": {
        "id": "mGw9tinrQTaU"
      },
      "outputs": [],
      "source": [
        "line(fourier_basis[[34, 50, 64, 94]], title=\"Cos of key freqs\", line_labels=[34, 50, 64, 94])"
      ]
    },
    {
      "cell_type": "code",
      "execution_count": null,
      "metadata": {
        "id": "FxIe4voNQTaU"
      },
      "outputs": [],
      "source": [
        "line(fourier_basis[[34, 50, 64, 94]].mean(0), title=\"Constructive Interference\")"
      ]
    },
    {
      "cell_type": "markdown",
      "metadata": {
        "id": "dAxz4jcRQTaU"
      },
      "source": [
        "## Analyse Neurons"
      ]
    },
    {
      "cell_type": "code",
      "execution_count": null,
      "metadata": {
        "id": "qkl0eTteQTaU"
      },
      "outputs": [],
      "source": [
        "imshow(\n",
        "    einops.rearrange(neuron_acts[:, :5], \"(a b) neuron -> neuron a b\", a=p, b=p),\n",
        "    title=\"First 5 neuron acts\", xaxis=\"b\", yaxis=\"a\", facet_col=0)"
      ]
    },
    {
      "cell_type": "code",
      "execution_count": null,
      "metadata": {
        "id": "k9KjAFkIQTaU"
      },
      "outputs": [],
      "source": [
        "imshow(\n",
        "    einops.rearrange(neuron_acts[:, 0], \"(a b) -> a b\", a=p, b=p),\n",
        "    title=\"First neuron act\", xaxis=\"b\", yaxis=\"a\",)"
      ]
    },
    {
      "cell_type": "code",
      "execution_count": null,
      "metadata": {
        "id": "cTNzg6aCQTaU"
      },
      "outputs": [],
      "source": [
        "imshow(fourier_basis[94][None, :] * fourier_basis[94][:, None], title=\"Cos 47a * cos 47b\")"
      ]
    },
    {
      "cell_type": "code",
      "execution_count": null,
      "metadata": {
        "id": "w21xXkjAQTaV"
      },
      "outputs": [],
      "source": [
        "imshow(fourier_basis[94][None, :] * fourier_basis[0][:, None], title=\"Cos 47a * const\")"
      ]
    },
    {
      "cell_type": "code",
      "execution_count": null,
      "metadata": {
        "id": "KooAFIRFQTaV"
      },
      "outputs": [],
      "source": [
        "imshow(fourier_basis @ neuron_acts[:, 0].reshape(p, p) @ fourier_basis.T, title=\"2D Fourier Transformer of neuron 0\", xaxis=\"b\", yaxis=\"a\", x=fourier_basis_names, y=fourier_basis_names)"
      ]
    },
    {
      "cell_type": "code",
      "execution_count": null,
      "metadata": {
        "id": "YP5dV18AQTaV"
      },
      "outputs": [],
      "source": [
        "imshow(fourier_basis @ neuron_acts[:, 5].reshape(p, p) @ fourier_basis.T, title=\"2D Fourier Transformer of neuron 5\", xaxis=\"b\", yaxis=\"a\", x=fourier_basis_names, y=fourier_basis_names)"
      ]
    },
    {
      "cell_type": "code",
      "execution_count": null,
      "metadata": {
        "id": "1tDyCrOwQTaV"
      },
      "outputs": [],
      "source": [
        "imshow(fourier_basis @ torch.randn_like(neuron_acts[:, 0]).reshape(p, p) @ fourier_basis.T, title=\"2D Fourier Transformer of RANDOM\", xaxis=\"b\", yaxis=\"a\", x=fourier_basis_names, y=fourier_basis_names)"
      ]
    },
    {
      "cell_type": "markdown",
      "metadata": {
        "id": "33wA396lQTaV"
      },
      "source": [
        "### Neuron Clusters"
      ]
    },
    {
      "cell_type": "code",
      "execution_count": null,
      "metadata": {
        "id": "H44JLGMTQTaV"
      },
      "outputs": [],
      "source": [
        "fourier_neuron_acts = fourier_basis @ einops.rearrange(neuron_acts, \"(a b) neuron -> neuron a b\", a=p, b=p) @ fourier_basis.T\n",
        "# Center these by removing the mean - doesn't matter!\n",
        "fourier_neuron_acts[:, 0, 0] = 0.\n",
        "print(\"fourier_neuron_acts\", fourier_neuron_acts.shape)"
      ]
    },
    {
      "cell_type": "code",
      "execution_count": null,
      "metadata": {
        "id": "cvXcCPpOQTaV"
      },
      "outputs": [],
      "source": [
        "neuron_freq_norm = torch.zeros(p//2, model.cfg.d_mlp).cuda()\n",
        "for freq in range(0, p//2):\n",
        "    for x in [0, 2*(freq+1) - 1, 2*(freq+1)]:\n",
        "        for y in [0, 2*(freq+1) - 1, 2*(freq+1)]:\n",
        "            neuron_freq_norm[freq] += fourier_neuron_acts[:, x, y]**2\n",
        "neuron_freq_norm = neuron_freq_norm / fourier_neuron_acts.pow(2).sum(dim=[-1, -2])[None, :]\n",
        "imshow(neuron_freq_norm, xaxis=\"Neuron\", yaxis=\"Freq\", y=torch.arange(1, p//2+1), title=\"Neuron Frac Explained by Freq\")"
      ]
    },
    {
      "cell_type": "code",
      "execution_count": null,
      "metadata": {
        "id": "sFvOntxiQTaV"
      },
      "outputs": [],
      "source": [
        "line(neuron_freq_norm.max(dim=0).values.sort().values, xaxis=\"Neuron\", title=\"Max Neuron Frac Explained over Freqs\")"
      ]
    },
    {
      "cell_type": "markdown",
      "metadata": {
        "id": "J9rhcu3VQTaW"
      },
      "source": [
        "## Read Off the Neuron-Logit Weights to Interpret"
      ]
    },
    {
      "cell_type": "markdown",
      "metadata": {
        "id": "1347lvmgQTaW"
      },
      "source": []
    },
    {
      "cell_type": "code",
      "execution_count": null,
      "metadata": {
        "id": "qu60AHuIQTaW"
      },
      "outputs": [],
      "source": [
        "W_logit = model.blocks[0].mlp.W_out @ model.unembed.W_U\n",
        "print(\"W_logit\", W_logit.shape)"
      ]
    },
    {
      "cell_type": "code",
      "execution_count": null,
      "metadata": {
        "id": "R71q2OI4QTaW"
      },
      "outputs": [],
      "source": [
        "line((W_logit @ fourier_basis.T).norm(dim=0), x=fourier_basis_names, title=\"W_logit in the Fourier Basis\")"
      ]
    },
    {
      "cell_type": "code",
      "execution_count": null,
      "metadata": {
        "id": "Xad75mzfQTaX"
      },
      "outputs": [],
      "source": [
        "neurons_17 = neuron_freq_norm[17-1]>0.85\n",
        "neurons_17.shape"
      ]
    },
    {
      "cell_type": "code",
      "execution_count": null,
      "metadata": {
        "id": "4wxEA1aCQTaX"
      },
      "outputs": [],
      "source": [
        "neurons_17.sum()"
      ]
    },
    {
      "cell_type": "code",
      "execution_count": null,
      "metadata": {
        "id": "U0olyog4QTaX"
      },
      "outputs": [],
      "source": [
        "line((W_logit[neurons_17] @ fourier_basis.T).norm(dim=0), x=fourier_basis_names, title=\"W_logit for freq 17 neurons in the Fourier Basis\")"
      ]
    },
    {
      "cell_type": "markdown",
      "metadata": {
        "id": "6TnBqZSIQTaX"
      },
      "source": [
        "Study sin 17"
      ]
    },
    {
      "cell_type": "code",
      "execution_count": null,
      "metadata": {
        "id": "2sMhwTGXQTaX"
      },
      "outputs": [],
      "source": [
        "freq = 17\n",
        "W_logit_fourier = W_logit @ fourier_basis\n",
        "neurons_sin_17 = W_logit_fourier[:, 2*freq-1]\n",
        "line(neurons_sin_17)"
      ]
    },
    {
      "cell_type": "code",
      "execution_count": null,
      "metadata": {
        "id": "hOBNXGY6QTaX"
      },
      "outputs": [],
      "source": [
        "neuron_acts.shape"
      ]
    },
    {
      "cell_type": "code",
      "execution_count": null,
      "metadata": {
        "id": "JvsEuupnQTaX"
      },
      "outputs": [],
      "source": [
        "inputs_sin_17c = neuron_acts @ neurons_sin_17\n",
        "imshow(fourier_basis @ inputs_sin_17c.reshape(p, p) @ fourier_basis.T, title=\"Fourier Heatmap over inputs for sin17c\", x=fourier_basis_names, y=fourier_basis_names)"
      ]
    },
    {
      "cell_type": "markdown",
      "metadata": {
        "id": "sV1aPiyUQTaY"
      },
      "source": [
        "# Black Box Methods + Progress Measures"
      ]
    },
    {
      "cell_type": "markdown",
      "metadata": {
        "id": "UOh_boLIQTaY"
      },
      "source": [
        "## Setup Code"
      ]
    },
    {
      "cell_type": "markdown",
      "metadata": {
        "id": "YCS6lx1rQTaY"
      },
      "source": [
        "Code to plot embedding freqs"
      ]
    },
    {
      "cell_type": "code",
      "execution_count": null,
      "metadata": {
        "id": "QOGaxO0EQTaY"
      },
      "outputs": [],
      "source": [
        "def embed_to_cos_sin(fourier_embed):\n",
        "    if len(fourier_embed.shape) == 1:\n",
        "        return torch.stack([fourier_embed[1::2], fourier_embed[2::2]])\n",
        "    else:\n",
        "        return torch.stack([fourier_embed[:, 1::2], fourier_embed[:, 2::2]], dim=1)\n",
        "\n",
        "from neel_plotly.plot import melt\n",
        "\n",
        "def plot_embed_bars(\n",
        "    fourier_embed,\n",
        "    title=\"Norm of embedding of each Fourier Component\",\n",
        "    return_fig=False,\n",
        "    **kwargs\n",
        "):\n",
        "    cos_sin_embed = embed_to_cos_sin(fourier_embed)\n",
        "    df = melt(cos_sin_embed)\n",
        "    # display(df)\n",
        "    group_labels = {0: \"sin\", 1: \"cos\"}\n",
        "    df[\"Trig\"] = df[\"0\"].map(lambda x: group_labels[x])\n",
        "    fig = px.bar(\n",
        "        df,\n",
        "        barmode=\"group\",\n",
        "        color=\"Trig\",\n",
        "        x=\"1\",\n",
        "        y=\"value\",\n",
        "        labels={\"1\": \"$w_k$\", \"value\": \"Norm\"},\n",
        "        title=title,\n",
        "        **kwargs\n",
        "    )\n",
        "    fig.update_layout(dict(legend_title=\"\"))\n",
        "\n",
        "    if return_fig:\n",
        "        return fig\n",
        "    else:\n",
        "        fig.show()"
      ]
    },
    {
      "cell_type": "markdown",
      "metadata": {
        "id": "nNYvo6E6QTaY"
      },
      "source": [
        "Code to test a tensor of edited logits"
      ]
    },
    {
      "cell_type": "code",
      "execution_count": null,
      "metadata": {
        "id": "6QWFyJb2QTaY"
      },
      "outputs": [],
      "source": [
        "def test_logits(logits, bias_correction=False, original_logits=None, mode=\"all\"):\n",
        "    # Calculates cross entropy loss of logits representing a batch of all p^2\n",
        "    # possible inputs\n",
        "    # Batch dimension is assumed to be first\n",
        "    if logits.shape[1] == p * p:\n",
        "        logits = logits.T\n",
        "    if logits.shape == torch.Size([p * p, p + 1]):\n",
        "        logits = logits[:, :-1]\n",
        "    logits = logits.reshape(p * p, p)\n",
        "    if bias_correction:\n",
        "        # Applies bias correction - we correct for any missing bias terms,\n",
        "        # independent of the input, by centering the new logits along the batch\n",
        "        # dimension, and then adding the average original logits across all inputs\n",
        "        logits = (\n",
        "            einops.reduce(original_logits - logits, \"batch ... -> ...\", \"mean\") + logits\n",
        "        )\n",
        "    if mode == \"train\":\n",
        "        return loss_fn(logits[train_indices], labels[train_indices])\n",
        "    elif mode == \"test\":\n",
        "        return loss_fn(logits[test_indices], labels[test_indices])\n",
        "    elif mode == \"all\":\n",
        "        return loss_fn(logits, labels)"
      ]
    },
    {
      "cell_type": "markdown",
      "metadata": {
        "id": "aPS5utGDQTaY"
      },
      "source": [
        "Code to run a metric over every checkpoint"
      ]
    },
    {
      "cell_type": "code",
      "execution_count": null,
      "metadata": {
        "id": "K9un9mhNQTaY"
      },
      "outputs": [],
      "source": [
        "metric_cache = {}"
      ]
    },
    {
      "cell_type": "code",
      "execution_count": null,
      "metadata": {
        "id": "Qxx_iJcVQTaY"
      },
      "outputs": [],
      "source": [
        "def get_metrics(model, metric_cache, metric_fn, name, reset=False):\n",
        "    if reset or (name not in metric_cache) or (len(metric_cache[name]) == 0):\n",
        "        metric_cache[name] = []\n",
        "        for c, sd in enumerate(tqdm.tqdm((model_checkpoints))):\n",
        "            model.reset_hooks()\n",
        "            model.load_state_dict(sd)\n",
        "            out = metric_fn(model)\n",
        "            if type(out) == torch.Tensor:\n",
        "                out = utils.to_numpy(out)\n",
        "            metric_cache[name].append(out)\n",
        "        model.load_state_dict(model_checkpoints[-1])\n",
        "        try:\n",
        "            metric_cache[name] = torch.tensor(metric_cache[name])\n",
        "        except:\n",
        "            metric_cache[name] = torch.tensor(np.array(metric_cache[name]))\n",
        "\n"
      ]
    },
    {
      "cell_type": "markdown",
      "metadata": {
        "id": "k8_CCXFuQTaY"
      },
      "source": [
        "## Defining Progress Measures"
      ]
    },
    {
      "cell_type": "markdown",
      "metadata": {
        "id": "K2RR99ERQTaY"
      },
      "source": [
        "### Loss Curves"
      ]
    },
    {
      "cell_type": "code",
      "execution_count": null,
      "metadata": {
        "id": "0Mhj8sb8QTaZ"
      },
      "outputs": [],
      "source": [
        "memorization_end_epoch = 1500\n",
        "circuit_formation_end_epoch = 13300\n",
        "cleanup_end_epoch = 16600"
      ]
    },
    {
      "cell_type": "code",
      "execution_count": null,
      "metadata": {
        "id": "cYW-icZ4QTaZ"
      },
      "outputs": [],
      "source": [
        "def add_lines(figure):\n",
        "    figure.add_vline(memorization_end_epoch, line_dash=\"dash\", opacity=0.7)\n",
        "    figure.add_vline(circuit_formation_end_epoch, line_dash=\"dash\", opacity=0.7)\n",
        "    figure.add_vline(cleanup_end_epoch, line_dash=\"dash\", opacity=0.7)\n",
        "    return figure"
      ]
    },
    {
      "cell_type": "code",
      "execution_count": null,
      "metadata": {
        "id": "SaiKPqyBQTaZ"
      },
      "outputs": [],
      "source": [
        "fig = line([train_losses[::100], test_losses[::100]], x=np.arange(0, len(train_losses), 100), xaxis=\"Epoch\", yaxis=\"Loss\", log_y=True, title=\"Training Curve for Modular Addition\", line_labels=['train', 'test'], toggle_x=True, toggle_y=True, return_fig=True)\n",
        "add_lines(fig)"
      ]
    },
    {
      "cell_type": "markdown",
      "metadata": {
        "id": "F1qXpTtoQTaZ"
      },
      "source": [
        "### Logit Periodicity"
      ]
    },
    {
      "cell_type": "code",
      "execution_count": null,
      "metadata": {
        "id": "dd8nG3cUQTaZ"
      },
      "outputs": [],
      "source": [
        "all_logits = original_logits[:, -1, :]\n",
        "print(all_logits.shape)\n",
        "all_logits = einops.rearrange(all_logits, \"(a b) c -> a b c\", a=p, b=p)\n",
        "print(all_logits.shape)"
      ]
    },
    {
      "cell_type": "code",
      "execution_count": null,
      "metadata": {
        "id": "qi-lOtRTQTaZ"
      },
      "outputs": [],
      "source": [
        "coses = {}\n",
        "for freq in key_freqs:\n",
        "    print(\"Freq:\", freq)\n",
        "    a = torch.arange(p)[:, None, None]\n",
        "    b = torch.arange(p)[None, :, None]\n",
        "    c = torch.arange(p)[None, None, :]\n",
        "    cube_predicted_logits = torch.cos(freq * 2 * torch.pi / p * (a + b - c)).cuda()\n",
        "    cube_predicted_logits /= cube_predicted_logits.norm()\n",
        "    coses[freq] = cube_predicted_logits"
      ]
    },
    {
      "cell_type": "code",
      "execution_count": null,
      "metadata": {
        "id": "msy66RgCQTaZ"
      },
      "outputs": [],
      "source": [
        "approximated_logits = torch.zeros_like(all_logits)\n",
        "for freq in key_freqs:\n",
        "    print(\"Freq:\", freq)\n",
        "    coeff = (all_logits * coses[freq]).sum()\n",
        "    print(\"Coeff:\", coeff)\n",
        "    cosine_sim = coeff / all_logits.norm()\n",
        "    print(\"Cosine Sim:\", cosine_sim)\n",
        "    approximated_logits += coeff * coses[freq]\n",
        "residual = all_logits - approximated_logits\n",
        "print(\"Residual size:\", residual.norm())\n",
        "print(\"Residual fraction of norm:\", residual.norm()/all_logits.norm())"
      ]
    },
    {
      "cell_type": "code",
      "execution_count": null,
      "metadata": {
        "id": "yiMpNKCFQTaZ"
      },
      "outputs": [],
      "source": [
        "random_logit_cube = torch.randn_like(all_logits)\n",
        "print((all_logits * random_logit_cube).sum()/random_logit_cube.norm()/all_logits.norm())"
      ]
    },
    {
      "cell_type": "code",
      "execution_count": null,
      "metadata": {
        "id": "-vclH6K0QTaZ"
      },
      "outputs": [],
      "source": [
        "test_logits(all_logits)"
      ]
    },
    {
      "cell_type": "code",
      "execution_count": null,
      "metadata": {
        "id": "o0OtKzmRQTaZ"
      },
      "outputs": [],
      "source": [
        "test_logits(approximated_logits)"
      ]
    },
    {
      "cell_type": "markdown",
      "metadata": {
        "id": "42_m_OwjQTaZ"
      },
      "source": [
        "#### Look During Training"
      ]
    },
    {
      "cell_type": "code",
      "execution_count": null,
      "metadata": {
        "id": "JfHOTAgUQTaa"
      },
      "outputs": [],
      "source": [
        "cos_cube = []\n",
        "for freq in range(1, p//2 + 1):\n",
        "    a = torch.arange(p)[:, None, None]\n",
        "    b = torch.arange(p)[None, :, None]\n",
        "    c = torch.arange(p)[None, None, :]\n",
        "    cube_predicted_logits = torch.cos(freq * 2 * torch.pi / p * (a + b - c)).cuda()\n",
        "    cube_predicted_logits /= cube_predicted_logits.norm()\n",
        "    cos_cube.append(cube_predicted_logits)\n",
        "cos_cube = torch.stack(cos_cube, dim=0)\n",
        "print(cos_cube.shape)"
      ]
    },
    {
      "cell_type": "code",
      "execution_count": null,
      "metadata": {
        "id": "gaG08fQnQTaa"
      },
      "outputs": [],
      "source": [
        "def get_cos_coeffs(model):\n",
        "    logits = model(dataset)[:, -1]\n",
        "    logits = einops.rearrange(logits, \"(a b) c -> a b c\", a=p, b=p)\n",
        "    vals = (cos_cube * logits[None, :, :, :]).sum([-3, -2, -1])\n",
        "    return vals\n",
        "\n",
        "\n",
        "get_metrics(model, metric_cache, get_cos_coeffs, \"cos_coeffs\")\n",
        "print(metric_cache[\"cos_coeffs\"].shape)"
      ]
    },
    {
      "cell_type": "code",
      "execution_count": null,
      "metadata": {
        "id": "Uh-B3ux0QTaa"
      },
      "outputs": [],
      "source": [
        "fig = line(metric_cache[\"cos_coeffs\"].T, line_labels=[f\"Freq {i}\" for i in range(1, p//2+1)], title=\"Coefficients with Predicted Logits\", xaxis=\"Epoch\", x=checkpoint_epochs, yaxis=\"Coefficient\", return_fig=True)\n",
        "add_lines(fig)"
      ]
    },
    {
      "cell_type": "code",
      "execution_count": null,
      "metadata": {
        "id": "VI78MJmUQTaa"
      },
      "outputs": [],
      "source": [
        "def get_cos_sim(model):\n",
        "    logits = model(dataset)[:, -1]\n",
        "    logits = einops.rearrange(logits, \"(a b) c -> a b c\", a=p, b=p)\n",
        "    vals = (cos_cube * logits[None, :, :, :]).sum([-3, -2, -1])\n",
        "    return vals / logits.norm()\n",
        "\n",
        "get_metrics(model, metric_cache, get_cos_sim, \"cos_sim\") # You may need a big GPU. If you don't have one and can't work around this, raise an issue for help!\n",
        "print(metric_cache[\"cos_sim\"].shape)\n",
        "\n",
        "fig = line(metric_cache[\"cos_sim\"].T, line_labels=[f\"Freq {i}\" for i in range(1, p//2+1)], title=\"Cosine Sim with Predicted Logits\", xaxis=\"Epoch\", x=checkpoint_epochs, yaxis=\"Cosine Sim\", return_fig=True)\n",
        "add_lines(fig)"
      ]
    },
    {
      "cell_type": "code",
      "execution_count": null,
      "metadata": {
        "id": "94fVatnCQTaa"
      },
      "outputs": [],
      "source": [
        "def get_residual_cos_sim(model):\n",
        "    logits = model(dataset)[:, -1]\n",
        "    logits = einops.rearrange(logits, \"(a b) c -> a b c\", a=p, b=p)\n",
        "    vals = (cos_cube * logits[None, :, :, :]).sum([-3, -2, -1])\n",
        "    residual = logits - (vals[:, None, None, None] * cos_cube).sum(dim=0)\n",
        "    return residual.norm() / logits.norm()\n",
        "\n",
        "get_metrics(model, metric_cache, get_residual_cos_sim, \"residual_cos_sim\")\n",
        "print(metric_cache[\"residual_cos_sim\"].shape)\n",
        "\n",
        "fig = line([metric_cache[\"cos_sim\"][:, i] for i in range(p//2)]+[metric_cache[\"residual_cos_sim\"]], line_labels=[f\"Freq {i}\" for i in range(1, p//2+1)]+[\"residual\"], title=\"Cosine Sim with Predicted Logits + Residual\", xaxis=\"Epoch\", x=checkpoint_epochs, yaxis=\"Cosine Sim\", return_fig=True)\n",
        "add_lines(fig)"
      ]
    },
    {
      "cell_type": "markdown",
      "metadata": {
        "id": "2RpFjWGJQTaa"
      },
      "source": [
        "## Restricted Loss"
      ]
    },
    {
      "cell_type": "code",
      "execution_count": null,
      "metadata": {
        "id": "4HZuqhjPQTaa"
      },
      "outputs": [],
      "source": [
        "neuron_acts.shape"
      ]
    },
    {
      "cell_type": "code",
      "execution_count": null,
      "metadata": {
        "id": "ahc4qVc5QTaa"
      },
      "outputs": [],
      "source": [
        "neuron_acts_square = einops.rearrange(neuron_acts, \"(a b) neur -> a b neur\", a=p, b=p).clone()\n",
        "# Center it\n",
        "neuron_acts_square -= einops.reduce(neuron_acts_square, \"a b neur -> 1 1 neur\", \"mean\")\n",
        "neuron_acts_square_fourier = einsum(\"a b neur, fa a, fb b -> fa fb neur\", neuron_acts_square, fourier_basis, fourier_basis)\n",
        "imshow(neuron_acts_square_fourier.norm(dim=-1), xaxis=\"Fourier Component b\", yaxis=\"Fourier Component a\", title=\"Norms of neuron activations by Fourier Component\", x=fourier_basis_names, y=fourier_basis_names)"
      ]
    },
    {
      "cell_type": "code",
      "execution_count": null,
      "metadata": {
        "id": "H-AMzkVVQTaa"
      },
      "outputs": [],
      "source": [
        "original_logits, cache = model.run_with_cache(dataset)\n",
        "print(original_logits.numel())\n",
        "neuron_acts = cache[\"post\", 0, \"mlp\"][:, -1, :]"
      ]
    },
    {
      "cell_type": "code",
      "execution_count": null,
      "metadata": {
        "id": "jx00yiVlQTaa"
      },
      "outputs": [],
      "source": [
        "approx_neuron_acts = torch.zeros_like(neuron_acts)\n",
        "approx_neuron_acts += neuron_acts.mean(dim=0)\n",
        "a = torch.arange(p)[:, None]\n",
        "b = torch.arange(p)[None, :]\n",
        "for freq in key_freqs:\n",
        "    cos_apb_vec = torch.cos(freq * 2 * torch.pi / p * (a + b)).cuda()\n",
        "    cos_apb_vec /= cos_apb_vec.norm()\n",
        "    cos_apb_vec = einops.rearrange(cos_apb_vec, \"a b -> (a b) 1\")\n",
        "    approx_neuron_acts += (neuron_acts * cos_apb_vec).sum(dim=0) * cos_apb_vec\n",
        "    sin_apb_vec = torch.sin(freq * 2 * torch.pi / p * (a + b)).cuda()\n",
        "    sin_apb_vec /= sin_apb_vec.norm()\n",
        "    sin_apb_vec = einops.rearrange(sin_apb_vec, \"a b -> (a b) 1\")\n",
        "    approx_neuron_acts += (neuron_acts * sin_apb_vec).sum(dim=0) * sin_apb_vec\n",
        "restricted_logits = approx_neuron_acts @ W_logit\n",
        "print(loss_fn(restricted_logits[test_indices], test_labels))"
      ]
    },
    {
      "cell_type": "code",
      "execution_count": null,
      "metadata": {
        "id": "S3ah8EtOQTaa"
      },
      "outputs": [],
      "source": [
        "print(loss_fn(all_logits, labels)) # This bugged on models not fully trained"
      ]
    },
    {
      "cell_type": "markdown",
      "metadata": {
        "id": "NkisolVOQTaa"
      },
      "source": [
        "### Look During Training"
      ]
    },
    {
      "cell_type": "code",
      "execution_count": null,
      "metadata": {
        "id": "qk4ptIGRQTab"
      },
      "outputs": [],
      "source": [
        "def get_restricted_loss(model):\n",
        "    logits, cache = model.run_with_cache(dataset)\n",
        "    logits = logits[:, -1, :]\n",
        "    neuron_acts = cache[\"post\", 0, \"mlp\"][:, -1, :]\n",
        "    approx_neuron_acts = torch.zeros_like(neuron_acts)\n",
        "    approx_neuron_acts += neuron_acts.mean(dim=0)\n",
        "    a = torch.arange(p)[:, None]\n",
        "    b = torch.arange(p)[None, :]\n",
        "    for freq in key_freqs:\n",
        "        cos_apb_vec = torch.cos(freq * 2 * torch.pi / p * (a + b)).cuda()\n",
        "        cos_apb_vec /= cos_apb_vec.norm()\n",
        "        cos_apb_vec = einops.rearrange(cos_apb_vec, \"a b -> (a b) 1\")\n",
        "        approx_neuron_acts += (neuron_acts * cos_apb_vec).sum(dim=0) * cos_apb_vec\n",
        "        sin_apb_vec = torch.sin(freq * 2 * torch.pi / p * (a + b)).cuda()\n",
        "        sin_apb_vec /= sin_apb_vec.norm()\n",
        "        sin_apb_vec = einops.rearrange(sin_apb_vec, \"a b -> (a b) 1\")\n",
        "        approx_neuron_acts += (neuron_acts * sin_apb_vec).sum(dim=0) * sin_apb_vec\n",
        "    restricted_logits = approx_neuron_acts @ model.blocks[0].mlp.W_out @ model.unembed.W_U\n",
        "    # Add bias term\n",
        "    restricted_logits += logits.mean(dim=0, keepdim=True) - restricted_logits.mean(dim=0, keepdim=True)\n",
        "    return loss_fn(restricted_logits[test_indices], test_labels)\n",
        "get_restricted_loss(model)"
      ]
    },
    {
      "cell_type": "code",
      "execution_count": null,
      "metadata": {
        "id": "S7gJ540AQTab"
      },
      "outputs": [],
      "source": [
        "get_metrics(model, metric_cache, get_restricted_loss, \"restricted_loss\", reset=True)\n",
        "print(metric_cache[\"restricted_loss\"].shape)"
      ]
    },
    {
      "cell_type": "code",
      "execution_count": null,
      "metadata": {
        "id": "34bKrc5uQTab"
      },
      "outputs": [],
      "source": [
        "fig = line([train_losses[::100], test_losses[::100], metric_cache[\"restricted_loss\"]], x=np.arange(0, len(train_losses), 100), xaxis=\"Epoch\", yaxis=\"Loss\", log_y=True, title=\"Restricted Loss Curve\", line_labels=['train', 'test', \"restricted_loss\"], toggle_x=True, toggle_y=True, return_fig=True)\n",
        "add_lines(fig)"
      ]
    },
    {
      "cell_type": "code",
      "execution_count": null,
      "metadata": {
        "id": "yLNyIc43QTab"
      },
      "outputs": [],
      "source": [
        "fig = line([torch.tensor(test_losses[::100])/metric_cache[\"restricted_loss\"]], x=np.arange(0, len(train_losses), 100), xaxis=\"Epoch\", yaxis=\"Loss\", log_y=True, title=\"Restricted Loss to Test Loss Ratio\", toggle_x=True, toggle_y=True, return_fig=True)\n",
        "# WARNING: bugged when cancelling training half way thr ough\n",
        "add_lines(fig)"
      ]
    },
    {
      "cell_type": "markdown",
      "metadata": {
        "id": "3msGHqHZQTab"
      },
      "source": [
        "## Excluded Loss"
      ]
    },
    {
      "cell_type": "code",
      "execution_count": null,
      "metadata": {
        "id": "y0PM0_nVQTab"
      },
      "outputs": [],
      "source": [
        "approx_neuron_acts = torch.zeros_like(neuron_acts)\n",
        "# approx_neuron_acts += neuron_acts.mean(dim=0)\n",
        "a = torch.arange(p)[:, None]\n",
        "b = torch.arange(p)[None, :]\n",
        "for freq in key_freqs:\n",
        "    cos_apb_vec = torch.cos(freq * 2 * torch.pi / p * (a + b)).cuda()\n",
        "    cos_apb_vec /= cos_apb_vec.norm()\n",
        "    cos_apb_vec = einops.rearrange(cos_apb_vec, \"a b -> (a b) 1\")\n",
        "    approx_neuron_acts += (neuron_acts * cos_apb_vec).sum(dim=0) * cos_apb_vec\n",
        "    sin_apb_vec = torch.sin(freq * 2 * torch.pi / p * (a + b)).cuda()\n",
        "    sin_apb_vec /= sin_apb_vec.norm()\n",
        "    sin_apb_vec = einops.rearrange(sin_apb_vec, \"a b -> (a b) 1\")\n",
        "    approx_neuron_acts += (neuron_acts * sin_apb_vec).sum(dim=0) * sin_apb_vec\n",
        "excluded_neuron_acts = neuron_acts - approx_neuron_acts\n",
        "excluded_logits = excluded_neuron_acts @ W_logit\n",
        "print(loss_fn(excluded_logits[train_indices], train_labels))"
      ]
    },
    {
      "cell_type": "code",
      "execution_count": null,
      "metadata": {
        "id": "8pkCZO0LQTab"
      },
      "outputs": [],
      "source": [
        "def get_excluded_loss(model):\n",
        "    logits, cache = model.run_with_cache(dataset)\n",
        "    logits = logits[:, -1, :]\n",
        "    neuron_acts = cache[\"post\", 0, \"mlp\"][:, -1, :]\n",
        "    approx_neuron_acts = torch.zeros_like(neuron_acts)\n",
        "    # approx_neuron_acts += neuron_acts.mean(dim=0)\n",
        "    a = torch.arange(p)[:, None]\n",
        "    b = torch.arange(p)[None, :]\n",
        "    for freq in key_freqs:\n",
        "        cos_apb_vec = torch.cos(freq * 2 * torch.pi / p * (a + b)).cuda()\n",
        "        cos_apb_vec /= cos_apb_vec.norm()\n",
        "        cos_apb_vec = einops.rearrange(cos_apb_vec, \"a b -> (a b) 1\")\n",
        "        approx_neuron_acts += (neuron_acts * cos_apb_vec).sum(dim=0) * cos_apb_vec\n",
        "        sin_apb_vec = torch.sin(freq * 2 * torch.pi / p * (a + b)).cuda()\n",
        "        sin_apb_vec /= sin_apb_vec.norm()\n",
        "        sin_apb_vec = einops.rearrange(sin_apb_vec, \"a b -> (a b) 1\")\n",
        "        approx_neuron_acts += (neuron_acts * sin_apb_vec).sum(dim=0) * sin_apb_vec\n",
        "    excluded_neuron_acts = neuron_acts - approx_neuron_acts\n",
        "    residual_stream_final = excluded_neuron_acts @ model.blocks[0].mlp.W_out + cache[\"resid_mid\", 0][:, -1, :]\n",
        "    excluded_logits = residual_stream_final @ model.unembed.W_U\n",
        "    return loss_fn(excluded_logits[train_indices], train_labels)\n",
        "get_excluded_loss(model)"
      ]
    },
    {
      "cell_type": "code",
      "execution_count": null,
      "metadata": {
        "id": "IIXlwL5iQTab"
      },
      "outputs": [],
      "source": [
        "get_metrics(model, metric_cache, get_excluded_loss, \"excluded_loss\", reset=True)\n",
        "print(metric_cache[\"excluded_loss\"].shape)"
      ]
    },
    {
      "cell_type": "code",
      "execution_count": null,
      "metadata": {
        "id": "jROl8SZXQTac"
      },
      "outputs": [],
      "source": [
        "fig = line([train_losses[::100], test_losses[::100], metric_cache[\"excluded_loss\"], metric_cache[\"restricted_loss\"]], x=np.arange(0, len(train_losses), 100), xaxis=\"Epoch\", yaxis=\"Loss\", log_y=True, title=\"Excluded and Restricted Loss Curve\", line_labels=['train', 'test', \"excluded_loss\", \"restricted_loss\"], toggle_x=True, toggle_y=True, return_fig=True)\n",
        "\n",
        "add_lines(fig)"
      ]
    }
  ],
  "metadata": {
    "accelerator": "GPU",
    "colab": {
      "gpuType": "T4",
      "provenance": [],
      "include_colab_link": true
    },
    "kernelspec": {
      "display_name": "Python 3",
      "name": "python3"
    },
    "language_info": {
      "codemirror_mode": {
        "name": "ipython",
        "version": 3
      },
      "file_extension": ".py",
      "mimetype": "text/x-python",
      "name": "python",
      "nbconvert_exporter": "python",
      "pygments_lexer": "ipython3",
      "version": "3.10.13"
    },
    "vscode": {
      "interpreter": {
        "hash": "8859a5491331dba93123a91c2831400aced845b502848170e05fcb48b2c144be"
      }
    },
    "widgets": {
      "application/vnd.jupyter.widget-state+json": {
        "c4573ba6dbbe40208d8d83ec38b7d1d9": {
          "model_module": "@jupyter-widgets/controls",
          "model_name": "HBoxModel",
          "model_module_version": "1.5.0",
          "state": {
            "_dom_classes": [],
            "_model_module": "@jupyter-widgets/controls",
            "_model_module_version": "1.5.0",
            "_model_name": "HBoxModel",
            "_view_count": null,
            "_view_module": "@jupyter-widgets/controls",
            "_view_module_version": "1.5.0",
            "_view_name": "HBoxView",
            "box_style": "",
            "children": [
              "IPY_MODEL_a36d6ba6b2734b668dbb603f79b76039",
              "IPY_MODEL_efa7a297cb924a4da7f18ebe8dc6209c",
              "IPY_MODEL_f006d3b2a6b247a1989a56ff30f744a4"
            ],
            "layout": "IPY_MODEL_0aea824ffcc9445fb956abd9f76bdd56"
          }
        },
        "a36d6ba6b2734b668dbb603f79b76039": {
          "model_module": "@jupyter-widgets/controls",
          "model_name": "HTMLModel",
          "model_module_version": "1.5.0",
          "state": {
            "_dom_classes": [],
            "_model_module": "@jupyter-widgets/controls",
            "_model_module_version": "1.5.0",
            "_model_name": "HTMLModel",
            "_view_count": null,
            "_view_module": "@jupyter-widgets/controls",
            "_view_module_version": "1.5.0",
            "_view_name": "HTMLView",
            "description": "",
            "description_tooltip": null,
            "layout": "IPY_MODEL_56e215b3ad09418f981258ee9bd43d6e",
            "placeholder": "​",
            "style": "IPY_MODEL_c867834780f045a598ea929d343681ef",
            "value": "  0%"
          }
        },
        "efa7a297cb924a4da7f18ebe8dc6209c": {
          "model_module": "@jupyter-widgets/controls",
          "model_name": "FloatProgressModel",
          "model_module_version": "1.5.0",
          "state": {
            "_dom_classes": [],
            "_model_module": "@jupyter-widgets/controls",
            "_model_module_version": "1.5.0",
            "_model_name": "FloatProgressModel",
            "_view_count": null,
            "_view_module": "@jupyter-widgets/controls",
            "_view_module_version": "1.5.0",
            "_view_name": "ProgressView",
            "bar_style": "danger",
            "description": "",
            "description_tooltip": null,
            "layout": "IPY_MODEL_99714f1f62434cd7b0a4eee2d05a9a7e",
            "max": 200,
            "min": 0,
            "orientation": "horizontal",
            "style": "IPY_MODEL_aaf54c13abe94d52aa533aa0c1bbdadf",
            "value": 0
          }
        },
        "f006d3b2a6b247a1989a56ff30f744a4": {
          "model_module": "@jupyter-widgets/controls",
          "model_name": "HTMLModel",
          "model_module_version": "1.5.0",
          "state": {
            "_dom_classes": [],
            "_model_module": "@jupyter-widgets/controls",
            "_model_module_version": "1.5.0",
            "_model_name": "HTMLModel",
            "_view_count": null,
            "_view_module": "@jupyter-widgets/controls",
            "_view_module_version": "1.5.0",
            "_view_name": "HTMLView",
            "description": "",
            "description_tooltip": null,
            "layout": "IPY_MODEL_8f069e7c90c64dab92dee1026dbce9f6",
            "placeholder": "​",
            "style": "IPY_MODEL_47dba38ffa1c4a82aa4c69c19ffbb326",
            "value": " 0/200 [00:00&lt;?, ?it/s]"
          }
        },
        "0aea824ffcc9445fb956abd9f76bdd56": {
          "model_module": "@jupyter-widgets/base",
          "model_name": "LayoutModel",
          "model_module_version": "1.2.0",
          "state": {
            "_model_module": "@jupyter-widgets/base",
            "_model_module_version": "1.2.0",
            "_model_name": "LayoutModel",
            "_view_count": null,
            "_view_module": "@jupyter-widgets/base",
            "_view_module_version": "1.2.0",
            "_view_name": "LayoutView",
            "align_content": null,
            "align_items": null,
            "align_self": null,
            "border": null,
            "bottom": null,
            "display": null,
            "flex": null,
            "flex_flow": null,
            "grid_area": null,
            "grid_auto_columns": null,
            "grid_auto_flow": null,
            "grid_auto_rows": null,
            "grid_column": null,
            "grid_gap": null,
            "grid_row": null,
            "grid_template_areas": null,
            "grid_template_columns": null,
            "grid_template_rows": null,
            "height": null,
            "justify_content": null,
            "justify_items": null,
            "left": null,
            "margin": null,
            "max_height": null,
            "max_width": null,
            "min_height": null,
            "min_width": null,
            "object_fit": null,
            "object_position": null,
            "order": null,
            "overflow": null,
            "overflow_x": null,
            "overflow_y": null,
            "padding": null,
            "right": null,
            "top": null,
            "visibility": null,
            "width": null
          }
        },
        "56e215b3ad09418f981258ee9bd43d6e": {
          "model_module": "@jupyter-widgets/base",
          "model_name": "LayoutModel",
          "model_module_version": "1.2.0",
          "state": {
            "_model_module": "@jupyter-widgets/base",
            "_model_module_version": "1.2.0",
            "_model_name": "LayoutModel",
            "_view_count": null,
            "_view_module": "@jupyter-widgets/base",
            "_view_module_version": "1.2.0",
            "_view_name": "LayoutView",
            "align_content": null,
            "align_items": null,
            "align_self": null,
            "border": null,
            "bottom": null,
            "display": null,
            "flex": null,
            "flex_flow": null,
            "grid_area": null,
            "grid_auto_columns": null,
            "grid_auto_flow": null,
            "grid_auto_rows": null,
            "grid_column": null,
            "grid_gap": null,
            "grid_row": null,
            "grid_template_areas": null,
            "grid_template_columns": null,
            "grid_template_rows": null,
            "height": null,
            "justify_content": null,
            "justify_items": null,
            "left": null,
            "margin": null,
            "max_height": null,
            "max_width": null,
            "min_height": null,
            "min_width": null,
            "object_fit": null,
            "object_position": null,
            "order": null,
            "overflow": null,
            "overflow_x": null,
            "overflow_y": null,
            "padding": null,
            "right": null,
            "top": null,
            "visibility": null,
            "width": null
          }
        },
        "c867834780f045a598ea929d343681ef": {
          "model_module": "@jupyter-widgets/controls",
          "model_name": "DescriptionStyleModel",
          "model_module_version": "1.5.0",
          "state": {
            "_model_module": "@jupyter-widgets/controls",
            "_model_module_version": "1.5.0",
            "_model_name": "DescriptionStyleModel",
            "_view_count": null,
            "_view_module": "@jupyter-widgets/base",
            "_view_module_version": "1.2.0",
            "_view_name": "StyleView",
            "description_width": ""
          }
        },
        "99714f1f62434cd7b0a4eee2d05a9a7e": {
          "model_module": "@jupyter-widgets/base",
          "model_name": "LayoutModel",
          "model_module_version": "1.2.0",
          "state": {
            "_model_module": "@jupyter-widgets/base",
            "_model_module_version": "1.2.0",
            "_model_name": "LayoutModel",
            "_view_count": null,
            "_view_module": "@jupyter-widgets/base",
            "_view_module_version": "1.2.0",
            "_view_name": "LayoutView",
            "align_content": null,
            "align_items": null,
            "align_self": null,
            "border": null,
            "bottom": null,
            "display": null,
            "flex": null,
            "flex_flow": null,
            "grid_area": null,
            "grid_auto_columns": null,
            "grid_auto_flow": null,
            "grid_auto_rows": null,
            "grid_column": null,
            "grid_gap": null,
            "grid_row": null,
            "grid_template_areas": null,
            "grid_template_columns": null,
            "grid_template_rows": null,
            "height": null,
            "justify_content": null,
            "justify_items": null,
            "left": null,
            "margin": null,
            "max_height": null,
            "max_width": null,
            "min_height": null,
            "min_width": null,
            "object_fit": null,
            "object_position": null,
            "order": null,
            "overflow": null,
            "overflow_x": null,
            "overflow_y": null,
            "padding": null,
            "right": null,
            "top": null,
            "visibility": null,
            "width": null
          }
        },
        "aaf54c13abe94d52aa533aa0c1bbdadf": {
          "model_module": "@jupyter-widgets/controls",
          "model_name": "ProgressStyleModel",
          "model_module_version": "1.5.0",
          "state": {
            "_model_module": "@jupyter-widgets/controls",
            "_model_module_version": "1.5.0",
            "_model_name": "ProgressStyleModel",
            "_view_count": null,
            "_view_module": "@jupyter-widgets/base",
            "_view_module_version": "1.2.0",
            "_view_name": "StyleView",
            "bar_color": null,
            "description_width": ""
          }
        },
        "8f069e7c90c64dab92dee1026dbce9f6": {
          "model_module": "@jupyter-widgets/base",
          "model_name": "LayoutModel",
          "model_module_version": "1.2.0",
          "state": {
            "_model_module": "@jupyter-widgets/base",
            "_model_module_version": "1.2.0",
            "_model_name": "LayoutModel",
            "_view_count": null,
            "_view_module": "@jupyter-widgets/base",
            "_view_module_version": "1.2.0",
            "_view_name": "LayoutView",
            "align_content": null,
            "align_items": null,
            "align_self": null,
            "border": null,
            "bottom": null,
            "display": null,
            "flex": null,
            "flex_flow": null,
            "grid_area": null,
            "grid_auto_columns": null,
            "grid_auto_flow": null,
            "grid_auto_rows": null,
            "grid_column": null,
            "grid_gap": null,
            "grid_row": null,
            "grid_template_areas": null,
            "grid_template_columns": null,
            "grid_template_rows": null,
            "height": null,
            "justify_content": null,
            "justify_items": null,
            "left": null,
            "margin": null,
            "max_height": null,
            "max_width": null,
            "min_height": null,
            "min_width": null,
            "object_fit": null,
            "object_position": null,
            "order": null,
            "overflow": null,
            "overflow_x": null,
            "overflow_y": null,
            "padding": null,
            "right": null,
            "top": null,
            "visibility": null,
            "width": null
          }
        },
        "47dba38ffa1c4a82aa4c69c19ffbb326": {
          "model_module": "@jupyter-widgets/controls",
          "model_name": "DescriptionStyleModel",
          "model_module_version": "1.5.0",
          "state": {
            "_model_module": "@jupyter-widgets/controls",
            "_model_module_version": "1.5.0",
            "_model_name": "DescriptionStyleModel",
            "_view_count": null,
            "_view_module": "@jupyter-widgets/base",
            "_view_module_version": "1.2.0",
            "_view_name": "StyleView",
            "description_width": ""
          }
        }
      }
    }
  },
  "nbformat": 4,
  "nbformat_minor": 0
}